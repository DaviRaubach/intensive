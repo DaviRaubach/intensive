{
 "cells": [
  {
   "cell_type": "markdown",
   "metadata": {},
   "source": [
    "# A Bottom-up Approach to Complex Rhythms"
   ]
  },
  {
   "cell_type": "code",
   "execution_count": 10,
   "metadata": {},
   "outputs": [
    {
     "name": "stdout",
     "output_type": "stream",
     "text": [
      "The abjad.ext.ipython extension is already loaded. To reload it, use:\n",
      "  %reload_ext abjad.ext.ipython\n"
     ]
    }
   ],
   "source": [
    "%load_ext abjad.ext.ipython\n",
    "import abjad"
   ]
  },
  {
   "cell_type": "markdown",
   "metadata": {},
   "source": [
    "# Tuplets"
   ]
  },
  {
   "cell_type": "markdown",
   "metadata": {},
   "source": [
    "Use the `Tuplet` class to make tuplets (of any non-binary division). The Tuplet class provides an interface for working with complex rhythms in a bottom-up way:"
   ]
  },
  {
   "cell_type": "code",
   "execution_count": 11,
   "metadata": {
    "collapsed": true
   },
   "outputs": [],
   "source": [
    "tuplet = abjad.Tuplet(abjad.Multiplier(2, 3), \"c'8 d'8 e'8\")"
   ]
  },
  {
   "cell_type": "code",
   "execution_count": 14,
   "metadata": {},
   "outputs": [],
   "source": [
    "abjad.f(tuplet)"
   ]
  },
  {
   "cell_type": "markdown",
   "metadata": {},
   "source": [
    "You can also pack existing leaves into a Tuplet instance."
   ]
  },
  {
   "cell_type": "code",
   "execution_count": 15,
   "metadata": {
    "collapsed": true
   },
   "outputs": [],
   "source": [
    "leaves = [abjad.Note(\"fs'8\"), abjad.Note(\"g'8\"), abjad.Rest('r8')]"
   ]
  },
  {
   "cell_type": "code",
   "execution_count": 6,
   "metadata": {
    "collapsed": true
   },
   "outputs": [],
   "source": [
    "tuplet = abjad.Tuplet(abjad.Multiplier(2, 3), leaves)"
   ]
  },
  {
   "cell_type": "code",
   "execution_count": 17,
   "metadata": {},
   "outputs": [
    {
     "name": "stdout",
     "output_type": "stream",
     "text": [
      "\\times 2/3 {\n",
      "    c'8\n",
      "    d'8\n",
      "    e'8\n",
      "}\n"
     ]
    }
   ],
   "source": [
    "abjad.f(tuplet)"
   ]
  },
  {
   "cell_type": "markdown",
   "metadata": {},
   "source": [
    "Tuplet instances all have a multiplier and components."
   ]
  },
  {
   "cell_type": "code",
   "execution_count": 18,
   "metadata": {},
   "outputs": [
    {
     "data": {
      "text/plain": [
       "Tuplet(Multiplier(2, 3), \"c'8 d'8 e'8\")"
      ]
     },
     "execution_count": 18,
     "metadata": {},
     "output_type": "execute_result"
    }
   ],
   "source": [
    "tuplet"
   ]
  },
  {
   "cell_type": "markdown",
   "metadata": {},
   "source": [
    "## Understanding Augmentation and Diminution"
   ]
  },
  {
   "cell_type": "markdown",
   "metadata": {},
   "source": [
    "Remember that any tuplet can be represented as an augmentation or a diminution relative to the written notes' default values. Our example tuplet's multiplier of (2,3) for three eighth notes means that each written eighth note lasts for 2/3rds its written value. Because the original durations have been reduced, this is a diminution:"
   ]
  },
  {
   "cell_type": "code",
   "execution_count": 19,
   "metadata": {},
   "outputs": [
    {
     "data": {
      "text/plain": [
       "True"
      ]
     },
     "execution_count": 19,
     "metadata": {},
     "output_type": "execute_result"
    }
   ],
   "source": [
    "tuplet.is_diminution"
   ]
  },
  {
   "cell_type": "markdown",
   "metadata": {},
   "source": [
    "A tuplet with a multiplier greater than 1, on the other hand, would be an augmentation:"
   ]
  },
  {
   "cell_type": "code",
   "execution_count": 20,
   "metadata": {
    "collapsed": true
   },
   "outputs": [],
   "source": [
    "tuplet = abjad.Tuplet((4,3), \"fs'16 g'16 r16\")"
   ]
  },
  {
   "cell_type": "code",
   "execution_count": 21,
   "metadata": {},
   "outputs": [
    {
     "name": "stdout",
     "output_type": "stream",
     "text": [
      "\\tweak text #tuplet-number::calc-fraction-text\n",
      "\\times 4/3 {\n",
      "    fs'16\n",
      "    g'16\n",
      "    r16\n",
      "}\n"
     ]
    }
   ],
   "source": [
    "abjad.f(tuplet)\n"
   ]
  },
  {
   "cell_type": "markdown",
   "metadata": {},
   "source": [
    "This last tuplet is an augmentation in which each of the written sixteenth notes lasts for 4/3rds of its written duration. The sounding result would be identical, and these are just two ways of writing the same thing, the former of which happens to be conventional."
   ]
  },
  {
   "cell_type": "markdown",
   "metadata": {},
   "source": [
    "Remember that object-oriented programming gives us objects with characteristics and behaviors. We can use the dot-chaining syntax to read and write the tuplet's multiplier attribute:"
   ]
  },
  {
   "cell_type": "code",
   "execution_count": 22,
   "metadata": {
    "collapsed": true
   },
   "outputs": [],
   "source": [
    "tuplet = abjad.Tuplet(abjad.Multiplier(2, 3), \"fs'8 g' r8\")"
   ]
  },
  {
   "cell_type": "code",
   "execution_count": 23,
   "metadata": {},
   "outputs": [
    {
     "data": {
      "text/plain": [
       "Multiplier(2, 3)"
      ]
     },
     "execution_count": 23,
     "metadata": {},
     "output_type": "execute_result"
    }
   ],
   "source": [
    "tuplet.multiplier"
   ]
  },
  {
   "cell_type": "code",
   "execution_count": 24,
   "metadata": {
    "collapsed": true
   },
   "outputs": [],
   "source": [
    "tuplet.multiplier = abjad.Multiplier(4, 5)"
   ]
  },
  {
   "cell_type": "code",
   "execution_count": 25,
   "metadata": {},
   "outputs": [
    {
     "data": {
      "text/plain": [
       "Tuplet(Multiplier(4, 5), \"fs'8 g'8 r8\")"
      ]
     },
     "execution_count": 25,
     "metadata": {},
     "output_type": "execute_result"
    }
   ],
   "source": [
    "tuplet"
   ]
  },
  {
   "cell_type": "code",
   "execution_count": 26,
   "metadata": {},
   "outputs": [
    {
     "name": "stdout",
     "output_type": "stream",
     "text": [
      "\\tweak edge-height #'(0.7 . 0)\n",
      "\\times 4/5 {\n",
      "    fs'8\n",
      "    g'8\n",
      "    r8\n",
      "}\n"
     ]
    }
   ],
   "source": [
    "abjad.f(tuplet)"
   ]
  },
  {
   "cell_type": "markdown",
   "metadata": {},
   "source": [
    "## Adding Leaves"
   ]
  },
  {
   "cell_type": "markdown",
   "metadata": {},
   "source": [
    "The multiplier is a reasonable characteristic for our tuplet to have, but what about behaviors? Well, you probably want to be able to build up tuplets by adding leaves to them, one or several a time. The append method adds leaves to the end of a tuplet (and to any Python list), one leaf at a time:"
   ]
  },
  {
   "cell_type": "code",
   "execution_count": 27,
   "metadata": {
    "collapsed": true
   },
   "outputs": [],
   "source": [
    "tuplet.append(abjad.Note(\"e'4.\"))"
   ]
  },
  {
   "cell_type": "code",
   "execution_count": 29,
   "metadata": {},
   "outputs": [
    {
     "name": "stdout",
     "output_type": "stream",
     "text": [
      "\\tweak edge-height #'(0.7 . 0)\n",
      "\\times 4/5 {\n",
      "    fs'8\n",
      "    g'8\n",
      "    r8\n",
      "    e'4.\n",
      "}\n"
     ]
    }
   ],
   "source": [
    "abjad.f(tuplet)"
   ]
  },
  {
   "cell_type": "markdown",
   "metadata": {},
   "source": [
    "...or using a LilyPond string:"
   ]
  },
  {
   "cell_type": "code",
   "execution_count": 30,
   "metadata": {
    "collapsed": true
   },
   "outputs": [],
   "source": [
    "tuplet.append(\"bf8\")"
   ]
  },
  {
   "cell_type": "code",
   "execution_count": 32,
   "metadata": {},
   "outputs": [
    {
     "name": "stdout",
     "output_type": "stream",
     "text": [
      "\\tweak edge-height #'(0.7 . 0)\n",
      "\\times 4/5 {\n",
      "    fs'8\n",
      "    g'8\n",
      "    r8\n",
      "    e'4.\n",
      "    bf8\n",
      "}\n"
     ]
    }
   ],
   "source": [
    "abjad.f(tuplet)"
   ]
  },
  {
   "cell_type": "markdown",
   "metadata": {},
   "source": [
    "Likewise, the extend method adds two or more leaves at a time:"
   ]
  },
  {
   "cell_type": "code",
   "execution_count": 33,
   "metadata": {
    "collapsed": true
   },
   "outputs": [],
   "source": [
    "notes = [abjad.Note(\"fs'32\"), abjad.Note(\"e'32\"), abjad.Note(\"d'32\"), abjad.Rest((1, 32))]"
   ]
  },
  {
   "cell_type": "code",
   "execution_count": 34,
   "metadata": {
    "collapsed": true
   },
   "outputs": [],
   "source": [
    "tuplet.extend(notes)"
   ]
  },
  {
   "cell_type": "code",
   "execution_count": 35,
   "metadata": {},
   "outputs": [
    {
     "name": "stdout",
     "output_type": "stream",
     "text": [
      "\\tweak edge-height #'(0.7 . 0)\n",
      "\\times 4/5 {\n",
      "    fs'8\n",
      "    g'8\n",
      "    r8\n",
      "    e'4.\n",
      "    bf8\n",
      "    fs'32\n",
      "    e'32\n",
      "    d'32\n",
      "    r32\n",
      "}\n"
     ]
    }
   ],
   "source": [
    "abjad.f(tuplet)"
   ]
  },
  {
   "cell_type": "markdown",
   "metadata": {},
   "source": [
    "And you can use a LilyPond string with extend, too:"
   ]
  },
  {
   "cell_type": "code",
   "execution_count": 36,
   "metadata": {
    "collapsed": true
   },
   "outputs": [],
   "source": [
    "tuplet.extend(\"gs'8 a8\")"
   ]
  },
  {
   "cell_type": "code",
   "execution_count": 37,
   "metadata": {},
   "outputs": [
    {
     "name": "stdout",
     "output_type": "stream",
     "text": [
      "\\times 4/5 {\n",
      "    fs'8\n",
      "    g'8\n",
      "    r8\n",
      "    e'4.\n",
      "    bf8\n",
      "    fs'32\n",
      "    e'32\n",
      "    d'32\n",
      "    r32\n",
      "    gs'8\n",
      "    a8\n",
      "}\n"
     ]
    }
   ],
   "source": [
    "abjad.f(tuplet)"
   ]
  },
  {
   "cell_type": "markdown",
   "metadata": {},
   "source": [
    "## Removing Leaves"
   ]
  },
  {
   "cell_type": "markdown",
   "metadata": {},
   "source": [
    "You can remove tuplet components by reference using the remove method:"
   ]
  },
  {
   "cell_type": "code",
   "execution_count": 38,
   "metadata": {
    "collapsed": true
   },
   "outputs": [],
   "source": [
    "tuplet.remove(tuplet[3])"
   ]
  },
  {
   "cell_type": "code",
   "execution_count": 39,
   "metadata": {},
   "outputs": [
    {
     "name": "stdout",
     "output_type": "stream",
     "text": [
      "\\tweak edge-height #'(0.7 . 0)\n",
      "\\times 4/5 {\n",
      "    fs'8\n",
      "    g'8\n",
      "    r8\n",
      "    bf8\n",
      "    fs'32\n",
      "    e'32\n",
      "    d'32\n",
      "    r32\n",
      "    gs'8\n",
      "    a8\n",
      "}\n"
     ]
    }
   ],
   "source": [
    "abjad.f(tuplet)"
   ]
  },
  {
   "cell_type": "markdown",
   "metadata": {},
   "source": [
    "If you want to remove a component by index and then keep it to do something else with it, use the pop method instead of remove:"
   ]
  },
  {
   "cell_type": "code",
   "execution_count": 40,
   "metadata": {
    "collapsed": true
   },
   "outputs": [],
   "source": [
    "popped = tuplet.pop(2)"
   ]
  },
  {
   "cell_type": "code",
   "execution_count": 41,
   "metadata": {},
   "outputs": [
    {
     "name": "stdout",
     "output_type": "stream",
     "text": [
      "\\tweak edge-height #'(0.7 . 0)\n",
      "\\times 4/5 {\n",
      "    fs'8\n",
      "    g'8\n",
      "    bf8\n",
      "    fs'32\n",
      "    e'32\n",
      "    d'32\n",
      "    r32\n",
      "    gs'8\n",
      "    a8\n",
      "}\n"
     ]
    }
   ],
   "source": [
    "abjad.f(tuplet)"
   ]
  },
  {
   "cell_type": "markdown",
   "metadata": {},
   "source": [
    "## Indexing Leaves"
   ]
  },
  {
   "cell_type": "markdown",
   "metadata": {},
   "source": [
    "Tuplets support indexing, if you'd like to do something to the nth component of a tuplet:"
   ]
  },
  {
   "cell_type": "code",
   "execution_count": 42,
   "metadata": {},
   "outputs": [
    {
     "data": {
      "text/plain": [
       "Note(\"g'8\")"
      ]
     },
     "execution_count": 42,
     "metadata": {},
     "output_type": "execute_result"
    }
   ],
   "source": [
    "tuplet[1]"
   ]
  },
  {
   "cell_type": "markdown",
   "metadata": {},
   "source": [
    "If you've added an existing list to a tuplet's components, and you'd like to see where a component of that list is in the tuplet, you can use the tuplet's index method - in our case, we'll use our notes list from above:"
   ]
  },
  {
   "cell_type": "code",
   "execution_count": 43,
   "metadata": {},
   "outputs": [
    {
     "data": {
      "text/plain": [
       "[Note(\"fs'32\"), Note(\"e'32\"), Note(\"d'32\"), Rest('r32')]"
      ]
     },
     "execution_count": 43,
     "metadata": {},
     "output_type": "execute_result"
    }
   ],
   "source": [
    "notes"
   ]
  },
  {
   "cell_type": "code",
   "execution_count": 44,
   "metadata": {},
   "outputs": [
    {
     "data": {
      "text/plain": [
       "Note(\"e'32\")"
      ]
     },
     "execution_count": 44,
     "metadata": {},
     "output_type": "execute_result"
    }
   ],
   "source": [
    "notes[1]"
   ]
  },
  {
   "cell_type": "code",
   "execution_count": 45,
   "metadata": {
    "scrolled": true
   },
   "outputs": [
    {
     "data": {
      "text/plain": [
       "4"
      ]
     },
     "execution_count": 45,
     "metadata": {},
     "output_type": "execute_result"
    }
   ],
   "source": [
    "tuplet.index(notes[1]) # Where is the second element of notes in tuplet?"
   ]
  },
  {
   "cell_type": "code",
   "execution_count": 46,
   "metadata": {},
   "outputs": [
    {
     "name": "stdout",
     "output_type": "stream",
     "text": [
      "\\tweak edge-height #'(0.7 . 0)\n",
      "\\times 4/5 {\n",
      "    fs'8\n",
      "    g'8\n",
      "    bf8\n",
      "    fs'32\n",
      "    e'32\n",
      "    d'32\n",
      "    r32\n",
      "    gs'8\n",
      "    a8\n",
      "}\n"
     ]
    }
   ],
   "source": [
    "abjad.f(tuplet) # it's at index 4"
   ]
  },
  {
   "cell_type": "markdown",
   "metadata": {},
   "source": [
    "## Making Tuplets from Durations and Ratios"
   ]
  },
  {
   "cell_type": "markdown",
   "metadata": {},
   "source": [
    "The Tuplet class also provides a method for constructing a tuplet from a duration and a ratio, where the ratio is a list of integers, the sum of which determines the number of equally spaced pulses within the duration:"
   ]
  },
  {
   "cell_type": "code",
   "execution_count": 47,
   "metadata": {
    "collapsed": true
   },
   "outputs": [],
   "source": [
    "tuplet = abjad.Tuplet.from_duration_and_ratio((1,4), [1,3,1])"
   ]
  },
  {
   "cell_type": "code",
   "execution_count": 48,
   "metadata": {
    "collapsed": true
   },
   "outputs": [],
   "source": [
    "staff = abjad.Staff([tuplet], context_name='RhythmicStaff')"
   ]
  },
  {
   "cell_type": "code",
   "execution_count": 49,
   "metadata": {},
   "outputs": [
    {
     "name": "stdout",
     "output_type": "stream",
     "text": [
      "\\new RhythmicStaff {\n",
      "    \\times 4/5 {\n",
      "        c'16\n",
      "        c'8.\n",
      "        c'16\n",
      "    }\n",
      "}\n"
     ]
    }
   ],
   "source": [
    "abjad.f(staff)"
   ]
  },
  {
   "cell_type": "markdown",
   "metadata": {},
   "source": [
    "This might not seem like much, but we can write functions that use these kinds of basic functionalities to do more complicated things, like we'll do in this next example, taken from a real score:"
   ]
  },
  {
   "cell_type": "markdown",
   "metadata": {},
   "source": [
    "# Brian Ferneyhough - Unsichtbare Farben "
   ]
  },
  {
   "cell_type": "markdown",
   "metadata": {},
   "source": [
    "Mikhial Malt analyzes the rhythmic materials of Ferneyhough’s solo violin composition, Unsichtbare Farben, in The OM Composer’s Book 2.\n",
    "\n",
    "Malt explains that Ferneyhough used OpenMusic to create an “exhaustive catalogue of rhythmic cells” such that:\n",
    "\n",
    "Each cell consists of the same duration divided into two pulses related by a durational proportion ranging from 1:1 to 1:11.\n",
    "\n",
    "The second pulse is then subdivided successively into 1, 2, 3, 4, 5 and 6 equal parts.\n",
    "\n",
    "Let’s recreate Malt’s results in Abjad."
   ]
  },
  {
   "cell_type": "markdown",
   "metadata": {},
   "source": [
    "## The Proportions "
   ]
  },
  {
   "cell_type": "markdown",
   "metadata": {},
   "source": [
    "We use a list comprehension to describe a list of (1,n) tuples, each of which will describe the durational proportion between a cell's first and second pulse:"
   ]
  },
  {
   "cell_type": "code",
   "execution_count": 50,
   "metadata": {
    "collapsed": true
   },
   "outputs": [],
   "source": [
    "proportions = [(1, n) for n in range(1, 11 + 1)]"
   ]
  },
  {
   "cell_type": "code",
   "execution_count": 51,
   "metadata": {},
   "outputs": [
    {
     "data": {
      "text/plain": [
       "[(1, 1),\n",
       " (1, 2),\n",
       " (1, 3),\n",
       " (1, 4),\n",
       " (1, 5),\n",
       " (1, 6),\n",
       " (1, 7),\n",
       " (1, 8),\n",
       " (1, 9),\n",
       " (1, 10),\n",
       " (1, 11)]"
      ]
     },
     "execution_count": 51,
     "metadata": {},
     "output_type": "execute_result"
    }
   ],
   "source": [
    "proportions"
   ]
  },
  {
   "cell_type": "markdown",
   "metadata": {},
   "source": [
    "## The Transforms"
   ]
  },
  {
   "cell_type": "markdown",
   "metadata": {},
   "source": [
    "Next we’ll show how to divide a quarter note into various ratios, and then divide the final logical tie of the resulting tuplet into yet another ratio:"
   ]
  },
  {
   "cell_type": "code",
   "execution_count": 52,
   "metadata": {
    "collapsed": true
   },
   "outputs": [],
   "source": [
    "def make_nested_tuplet(\n",
    "    tuplet_duration,\n",
    "    outer_tuplet_proportions,\n",
    "    inner_tuplet_subdivision_count,\n",
    "    ):\n",
    "    r'''Makes nested tuplet.\n",
    "    '''\n",
    "\n",
    "    outer_tuplet = abjad.Tuplet.from_duration_and_ratio(\n",
    "        tuplet_duration, outer_tuplet_proportions)\n",
    "    inner_tuplet_proportions = inner_tuplet_subdivision_count * [1]\n",
    "    last_leaf = next(abjad.iterate(outer_tuplet).by_leaf())\n",
    "    right_logical_tie = abjad.inspect(last_leaf).get_logical_tie()\n",
    "    right_logical_tie.to_tuplet(inner_tuplet_proportions)\n",
    "    return outer_tuplet"
   ]
  },
  {
   "cell_type": "markdown",
   "metadata": {},
   "source": [
    "And of course it's easier to see what this function does with an example of use:"
   ]
  },
  {
   "cell_type": "code",
   "execution_count": 53,
   "metadata": {
    "collapsed": true
   },
   "outputs": [],
   "source": [
    "tuplet = make_nested_tuplet(abjad.Duration(1, 4), (1, 1), 5)"
   ]
  },
  {
   "cell_type": "code",
   "execution_count": 54,
   "metadata": {
    "collapsed": true
   },
   "outputs": [],
   "source": [
    "staff = abjad.Staff([tuplet], context_name='RhythmicStaff')"
   ]
  },
  {
   "cell_type": "code",
   "execution_count": 55,
   "metadata": {},
   "outputs": [
    {
     "name": "stdout",
     "output_type": "stream",
     "text": [
      "\\new RhythmicStaff {\n",
      "    {\n",
      "        \\times 4/5 {\n",
      "            c'32\n",
      "            c'32\n",
      "            c'32\n",
      "            c'32\n",
      "            c'32\n",
      "        }\n",
      "        c'8\n",
      "    }\n",
      "}\n"
     ]
    }
   ],
   "source": [
    "abjad.f(staff)"
   ]
  },
  {
   "cell_type": "markdown",
   "metadata": {},
   "source": [
    "We see that a duration of a quarter note (the first argument) has been divided into two pulses with a durational proportion of 1:1 (second argument), the second pulse of which has then been divided into five equally spaced parts (the third argument). Try changing the arguments and see what happens."
   ]
  },
  {
   "cell_type": "code",
   "execution_count": 56,
   "metadata": {
    "collapsed": true
   },
   "outputs": [],
   "source": [
    "tuplet = make_nested_tuplet(abjad.Duration(1, 4), (2, 1), 5)"
   ]
  },
  {
   "cell_type": "code",
   "execution_count": 57,
   "metadata": {
    "collapsed": true
   },
   "outputs": [],
   "source": [
    "staff = abjad.Staff([tuplet], context_name='RhythmicStaff')"
   ]
  },
  {
   "cell_type": "code",
   "execution_count": 58,
   "metadata": {},
   "outputs": [
    {
     "name": "stdout",
     "output_type": "stream",
     "text": [
      "\\new RhythmicStaff {\n",
      "    \\times 2/3 {\n",
      "        \\times 4/5 {\n",
      "            c'16\n",
      "            c'16\n",
      "            c'16\n",
      "            c'16\n",
      "            c'16\n",
      "        }\n",
      "        c'8\n",
      "    }\n",
      "}\n"
     ]
    }
   ],
   "source": [
    "abjad.f(staff)"
   ]
  },
  {
   "cell_type": "code",
   "execution_count": 59,
   "metadata": {
    "collapsed": true
   },
   "outputs": [],
   "source": [
    "tuplet = make_nested_tuplet(abjad.Duration(1, 4), (3, 1), 5)"
   ]
  },
  {
   "cell_type": "code",
   "execution_count": 60,
   "metadata": {
    "collapsed": true
   },
   "outputs": [],
   "source": [
    "staff = abjad.Staff([tuplet], context_name='RhythmicStaff')"
   ]
  },
  {
   "cell_type": "code",
   "execution_count": 61,
   "metadata": {},
   "outputs": [
    {
     "name": "stdout",
     "output_type": "stream",
     "text": [
      "\\new RhythmicStaff {\n",
      "    {\n",
      "        \\tweak text #tuplet-number::calc-fraction-text\n",
      "        \\times 3/5 {\n",
      "            c'16\n",
      "            c'16\n",
      "            c'16\n",
      "            c'16\n",
      "            c'16\n",
      "        }\n",
      "        c'16\n",
      "    }\n",
      "}\n"
     ]
    }
   ],
   "source": [
    "abjad.f(staff)"
   ]
  },
  {
   "cell_type": "markdown",
   "metadata": {},
   "source": [
    "### Logical Ties Solve the Problem of Five"
   ]
  },
  {
   "cell_type": "markdown",
   "metadata": {},
   "source": [
    "A logical tie is a selection of notes or chords connected by ties. It lets us talk about a notated rhythm of 5/16, for example, which can not be expressed with only a single leaf.\n",
    "\n",
    "Note how we can divide a tuplet whose outer proportions are 3/5, where the second logical tie requires two notes to express the 5/16 duration:"
   ]
  },
  {
   "cell_type": "code",
   "execution_count": 62,
   "metadata": {
    "collapsed": true
   },
   "outputs": [],
   "source": [
    "outer_tuplet = abjad.Tuplet.from_duration_and_ratio(abjad.Duration(1, 4), (3, 5))"
   ]
  },
  {
   "cell_type": "code",
   "execution_count": 63,
   "metadata": {
    "collapsed": true
   },
   "outputs": [],
   "source": [
    "staff = abjad.Staff([outer_tuplet], context_name='RhythmicStaff')"
   ]
  },
  {
   "cell_type": "code",
   "execution_count": 64,
   "metadata": {},
   "outputs": [
    {
     "name": "stdout",
     "output_type": "stream",
     "text": [
      "\\new RhythmicStaff {\n",
      "    {\n",
      "        c'16.\n",
      "        c'8 ~\n",
      "        c'32\n",
      "    }\n",
      "}\n"
     ]
    }
   ],
   "source": [
    "abjad.f(staff)"
   ]
  },
  {
   "cell_type": "code",
   "execution_count": 65,
   "metadata": {
    "collapsed": true
   },
   "outputs": [],
   "source": [
    "subdivided_tuplet = make_nested_tuplet(abjad.Duration(1, 4), (3, 5), 3)"
   ]
  },
  {
   "cell_type": "code",
   "execution_count": 66,
   "metadata": {
    "collapsed": true
   },
   "outputs": [],
   "source": [
    "staff = abjad.Staff([subdivided_tuplet], context_name='RhythmicStaff')"
   ]
  },
  {
   "cell_type": "code",
   "execution_count": 67,
   "metadata": {},
   "outputs": [
    {
     "name": "stdout",
     "output_type": "stream",
     "text": [
      "\\new RhythmicStaff {\n",
      "    {\n",
      "        {\n",
      "            c'32\n",
      "            c'32\n",
      "            c'32\n",
      "        }\n",
      "        c'8 ~\n",
      "        c'32\n",
      "    }\n",
      "}\n"
     ]
    }
   ],
   "source": [
    "abjad.f(staff)"
   ]
  },
  {
   "cell_type": "markdown",
   "metadata": {},
   "source": [
    "Do you see which objects and methods in our make_nested_tuplet function convert a logical tie into a tuplet?"
   ]
  },
  {
   "cell_type": "markdown",
   "metadata": {},
   "source": [
    "## The Rhythms"
   ]
  },
  {
   "cell_type": "markdown",
   "metadata": {},
   "source": [
    "Now that we know how to make the basic building block, let’s make a lot of tuplets all at once.\n",
    "\n",
    "We’ll set the duration of each tuplet equal to a quarter note:"
   ]
  },
  {
   "cell_type": "code",
   "execution_count": 68,
   "metadata": {
    "collapsed": true
   },
   "outputs": [],
   "source": [
    "duration = abjad.Fraction(1,4)"
   ]
  },
  {
   "cell_type": "markdown",
   "metadata": {},
   "source": [
    "Reusing our make_nested_tuplet function, we make one row of rhythms, with the last logical tie increasingly subdivided:"
   ]
  },
  {
   "cell_type": "code",
   "execution_count": 69,
   "metadata": {
    "collapsed": true
   },
   "outputs": [],
   "source": [
    "def make_row_of_nested_tuplets(\n",
    "    tuplet_duration,\n",
    "    outer_tuplet_proportions,\n",
    "    column_count,\n",
    "    ):\n",
    "    r'''Makes row of nested tuplets.\n",
    "    '''\n",
    "\n",
    "    assert 0 < column_count\n",
    "    row_of_nested_tuplets = []\n",
    "    for n in range(column_count):\n",
    "        inner_tuplet_subdivision_count = n + 1\n",
    "        nested_tuplet = make_nested_tuplet(\n",
    "            tuplet_duration,\n",
    "            outer_tuplet_proportions,\n",
    "            inner_tuplet_subdivision_count,\n",
    "            )\n",
    "        row_of_nested_tuplets.append(nested_tuplet)\n",
    "    return row_of_nested_tuplets"
   ]
  },
  {
   "cell_type": "code",
   "execution_count": 70,
   "metadata": {
    "collapsed": true
   },
   "outputs": [],
   "source": [
    "tuplets = make_row_of_nested_tuplets(duration, (2, 1), 6)"
   ]
  },
  {
   "cell_type": "code",
   "execution_count": 71,
   "metadata": {
    "collapsed": true
   },
   "outputs": [],
   "source": [
    "staff = abjad.Staff(tuplets, context_name='RhythmicStaff')"
   ]
  },
  {
   "cell_type": "code",
   "execution_count": 72,
   "metadata": {},
   "outputs": [
    {
     "name": "stdout",
     "output_type": "stream",
     "text": [
      "\\new RhythmicStaff {\n",
      "    \\times 2/3 {\n",
      "        {\n",
      "            c'4\n",
      "        }\n",
      "        c'8\n",
      "    }\n",
      "    \\times 2/3 {\n",
      "        {\n",
      "            c'8\n",
      "            c'8\n",
      "        }\n",
      "        c'8\n",
      "    }\n",
      "    \\times 2/3 {\n",
      "        \\times 2/3 {\n",
      "            c'8\n",
      "            c'8\n",
      "            c'8\n",
      "        }\n",
      "        c'8\n",
      "    }\n",
      "    \\times 2/3 {\n",
      "        {\n",
      "            c'16\n",
      "            c'16\n",
      "            c'16\n",
      "            c'16\n",
      "        }\n",
      "        c'8\n",
      "    }\n",
      "    \\times 2/3 {\n",
      "        \\times 4/5 {\n",
      "            c'16\n",
      "            c'16\n",
      "            c'16\n",
      "            c'16\n",
      "            c'16\n",
      "        }\n",
      "        c'8\n",
      "    }\n",
      "    \\times 2/3 {\n",
      "        \\times 2/3 {\n",
      "            c'16\n",
      "            c'16\n",
      "            c'16\n",
      "            c'16\n",
      "            c'16\n",
      "            c'16\n",
      "        }\n",
      "        c'8\n",
      "    }\n",
      "}\n"
     ]
    }
   ],
   "source": [
    "abjad.f(staff)"
   ]
  },
  {
   "cell_type": "markdown",
   "metadata": {},
   "source": [
    "If we can make one single row of rhythms, we can make many rows of rhythms. We reuse this last function to make another function:"
   ]
  },
  {
   "cell_type": "code",
   "execution_count": 73,
   "metadata": {
    "collapsed": true
   },
   "outputs": [],
   "source": [
    "def make_rows_of_nested_tuplets(tuplet_duration, row_count, column_count):\n",
    "    r'''Makes rows of nested tuplets.\n",
    "    '''\n",
    "\n",
    "    assert 0 < row_count\n",
    "    rows_of_nested_tuplets = []\n",
    "    for n in range(row_count):\n",
    "        outer_tuplet_proportions = (1, n + 1)\n",
    "        row_of_nested_tuplets = make_row_of_nested_tuplets(\n",
    "            tuplet_duration, outer_tuplet_proportions, column_count)\n",
    "        rows_of_nested_tuplets.append(row_of_nested_tuplets)\n",
    "    return rows_of_nested_tuplets"
   ]
  },
  {
   "cell_type": "code",
   "execution_count": 74,
   "metadata": {
    "collapsed": true
   },
   "outputs": [],
   "source": [
    "score = abjad.Score()"
   ]
  },
  {
   "cell_type": "code",
   "execution_count": 75,
   "metadata": {
    "collapsed": true
   },
   "outputs": [],
   "source": [
    "for tuplet_row in make_rows_of_nested_tuplets(duration, 4, 6):\n",
    "    score.append(abjad.Staff(tuplet_row, context_name='RhythmicStaff'))"
   ]
  },
  {
   "cell_type": "code",
   "execution_count": 76,
   "metadata": {},
   "outputs": [
    {
     "name": "stdout",
     "output_type": "stream",
     "text": [
      "\\new Score <<\n",
      "    \\new RhythmicStaff {\n",
      "        {\n",
      "            {\n",
      "                c'8\n",
      "            }\n",
      "            c'8\n",
      "        }\n",
      "        {\n",
      "            {\n",
      "                c'16\n",
      "                c'16\n",
      "            }\n",
      "            c'8\n",
      "        }\n",
      "        {\n",
      "            \\times 2/3 {\n",
      "                c'16\n",
      "                c'16\n",
      "                c'16\n",
      "            }\n",
      "            c'8\n",
      "        }\n",
      "        {\n",
      "            {\n",
      "                c'32\n",
      "                c'32\n",
      "                c'32\n",
      "                c'32\n",
      "            }\n",
      "            c'8\n",
      "        }\n",
      "        {\n",
      "            \\times 4/5 {\n",
      "                c'32\n",
      "                c'32\n",
      "                c'32\n",
      "                c'32\n",
      "                c'32\n",
      "            }\n",
      "            c'8\n",
      "        }\n",
      "        {\n",
      "            \\times 2/3 {\n",
      "                c'32\n",
      "                c'32\n",
      "                c'32\n",
      "                c'32\n",
      "                c'32\n",
      "                c'32\n",
      "            }\n",
      "            c'8\n",
      "        }\n",
      "    }\n",
      "    \\new RhythmicStaff {\n",
      "        \\times 2/3 {\n",
      "            {\n",
      "                c'8\n",
      "            }\n",
      "            c'4\n",
      "        }\n",
      "        \\times 2/3 {\n",
      "            {\n",
      "                c'16\n",
      "                c'16\n",
      "            }\n",
      "            c'4\n",
      "        }\n",
      "        \\times 2/3 {\n",
      "            \\times 2/3 {\n",
      "                c'16\n",
      "                c'16\n",
      "                c'16\n",
      "            }\n",
      "            c'4\n",
      "        }\n",
      "        \\times 2/3 {\n",
      "            {\n",
      "                c'32\n",
      "                c'32\n",
      "                c'32\n",
      "                c'32\n",
      "            }\n",
      "            c'4\n",
      "        }\n",
      "        \\times 2/3 {\n",
      "            \\times 4/5 {\n",
      "                c'32\n",
      "                c'32\n",
      "                c'32\n",
      "                c'32\n",
      "                c'32\n",
      "            }\n",
      "            c'4\n",
      "        }\n",
      "        \\times 2/3 {\n",
      "            \\times 2/3 {\n",
      "                c'32\n",
      "                c'32\n",
      "                c'32\n",
      "                c'32\n",
      "                c'32\n",
      "                c'32\n",
      "            }\n",
      "            c'4\n",
      "        }\n",
      "    }\n",
      "    \\new RhythmicStaff {\n",
      "        {\n",
      "            {\n",
      "                c'16\n",
      "            }\n",
      "            c'8.\n",
      "        }\n",
      "        {\n",
      "            {\n",
      "                c'32\n",
      "                c'32\n",
      "            }\n",
      "            c'8.\n",
      "        }\n",
      "        {\n",
      "            \\times 2/3 {\n",
      "                c'32\n",
      "                c'32\n",
      "                c'32\n",
      "            }\n",
      "            c'8.\n",
      "        }\n",
      "        {\n",
      "            {\n",
      "                c'64\n",
      "                c'64\n",
      "                c'64\n",
      "                c'64\n",
      "            }\n",
      "            c'8.\n",
      "        }\n",
      "        {\n",
      "            \\times 4/5 {\n",
      "                c'64\n",
      "                c'64\n",
      "                c'64\n",
      "                c'64\n",
      "                c'64\n",
      "            }\n",
      "            c'8.\n",
      "        }\n",
      "        {\n",
      "            \\times 2/3 {\n",
      "                c'64\n",
      "                c'64\n",
      "                c'64\n",
      "                c'64\n",
      "                c'64\n",
      "                c'64\n",
      "            }\n",
      "            c'8.\n",
      "        }\n",
      "    }\n",
      "    \\new RhythmicStaff {\n",
      "        \\times 4/5 {\n",
      "            {\n",
      "                c'16\n",
      "            }\n",
      "            c'4\n",
      "        }\n",
      "        \\times 4/5 {\n",
      "            {\n",
      "                c'32\n",
      "                c'32\n",
      "            }\n",
      "            c'4\n",
      "        }\n",
      "        \\times 4/5 {\n",
      "            \\times 2/3 {\n",
      "                c'32\n",
      "                c'32\n",
      "                c'32\n",
      "            }\n",
      "            c'4\n",
      "        }\n",
      "        \\times 4/5 {\n",
      "            {\n",
      "                c'64\n",
      "                c'64\n",
      "                c'64\n",
      "                c'64\n",
      "            }\n",
      "            c'4\n",
      "        }\n",
      "        \\times 4/5 {\n",
      "            \\times 4/5 {\n",
      "                c'64\n",
      "                c'64\n",
      "                c'64\n",
      "                c'64\n",
      "                c'64\n",
      "            }\n",
      "            c'4\n",
      "        }\n",
      "        \\times 4/5 {\n",
      "            \\times 2/3 {\n",
      "                c'64\n",
      "                c'64\n",
      "                c'64\n",
      "                c'64\n",
      "                c'64\n",
      "                c'64\n",
      "            }\n",
      "            c'4\n",
      "        }\n",
      "    }\n",
      ">>\n"
     ]
    }
   ],
   "source": [
    "abjad.f(score)"
   ]
  },
  {
   "cell_type": "markdown",
   "metadata": {},
   "source": [
    "This example illustrates how simpler bottom-up rhythmic construction might be abstracted to explore the potential of a bottom-up rhythmic idea."
   ]
  },
  {
   "cell_type": "markdown",
   "metadata": {},
   "source": [
    "# Meter"
   ]
  },
  {
   "cell_type": "code",
   "execution_count": 77,
   "metadata": {
    "collapsed": true
   },
   "outputs": [],
   "source": [
    "### Chopping Durations with Durations"
   ]
  },
  {
   "cell_type": "markdown",
   "metadata": {},
   "source": [
    "It's easy to make durations that don't neatly fit into a particular time signature:"
   ]
  },
  {
   "cell_type": "code",
   "execution_count": 105,
   "metadata": {},
   "outputs": [
    {
     "name": "stdout",
     "output_type": "stream",
     "text": [
      "\\new Staff {\n",
      "    c'4.\n",
      "    c'4.\n",
      "    c'4.\n",
      "    c'4.\n",
      "    c'4.\n",
      "    c'4.\n",
      "    c'4.\n",
      "    c'4.\n",
      "}\n"
     ]
    }
   ],
   "source": [
    "staff = abjad.Staff(\"c'4. c'4. c'4. c'4. c'4. c'4. c'4. c'4.\")\n",
    "abjad.f(staff)"
   ]
  },
  {
   "cell_type": "markdown",
   "metadata": {},
   "source": [
    "Let's make this metrically legible by chopping the leaves every whole note using `mutate().split()`. \n",
    "\n",
    "Note that this function returns selections full of the kind of component you split: if you want to split leaves in place, pass in `staff[:]`, and if you want to return `Selection`s containing new `Staff`s, pass in `staff`.\n",
    "\n",
    "To keep splitting by the same duration until we get through all of the leaves, set the keyword argument cyclic equal to `True`."
   ]
  },
  {
   "cell_type": "code",
   "execution_count": 106,
   "metadata": {},
   "outputs": [
    {
     "name": "stdout",
     "output_type": "stream",
     "text": [
      "\\new Staff {\n",
      "    c'4.\n",
      "    c'4.\n",
      "    c'4 ~\n",
      "    c'8\n",
      "    c'4.\n",
      "    c'4.\n",
      "    c'8 ~\n",
      "    c'4\n",
      "    c'4.\n",
      "    c'4.\n",
      "}\n"
     ]
    }
   ],
   "source": [
    "abjad.mutate(staff[:]).split([abjad.Duration(4,4)], cyclic=True)\n",
    "abjad.f(staff)"
   ]
  },
  {
   "cell_type": "markdown",
   "metadata": {},
   "source": [
    "This is better -- the music now plays nice with LilyPond's barlines and isn't incorrectly notated -- but in Python, we still don't have any `Measure` objects, and our staff still iterates through leaves:"
   ]
  },
  {
   "cell_type": "code",
   "execution_count": 107,
   "metadata": {},
   "outputs": [
    {
     "name": "stdout",
     "output_type": "stream",
     "text": [
      "c'4.\n",
      "c'4.\n",
      "c'4\n",
      "c'8\n",
      "c'4.\n"
     ]
    }
   ],
   "source": [
    "for leaf in staff[:5]:\n",
    "    print(leaf)"
   ]
  },
  {
   "cell_type": "markdown",
   "metadata": {},
   "source": [
    "What should we do if we want to iterate through our music measure by measure?"
   ]
  },
  {
   "cell_type": "markdown",
   "metadata": {},
   "source": [
    "### Wrapping Leaves in Measures"
   ]
  },
  {
   "cell_type": "markdown",
   "metadata": {},
   "source": [
    "We can create `Measure` objects by wrapping each split `Selection` in a `Measure`:"
   ]
  },
  {
   "cell_type": "code",
   "execution_count": 108,
   "metadata": {},
   "outputs": [
    {
     "name": "stdout",
     "output_type": "stream",
     "text": [
      "\\new Staff {\n",
      "    {\n",
      "        \\time 4/4\n",
      "        c'4.\n",
      "        c'4.\n",
      "        c'4 ~\n",
      "    }\n",
      "    {\n",
      "        c'8\n",
      "        c'4.\n",
      "        c'4.\n",
      "        c'8 ~\n",
      "    }\n",
      "    {\n",
      "        c'4\n",
      "        c'4.\n",
      "        c'4.\n",
      "    }\n",
      "}\n"
     ]
    }
   ],
   "source": [
    "duration = abjad.Duration(4,4)\n",
    "for shard in abjad.mutate(staff[:]).split([duration] , cyclic=True):\n",
    "    abjad.mutate(shard).wrap(abjad.Measure())\n",
    "abjad.f(staff)"
   ]
  },
  {
   "cell_type": "markdown",
   "metadata": {},
   "source": [
    "Now we have measures in our score tree, and our staff will iterate through measures by default."
   ]
  },
  {
   "cell_type": "code",
   "execution_count": 110,
   "metadata": {},
   "outputs": [
    {
     "name": "stdout",
     "output_type": "stream",
     "text": [
      "Measure((4, 4), \"c'4. c'4. c'4 ~\")\n",
      "Measure((4, 4), \"c'8 c'4. c'4. c'8 ~\")\n",
      "Measure((4, 4), \"c'4 c'4. c'4.\")\n"
     ]
    }
   ],
   "source": [
    "for measure in staff:\n",
    "    print(measure)"
   ]
  },
  {
   "cell_type": "markdown",
   "metadata": {},
   "source": [
    "If we want to iterate by leaves, now we need to use `abjad.iterate()`."
   ]
  },
  {
   "cell_type": "code",
   "execution_count": 111,
   "metadata": {},
   "outputs": [
    {
     "name": "stdout",
     "output_type": "stream",
     "text": [
      "c'4.\n",
      "c'4.\n",
      "c'4\n",
      "c'8\n",
      "c'4.\n",
      "c'4.\n",
      "c'8\n",
      "c'4\n",
      "c'4.\n",
      "c'4.\n"
     ]
    }
   ],
   "source": [
    "for leaf in abjad.iterate(staff).by_leaf():\n",
    "    print(leaf)"
   ]
  },
  {
   "cell_type": "markdown",
   "metadata": {},
   "source": [
    "### Rewriting Rhythms with Metric Hierarchies"
   ]
  },
  {
   "cell_type": "markdown",
   "metadata": {},
   "source": [
    "This is looking better, but the internal rhythms of our music still fail to comport with conventions of notation that dictate that we should always show beat three in a measure of (4,4). To do this, we need to impose a hierarchical model of meter onto our music, measure by measure."
   ]
  },
  {
   "cell_type": "code",
   "execution_count": 115,
   "metadata": {},
   "outputs": [
    {
     "name": "stdout",
     "output_type": "stream",
     "text": [
      "\\new Staff {\n",
      "    {\n",
      "        \\time 4/4\n",
      "        c'4.\n",
      "        c'4.\n",
      "        c'4 ~\n",
      "    }\n",
      "    {\n",
      "        c'8\n",
      "        c'4.\n",
      "        c'4.\n",
      "        c'8 ~\n",
      "    }\n",
      "    {\n",
      "        c'4\n",
      "        c'4.\n",
      "        c'4.\n",
      "    }\n",
      "}\n"
     ]
    }
   ],
   "source": [
    "four = abjad.Meter()\n",
    "for measure in staff:\n",
    "    abjad.mutate(measure).rewrite_meter(four)\n",
    "abjad.f(staff)"
   ]
  },
  {
   "cell_type": "markdown",
   "metadata": {},
   "source": [
    "This didn't change anything, because Abjad's default (4,4) hierarchy is just four quarter notes:"
   ]
  },
  {
   "cell_type": "code",
   "execution_count": 116,
   "metadata": {},
   "outputs": [
    {
     "data": {
      "image/png": "[encoded data removed]"
     },
     "metadata": {},
     "output_type": "display_data"
    }
   ],
   "source": [
    "abjad.graph(four)"
   ]
  },
  {
   "cell_type": "markdown",
   "metadata": {},
   "source": [
    "We need to define a custom meter that includes another level of metric hierarchy and rewrite according to that. To do this, we'll use IRCAM's rhythm tree syntax:"
   ]
  },
  {
   "cell_type": "code",
   "execution_count": 119,
   "metadata": {},
   "outputs": [
    {
     "name": "stdout",
     "output_type": "stream",
     "text": [
      "\\new Staff {\n",
      "    {\n",
      "        \\time 4/4\n",
      "        c'4.\n",
      "        c'8 ~\n",
      "        c'4\n",
      "        c'4 ~\n",
      "    }\n",
      "    {\n",
      "        c'8\n",
      "        c'4.\n",
      "        c'4.\n",
      "        c'8 ~\n",
      "    }\n",
      "    {\n",
      "        c'4\n",
      "        c'4 ~\n",
      "        c'8\n",
      "        c'4.\n",
      "    }\n",
      "}\n"
     ]
    }
   ],
   "source": [
    "other_four = abjad.Meter('(4/4 ((2/4 (1/4 1/4)) (2/4 (1/4 1/4)) ))')\n",
    "for measure in staff:\n",
    "    abjad.mutate(measure).rewrite_meter(other_four)\n",
    "abjad.f(staff)"
   ]
  },
  {
   "cell_type": "markdown",
   "metadata": {},
   "source": [
    "This works, because our new meter contains a second level of metric hierarchy."
   ]
  },
  {
   "cell_type": "code",
   "execution_count": 120,
   "metadata": {},
   "outputs": [
    {
     "data": {
      "image/png": "[encoded data removed]"
     },
     "metadata": {},
     "output_type": "display_data"
    }
   ],
   "source": [
    "abjad.graph(other_four)"
   ]
  },
  {
   "cell_type": "markdown",
   "metadata": {},
   "source": [
    "Now you can start to model your metric habits. For further useful customizations, including dot-count, see [`MutationAgent.rewrite_meter()`](http://abjad.mbrsi.org/api/tools/agenttools/MutationAgent.html#abjad.tools.agenttools.MutationAgent.MutationAgent.rewrite_meter)."
   ]
  },
  {
   "cell_type": "code",
   "execution_count": null,
   "metadata": {
    "collapsed": true
   },
   "outputs": [],
   "source": []
  }
 ],
 "metadata": {
  "kernelspec": {
   "display_name": "Python 2",
   "language": "python",
   "name": "python2"
  },
  "language_info": {
   "codemirror_mode": {
    "name": "ipython",
    "version": 3
   },
   "file_extension": ".py",
   "mimetype": "text/x-python",
   "name": "python",
   "nbconvert_exporter": "python",
   "pygments_lexer": "ipython3",
   "version": "3.6.2"
  }
 },
 "nbformat": 4,
 "nbformat_minor": 1
}
