{
 "cells": [
  {
   "cell_type": "markdown",
   "metadata": {},
   "source": [
    "# A Bottom-up Approach to Complex Rhythms"
   ]
  },
  {
   "cell_type": "code",
   "execution_count": 1,
   "metadata": {},
   "outputs": [],
   "source": [
    "%load_ext abjadext.ipython\n",
    "import abjad"
   ]
  },
  {
   "cell_type": "code",
   "execution_count": 2,
   "metadata": {},
   "outputs": [
    {
     "name": "stdout",
     "output_type": "stream",
     "text": [
      "5/2\n",
      "1/2\n",
      "7/8\n",
      "3/4\n",
      "5/2\n",
      "1/2\n",
      "0\n",
      "9/16\n",
      "15/4\n",
      "3/8\n"
     ]
    }
   ],
   "source": [
    "import random\n",
    "durations = []\n",
    "numerators = range(16)\n",
    "denominators = [2**x for x in range(1, 5)]\n",
    "for x in range(10):\n",
    "    numerator = random.choice(numerators)\n",
    "    denominator = random.choice(denominators)\n",
    "    duration_token = (numerator, denominator)\n",
    "    duration = abjad.Duration(duration_token)\n",
    "    durations.append(duration)\n",
    "\n",
    "for d in durations:\n",
    "    print(d)"
   ]
  },
  {
   "cell_type": "markdown",
   "metadata": {},
   "source": [
    "Assignability is a thing:"
   ]
  },
  {
   "cell_type": "code",
   "execution_count": 3,
   "metadata": {},
   "outputs": [
    {
     "ename": "AssignabilityError",
     "evalue": "not assignable duration: Duration(5, 4).",
     "output_type": "error",
     "traceback": [
      "\u001b[0;31m---------------------------------------------------------------------------\u001b[0m",
      "\u001b[0;31mAssignabilityError\u001b[0m                        Traceback (most recent call last)",
      "\u001b[0;32m<ipython-input-3-819c34ecad27>\u001b[0m in \u001b[0;36m<module>\u001b[0;34m\u001b[0m\n\u001b[1;32m      1\u001b[0m \u001b[0mduration\u001b[0m \u001b[0;34m=\u001b[0m \u001b[0mabjad\u001b[0m\u001b[0;34m.\u001b[0m\u001b[0mDuration\u001b[0m\u001b[0;34m(\u001b[0m\u001b[0;36m5\u001b[0m\u001b[0;34m,\u001b[0m\u001b[0;36m4\u001b[0m\u001b[0;34m)\u001b[0m\u001b[0;34m\u001b[0m\u001b[0;34m\u001b[0m\u001b[0m\n\u001b[0;32m----> 2\u001b[0;31m \u001b[0mnote\u001b[0m \u001b[0;34m=\u001b[0m \u001b[0mabjad\u001b[0m\u001b[0;34m.\u001b[0m\u001b[0mNote\u001b[0m\u001b[0;34m(\u001b[0m\u001b[0;36m0\u001b[0m\u001b[0;34m,\u001b[0m \u001b[0;34m(\u001b[0m\u001b[0mduration\u001b[0m\u001b[0;34m)\u001b[0m\u001b[0;34m)\u001b[0m\u001b[0;34m\u001b[0m\u001b[0;34m\u001b[0m\u001b[0m\n\u001b[0m",
      "\u001b[0;32m~/Programação/Abjad/abjad-master/abjad/core/Note.py\u001b[0m in \u001b[0;36m__init__\u001b[0;34m(self, multiplier, tag, *arguments)\u001b[0m\n\u001b[1;32m     99\u001b[0m         \u001b[0;32melse\u001b[0m\u001b[0;34m:\u001b[0m\u001b[0;34m\u001b[0m\u001b[0;34m\u001b[0m\u001b[0m\n\u001b[1;32m    100\u001b[0m             \u001b[0;32mraise\u001b[0m \u001b[0mValueError\u001b[0m\u001b[0;34m(\u001b[0m\u001b[0;34m\"can not initialize note from {arguments!r}.\"\u001b[0m\u001b[0;34m)\u001b[0m\u001b[0;34m\u001b[0m\u001b[0;34m\u001b[0m\u001b[0m\n\u001b[0;32m--> 101\u001b[0;31m         \u001b[0mLeaf\u001b[0m\u001b[0;34m.\u001b[0m\u001b[0m__init__\u001b[0m\u001b[0;34m(\u001b[0m\u001b[0mself\u001b[0m\u001b[0;34m,\u001b[0m \u001b[0mwritten_duration\u001b[0m\u001b[0;34m,\u001b[0m \u001b[0mmultiplier\u001b[0m\u001b[0;34m=\u001b[0m\u001b[0mmultiplier\u001b[0m\u001b[0;34m,\u001b[0m \u001b[0mtag\u001b[0m\u001b[0;34m=\u001b[0m\u001b[0mtag\u001b[0m\u001b[0;34m)\u001b[0m\u001b[0;34m\u001b[0m\u001b[0;34m\u001b[0m\u001b[0m\n\u001b[0m\u001b[1;32m    102\u001b[0m         \u001b[0;32mif\u001b[0m \u001b[0mwritten_pitch\u001b[0m \u001b[0;32mis\u001b[0m \u001b[0;32mnot\u001b[0m \u001b[0;32mNone\u001b[0m\u001b[0;34m:\u001b[0m\u001b[0;34m\u001b[0m\u001b[0;34m\u001b[0m\u001b[0m\n\u001b[1;32m    103\u001b[0m             \u001b[0;32mif\u001b[0m \u001b[0mwritten_pitch\u001b[0m \u001b[0;32mnot\u001b[0m \u001b[0;32min\u001b[0m \u001b[0mdrums\u001b[0m\u001b[0;34m:\u001b[0m\u001b[0;34m\u001b[0m\u001b[0;34m\u001b[0m\u001b[0m\n",
      "\u001b[0;32m~/Programação/Abjad/abjad-master/abjad/core/Leaf.py\u001b[0m in \u001b[0;36m__init__\u001b[0;34m(self, written_duration, multiplier, tag)\u001b[0m\n\u001b[1;32m     57\u001b[0m         \u001b[0mself\u001b[0m\u001b[0;34m.\u001b[0m\u001b[0m_before_grace_container\u001b[0m \u001b[0;34m=\u001b[0m \u001b[0;32mNone\u001b[0m\u001b[0;34m\u001b[0m\u001b[0;34m\u001b[0m\u001b[0m\n\u001b[1;32m     58\u001b[0m         \u001b[0mself\u001b[0m\u001b[0;34m.\u001b[0m\u001b[0mmultiplier\u001b[0m \u001b[0;34m=\u001b[0m \u001b[0mmultiplier\u001b[0m\u001b[0;34m\u001b[0m\u001b[0;34m\u001b[0m\u001b[0m\n\u001b[0;32m---> 59\u001b[0;31m         \u001b[0mself\u001b[0m\u001b[0;34m.\u001b[0m\u001b[0mwritten_duration\u001b[0m \u001b[0;34m=\u001b[0m \u001b[0mwritten_duration\u001b[0m\u001b[0;34m\u001b[0m\u001b[0;34m\u001b[0m\u001b[0m\n\u001b[0m\u001b[1;32m     60\u001b[0m \u001b[0;34m\u001b[0m\u001b[0m\n\u001b[1;32m     61\u001b[0m     \u001b[0;31m### SPECIAL METHODS ###\u001b[0m\u001b[0;34m\u001b[0m\u001b[0;34m\u001b[0m\u001b[0;34m\u001b[0m\u001b[0m\n",
      "\u001b[0;32m~/Programação/Abjad/abjad-master/abjad/core/Note.py\u001b[0m in \u001b[0;36mwritten_duration\u001b[0;34m(self, argument)\u001b[0m\n\u001b[1;32m    240\u001b[0m     \u001b[0;34m@\u001b[0m\u001b[0mwritten_duration\u001b[0m\u001b[0;34m.\u001b[0m\u001b[0msetter\u001b[0m\u001b[0;34m\u001b[0m\u001b[0;34m\u001b[0m\u001b[0m\n\u001b[1;32m    241\u001b[0m     \u001b[0;32mdef\u001b[0m \u001b[0mwritten_duration\u001b[0m\u001b[0;34m(\u001b[0m\u001b[0mself\u001b[0m\u001b[0;34m,\u001b[0m \u001b[0margument\u001b[0m\u001b[0;34m)\u001b[0m\u001b[0;34m:\u001b[0m\u001b[0;34m\u001b[0m\u001b[0;34m\u001b[0m\u001b[0m\n\u001b[0;32m--> 242\u001b[0;31m         \u001b[0;32mreturn\u001b[0m \u001b[0mLeaf\u001b[0m\u001b[0;34m.\u001b[0m\u001b[0mwritten_duration\u001b[0m\u001b[0;34m.\u001b[0m\u001b[0mfset\u001b[0m\u001b[0;34m(\u001b[0m\u001b[0mself\u001b[0m\u001b[0;34m,\u001b[0m \u001b[0margument\u001b[0m\u001b[0;34m)\u001b[0m\u001b[0;34m\u001b[0m\u001b[0;34m\u001b[0m\u001b[0m\n\u001b[0m\u001b[1;32m    243\u001b[0m \u001b[0;34m\u001b[0m\u001b[0m\n\u001b[1;32m    244\u001b[0m     \u001b[0;34m@\u001b[0m\u001b[0mproperty\u001b[0m\u001b[0;34m\u001b[0m\u001b[0;34m\u001b[0m\u001b[0m\n",
      "\u001b[0;32m~/Programação/Abjad/abjad-master/abjad/core/Leaf.py\u001b[0m in \u001b[0;36mwritten_duration\u001b[0;34m(self, argument)\u001b[0m\n\u001b[1;32m    537\u001b[0m         \u001b[0;32mif\u001b[0m \u001b[0;32mnot\u001b[0m \u001b[0mduration\u001b[0m\u001b[0;34m.\u001b[0m\u001b[0mis_assignable\u001b[0m\u001b[0;34m:\u001b[0m\u001b[0;34m\u001b[0m\u001b[0;34m\u001b[0m\u001b[0m\n\u001b[1;32m    538\u001b[0m             \u001b[0mmessage\u001b[0m \u001b[0;34m=\u001b[0m \u001b[0;34mf\"not assignable duration: {duration!r}.\"\u001b[0m\u001b[0;34m\u001b[0m\u001b[0;34m\u001b[0m\u001b[0m\n\u001b[0;32m--> 539\u001b[0;31m             \u001b[0;32mraise\u001b[0m \u001b[0mexceptions\u001b[0m\u001b[0;34m.\u001b[0m\u001b[0mAssignabilityError\u001b[0m\u001b[0;34m(\u001b[0m\u001b[0mmessage\u001b[0m\u001b[0;34m)\u001b[0m\u001b[0;34m\u001b[0m\u001b[0;34m\u001b[0m\u001b[0m\n\u001b[0m\u001b[1;32m    540\u001b[0m         \u001b[0mself\u001b[0m\u001b[0;34m.\u001b[0m\u001b[0m_written_duration\u001b[0m \u001b[0;34m=\u001b[0m \u001b[0mduration\u001b[0m\u001b[0;34m\u001b[0m\u001b[0;34m\u001b[0m\u001b[0m\n",
      "\u001b[0;31mAssignabilityError\u001b[0m: not assignable duration: Duration(5, 4)."
     ]
    }
   ],
   "source": [
    "duration = abjad.Duration(5,4)\n",
    "note = abjad.Note(0, (duration))"
   ]
  },
  {
   "cell_type": "markdown",
   "metadata": {},
   "source": [
    "The `LeafMaker` class helps us around the assignability error:"
   ]
  },
  {
   "cell_type": "code",
   "execution_count": 4,
   "metadata": {},
   "outputs": [
    {
     "data": {
      "text/plain": [
       "Selection([Rest('r4.'), Rest('r2'), Rest('r8')])"
      ]
     },
     "execution_count": 4,
     "metadata": {},
     "output_type": "execute_result"
    }
   ],
   "source": [
    "maker = abjad.LeafMaker()\n",
    "pitches = [None]\n",
    "durations = [abjad.Duration(3, 8), abjad.Duration(5, 8)]\n",
    "leaves = maker(pitches, durations)\n",
    "leaves"
   ]
  },
  {
   "cell_type": "markdown",
   "metadata": {},
   "source": [
    "# Tuplets"
   ]
  },
  {
   "cell_type": "markdown",
   "metadata": {},
   "source": [
    "Use the `Tuplet` class to make tuplets (of any non-binary division). The Tuplet class provides an interface for working with complex rhythms in a bottom-up way:"
   ]
  },
  {
   "cell_type": "code",
   "execution_count": 5,
   "metadata": {},
   "outputs": [],
   "source": [
    "tuplet = abjad.Tuplet(abjad.Multiplier(2, 3), \"c'8 d'8 e'8\")"
   ]
  },
  {
   "cell_type": "code",
   "execution_count": 6,
   "metadata": {},
   "outputs": [
    {
     "data": {
      "image/svg+xml": [
       "<svg xmlns=\"http://www.w3.org/2000/svg\" xmlns:xlink=\"http://www.w3.org/1999/xlink\" version=\"1.2\" width=\"28.40mm\" height=\"12.92mm\" viewBox=\"8.5358 -0.0240 16.1626 7.3500\">\n",
       "<style text=\"style/css\">\n",
       "<![CDATA[\n",
       "tspan { white-space: pre; }\n",
       "]]>\n",
       "</style>\n",
       "<line transform=\"translate(8.5358, 5.7760)\" stroke-linejoin=\"round\" stroke-linecap=\"round\" stroke-width=\"0.1000\" stroke=\"currentColor\" x1=\"0.0500\" y1=\"-0.0000\" x2=\"16.1626\" y2=\"-0.0000\"/>\n",
       "<line transform=\"translate(8.5358, 4.7760)\" stroke-linejoin=\"round\" stroke-linecap=\"round\" stroke-width=\"0.1000\" stroke=\"currentColor\" x1=\"0.0500\" y1=\"-0.0000\" x2=\"16.1626\" y2=\"-0.0000\"/>\n",
       "<line transform=\"translate(8.5358, 3.7760)\" stroke-linejoin=\"round\" stroke-linecap=\"round\" stroke-width=\"0.1000\" stroke=\"currentColor\" x1=\"0.0500\" y1=\"-0.0000\" x2=\"16.1626\" y2=\"-0.0000\"/>\n",
       "<line transform=\"translate(8.5358, 2.7760)\" stroke-linejoin=\"round\" stroke-linecap=\"round\" stroke-width=\"0.1000\" stroke=\"currentColor\" x1=\"0.0500\" y1=\"-0.0000\" x2=\"16.1626\" y2=\"-0.0000\"/>\n",
       "<line transform=\"translate(8.5358, 1.7760)\" stroke-linejoin=\"round\" stroke-linecap=\"round\" stroke-width=\"0.1000\" stroke=\"currentColor\" x1=\"0.0500\" y1=\"-0.0000\" x2=\"16.1626\" y2=\"-0.0000\"/>\n",
       "<rect transform=\"translate(0.0000, 6.7760)\" x=\"16.9098\" y=\"-0.1000\" width=\"1.9563\" height=\"0.2000\" ry=\"0.1000\" fill=\"currentColor\"/>\n",
       "<path transform=\"translate(22.2442, 5.7760) scale(0.0040, -0.0040)\" d=\"M218 136c55 0 108 -28 108 -89c0 -71 -55 -121 -102 -149c-35 -21 -75 -34 -116 -34c-55 0 -108 28 -108 89c0 71 55 121 102 149c35 21 75 34 116 34z\" fill=\"currentColor\"/>\n",
       "<rect transform=\"translate(23.4835, 3.7760)\" x=\"-0.0650\" y=\"-0.8022\" width=\"0.1300\" height=\"2.6161\" ry=\"0.0400\" fill=\"currentColor\"/>\n",
       "<path transform=\"translate(19.7400, 6.2760) scale(0.0040, -0.0040)\" d=\"M218 136c55 0 108 -28 108 -89c0 -71 -55 -121 -102 -149c-35 -21 -75 -34 -116 -34c-55 0 -108 28 -108 89c0 71 55 121 102 149c35 21 75 34 116 34z\" fill=\"currentColor\"/>\n",
       "<rect transform=\"translate(20.9792, 3.7760)\" x=\"-0.0650\" y=\"-0.5000\" width=\"0.1300\" height=\"2.8139\" ry=\"0.0400\" fill=\"currentColor\"/>\n",
       "<polygon transform=\"translate(18.4100, 3.5860)\" stroke-linejoin=\"round\" stroke-linecap=\"round\" stroke-width=\"0.0800\" fill=\"currentColor\" stroke=\"currentColor\" points=\"5.0984 -0.8200 5.0984 -0.4200 0.0400 0.2000 0.0400 -0.2000\"/>\n",
       "<text transform=\"translate(20.5354, 2.5088)\" font-family=\"serif\" font-style=\"italic\" font-size=\"1.7461\" text-anchor=\"start\" fill=\"currentColor\">\n",
       "<tspan>3</tspan>\n",
       "</text>\n",
       "<rect transform=\"translate(18.4750, 3.7760)\" x=\"-0.0650\" y=\"-0.1978\" width=\"0.1300\" height=\"3.0117\" ry=\"0.0400\" fill=\"currentColor\"/>\n",
       "<path transform=\"translate(17.2358, 6.7760) scale(0.0040, -0.0040)\" d=\"M218 136c55 0 108 -28 108 -89c0 -71 -55 -121 -102 -149c-35 -21 -75 -34 -116 -34c-55 0 -108 28 -108 89c0 71 55 121 102 149c35 21 75 34 116 34z\" fill=\"currentColor\"/>\n",
       "<path transform=\"translate(9.3358, 4.7760) scale(0.0040, -0.0040)\" d=\"M376 262c4 0 9 1 13 1c155 0 256 -128 256 -261c0 -76 -33 -154 -107 -210c-22 -17 -47 -28 -73 -36c3 -35 5 -70 5 -105c0 -19 -1 -39 -2 -58c-7 -120 -90 -228 -208 -228c-108 0 -195 88 -195 197c0 58 53 103 112 103c54 0 95 -47 95 -103c0 -52 -43 -95 -95 -95\n",
       "c-11 0 -21 2 -31 6c26 -39 68 -65 117 -65c96 0 157 92 163 191c1 18 2 37 2 55c0 31 -1 61 -4 92c-29 -5 -58 -8 -89 -8c-188 0 -333 172 -333 374c0 177 131 306 248 441c-19 62 -37 125 -45 190c-6 52 -7 104 -7 156c0 115 55 224 149 292c3 2 7 3 10 3c4 0 7 0 10 -3\n",
       "c71 -84 133 -245 133 -358c0 -143 -86 -255 -180 -364c21 -68 39 -138 56 -207zM461 -203c68 24 113 95 113 164c0 90 -66 179 -173 190c24 -116 46 -231 60 -354zM74 28c0 -135 129 -247 264 -247c28 0 55 2 82 6c-14 127 -37 245 -63 364c-79 -8 -124 -61 -124 -119\n",
       "c0 -44 25 -91 81 -123c5 -5 7 -10 7 -15c0 -11 -10 -22 -22 -22c-3 0 -6 1 -9 2c-80 43 -117 115 -117 185c0 88 58 174 160 197c-14 58 -29 117 -46 175c-107 -121 -213 -243 -213 -403zM408 1045c-99 -48 -162 -149 -162 -259c0 -74 18 -133 36 -194\n",
       "c80 97 146 198 146 324c0 55 -4 79 -20 129z\" fill=\"currentColor\"/>\n",
       "<path transform=\"translate(13.5358, 3.7760) scale(0.0040, -0.0040)\" d=\"M359 27c-49 0 -75 42 -75 75c0 38 27 77 72 77c4 0 9 0 14 -1c-28 37 -72 59 -120 59c-106 0 -113 -73 -113 -186v-51v-51c0 -113 7 -187 113 -187c80 0 139 70 158 151c2 7 7 10 12 10c6 0 13 -4 13 -12c0 -94 -105 -174 -183 -174c-68 0 -137 21 -184 70\n",
       "c-49 51 -66 122 -66 193s17 142 66 193c47 49 116 69 184 69c87 0 160 -64 175 -150c1 -5 1 -9 1 -13c0 -40 -30 -72 -67 -72z\" fill=\"currentColor\"/>\n",
       "</svg>\n"
      ]
     },
     "metadata": {},
     "output_type": "display_data"
    }
   ],
   "source": [
    "abjad.show(tuplet)"
   ]
  },
  {
   "cell_type": "markdown",
   "metadata": {},
   "source": [
    "You can also pack existing leaves into a Tuplet instance."
   ]
  },
  {
   "cell_type": "code",
   "execution_count": 7,
   "metadata": {},
   "outputs": [],
   "source": [
    "leaves = [abjad.Note(\"fs'8\"), abjad.Note(\"g'8\"), abjad.Rest('r8')]"
   ]
  },
  {
   "cell_type": "code",
   "execution_count": 8,
   "metadata": {},
   "outputs": [],
   "source": [
    "tuplet = abjad.Tuplet(abjad.Multiplier(2, 3), leaves)"
   ]
  },
  {
   "cell_type": "code",
   "execution_count": 9,
   "metadata": {},
   "outputs": [
    {
     "data": {
      "image/svg+xml": [
       "<svg xmlns=\"http://www.w3.org/2000/svg\" xmlns:xlink=\"http://www.w3.org/1999/xlink\" version=\"1.2\" width=\"29.19mm\" height=\"13.29mm\" viewBox=\"8.5358 -0.0000 16.6084 7.5646\">\n",
       "<style text=\"style/css\">\n",
       "<![CDATA[\n",
       "tspan { white-space: pre; }\n",
       "]]>\n",
       "</style>\n",
       "<line transform=\"translate(8.5358, 6.0146)\" stroke-linejoin=\"round\" stroke-linecap=\"round\" stroke-width=\"0.1000\" stroke=\"currentColor\" x1=\"0.0500\" y1=\"-0.0000\" x2=\"16.6084\" y2=\"-0.0000\"/>\n",
       "<line transform=\"translate(8.5358, 5.0146)\" stroke-linejoin=\"round\" stroke-linecap=\"round\" stroke-width=\"0.1000\" stroke=\"currentColor\" x1=\"0.0500\" y1=\"-0.0000\" x2=\"16.6084\" y2=\"-0.0000\"/>\n",
       "<line transform=\"translate(8.5358, 4.0146)\" stroke-linejoin=\"round\" stroke-linecap=\"round\" stroke-width=\"0.1000\" stroke=\"currentColor\" x1=\"0.0500\" y1=\"-0.0000\" x2=\"16.6084\" y2=\"-0.0000\"/>\n",
       "<line transform=\"translate(8.5358, 3.0146)\" stroke-linejoin=\"round\" stroke-linecap=\"round\" stroke-width=\"0.1000\" stroke=\"currentColor\" x1=\"0.0500\" y1=\"-0.0000\" x2=\"16.6084\" y2=\"-0.0000\"/>\n",
       "<line transform=\"translate(8.5358, 2.0146)\" stroke-linejoin=\"round\" stroke-linecap=\"round\" stroke-width=\"0.1000\" stroke=\"currentColor\" x1=\"0.0500\" y1=\"-0.0000\" x2=\"16.6084\" y2=\"-0.0000\"/>\n",
       "<line transform=\"translate(19.1600, 0.6146)\" stroke-linejoin=\"round\" stroke-linecap=\"round\" stroke-width=\"0.1600\" stroke=\"currentColor\" x1=\"5.0342\" y1=\"-0.0000\" x2=\"5.0342\" y2=\"0.7000\"/>\n",
       "<line transform=\"translate(19.1600, 0.6146)\" stroke-linejoin=\"round\" stroke-linecap=\"round\" stroke-width=\"0.1600\" stroke=\"currentColor\" x1=\"-0.2000\" y1=\"-0.0000\" x2=\"-0.2000\" y2=\"0.7000\"/>\n",
       "<line transform=\"translate(19.1600, 0.6146)\" stroke-linejoin=\"round\" stroke-linecap=\"round\" stroke-width=\"0.1600\" stroke=\"currentColor\" x1=\"5.0342\" y1=\"-0.0000\" x2=\"3.4610\" y2=\"-0.0000\"/>\n",
       "<line transform=\"translate(19.1600, 0.6146)\" stroke-linejoin=\"round\" stroke-linecap=\"round\" stroke-width=\"0.1600\" stroke=\"currentColor\" x1=\"-0.2000\" y1=\"-0.0000\" x2=\"1.5732\" y2=\"-0.0000\"/>\n",
       "<path transform=\"translate(22.9942, 4.0146) scale(0.0040, -0.0040)\" d=\"M72 -250l117 326c-34 -12 -69 -22 -105 -22c-46 0 -87 33 -87 79c0 40 33 72 73 72c25 0 48 -15 56 -39c10 -28 6 -59 35 -59c16 0 54 48 61 63c6 12 23 12 28 0l-123 -420c-8 -7 -17 -10 -27 -10s-20 3 -28 10z\" fill=\"currentColor\"/>\n",
       "<path transform=\"translate(20.4900, 5.0146) scale(0.0040, -0.0040)\" d=\"M218 136c55 0 108 -28 108 -89c0 -71 -55 -121 -102 -149c-35 -21 -75 -34 -116 -34c-55 0 -108 28 -108 89c0 71 55 121 102 149c35 21 75 34 116 34z\" fill=\"currentColor\"/>\n",
       "<rect transform=\"translate(21.7292, 4.0146)\" x=\"-0.0650\" y=\"-1.9953\" width=\"0.1300\" height=\"2.8092\" ry=\"0.0400\" fill=\"currentColor\"/>\n",
       "<polygon transform=\"translate(19.1600, 2.2046)\" stroke-linejoin=\"round\" stroke-linecap=\"round\" stroke-width=\"0.0800\" fill=\"currentColor\" stroke=\"currentColor\" points=\"2.5942 -0.3900 2.5942 0.0100 0.0400 0.2000 0.0400 -0.2000\"/>\n",
       "<text transform=\"translate(21.1333, 1.1950)\" font-family=\"serif\" font-style=\"italic\" font-size=\"1.7461\" text-anchor=\"start\" fill=\"currentColor\">\n",
       "<tspan>3</tspan>\n",
       "</text>\n",
       "<path transform=\"translate(17.9858, 5.5146) scale(0.0040, -0.0040)\" d=\"M218 136c55 0 108 -28 108 -89c0 -71 -55 -121 -102 -149c-35 -21 -75 -34 -116 -34c-55 0 -108 28 -108 89c0 71 55 121 102 149c35 21 75 34 116 34z\" fill=\"currentColor\"/>\n",
       "<path transform=\"translate(9.3358, 5.0146) scale(0.0040, -0.0040)\" d=\"M376 262c4 0 9 1 13 1c155 0 256 -128 256 -261c0 -76 -33 -154 -107 -210c-22 -17 -47 -28 -73 -36c3 -35 5 -70 5 -105c0 -19 -1 -39 -2 -58c-7 -120 -90 -228 -208 -228c-108 0 -195 88 -195 197c0 58 53 103 112 103c54 0 95 -47 95 -103c0 -52 -43 -95 -95 -95\n",
       "c-11 0 -21 2 -31 6c26 -39 68 -65 117 -65c96 0 157 92 163 191c1 18 2 37 2 55c0 31 -1 61 -4 92c-29 -5 -58 -8 -89 -8c-188 0 -333 172 -333 374c0 177 131 306 248 441c-19 62 -37 125 -45 190c-6 52 -7 104 -7 156c0 115 55 224 149 292c3 2 7 3 10 3c4 0 7 0 10 -3\n",
       "c71 -84 133 -245 133 -358c0 -143 -86 -255 -180 -364c21 -68 39 -138 56 -207zM461 -203c68 24 113 95 113 164c0 90 -66 179 -173 190c24 -116 46 -231 60 -354zM74 28c0 -135 129 -247 264 -247c28 0 55 2 82 6c-14 127 -37 245 -63 364c-79 -8 -124 -61 -124 -119\n",
       "c0 -44 25 -91 81 -123c5 -5 7 -10 7 -15c0 -11 -10 -22 -22 -22c-3 0 -6 1 -9 2c-80 43 -117 115 -117 185c0 88 58 174 160 197c-14 58 -29 117 -46 175c-107 -121 -213 -243 -213 -403zM408 1045c-99 -48 -162 -149 -162 -259c0 -74 18 -133 36 -194\n",
       "c80 97 146 198 146 324c0 55 -4 79 -20 129z\" fill=\"currentColor\"/>\n",
       "<path transform=\"translate(13.5358, 4.0146) scale(0.0040, -0.0040)\" d=\"M359 27c-49 0 -75 42 -75 75c0 38 27 77 72 77c4 0 9 0 14 -1c-28 37 -72 59 -120 59c-106 0 -113 -73 -113 -186v-51v-51c0 -113 7 -187 113 -187c80 0 139 70 158 151c2 7 7 10 12 10c6 0 13 -4 13 -12c0 -94 -105 -174 -183 -174c-68 0 -137 21 -184 70\n",
       "c-49 51 -66 122 -66 193s17 142 66 193c47 49 116 69 184 69c87 0 160 -64 175 -150c1 -5 1 -9 1 -13c0 -40 -30 -72 -67 -72z\" fill=\"currentColor\"/>\n",
       "<rect transform=\"translate(19.2250, 4.0146)\" x=\"-0.0650\" y=\"-1.8147\" width=\"0.1300\" height=\"3.1286\" ry=\"0.0400\" fill=\"currentColor\"/>\n",
       "<path transform=\"translate(16.5358, 5.5146) scale(0.0040, -0.0040)\" d=\"M216 -312c0 -10 -8 -19 -18 -19s-19 9 -19 19v145l-83 -31v-158c0 -10 -9 -19 -19 -19s-18 9 -18 19v145l-32 -12c-2 -1 -5 -1 -7 -1c-11 0 -20 9 -20 20v60c0 8 5 16 13 19l46 16v160l-32 -11c-2 -1 -5 -1 -7 -1c-11 0 -20 9 -20 20v60c0 8 5 15 13 18l46 17v158\n",
       "c0 10 8 19 18 19s19 -9 19 -19v-145l83 31v158c0 10 9 19 19 19s18 -9 18 -19v-145l32 12c2 1 5 1 7 1c11 0 20 -9 20 -20v-60c0 -8 -5 -16 -13 -19l-46 -16v-160l32 11c2 1 5 1 7 1c11 0 20 -9 20 -20v-60c0 -8 -5 -15 -13 -18l-46 -17v-158zM96 65v-160l83 30v160z\" fill=\"currentColor\"/>\n",
       "</svg>\n"
      ]
     },
     "metadata": {},
     "output_type": "display_data"
    }
   ],
   "source": [
    "abjad.show(tuplet)"
   ]
  },
  {
   "cell_type": "markdown",
   "metadata": {},
   "source": [
    "Tuplet instances all have a multiplier and components."
   ]
  },
  {
   "cell_type": "code",
   "execution_count": 10,
   "metadata": {},
   "outputs": [
    {
     "data": {
      "text/plain": [
       "Tuplet(Multiplier(2, 3), \"fs'8 g'8 r8\")"
      ]
     },
     "execution_count": 10,
     "metadata": {},
     "output_type": "execute_result"
    }
   ],
   "source": [
    "tuplet"
   ]
  },
  {
   "cell_type": "markdown",
   "metadata": {},
   "source": [
    "## Understanding Augmentation and Diminution"
   ]
  },
  {
   "cell_type": "markdown",
   "metadata": {},
   "source": [
    "Remember that any tuplet can be represented as an augmentation or a diminution relative to the written notes' default values. Our example tuplet's multiplier of (2,3) for three eighth notes means that each written eighth note lasts for 2/3rds its written value. Because the original durations have been reduced, this is a diminution:"
   ]
  },
  {
   "cell_type": "code",
   "execution_count": 11,
   "metadata": {},
   "outputs": [
    {
     "data": {
      "text/plain": [
       "True"
      ]
     },
     "execution_count": 11,
     "metadata": {},
     "output_type": "execute_result"
    }
   ],
   "source": [
    "tuplet.diminution()"
   ]
  },
  {
   "cell_type": "markdown",
   "metadata": {},
   "source": [
    "A tuplet with a multiplier greater than 1, on the other hand, would be an augmentation:"
   ]
  },
  {
   "cell_type": "code",
   "execution_count": 12,
   "metadata": {},
   "outputs": [],
   "source": [
    "tuplet = abjad.Tuplet((4,3), \"fs'16 g'16 r16\")"
   ]
  },
  {
   "cell_type": "code",
   "execution_count": 13,
   "metadata": {},
   "outputs": [
    {
     "data": {
      "text/plain": [
       "False"
      ]
     },
     "execution_count": 13,
     "metadata": {},
     "output_type": "execute_result"
    }
   ],
   "source": [
    "tuplet.diminution()"
   ]
  },
  {
   "cell_type": "code",
   "execution_count": 14,
   "metadata": {},
   "outputs": [
    {
     "data": {
      "image/svg+xml": [
       "<svg xmlns=\"http://www.w3.org/2000/svg\" xmlns:xlink=\"http://www.w3.org/1999/xlink\" version=\"1.2\" width=\"29.54mm\" height=\"13.29mm\" viewBox=\"8.5358 -0.0000 16.8084 7.5646\">\n",
       "<style text=\"style/css\">\n",
       "<![CDATA[\n",
       "tspan { white-space: pre; }\n",
       "]]>\n",
       "</style>\n",
       "<line transform=\"translate(8.5358, 6.0146)\" stroke-linejoin=\"round\" stroke-linecap=\"round\" stroke-width=\"0.1000\" stroke=\"currentColor\" x1=\"0.0500\" y1=\"-0.0000\" x2=\"16.8084\" y2=\"-0.0000\"/>\n",
       "<line transform=\"translate(8.5358, 5.0146)\" stroke-linejoin=\"round\" stroke-linecap=\"round\" stroke-width=\"0.1000\" stroke=\"currentColor\" x1=\"0.0500\" y1=\"-0.0000\" x2=\"16.8084\" y2=\"-0.0000\"/>\n",
       "<line transform=\"translate(8.5358, 4.0146)\" stroke-linejoin=\"round\" stroke-linecap=\"round\" stroke-width=\"0.1000\" stroke=\"currentColor\" x1=\"0.0500\" y1=\"-0.0000\" x2=\"16.8084\" y2=\"-0.0000\"/>\n",
       "<line transform=\"translate(8.5358, 3.0146)\" stroke-linejoin=\"round\" stroke-linecap=\"round\" stroke-width=\"0.1000\" stroke=\"currentColor\" x1=\"0.0500\" y1=\"-0.0000\" x2=\"16.8084\" y2=\"-0.0000\"/>\n",
       "<line transform=\"translate(8.5358, 2.0146)\" stroke-linejoin=\"round\" stroke-linecap=\"round\" stroke-width=\"0.1000\" stroke=\"currentColor\" x1=\"0.0500\" y1=\"-0.0000\" x2=\"16.8084\" y2=\"-0.0000\"/>\n",
       "<line transform=\"translate(19.1600, 0.6146)\" stroke-linejoin=\"round\" stroke-linecap=\"round\" stroke-width=\"0.1600\" stroke=\"currentColor\" x1=\"5.2342\" y1=\"-0.0000\" x2=\"5.2342\" y2=\"0.7000\"/>\n",
       "<line transform=\"translate(19.1600, 0.6146)\" stroke-linejoin=\"round\" stroke-linecap=\"round\" stroke-width=\"0.1600\" stroke=\"currentColor\" x1=\"-0.2000\" y1=\"-0.0000\" x2=\"-0.2000\" y2=\"0.7000\"/>\n",
       "<line transform=\"translate(19.1600, 0.6146)\" stroke-linejoin=\"round\" stroke-linecap=\"round\" stroke-width=\"0.1600\" stroke=\"currentColor\" x1=\"5.2342\" y1=\"-0.0000\" x2=\"4.2950\" y2=\"-0.0000\"/>\n",
       "<line transform=\"translate(19.1600, 0.6146)\" stroke-linejoin=\"round\" stroke-linecap=\"round\" stroke-width=\"0.1600\" stroke=\"currentColor\" x1=\"-0.2000\" y1=\"-0.0000\" x2=\"0.9392\" y2=\"-0.0000\"/>\n",
       "<path transform=\"translate(22.9942, 4.0146) scale(0.0040, -0.0040)\" d=\"M66 -500l101 327c-34 -12 -70 -23 -106 -23c-46 0 -87 33 -87 79c0 40 32 72 72 72c25 0 49 -15 57 -39c10 -28 5 -59 34 -59c16 0 55 51 60 68l46 151c-34 -12 -68 -22 -104 -22c-46 0 -87 33 -87 79c0 40 33 72 73 72c25 0 48 -15 56 -39c10 -28 5 -59 34 -59\n",
       "c15 0 50 49 57 63c6 12 23 12 28 0l-179 -670c-8 -7 -17 -10 -27 -10s-20 3 -28 10z\" fill=\"currentColor\"/>\n",
       "<path transform=\"translate(20.4900, 5.0146) scale(0.0040, -0.0040)\" d=\"M218 136c55 0 108 -28 108 -89c0 -71 -55 -121 -102 -149c-35 -21 -75 -34 -116 -34c-55 0 -108 28 -108 89c0 71 55 121 102 149c35 21 75 34 116 34z\" fill=\"currentColor\"/>\n",
       "<rect transform=\"translate(21.7292, 4.0146)\" x=\"-0.0650\" y=\"-1.9953\" width=\"0.1300\" height=\"2.8092\" ry=\"0.0400\" fill=\"currentColor\"/>\n",
       "<polygon transform=\"translate(19.1600, 2.2046)\" stroke-linejoin=\"round\" stroke-linecap=\"round\" stroke-width=\"0.0800\" fill=\"currentColor\" stroke=\"currentColor\" points=\"2.5942 -0.3900 2.5942 0.0100 0.0400 0.2000 0.0400 -0.2000\"/>\n",
       "<polygon transform=\"translate(19.1600, 3.0146)\" stroke-linejoin=\"round\" stroke-linecap=\"round\" stroke-width=\"0.0800\" fill=\"currentColor\" stroke=\"currentColor\" points=\"2.5942 -0.3900 2.5942 0.0100 0.0400 0.2000 0.0400 -0.2000\"/>\n",
       "<text transform=\"translate(20.4992, 1.1950)\" font-family=\"serif\" font-style=\"italic\" font-size=\"1.7461\" text-anchor=\"start\" fill=\"currentColor\">\n",
       "<tspan>3:4</tspan>\n",
       "</text>\n",
       "<path transform=\"translate(17.9858, 5.5146) scale(0.0040, -0.0040)\" d=\"M218 136c55 0 108 -28 108 -89c0 -71 -55 -121 -102 -149c-35 -21 -75 -34 -116 -34c-55 0 -108 28 -108 89c0 71 55 121 102 149c35 21 75 34 116 34z\" fill=\"currentColor\"/>\n",
       "<path transform=\"translate(9.3358, 5.0146) scale(0.0040, -0.0040)\" d=\"M376 262c4 0 9 1 13 1c155 0 256 -128 256 -261c0 -76 -33 -154 -107 -210c-22 -17 -47 -28 -73 -36c3 -35 5 -70 5 -105c0 -19 -1 -39 -2 -58c-7 -120 -90 -228 -208 -228c-108 0 -195 88 -195 197c0 58 53 103 112 103c54 0 95 -47 95 -103c0 -52 -43 -95 -95 -95\n",
       "c-11 0 -21 2 -31 6c26 -39 68 -65 117 -65c96 0 157 92 163 191c1 18 2 37 2 55c0 31 -1 61 -4 92c-29 -5 -58 -8 -89 -8c-188 0 -333 172 -333 374c0 177 131 306 248 441c-19 62 -37 125 -45 190c-6 52 -7 104 -7 156c0 115 55 224 149 292c3 2 7 3 10 3c4 0 7 0 10 -3\n",
       "c71 -84 133 -245 133 -358c0 -143 -86 -255 -180 -364c21 -68 39 -138 56 -207zM461 -203c68 24 113 95 113 164c0 90 -66 179 -173 190c24 -116 46 -231 60 -354zM74 28c0 -135 129 -247 264 -247c28 0 55 2 82 6c-14 127 -37 245 -63 364c-79 -8 -124 -61 -124 -119\n",
       "c0 -44 25 -91 81 -123c5 -5 7 -10 7 -15c0 -11 -10 -22 -22 -22c-3 0 -6 1 -9 2c-80 43 -117 115 -117 185c0 88 58 174 160 197c-14 58 -29 117 -46 175c-107 -121 -213 -243 -213 -403zM408 1045c-99 -48 -162 -149 -162 -259c0 -74 18 -133 36 -194\n",
       "c80 97 146 198 146 324c0 55 -4 79 -20 129z\" fill=\"currentColor\"/>\n",
       "<path transform=\"translate(13.5358, 4.0146) scale(0.0040, -0.0040)\" d=\"M359 27c-49 0 -75 42 -75 75c0 38 27 77 72 77c4 0 9 0 14 -1c-28 37 -72 59 -120 59c-106 0 -113 -73 -113 -186v-51v-51c0 -113 7 -187 113 -187c80 0 139 70 158 151c2 7 7 10 12 10c6 0 13 -4 13 -12c0 -94 -105 -174 -183 -174c-68 0 -137 21 -184 70\n",
       "c-49 51 -66 122 -66 193s17 142 66 193c47 49 116 69 184 69c87 0 160 -64 175 -150c1 -5 1 -9 1 -13c0 -40 -30 -72 -67 -72z\" fill=\"currentColor\"/>\n",
       "<rect transform=\"translate(19.2250, 4.0146)\" x=\"-0.0650\" y=\"-1.8147\" width=\"0.1300\" height=\"3.1286\" ry=\"0.0400\" fill=\"currentColor\"/>\n",
       "<path transform=\"translate(16.5358, 5.5146) scale(0.0040, -0.0040)\" d=\"M216 -312c0 -10 -8 -19 -18 -19s-19 9 -19 19v145l-83 -31v-158c0 -10 -9 -19 -19 -19s-18 9 -18 19v145l-32 -12c-2 -1 -5 -1 -7 -1c-11 0 -20 9 -20 20v60c0 8 5 16 13 19l46 16v160l-32 -11c-2 -1 -5 -1 -7 -1c-11 0 -20 9 -20 20v60c0 8 5 15 13 18l46 17v158\n",
       "c0 10 8 19 18 19s19 -9 19 -19v-145l83 31v158c0 10 9 19 19 19s18 -9 18 -19v-145l32 12c2 1 5 1 7 1c11 0 20 -9 20 -20v-60c0 -8 -5 -16 -13 -19l-46 -16v-160l32 11c2 1 5 1 7 1c11 0 20 -9 20 -20v-60c0 -8 -5 -15 -13 -18l-46 -17v-158zM96 65v-160l83 30v160z\" fill=\"currentColor\"/>\n",
       "</svg>\n"
      ]
     },
     "metadata": {},
     "output_type": "display_data"
    }
   ],
   "source": [
    "abjad.show(tuplet)\n"
   ]
  },
  {
   "cell_type": "markdown",
   "metadata": {},
   "source": [
    "This last tuplet is an augmentation in which each of the written sixteenth notes lasts for 4/3rds of its written duration. The sounding result would be identical, and these are just two ways of writing the same thing, the former of which happens to be conventional."
   ]
  },
  {
   "cell_type": "markdown",
   "metadata": {},
   "source": [
    "Remember that object-oriented programming gives us objects with characteristics and behaviors. We can use the dot-chaining syntax to read and write the tuplet's multiplier attribute:"
   ]
  },
  {
   "cell_type": "code",
   "execution_count": 15,
   "metadata": {},
   "outputs": [],
   "source": [
    "tuplet = abjad.Tuplet(abjad.Multiplier(2, 3), \"fs'8 g' r8\")"
   ]
  },
  {
   "cell_type": "code",
   "execution_count": 16,
   "metadata": {},
   "outputs": [
    {
     "data": {
      "text/plain": [
       "Multiplier(2, 3)"
      ]
     },
     "execution_count": 16,
     "metadata": {},
     "output_type": "execute_result"
    }
   ],
   "source": [
    "tuplet.multiplier"
   ]
  },
  {
   "cell_type": "code",
   "execution_count": 17,
   "metadata": {},
   "outputs": [],
   "source": [
    "tuplet.multiplier = abjad.Multiplier(4, 5)"
   ]
  },
  {
   "cell_type": "code",
   "execution_count": 18,
   "metadata": {},
   "outputs": [
    {
     "data": {
      "text/plain": [
       "Tuplet(Multiplier(4, 5), \"fs'8 g'8 r8\")"
      ]
     },
     "execution_count": 18,
     "metadata": {},
     "output_type": "execute_result"
    }
   ],
   "source": [
    "tuplet"
   ]
  },
  {
   "cell_type": "code",
   "execution_count": 19,
   "metadata": {},
   "outputs": [
    {
     "data": {
      "image/svg+xml": [
       "<svg xmlns=\"http://www.w3.org/2000/svg\" xmlns:xlink=\"http://www.w3.org/1999/xlink\" version=\"1.2\" width=\"29.19mm\" height=\"13.26mm\" viewBox=\"8.5358 -0.0000 16.6084 7.5475\">\n",
       "<style text=\"style/css\">\n",
       "<![CDATA[\n",
       "tspan { white-space: pre; }\n",
       "]]>\n",
       "</style>\n",
       "<line transform=\"translate(8.5358, 5.9975)\" stroke-linejoin=\"round\" stroke-linecap=\"round\" stroke-width=\"0.1000\" stroke=\"currentColor\" x1=\"0.0500\" y1=\"-0.0000\" x2=\"16.6084\" y2=\"-0.0000\"/>\n",
       "<line transform=\"translate(8.5358, 4.9975)\" stroke-linejoin=\"round\" stroke-linecap=\"round\" stroke-width=\"0.1000\" stroke=\"currentColor\" x1=\"0.0500\" y1=\"-0.0000\" x2=\"16.6084\" y2=\"-0.0000\"/>\n",
       "<line transform=\"translate(8.5358, 3.9975)\" stroke-linejoin=\"round\" stroke-linecap=\"round\" stroke-width=\"0.1000\" stroke=\"currentColor\" x1=\"0.0500\" y1=\"-0.0000\" x2=\"16.6084\" y2=\"-0.0000\"/>\n",
       "<line transform=\"translate(8.5358, 2.9975)\" stroke-linejoin=\"round\" stroke-linecap=\"round\" stroke-width=\"0.1000\" stroke=\"currentColor\" x1=\"0.0500\" y1=\"-0.0000\" x2=\"16.6084\" y2=\"-0.0000\"/>\n",
       "<line transform=\"translate(8.5358, 1.9975)\" stroke-linejoin=\"round\" stroke-linecap=\"round\" stroke-width=\"0.1000\" stroke=\"currentColor\" x1=\"0.0500\" y1=\"-0.0000\" x2=\"16.6084\" y2=\"-0.0000\"/>\n",
       "<line transform=\"translate(19.1600, 0.5975)\" stroke-linejoin=\"round\" stroke-linecap=\"round\" stroke-width=\"0.1600\" stroke=\"currentColor\" x1=\"5.0342\" y1=\"-0.0000\" x2=\"5.0342\" y2=\"-0.0000\"/>\n",
       "<line transform=\"translate(19.1600, 0.5975)\" stroke-linejoin=\"round\" stroke-linecap=\"round\" stroke-width=\"0.1600\" stroke=\"currentColor\" x1=\"-0.2000\" y1=\"-0.0000\" x2=\"-0.2000\" y2=\"0.7000\"/>\n",
       "<line transform=\"translate(19.1600, 0.5975)\" stroke-linejoin=\"round\" stroke-linecap=\"round\" stroke-width=\"0.1600\" stroke=\"currentColor\" x1=\"5.0342\" y1=\"-0.0000\" x2=\"3.4610\" y2=\"-0.0000\"/>\n",
       "<line transform=\"translate(19.1600, 0.5975)\" stroke-linejoin=\"round\" stroke-linecap=\"round\" stroke-width=\"0.1600\" stroke=\"currentColor\" x1=\"-0.2000\" y1=\"-0.0000\" x2=\"1.5732\" y2=\"-0.0000\"/>\n",
       "<path transform=\"translate(22.9942, 3.9975) scale(0.0040, -0.0040)\" d=\"M72 -250l117 326c-34 -12 -69 -22 -105 -22c-46 0 -87 33 -87 79c0 40 33 72 73 72c25 0 48 -15 56 -39c10 -28 6 -59 35 -59c16 0 54 48 61 63c6 12 23 12 28 0l-123 -420c-8 -7 -17 -10 -27 -10s-20 3 -28 10z\" fill=\"currentColor\"/>\n",
       "<path transform=\"translate(20.4900, 4.9975) scale(0.0040, -0.0040)\" d=\"M218 136c55 0 108 -28 108 -89c0 -71 -55 -121 -102 -149c-35 -21 -75 -34 -116 -34c-55 0 -108 28 -108 89c0 71 55 121 102 149c35 21 75 34 116 34z\" fill=\"currentColor\"/>\n",
       "<rect transform=\"translate(21.7292, 3.9975)\" x=\"-0.0650\" y=\"-1.9953\" width=\"0.1300\" height=\"2.8092\" ry=\"0.0400\" fill=\"currentColor\"/>\n",
       "<polygon transform=\"translate(19.1600, 2.1875)\" stroke-linejoin=\"round\" stroke-linecap=\"round\" stroke-width=\"0.0800\" fill=\"currentColor\" stroke=\"currentColor\" points=\"2.5942 -0.3900 2.5942 0.0100 0.0400 0.2000 0.0400 -0.2000\"/>\n",
       "<text transform=\"translate(21.1333, 1.1609)\" font-family=\"serif\" font-style=\"italic\" font-size=\"1.7461\" text-anchor=\"start\" fill=\"currentColor\">\n",
       "<tspan>5</tspan>\n",
       "</text>\n",
       "<path transform=\"translate(17.9858, 5.4975) scale(0.0040, -0.0040)\" d=\"M218 136c55 0 108 -28 108 -89c0 -71 -55 -121 -102 -149c-35 -21 -75 -34 -116 -34c-55 0 -108 28 -108 89c0 71 55 121 102 149c35 21 75 34 116 34z\" fill=\"currentColor\"/>\n",
       "<path transform=\"translate(9.3358, 4.9975) scale(0.0040, -0.0040)\" d=\"M376 262c4 0 9 1 13 1c155 0 256 -128 256 -261c0 -76 -33 -154 -107 -210c-22 -17 -47 -28 -73 -36c3 -35 5 -70 5 -105c0 -19 -1 -39 -2 -58c-7 -120 -90 -228 -208 -228c-108 0 -195 88 -195 197c0 58 53 103 112 103c54 0 95 -47 95 -103c0 -52 -43 -95 -95 -95\n",
       "c-11 0 -21 2 -31 6c26 -39 68 -65 117 -65c96 0 157 92 163 191c1 18 2 37 2 55c0 31 -1 61 -4 92c-29 -5 -58 -8 -89 -8c-188 0 -333 172 -333 374c0 177 131 306 248 441c-19 62 -37 125 -45 190c-6 52 -7 104 -7 156c0 115 55 224 149 292c3 2 7 3 10 3c4 0 7 0 10 -3\n",
       "c71 -84 133 -245 133 -358c0 -143 -86 -255 -180 -364c21 -68 39 -138 56 -207zM461 -203c68 24 113 95 113 164c0 90 -66 179 -173 190c24 -116 46 -231 60 -354zM74 28c0 -135 129 -247 264 -247c28 0 55 2 82 6c-14 127 -37 245 -63 364c-79 -8 -124 -61 -124 -119\n",
       "c0 -44 25 -91 81 -123c5 -5 7 -10 7 -15c0 -11 -10 -22 -22 -22c-3 0 -6 1 -9 2c-80 43 -117 115 -117 185c0 88 58 174 160 197c-14 58 -29 117 -46 175c-107 -121 -213 -243 -213 -403zM408 1045c-99 -48 -162 -149 -162 -259c0 -74 18 -133 36 -194\n",
       "c80 97 146 198 146 324c0 55 -4 79 -20 129z\" fill=\"currentColor\"/>\n",
       "<path transform=\"translate(13.5358, 3.9975) scale(0.0040, -0.0040)\" d=\"M359 27c-49 0 -75 42 -75 75c0 38 27 77 72 77c4 0 9 0 14 -1c-28 37 -72 59 -120 59c-106 0 -113 -73 -113 -186v-51v-51c0 -113 7 -187 113 -187c80 0 139 70 158 151c2 7 7 10 12 10c6 0 13 -4 13 -12c0 -94 -105 -174 -183 -174c-68 0 -137 21 -184 70\n",
       "c-49 51 -66 122 -66 193s17 142 66 193c47 49 116 69 184 69c87 0 160 -64 175 -150c1 -5 1 -9 1 -13c0 -40 -30 -72 -67 -72z\" fill=\"currentColor\"/>\n",
       "<rect transform=\"translate(19.2250, 3.9975)\" x=\"-0.0650\" y=\"-1.8147\" width=\"0.1300\" height=\"3.1286\" ry=\"0.0400\" fill=\"currentColor\"/>\n",
       "<path transform=\"translate(16.5358, 5.4975) scale(0.0040, -0.0040)\" d=\"M216 -312c0 -10 -8 -19 -18 -19s-19 9 -19 19v145l-83 -31v-158c0 -10 -9 -19 -19 -19s-18 9 -18 19v145l-32 -12c-2 -1 -5 -1 -7 -1c-11 0 -20 9 -20 20v60c0 8 5 16 13 19l46 16v160l-32 -11c-2 -1 -5 -1 -7 -1c-11 0 -20 9 -20 20v60c0 8 5 15 13 18l46 17v158\n",
       "c0 10 8 19 18 19s19 -9 19 -19v-145l83 31v158c0 10 9 19 19 19s18 -9 18 -19v-145l32 12c2 1 5 1 7 1c11 0 20 -9 20 -20v-60c0 -8 -5 -16 -13 -19l-46 -16v-160l32 11c2 1 5 1 7 1c11 0 20 -9 20 -20v-60c0 -8 -5 -15 -13 -18l-46 -17v-158zM96 65v-160l83 30v160z\" fill=\"currentColor\"/>\n",
       "</svg>\n"
      ]
     },
     "metadata": {},
     "output_type": "display_data"
    }
   ],
   "source": [
    "abjad.show(tuplet)"
   ]
  },
  {
   "cell_type": "markdown",
   "metadata": {},
   "source": [
    "## Adding Leaves"
   ]
  },
  {
   "cell_type": "markdown",
   "metadata": {},
   "source": [
    "The multiplier is a reasonable characteristic for our tuplet to have, but what about behaviors? Well, you probably want to be able to build up tuplets by adding leaves to them, one or several a time. The append method adds leaves to the end of a tuplet (and to any Python list), one leaf at a time:"
   ]
  },
  {
   "cell_type": "code",
   "execution_count": 20,
   "metadata": {},
   "outputs": [],
   "source": [
    "tuplet.append(abjad.Note(\"e'4.\"))"
   ]
  },
  {
   "cell_type": "code",
   "execution_count": 21,
   "metadata": {},
   "outputs": [
    {
     "data": {
      "image/svg+xml": [
       "<svg xmlns=\"http://www.w3.org/2000/svg\" xmlns:xlink=\"http://www.w3.org/1999/xlink\" version=\"1.2\" width=\"36.93mm\" height=\"13.26mm\" viewBox=\"8.5358 -0.0000 21.0146 7.5475\">\n",
       "<style text=\"style/css\">\n",
       "<![CDATA[\n",
       "tspan { white-space: pre; }\n",
       "]]>\n",
       "</style>\n",
       "<line transform=\"translate(8.5358, 5.9975)\" stroke-linejoin=\"round\" stroke-linecap=\"round\" stroke-width=\"0.1000\" stroke=\"currentColor\" x1=\"0.0500\" y1=\"-0.0000\" x2=\"21.0146\" y2=\"-0.0000\"/>\n",
       "<line transform=\"translate(8.5358, 4.9975)\" stroke-linejoin=\"round\" stroke-linecap=\"round\" stroke-width=\"0.1000\" stroke=\"currentColor\" x1=\"0.0500\" y1=\"-0.0000\" x2=\"21.0146\" y2=\"-0.0000\"/>\n",
       "<line transform=\"translate(8.5358, 3.9975)\" stroke-linejoin=\"round\" stroke-linecap=\"round\" stroke-width=\"0.1000\" stroke=\"currentColor\" x1=\"0.0500\" y1=\"-0.0000\" x2=\"21.0146\" y2=\"-0.0000\"/>\n",
       "<line transform=\"translate(8.5358, 2.9975)\" stroke-linejoin=\"round\" stroke-linecap=\"round\" stroke-width=\"0.1000\" stroke=\"currentColor\" x1=\"0.0500\" y1=\"-0.0000\" x2=\"21.0146\" y2=\"-0.0000\"/>\n",
       "<line transform=\"translate(8.5358, 1.9975)\" stroke-linejoin=\"round\" stroke-linecap=\"round\" stroke-width=\"0.1000\" stroke=\"currentColor\" x1=\"0.0500\" y1=\"-0.0000\" x2=\"21.0146\" y2=\"-0.0000\"/>\n",
       "<line transform=\"translate(19.1600, 0.5975)\" stroke-linejoin=\"round\" stroke-linecap=\"round\" stroke-width=\"0.1600\" stroke=\"currentColor\" x1=\"7.5384\" y1=\"-0.0000\" x2=\"7.5384\" y2=\"-0.0000\"/>\n",
       "<line transform=\"translate(19.1600, 0.5975)\" stroke-linejoin=\"round\" stroke-linecap=\"round\" stroke-width=\"0.1600\" stroke=\"currentColor\" x1=\"-0.2000\" y1=\"-0.0000\" x2=\"-0.2000\" y2=\"0.7000\"/>\n",
       "<line transform=\"translate(19.1600, 0.5975)\" stroke-linejoin=\"round\" stroke-linecap=\"round\" stroke-width=\"0.1600\" stroke=\"currentColor\" x1=\"7.5384\" y1=\"-0.0000\" x2=\"4.7131\" y2=\"-0.0000\"/>\n",
       "<line transform=\"translate(19.1600, 0.5975)\" stroke-linejoin=\"round\" stroke-linecap=\"round\" stroke-width=\"0.1600\" stroke=\"currentColor\" x1=\"-0.2000\" y1=\"-0.0000\" x2=\"2.8253\" y2=\"-0.0000\"/>\n",
       "<path transform=\"translate(25.1942, 5.9975) scale(0.0040, -0.0040)\" d=\"M218 136c55 0 108 -28 108 -89c0 -71 -55 -121 -102 -149c-35 -21 -75 -34 -116 -34c-55 0 -108 28 -108 89c0 71 55 121 102 149c35 21 75 34 116 34z\" fill=\"currentColor\"/>\n",
       "<path transform=\"translate(26.9485, 5.4975) scale(0.0040, -0.0040)\" d=\"M0 0c0 31 25 56 56 56s56 -25 56 -56s-25 -56 -56 -56s-56 25 -56 56z\" fill=\"currentColor\"/>\n",
       "<rect transform=\"translate(26.4335, 3.9975)\" x=\"-0.0650\" y=\"-1.5000\" width=\"0.1300\" height=\"3.3139\" ry=\"0.0400\" fill=\"currentColor\"/>\n",
       "<path transform=\"translate(20.4900, 4.9975) scale(0.0040, -0.0040)\" d=\"M218 136c55 0 108 -28 108 -89c0 -71 -55 -121 -102 -149c-35 -21 -75 -34 -116 -34c-55 0 -108 28 -108 89c0 71 55 121 102 149c35 21 75 34 116 34z\" fill=\"currentColor\"/>\n",
       "<rect transform=\"translate(21.7292, 3.9975)\" x=\"-0.0650\" y=\"-1.9953\" width=\"0.1300\" height=\"2.8092\" ry=\"0.0400\" fill=\"currentColor\"/>\n",
       "<path transform=\"translate(22.9942, 3.9975) scale(0.0040, -0.0040)\" d=\"M72 -250l117 326c-34 -12 -69 -22 -105 -22c-46 0 -87 33 -87 79c0 40 33 72 73 72c25 0 48 -15 56 -39c10 -28 6 -59 35 -59c16 0 54 48 61 63c6 12 23 12 28 0l-123 -420c-8 -7 -17 -10 -27 -10s-20 3 -28 10z\" fill=\"currentColor\"/>\n",
       "<polygon transform=\"translate(19.1600, 2.1875)\" stroke-linejoin=\"round\" stroke-linecap=\"round\" stroke-width=\"0.0800\" fill=\"currentColor\" stroke=\"currentColor\" points=\"2.5942 -0.3900 2.5942 0.0100 0.0400 0.2000 0.0400 -0.2000\"/>\n",
       "<text transform=\"translate(22.3854, 1.1609)\" font-family=\"serif\" font-style=\"italic\" font-size=\"1.7461\" text-anchor=\"start\" fill=\"currentColor\">\n",
       "<tspan>5</tspan>\n",
       "</text>\n",
       "<path transform=\"translate(17.9858, 5.4975) scale(0.0040, -0.0040)\" d=\"M218 136c55 0 108 -28 108 -89c0 -71 -55 -121 -102 -149c-35 -21 -75 -34 -116 -34c-55 0 -108 28 -108 89c0 71 55 121 102 149c35 21 75 34 116 34z\" fill=\"currentColor\"/>\n",
       "<path transform=\"translate(9.3358, 4.9975) scale(0.0040, -0.0040)\" d=\"M376 262c4 0 9 1 13 1c155 0 256 -128 256 -261c0 -76 -33 -154 -107 -210c-22 -17 -47 -28 -73 -36c3 -35 5 -70 5 -105c0 -19 -1 -39 -2 -58c-7 -120 -90 -228 -208 -228c-108 0 -195 88 -195 197c0 58 53 103 112 103c54 0 95 -47 95 -103c0 -52 -43 -95 -95 -95\n",
       "c-11 0 -21 2 -31 6c26 -39 68 -65 117 -65c96 0 157 92 163 191c1 18 2 37 2 55c0 31 -1 61 -4 92c-29 -5 -58 -8 -89 -8c-188 0 -333 172 -333 374c0 177 131 306 248 441c-19 62 -37 125 -45 190c-6 52 -7 104 -7 156c0 115 55 224 149 292c3 2 7 3 10 3c4 0 7 0 10 -3\n",
       "c71 -84 133 -245 133 -358c0 -143 -86 -255 -180 -364c21 -68 39 -138 56 -207zM461 -203c68 24 113 95 113 164c0 90 -66 179 -173 190c24 -116 46 -231 60 -354zM74 28c0 -135 129 -247 264 -247c28 0 55 2 82 6c-14 127 -37 245 -63 364c-79 -8 -124 -61 -124 -119\n",
       "c0 -44 25 -91 81 -123c5 -5 7 -10 7 -15c0 -11 -10 -22 -22 -22c-3 0 -6 1 -9 2c-80 43 -117 115 -117 185c0 88 58 174 160 197c-14 58 -29 117 -46 175c-107 -121 -213 -243 -213 -403zM408 1045c-99 -48 -162 -149 -162 -259c0 -74 18 -133 36 -194\n",
       "c80 97 146 198 146 324c0 55 -4 79 -20 129z\" fill=\"currentColor\"/>\n",
       "<path transform=\"translate(13.5358, 3.9975) scale(0.0040, -0.0040)\" d=\"M359 27c-49 0 -75 42 -75 75c0 38 27 77 72 77c4 0 9 0 14 -1c-28 37 -72 59 -120 59c-106 0 -113 -73 -113 -186v-51v-51c0 -113 7 -187 113 -187c80 0 139 70 158 151c2 7 7 10 12 10c6 0 13 -4 13 -12c0 -94 -105 -174 -183 -174c-68 0 -137 21 -184 70\n",
       "c-49 51 -66 122 -66 193s17 142 66 193c47 49 116 69 184 69c87 0 160 -64 175 -150c1 -5 1 -9 1 -13c0 -40 -30 -72 -67 -72z\" fill=\"currentColor\"/>\n",
       "<rect transform=\"translate(19.2250, 3.9975)\" x=\"-0.0650\" y=\"-1.8147\" width=\"0.1300\" height=\"3.1286\" ry=\"0.0400\" fill=\"currentColor\"/>\n",
       "<path transform=\"translate(16.5358, 5.4975) scale(0.0040, -0.0040)\" d=\"M216 -312c0 -10 -8 -19 -18 -19s-19 9 -19 19v145l-83 -31v-158c0 -10 -9 -19 -19 -19s-18 9 -18 19v145l-32 -12c-2 -1 -5 -1 -7 -1c-11 0 -20 9 -20 20v60c0 8 5 16 13 19l46 16v160l-32 -11c-2 -1 -5 -1 -7 -1c-11 0 -20 9 -20 20v60c0 8 5 15 13 18l46 17v158\n",
       "c0 10 8 19 18 19s19 -9 19 -19v-145l83 31v158c0 10 9 19 19 19s18 -9 18 -19v-145l32 12c2 1 5 1 7 1c11 0 20 -9 20 -20v-60c0 -8 -5 -16 -13 -19l-46 -16v-160l32 11c2 1 5 1 7 1c11 0 20 -9 20 -20v-60c0 -8 -5 -15 -13 -18l-46 -17v-158zM96 65v-160l83 30v160z\" fill=\"currentColor\"/>\n",
       "</svg>\n"
      ]
     },
     "metadata": {},
     "output_type": "display_data"
    }
   ],
   "source": [
    "abjad.show(tuplet)"
   ]
  },
  {
   "cell_type": "markdown",
   "metadata": {},
   "source": [
    "...or using a LilyPond string:"
   ]
  },
  {
   "cell_type": "code",
   "execution_count": 22,
   "metadata": {},
   "outputs": [],
   "source": [
    "tuplet.append(\"bf8\")"
   ]
  },
  {
   "cell_type": "code",
   "execution_count": 23,
   "metadata": {},
   "outputs": [
    {
     "data": {
      "image/svg+xml": [
       "<svg xmlns=\"http://www.w3.org/2000/svg\" xmlns:xlink=\"http://www.w3.org/1999/xlink\" version=\"1.2\" width=\"41.33mm\" height=\"14.23mm\" viewBox=\"8.5358 -0.0000 23.5188 8.0975\">\n",
       "<style text=\"style/css\">\n",
       "<![CDATA[\n",
       "tspan { white-space: pre; }\n",
       "]]>\n",
       "</style>\n",
       "<line transform=\"translate(8.5358, 5.9975)\" stroke-linejoin=\"round\" stroke-linecap=\"round\" stroke-width=\"0.1000\" stroke=\"currentColor\" x1=\"0.0500\" y1=\"-0.0000\" x2=\"23.5188\" y2=\"-0.0000\"/>\n",
       "<line transform=\"translate(8.5358, 4.9975)\" stroke-linejoin=\"round\" stroke-linecap=\"round\" stroke-width=\"0.1000\" stroke=\"currentColor\" x1=\"0.0500\" y1=\"-0.0000\" x2=\"23.5188\" y2=\"-0.0000\"/>\n",
       "<line transform=\"translate(8.5358, 3.9975)\" stroke-linejoin=\"round\" stroke-linecap=\"round\" stroke-width=\"0.1000\" stroke=\"currentColor\" x1=\"0.0500\" y1=\"-0.0000\" x2=\"23.5188\" y2=\"-0.0000\"/>\n",
       "<line transform=\"translate(8.5358, 2.9975)\" stroke-linejoin=\"round\" stroke-linecap=\"round\" stroke-width=\"0.1000\" stroke=\"currentColor\" x1=\"0.0500\" y1=\"-0.0000\" x2=\"23.5188\" y2=\"-0.0000\"/>\n",
       "<line transform=\"translate(8.5358, 1.9975)\" stroke-linejoin=\"round\" stroke-linecap=\"round\" stroke-width=\"0.1000\" stroke=\"currentColor\" x1=\"0.0500\" y1=\"-0.0000\" x2=\"23.5188\" y2=\"-0.0000\"/>\n",
       "<rect transform=\"translate(0.0000, 6.9975)\" x=\"29.4254\" y=\"-0.1000\" width=\"1.8053\" height=\"0.2000\" ry=\"0.1000\" fill=\"currentColor\"/>\n",
       "<rect transform=\"translate(30.8396, 3.9975)\" x=\"-0.0650\" y=\"-0.0000\" width=\"0.1300\" height=\"3.3139\" ry=\"0.0400\" fill=\"currentColor\"/>\n",
       "<line transform=\"translate(19.1600, 0.5975)\" stroke-linejoin=\"round\" stroke-linecap=\"round\" stroke-width=\"0.1600\" stroke=\"currentColor\" x1=\"11.9446\" y1=\"-0.0000\" x2=\"11.9446\" y2=\"-0.0000\"/>\n",
       "<line transform=\"translate(19.1600, 0.5975)\" stroke-linejoin=\"round\" stroke-linecap=\"round\" stroke-width=\"0.1600\" stroke=\"currentColor\" x1=\"-0.2000\" y1=\"-0.0000\" x2=\"-0.2000\" y2=\"0.7000\"/>\n",
       "<line transform=\"translate(19.1600, 0.5975)\" stroke-linejoin=\"round\" stroke-linecap=\"round\" stroke-width=\"0.1600\" stroke=\"currentColor\" x1=\"11.9446\" y1=\"-0.0000\" x2=\"6.9162\" y2=\"-0.0000\"/>\n",
       "<line transform=\"translate(19.1600, 0.5975)\" stroke-linejoin=\"round\" stroke-linecap=\"round\" stroke-width=\"0.1600\" stroke=\"currentColor\" x1=\"-0.2000\" y1=\"-0.0000\" x2=\"5.0284\" y2=\"-0.0000\"/>\n",
       "<path transform=\"translate(30.9046, 4.0375) scale(0.0040, -0.0040)\" d=\"M0 0c0 -197 207 -336 207 -533c0 -71 -15 -141 -41 -207c-5 -8 -13 -12 -20 -12c-13 0 -26 11 -23 27c26 61 42 126 42 192c0 103 -94 208 -165 283h-16v250h16z\" fill=\"currentColor\"/>\n",
       "<path transform=\"translate(28.4504, 7.4975) scale(0.0040, -0.0040)\" d=\"M27 41l-1 -66v-11c0 -22 1 -44 4 -66c45 38 93 80 93 139c0 33 -14 67 -43 67c-31 0 -52 -30 -53 -63zM-15 -138l-12 595c8 5 18 8 27 8s19 -3 27 -8l-7 -345c25 21 58 34 91 34c52 0 89 -48 89 -102c0 -80 -86 -117 -147 -169c-15 -13 -24 -38 -45 -38\n",
       "c-13 0 -23 11 -23 25z\" fill=\"currentColor\"/>\n",
       "<path transform=\"translate(20.4900, 4.9975) scale(0.0040, -0.0040)\" d=\"M218 136c55 0 108 -28 108 -89c0 -71 -55 -121 -102 -149c-35 -21 -75 -34 -116 -34c-55 0 -108 28 -108 89c0 71 55 121 102 149c35 21 75 34 116 34z\" fill=\"currentColor\"/>\n",
       "<rect transform=\"translate(21.7292, 3.9975)\" x=\"-0.0650\" y=\"-1.9953\" width=\"0.1300\" height=\"2.8092\" ry=\"0.0400\" fill=\"currentColor\"/>\n",
       "<path transform=\"translate(22.9942, 3.9975) scale(0.0040, -0.0040)\" d=\"M72 -250l117 326c-34 -12 -69 -22 -105 -22c-46 0 -87 33 -87 79c0 40 33 72 73 72c25 0 48 -15 56 -39c10 -28 6 -59 35 -59c16 0 54 48 61 63c6 12 23 12 28 0l-123 -420c-8 -7 -17 -10 -27 -10s-20 3 -28 10z\" fill=\"currentColor\"/>\n",
       "<path transform=\"translate(25.1942, 5.9975) scale(0.0040, -0.0040)\" d=\"M218 136c55 0 108 -28 108 -89c0 -71 -55 -121 -102 -149c-35 -21 -75 -34 -116 -34c-55 0 -108 28 -108 89c0 71 55 121 102 149c35 21 75 34 116 34z\" fill=\"currentColor\"/>\n",
       "<path transform=\"translate(26.9485, 5.4975) scale(0.0040, -0.0040)\" d=\"M0 0c0 31 25 56 56 56s56 -25 56 -56s-25 -56 -56 -56s-56 25 -56 56z\" fill=\"currentColor\"/>\n",
       "<rect transform=\"translate(26.4335, 3.9975)\" x=\"-0.0650\" y=\"-1.5000\" width=\"0.1300\" height=\"3.3139\" ry=\"0.0400\" fill=\"currentColor\"/>\n",
       "<polygon transform=\"translate(19.1600, 2.1875)\" stroke-linejoin=\"round\" stroke-linecap=\"round\" stroke-width=\"0.0800\" fill=\"currentColor\" stroke=\"currentColor\" points=\"2.5942 -0.3900 2.5942 0.0100 0.0400 0.2000 0.0400 -0.2000\"/>\n",
       "<text transform=\"translate(24.5885, 1.1609)\" font-family=\"serif\" font-style=\"italic\" font-size=\"1.7461\" text-anchor=\"start\" fill=\"currentColor\">\n",
       "<tspan>5</tspan>\n",
       "</text>\n",
       "<path transform=\"translate(17.9858, 5.4975) scale(0.0040, -0.0040)\" d=\"M218 136c55 0 108 -28 108 -89c0 -71 -55 -121 -102 -149c-35 -21 -75 -34 -116 -34c-55 0 -108 28 -108 89c0 71 55 121 102 149c35 21 75 34 116 34z\" fill=\"currentColor\"/>\n",
       "<path transform=\"translate(9.3358, 4.9975) scale(0.0040, -0.0040)\" d=\"M376 262c4 0 9 1 13 1c155 0 256 -128 256 -261c0 -76 -33 -154 -107 -210c-22 -17 -47 -28 -73 -36c3 -35 5 -70 5 -105c0 -19 -1 -39 -2 -58c-7 -120 -90 -228 -208 -228c-108 0 -195 88 -195 197c0 58 53 103 112 103c54 0 95 -47 95 -103c0 -52 -43 -95 -95 -95\n",
       "c-11 0 -21 2 -31 6c26 -39 68 -65 117 -65c96 0 157 92 163 191c1 18 2 37 2 55c0 31 -1 61 -4 92c-29 -5 -58 -8 -89 -8c-188 0 -333 172 -333 374c0 177 131 306 248 441c-19 62 -37 125 -45 190c-6 52 -7 104 -7 156c0 115 55 224 149 292c3 2 7 3 10 3c4 0 7 0 10 -3\n",
       "c71 -84 133 -245 133 -358c0 -143 -86 -255 -180 -364c21 -68 39 -138 56 -207zM461 -203c68 24 113 95 113 164c0 90 -66 179 -173 190c24 -116 46 -231 60 -354zM74 28c0 -135 129 -247 264 -247c28 0 55 2 82 6c-14 127 -37 245 -63 364c-79 -8 -124 -61 -124 -119\n",
       "c0 -44 25 -91 81 -123c5 -5 7 -10 7 -15c0 -11 -10 -22 -22 -22c-3 0 -6 1 -9 2c-80 43 -117 115 -117 185c0 88 58 174 160 197c-14 58 -29 117 -46 175c-107 -121 -213 -243 -213 -403zM408 1045c-99 -48 -162 -149 -162 -259c0 -74 18 -133 36 -194\n",
       "c80 97 146 198 146 324c0 55 -4 79 -20 129z\" fill=\"currentColor\"/>\n",
       "<path transform=\"translate(13.5358, 3.9975) scale(0.0040, -0.0040)\" d=\"M359 27c-49 0 -75 42 -75 75c0 38 27 77 72 77c4 0 9 0 14 -1c-28 37 -72 59 -120 59c-106 0 -113 -73 -113 -186v-51v-51c0 -113 7 -187 113 -187c80 0 139 70 158 151c2 7 7 10 12 10c6 0 13 -4 13 -12c0 -94 -105 -174 -183 -174c-68 0 -137 21 -184 70\n",
       "c-49 51 -66 122 -66 193s17 142 66 193c47 49 116 69 184 69c87 0 160 -64 175 -150c1 -5 1 -9 1 -13c0 -40 -30 -72 -67 -72z\" fill=\"currentColor\"/>\n",
       "<rect transform=\"translate(19.2250, 3.9975)\" x=\"-0.0650\" y=\"-1.8147\" width=\"0.1300\" height=\"3.1286\" ry=\"0.0400\" fill=\"currentColor\"/>\n",
       "<path transform=\"translate(29.6004, 7.4975) scale(0.0040, -0.0040)\" d=\"M218 136c55 0 108 -28 108 -89c0 -71 -55 -121 -102 -149c-35 -21 -75 -34 -116 -34c-55 0 -108 28 -108 89c0 71 55 121 102 149c35 21 75 34 116 34z\" fill=\"currentColor\"/>\n",
       "<path transform=\"translate(16.5358, 5.4975) scale(0.0040, -0.0040)\" d=\"M216 -312c0 -10 -8 -19 -18 -19s-19 9 -19 19v145l-83 -31v-158c0 -10 -9 -19 -19 -19s-18 9 -18 19v145l-32 -12c-2 -1 -5 -1 -7 -1c-11 0 -20 9 -20 20v60c0 8 5 16 13 19l46 16v160l-32 -11c-2 -1 -5 -1 -7 -1c-11 0 -20 9 -20 20v60c0 8 5 15 13 18l46 17v158\n",
       "c0 10 8 19 18 19s19 -9 19 -19v-145l83 31v158c0 10 9 19 19 19s18 -9 18 -19v-145l32 12c2 1 5 1 7 1c11 0 20 -9 20 -20v-60c0 -8 -5 -16 -13 -19l-46 -16v-160l32 11c2 1 5 1 7 1c11 0 20 -9 20 -20v-60c0 -8 -5 -15 -13 -18l-46 -17v-158zM96 65v-160l83 30v160z\" fill=\"currentColor\"/>\n",
       "</svg>\n"
      ]
     },
     "metadata": {},
     "output_type": "display_data"
    }
   ],
   "source": [
    "abjad.show(tuplet)"
   ]
  },
  {
   "cell_type": "markdown",
   "metadata": {},
   "source": [
    "Likewise, the extend method adds two or more leaves at a time:"
   ]
  },
  {
   "cell_type": "code",
   "execution_count": 24,
   "metadata": {},
   "outputs": [],
   "source": [
    "notes = [abjad.Note(\"fs'32\"), abjad.Note(\"e'32\"), abjad.Note(\"d'32\"), abjad.Rest((1, 32))]"
   ]
  },
  {
   "cell_type": "code",
   "execution_count": 25,
   "metadata": {},
   "outputs": [],
   "source": [
    "tuplet.extend(notes)"
   ]
  },
  {
   "cell_type": "code",
   "execution_count": 26,
   "metadata": {},
   "outputs": [
    {
     "data": {
      "image/svg+xml": [
       "<svg xmlns=\"http://www.w3.org/2000/svg\" xmlns:xlink=\"http://www.w3.org/1999/xlink\" version=\"1.2\" width=\"80.56mm\" height=\"14.23mm\" viewBox=\"8.5358 -0.0000 45.8447 8.0975\">\n",
       "<style text=\"style/css\">\n",
       "<![CDATA[\n",
       "tspan { white-space: pre; }\n",
       "]]>\n",
       "</style>\n",
       "<line transform=\"translate(8.5358, 5.9975)\" stroke-linejoin=\"round\" stroke-linecap=\"round\" stroke-width=\"0.1000\" stroke=\"currentColor\" x1=\"0.0500\" y1=\"-0.0000\" x2=\"45.8447\" y2=\"-0.0000\"/>\n",
       "<line transform=\"translate(8.5358, 4.9975)\" stroke-linejoin=\"round\" stroke-linecap=\"round\" stroke-width=\"0.1000\" stroke=\"currentColor\" x1=\"0.0500\" y1=\"-0.0000\" x2=\"45.8447\" y2=\"-0.0000\"/>\n",
       "<line transform=\"translate(8.5358, 3.9975)\" stroke-linejoin=\"round\" stroke-linecap=\"round\" stroke-width=\"0.1000\" stroke=\"currentColor\" x1=\"0.0500\" y1=\"-0.0000\" x2=\"45.8447\" y2=\"-0.0000\"/>\n",
       "<line transform=\"translate(8.5358, 2.9975)\" stroke-linejoin=\"round\" stroke-linecap=\"round\" stroke-width=\"0.1000\" stroke=\"currentColor\" x1=\"0.0500\" y1=\"-0.0000\" x2=\"45.8447\" y2=\"-0.0000\"/>\n",
       "<line transform=\"translate(8.5358, 1.9975)\" stroke-linejoin=\"round\" stroke-linecap=\"round\" stroke-width=\"0.1000\" stroke=\"currentColor\" x1=\"0.0500\" y1=\"-0.0000\" x2=\"45.8447\" y2=\"-0.0000\"/>\n",
       "<rect transform=\"translate(0.0000, 6.9975)\" x=\"39.0254\" y=\"-0.1000\" width=\"1.8053\" height=\"0.2000\" ry=\"0.1000\" fill=\"currentColor\"/>\n",
       "<path transform=\"translate(32.3942, 5.9975) scale(0.0040, -0.0040)\" d=\"M218 136c55 0 108 -28 108 -89c0 -71 -55 -121 -102 -149c-35 -21 -75 -34 -116 -34c-55 0 -108 28 -108 89c0 71 55 121 102 149c35 21 75 34 116 34z\" fill=\"currentColor\"/>\n",
       "<path transform=\"translate(27.7942, 3.9975) scale(0.0040, -0.0040)\" d=\"M72 -250l117 326c-34 -12 -69 -22 -105 -22c-46 0 -87 33 -87 79c0 40 33 72 73 72c25 0 48 -15 56 -39c10 -28 6 -59 35 -59c16 0 54 48 61 63c6 12 23 12 28 0l-123 -420c-8 -7 -17 -10 -27 -10s-20 3 -28 10z\" fill=\"currentColor\"/>\n",
       "<rect transform=\"translate(24.1292, 3.9975)\" x=\"-0.0650\" y=\"-1.9975\" width=\"0.1300\" height=\"2.8114\" ry=\"0.0400\" fill=\"currentColor\"/>\n",
       "<path transform=\"translate(22.8900, 4.9975) scale(0.0040, -0.0040)\" d=\"M218 136c55 0 108 -28 108 -89c0 -71 -55 -121 -102 -149c-35 -21 -75 -34 -116 -34c-55 0 -108 28 -108 89c0 71 55 121 102 149c35 21 75 34 116 34z\" fill=\"currentColor\"/>\n",
       "<path transform=\"translate(51.9305, 3.9975) scale(0.0040, -0.0040)\" d=\"M54 -500l86 327c-35 -13 -71 -23 -108 -23c-46 0 -87 33 -87 79c0 40 32 72 72 72c25 0 49 -15 57 -39c10 -28 5 -59 34 -59c17 0 54 54 59 71l39 149c-34 -12 -70 -23 -106 -23c-46 0 -87 33 -87 79c0 40 33 72 73 72c25 0 48 -15 56 -39c10 -28 5 -59 34 -59\n",
       "c16 0 52 51 56 68l40 151c-33 -12 -68 -22 -103 -22c-46 0 -87 33 -87 79c0 40 32 72 72 72c25 0 49 -15 57 -39c10 -28 5 -59 34 -59c15 0 46 49 52 63c6 12 23 12 28 0l-216 -920c-8 -7 -18 -10 -28 -10s-19 3 -27 10z\" fill=\"currentColor\"/>\n",
       "<line transform=\"translate(19.1600, 0.5975)\" stroke-linejoin=\"round\" stroke-linecap=\"round\" stroke-width=\"0.1600\" stroke=\"currentColor\" x1=\"34.2705\" y1=\"-0.0000\" x2=\"34.2705\" y2=\"-0.0000\"/>\n",
       "<line transform=\"translate(19.1600, 0.5975)\" stroke-linejoin=\"round\" stroke-linecap=\"round\" stroke-width=\"0.1600\" stroke=\"currentColor\" x1=\"-0.2000\" y1=\"-0.0000\" x2=\"-0.2000\" y2=\"0.7000\"/>\n",
       "<line transform=\"translate(19.1600, 0.5975)\" stroke-linejoin=\"round\" stroke-linecap=\"round\" stroke-width=\"0.1600\" stroke=\"currentColor\" x1=\"34.2705\" y1=\"-0.0000\" x2=\"18.0791\" y2=\"-0.0000\"/>\n",
       "<line transform=\"translate(19.1600, 0.5975)\" stroke-linejoin=\"round\" stroke-linecap=\"round\" stroke-width=\"0.1600\" stroke=\"currentColor\" x1=\"-0.2000\" y1=\"-0.0000\" x2=\"16.1914\" y2=\"-0.0000\"/>\n",
       "<text transform=\"translate(35.7514, 1.1609)\" font-family=\"serif\" font-style=\"italic\" font-size=\"1.7461\" text-anchor=\"start\" fill=\"currentColor\">\n",
       "<tspan>5</tspan>\n",
       "</text>\n",
       "<polygon transform=\"translate(19.1600, 2.1875)\" stroke-linejoin=\"round\" stroke-linecap=\"round\" stroke-width=\"0.0800\" fill=\"currentColor\" stroke=\"currentColor\" points=\"4.9942 -0.3900 4.9942 0.0100 0.0400 0.2000 0.0400 -0.2000\"/>\n",
       "<polygon transform=\"translate(40.3746, 2.1875)\" stroke-linejoin=\"round\" stroke-linecap=\"round\" stroke-width=\"0.0800\" fill=\"currentColor\" stroke=\"currentColor\" points=\"7.7484 -0.2000 7.7484 0.2000 0.0400 0.2000 0.0400 -0.2000\"/>\n",
       "<polygon transform=\"translate(45.5288, 2.9975)\" stroke-linejoin=\"round\" stroke-linecap=\"round\" stroke-width=\"0.0800\" fill=\"currentColor\" stroke=\"currentColor\" points=\"2.5942 -0.2000 2.5942 0.2000 0.0400 0.2000 0.0400 -0.2000\"/>\n",
       "<polygon transform=\"translate(45.5288, 3.8075)\" stroke-linejoin=\"round\" stroke-linecap=\"round\" stroke-width=\"0.0800\" fill=\"currentColor\" stroke=\"currentColor\" points=\"2.5942 -0.2000 2.5942 0.2000 0.0400 0.2000 0.0400 -0.2000\"/>\n",
       "<rect transform=\"translate(45.5938, 3.9975)\" x=\"-0.0650\" y=\"-1.8100\" width=\"0.1300\" height=\"3.1239\" ry=\"0.0400\" fill=\"currentColor\"/>\n",
       "<path transform=\"translate(44.3546, 5.4975) scale(0.0040, -0.0040)\" d=\"M218 136c55 0 108 -28 108 -89c0 -71 -55 -121 -102 -149c-35 -21 -75 -34 -116 -34c-55 0 -108 28 -108 89c0 71 55 121 102 149c35 21 75 34 116 34z\" fill=\"currentColor\"/>\n",
       "<path transform=\"translate(38.0504, 7.4975) scale(0.0040, -0.0040)\" d=\"M27 41l-1 -66v-11c0 -22 1 -44 4 -66c45 38 93 80 93 139c0 33 -14 67 -43 67c-31 0 -52 -30 -53 -63zM-15 -138l-12 595c8 5 18 8 27 8s19 -3 27 -8l-7 -345c25 21 58 34 91 34c52 0 89 -48 89 -102c0 -80 -86 -117 -147 -169c-15 -13 -24 -38 -45 -38\n",
       "c-13 0 -23 11 -23 25z\" fill=\"currentColor\"/>\n",
       "<path transform=\"translate(34.1485, 5.4975) scale(0.0040, -0.0040)\" d=\"M0 0c0 31 25 56 56 56s56 -25 56 -56s-25 -56 -56 -56s-56 25 -56 56z\" fill=\"currentColor\"/>\n",
       "<rect transform=\"translate(40.4396, 3.9975)\" x=\"-0.0650\" y=\"-1.8100\" width=\"0.1300\" height=\"5.1239\" ry=\"0.0400\" fill=\"currentColor\"/>\n",
       "<path transform=\"translate(39.2004, 7.4975) scale(0.0040, -0.0040)\" d=\"M218 136c55 0 108 -28 108 -89c0 -71 -55 -121 -102 -149c-35 -21 -75 -34 -116 -34c-55 0 -108 28 -108 89c0 71 55 121 102 149c35 21 75 34 116 34z\" fill=\"currentColor\"/>\n",
       "<rect transform=\"translate(33.6335, 3.9975)\" x=\"-0.0650\" y=\"-1.5000\" width=\"0.1300\" height=\"3.3139\" ry=\"0.0400\" fill=\"currentColor\"/>\n",
       "<path transform=\"translate(50.6673, 2.2875) scale(0.0040, -0.0040)\" d=\"M0 -212v-5c0 -110 85 -194 144 -285c3 11 5 23 5 35c0 93 -85 187 -149 255zM0 0c0 -175 191 -292 191 -467c0 -29 -8 -57 -19 -84c17 -35 29 -71 29 -111c0 -36 -8 -72 -23 -105c18 -35 29 -72 29 -113c0 -60 -15 -119 -41 -173c-5 -8 -13 -11 -20 -11\n",
       "c-13 0 -26 11 -23 27c26 49 42 102 42 157c0 91 -94 175 -165 233v-103h-16v750h16zM0 -430v-5c0 -112 88 -194 149 -285c6 19 10 38 10 58c0 90 -91 173 -159 232z\" fill=\"currentColor\"/>\n",
       "<path transform=\"translate(16.5358, 5.4975) scale(0.0040, -0.0040)\" d=\"M216 -312c0 -10 -8 -19 -18 -19s-19 9 -19 19v145l-83 -31v-158c0 -10 -9 -19 -19 -19s-18 9 -18 19v145l-32 -12c-2 -1 -5 -1 -7 -1c-11 0 -20 9 -20 20v60c0 8 5 16 13 19l46 16v160l-32 -11c-2 -1 -5 -1 -7 -1c-11 0 -20 9 -20 20v60c0 8 5 15 13 18l46 17v158\n",
       "c0 10 8 19 18 19s19 -9 19 -19v-145l83 31v158c0 10 9 19 19 19s18 -9 18 -19v-145l32 12c2 1 5 1 7 1c11 0 20 -9 20 -20v-60c0 -8 -5 -16 -13 -19l-46 -16v-160l32 11c2 1 5 1 7 1c11 0 20 -9 20 -20v-60c0 -8 -5 -15 -13 -18l-46 -17v-158zM96 65v-160l83 30v160z\" fill=\"currentColor\"/>\n",
       "<rect transform=\"translate(19.2250, 3.9975)\" x=\"-0.0650\" y=\"-1.8125\" width=\"0.1300\" height=\"3.1263\" ry=\"0.0400\" fill=\"currentColor\"/>\n",
       "<path transform=\"translate(13.5358, 3.9975) scale(0.0040, -0.0040)\" d=\"M359 27c-49 0 -75 42 -75 75c0 38 27 77 72 77c4 0 9 0 14 -1c-28 37 -72 59 -120 59c-106 0 -113 -73 -113 -186v-51v-51c0 -113 7 -187 113 -187c80 0 139 70 158 151c2 7 7 10 12 10c6 0 13 -4 13 -12c0 -94 -105 -174 -183 -174c-68 0 -137 21 -184 70\n",
       "c-49 51 -66 122 -66 193s17 142 66 193c47 49 116 69 184 69c87 0 160 -64 175 -150c1 -5 1 -9 1 -13c0 -40 -30 -72 -67 -72z\" fill=\"currentColor\"/>\n",
       "<path transform=\"translate(9.3358, 4.9975) scale(0.0040, -0.0040)\" d=\"M376 262c4 0 9 1 13 1c155 0 256 -128 256 -261c0 -76 -33 -154 -107 -210c-22 -17 -47 -28 -73 -36c3 -35 5 -70 5 -105c0 -19 -1 -39 -2 -58c-7 -120 -90 -228 -208 -228c-108 0 -195 88 -195 197c0 58 53 103 112 103c54 0 95 -47 95 -103c0 -52 -43 -95 -95 -95\n",
       "c-11 0 -21 2 -31 6c26 -39 68 -65 117 -65c96 0 157 92 163 191c1 18 2 37 2 55c0 31 -1 61 -4 92c-29 -5 -58 -8 -89 -8c-188 0 -333 172 -333 374c0 177 131 306 248 441c-19 62 -37 125 -45 190c-6 52 -7 104 -7 156c0 115 55 224 149 292c3 2 7 3 10 3c4 0 7 0 10 -3\n",
       "c71 -84 133 -245 133 -358c0 -143 -86 -255 -180 -364c21 -68 39 -138 56 -207zM461 -203c68 24 113 95 113 164c0 90 -66 179 -173 190c24 -116 46 -231 60 -354zM74 28c0 -135 129 -247 264 -247c28 0 55 2 82 6c-14 127 -37 245 -63 364c-79 -8 -124 -61 -124 -119\n",
       "c0 -44 25 -91 81 -123c5 -5 7 -10 7 -15c0 -11 -10 -22 -22 -22c-3 0 -6 1 -9 2c-80 43 -117 115 -117 185c0 88 58 174 160 197c-14 58 -29 117 -46 175c-107 -121 -213 -243 -213 -403zM408 1045c-99 -48 -162 -149 -162 -259c0 -74 18 -133 36 -194\n",
       "c80 97 146 198 146 324c0 55 -4 79 -20 129z\" fill=\"currentColor\"/>\n",
       "<path transform=\"translate(17.9858, 5.4975) scale(0.0040, -0.0040)\" d=\"M218 136c55 0 108 -28 108 -89c0 -71 -55 -121 -102 -149c-35 -21 -75 -34 -116 -34c-55 0 -108 28 -108 89c0 71 55 121 102 149c35 21 75 34 116 34z\" fill=\"currentColor\"/>\n",
       "<rect transform=\"translate(50.6023, 3.9975)\" x=\"-0.0650\" y=\"-1.7500\" width=\"0.1300\" height=\"4.0639\" ry=\"0.0400\" fill=\"currentColor\"/>\n",
       "<path transform=\"translate(49.3630, 6.4975) scale(0.0040, -0.0040)\" d=\"M218 136c55 0 108 -28 108 -89c0 -71 -55 -121 -102 -149c-35 -21 -75 -34 -116 -34c-55 0 -108 28 -108 89c0 71 55 121 102 149c35 21 75 34 116 34z\" fill=\"currentColor\"/>\n",
       "<rect transform=\"translate(48.0980, 3.9975)\" x=\"-0.0650\" y=\"-1.8100\" width=\"0.1300\" height=\"3.6239\" ry=\"0.0400\" fill=\"currentColor\"/>\n",
       "<path transform=\"translate(46.8588, 5.9975) scale(0.0040, -0.0040)\" d=\"M218 136c55 0 108 -28 108 -89c0 -71 -55 -121 -102 -149c-35 -21 -75 -34 -116 -34c-55 0 -108 28 -108 89c0 71 55 121 102 149c35 21 75 34 116 34z\" fill=\"currentColor\"/>\n",
       "</svg>\n"
      ]
     },
     "metadata": {},
     "output_type": "display_data"
    }
   ],
   "source": [
    "abjad.show(tuplet)"
   ]
  },
  {
   "cell_type": "markdown",
   "metadata": {},
   "source": [
    "And you can use a LilyPond string with extend, too:"
   ]
  },
  {
   "cell_type": "code",
   "execution_count": 27,
   "metadata": {},
   "outputs": [],
   "source": [
    "tuplet.extend(\"gs'8 a8\")"
   ]
  },
  {
   "cell_type": "code",
   "execution_count": 28,
   "metadata": {},
   "outputs": [
    {
     "data": {
      "image/svg+xml": [
       "<svg xmlns=\"http://www.w3.org/2000/svg\" xmlns:xlink=\"http://www.w3.org/1999/xlink\" version=\"1.2\" width=\"99.71mm\" height=\"15.01mm\" viewBox=\"8.5358 -0.0000 56.7431 8.5425\">\n",
       "<style text=\"style/css\">\n",
       "<![CDATA[\n",
       "tspan { white-space: pre; }\n",
       "]]>\n",
       "</style>\n",
       "<line transform=\"translate(8.5358, 5.9975)\" stroke-linejoin=\"round\" stroke-linecap=\"round\" stroke-width=\"0.1000\" stroke=\"currentColor\" x1=\"0.0500\" y1=\"-0.0000\" x2=\"56.6931\" y2=\"-0.0000\"/>\n",
       "<line transform=\"translate(8.5358, 4.9975)\" stroke-linejoin=\"round\" stroke-linecap=\"round\" stroke-width=\"0.1000\" stroke=\"currentColor\" x1=\"0.0500\" y1=\"-0.0000\" x2=\"56.6931\" y2=\"-0.0000\"/>\n",
       "<line transform=\"translate(8.5358, 3.9975)\" stroke-linejoin=\"round\" stroke-linecap=\"round\" stroke-width=\"0.1000\" stroke=\"currentColor\" x1=\"0.0500\" y1=\"-0.0000\" x2=\"56.6931\" y2=\"-0.0000\"/>\n",
       "<line transform=\"translate(8.5358, 2.9975)\" stroke-linejoin=\"round\" stroke-linecap=\"round\" stroke-width=\"0.1000\" stroke=\"currentColor\" x1=\"0.0500\" y1=\"-0.0000\" x2=\"56.6931\" y2=\"-0.0000\"/>\n",
       "<line transform=\"translate(8.5358, 1.9975)\" stroke-linejoin=\"round\" stroke-linecap=\"round\" stroke-width=\"0.1000\" stroke=\"currentColor\" x1=\"0.0500\" y1=\"-0.0000\" x2=\"56.6931\" y2=\"-0.0000\"/>\n",
       "<rect transform=\"translate(0.0000, 6.9975)\" x=\"59.6087\" y=\"-0.1000\" width=\"1.9563\" height=\"0.2000\" ry=\"0.1000\" fill=\"currentColor\"/>\n",
       "<rect transform=\"translate(0.0000, 7.9975)\" x=\"59.6087\" y=\"-0.1000\" width=\"1.9563\" height=\"0.2000\" ry=\"0.1000\" fill=\"currentColor\"/>\n",
       "<rect transform=\"translate(0.0000, 6.9975)\" x=\"39.0254\" y=\"-0.1000\" width=\"1.8053\" height=\"0.2000\" ry=\"0.1000\" fill=\"currentColor\"/>\n",
       "<rect transform=\"translate(65.0889, 3.9975)\" x=\"0.0000\" y=\"-2.0000\" width=\"0.1900\" height=\"4.0000\" ry=\"0.0000\" fill=\"currentColor\"/>\n",
       "<rect transform=\"translate(40.4396, 3.9975)\" x=\"-0.0650\" y=\"-1.8100\" width=\"0.1300\" height=\"5.1239\" ry=\"0.0400\" fill=\"currentColor\"/>\n",
       "<rect transform=\"translate(33.6335, 3.9975)\" x=\"-0.0650\" y=\"-1.5000\" width=\"0.1300\" height=\"3.3139\" ry=\"0.0400\" fill=\"currentColor\"/>\n",
       "<path transform=\"translate(34.1485, 5.4975) scale(0.0040, -0.0040)\" d=\"M0 0c0 31 25 56 56 56s56 -25 56 -56s-25 -56 -56 -56s-56 25 -56 56z\" fill=\"currentColor\"/>\n",
       "<path transform=\"translate(32.3942, 5.9975) scale(0.0040, -0.0040)\" d=\"M218 136c55 0 108 -28 108 -89c0 -71 -55 -121 -102 -149c-35 -21 -75 -34 -116 -34c-55 0 -108 28 -108 89c0 71 55 121 102 149c35 21 75 34 116 34z\" fill=\"currentColor\"/>\n",
       "<path transform=\"translate(27.7942, 3.9975) scale(0.0040, -0.0040)\" d=\"M72 -250l117 326c-34 -12 -69 -22 -105 -22c-46 0 -87 33 -87 79c0 40 33 72 73 72c25 0 48 -15 56 -39c10 -28 6 -59 35 -59c16 0 54 48 61 63c6 12 23 12 28 0l-123 -420c-8 -7 -17 -10 -27 -10s-20 3 -28 10z\" fill=\"currentColor\"/>\n",
       "<rect transform=\"translate(24.1292, 3.9975)\" x=\"-0.0650\" y=\"-1.9975\" width=\"0.1300\" height=\"2.8114\" ry=\"0.0400\" fill=\"currentColor\"/>\n",
       "<path transform=\"translate(22.8900, 4.9975) scale(0.0040, -0.0040)\" d=\"M218 136c55 0 108 -28 108 -89c0 -71 -55 -121 -102 -149c-35 -21 -75 -34 -116 -34c-55 0 -108 28 -108 89c0 71 55 121 102 149c35 21 75 34 116 34z\" fill=\"currentColor\"/>\n",
       "<line transform=\"translate(19.1600, 0.5975)\" stroke-linejoin=\"round\" stroke-linecap=\"round\" stroke-width=\"0.1600\" stroke=\"currentColor\" x1=\"42.2789\" y1=\"-0.0000\" x2=\"42.2789\" y2=\"0.7000\"/>\n",
       "<line transform=\"translate(19.1600, 0.5975)\" stroke-linejoin=\"round\" stroke-linecap=\"round\" stroke-width=\"0.1600\" stroke=\"currentColor\" x1=\"-0.2000\" y1=\"-0.0000\" x2=\"-0.2000\" y2=\"0.7000\"/>\n",
       "<line transform=\"translate(19.1600, 0.5975)\" stroke-linejoin=\"round\" stroke-linecap=\"round\" stroke-width=\"0.1600\" stroke=\"currentColor\" x1=\"42.2789\" y1=\"-0.0000\" x2=\"22.0833\" y2=\"-0.0000\"/>\n",
       "<line transform=\"translate(19.1600, 0.5975)\" stroke-linejoin=\"round\" stroke-linecap=\"round\" stroke-width=\"0.1600\" stroke=\"currentColor\" x1=\"-0.2000\" y1=\"-0.0000\" x2=\"20.1956\" y2=\"-0.0000\"/>\n",
       "<text transform=\"translate(39.7556, 1.1609)\" font-family=\"serif\" font-style=\"italic\" font-size=\"1.7461\" text-anchor=\"start\" fill=\"currentColor\">\n",
       "<tspan>5</tspan>\n",
       "</text>\n",
       "<polygon transform=\"translate(19.1600, 2.1875)\" stroke-linejoin=\"round\" stroke-linecap=\"round\" stroke-width=\"0.0800\" fill=\"currentColor\" stroke=\"currentColor\" points=\"4.9942 -0.3900 4.9942 0.0100 0.0400 0.2000 0.0400 -0.2000\"/>\n",
       "<polygon transform=\"translate(40.3746, 2.1875)\" stroke-linejoin=\"round\" stroke-linecap=\"round\" stroke-width=\"0.0800\" fill=\"currentColor\" stroke=\"currentColor\" points=\"7.7484 -0.2000 7.7484 0.2000 0.0400 0.2000 0.0400 -0.2000\"/>\n",
       "<polygon transform=\"translate(45.5288, 2.9975)\" stroke-linejoin=\"round\" stroke-linecap=\"round\" stroke-width=\"0.0800\" fill=\"currentColor\" stroke=\"currentColor\" points=\"2.5942 -0.2000 2.5942 0.2000 0.0400 0.2000 0.0400 -0.2000\"/>\n",
       "<polygon transform=\"translate(45.5288, 3.8075)\" stroke-linejoin=\"round\" stroke-linecap=\"round\" stroke-width=\"0.0800\" fill=\"currentColor\" stroke=\"currentColor\" points=\"2.5942 -0.2000 2.5942 0.2000 0.0400 0.2000 0.0400 -0.2000\"/>\n",
       "<polygon transform=\"translate(56.4547, 1.9975)\" stroke-linejoin=\"round\" stroke-linecap=\"round\" stroke-width=\"0.0800\" fill=\"currentColor\" stroke=\"currentColor\" points=\"4.7442 0.9900 4.7442 1.3900 0.0400 0.2000 0.0400 -0.2000\"/>\n",
       "<path transform=\"translate(51.9305, 3.9975) scale(0.0040, -0.0040)\" d=\"M54 -500l86 327c-35 -13 -71 -23 -108 -23c-46 0 -87 33 -87 79c0 40 32 72 72 72c25 0 49 -15 57 -39c10 -28 5 -59 34 -59c17 0 54 54 59 71l39 149c-34 -12 -70 -23 -106 -23c-46 0 -87 33 -87 79c0 40 33 72 73 72c25 0 48 -15 56 -39c10 -28 5 -59 34 -59\n",
       "c16 0 52 51 56 68l40 151c-33 -12 -68 -22 -103 -22c-46 0 -87 33 -87 79c0 40 32 72 72 72c25 0 49 -15 57 -39c10 -28 5 -59 34 -59c15 0 46 49 52 63c6 12 23 12 28 0l-216 -920c-8 -7 -18 -10 -28 -10s-19 3 -27 10z\" fill=\"currentColor\"/>\n",
       "<path transform=\"translate(50.6673, 2.2875) scale(0.0040, -0.0040)\" d=\"M0 -212v-5c0 -110 85 -194 144 -285c3 11 5 23 5 35c0 93 -85 187 -149 255zM0 0c0 -175 191 -292 191 -467c0 -29 -8 -57 -19 -84c17 -35 29 -71 29 -111c0 -36 -8 -72 -23 -105c18 -35 29 -72 29 -113c0 -60 -15 -119 -41 -173c-5 -8 -13 -11 -20 -11\n",
       "c-13 0 -26 11 -23 27c26 49 42 102 42 157c0 91 -94 175 -165 233v-103h-16v750h16zM0 -430v-5c0 -112 88 -194 149 -285c6 19 10 38 10 58c0 90 -91 173 -159 232z\" fill=\"currentColor\"/>\n",
       "<rect transform=\"translate(50.6023, 3.9975)\" x=\"-0.0650\" y=\"-1.7500\" width=\"0.1300\" height=\"4.0639\" ry=\"0.0400\" fill=\"currentColor\"/>\n",
       "<path transform=\"translate(49.3630, 6.4975) scale(0.0040, -0.0040)\" d=\"M218 136c55 0 108 -28 108 -89c0 -71 -55 -121 -102 -149c-35 -21 -75 -34 -116 -34c-55 0 -108 28 -108 89c0 71 55 121 102 149c35 21 75 34 116 34z\" fill=\"currentColor\"/>\n",
       "<path transform=\"translate(38.0504, 7.4975) scale(0.0040, -0.0040)\" d=\"M27 41l-1 -66v-11c0 -22 1 -44 4 -66c45 38 93 80 93 139c0 33 -14 67 -43 67c-31 0 -52 -30 -53 -63zM-15 -138l-12 595c8 5 18 8 27 8s19 -3 27 -8l-7 -345c25 21 58 34 91 34c52 0 89 -48 89 -102c0 -80 -86 -117 -147 -169c-15 -13 -24 -38 -45 -38\n",
       "c-13 0 -23 11 -23 25z\" fill=\"currentColor\"/>\n",
       "<rect transform=\"translate(48.0980, 3.9975)\" x=\"-0.0650\" y=\"-1.8100\" width=\"0.1300\" height=\"3.6239\" ry=\"0.0400\" fill=\"currentColor\"/>\n",
       "<path transform=\"translate(46.8588, 5.9975) scale(0.0040, -0.0040)\" d=\"M218 136c55 0 108 -28 108 -89c0 -71 -55 -121 -102 -149c-35 -21 -75 -34 -116 -34c-55 0 -108 28 -108 89c0 71 55 121 102 149c35 21 75 34 116 34z\" fill=\"currentColor\"/>\n",
       "<rect transform=\"translate(45.5938, 3.9975)\" x=\"-0.0650\" y=\"-1.8100\" width=\"0.1300\" height=\"3.1239\" ry=\"0.0400\" fill=\"currentColor\"/>\n",
       "<path transform=\"translate(44.3546, 5.4975) scale(0.0040, -0.0040)\" d=\"M218 136c55 0 108 -28 108 -89c0 -71 -55 -121 -102 -149c-35 -21 -75 -34 -116 -34c-55 0 -108 28 -108 89c0 71 55 121 102 149c35 21 75 34 116 34z\" fill=\"currentColor\"/>\n",
       "<path transform=\"translate(9.3358, 4.9975) scale(0.0040, -0.0040)\" d=\"M376 262c4 0 9 1 13 1c155 0 256 -128 256 -261c0 -76 -33 -154 -107 -210c-22 -17 -47 -28 -73 -36c3 -35 5 -70 5 -105c0 -19 -1 -39 -2 -58c-7 -120 -90 -228 -208 -228c-108 0 -195 88 -195 197c0 58 53 103 112 103c54 0 95 -47 95 -103c0 -52 -43 -95 -95 -95\n",
       "c-11 0 -21 2 -31 6c26 -39 68 -65 117 -65c96 0 157 92 163 191c1 18 2 37 2 55c0 31 -1 61 -4 92c-29 -5 -58 -8 -89 -8c-188 0 -333 172 -333 374c0 177 131 306 248 441c-19 62 -37 125 -45 190c-6 52 -7 104 -7 156c0 115 55 224 149 292c3 2 7 3 10 3c4 0 7 0 10 -3\n",
       "c71 -84 133 -245 133 -358c0 -143 -86 -255 -180 -364c21 -68 39 -138 56 -207zM461 -203c68 24 113 95 113 164c0 90 -66 179 -173 190c24 -116 46 -231 60 -354zM74 28c0 -135 129 -247 264 -247c28 0 55 2 82 6c-14 127 -37 245 -63 364c-79 -8 -124 -61 -124 -119\n",
       "c0 -44 25 -91 81 -123c5 -5 7 -10 7 -15c0 -11 -10 -22 -22 -22c-3 0 -6 1 -9 2c-80 43 -117 115 -117 185c0 88 58 174 160 197c-14 58 -29 117 -46 175c-107 -121 -213 -243 -213 -403zM408 1045c-99 -48 -162 -149 -162 -259c0 -74 18 -133 36 -194\n",
       "c80 97 146 198 146 324c0 55 -4 79 -20 129z\" fill=\"currentColor\"/>\n",
       "<rect transform=\"translate(56.5197, 3.9975)\" x=\"-0.0650\" y=\"-1.9838\" width=\"0.1300\" height=\"2.7977\" ry=\"0.0400\" fill=\"currentColor\"/>\n",
       "<path transform=\"translate(55.2805, 4.9975) scale(0.0040, -0.0040)\" d=\"M218 136c55 0 108 -28 108 -89c0 -71 -55 -121 -102 -149c-35 -21 -75 -34 -116 -34c-55 0 -108 28 -108 89c0 71 55 121 102 149c35 21 75 34 116 34z\" fill=\"currentColor\"/>\n",
       "<path transform=\"translate(16.5358, 5.4975) scale(0.0040, -0.0040)\" d=\"M216 -312c0 -10 -8 -19 -18 -19s-19 9 -19 19v145l-83 -31v-158c0 -10 -9 -19 -19 -19s-18 9 -18 19v145l-32 -12c-2 -1 -5 -1 -7 -1c-11 0 -20 9 -20 20v60c0 8 5 16 13 19l46 16v160l-32 -11c-2 -1 -5 -1 -7 -1c-11 0 -20 9 -20 20v60c0 8 5 15 13 18l46 17v158\n",
       "c0 10 8 19 18 19s19 -9 19 -19v-145l83 31v158c0 10 9 19 19 19s18 -9 18 -19v-145l32 12c2 1 5 1 7 1c11 0 20 -9 20 -20v-60c0 -8 -5 -16 -13 -19l-46 -16v-160l32 11c2 1 5 1 7 1c11 0 20 -9 20 -20v-60c0 -8 -5 -15 -13 -18l-46 -17v-158zM96 65v-160l83 30v160z\" fill=\"currentColor\"/>\n",
       "<path transform=\"translate(13.5358, 3.9975) scale(0.0040, -0.0040)\" d=\"M359 27c-49 0 -75 42 -75 75c0 38 27 77 72 77c4 0 9 0 14 -1c-28 37 -72 59 -120 59c-106 0 -113 -73 -113 -186v-51v-51c0 -113 7 -187 113 -187c80 0 139 70 158 151c2 7 7 10 12 10c6 0 13 -4 13 -12c0 -94 -105 -174 -183 -174c-68 0 -137 21 -184 70\n",
       "c-49 51 -66 122 -66 193s17 142 66 193c47 49 116 69 184 69c87 0 160 -64 175 -150c1 -5 1 -9 1 -13c0 -40 -30 -72 -67 -72z\" fill=\"currentColor\"/>\n",
       "<rect transform=\"translate(19.2250, 3.9975)\" x=\"-0.0650\" y=\"-1.8125\" width=\"0.1300\" height=\"3.1263\" ry=\"0.0400\" fill=\"currentColor\"/>\n",
       "<path transform=\"translate(39.2004, 7.4975) scale(0.0040, -0.0040)\" d=\"M218 136c55 0 108 -28 108 -89c0 -71 -55 -121 -102 -149c-35 -21 -75 -34 -116 -34c-55 0 -108 28 -108 89c0 71 55 121 102 149c35 21 75 34 116 34z\" fill=\"currentColor\"/>\n",
       "<rect transform=\"translate(61.1739, 3.9975)\" x=\"-0.0650\" y=\"-0.8262\" width=\"0.1300\" height=\"4.6401\" ry=\"0.0400\" fill=\"currentColor\"/>\n",
       "<path transform=\"translate(59.9347, 7.9975) scale(0.0040, -0.0040)\" d=\"M218 136c55 0 108 -28 108 -89c0 -71 -55 -121 -102 -149c-35 -21 -75 -34 -116 -34c-55 0 -108 28 -108 89c0 71 55 121 102 149c35 21 75 34 116 34z\" fill=\"currentColor\"/>\n",
       "<path transform=\"translate(53.8305, 4.9975) scale(0.0040, -0.0040)\" d=\"M216 -312c0 -10 -8 -19 -18 -19s-19 9 -19 19v145l-83 -31v-158c0 -10 -9 -19 -19 -19s-18 9 -18 19v145l-32 -12c-2 -1 -5 -1 -7 -1c-11 0 -20 9 -20 20v60c0 8 5 16 13 19l46 16v160l-32 -11c-2 -1 -5 -1 -7 -1c-11 0 -20 9 -20 20v60c0 8 5 15 13 18l46 17v158\n",
       "c0 10 8 19 18 19s19 -9 19 -19v-145l83 31v158c0 10 9 19 19 19s18 -9 18 -19v-145l32 12c2 1 5 1 7 1c11 0 20 -9 20 -20v-60c0 -8 -5 -16 -13 -19l-46 -16v-160l32 11c2 1 5 1 7 1c11 0 20 -9 20 -20v-60c0 -8 -5 -15 -13 -18l-46 -17v-158zM96 65v-160l83 30v160z\" fill=\"currentColor\"/>\n",
       "<path transform=\"translate(17.9858, 5.4975) scale(0.0040, -0.0040)\" d=\"M218 136c55 0 108 -28 108 -89c0 -71 -55 -121 -102 -149c-35 -21 -75 -34 -116 -34c-55 0 -108 28 -108 89c0 71 55 121 102 149c35 21 75 34 116 34z\" fill=\"currentColor\"/>\n",
       "</svg>\n"
      ]
     },
     "metadata": {},
     "output_type": "display_data"
    }
   ],
   "source": [
    "abjad.show(tuplet)"
   ]
  },
  {
   "cell_type": "markdown",
   "metadata": {},
   "source": [
    "## Removing Leaves"
   ]
  },
  {
   "cell_type": "markdown",
   "metadata": {},
   "source": [
    "You can remove tuplet components by reference using the remove method:"
   ]
  },
  {
   "cell_type": "code",
   "execution_count": 29,
   "metadata": {},
   "outputs": [],
   "source": [
    "tuplet.remove(tuplet[3])"
   ]
  },
  {
   "cell_type": "code",
   "execution_count": 30,
   "metadata": {},
   "outputs": [
    {
     "data": {
      "image/svg+xml": [
       "<svg xmlns=\"http://www.w3.org/2000/svg\" xmlns:xlink=\"http://www.w3.org/1999/xlink\" version=\"1.2\" width=\"87.22mm\" height=\"15.41mm\" viewBox=\"8.5358 -0.0000 49.6337 8.7675\">\n",
       "<style text=\"style/css\">\n",
       "<![CDATA[\n",
       "tspan { white-space: pre; }\n",
       "]]>\n",
       "</style>\n",
       "<line transform=\"translate(8.5358, 6.2225)\" stroke-linejoin=\"round\" stroke-linecap=\"round\" stroke-width=\"0.1000\" stroke=\"currentColor\" x1=\"0.0500\" y1=\"-0.0000\" x2=\"49.6337\" y2=\"-0.0000\"/>\n",
       "<line transform=\"translate(8.5358, 5.2225)\" stroke-linejoin=\"round\" stroke-linecap=\"round\" stroke-width=\"0.1000\" stroke=\"currentColor\" x1=\"0.0500\" y1=\"-0.0000\" x2=\"49.6337\" y2=\"-0.0000\"/>\n",
       "<line transform=\"translate(8.5358, 4.2225)\" stroke-linejoin=\"round\" stroke-linecap=\"round\" stroke-width=\"0.1000\" stroke=\"currentColor\" x1=\"0.0500\" y1=\"-0.0000\" x2=\"49.6337\" y2=\"-0.0000\"/>\n",
       "<line transform=\"translate(8.5358, 3.2225)\" stroke-linejoin=\"round\" stroke-linecap=\"round\" stroke-width=\"0.1000\" stroke=\"currentColor\" x1=\"0.0500\" y1=\"-0.0000\" x2=\"49.6337\" y2=\"-0.0000\"/>\n",
       "<line transform=\"translate(8.5358, 2.2225)\" stroke-linejoin=\"round\" stroke-linecap=\"round\" stroke-width=\"0.1000\" stroke=\"currentColor\" x1=\"0.0500\" y1=\"-0.0000\" x2=\"49.6337\" y2=\"-0.0000\"/>\n",
       "<rect transform=\"translate(0.0000, 7.2225)\" x=\"52.9893\" y=\"-0.1000\" width=\"1.9563\" height=\"0.2000\" ry=\"0.1000\" fill=\"currentColor\"/>\n",
       "<rect transform=\"translate(0.0000, 8.2225)\" x=\"52.9893\" y=\"-0.1000\" width=\"1.9563\" height=\"0.2000\" ry=\"0.1000\" fill=\"currentColor\"/>\n",
       "<rect transform=\"translate(0.0000, 7.2225)\" x=\"32.2192\" y=\"-0.1000\" width=\"1.8053\" height=\"0.2000\" ry=\"0.1000\" fill=\"currentColor\"/>\n",
       "<path transform=\"translate(53.3153, 8.2225) scale(0.0040, -0.0040)\" d=\"M218 136c55 0 108 -28 108 -89c0 -71 -55 -121 -102 -149c-35 -21 -75 -34 -116 -34c-55 0 -108 28 -108 89c0 71 55 121 102 149c35 21 75 34 116 34z\" fill=\"currentColor\"/>\n",
       "<rect transform=\"translate(33.6335, 4.2225)\" x=\"-0.0650\" y=\"-1.8100\" width=\"0.1300\" height=\"5.1239\" ry=\"0.0400\" fill=\"currentColor\"/>\n",
       "<path transform=\"translate(32.3942, 7.7225) scale(0.0040, -0.0040)\" d=\"M218 136c55 0 108 -28 108 -89c0 -71 -55 -121 -102 -149c-35 -21 -75 -34 -116 -34c-55 0 -108 28 -108 89c0 71 55 121 102 149c35 21 75 34 116 34z\" fill=\"currentColor\"/>\n",
       "<path transform=\"translate(27.7942, 4.2225) scale(0.0040, -0.0040)\" d=\"M72 -250l117 326c-34 -12 -69 -22 -105 -22c-46 0 -87 33 -87 79c0 40 33 72 73 72c25 0 48 -15 56 -39c10 -28 6 -59 35 -59c16 0 54 48 61 63c6 12 23 12 28 0l-123 -420c-8 -7 -17 -10 -27 -10s-20 3 -28 10z\" fill=\"currentColor\"/>\n",
       "<rect transform=\"translate(24.1292, 4.2225)\" x=\"-0.0650\" y=\"-1.9975\" width=\"0.1300\" height=\"2.8114\" ry=\"0.0400\" fill=\"currentColor\"/>\n",
       "<path transform=\"translate(22.8900, 5.2225) scale(0.0040, -0.0040)\" d=\"M218 136c55 0 108 -28 108 -89c0 -71 -55 -121 -102 -149c-35 -21 -75 -34 -116 -34c-55 0 -108 28 -108 89c0 71 55 121 102 149c35 21 75 34 116 34z\" fill=\"currentColor\"/>\n",
       "<path transform=\"translate(54.6195, 4.2625) scale(0.0040, -0.0040)\" d=\"M0 0c0 -197 207 -336 207 -533c0 -71 -15 -141 -41 -207c-5 -8 -13 -12 -20 -12c-13 0 -26 11 -23 27c26 61 42 126 42 192c0 103 -94 208 -165 283h-16v250h16z\" fill=\"currentColor\"/>\n",
       "<rect transform=\"translate(54.5545, 4.2225)\" x=\"-0.0650\" y=\"-0.0000\" width=\"0.1300\" height=\"3.8139\" ry=\"0.0400\" fill=\"currentColor\"/>\n",
       "<line transform=\"translate(19.1600, 0.5975)\" stroke-linejoin=\"round\" stroke-linecap=\"round\" stroke-width=\"0.1600\" stroke=\"currentColor\" x1=\"35.6595\" y1=\"-0.0000\" x2=\"35.6595\" y2=\"-0.0000\"/>\n",
       "<line transform=\"translate(19.1600, 0.5975)\" stroke-linejoin=\"round\" stroke-linecap=\"round\" stroke-width=\"0.1600\" stroke=\"currentColor\" x1=\"-0.2000\" y1=\"-0.0000\" x2=\"-0.2000\" y2=\"0.7000\"/>\n",
       "<line transform=\"translate(19.1600, 0.5975)\" stroke-linejoin=\"round\" stroke-linecap=\"round\" stroke-width=\"0.1600\" stroke=\"currentColor\" x1=\"35.6595\" y1=\"-0.0000\" x2=\"18.7736\" y2=\"-0.0000\"/>\n",
       "<line transform=\"translate(19.1600, 0.5975)\" stroke-linejoin=\"round\" stroke-linecap=\"round\" stroke-width=\"0.1600\" stroke=\"currentColor\" x1=\"-0.2000\" y1=\"-0.0000\" x2=\"16.8859\" y2=\"-0.0000\"/>\n",
       "<path transform=\"translate(40.0527, 6.2225) scale(0.0040, -0.0040)\" d=\"M218 136c55 0 108 -28 108 -89c0 -71 -55 -121 -102 -149c-35 -21 -75 -34 -116 -34c-55 0 -108 28 -108 89c0 71 55 121 102 149c35 21 75 34 116 34z\" fill=\"currentColor\"/>\n",
       "<text transform=\"translate(36.4459, 1.1609)\" font-family=\"serif\" font-style=\"italic\" font-size=\"1.7461\" text-anchor=\"start\" fill=\"currentColor\">\n",
       "<tspan>5</tspan>\n",
       "</text>\n",
       "<polygon transform=\"translate(19.1600, 2.4125)\" stroke-linejoin=\"round\" stroke-linecap=\"round\" stroke-width=\"0.0800\" fill=\"currentColor\" stroke=\"currentColor\" points=\"4.9942 -0.3900 4.9942 0.0100 0.0400 0.2000 0.0400 -0.2000\"/>\n",
       "<polygon transform=\"translate(33.5685, 2.4125)\" stroke-linejoin=\"round\" stroke-linecap=\"round\" stroke-width=\"0.0800\" fill=\"currentColor\" stroke=\"currentColor\" points=\"10.2526 -0.2000 10.2526 0.2000 0.0400 0.2000 0.0400 -0.2000\"/>\n",
       "<polygon transform=\"translate(38.7227, 3.2225)\" stroke-linejoin=\"round\" stroke-linecap=\"round\" stroke-width=\"0.0800\" fill=\"currentColor\" stroke=\"currentColor\" points=\"5.0984 -0.2000 5.0984 0.2000 0.0400 0.2000 0.0400 -0.2000\"/>\n",
       "<polygon transform=\"translate(38.7227, 4.0325)\" stroke-linejoin=\"round\" stroke-linecap=\"round\" stroke-width=\"0.0800\" fill=\"currentColor\" stroke=\"currentColor\" points=\"5.0984 -0.2000 5.0984 0.2000 0.0400 0.2000 0.0400 -0.2000\"/>\n",
       "<path transform=\"translate(42.5569, 6.7225) scale(0.0040, -0.0040)\" d=\"M218 136c55 0 108 -28 108 -89c0 -71 -55 -121 -102 -149c-35 -21 -75 -34 -116 -34c-55 0 -108 28 -108 89c0 71 55 121 102 149c35 21 75 34 116 34z\" fill=\"currentColor\"/>\n",
       "<rect transform=\"translate(41.2919, 4.2225)\" x=\"-0.0650\" y=\"-1.8100\" width=\"0.1300\" height=\"3.6239\" ry=\"0.0400\" fill=\"currentColor\"/>\n",
       "<rect transform=\"translate(38.7877, 4.2225)\" x=\"-0.0650\" y=\"-1.8100\" width=\"0.1300\" height=\"3.1239\" ry=\"0.0400\" fill=\"currentColor\"/>\n",
       "<path transform=\"translate(37.5485, 5.7225) scale(0.0040, -0.0040)\" d=\"M218 136c55 0 108 -28 108 -89c0 -71 -55 -121 -102 -149c-35 -21 -75 -34 -116 -34c-55 0 -108 28 -108 89c0 71 55 121 102 149c35 21 75 34 116 34z\" fill=\"currentColor\"/>\n",
       "<path transform=\"translate(31.2442, 7.7225) scale(0.0040, -0.0040)\" d=\"M27 41l-1 -66v-11c0 -22 1 -44 4 -66c45 38 93 80 93 139c0 33 -14 67 -43 67c-31 0 -52 -30 -53 -63zM-15 -138l-12 595c8 5 18 8 27 8s19 -3 27 -8l-7 -345c25 21 58 34 91 34c52 0 89 -48 89 -102c0 -80 -86 -117 -147 -169c-15 -13 -24 -38 -45 -38\n",
       "c-13 0 -23 11 -23 25z\" fill=\"currentColor\"/>\n",
       "<path transform=\"translate(16.5358, 5.7225) scale(0.0040, -0.0040)\" d=\"M216 -312c0 -10 -8 -19 -18 -19s-19 9 -19 19v145l-83 -31v-158c0 -10 -9 -19 -19 -19s-18 9 -18 19v145l-32 -12c-2 -1 -5 -1 -7 -1c-11 0 -20 9 -20 20v60c0 8 5 16 13 19l46 16v160l-32 -11c-2 -1 -5 -1 -7 -1c-11 0 -20 9 -20 20v60c0 8 5 15 13 18l46 17v158\n",
       "c0 10 8 19 18 19s19 -9 19 -19v-145l83 31v158c0 10 9 19 19 19s18 -9 18 -19v-145l32 12c2 1 5 1 7 1c11 0 20 -9 20 -20v-60c0 -8 -5 -16 -13 -19l-46 -16v-160l32 11c2 1 5 1 7 1c11 0 20 -9 20 -20v-60c0 -8 -5 -15 -13 -18l-46 -17v-158zM96 65v-160l83 30v160z\" fill=\"currentColor\"/>\n",
       "<rect transform=\"translate(43.7961, 4.2225)\" x=\"-0.0650\" y=\"-1.8100\" width=\"0.1300\" height=\"4.1239\" ry=\"0.0400\" fill=\"currentColor\"/>\n",
       "<rect transform=\"translate(19.2250, 4.2225)\" x=\"-0.0650\" y=\"-1.8125\" width=\"0.1300\" height=\"3.1263\" ry=\"0.0400\" fill=\"currentColor\"/>\n",
       "<path transform=\"translate(13.5358, 4.2225) scale(0.0040, -0.0040)\" d=\"M359 27c-49 0 -75 42 -75 75c0 38 27 77 72 77c4 0 9 0 14 -1c-28 37 -72 59 -120 59c-106 0 -113 -73 -113 -186v-51v-51c0 -113 7 -187 113 -187c80 0 139 70 158 151c2 7 7 10 12 10c6 0 13 -4 13 -12c0 -94 -105 -174 -183 -174c-68 0 -137 21 -184 70\n",
       "c-49 51 -66 122 -66 193s17 142 66 193c47 49 116 69 184 69c87 0 160 -64 175 -150c1 -5 1 -9 1 -13c0 -40 -30 -72 -67 -72z\" fill=\"currentColor\"/>\n",
       "<path transform=\"translate(9.3358, 5.2225) scale(0.0040, -0.0040)\" d=\"M376 262c4 0 9 1 13 1c155 0 256 -128 256 -261c0 -76 -33 -154 -107 -210c-22 -17 -47 -28 -73 -36c3 -35 5 -70 5 -105c0 -19 -1 -39 -2 -58c-7 -120 -90 -228 -208 -228c-108 0 -195 88 -195 197c0 58 53 103 112 103c54 0 95 -47 95 -103c0 -52 -43 -95 -95 -95\n",
       "c-11 0 -21 2 -31 6c26 -39 68 -65 117 -65c96 0 157 92 163 191c1 18 2 37 2 55c0 31 -1 61 -4 92c-29 -5 -58 -8 -89 -8c-188 0 -333 172 -333 374c0 177 131 306 248 441c-19 62 -37 125 -45 190c-6 52 -7 104 -7 156c0 115 55 224 149 292c3 2 7 3 10 3c4 0 7 0 10 -3\n",
       "c71 -84 133 -245 133 -358c0 -143 -86 -255 -180 -364c21 -68 39 -138 56 -207zM461 -203c68 24 113 95 113 164c0 90 -66 179 -173 190c24 -116 46 -231 60 -354zM74 28c0 -135 129 -247 264 -247c28 0 55 2 82 6c-14 127 -37 245 -63 364c-79 -8 -124 -61 -124 -119\n",
       "c0 -44 25 -91 81 -123c5 -5 7 -10 7 -15c0 -11 -10 -22 -22 -22c-3 0 -6 1 -9 2c-80 43 -117 115 -117 185c0 88 58 174 160 197c-14 58 -29 117 -46 175c-107 -121 -213 -243 -213 -403zM408 1045c-99 -48 -162 -149 -162 -259c0 -74 18 -133 36 -194\n",
       "c80 97 146 198 146 324c0 55 -4 79 -20 129z\" fill=\"currentColor\"/>\n",
       "<path transform=\"translate(17.9858, 5.7225) scale(0.0040, -0.0040)\" d=\"M218 136c55 0 108 -28 108 -89c0 -71 -55 -121 -102 -149c-35 -21 -75 -34 -116 -34c-55 0 -108 28 -108 89c0 71 55 121 102 149c35 21 75 34 116 34z\" fill=\"currentColor\"/>\n",
       "<rect transform=\"translate(49.6503, 4.2225)\" x=\"-0.0650\" y=\"-2.5000\" width=\"0.1300\" height=\"3.3139\" ry=\"0.0400\" fill=\"currentColor\"/>\n",
       "<path transform=\"translate(48.4111, 5.2225) scale(0.0040, -0.0040)\" d=\"M218 136c55 0 108 -28 108 -89c0 -71 -55 -121 -102 -149c-35 -21 -75 -34 -116 -34c-55 0 -108 28 -108 89c0 71 55 121 102 149c35 21 75 34 116 34z\" fill=\"currentColor\"/>\n",
       "<path transform=\"translate(49.7153, 1.7625) scale(0.0040, -0.0040)\" d=\"M0 0c0 -197 207 -336 207 -533c0 -71 -15 -141 -41 -207c-5 -8 -13 -12 -20 -12c-13 0 -26 11 -23 27c26 61 42 126 42 192c0 103 -94 208 -165 283h-16v250h16z\" fill=\"currentColor\"/>\n",
       "<path transform=\"translate(45.0611, 4.2225) scale(0.0040, -0.0040)\" d=\"M54 -500l86 327c-35 -13 -71 -23 -108 -23c-46 0 -87 33 -87 79c0 40 32 72 72 72c25 0 49 -15 57 -39c10 -28 5 -59 34 -59c17 0 54 54 59 71l39 149c-34 -12 -70 -23 -106 -23c-46 0 -87 33 -87 79c0 40 33 72 73 72c25 0 48 -15 56 -39c10 -28 5 -59 34 -59\n",
       "c16 0 52 51 56 68l40 151c-33 -12 -68 -22 -103 -22c-46 0 -87 33 -87 79c0 40 32 72 72 72c25 0 49 -15 57 -39c10 -28 5 -59 34 -59c15 0 46 49 52 63c6 12 23 12 28 0l-216 -920c-8 -7 -18 -10 -28 -10s-19 3 -27 10z\" fill=\"currentColor\"/>\n",
       "<path transform=\"translate(46.9611, 5.2225) scale(0.0040, -0.0040)\" d=\"M216 -312c0 -10 -8 -19 -18 -19s-19 9 -19 19v145l-83 -31v-158c0 -10 -9 -19 -19 -19s-18 9 -18 19v145l-32 -12c-2 -1 -5 -1 -7 -1c-11 0 -20 9 -20 20v60c0 8 5 16 13 19l46 16v160l-32 -11c-2 -1 -5 -1 -7 -1c-11 0 -20 9 -20 20v60c0 8 5 15 13 18l46 17v158\n",
       "c0 10 8 19 18 19s19 -9 19 -19v-145l83 31v158c0 10 9 19 19 19s18 -9 18 -19v-145l32 12c2 1 5 1 7 1c11 0 20 -9 20 -20v-60c0 -8 -5 -16 -13 -19l-46 -16v-160l32 11c2 1 5 1 7 1c11 0 20 -9 20 -20v-60c0 -8 -5 -15 -13 -18l-46 -17v-158zM96 65v-160l83 30v160z\" fill=\"currentColor\"/>\n",
       "</svg>\n"
      ]
     },
     "metadata": {},
     "output_type": "display_data"
    }
   ],
   "source": [
    "abjad.show(tuplet)"
   ]
  },
  {
   "cell_type": "markdown",
   "metadata": {},
   "source": [
    "If you want to remove a component by index and then keep it to do something else with it, use the pop method instead of remove:"
   ]
  },
  {
   "cell_type": "code",
   "execution_count": 31,
   "metadata": {},
   "outputs": [
    {
     "data": {
      "text/plain": [
       "Rest('r8')"
      ]
     },
     "execution_count": 31,
     "metadata": {},
     "output_type": "execute_result"
    }
   ],
   "source": [
    "popped = tuplet.pop(2)\n",
    "popped"
   ]
  },
  {
   "cell_type": "code",
   "execution_count": 32,
   "metadata": {},
   "outputs": [
    {
     "data": {
      "image/svg+xml": [
       "<svg xmlns=\"http://www.w3.org/2000/svg\" xmlns:xlink=\"http://www.w3.org/1999/xlink\" version=\"1.2\" width=\"79.14mm\" height=\"16.47mm\" viewBox=\"8.5358 -0.0000 45.0337 9.3743\">\n",
       "<style text=\"style/css\">\n",
       "<![CDATA[\n",
       "tspan { white-space: pre; }\n",
       "]]>\n",
       "</style>\n",
       "<line transform=\"translate(8.5358, 6.8293)\" stroke-linejoin=\"round\" stroke-linecap=\"round\" stroke-width=\"0.1000\" stroke=\"currentColor\" x1=\"0.0500\" y1=\"-0.0000\" x2=\"45.0337\" y2=\"-0.0000\"/>\n",
       "<line transform=\"translate(8.5358, 5.8293)\" stroke-linejoin=\"round\" stroke-linecap=\"round\" stroke-width=\"0.1000\" stroke=\"currentColor\" x1=\"0.0500\" y1=\"-0.0000\" x2=\"45.0337\" y2=\"-0.0000\"/>\n",
       "<line transform=\"translate(8.5358, 4.8293)\" stroke-linejoin=\"round\" stroke-linecap=\"round\" stroke-width=\"0.1000\" stroke=\"currentColor\" x1=\"0.0500\" y1=\"-0.0000\" x2=\"45.0337\" y2=\"-0.0000\"/>\n",
       "<line transform=\"translate(8.5358, 3.8293)\" stroke-linejoin=\"round\" stroke-linecap=\"round\" stroke-width=\"0.1000\" stroke=\"currentColor\" x1=\"0.0500\" y1=\"-0.0000\" x2=\"45.0337\" y2=\"-0.0000\"/>\n",
       "<line transform=\"translate(8.5358, 2.8293)\" stroke-linejoin=\"round\" stroke-linecap=\"round\" stroke-width=\"0.1000\" stroke=\"currentColor\" x1=\"0.0500\" y1=\"-0.0000\" x2=\"45.0337\" y2=\"-0.0000\"/>\n",
       "<rect transform=\"translate(0.0000, 7.8293)\" x=\"48.3893\" y=\"-0.1000\" width=\"1.9563\" height=\"0.2000\" ry=\"0.1000\" fill=\"currentColor\"/>\n",
       "<rect transform=\"translate(0.0000, 8.8293)\" x=\"48.3893\" y=\"-0.1000\" width=\"1.9563\" height=\"0.2000\" ry=\"0.1000\" fill=\"currentColor\"/>\n",
       "<rect transform=\"translate(0.0000, 7.8293)\" x=\"27.6192\" y=\"-0.1000\" width=\"1.8053\" height=\"0.2000\" ry=\"0.1000\" fill=\"currentColor\"/>\n",
       "<path transform=\"translate(26.6442, 8.3293) scale(0.0040, -0.0040)\" d=\"M27 41l-1 -66v-11c0 -22 1 -44 4 -66c45 38 93 80 93 139c0 33 -14 67 -43 67c-31 0 -52 -30 -53 -63zM-15 -138l-12 595c8 5 18 8 27 8s19 -3 27 -8l-7 -345c25 21 58 34 91 34c52 0 89 -48 89 -102c0 -80 -86 -117 -147 -169c-15 -13 -24 -38 -45 -38\n",
       "c-13 0 -23 11 -23 25z\" fill=\"currentColor\"/>\n",
       "<path transform=\"translate(48.7153, 8.8293) scale(0.0040, -0.0040)\" d=\"M218 136c55 0 108 -28 108 -89c0 -71 -55 -121 -102 -149c-35 -21 -75 -34 -116 -34c-55 0 -108 28 -108 89c0 71 55 121 102 149c35 21 75 34 116 34z\" fill=\"currentColor\"/>\n",
       "<rect transform=\"translate(29.0335, 4.8293)\" x=\"-0.0650\" y=\"-2.8100\" width=\"0.1300\" height=\"6.1239\" ry=\"0.0400\" fill=\"currentColor\"/>\n",
       "<path transform=\"translate(27.7942, 8.3293) scale(0.0040, -0.0040)\" d=\"M218 136c55 0 108 -28 108 -89c0 -71 -55 -121 -102 -149c-35 -21 -75 -34 -116 -34c-55 0 -108 28 -108 89c0 71 55 121 102 149c35 21 75 34 116 34z\" fill=\"currentColor\"/>\n",
       "<rect transform=\"translate(24.1292, 4.8293)\" x=\"-0.0650\" y=\"-2.8100\" width=\"0.1300\" height=\"3.6239\" ry=\"0.0400\" fill=\"currentColor\"/>\n",
       "<path transform=\"translate(22.8900, 5.8293) scale(0.0040, -0.0040)\" d=\"M218 136c55 0 108 -28 108 -89c0 -71 -55 -121 -102 -149c-35 -21 -75 -34 -116 -34c-55 0 -108 28 -108 89c0 71 55 121 102 149c35 21 75 34 116 34z\" fill=\"currentColor\"/>\n",
       "<path transform=\"translate(50.0195, 4.8693) scale(0.0040, -0.0040)\" d=\"M0 0c0 -197 207 -336 207 -533c0 -71 -15 -141 -41 -207c-5 -8 -13 -12 -20 -12c-13 0 -26 11 -23 27c26 61 42 126 42 192c0 103 -94 208 -165 283h-16v250h16z\" fill=\"currentColor\"/>\n",
       "<rect transform=\"translate(49.9545, 4.8293)\" x=\"-0.0650\" y=\"-0.0000\" width=\"0.1300\" height=\"3.8139\" ry=\"0.0400\" fill=\"currentColor\"/>\n",
       "<line transform=\"translate(19.1600, 0.2225)\" stroke-linejoin=\"round\" stroke-linecap=\"round\" stroke-width=\"0.1600\" stroke=\"currentColor\" x1=\"31.0594\" y1=\"0.7549\" x2=\"31.0594\" y2=\"0.7549\"/>\n",
       "<line transform=\"translate(19.1600, 0.2225)\" stroke-linejoin=\"round\" stroke-linecap=\"round\" stroke-width=\"0.1600\" stroke=\"currentColor\" x1=\"-0.1999\" y1=\"-0.0049\" x2=\"-0.1999\" y2=\"0.6951\"/>\n",
       "<line transform=\"translate(19.1600, 0.2225)\" stroke-linejoin=\"round\" stroke-linecap=\"round\" stroke-width=\"0.1600\" stroke=\"currentColor\" x1=\"31.0594\" y1=\"0.7549\" x2=\"16.4733\" y2=\"0.4004\"/>\n",
       "<line transform=\"translate(19.1600, 0.2225)\" stroke-linejoin=\"round\" stroke-linecap=\"round\" stroke-width=\"0.1600\" stroke=\"currentColor\" x1=\"-0.1999\" y1=\"-0.0049\" x2=\"14.5861\" y2=\"0.3545\"/>\n",
       "<text transform=\"translate(34.1459, 1.1609)\" font-family=\"serif\" font-style=\"italic\" font-size=\"1.7461\" text-anchor=\"start\" fill=\"currentColor\">\n",
       "<tspan>5</tspan>\n",
       "</text>\n",
       "<polygon transform=\"translate(19.1600, 2.0193)\" stroke-linejoin=\"round\" stroke-linecap=\"round\" stroke-width=\"0.0800\" fill=\"currentColor\" stroke=\"currentColor\" points=\"20.0611 -0.2000 20.0611 0.2000 0.0400 0.2000 0.0400 -0.2000\"/>\n",
       "<polygon transform=\"translate(34.1227, 2.8293)\" stroke-linejoin=\"round\" stroke-linecap=\"round\" stroke-width=\"0.0800\" fill=\"currentColor\" stroke=\"currentColor\" points=\"5.0984 -0.2000 5.0984 0.2000 0.0400 0.2000 0.0400 -0.2000\"/>\n",
       "<polygon transform=\"translate(34.1227, 3.6393)\" stroke-linejoin=\"round\" stroke-linecap=\"round\" stroke-width=\"0.0800\" fill=\"currentColor\" stroke=\"currentColor\" points=\"5.0984 -0.2000 5.0984 0.2000 0.0400 0.2000 0.0400 -0.2000\"/>\n",
       "<rect transform=\"translate(39.1961, 4.8293)\" x=\"-0.0650\" y=\"-2.8100\" width=\"0.1300\" height=\"5.1239\" ry=\"0.0400\" fill=\"currentColor\"/>\n",
       "<path transform=\"translate(37.9569, 7.3293) scale(0.0040, -0.0040)\" d=\"M218 136c55 0 108 -28 108 -89c0 -71 -55 -121 -102 -149c-35 -21 -75 -34 -116 -34c-55 0 -108 28 -108 89c0 71 55 121 102 149c35 21 75 34 116 34z\" fill=\"currentColor\"/>\n",
       "<rect transform=\"translate(36.6919, 4.8293)\" x=\"-0.0650\" y=\"-2.8100\" width=\"0.1300\" height=\"4.6239\" ry=\"0.0400\" fill=\"currentColor\"/>\n",
       "<path transform=\"translate(35.4527, 6.8293) scale(0.0040, -0.0040)\" d=\"M218 136c55 0 108 -28 108 -89c0 -71 -55 -121 -102 -149c-35 -21 -75 -34 -116 -34c-55 0 -108 28 -108 89c0 71 55 121 102 149c35 21 75 34 116 34z\" fill=\"currentColor\"/>\n",
       "<rect transform=\"translate(34.1877, 4.8293)\" x=\"-0.0650\" y=\"-2.8100\" width=\"0.1300\" height=\"4.1239\" ry=\"0.0400\" fill=\"currentColor\"/>\n",
       "<path transform=\"translate(32.9485, 6.3293) scale(0.0040, -0.0040)\" d=\"M218 136c55 0 108 -28 108 -89c0 -71 -55 -121 -102 -149c-35 -21 -75 -34 -116 -34c-55 0 -108 28 -108 89c0 71 55 121 102 149c35 21 75 34 116 34z\" fill=\"currentColor\"/>\n",
       "<path transform=\"translate(16.5358, 6.3293) scale(0.0040, -0.0040)\" d=\"M216 -312c0 -10 -8 -19 -18 -19s-19 9 -19 19v145l-83 -31v-158c0 -10 -9 -19 -19 -19s-18 9 -18 19v145l-32 -12c-2 -1 -5 -1 -7 -1c-11 0 -20 9 -20 20v60c0 8 5 16 13 19l46 16v160l-32 -11c-2 -1 -5 -1 -7 -1c-11 0 -20 9 -20 20v60c0 8 5 15 13 18l46 17v158\n",
       "c0 10 8 19 18 19s19 -9 19 -19v-145l83 31v158c0 10 9 19 19 19s18 -9 18 -19v-145l32 12c2 1 5 1 7 1c11 0 20 -9 20 -20v-60c0 -8 -5 -16 -13 -19l-46 -16v-160l32 11c2 1 5 1 7 1c11 0 20 -9 20 -20v-60c0 -8 -5 -15 -13 -18l-46 -17v-158zM96 65v-160l83 30v160z\" fill=\"currentColor\"/>\n",
       "<rect transform=\"translate(19.2250, 4.8293)\" x=\"-0.0650\" y=\"-2.8100\" width=\"0.1300\" height=\"4.1239\" ry=\"0.0400\" fill=\"currentColor\"/>\n",
       "<path transform=\"translate(13.5358, 4.8293) scale(0.0040, -0.0040)\" d=\"M359 27c-49 0 -75 42 -75 75c0 38 27 77 72 77c4 0 9 0 14 -1c-28 37 -72 59 -120 59c-106 0 -113 -73 -113 -186v-51v-51c0 -113 7 -187 113 -187c80 0 139 70 158 151c2 7 7 10 12 10c6 0 13 -4 13 -12c0 -94 -105 -174 -183 -174c-68 0 -137 21 -184 70\n",
       "c-49 51 -66 122 -66 193s17 142 66 193c47 49 116 69 184 69c87 0 160 -64 175 -150c1 -5 1 -9 1 -13c0 -40 -30 -72 -67 -72z\" fill=\"currentColor\"/>\n",
       "<path transform=\"translate(9.3358, 5.8293) scale(0.0040, -0.0040)\" d=\"M376 262c4 0 9 1 13 1c155 0 256 -128 256 -261c0 -76 -33 -154 -107 -210c-22 -17 -47 -28 -73 -36c3 -35 5 -70 5 -105c0 -19 -1 -39 -2 -58c-7 -120 -90 -228 -208 -228c-108 0 -195 88 -195 197c0 58 53 103 112 103c54 0 95 -47 95 -103c0 -52 -43 -95 -95 -95\n",
       "c-11 0 -21 2 -31 6c26 -39 68 -65 117 -65c96 0 157 92 163 191c1 18 2 37 2 55c0 31 -1 61 -4 92c-29 -5 -58 -8 -89 -8c-188 0 -333 172 -333 374c0 177 131 306 248 441c-19 62 -37 125 -45 190c-6 52 -7 104 -7 156c0 115 55 224 149 292c3 2 7 3 10 3c4 0 7 0 10 -3\n",
       "c71 -84 133 -245 133 -358c0 -143 -86 -255 -180 -364c21 -68 39 -138 56 -207zM461 -203c68 24 113 95 113 164c0 90 -66 179 -173 190c24 -116 46 -231 60 -354zM74 28c0 -135 129 -247 264 -247c28 0 55 2 82 6c-14 127 -37 245 -63 364c-79 -8 -124 -61 -124 -119\n",
       "c0 -44 25 -91 81 -123c5 -5 7 -10 7 -15c0 -11 -10 -22 -22 -22c-3 0 -6 1 -9 2c-80 43 -117 115 -117 185c0 88 58 174 160 197c-14 58 -29 117 -46 175c-107 -121 -213 -243 -213 -403zM408 1045c-99 -48 -162 -149 -162 -259c0 -74 18 -133 36 -194\n",
       "c80 97 146 198 146 324c0 55 -4 79 -20 129z\" fill=\"currentColor\"/>\n",
       "<path transform=\"translate(17.9858, 6.3293) scale(0.0040, -0.0040)\" d=\"M218 136c55 0 108 -28 108 -89c0 -71 -55 -121 -102 -149c-35 -21 -75 -34 -116 -34c-55 0 -108 28 -108 89c0 71 55 121 102 149c35 21 75 34 116 34z\" fill=\"currentColor\"/>\n",
       "<path transform=\"translate(42.3611, 5.8293) scale(0.0040, -0.0040)\" d=\"M216 -312c0 -10 -8 -19 -18 -19s-19 9 -19 19v145l-83 -31v-158c0 -10 -9 -19 -19 -19s-18 9 -18 19v145l-32 -12c-2 -1 -5 -1 -7 -1c-11 0 -20 9 -20 20v60c0 8 5 16 13 19l46 16v160l-32 -11c-2 -1 -5 -1 -7 -1c-11 0 -20 9 -20 20v60c0 8 5 15 13 18l46 17v158\n",
       "c0 10 8 19 18 19s19 -9 19 -19v-145l83 31v158c0 10 9 19 19 19s18 -9 18 -19v-145l32 12c2 1 5 1 7 1c11 0 20 -9 20 -20v-60c0 -8 -5 -16 -13 -19l-46 -16v-160l32 11c2 1 5 1 7 1c11 0 20 -9 20 -20v-60c0 -8 -5 -15 -13 -18l-46 -17v-158zM96 65v-160l83 30v160z\" fill=\"currentColor\"/>\n",
       "<path transform=\"translate(45.1153, 2.3693) scale(0.0040, -0.0040)\" d=\"M0 0c0 -197 207 -336 207 -533c0 -71 -15 -141 -41 -207c-5 -8 -13 -12 -20 -12c-13 0 -26 11 -23 27c26 61 42 126 42 192c0 103 -94 208 -165 283h-16v250h16z\" fill=\"currentColor\"/>\n",
       "<rect transform=\"translate(45.0503, 4.8293)\" x=\"-0.0650\" y=\"-2.5000\" width=\"0.1300\" height=\"3.3139\" ry=\"0.0400\" fill=\"currentColor\"/>\n",
       "<path transform=\"translate(43.8111, 5.8293) scale(0.0040, -0.0040)\" d=\"M218 136c55 0 108 -28 108 -89c0 -71 -55 -121 -102 -149c-35 -21 -75 -34 -116 -34c-55 0 -108 28 -108 89c0 71 55 121 102 149c35 21 75 34 116 34z\" fill=\"currentColor\"/>\n",
       "<path transform=\"translate(40.4611, 4.8293) scale(0.0040, -0.0040)\" d=\"M54 -500l86 327c-35 -13 -71 -23 -108 -23c-46 0 -87 33 -87 79c0 40 32 72 72 72c25 0 49 -15 57 -39c10 -28 5 -59 34 -59c17 0 54 54 59 71l39 149c-34 -12 -70 -23 -106 -23c-46 0 -87 33 -87 79c0 40 33 72 73 72c25 0 48 -15 56 -39c10 -28 5 -59 34 -59\n",
       "c16 0 52 51 56 68l40 151c-33 -12 -68 -22 -103 -22c-46 0 -87 33 -87 79c0 40 32 72 72 72c25 0 49 -15 57 -39c10 -28 5 -59 34 -59c15 0 46 49 52 63c6 12 23 12 28 0l-216 -920c-8 -7 -18 -10 -28 -10s-19 3 -27 10z\" fill=\"currentColor\"/>\n",
       "</svg>\n"
      ]
     },
     "metadata": {},
     "output_type": "display_data"
    }
   ],
   "source": [
    "abjad.show(tuplet)"
   ]
  },
  {
   "cell_type": "markdown",
   "metadata": {},
   "source": [
    "## Indexing Leaves"
   ]
  },
  {
   "cell_type": "markdown",
   "metadata": {},
   "source": [
    "Tuplets support indexing, if you'd like to do something to the nth component of a tuplet:"
   ]
  },
  {
   "cell_type": "code",
   "execution_count": 33,
   "metadata": {},
   "outputs": [
    {
     "data": {
      "text/plain": [
       "Note(\"g'8\")"
      ]
     },
     "execution_count": 33,
     "metadata": {},
     "output_type": "execute_result"
    }
   ],
   "source": [
    "tuplet[1]"
   ]
  },
  {
   "cell_type": "markdown",
   "metadata": {},
   "source": [
    "If you've added an existing list to a tuplet's components, and you'd like to see where a component of that list is in the tuplet, you can use the tuplet's index method - in our case, we'll use our notes list from above:"
   ]
  },
  {
   "cell_type": "code",
   "execution_count": 34,
   "metadata": {},
   "outputs": [
    {
     "data": {
      "text/plain": [
       "[Note(\"fs'32\"), Note(\"e'32\"), Note(\"d'32\"), Rest('r32')]"
      ]
     },
     "execution_count": 34,
     "metadata": {},
     "output_type": "execute_result"
    }
   ],
   "source": [
    "notes"
   ]
  },
  {
   "cell_type": "code",
   "execution_count": 35,
   "metadata": {},
   "outputs": [
    {
     "data": {
      "text/plain": [
       "Note(\"e'32\")"
      ]
     },
     "execution_count": 35,
     "metadata": {},
     "output_type": "execute_result"
    }
   ],
   "source": [
    "notes[1]"
   ]
  },
  {
   "cell_type": "code",
   "execution_count": 36,
   "metadata": {
    "scrolled": true
   },
   "outputs": [
    {
     "data": {
      "text/plain": [
       "4"
      ]
     },
     "execution_count": 36,
     "metadata": {},
     "output_type": "execute_result"
    }
   ],
   "source": [
    "tuplet.index(notes[1]) # Where is the second element of notes in tuplet?"
   ]
  },
  {
   "cell_type": "code",
   "execution_count": 37,
   "metadata": {},
   "outputs": [
    {
     "data": {
      "image/svg+xml": [
       "<svg xmlns=\"http://www.w3.org/2000/svg\" xmlns:xlink=\"http://www.w3.org/1999/xlink\" version=\"1.2\" width=\"79.14mm\" height=\"16.47mm\" viewBox=\"8.5358 -0.0000 45.0337 9.3743\">\n",
       "<style text=\"style/css\">\n",
       "<![CDATA[\n",
       "tspan { white-space: pre; }\n",
       "]]>\n",
       "</style>\n",
       "<line transform=\"translate(8.5358, 6.8293)\" stroke-linejoin=\"round\" stroke-linecap=\"round\" stroke-width=\"0.1000\" stroke=\"currentColor\" x1=\"0.0500\" y1=\"-0.0000\" x2=\"45.0337\" y2=\"-0.0000\"/>\n",
       "<line transform=\"translate(8.5358, 5.8293)\" stroke-linejoin=\"round\" stroke-linecap=\"round\" stroke-width=\"0.1000\" stroke=\"currentColor\" x1=\"0.0500\" y1=\"-0.0000\" x2=\"45.0337\" y2=\"-0.0000\"/>\n",
       "<line transform=\"translate(8.5358, 4.8293)\" stroke-linejoin=\"round\" stroke-linecap=\"round\" stroke-width=\"0.1000\" stroke=\"currentColor\" x1=\"0.0500\" y1=\"-0.0000\" x2=\"45.0337\" y2=\"-0.0000\"/>\n",
       "<line transform=\"translate(8.5358, 3.8293)\" stroke-linejoin=\"round\" stroke-linecap=\"round\" stroke-width=\"0.1000\" stroke=\"currentColor\" x1=\"0.0500\" y1=\"-0.0000\" x2=\"45.0337\" y2=\"-0.0000\"/>\n",
       "<line transform=\"translate(8.5358, 2.8293)\" stroke-linejoin=\"round\" stroke-linecap=\"round\" stroke-width=\"0.1000\" stroke=\"currentColor\" x1=\"0.0500\" y1=\"-0.0000\" x2=\"45.0337\" y2=\"-0.0000\"/>\n",
       "<rect transform=\"translate(0.0000, 7.8293)\" x=\"48.3893\" y=\"-0.1000\" width=\"1.9563\" height=\"0.2000\" ry=\"0.1000\" fill=\"currentColor\"/>\n",
       "<rect transform=\"translate(0.0000, 8.8293)\" x=\"48.3893\" y=\"-0.1000\" width=\"1.9563\" height=\"0.2000\" ry=\"0.1000\" fill=\"currentColor\"/>\n",
       "<rect transform=\"translate(0.0000, 7.8293)\" x=\"27.6192\" y=\"-0.1000\" width=\"1.8053\" height=\"0.2000\" ry=\"0.1000\" fill=\"currentColor\"/>\n",
       "<path transform=\"translate(26.6442, 8.3293) scale(0.0040, -0.0040)\" d=\"M27 41l-1 -66v-11c0 -22 1 -44 4 -66c45 38 93 80 93 139c0 33 -14 67 -43 67c-31 0 -52 -30 -53 -63zM-15 -138l-12 595c8 5 18 8 27 8s19 -3 27 -8l-7 -345c25 21 58 34 91 34c52 0 89 -48 89 -102c0 -80 -86 -117 -147 -169c-15 -13 -24 -38 -45 -38\n",
       "c-13 0 -23 11 -23 25z\" fill=\"currentColor\"/>\n",
       "<path transform=\"translate(48.7153, 8.8293) scale(0.0040, -0.0040)\" d=\"M218 136c55 0 108 -28 108 -89c0 -71 -55 -121 -102 -149c-35 -21 -75 -34 -116 -34c-55 0 -108 28 -108 89c0 71 55 121 102 149c35 21 75 34 116 34z\" fill=\"currentColor\"/>\n",
       "<rect transform=\"translate(29.0335, 4.8293)\" x=\"-0.0650\" y=\"-2.8100\" width=\"0.1300\" height=\"6.1239\" ry=\"0.0400\" fill=\"currentColor\"/>\n",
       "<path transform=\"translate(27.7942, 8.3293) scale(0.0040, -0.0040)\" d=\"M218 136c55 0 108 -28 108 -89c0 -71 -55 -121 -102 -149c-35 -21 -75 -34 -116 -34c-55 0 -108 28 -108 89c0 71 55 121 102 149c35 21 75 34 116 34z\" fill=\"currentColor\"/>\n",
       "<rect transform=\"translate(24.1292, 4.8293)\" x=\"-0.0650\" y=\"-2.8100\" width=\"0.1300\" height=\"3.6239\" ry=\"0.0400\" fill=\"currentColor\"/>\n",
       "<path transform=\"translate(22.8900, 5.8293) scale(0.0040, -0.0040)\" d=\"M218 136c55 0 108 -28 108 -89c0 -71 -55 -121 -102 -149c-35 -21 -75 -34 -116 -34c-55 0 -108 28 -108 89c0 71 55 121 102 149c35 21 75 34 116 34z\" fill=\"currentColor\"/>\n",
       "<path transform=\"translate(50.0195, 4.8693) scale(0.0040, -0.0040)\" d=\"M0 0c0 -197 207 -336 207 -533c0 -71 -15 -141 -41 -207c-5 -8 -13 -12 -20 -12c-13 0 -26 11 -23 27c26 61 42 126 42 192c0 103 -94 208 -165 283h-16v250h16z\" fill=\"currentColor\"/>\n",
       "<rect transform=\"translate(49.9545, 4.8293)\" x=\"-0.0650\" y=\"-0.0000\" width=\"0.1300\" height=\"3.8139\" ry=\"0.0400\" fill=\"currentColor\"/>\n",
       "<line transform=\"translate(19.1600, 0.2225)\" stroke-linejoin=\"round\" stroke-linecap=\"round\" stroke-width=\"0.1600\" stroke=\"currentColor\" x1=\"31.0594\" y1=\"0.7549\" x2=\"31.0594\" y2=\"0.7549\"/>\n",
       "<line transform=\"translate(19.1600, 0.2225)\" stroke-linejoin=\"round\" stroke-linecap=\"round\" stroke-width=\"0.1600\" stroke=\"currentColor\" x1=\"-0.1999\" y1=\"-0.0049\" x2=\"-0.1999\" y2=\"0.6951\"/>\n",
       "<line transform=\"translate(19.1600, 0.2225)\" stroke-linejoin=\"round\" stroke-linecap=\"round\" stroke-width=\"0.1600\" stroke=\"currentColor\" x1=\"31.0594\" y1=\"0.7549\" x2=\"16.4733\" y2=\"0.4004\"/>\n",
       "<line transform=\"translate(19.1600, 0.2225)\" stroke-linejoin=\"round\" stroke-linecap=\"round\" stroke-width=\"0.1600\" stroke=\"currentColor\" x1=\"-0.1999\" y1=\"-0.0049\" x2=\"14.5861\" y2=\"0.3545\"/>\n",
       "<text transform=\"translate(34.1459, 1.1609)\" font-family=\"serif\" font-style=\"italic\" font-size=\"1.7461\" text-anchor=\"start\" fill=\"currentColor\">\n",
       "<tspan>5</tspan>\n",
       "</text>\n",
       "<polygon transform=\"translate(19.1600, 2.0193)\" stroke-linejoin=\"round\" stroke-linecap=\"round\" stroke-width=\"0.0800\" fill=\"currentColor\" stroke=\"currentColor\" points=\"20.0611 -0.2000 20.0611 0.2000 0.0400 0.2000 0.0400 -0.2000\"/>\n",
       "<polygon transform=\"translate(34.1227, 2.8293)\" stroke-linejoin=\"round\" stroke-linecap=\"round\" stroke-width=\"0.0800\" fill=\"currentColor\" stroke=\"currentColor\" points=\"5.0984 -0.2000 5.0984 0.2000 0.0400 0.2000 0.0400 -0.2000\"/>\n",
       "<polygon transform=\"translate(34.1227, 3.6393)\" stroke-linejoin=\"round\" stroke-linecap=\"round\" stroke-width=\"0.0800\" fill=\"currentColor\" stroke=\"currentColor\" points=\"5.0984 -0.2000 5.0984 0.2000 0.0400 0.2000 0.0400 -0.2000\"/>\n",
       "<rect transform=\"translate(39.1961, 4.8293)\" x=\"-0.0650\" y=\"-2.8100\" width=\"0.1300\" height=\"5.1239\" ry=\"0.0400\" fill=\"currentColor\"/>\n",
       "<path transform=\"translate(37.9569, 7.3293) scale(0.0040, -0.0040)\" d=\"M218 136c55 0 108 -28 108 -89c0 -71 -55 -121 -102 -149c-35 -21 -75 -34 -116 -34c-55 0 -108 28 -108 89c0 71 55 121 102 149c35 21 75 34 116 34z\" fill=\"currentColor\"/>\n",
       "<rect transform=\"translate(36.6919, 4.8293)\" x=\"-0.0650\" y=\"-2.8100\" width=\"0.1300\" height=\"4.6239\" ry=\"0.0400\" fill=\"currentColor\"/>\n",
       "<path transform=\"translate(35.4527, 6.8293) scale(0.0040, -0.0040)\" d=\"M218 136c55 0 108 -28 108 -89c0 -71 -55 -121 -102 -149c-35 -21 -75 -34 -116 -34c-55 0 -108 28 -108 89c0 71 55 121 102 149c35 21 75 34 116 34z\" fill=\"currentColor\"/>\n",
       "<rect transform=\"translate(34.1877, 4.8293)\" x=\"-0.0650\" y=\"-2.8100\" width=\"0.1300\" height=\"4.1239\" ry=\"0.0400\" fill=\"currentColor\"/>\n",
       "<path transform=\"translate(32.9485, 6.3293) scale(0.0040, -0.0040)\" d=\"M218 136c55 0 108 -28 108 -89c0 -71 -55 -121 -102 -149c-35 -21 -75 -34 -116 -34c-55 0 -108 28 -108 89c0 71 55 121 102 149c35 21 75 34 116 34z\" fill=\"currentColor\"/>\n",
       "<path transform=\"translate(16.5358, 6.3293) scale(0.0040, -0.0040)\" d=\"M216 -312c0 -10 -8 -19 -18 -19s-19 9 -19 19v145l-83 -31v-158c0 -10 -9 -19 -19 -19s-18 9 -18 19v145l-32 -12c-2 -1 -5 -1 -7 -1c-11 0 -20 9 -20 20v60c0 8 5 16 13 19l46 16v160l-32 -11c-2 -1 -5 -1 -7 -1c-11 0 -20 9 -20 20v60c0 8 5 15 13 18l46 17v158\n",
       "c0 10 8 19 18 19s19 -9 19 -19v-145l83 31v158c0 10 9 19 19 19s18 -9 18 -19v-145l32 12c2 1 5 1 7 1c11 0 20 -9 20 -20v-60c0 -8 -5 -16 -13 -19l-46 -16v-160l32 11c2 1 5 1 7 1c11 0 20 -9 20 -20v-60c0 -8 -5 -15 -13 -18l-46 -17v-158zM96 65v-160l83 30v160z\" fill=\"currentColor\"/>\n",
       "<rect transform=\"translate(19.2250, 4.8293)\" x=\"-0.0650\" y=\"-2.8100\" width=\"0.1300\" height=\"4.1239\" ry=\"0.0400\" fill=\"currentColor\"/>\n",
       "<path transform=\"translate(13.5358, 4.8293) scale(0.0040, -0.0040)\" d=\"M359 27c-49 0 -75 42 -75 75c0 38 27 77 72 77c4 0 9 0 14 -1c-28 37 -72 59 -120 59c-106 0 -113 -73 -113 -186v-51v-51c0 -113 7 -187 113 -187c80 0 139 70 158 151c2 7 7 10 12 10c6 0 13 -4 13 -12c0 -94 -105 -174 -183 -174c-68 0 -137 21 -184 70\n",
       "c-49 51 -66 122 -66 193s17 142 66 193c47 49 116 69 184 69c87 0 160 -64 175 -150c1 -5 1 -9 1 -13c0 -40 -30 -72 -67 -72z\" fill=\"currentColor\"/>\n",
       "<path transform=\"translate(9.3358, 5.8293) scale(0.0040, -0.0040)\" d=\"M376 262c4 0 9 1 13 1c155 0 256 -128 256 -261c0 -76 -33 -154 -107 -210c-22 -17 -47 -28 -73 -36c3 -35 5 -70 5 -105c0 -19 -1 -39 -2 -58c-7 -120 -90 -228 -208 -228c-108 0 -195 88 -195 197c0 58 53 103 112 103c54 0 95 -47 95 -103c0 -52 -43 -95 -95 -95\n",
       "c-11 0 -21 2 -31 6c26 -39 68 -65 117 -65c96 0 157 92 163 191c1 18 2 37 2 55c0 31 -1 61 -4 92c-29 -5 -58 -8 -89 -8c-188 0 -333 172 -333 374c0 177 131 306 248 441c-19 62 -37 125 -45 190c-6 52 -7 104 -7 156c0 115 55 224 149 292c3 2 7 3 10 3c4 0 7 0 10 -3\n",
       "c71 -84 133 -245 133 -358c0 -143 -86 -255 -180 -364c21 -68 39 -138 56 -207zM461 -203c68 24 113 95 113 164c0 90 -66 179 -173 190c24 -116 46 -231 60 -354zM74 28c0 -135 129 -247 264 -247c28 0 55 2 82 6c-14 127 -37 245 -63 364c-79 -8 -124 -61 -124 -119\n",
       "c0 -44 25 -91 81 -123c5 -5 7 -10 7 -15c0 -11 -10 -22 -22 -22c-3 0 -6 1 -9 2c-80 43 -117 115 -117 185c0 88 58 174 160 197c-14 58 -29 117 -46 175c-107 -121 -213 -243 -213 -403zM408 1045c-99 -48 -162 -149 -162 -259c0 -74 18 -133 36 -194\n",
       "c80 97 146 198 146 324c0 55 -4 79 -20 129z\" fill=\"currentColor\"/>\n",
       "<path transform=\"translate(17.9858, 6.3293) scale(0.0040, -0.0040)\" d=\"M218 136c55 0 108 -28 108 -89c0 -71 -55 -121 -102 -149c-35 -21 -75 -34 -116 -34c-55 0 -108 28 -108 89c0 71 55 121 102 149c35 21 75 34 116 34z\" fill=\"currentColor\"/>\n",
       "<path transform=\"translate(42.3611, 5.8293) scale(0.0040, -0.0040)\" d=\"M216 -312c0 -10 -8 -19 -18 -19s-19 9 -19 19v145l-83 -31v-158c0 -10 -9 -19 -19 -19s-18 9 -18 19v145l-32 -12c-2 -1 -5 -1 -7 -1c-11 0 -20 9 -20 20v60c0 8 5 16 13 19l46 16v160l-32 -11c-2 -1 -5 -1 -7 -1c-11 0 -20 9 -20 20v60c0 8 5 15 13 18l46 17v158\n",
       "c0 10 8 19 18 19s19 -9 19 -19v-145l83 31v158c0 10 9 19 19 19s18 -9 18 -19v-145l32 12c2 1 5 1 7 1c11 0 20 -9 20 -20v-60c0 -8 -5 -16 -13 -19l-46 -16v-160l32 11c2 1 5 1 7 1c11 0 20 -9 20 -20v-60c0 -8 -5 -15 -13 -18l-46 -17v-158zM96 65v-160l83 30v160z\" fill=\"currentColor\"/>\n",
       "<path transform=\"translate(45.1153, 2.3693) scale(0.0040, -0.0040)\" d=\"M0 0c0 -197 207 -336 207 -533c0 -71 -15 -141 -41 -207c-5 -8 -13 -12 -20 -12c-13 0 -26 11 -23 27c26 61 42 126 42 192c0 103 -94 208 -165 283h-16v250h16z\" fill=\"currentColor\"/>\n",
       "<rect transform=\"translate(45.0503, 4.8293)\" x=\"-0.0650\" y=\"-2.5000\" width=\"0.1300\" height=\"3.3139\" ry=\"0.0400\" fill=\"currentColor\"/>\n",
       "<path transform=\"translate(43.8111, 5.8293) scale(0.0040, -0.0040)\" d=\"M218 136c55 0 108 -28 108 -89c0 -71 -55 -121 -102 -149c-35 -21 -75 -34 -116 -34c-55 0 -108 28 -108 89c0 71 55 121 102 149c35 21 75 34 116 34z\" fill=\"currentColor\"/>\n",
       "<path transform=\"translate(40.4611, 4.8293) scale(0.0040, -0.0040)\" d=\"M54 -500l86 327c-35 -13 -71 -23 -108 -23c-46 0 -87 33 -87 79c0 40 32 72 72 72c25 0 49 -15 57 -39c10 -28 5 -59 34 -59c17 0 54 54 59 71l39 149c-34 -12 -70 -23 -106 -23c-46 0 -87 33 -87 79c0 40 33 72 73 72c25 0 48 -15 56 -39c10 -28 5 -59 34 -59\n",
       "c16 0 52 51 56 68l40 151c-33 -12 -68 -22 -103 -22c-46 0 -87 33 -87 79c0 40 32 72 72 72c25 0 49 -15 57 -39c10 -28 5 -59 34 -59c15 0 46 49 52 63c6 12 23 12 28 0l-216 -920c-8 -7 -18 -10 -28 -10s-19 3 -27 10z\" fill=\"currentColor\"/>\n",
       "</svg>\n"
      ]
     },
     "metadata": {},
     "output_type": "display_data"
    }
   ],
   "source": [
    "abjad.show(tuplet) # it's at index 4"
   ]
  },
  {
   "cell_type": "markdown",
   "metadata": {},
   "source": [
    "## Making Tuplets from Durations and Ratios"
   ]
  },
  {
   "cell_type": "markdown",
   "metadata": {},
   "source": [
    "The Tuplet class also provides a method for constructing a tuplet from a duration and a ratio, where the ratio is a list of integers, the sum of which determines the number of equally spaced pulses within the duration:"
   ]
  },
  {
   "cell_type": "code",
   "execution_count": 38,
   "metadata": {},
   "outputs": [],
   "source": [
    "tuplet = abjad.Tuplet()\n",
    "tuplet = abjad.Tuplet.from_duration_and_ratio((1,4), [1,3,1])"
   ]
  },
  {
   "cell_type": "code",
   "execution_count": 39,
   "metadata": {},
   "outputs": [],
   "source": [
    "staff = abjad.Staff([tuplet], lilypond_type='RhythmicStaff')"
   ]
  },
  {
   "cell_type": "code",
   "execution_count": 40,
   "metadata": {},
   "outputs": [
    {
     "data": {
      "image/svg+xml": [
       "<svg xmlns=\"http://www.w3.org/2000/svg\" xmlns:xlink=\"http://www.w3.org/1999/xlink\" version=\"1.2\" width=\"24.72mm\" height=\"10.77mm\" viewBox=\"8.5358 -0.0000 14.0646 6.1275\">\n",
       "<style text=\"style/css\">\n",
       "<![CDATA[\n",
       "tspan { white-space: pre; }\n",
       "]]>\n",
       "</style>\n",
       "<line transform=\"translate(8.5358, 5.1275)\" stroke-linejoin=\"round\" stroke-linecap=\"round\" stroke-width=\"0.1000\" stroke=\"currentColor\" x1=\"0.0500\" y1=\"-0.0000\" x2=\"14.0646\" y2=\"-0.0000\"/>\n",
       "<path transform=\"translate(20.1462, 5.1275) scale(0.0040, -0.0040)\" d=\"M218 136c55 0 108 -28 108 -89c0 -71 -55 -121 -102 -149c-35 -21 -75 -34 -116 -34c-55 0 -108 28 -108 89c0 71 55 121 102 149c35 21 75 34 116 34z\" fill=\"currentColor\"/>\n",
       "<rect transform=\"translate(21.3854, 5.1275)\" x=\"-0.0650\" y=\"-3.1900\" width=\"0.1300\" height=\"3.0039\" ry=\"0.0400\" fill=\"currentColor\"/>\n",
       "<path transform=\"translate(15.7400, 5.1275) scale(0.0040, -0.0040)\" d=\"M218 136c55 0 108 -28 108 -89c0 -71 -55 -121 -102 -149c-35 -21 -75 -34 -116 -34c-55 0 -108 28 -108 89c0 71 55 121 102 149c35 21 75 34 116 34z\" fill=\"currentColor\"/>\n",
       "<path transform=\"translate(17.4942, 4.6275) scale(0.0040, -0.0040)\" d=\"M0 0c0 31 25 56 56 56s56 -25 56 -56s-25 -56 -56 -56s-56 25 -56 56z\" fill=\"currentColor\"/>\n",
       "<rect transform=\"translate(16.9792, 5.1275)\" x=\"-0.0650\" y=\"-3.1900\" width=\"0.1300\" height=\"3.0039\" ry=\"0.0400\" fill=\"currentColor\"/>\n",
       "<polygon transform=\"translate(14.4100, 1.9375)\" stroke-linejoin=\"round\" stroke-linecap=\"round\" stroke-width=\"0.0800\" fill=\"currentColor\" stroke=\"currentColor\" points=\"7.0004 -0.2000 7.0004 0.2000 0.0400 0.2000 0.0400 -0.2000\"/>\n",
       "<polygon transform=\"translate(20.2854, 2.7475)\" stroke-linejoin=\"round\" stroke-linecap=\"round\" stroke-width=\"0.0800\" fill=\"currentColor\" stroke=\"currentColor\" points=\"1.1250 -0.2000 1.1250 0.2000 0.0400 0.2000 0.0400 -0.2000\"/>\n",
       "<polygon transform=\"translate(14.4100, 2.7475)\" stroke-linejoin=\"round\" stroke-linecap=\"round\" stroke-width=\"0.0800\" fill=\"currentColor\" stroke=\"currentColor\" points=\"1.1250 -0.2000 1.1250 0.2000 0.0400 0.2000 0.0400 -0.2000\"/>\n",
       "<text transform=\"translate(17.4864, 1.1609)\" font-family=\"serif\" font-style=\"italic\" font-size=\"1.7461\" text-anchor=\"start\" fill=\"currentColor\">\n",
       "<tspan>5</tspan>\n",
       "</text>\n",
       "<path transform=\"translate(13.2358, 5.1275) scale(0.0040, -0.0040)\" d=\"M218 136c55 0 108 -28 108 -89c0 -71 -55 -121 -102 -149c-35 -21 -75 -34 -116 -34c-55 0 -108 28 -108 89c0 71 55 121 102 149c35 21 75 34 116 34z\" fill=\"currentColor\"/>\n",
       "<path transform=\"translate(9.5358, 5.1275) scale(0.0040, -0.0040)\" d=\"M359 27c-49 0 -75 42 -75 75c0 38 27 77 72 77c4 0 9 0 14 -1c-28 37 -72 59 -120 59c-106 0 -113 -73 -113 -186v-51v-51c0 -113 7 -187 113 -187c80 0 139 70 158 151c2 7 7 10 12 10c6 0 13 -4 13 -12c0 -94 -105 -174 -183 -174c-68 0 -137 21 -184 70\n",
       "c-49 51 -66 122 -66 193s17 142 66 193c47 49 116 69 184 69c87 0 160 -64 175 -150c1 -5 1 -9 1 -13c0 -40 -30 -72 -67 -72z\" fill=\"currentColor\"/>\n",
       "<rect transform=\"translate(14.4750, 5.1275)\" x=\"-0.0650\" y=\"-3.1900\" width=\"0.1300\" height=\"3.0039\" ry=\"0.0400\" fill=\"currentColor\"/>\n",
       "</svg>\n"
      ]
     },
     "metadata": {},
     "output_type": "display_data"
    }
   ],
   "source": [
    "abjad.show(staff)"
   ]
  },
  {
   "cell_type": "markdown",
   "metadata": {},
   "source": [
    "This might not seem like much, but we can write functions that use these kinds of basic functionalities to do more complicated things, like we'll do in this next example, taken from a real score:"
   ]
  },
  {
   "cell_type": "markdown",
   "metadata": {},
   "source": [
    "# Brian Ferneyhough - Unsichtbare Farben "
   ]
  },
  {
   "cell_type": "markdown",
   "metadata": {},
   "source": [
    "Mikhial Malt analyzes the rhythmic materials of Ferneyhough’s solo violin composition, Unsichtbare Farben, in The OM Composer’s Book 2.\n",
    "\n",
    "Malt explains that Ferneyhough used OpenMusic to create an “exhaustive catalogue of rhythmic cells” such that:\n",
    "\n",
    "Each cell consists of the same duration divided into two pulses related by a durational proportion ranging from 1:1 to 1:11.\n",
    "\n",
    "The second pulse is then subdivided successively into 1, 2, 3, 4, 5 and 6 equal parts.\n",
    "\n",
    "Let’s recreate Malt’s results in Abjad."
   ]
  },
  {
   "cell_type": "markdown",
   "metadata": {},
   "source": [
    "## The Proportions "
   ]
  },
  {
   "cell_type": "markdown",
   "metadata": {},
   "source": [
    "We use a list comprehension to describe a list of (1,n) tuples, each of which will describe the durational proportion between a cell's first and second pulse:"
   ]
  },
  {
   "cell_type": "code",
   "execution_count": 41,
   "metadata": {},
   "outputs": [],
   "source": [
    "proportions = [(1, n) for n in range(1, 11 + 1)]"
   ]
  },
  {
   "cell_type": "code",
   "execution_count": 42,
   "metadata": {},
   "outputs": [
    {
     "data": {
      "text/plain": [
       "[(1, 1),\n",
       " (1, 2),\n",
       " (1, 3),\n",
       " (1, 4),\n",
       " (1, 5),\n",
       " (1, 6),\n",
       " (1, 7),\n",
       " (1, 8),\n",
       " (1, 9),\n",
       " (1, 10),\n",
       " (1, 11)]"
      ]
     },
     "execution_count": 42,
     "metadata": {},
     "output_type": "execute_result"
    }
   ],
   "source": [
    "proportions"
   ]
  },
  {
   "cell_type": "markdown",
   "metadata": {},
   "source": [
    "## The Transforms"
   ]
  },
  {
   "cell_type": "markdown",
   "metadata": {},
   "source": [
    "Next we’ll show how to divide a quarter note into various ratios, and then divide the final logical tie of the resulting tuplet into yet another ratio:"
   ]
  },
  {
   "cell_type": "code",
   "execution_count": 43,
   "metadata": {},
   "outputs": [],
   "source": [
    "def make_nested_tuplet(\n",
    "    tuplet_duration,\n",
    "    outer_tuplet_proportions,\n",
    "    inner_tuplet_subdivision_count,\n",
    "    ):\n",
    "    r'''Makes nested tuplet.\n",
    "    '''\n",
    "\n",
    "    outer_tuplet = abjad.Tuplet.from_duration_and_ratio(\n",
    "        tuplet_duration, outer_tuplet_proportions)\n",
    "    inner_tuplet_proportions = inner_tuplet_subdivision_count * [1]    \n",
    "    last_leaf = next(abjad.iterate(outer_tuplet).leaves(reverse=True))\n",
    "    right_logical_tie = abjad.inspect(last_leaf).logical_tie()\n",
    "    right_logical_tie.to_tuplet(inner_tuplet_proportions)\n",
    "    return outer_tuplet"
   ]
  },
  {
   "cell_type": "markdown",
   "metadata": {},
   "source": [
    "And of course it's easier to see what this function does with an example of use:"
   ]
  },
  {
   "cell_type": "code",
   "execution_count": 44,
   "metadata": {},
   "outputs": [],
   "source": [
    "tuplet = make_nested_tuplet(abjad.Duration(1, 4), (1, 1), 5)"
   ]
  },
  {
   "cell_type": "code",
   "execution_count": 45,
   "metadata": {},
   "outputs": [],
   "source": [
    "staff = abjad.Staff([tuplet], lilypond_type='RhythmicStaff')"
   ]
  },
  {
   "cell_type": "code",
   "execution_count": 46,
   "metadata": {},
   "outputs": [
    {
     "data": {
      "image/svg+xml": [
       "<svg xmlns=\"http://www.w3.org/2000/svg\" xmlns:xlink=\"http://www.w3.org/1999/xlink\" version=\"1.2\" width=\"39.47mm\" height=\"14.33mm\" viewBox=\"8.5358 -0.0000 22.4616 8.1521\">\n",
       "<style text=\"style/css\">\n",
       "<![CDATA[\n",
       "tspan { white-space: pre; }\n",
       "]]>\n",
       "</style>\n",
       "<line transform=\"translate(8.5358, 7.1521)\" stroke-linejoin=\"round\" stroke-linecap=\"round\" stroke-width=\"0.1000\" stroke=\"currentColor\" x1=\"0.0500\" y1=\"-0.0000\" x2=\"22.4616\" y2=\"-0.0000\"/>\n",
       "<path transform=\"translate(28.5432, 7.1521) scale(0.0040, -0.0040)\" d=\"M218 136c55 0 108 -28 108 -89c0 -71 -55 -121 -102 -149c-35 -21 -75 -34 -116 -34c-55 0 -108 28 -108 89c0 71 55 121 102 149c35 21 75 34 116 34z\" fill=\"currentColor\"/>\n",
       "<rect transform=\"translate(29.7824, 7.1521)\" x=\"-0.0650\" y=\"-3.5000\" width=\"0.1300\" height=\"3.3139\" ry=\"0.0400\" fill=\"currentColor\"/>\n",
       "<path transform=\"translate(18.5263, 7.1521) scale(0.0040, -0.0040)\" d=\"M218 136c55 0 108 -28 108 -89c0 -71 -55 -121 -102 -149c-35 -21 -75 -34 -116 -34c-55 0 -108 28 -108 89c0 71 55 121 102 149c35 21 75 34 116 34z\" fill=\"currentColor\"/>\n",
       "<rect transform=\"translate(19.7656, 7.1521)\" x=\"-0.0650\" y=\"-3.5000\" width=\"0.1300\" height=\"3.3139\" ry=\"0.0400\" fill=\"currentColor\"/>\n",
       "<path transform=\"translate(21.0306, 7.1521) scale(0.0040, -0.0040)\" d=\"M218 136c55 0 108 -28 108 -89c0 -71 -55 -121 -102 -149c-35 -21 -75 -34 -116 -34c-55 0 -108 28 -108 89c0 71 55 121 102 149c35 21 75 34 116 34z\" fill=\"currentColor\"/>\n",
       "<rect transform=\"translate(22.2698, 7.1521)\" x=\"-0.0650\" y=\"-3.5000\" width=\"0.1300\" height=\"3.3139\" ry=\"0.0400\" fill=\"currentColor\"/>\n",
       "<path transform=\"translate(23.5348, 7.1521) scale(0.0040, -0.0040)\" d=\"M218 136c55 0 108 -28 108 -89c0 -71 -55 -121 -102 -149c-35 -21 -75 -34 -116 -34c-55 0 -108 28 -108 89c0 71 55 121 102 149c35 21 75 34 116 34z\" fill=\"currentColor\"/>\n",
       "<rect transform=\"translate(24.7740, 7.1521)\" x=\"-0.0650\" y=\"-3.5000\" width=\"0.1300\" height=\"3.3139\" ry=\"0.0400\" fill=\"currentColor\"/>\n",
       "<polygon transform=\"translate(14.4100, 3.6521)\" stroke-linejoin=\"round\" stroke-linecap=\"round\" stroke-width=\"0.0800\" fill=\"currentColor\" stroke=\"currentColor\" points=\"15.3974 -0.2000 15.3974 0.2000 0.0400 0.2000 0.0400 -0.2000\"/>\n",
       "<polygon transform=\"translate(19.7006, 4.4621)\" stroke-linejoin=\"round\" stroke-linecap=\"round\" stroke-width=\"0.0800\" fill=\"currentColor\" stroke=\"currentColor\" points=\"10.1068 -0.2000 10.1068 0.2000 0.0400 0.2000 0.0400 -0.2000\"/>\n",
       "<polygon transform=\"translate(19.7006, 5.2721)\" stroke-linejoin=\"round\" stroke-linecap=\"round\" stroke-width=\"0.0800\" fill=\"currentColor\" stroke=\"currentColor\" points=\"10.1068 -0.2000 10.1068 0.2000 0.0400 0.2000 0.0400 -0.2000\"/>\n",
       "<text transform=\"translate(24.3301, 2.8755)\" font-family=\"serif\" font-style=\"italic\" font-size=\"1.7461\" text-anchor=\"start\" fill=\"currentColor\">\n",
       "<tspan>5</tspan>\n",
       "</text>\n",
       "<line transform=\"translate(19.7006, 2.3121)\" stroke-linejoin=\"round\" stroke-linecap=\"round\" stroke-width=\"0.1600\" stroke=\"currentColor\" x1=\"10.3468\" y1=\"-0.0000\" x2=\"10.3468\" y2=\"0.7000\"/>\n",
       "<line transform=\"translate(19.7006, 2.3121)\" stroke-linejoin=\"round\" stroke-linecap=\"round\" stroke-width=\"0.1600\" stroke=\"currentColor\" x1=\"-0.2000\" y1=\"-0.0000\" x2=\"-0.2000\" y2=\"0.7000\"/>\n",
       "<line transform=\"translate(19.7006, 2.3121)\" stroke-linejoin=\"round\" stroke-linecap=\"round\" stroke-width=\"0.1600\" stroke=\"currentColor\" x1=\"10.3468\" y1=\"-0.0000\" x2=\"6.1173\" y2=\"-0.0000\"/>\n",
       "<line transform=\"translate(19.7006, 2.3121)\" stroke-linejoin=\"round\" stroke-linecap=\"round\" stroke-width=\"0.1600\" stroke=\"currentColor\" x1=\"-0.2000\" y1=\"-0.0000\" x2=\"4.2296\" y2=\"-0.0000\"/>\n",
       "<text transform=\"translate(20.9508, 1.1950)\" font-family=\"serif\" font-style=\"italic\" font-size=\"1.7461\" text-anchor=\"start\" fill=\"currentColor\">\n",
       "<tspan>1:1</tspan>\n",
       "</text>\n",
       "<path transform=\"translate(13.2358, 7.1521) scale(0.0040, -0.0040)\" d=\"M218 136c55 0 108 -28 108 -89c0 -71 -55 -121 -102 -149c-35 -21 -75 -34 -116 -34c-55 0 -108 28 -108 89c0 71 55 121 102 149c35 21 75 34 116 34z\" fill=\"currentColor\"/>\n",
       "<path transform=\"translate(9.5358, 7.1521) scale(0.0040, -0.0040)\" d=\"M359 27c-49 0 -75 42 -75 75c0 38 27 77 72 77c4 0 9 0 14 -1c-28 37 -72 59 -120 59c-106 0 -113 -73 -113 -186v-51v-51c0 -113 7 -187 113 -187c80 0 139 70 158 151c2 7 7 10 12 10c6 0 13 -4 13 -12c0 -94 -105 -174 -183 -174c-68 0 -137 21 -184 70\n",
       "c-49 51 -66 122 -66 193s17 142 66 193c47 49 116 69 184 69c87 0 160 -64 175 -150c1 -5 1 -9 1 -13c0 -40 -30 -72 -67 -72z\" fill=\"currentColor\"/>\n",
       "<rect transform=\"translate(14.4750, 7.1521)\" x=\"-0.0650\" y=\"-3.5000\" width=\"0.1300\" height=\"3.3139\" ry=\"0.0400\" fill=\"currentColor\"/>\n",
       "<path transform=\"translate(26.0390, 7.1521) scale(0.0040, -0.0040)\" d=\"M218 136c55 0 108 -28 108 -89c0 -71 -55 -121 -102 -149c-35 -21 -75 -34 -116 -34c-55 0 -108 28 -108 89c0 71 55 121 102 149c35 21 75 34 116 34z\" fill=\"currentColor\"/>\n",
       "<rect transform=\"translate(27.2782, 7.1521)\" x=\"-0.0650\" y=\"-3.5000\" width=\"0.1300\" height=\"3.3139\" ry=\"0.0400\" fill=\"currentColor\"/>\n",
       "</svg>\n"
      ]
     },
     "metadata": {},
     "output_type": "display_data"
    }
   ],
   "source": [
    "abjad.show(staff)"
   ]
  },
  {
   "cell_type": "markdown",
   "metadata": {},
   "source": [
    "We see that a duration of a quarter note (the first argument) has been divided into two pulses with a durational proportion of 1:1 (second argument), the second pulse of which has then been divided into five equally spaced parts (the third argument). Try changing the arguments and see what happens."
   ]
  },
  {
   "cell_type": "code",
   "execution_count": 47,
   "metadata": {},
   "outputs": [],
   "source": [
    "tuplet = make_nested_tuplet(abjad.Duration(1, 4), (13, 28), 11)"
   ]
  },
  {
   "cell_type": "code",
   "execution_count": 48,
   "metadata": {},
   "outputs": [],
   "source": [
    "staff = abjad.Staff([tuplet], lilypond_type='RhythmicStaff')"
   ]
  },
  {
   "cell_type": "code",
   "execution_count": 49,
   "metadata": {},
   "outputs": [
    {
     "data": {
      "image/svg+xml": [
       "<svg xmlns=\"http://www.w3.org/2000/svg\" xmlns:xlink=\"http://www.w3.org/1999/xlink\" version=\"1.2\" width=\"104.21mm\" height=\"17.92mm\" viewBox=\"8.5358 -0.0000 59.2993 10.1961\">\n",
       "<style text=\"style/css\">\n",
       "<![CDATA[\n",
       "tspan { white-space: pre; }\n",
       "]]>\n",
       "</style>\n",
       "<line transform=\"translate(8.5358, 8.7496)\" stroke-linejoin=\"round\" stroke-linecap=\"round\" stroke-width=\"0.1000\" stroke=\"currentColor\" x1=\"0.0500\" y1=\"-0.0000\" x2=\"59.2993\" y2=\"-0.0000\"/>\n",
       "<rect transform=\"translate(32.0289, 8.7496)\" x=\"-0.0650\" y=\"-5.0633\" width=\"0.1300\" height=\"4.8772\" ry=\"0.0400\" fill=\"currentColor\"/>\n",
       "<path transform=\"translate(30.7896, 8.7496) scale(0.0040, -0.0040)\" d=\"M218 136c55 0 108 -28 108 -89c0 -71 -55 -121 -102 -149c-35 -21 -75 -34 -116 -34c-55 0 -108 28 -108 89c0 71 55 121 102 149c35 21 75 34 116 34z\" fill=\"currentColor\"/>\n",
       "<rect transform=\"translate(27.9071, 8.7496)\" x=\"-0.0650\" y=\"-5.0633\" width=\"0.1300\" height=\"4.8772\" ry=\"0.0400\" fill=\"currentColor\"/>\n",
       "<path transform=\"translate(26.6679, 8.7496) scale(0.0040, -0.0040)\" d=\"M218 136c55 0 108 -28 108 -89c0 -71 -55 -121 -102 -149c-35 -21 -75 -34 -116 -34c-55 0 -108 28 -108 89c0 71 55 121 102 149c35 21 75 34 116 34z\" fill=\"currentColor\"/>\n",
       "<rect transform=\"translate(23.7854, 8.7496)\" x=\"-0.0650\" y=\"-5.0633\" width=\"0.1300\" height=\"4.8772\" ry=\"0.0400\" fill=\"currentColor\"/>\n",
       "<path transform=\"translate(22.5462, 8.7496) scale(0.0040, -0.0040)\" d=\"M218 136c55 0 108 -28 108 -89c0 -71 -55 -121 -102 -149c-35 -21 -75 -34 -116 -34c-55 0 -108 28 -108 89c0 71 55 121 102 149c35 21 75 34 116 34z\" fill=\"currentColor\"/>\n",
       "<rect transform=\"translate(21.2812, 8.7496)\" x=\"-0.0650\" y=\"-5.0633\" width=\"0.1300\" height=\"4.8772\" ry=\"0.0400\" fill=\"currentColor\"/>\n",
       "<path transform=\"translate(20.0420, 8.7496) scale(0.0040, -0.0040)\" d=\"M218 136c55 0 108 -28 108 -89c0 -71 -55 -121 -102 -149c-35 -21 -75 -34 -116 -34c-55 0 -108 28 -108 89c0 71 55 121 102 149c35 21 75 34 116 34z\" fill=\"currentColor\"/>\n",
       "<text transform=\"translate(38.8511, 1.1950)\" font-family=\"serif\" font-style=\"italic\" font-size=\"1.7461\" text-anchor=\"start\" fill=\"currentColor\">\n",
       "<tspan>41</tspan>\n",
       "</text>\n",
       "<path transform=\"translate(13.2358, 8.7496)\" stroke-width=\"0.0800\" stroke-linejoin=\"round\" stroke-linecap=\"round\" stroke=\"currentColor\" fill=\"currentColor\" d=\"M0.8521 0.7500C1.8685 1.6254 6.2419 1.6254 7.2583 0.7500L7.2583 0.7500C6.2419 1.5054 1.8685 1.5054 0.8521 0.7500z\"/>\n",
       "<line transform=\"translate(23.7204, 2.3462)\" stroke-linejoin=\"round\" stroke-linecap=\"round\" stroke-width=\"0.1600\" stroke=\"currentColor\" x1=\"41.5472\" y1=\"0.0000\" x2=\"41.5472\" y2=\"0.7000\"/>\n",
       "<line transform=\"translate(23.7204, 2.3462)\" stroke-linejoin=\"round\" stroke-linecap=\"round\" stroke-width=\"0.1600\" stroke=\"currentColor\" x1=\"-0.2000\" y1=\"-0.0000\" x2=\"-0.2000\" y2=\"0.7000\"/>\n",
       "<line transform=\"translate(23.7204, 2.3462)\" stroke-linejoin=\"round\" stroke-linecap=\"round\" stroke-width=\"0.1600\" stroke=\"currentColor\" x1=\"41.5472\" y1=\"0.0000\" x2=\"22.8271\" y2=\"0.0000\"/>\n",
       "<line transform=\"translate(23.7204, 2.3462)\" stroke-linejoin=\"round\" stroke-linecap=\"round\" stroke-width=\"0.1600\" stroke=\"currentColor\" x1=\"-0.2000\" y1=\"-0.0000\" x2=\"18.7201\" y2=\"0.0000\"/>\n",
       "<text transform=\"translate(42.8405, 2.9096)\" font-family=\"serif\" font-style=\"italic\" font-size=\"1.7461\" text-anchor=\"start\" fill=\"currentColor\">\n",
       "<tspan>11:7</tspan>\n",
       "</text>\n",
       "<polygon transform=\"translate(14.4100, 3.6862)\" stroke-linejoin=\"round\" stroke-linecap=\"round\" stroke-width=\"0.0800\" fill=\"currentColor\" stroke=\"currentColor\" points=\"50.6176 -0.2000 50.6176 0.2000 0.0400 0.2000 0.0400 -0.2000\"/>\n",
       "<polygon transform=\"translate(14.4100, 4.5596)\" stroke-linejoin=\"round\" stroke-linecap=\"round\" stroke-width=\"0.0800\" fill=\"currentColor\" stroke=\"currentColor\" points=\"50.6176 -0.2000 50.6176 0.2000 0.0400 0.2000 0.0400 -0.2000\"/>\n",
       "<polygon transform=\"translate(21.2162, 5.4329)\" stroke-linejoin=\"round\" stroke-linecap=\"round\" stroke-width=\"0.0800\" fill=\"currentColor\" stroke=\"currentColor\" points=\"43.8114 -0.2000 43.8114 0.2000 0.0400 0.2000 0.0400 -0.2000\"/>\n",
       "<polygon transform=\"translate(21.2162, 6.3062)\" stroke-linejoin=\"round\" stroke-linecap=\"round\" stroke-width=\"0.0800\" fill=\"currentColor\" stroke=\"currentColor\" points=\"1.1250 -0.2000 1.1250 0.2000 0.0400 0.2000 0.0400 -0.2000\"/>\n",
       "<polygon transform=\"translate(21.2162, 7.1796)\" stroke-linejoin=\"round\" stroke-linecap=\"round\" stroke-width=\"0.0800\" fill=\"currentColor\" stroke=\"currentColor\" points=\"1.1250 -0.2000 1.1250 0.2000 0.0400 0.2000 0.0400 -0.2000\"/>\n",
       "<rect transform=\"translate(44.3940, 8.7496)\" x=\"-0.0650\" y=\"-5.0633\" width=\"0.1300\" height=\"4.8772\" ry=\"0.0400\" fill=\"currentColor\"/>\n",
       "<path transform=\"translate(43.1548, 8.7496) scale(0.0040, -0.0040)\" d=\"M218 136c55 0 108 -28 108 -89c0 -71 -55 -121 -102 -149c-35 -21 -75 -34 -116 -34c-55 0 -108 28 -108 89c0 71 55 121 102 149c35 21 75 34 116 34z\" fill=\"currentColor\"/>\n",
       "<rect transform=\"translate(40.2723, 8.7496)\" x=\"-0.0650\" y=\"-5.0633\" width=\"0.1300\" height=\"4.8772\" ry=\"0.0400\" fill=\"currentColor\"/>\n",
       "<path transform=\"translate(39.0331, 8.7496) scale(0.0040, -0.0040)\" d=\"M218 136c55 0 108 -28 108 -89c0 -71 -55 -121 -102 -149c-35 -21 -75 -34 -116 -34c-55 0 -108 28 -108 89c0 71 55 121 102 149c35 21 75 34 116 34z\" fill=\"currentColor\"/>\n",
       "<rect transform=\"translate(36.1506, 8.7496)\" x=\"-0.0650\" y=\"-5.0633\" width=\"0.1300\" height=\"4.8772\" ry=\"0.0400\" fill=\"currentColor\"/>\n",
       "<path transform=\"translate(34.9114, 8.7496) scale(0.0040, -0.0040)\" d=\"M218 136c55 0 108 -28 108 -89c0 -71 -55 -121 -102 -149c-35 -21 -75 -34 -116 -34c-55 0 -108 28 -108 89c0 71 55 121 102 149c35 21 75 34 116 34z\" fill=\"currentColor\"/>\n",
       "<path transform=\"translate(51.3982, 8.7496) scale(0.0040, -0.0040)\" d=\"M218 136c55 0 108 -28 108 -89c0 -71 -55 -121 -102 -149c-35 -21 -75 -34 -116 -34c-55 0 -108 28 -108 89c0 71 55 121 102 149c35 21 75 34 116 34z\" fill=\"currentColor\"/>\n",
       "<rect transform=\"translate(65.0026, 8.7496)\" x=\"-0.0650\" y=\"-5.0633\" width=\"0.1300\" height=\"4.8772\" ry=\"0.0400\" fill=\"currentColor\"/>\n",
       "<rect transform=\"translate(48.5157, 8.7496)\" x=\"-0.0650\" y=\"-5.0633\" width=\"0.1300\" height=\"4.8772\" ry=\"0.0400\" fill=\"currentColor\"/>\n",
       "<path transform=\"translate(47.2765, 8.7496) scale(0.0040, -0.0040)\" d=\"M218 136c55 0 108 -28 108 -89c0 -71 -55 -121 -102 -149c-35 -21 -75 -34 -116 -34c-55 0 -108 28 -108 89c0 71 55 121 102 149c35 21 75 34 116 34z\" fill=\"currentColor\"/>\n",
       "<rect transform=\"translate(14.4750, 8.7496)\" x=\"-0.0650\" y=\"-5.0633\" width=\"0.1300\" height=\"4.8772\" ry=\"0.0400\" fill=\"currentColor\"/>\n",
       "<path transform=\"translate(14.9900, 8.2496) scale(0.0040, -0.0040)\" d=\"M0 0c0 31 25 56 56 56s56 -25 56 -56s-25 -56 -56 -56s-56 25 -56 56z\" fill=\"currentColor\"/>\n",
       "<path transform=\"translate(9.5358, 8.7496) scale(0.0040, -0.0040)\" d=\"M359 27c-49 0 -75 42 -75 75c0 38 27 77 72 77c4 0 9 0 14 -1c-28 37 -72 59 -120 59c-106 0 -113 -73 -113 -186v-51v-51c0 -113 7 -187 113 -187c80 0 139 70 158 151c2 7 7 10 12 10c6 0 13 -4 13 -12c0 -94 -105 -174 -183 -174c-68 0 -137 21 -184 70\n",
       "c-49 51 -66 122 -66 193s17 142 66 193c47 49 116 69 184 69c87 0 160 -64 175 -150c1 -5 1 -9 1 -13c0 -40 -30 -72 -67 -72z\" fill=\"currentColor\"/>\n",
       "<path transform=\"translate(13.2358, 8.7496) scale(0.0040, -0.0040)\" d=\"M218 136c55 0 108 -28 108 -89c0 -71 -55 -121 -102 -149c-35 -21 -75 -34 -116 -34c-55 0 -108 28 -108 89c0 71 55 121 102 149c35 21 75 34 116 34z\" fill=\"currentColor\"/>\n",
       "<path transform=\"translate(63.7634, 8.7496) scale(0.0040, -0.0040)\" d=\"M218 136c55 0 108 -28 108 -89c0 -71 -55 -121 -102 -149c-35 -21 -75 -34 -116 -34c-55 0 -108 28 -108 89c0 71 55 121 102 149c35 21 75 34 116 34z\" fill=\"currentColor\"/>\n",
       "<rect transform=\"translate(60.8809, 8.7496)\" x=\"-0.0650\" y=\"-5.0633\" width=\"0.1300\" height=\"4.8772\" ry=\"0.0400\" fill=\"currentColor\"/>\n",
       "<path transform=\"translate(59.6417, 8.7496) scale(0.0040, -0.0040)\" d=\"M218 136c55 0 108 -28 108 -89c0 -71 -55 -121 -102 -149c-35 -21 -75 -34 -116 -34c-55 0 -108 28 -108 89c0 71 55 121 102 149c35 21 75 34 116 34z\" fill=\"currentColor\"/>\n",
       "<rect transform=\"translate(56.7592, 8.7496)\" x=\"-0.0650\" y=\"-5.0633\" width=\"0.1300\" height=\"4.8772\" ry=\"0.0400\" fill=\"currentColor\"/>\n",
       "<rect transform=\"translate(52.6375, 8.7496)\" x=\"-0.0650\" y=\"-5.0633\" width=\"0.1300\" height=\"4.8772\" ry=\"0.0400\" fill=\"currentColor\"/>\n",
       "<path transform=\"translate(55.5200, 8.7496) scale(0.0040, -0.0040)\" d=\"M218 136c55 0 108 -28 108 -89c0 -71 -55 -121 -102 -149c-35 -21 -75 -34 -116 -34c-55 0 -108 28 -108 89c0 71 55 121 102 149c35 21 75 34 116 34z\" fill=\"currentColor\"/>\n",
       "</svg>\n"
      ]
     },
     "metadata": {},
     "output_type": "display_data"
    }
   ],
   "source": [
    "abjad.show(staff)"
   ]
  },
  {
   "cell_type": "code",
   "execution_count": 50,
   "metadata": {},
   "outputs": [],
   "source": [
    "tuplet = make_nested_tuplet(abjad.Duration(1, 4), (3, 1), 5)"
   ]
  },
  {
   "cell_type": "code",
   "execution_count": 51,
   "metadata": {},
   "outputs": [],
   "source": [
    "staff = abjad.Staff([tuplet], lilypond_type='RhythmicStaff')"
   ]
  },
  {
   "cell_type": "code",
   "execution_count": 52,
   "metadata": {},
   "outputs": [
    {
     "data": {
      "image/svg+xml": [
       "<svg xmlns=\"http://www.w3.org/2000/svg\" xmlns:xlink=\"http://www.w3.org/1999/xlink\" version=\"1.2\" width=\"42.81mm\" height=\"15.54mm\" viewBox=\"8.5358 -0.0000 24.3635 8.8421\">\n",
       "<style text=\"style/css\">\n",
       "<![CDATA[\n",
       "tspan { white-space: pre; }\n",
       "]]>\n",
       "</style>\n",
       "<line transform=\"translate(8.5358, 7.8421)\" stroke-linejoin=\"round\" stroke-linecap=\"round\" stroke-width=\"0.1000\" stroke=\"currentColor\" x1=\"0.0500\" y1=\"-0.0000\" x2=\"24.3635\" y2=\"-0.0000\"/>\n",
       "<path transform=\"translate(30.4451, 7.8421) scale(0.0040, -0.0040)\" d=\"M218 136c55 0 108 -28 108 -89c0 -71 -55 -121 -102 -149c-35 -21 -75 -34 -116 -34c-55 0 -108 28 -108 89c0 71 55 121 102 149c35 21 75 34 116 34z\" fill=\"currentColor\"/>\n",
       "<rect transform=\"translate(31.6844, 7.8421)\" x=\"-0.0650\" y=\"-4.1900\" width=\"0.1300\" height=\"4.0039\" ry=\"0.0400\" fill=\"currentColor\"/>\n",
       "<path transform=\"translate(20.4283, 7.8421) scale(0.0040, -0.0040)\" d=\"M218 136c55 0 108 -28 108 -89c0 -71 -55 -121 -102 -149c-35 -21 -75 -34 -116 -34c-55 0 -108 28 -108 89c0 71 55 121 102 149c35 21 75 34 116 34z\" fill=\"currentColor\"/>\n",
       "<rect transform=\"translate(21.6675, 7.8421)\" x=\"-0.0650\" y=\"-4.1900\" width=\"0.1300\" height=\"4.0039\" ry=\"0.0400\" fill=\"currentColor\"/>\n",
       "<path transform=\"translate(22.9325, 7.8421) scale(0.0040, -0.0040)\" d=\"M218 136c55 0 108 -28 108 -89c0 -71 -55 -121 -102 -149c-35 -21 -75 -34 -116 -34c-55 0 -108 28 -108 89c0 71 55 121 102 149c35 21 75 34 116 34z\" fill=\"currentColor\"/>\n",
       "<rect transform=\"translate(24.1717, 7.8421)\" x=\"-0.0650\" y=\"-4.1900\" width=\"0.1300\" height=\"4.0039\" ry=\"0.0400\" fill=\"currentColor\"/>\n",
       "<path transform=\"translate(25.4367, 7.8421) scale(0.0040, -0.0040)\" d=\"M218 136c55 0 108 -28 108 -89c0 -71 -55 -121 -102 -149c-35 -21 -75 -34 -116 -34c-55 0 -108 28 -108 89c0 71 55 121 102 149c35 21 75 34 116 34z\" fill=\"currentColor\"/>\n",
       "<rect transform=\"translate(26.6759, 7.8421)\" x=\"-0.0650\" y=\"-4.1900\" width=\"0.1300\" height=\"4.0039\" ry=\"0.0400\" fill=\"currentColor\"/>\n",
       "<polygon transform=\"translate(14.4100, 3.6521)\" stroke-linejoin=\"round\" stroke-linecap=\"round\" stroke-width=\"0.0800\" fill=\"currentColor\" stroke=\"currentColor\" points=\"17.2993 -0.2000 17.2993 0.2000 0.0400 0.2000 0.0400 -0.2000\"/>\n",
       "<polygon transform=\"translate(21.6025, 4.5254)\" stroke-linejoin=\"round\" stroke-linecap=\"round\" stroke-width=\"0.0800\" fill=\"currentColor\" stroke=\"currentColor\" points=\"10.1068 -0.2000 10.1068 0.2000 0.0400 0.2000 0.0400 -0.2000\"/>\n",
       "<polygon transform=\"translate(21.6025, 5.3988)\" stroke-linejoin=\"round\" stroke-linecap=\"round\" stroke-width=\"0.0800\" fill=\"currentColor\" stroke=\"currentColor\" points=\"10.1068 -0.2000 10.1068 0.2000 0.0400 0.2000 0.0400 -0.2000\"/>\n",
       "<polygon transform=\"translate(21.6025, 6.2721)\" stroke-linejoin=\"round\" stroke-linecap=\"round\" stroke-width=\"0.0800\" fill=\"currentColor\" stroke=\"currentColor\" points=\"10.1068 -0.2000 10.1068 0.2000 0.0400 0.2000 0.0400 -0.2000\"/>\n",
       "<text transform=\"translate(26.2321, 2.8755)\" font-family=\"serif\" font-style=\"italic\" font-size=\"1.7461\" text-anchor=\"start\" fill=\"currentColor\">\n",
       "<tspan>5</tspan>\n",
       "</text>\n",
       "<line transform=\"translate(21.6025, 2.3121)\" stroke-linejoin=\"round\" stroke-linecap=\"round\" stroke-width=\"0.1600\" stroke=\"currentColor\" x1=\"10.3468\" y1=\"-0.0000\" x2=\"10.3468\" y2=\"0.7000\"/>\n",
       "<line transform=\"translate(21.6025, 2.3121)\" stroke-linejoin=\"round\" stroke-linecap=\"round\" stroke-width=\"0.1600\" stroke=\"currentColor\" x1=\"-0.2000\" y1=\"-0.0000\" x2=\"-0.2000\" y2=\"0.7000\"/>\n",
       "<line transform=\"translate(21.6025, 2.3121)\" stroke-linejoin=\"round\" stroke-linecap=\"round\" stroke-width=\"0.1600\" stroke=\"currentColor\" x1=\"10.3468\" y1=\"-0.0000\" x2=\"6.1173\" y2=\"-0.0000\"/>\n",
       "<line transform=\"translate(21.6025, 2.3121)\" stroke-linejoin=\"round\" stroke-linecap=\"round\" stroke-width=\"0.1600\" stroke=\"currentColor\" x1=\"-0.2000\" y1=\"-0.0000\" x2=\"4.2296\" y2=\"-0.0000\"/>\n",
       "<text transform=\"translate(21.9018, 1.1950)\" font-family=\"serif\" font-style=\"italic\" font-size=\"1.7461\" text-anchor=\"start\" fill=\"currentColor\">\n",
       "<tspan>1:1</tspan>\n",
       "</text>\n",
       "<path transform=\"translate(13.2358, 7.8421) scale(0.0040, -0.0040)\" d=\"M218 136c55 0 108 -28 108 -89c0 -71 -55 -121 -102 -149c-35 -21 -75 -34 -116 -34c-55 0 -108 28 -108 89c0 71 55 121 102 149c35 21 75 34 116 34z\" fill=\"currentColor\"/>\n",
       "<path transform=\"translate(9.5358, 7.8421) scale(0.0040, -0.0040)\" d=\"M359 27c-49 0 -75 42 -75 75c0 38 27 77 72 77c4 0 9 0 14 -1c-28 37 -72 59 -120 59c-106 0 -113 -73 -113 -186v-51v-51c0 -113 7 -187 113 -187c80 0 139 70 158 151c2 7 7 10 12 10c6 0 13 -4 13 -12c0 -94 -105 -174 -183 -174c-68 0 -137 21 -184 70\n",
       "c-49 51 -66 122 -66 193s17 142 66 193c47 49 116 69 184 69c87 0 160 -64 175 -150c1 -5 1 -9 1 -13c0 -40 -30 -72 -67 -72z\" fill=\"currentColor\"/>\n",
       "<path transform=\"translate(14.9900, 7.3421) scale(0.0040, -0.0040)\" d=\"M0 0c0 31 25 56 56 56s56 -25 56 -56s-25 -56 -56 -56s-56 25 -56 56z\" fill=\"currentColor\"/>\n",
       "<rect transform=\"translate(14.4750, 7.8421)\" x=\"-0.0650\" y=\"-4.1900\" width=\"0.1300\" height=\"4.0039\" ry=\"0.0400\" fill=\"currentColor\"/>\n",
       "<rect transform=\"translate(29.1801, 7.8421)\" x=\"-0.0650\" y=\"-4.1900\" width=\"0.1300\" height=\"4.0039\" ry=\"0.0400\" fill=\"currentColor\"/>\n",
       "<path transform=\"translate(27.9409, 7.8421) scale(0.0040, -0.0040)\" d=\"M218 136c55 0 108 -28 108 -89c0 -71 -55 -121 -102 -149c-35 -21 -75 -34 -116 -34c-55 0 -108 28 -108 89c0 71 55 121 102 149c35 21 75 34 116 34z\" fill=\"currentColor\"/>\n",
       "</svg>\n"
      ]
     },
     "metadata": {},
     "output_type": "display_data"
    }
   ],
   "source": [
    "abjad.show(staff)"
   ]
  },
  {
   "cell_type": "markdown",
   "metadata": {},
   "source": [
    "### Logical Ties Solve the Problem of Five"
   ]
  },
  {
   "cell_type": "markdown",
   "metadata": {},
   "source": [
    "A logical tie is a selection of notes or chords connected by ties. It lets us talk about a notated rhythm of 5/16, for example, which can not be expressed with only a single leaf.\n",
    "\n",
    "Note how we can divide a tuplet whose outer proportions are 3/5, where the second logical tie requires two notes to express the 5/16 duration:"
   ]
  },
  {
   "cell_type": "code",
   "execution_count": 53,
   "metadata": {},
   "outputs": [],
   "source": [
    "outer_tuplet = abjad.Tuplet.from_duration_and_ratio(abjad.Duration(1, 4), (3, 5))"
   ]
  },
  {
   "cell_type": "code",
   "execution_count": 54,
   "metadata": {},
   "outputs": [],
   "source": [
    "staff = abjad.Staff([outer_tuplet], lilypond_type='RhythmicStaff')"
   ]
  },
  {
   "cell_type": "code",
   "execution_count": 55,
   "metadata": {},
   "outputs": [
    {
     "data": {
      "image/svg+xml": [
       "<svg xmlns=\"http://www.w3.org/2000/svg\" xmlns:xlink=\"http://www.w3.org/1999/xlink\" version=\"1.2\" width=\"28.93mm\" height=\"12.03mm\" viewBox=\"8.5358 -0.0000 16.4646 6.8479\">\n",
       "<style text=\"style/css\">\n",
       "<![CDATA[\n",
       "tspan { white-space: pre; }\n",
       "]]>\n",
       "</style>\n",
       "<line transform=\"translate(8.5358, 5.4546)\" stroke-linejoin=\"round\" stroke-linecap=\"round\" stroke-width=\"0.1000\" stroke=\"currentColor\" x1=\"0.0500\" y1=\"-0.0000\" x2=\"16.4646\" y2=\"-0.0000\"/>\n",
       "<path transform=\"translate(22.5462, 5.4546) scale(0.0040, -0.0040)\" d=\"M218 136c55 0 108 -28 108 -89c0 -71 -55 -121 -102 -149c-35 -21 -75 -34 -116 -34c-55 0 -108 28 -108 89c0 71 55 121 102 149c35 21 75 34 116 34z\" fill=\"currentColor\"/>\n",
       "<rect transform=\"translate(23.7854, 5.4546)\" x=\"-0.0650\" y=\"-3.5000\" width=\"0.1300\" height=\"3.3139\" ry=\"0.0400\" fill=\"currentColor\"/>\n",
       "<path transform=\"translate(17.6420, 5.4546) scale(0.0040, -0.0040)\" d=\"M218 136c55 0 108 -28 108 -89c0 -71 -55 -121 -102 -149c-35 -21 -75 -34 -116 -34c-55 0 -108 28 -108 89c0 71 55 121 102 149c35 21 75 34 116 34z\" fill=\"currentColor\"/>\n",
       "<rect transform=\"translate(18.8812, 5.4546)\" x=\"-0.0650\" y=\"-3.5000\" width=\"0.1300\" height=\"3.3139\" ry=\"0.0400\" fill=\"currentColor\"/>\n",
       "<polygon transform=\"translate(14.4100, 1.9546)\" stroke-linejoin=\"round\" stroke-linecap=\"round\" stroke-width=\"0.0800\" fill=\"currentColor\" stroke=\"currentColor\" points=\"9.4004 -0.2000 9.4004 0.2000 0.0400 0.2000 0.0400 -0.2000\"/>\n",
       "<polygon transform=\"translate(22.6854, 2.7646)\" stroke-linejoin=\"round\" stroke-linecap=\"round\" stroke-width=\"0.0800\" fill=\"currentColor\" stroke=\"currentColor\" points=\"1.1250 -0.2000 1.1250 0.2000 0.0400 0.2000 0.0400 -0.2000\"/>\n",
       "<polygon transform=\"translate(14.4100, 2.7646)\" stroke-linejoin=\"round\" stroke-linecap=\"round\" stroke-width=\"0.0800\" fill=\"currentColor\" stroke=\"currentColor\" points=\"1.1250 -0.2000 1.1250 0.2000 0.0400 0.2000 0.0400 -0.2000\"/>\n",
       "<polygon transform=\"translate(22.6854, 3.5746)\" stroke-linejoin=\"round\" stroke-linecap=\"round\" stroke-width=\"0.0800\" fill=\"currentColor\" stroke=\"currentColor\" points=\"1.1250 -0.2000 1.1250 0.2000 0.0400 0.2000 0.0400 -0.2000\"/>\n",
       "<path transform=\"translate(17.6420, 5.4546)\" stroke-width=\"0.0800\" stroke-linejoin=\"round\" stroke-linecap=\"round\" stroke=\"currentColor\" fill=\"currentColor\" d=\"M0.8521 0.7500C1.6937 1.5545 4.5147 1.5545 5.3563 0.7500L5.3563 0.7500C4.5147 1.4345 1.6937 1.4345 0.8521 0.7500z\"/>\n",
       "<text transform=\"translate(17.9523, 1.1950)\" font-family=\"serif\" font-style=\"italic\" font-size=\"1.7461\" text-anchor=\"start\" fill=\"currentColor\">\n",
       "<tspan>1:1</tspan>\n",
       "</text>\n",
       "<rect transform=\"translate(14.4750, 5.4546)\" x=\"-0.0650\" y=\"-3.5000\" width=\"0.1300\" height=\"3.3139\" ry=\"0.0400\" fill=\"currentColor\"/>\n",
       "<path transform=\"translate(13.2358, 5.4546) scale(0.0040, -0.0040)\" d=\"M218 136c55 0 108 -28 108 -89c0 -71 -55 -121 -102 -149c-35 -21 -75 -34 -116 -34c-55 0 -108 28 -108 89c0 71 55 121 102 149c35 21 75 34 116 34z\" fill=\"currentColor\"/>\n",
       "<path transform=\"translate(9.5358, 5.4546) scale(0.0040, -0.0040)\" d=\"M359 27c-49 0 -75 42 -75 75c0 38 27 77 72 77c4 0 9 0 14 -1c-28 37 -72 59 -120 59c-106 0 -113 -73 -113 -186v-51v-51c0 -113 7 -187 113 -187c80 0 139 70 158 151c2 7 7 10 12 10c6 0 13 -4 13 -12c0 -94 -105 -174 -183 -174c-68 0 -137 21 -184 70\n",
       "c-49 51 -66 122 -66 193s17 142 66 193c47 49 116 69 184 69c87 0 160 -64 175 -150c1 -5 1 -9 1 -13c0 -40 -30 -72 -67 -72z\" fill=\"currentColor\"/>\n",
       "<path transform=\"translate(14.9900, 4.9546) scale(0.0040, -0.0040)\" d=\"M0 0c0 31 25 56 56 56s56 -25 56 -56s-25 -56 -56 -56s-56 25 -56 56z\" fill=\"currentColor\"/>\n",
       "</svg>\n"
      ]
     },
     "metadata": {},
     "output_type": "display_data"
    }
   ],
   "source": [
    "abjad.show(staff)"
   ]
  },
  {
   "cell_type": "code",
   "execution_count": 56,
   "metadata": {},
   "outputs": [],
   "source": [
    "subdivided_tuplet = make_nested_tuplet(abjad.Duration(1, 4), (3, 5), 3)"
   ]
  },
  {
   "cell_type": "code",
   "execution_count": 57,
   "metadata": {},
   "outputs": [],
   "source": [
    "staff = abjad.Staff([subdivided_tuplet], lilypond_type='RhythmicStaff')"
   ]
  },
  {
   "cell_type": "code",
   "execution_count": 58,
   "metadata": {},
   "outputs": [
    {
     "data": {
      "image/svg+xml": [
       "<svg xmlns=\"http://www.w3.org/2000/svg\" xmlns:xlink=\"http://www.w3.org/1999/xlink\" version=\"1.2\" width=\"27.56mm\" height=\"13.84mm\" viewBox=\"8.5358 -0.0000 15.6844 7.8762\">\n",
       "<style text=\"style/css\">\n",
       "<![CDATA[\n",
       "tspan { white-space: pre; }\n",
       "]]>\n",
       "</style>\n",
       "<line transform=\"translate(8.5358, 6.8762)\" stroke-linejoin=\"round\" stroke-linecap=\"round\" stroke-width=\"0.1000\" stroke=\"currentColor\" x1=\"0.0500\" y1=\"-0.0000\" x2=\"15.6844\" y2=\"-0.0000\"/>\n",
       "<path transform=\"translate(21.7661, 6.8762) scale(0.0040, -0.0040)\" d=\"M218 136c55 0 108 -28 108 -89c0 -71 -55 -121 -102 -149c-35 -21 -75 -34 -116 -34c-55 0 -108 28 -108 89c0 71 55 121 102 149c35 21 75 34 116 34z\" fill=\"currentColor\"/>\n",
       "<rect transform=\"translate(23.0053, 6.8762)\" x=\"-0.0650\" y=\"-3.1900\" width=\"0.1300\" height=\"3.0039\" ry=\"0.0400\" fill=\"currentColor\"/>\n",
       "<path transform=\"translate(16.7576, 6.8762) scale(0.0040, -0.0040)\" d=\"M218 136c55 0 108 -28 108 -89c0 -71 -55 -121 -102 -149c-35 -21 -75 -34 -116 -34c-55 0 -108 28 -108 89c0 71 55 121 102 149c35 21 75 34 116 34z\" fill=\"currentColor\"/>\n",
       "<rect transform=\"translate(17.9968, 6.8762)\" x=\"-0.0650\" y=\"-3.1900\" width=\"0.1300\" height=\"3.0039\" ry=\"0.0400\" fill=\"currentColor\"/>\n",
       "<path transform=\"translate(19.2618, 6.8762) scale(0.0040, -0.0040)\" d=\"M218 136c55 0 108 -28 108 -89c0 -71 -55 -121 -102 -149c-35 -21 -75 -34 -116 -34c-55 0 -108 28 -108 89c0 71 55 121 102 149c35 21 75 34 116 34z\" fill=\"currentColor\"/>\n",
       "<rect transform=\"translate(20.5011, 6.8762)\" x=\"-0.0650\" y=\"-3.1900\" width=\"0.1300\" height=\"3.0039\" ry=\"0.0400\" fill=\"currentColor\"/>\n",
       "<polygon transform=\"translate(14.4100, 3.6862)\" stroke-linejoin=\"round\" stroke-linecap=\"round\" stroke-width=\"0.0800\" fill=\"currentColor\" stroke=\"currentColor\" points=\"8.6202 -0.2000 8.6202 0.2000 0.0400 0.2000 0.0400 -0.2000\"/>\n",
       "<polygon transform=\"translate(14.4100, 4.4962)\" stroke-linejoin=\"round\" stroke-linecap=\"round\" stroke-width=\"0.0800\" fill=\"currentColor\" stroke=\"currentColor\" points=\"8.6202 -0.2000 8.6202 0.2000 0.0400 0.2000 0.0400 -0.2000\"/>\n",
       "<text transform=\"translate(19.3231, 2.9437)\" font-family=\"serif\" font-style=\"italic\" font-size=\"1.7461\" text-anchor=\"start\" fill=\"currentColor\">\n",
       "<tspan>6:5</tspan>\n",
       "</text>\n",
       "<line transform=\"translate(17.9318, 2.3462)\" stroke-linejoin=\"round\" stroke-linecap=\"round\" stroke-width=\"0.1600\" stroke=\"currentColor\" x1=\"5.3384\" y1=\"-0.0000\" x2=\"5.3384\" y2=\"0.7000\"/>\n",
       "<line transform=\"translate(17.9318, 2.3462)\" stroke-linejoin=\"round\" stroke-linecap=\"round\" stroke-width=\"0.1600\" stroke=\"currentColor\" x1=\"-0.2000\" y1=\"-0.0000\" x2=\"-0.2000\" y2=\"0.7000\"/>\n",
       "<line transform=\"translate(17.9318, 2.3462)\" stroke-linejoin=\"round\" stroke-linecap=\"round\" stroke-width=\"0.1600\" stroke=\"currentColor\" x1=\"5.3384\" y1=\"-0.0000\" x2=\"4.3472\" y2=\"-0.0000\"/>\n",
       "<line transform=\"translate(17.9318, 2.3462)\" stroke-linejoin=\"round\" stroke-linecap=\"round\" stroke-width=\"0.1600\" stroke=\"currentColor\" x1=\"-0.2000\" y1=\"-0.0000\" x2=\"0.9913\" y2=\"-0.0000\"/>\n",
       "<text transform=\"translate(17.5622, 1.1950)\" font-family=\"serif\" font-style=\"italic\" font-size=\"1.7461\" text-anchor=\"start\" fill=\"currentColor\">\n",
       "<tspan>1:1</tspan>\n",
       "</text>\n",
       "<path transform=\"translate(13.2358, 6.8762) scale(0.0040, -0.0040)\" d=\"M218 136c55 0 108 -28 108 -89c0 -71 -55 -121 -102 -149c-35 -21 -75 -34 -116 -34c-55 0 -108 28 -108 89c0 71 55 121 102 149c35 21 75 34 116 34z\" fill=\"currentColor\"/>\n",
       "<path transform=\"translate(9.5358, 6.8762) scale(0.0040, -0.0040)\" d=\"M359 27c-49 0 -75 42 -75 75c0 38 27 77 72 77c4 0 9 0 14 -1c-28 37 -72 59 -120 59c-106 0 -113 -73 -113 -186v-51v-51c0 -113 7 -187 113 -187c80 0 139 70 158 151c2 7 7 10 12 10c6 0 13 -4 13 -12c0 -94 -105 -174 -183 -174c-68 0 -137 21 -184 70\n",
       "c-49 51 -66 122 -66 193s17 142 66 193c47 49 116 69 184 69c87 0 160 -64 175 -150c1 -5 1 -9 1 -13c0 -40 -30 -72 -67 -72z\" fill=\"currentColor\"/>\n",
       "<path transform=\"translate(14.9900, 6.3762) scale(0.0040, -0.0040)\" d=\"M0 0c0 31 25 56 56 56s56 -25 56 -56s-25 -56 -56 -56s-56 25 -56 56z\" fill=\"currentColor\"/>\n",
       "<rect transform=\"translate(14.4750, 6.8762)\" x=\"-0.0650\" y=\"-3.1900\" width=\"0.1300\" height=\"3.0039\" ry=\"0.0400\" fill=\"currentColor\"/>\n",
       "</svg>\n"
      ]
     },
     "metadata": {},
     "output_type": "display_data"
    }
   ],
   "source": [
    "abjad.show(staff)"
   ]
  },
  {
   "cell_type": "markdown",
   "metadata": {},
   "source": [
    "Do you see which objects and methods in our make_nested_tuplet function convert a logical tie into a tuplet?"
   ]
  },
  {
   "cell_type": "markdown",
   "metadata": {},
   "source": [
    "## The Rhythms"
   ]
  },
  {
   "cell_type": "markdown",
   "metadata": {},
   "source": [
    "Now that we know how to make the basic building block, let’s make a lot of tuplets all at once.\n",
    "\n",
    "We’ll set the duration of each tuplet equal to a quarter note:"
   ]
  },
  {
   "cell_type": "code",
   "execution_count": 59,
   "metadata": {},
   "outputs": [],
   "source": [
    "duration = abjad.Fraction(1,4)"
   ]
  },
  {
   "cell_type": "markdown",
   "metadata": {},
   "source": [
    "Reusing our make_nested_tuplet function, we make one row of rhythms, with the last logical tie increasingly subdivided:"
   ]
  },
  {
   "cell_type": "code",
   "execution_count": 60,
   "metadata": {},
   "outputs": [],
   "source": [
    "def make_row_of_nested_tuplets(\n",
    "    tuplet_duration,\n",
    "    outer_tuplet_proportions,\n",
    "    column_count,\n",
    "    ):\n",
    "    r'''Makes row of nested tuplets.\n",
    "    '''\n",
    "\n",
    "    assert 0 < column_count\n",
    "    row_of_nested_tuplets = []\n",
    "    for n in range(column_count):\n",
    "        inner_tuplet_subdivision_count = n + 1\n",
    "        nested_tuplet = make_nested_tuplet(\n",
    "            tuplet_duration,\n",
    "            outer_tuplet_proportions,\n",
    "            inner_tuplet_subdivision_count,\n",
    "            )\n",
    "        row_of_nested_tuplets.append(nested_tuplet)\n",
    "    return row_of_nested_tuplets"
   ]
  },
  {
   "cell_type": "code",
   "execution_count": 61,
   "metadata": {},
   "outputs": [],
   "source": [
    "tuplets = make_row_of_nested_tuplets(duration, (2, 1), 6)"
   ]
  },
  {
   "cell_type": "code",
   "execution_count": 62,
   "metadata": {},
   "outputs": [],
   "source": [
    "staff = abjad.Staff(tuplets, lilypond_type='RhythmicStaff')"
   ]
  },
  {
   "cell_type": "code",
   "execution_count": 63,
   "metadata": {},
   "outputs": [
    {
     "data": {
      "image/svg+xml": [
       "<svg xmlns=\"http://www.w3.org/2000/svg\" xmlns:xlink=\"http://www.w3.org/1999/xlink\" version=\"1.2\" width=\"174.91mm\" height=\"14.44mm\" viewBox=\"8.5358 -0.0000 99.5346 8.2192\">\n",
       "<style text=\"style/css\">\n",
       "<![CDATA[\n",
       "tspan { white-space: pre; }\n",
       "]]>\n",
       "</style>\n",
       "<line transform=\"translate(8.5358, 7.1692)\" stroke-linejoin=\"round\" stroke-linecap=\"round\" stroke-width=\"0.1000\" stroke=\"currentColor\" x1=\"0.0500\" y1=\"-0.0000\" x2=\"99.5346\" y2=\"-0.0000\"/>\n",
       "<rect transform=\"translate(69.4886, 7.1692)\" x=\"0.0000\" y=\"-1.0500\" width=\"0.1900\" height=\"2.1000\" ry=\"0.0000\" fill=\"currentColor\"/>\n",
       "<rect transform=\"translate(59.3510, 7.1692)\" x=\"-0.0650\" y=\"-3.5000\" width=\"0.1300\" height=\"3.3139\" ry=\"0.0400\" fill=\"currentColor\"/>\n",
       "<path transform=\"translate(42.7132, 7.1692) scale(0.0040, -0.0040)\" d=\"M218 136c55 0 108 -28 108 -89c0 -71 -55 -121 -102 -149c-35 -21 -75 -34 -116 -34c-55 0 -108 28 -108 89c0 71 55 121 102 149c35 21 75 34 116 34z\" fill=\"currentColor\"/>\n",
       "<rect transform=\"translate(43.9524, 7.1692)\" x=\"-0.0650\" y=\"-3.1900\" width=\"0.1300\" height=\"3.0039\" ry=\"0.0400\" fill=\"currentColor\"/>\n",
       "<path transform=\"translate(45.9412, 7.1692) scale(0.0040, -0.0040)\" d=\"M218 136c55 0 108 -28 108 -89c0 -71 -55 -121 -102 -149c-35 -21 -75 -34 -116 -34c-55 0 -108 28 -108 89c0 71 55 121 102 149c35 21 75 34 116 34z\" fill=\"currentColor\"/>\n",
       "<rect transform=\"translate(47.1804, 7.1692)\" x=\"-0.0650\" y=\"-3.1900\" width=\"0.1300\" height=\"3.0039\" ry=\"0.0400\" fill=\"currentColor\"/>\n",
       "<path transform=\"translate(49.1692, 7.1692) scale(0.0040, -0.0040)\" d=\"M218 136c55 0 108 -28 108 -89c0 -71 -55 -121 -102 -149c-35 -21 -75 -34 -116 -34c-55 0 -108 28 -108 89c0 71 55 121 102 149c35 21 75 34 116 34z\" fill=\"currentColor\"/>\n",
       "<rect transform=\"translate(50.4085, 7.1692)\" x=\"-0.0650\" y=\"-3.1900\" width=\"0.1300\" height=\"3.0039\" ry=\"0.0400\" fill=\"currentColor\"/>\n",
       "<path transform=\"translate(52.3973, 7.1692) scale(0.0040, -0.0040)\" d=\"M218 136c55 0 108 -28 108 -89c0 -71 -55 -121 -102 -149c-35 -21 -75 -34 -116 -34c-55 0 -108 28 -108 89c0 71 55 121 102 149c35 21 75 34 116 34z\" fill=\"currentColor\"/>\n",
       "<rect transform=\"translate(53.6365, 7.1692)\" x=\"-0.0650\" y=\"-3.3333\" width=\"0.1300\" height=\"3.1472\" ry=\"0.0400\" fill=\"currentColor\"/>\n",
       "<path transform=\"translate(58.1117, 7.1692) scale(0.0040, -0.0040)\" d=\"M218 136c55 0 108 -28 108 -89c0 -71 -55 -121 -102 -149c-35 -21 -75 -34 -116 -34c-55 0 -108 28 -108 89c0 71 55 121 102 149c35 21 75 34 116 34z\" fill=\"currentColor\"/>\n",
       "<path transform=\"translate(18.9503, 7.1692) scale(0.0040, -0.0040)\" d=\"M218 136c55 0 108 -28 108 -89c0 -71 -55 -121 -102 -149c-35 -21 -75 -34 -116 -34c-55 0 -108 28 -108 89c0 71 55 121 102 149c35 21 75 34 116 34z\" fill=\"currentColor\"/>\n",
       "<line transform=\"translate(14.4100, 0.9546)\" stroke-linejoin=\"round\" stroke-linecap=\"round\" stroke-width=\"0.1600\" stroke=\"currentColor\" x1=\"6.0445\" y1=\"-0.0000\" x2=\"6.0445\" y2=\"0.7000\"/>\n",
       "<line transform=\"translate(14.4100, 0.9546)\" stroke-linejoin=\"round\" stroke-linecap=\"round\" stroke-width=\"0.1600\" stroke=\"currentColor\" x1=\"-0.2000\" y1=\"-0.0000\" x2=\"-0.2000\" y2=\"0.7000\"/>\n",
       "<line transform=\"translate(14.4100, 0.9546)\" stroke-linejoin=\"round\" stroke-linecap=\"round\" stroke-width=\"0.1600\" stroke=\"currentColor\" x1=\"6.0445\" y1=\"-0.0000\" x2=\"3.9661\" y2=\"-0.0000\"/>\n",
       "<line transform=\"translate(14.4100, 0.9546)\" stroke-linejoin=\"round\" stroke-linecap=\"round\" stroke-width=\"0.1600\" stroke=\"currentColor\" x1=\"-0.2000\" y1=\"-0.0000\" x2=\"2.0784\" y2=\"-0.0000\"/>\n",
       "<rect transform=\"translate(20.1895, 7.1692)\" x=\"-0.0650\" y=\"-3.3750\" width=\"0.1300\" height=\"3.1889\" ry=\"0.0400\" fill=\"currentColor\"/>\n",
       "<path transform=\"translate(20.2545, 3.8342) scale(0.0040, -0.0040)\" d=\"M0 0c0 -197 207 -336 207 -533c0 -71 -15 -141 -41 -207c-5 -8 -13 -12 -20 -12c-13 0 -26 11 -23 27c26 61 42 126 42 192c0 103 -94 208 -165 283h-16v250h16z\" fill=\"currentColor\"/>\n",
       "<path transform=\"translate(23.7029, 7.1692) scale(0.0040, -0.0040)\" d=\"M218 136c55 0 108 -28 108 -89c0 -71 -55 -121 -102 -149c-35 -21 -75 -34 -116 -34c-55 0 -108 28 -108 89c0 71 55 121 102 149c35 21 75 34 116 34z\" fill=\"currentColor\"/>\n",
       "<rect transform=\"translate(24.9421, 7.1692)\" x=\"-0.0650\" y=\"-3.3333\" width=\"0.1300\" height=\"3.1472\" ry=\"0.0400\" fill=\"currentColor\"/>\n",
       "<path transform=\"translate(29.4174, 7.1692) scale(0.0040, -0.0040)\" d=\"M218 136c55 0 108 -28 108 -89c0 -71 -55 -121 -102 -149c-35 -21 -75 -34 -116 -34c-55 0 -108 28 -108 89c0 71 55 121 102 149c35 21 75 34 116 34z\" fill=\"currentColor\"/>\n",
       "<rect transform=\"translate(30.6566, 7.1692)\" x=\"-0.0650\" y=\"-3.1900\" width=\"0.1300\" height=\"3.0039\" ry=\"0.0400\" fill=\"currentColor\"/>\n",
       "<path transform=\"translate(33.2081, 7.1692) scale(0.0040, -0.0040)\" d=\"M218 136c55 0 108 -28 108 -89c0 -71 -55 -121 -102 -149c-35 -21 -75 -34 -116 -34c-55 0 -108 28 -108 89c0 71 55 121 102 149c35 21 75 34 116 34z\" fill=\"currentColor\"/>\n",
       "<rect transform=\"translate(34.4473, 7.1692)\" x=\"-0.0650\" y=\"-3.1900\" width=\"0.1300\" height=\"3.0039\" ry=\"0.0400\" fill=\"currentColor\"/>\n",
       "<path transform=\"translate(36.9987, 7.1692) scale(0.0040, -0.0040)\" d=\"M218 136c55 0 108 -28 108 -89c0 -71 -55 -121 -102 -149c-35 -21 -75 -34 -116 -34c-55 0 -108 28 -108 89c0 71 55 121 102 149c35 21 75 34 116 34z\" fill=\"currentColor\"/>\n",
       "<rect transform=\"translate(38.2380, 7.1692)\" x=\"-0.0650\" y=\"-3.3333\" width=\"0.1300\" height=\"3.1472\" ry=\"0.0400\" fill=\"currentColor\"/>\n",
       "<line transform=\"translate(53.5715, 0.6146)\" stroke-linejoin=\"round\" stroke-linecap=\"round\" stroke-width=\"0.1600\" stroke=\"currentColor\" x1=\"14.5308\" y1=\"-0.0000\" x2=\"14.5308\" y2=\"0.7000\"/>\n",
       "<line transform=\"translate(53.5715, 0.6146)\" stroke-linejoin=\"round\" stroke-linecap=\"round\" stroke-width=\"0.1600\" stroke=\"currentColor\" x1=\"-0.2000\" y1=\"-0.0000\" x2=\"-0.2000\" y2=\"0.7000\"/>\n",
       "<line transform=\"translate(53.5715, 0.6146)\" stroke-linejoin=\"round\" stroke-linecap=\"round\" stroke-width=\"0.1600\" stroke=\"currentColor\" x1=\"14.5308\" y1=\"-0.0000\" x2=\"8.2093\" y2=\"-0.0000\"/>\n",
       "<line transform=\"translate(53.5715, 0.6146)\" stroke-linejoin=\"round\" stroke-linecap=\"round\" stroke-width=\"0.1600\" stroke=\"currentColor\" x1=\"-0.2000\" y1=\"-0.0000\" x2=\"6.3216\" y2=\"-0.0000\"/>\n",
       "<polygon transform=\"translate(77.3879, 3.6692)\" stroke-linejoin=\"round\" stroke-linecap=\"round\" stroke-width=\"0.0800\" fill=\"currentColor\" stroke=\"currentColor\" points=\"10.1665 -0.2000 10.1665 0.2000 0.0400 0.2000 0.0400 -0.2000\"/>\n",
       "<polygon transform=\"translate(77.3879, 4.4792)\" stroke-linejoin=\"round\" stroke-linecap=\"round\" stroke-width=\"0.0800\" fill=\"currentColor\" stroke=\"currentColor\" points=\"10.1665 -0.2000 10.1665 0.2000 0.0400 0.2000 0.0400 -0.2000\"/>\n",
       "<polygon transform=\"translate(77.3879, 5.2892)\" stroke-linejoin=\"round\" stroke-linecap=\"round\" stroke-width=\"0.0800\" fill=\"currentColor\" stroke=\"currentColor\" points=\"10.1665 -0.2000 10.1665 0.2000 0.0400 0.2000 0.0400 -0.2000\"/>\n",
       "<text transform=\"translate(98.1272, 1.1950)\" font-family=\"serif\" font-style=\"italic\" font-size=\"1.7461\" text-anchor=\"start\" fill=\"currentColor\">\n",
       "<tspan>3</tspan>\n",
       "</text>\n",
       "<line transform=\"translate(89.9835, 0.6146)\" stroke-linejoin=\"round\" stroke-linecap=\"round\" stroke-width=\"0.1600\" stroke=\"currentColor\" x1=\"17.3750\" y1=\"-0.0000\" x2=\"17.3750\" y2=\"0.7000\"/>\n",
       "<line transform=\"translate(89.9835, 0.6146)\" stroke-linejoin=\"round\" stroke-linecap=\"round\" stroke-width=\"0.1600\" stroke=\"currentColor\" x1=\"-0.2000\" y1=\"-0.0000\" x2=\"-0.2000\" y2=\"0.7000\"/>\n",
       "<line transform=\"translate(89.9835, 0.6146)\" stroke-linejoin=\"round\" stroke-linecap=\"round\" stroke-width=\"0.1600\" stroke=\"currentColor\" x1=\"17.3750\" y1=\"-0.0000\" x2=\"9.6314\" y2=\"-0.0000\"/>\n",
       "<line transform=\"translate(89.9835, 0.6146)\" stroke-linejoin=\"round\" stroke-linecap=\"round\" stroke-width=\"0.1600\" stroke=\"currentColor\" x1=\"-0.2000\" y1=\"-0.0000\" x2=\"7.7437\" y2=\"-0.0000\"/>\n",
       "<text transform=\"translate(82.0473, 2.8925)\" font-family=\"serif\" font-style=\"italic\" font-size=\"1.7461\" text-anchor=\"start\" fill=\"currentColor\">\n",
       "<tspan>5</tspan>\n",
       "</text>\n",
       "<text transform=\"translate(79.1901, 1.2121)\" font-family=\"serif\" font-style=\"italic\" font-size=\"1.7461\" text-anchor=\"start\" fill=\"currentColor\">\n",
       "<tspan>3</tspan>\n",
       "</text>\n",
       "<line transform=\"translate(71.6734, 0.6317)\" stroke-linejoin=\"round\" stroke-linecap=\"round\" stroke-width=\"0.1600\" stroke=\"currentColor\" x1=\"16.1210\" y1=\"-0.0000\" x2=\"16.1210\" y2=\"0.7000\"/>\n",
       "<line transform=\"translate(71.6734, 0.6317)\" stroke-linejoin=\"round\" stroke-linecap=\"round\" stroke-width=\"0.1600\" stroke=\"currentColor\" x1=\"-0.2000\" y1=\"-0.0000\" x2=\"-0.2000\" y2=\"0.7000\"/>\n",
       "<line transform=\"translate(71.6734, 0.6317)\" stroke-linejoin=\"round\" stroke-linecap=\"round\" stroke-width=\"0.1600\" stroke=\"currentColor\" x1=\"16.1210\" y1=\"-0.0000\" x2=\"9.0044\" y2=\"-0.0000\"/>\n",
       "<line transform=\"translate(71.6734, 0.6317)\" stroke-linejoin=\"round\" stroke-linecap=\"round\" stroke-width=\"0.1600\" stroke=\"currentColor\" x1=\"-0.2000\" y1=\"-0.0000\" x2=\"7.1166\" y2=\"-0.0000\"/>\n",
       "<polygon transform=\"translate(59.2860, 3.6692)\" stroke-linejoin=\"round\" stroke-linecap=\"round\" stroke-width=\"0.0800\" fill=\"currentColor\" stroke=\"currentColor\" points=\"8.5764 -0.2000 8.5764 0.2000 0.0400 0.2000 0.0400 -0.2000\"/>\n",
       "<polygon transform=\"translate(59.2860, 4.4792)\" stroke-linejoin=\"round\" stroke-linecap=\"round\" stroke-width=\"0.0800\" fill=\"currentColor\" stroke=\"currentColor\" points=\"8.5764 -0.2000 8.5764 0.2000 0.0400 0.2000 0.0400 -0.2000\"/>\n",
       "<polygon transform=\"translate(59.2860, 5.2892)\" stroke-linejoin=\"round\" stroke-linecap=\"round\" stroke-width=\"0.0800\" fill=\"currentColor\" stroke=\"currentColor\" points=\"8.5764 -0.2000 8.5764 0.2000 0.0400 0.2000 0.0400 -0.2000\"/>\n",
       "<text transform=\"translate(62.4162, 2.9096)\" font-family=\"serif\" font-style=\"italic\" font-size=\"1.7461\" text-anchor=\"start\" fill=\"currentColor\">\n",
       "<tspan>1:1</tspan>\n",
       "</text>\n",
       "<polygon transform=\"translate(43.8874, 3.9792)\" stroke-linejoin=\"round\" stroke-linecap=\"round\" stroke-width=\"0.0800\" fill=\"currentColor\" stroke=\"currentColor\" points=\"6.5460 -0.2000 6.5460 0.2000 0.0400 0.2000 0.0400 -0.2000\"/>\n",
       "<polygon transform=\"translate(43.8874, 4.7892)\" stroke-linejoin=\"round\" stroke-linecap=\"round\" stroke-width=\"0.0800\" fill=\"currentColor\" stroke=\"currentColor\" points=\"6.5460 -0.2000 6.5460 0.2000 0.0400 0.2000 0.0400 -0.2000\"/>\n",
       "<text transform=\"translate(60.2930, 1.1950)\" font-family=\"serif\" font-style=\"italic\" font-size=\"1.7461\" text-anchor=\"start\" fill=\"currentColor\">\n",
       "<tspan>3</tspan>\n",
       "</text>\n",
       "<text transform=\"translate(100.9844, 2.9096)\" font-family=\"serif\" font-style=\"italic\" font-size=\"1.7461\" text-anchor=\"start\" fill=\"currentColor\">\n",
       "<tspan>3</tspan>\n",
       "</text>\n",
       "<text transform=\"translate(46.7366, 3.2196)\" font-family=\"serif\" font-style=\"italic\" font-size=\"1.7461\" text-anchor=\"start\" fill=\"currentColor\">\n",
       "<tspan>3</tspan>\n",
       "</text>\n",
       "<polygon transform=\"translate(30.5916, 3.9792)\" stroke-linejoin=\"round\" stroke-linecap=\"round\" stroke-width=\"0.0800\" fill=\"currentColor\" stroke=\"currentColor\" points=\"3.8807 -0.2000 3.8807 0.2000 0.0400 0.2000 0.0400 -0.2000\"/>\n",
       "<polygon transform=\"translate(30.5916, 4.7892)\" stroke-linejoin=\"round\" stroke-linecap=\"round\" stroke-width=\"0.0800\" fill=\"currentColor\" stroke=\"currentColor\" points=\"3.8807 -0.2000 3.8807 0.2000 0.0400 0.2000 0.0400 -0.2000\"/>\n",
       "<text transform=\"translate(43.8793, 1.5050)\" font-family=\"serif\" font-style=\"italic\" font-size=\"1.7461\" text-anchor=\"start\" fill=\"currentColor\">\n",
       "<tspan>3</tspan>\n",
       "</text>\n",
       "<line transform=\"translate(38.1730, 0.9246)\" stroke-linejoin=\"round\" stroke-linecap=\"round\" stroke-width=\"0.1600\" stroke=\"currentColor\" x1=\"12.5005\" y1=\"-0.0000\" x2=\"12.5005\" y2=\"0.7000\"/>\n",
       "<line transform=\"translate(38.1730, 0.9246)\" stroke-linejoin=\"round\" stroke-linecap=\"round\" stroke-width=\"0.1600\" stroke=\"currentColor\" x1=\"-0.2000\" y1=\"-0.0000\" x2=\"-0.2000\" y2=\"0.7000\"/>\n",
       "<line transform=\"translate(38.1730, 0.9246)\" stroke-linejoin=\"round\" stroke-linecap=\"round\" stroke-width=\"0.1600\" stroke=\"currentColor\" x1=\"12.5005\" y1=\"-0.0000\" x2=\"7.1941\" y2=\"-0.0000\"/>\n",
       "<line transform=\"translate(38.1730, 0.9246)\" stroke-linejoin=\"round\" stroke-linecap=\"round\" stroke-width=\"0.1600\" stroke=\"currentColor\" x1=\"-0.2000\" y1=\"-0.0000\" x2=\"5.3064\" y2=\"-0.0000\"/>\n",
       "<text transform=\"translate(31.3740, 3.2196)\" font-family=\"serif\" font-style=\"italic\" font-size=\"1.7461\" text-anchor=\"start\" fill=\"currentColor\">\n",
       "<tspan>1:1</tspan>\n",
       "</text>\n",
       "<text transform=\"translate(29.2508, 1.5050)\" font-family=\"serif\" font-style=\"italic\" font-size=\"1.7461\" text-anchor=\"start\" fill=\"currentColor\">\n",
       "<tspan>3</tspan>\n",
       "</text>\n",
       "<line transform=\"translate(24.8771, 0.9246)\" stroke-linejoin=\"round\" stroke-linecap=\"round\" stroke-width=\"0.1600\" stroke=\"currentColor\" x1=\"9.8352\" y1=\"-0.0000\" x2=\"9.8352\" y2=\"0.7000\"/>\n",
       "<line transform=\"translate(24.8771, 0.9246)\" stroke-linejoin=\"round\" stroke-linecap=\"round\" stroke-width=\"0.1600\" stroke=\"currentColor\" x1=\"-0.2000\" y1=\"-0.0000\" x2=\"-0.2000\" y2=\"0.7000\"/>\n",
       "<line transform=\"translate(24.8771, 0.9246)\" stroke-linejoin=\"round\" stroke-linecap=\"round\" stroke-width=\"0.1600\" stroke=\"currentColor\" x1=\"9.8352\" y1=\"-0.0000\" x2=\"5.8614\" y2=\"-0.0000\"/>\n",
       "<line transform=\"translate(24.8771, 0.9246)\" stroke-linejoin=\"round\" stroke-linecap=\"round\" stroke-width=\"0.1600\" stroke=\"currentColor\" x1=\"-0.2000\" y1=\"-0.0000\" x2=\"3.9737\" y2=\"-0.0000\"/>\n",
       "<text transform=\"translate(19.0116, 3.2496)\" font-family=\"serif\" font-style=\"italic\" font-size=\"1.7461\" text-anchor=\"start\" fill=\"currentColor\">\n",
       "<tspan>1:1</tspan>\n",
       "</text>\n",
       "<text transform=\"translate(16.8884, 1.5350)\" font-family=\"serif\" font-style=\"italic\" font-size=\"1.7461\" text-anchor=\"start\" fill=\"currentColor\">\n",
       "<tspan>3</tspan>\n",
       "</text>\n",
       "<path transform=\"translate(60.9405, 7.1692) scale(0.0040, -0.0040)\" d=\"M218 136c55 0 108 -28 108 -89c0 -71 -55 -121 -102 -149c-35 -21 -75 -34 -116 -34c-55 0 -108 28 -108 89c0 71 55 121 102 149c35 21 75 34 116 34z\" fill=\"currentColor\"/>\n",
       "<rect transform=\"translate(62.1797, 7.1692)\" x=\"-0.0650\" y=\"-3.5000\" width=\"0.1300\" height=\"3.3139\" ry=\"0.0400\" fill=\"currentColor\"/>\n",
       "<path transform=\"translate(63.7693, 7.1692) scale(0.0040, -0.0040)\" d=\"M218 136c55 0 108 -28 108 -89c0 -71 -55 -121 -102 -149c-35 -21 -75 -34 -116 -34c-55 0 -108 28 -108 89c0 71 55 121 102 149c35 21 75 34 116 34z\" fill=\"currentColor\"/>\n",
       "<rect transform=\"translate(65.0085, 7.1692)\" x=\"-0.0650\" y=\"-3.5000\" width=\"0.1300\" height=\"3.3139\" ry=\"0.0400\" fill=\"currentColor\"/>\n",
       "<path transform=\"translate(66.5981, 7.1692) scale(0.0040, -0.0040)\" d=\"M218 136c55 0 108 -28 108 -89c0 -71 -55 -121 -102 -149c-35 -21 -75 -34 -116 -34c-55 0 -108 28 -108 89c0 71 55 121 102 149c35 21 75 34 116 34z\" fill=\"currentColor\"/>\n",
       "<rect transform=\"translate(67.8373, 7.1692)\" x=\"-0.0650\" y=\"-3.5000\" width=\"0.1300\" height=\"3.3139\" ry=\"0.0400\" fill=\"currentColor\"/>\n",
       "<path transform=\"translate(70.4992, 7.1692) scale(0.0040, -0.0040)\" d=\"M218 136c55 0 108 -28 108 -89c0 -71 -55 -121 -102 -149c-35 -21 -75 -34 -116 -34c-55 0 -108 28 -108 89c0 71 55 121 102 149c35 21 75 34 116 34z\" fill=\"currentColor\"/>\n",
       "<rect transform=\"translate(71.7384, 7.1692)\" x=\"-0.0650\" y=\"-3.3333\" width=\"0.1300\" height=\"3.1472\" ry=\"0.0400\" fill=\"currentColor\"/>\n",
       "<polygon transform=\"translate(95.6980, 3.6692)\" stroke-linejoin=\"round\" stroke-linecap=\"round\" stroke-width=\"0.0800\" fill=\"currentColor\" stroke=\"currentColor\" points=\"11.4206 -0.2000 11.4206 0.2000 0.0400 0.2000 0.0400 -0.2000\"/>\n",
       "<polygon transform=\"translate(95.6980, 4.4792)\" stroke-linejoin=\"round\" stroke-linecap=\"round\" stroke-width=\"0.0800\" fill=\"currentColor\" stroke=\"currentColor\" points=\"11.4206 -0.2000 11.4206 0.2000 0.0400 0.2000 0.0400 -0.2000\"/>\n",
       "<polygon transform=\"translate(95.6980, 5.2892)\" stroke-linejoin=\"round\" stroke-linecap=\"round\" stroke-width=\"0.0800\" fill=\"currentColor\" stroke=\"currentColor\" points=\"11.4206 -0.2000 11.4206 0.2000 0.0400 0.2000 0.0400 -0.2000\"/>\n",
       "<path transform=\"translate(83.7711, 7.1692) scale(0.0040, -0.0040)\" d=\"M218 136c55 0 108 -28 108 -89c0 -71 -55 -121 -102 -149c-35 -21 -75 -34 -116 -34c-55 0 -108 28 -108 89c0 71 55 121 102 149c35 21 75 34 116 34z\" fill=\"currentColor\"/>\n",
       "<path transform=\"translate(78.7328, 7.1692) scale(0.0040, -0.0040)\" d=\"M218 136c55 0 108 -28 108 -89c0 -71 -55 -121 -102 -149c-35 -21 -75 -34 -116 -34c-55 0 -108 28 -108 89c0 71 55 121 102 149c35 21 75 34 116 34z\" fill=\"currentColor\"/>\n",
       "<rect transform=\"translate(79.9720, 7.1692)\" x=\"-0.0650\" y=\"-3.5000\" width=\"0.1300\" height=\"3.3139\" ry=\"0.0400\" fill=\"currentColor\"/>\n",
       "<path transform=\"translate(81.2520, 7.1692) scale(0.0040, -0.0040)\" d=\"M218 136c55 0 108 -28 108 -89c0 -71 -55 -121 -102 -149c-35 -21 -75 -34 -116 -34c-55 0 -108 28 -108 89c0 71 55 121 102 149c35 21 75 34 116 34z\" fill=\"currentColor\"/>\n",
       "<rect transform=\"translate(82.4912, 7.1692)\" x=\"-0.0650\" y=\"-3.5000\" width=\"0.1300\" height=\"3.3139\" ry=\"0.0400\" fill=\"currentColor\"/>\n",
       "<rect transform=\"translate(85.0103, 7.1692)\" x=\"-0.0650\" y=\"-3.5000\" width=\"0.1300\" height=\"3.3139\" ry=\"0.0400\" fill=\"currentColor\"/>\n",
       "<path transform=\"translate(86.2902, 7.1692) scale(0.0040, -0.0040)\" d=\"M218 136c55 0 108 -28 108 -89c0 -71 -55 -121 -102 -149c-35 -21 -75 -34 -116 -34c-55 0 -108 28 -108 89c0 71 55 121 102 149c35 21 75 34 116 34z\" fill=\"currentColor\"/>\n",
       "<rect transform=\"translate(87.5294, 7.1692)\" x=\"-0.0650\" y=\"-3.5000\" width=\"0.1300\" height=\"3.3139\" ry=\"0.0400\" fill=\"currentColor\"/>\n",
       "<path transform=\"translate(88.8093, 7.1692) scale(0.0040, -0.0040)\" d=\"M218 136c55 0 108 -28 108 -89c0 -71 -55 -121 -102 -149c-35 -21 -75 -34 -116 -34c-55 0 -108 28 -108 89c0 71 55 121 102 149c35 21 75 34 116 34z\" fill=\"currentColor\"/>\n",
       "<rect transform=\"translate(90.0485, 7.1692)\" x=\"-0.0650\" y=\"-3.3333\" width=\"0.1300\" height=\"3.1472\" ry=\"0.0400\" fill=\"currentColor\"/>\n",
       "<path transform=\"translate(13.2358, 7.1692) scale(0.0040, -0.0040)\" d=\"M218 136c55 0 108 -28 108 -89c0 -71 -55 -121 -102 -149c-35 -21 -75 -34 -116 -34c-55 0 -108 28 -108 89c0 71 55 121 102 149c35 21 75 34 116 34z\" fill=\"currentColor\"/>\n",
       "<path transform=\"translate(9.5358, 7.1692) scale(0.0040, -0.0040)\" d=\"M359 27c-49 0 -75 42 -75 75c0 38 27 77 72 77c4 0 9 0 14 -1c-28 37 -72 59 -120 59c-106 0 -113 -73 -113 -186v-51v-51c0 -113 7 -187 113 -187c80 0 139 70 158 151c2 7 7 10 12 10c6 0 13 -4 13 -12c0 -94 -105 -174 -183 -174c-68 0 -137 21 -184 70\n",
       "c-49 51 -66 122 -66 193s17 142 66 193c47 49 116 69 184 69c87 0 160 -64 175 -150c1 -5 1 -9 1 -13c0 -40 -30 -72 -67 -72z\" fill=\"currentColor\"/>\n",
       "<rect transform=\"translate(14.4750, 7.1692)\" x=\"-0.0650\" y=\"-3.3333\" width=\"0.1300\" height=\"3.1472\" ry=\"0.0400\" fill=\"currentColor\"/>\n",
       "<path transform=\"translate(76.2137, 7.1692) scale(0.0040, -0.0040)\" d=\"M218 136c55 0 108 -28 108 -89c0 -71 -55 -121 -102 -149c-35 -21 -75 -34 -116 -34c-55 0 -108 28 -108 89c0 71 55 121 102 149c35 21 75 34 116 34z\" fill=\"currentColor\"/>\n",
       "<rect transform=\"translate(77.4529, 7.1692)\" x=\"-0.0650\" y=\"-3.5000\" width=\"0.1300\" height=\"3.3139\" ry=\"0.0400\" fill=\"currentColor\"/>\n",
       "<path transform=\"translate(99.0560, 7.1692) scale(0.0040, -0.0040)\" d=\"M218 136c55 0 108 -28 108 -89c0 -71 -55 -121 -102 -149c-35 -21 -75 -34 -116 -34c-55 0 -108 28 -108 89c0 71 55 121 102 149c35 21 75 34 116 34z\" fill=\"currentColor\"/>\n",
       "<rect transform=\"translate(100.2952, 7.1692)\" x=\"-0.0650\" y=\"-3.5000\" width=\"0.1300\" height=\"3.3139\" ry=\"0.0400\" fill=\"currentColor\"/>\n",
       "<rect transform=\"translate(104.8275, 7.1692)\" x=\"-0.0650\" y=\"-3.5000\" width=\"0.1300\" height=\"3.3139\" ry=\"0.0400\" fill=\"currentColor\"/>\n",
       "<path transform=\"translate(103.5883, 7.1692) scale(0.0040, -0.0040)\" d=\"M218 136c55 0 108 -28 108 -89c0 -71 -55 -121 -102 -149c-35 -21 -75 -34 -116 -34c-55 0 -108 28 -108 89c0 71 55 121 102 149c35 21 75 34 116 34z\" fill=\"currentColor\"/>\n",
       "<path transform=\"translate(101.3221, 7.1692) scale(0.0040, -0.0040)\" d=\"M218 136c55 0 108 -28 108 -89c0 -71 -55 -121 -102 -149c-35 -21 -75 -34 -116 -34c-55 0 -108 28 -108 89c0 71 55 121 102 149c35 21 75 34 116 34z\" fill=\"currentColor\"/>\n",
       "<rect transform=\"translate(102.5614, 7.1692)\" x=\"-0.0650\" y=\"-3.5000\" width=\"0.1300\" height=\"3.3139\" ry=\"0.0400\" fill=\"currentColor\"/>\n",
       "<rect transform=\"translate(95.7630, 7.1692)\" x=\"-0.0650\" y=\"-3.5000\" width=\"0.1300\" height=\"3.3139\" ry=\"0.0400\" fill=\"currentColor\"/>\n",
       "<path transform=\"translate(94.5238, 7.1692) scale(0.0040, -0.0040)\" d=\"M218 136c55 0 108 -28 108 -89c0 -71 -55 -121 -102 -149c-35 -21 -75 -34 -116 -34c-55 0 -108 28 -108 89c0 71 55 121 102 149c35 21 75 34 116 34z\" fill=\"currentColor\"/>\n",
       "<rect transform=\"translate(98.0291, 7.1692)\" x=\"-0.0650\" y=\"-3.5000\" width=\"0.1300\" height=\"3.3139\" ry=\"0.0400\" fill=\"currentColor\"/>\n",
       "<path transform=\"translate(96.7899, 7.1692) scale(0.0040, -0.0040)\" d=\"M218 136c55 0 108 -28 108 -89c0 -71 -55 -121 -102 -149c-35 -21 -75 -34 -116 -34c-55 0 -108 28 -108 89c0 71 55 121 102 149c35 21 75 34 116 34z\" fill=\"currentColor\"/>\n",
       "<rect transform=\"translate(107.0936, 7.1692)\" x=\"-0.0650\" y=\"-3.5000\" width=\"0.1300\" height=\"3.3139\" ry=\"0.0400\" fill=\"currentColor\"/>\n",
       "<path transform=\"translate(105.8544, 7.1692) scale(0.0040, -0.0040)\" d=\"M218 136c55 0 108 -28 108 -89c0 -71 -55 -121 -102 -149c-35 -21 -75 -34 -116 -34c-55 0 -108 28 -108 89c0 71 55 121 102 149c35 21 75 34 116 34z\" fill=\"currentColor\"/>\n",
       "</svg>\n"
      ]
     },
     "metadata": {},
     "output_type": "display_data"
    }
   ],
   "source": [
    "abjad.show(staff)"
   ]
  },
  {
   "cell_type": "markdown",
   "metadata": {},
   "source": [
    "If we can make one single row of rhythms, we can make many rows of rhythms. We reuse this last function to make another function:"
   ]
  },
  {
   "cell_type": "code",
   "execution_count": 64,
   "metadata": {},
   "outputs": [],
   "source": [
    "def make_rows_of_nested_tuplets(tuplet_duration, row_count, column_count):\n",
    "    r'''Makes rows of nested tuplets.\n",
    "    '''\n",
    "\n",
    "    assert 0 < row_count\n",
    "    rows_of_nested_tuplets = []\n",
    "    for n in range(row_count):\n",
    "        outer_tuplet_proportions = (1, n + 1)\n",
    "        row_of_nested_tuplets = make_row_of_nested_tuplets(\n",
    "            tuplet_duration, outer_tuplet_proportions, column_count)\n",
    "        rows_of_nested_tuplets.append(row_of_nested_tuplets)\n",
    "    return rows_of_nested_tuplets"
   ]
  },
  {
   "cell_type": "code",
   "execution_count": 65,
   "metadata": {},
   "outputs": [],
   "source": [
    "score = abjad.Score()"
   ]
  },
  {
   "cell_type": "code",
   "execution_count": 66,
   "metadata": {},
   "outputs": [],
   "source": [
    "for tuplet_row in make_rows_of_nested_tuplets(duration, 10, 6):\n",
    "    score.append(abjad.Staff(tuplet_row, lilypond_type='RhythmicStaff'))"
   ]
  },
  {
   "cell_type": "code",
   "execution_count": 67,
   "metadata": {},
   "outputs": [
    {
     "data": {
      "image/svg+xml": [
       "<svg xmlns=\"http://www.w3.org/2000/svg\" xmlns:xlink=\"http://www.w3.org/1999/xlink\" version=\"1.2\" width=\"175.02mm\" height=\"156.78mm\" viewBox=\"8.4758 -0.0000 99.5946 89.2192\">\n",
       "<style text=\"style/css\">\n",
       "<![CDATA[\n",
       "tspan { white-space: pre; }\n",
       "]]>\n",
       "</style>\n",
       "<line transform=\"translate(8.5358, 88.1692)\" stroke-linejoin=\"round\" stroke-linecap=\"round\" stroke-width=\"0.1000\" stroke=\"currentColor\" x1=\"0.0500\" y1=\"-0.0000\" x2=\"99.5346\" y2=\"-0.0000\"/>\n",
       "<line transform=\"translate(8.5358, 61.1692)\" stroke-linejoin=\"round\" stroke-linecap=\"round\" stroke-width=\"0.1000\" stroke=\"currentColor\" x1=\"0.0500\" y1=\"-0.0000\" x2=\"99.5346\" y2=\"-0.0000\"/>\n",
       "<rect transform=\"translate(67.9583, 88.1692)\" x=\"0.0000\" y=\"-1.0500\" width=\"0.1900\" height=\"2.1000\" ry=\"0.0000\" fill=\"currentColor\"/>\n",
       "<line transform=\"translate(8.5358, 70.1692)\" stroke-linejoin=\"round\" stroke-linecap=\"round\" stroke-width=\"0.1000\" stroke=\"currentColor\" x1=\"0.0500\" y1=\"-0.0000\" x2=\"99.5346\" y2=\"-0.0000\"/>\n",
       "<rect transform=\"translate(67.9583, 43.1692)\" x=\"0.0000\" y=\"-1.0500\" width=\"0.1900\" height=\"2.1000\" ry=\"0.0000\" fill=\"currentColor\"/>\n",
       "<line transform=\"translate(8.5358, 79.1692)\" stroke-linejoin=\"round\" stroke-linecap=\"round\" stroke-width=\"0.1000\" stroke=\"currentColor\" x1=\"0.0500\" y1=\"-0.0000\" x2=\"99.5346\" y2=\"-0.0000\"/>\n",
       "<rect transform=\"translate(67.9583, 70.1692)\" x=\"0.0000\" y=\"-1.0500\" width=\"0.1900\" height=\"2.1000\" ry=\"0.0000\" fill=\"currentColor\"/>\n",
       "<rect transform=\"translate(67.9583, 7.1692)\" x=\"0.0000\" y=\"-1.0500\" width=\"0.1900\" height=\"2.1000\" ry=\"0.0000\" fill=\"currentColor\"/>\n",
       "<rect transform=\"translate(67.9583, 25.1692)\" x=\"0.0000\" y=\"-1.0500\" width=\"0.1900\" height=\"2.1000\" ry=\"0.0000\" fill=\"currentColor\"/>\n",
       "<rect transform=\"translate(67.9583, 52.1692)\" x=\"0.0000\" y=\"-1.0500\" width=\"0.1900\" height=\"2.1000\" ry=\"0.0000\" fill=\"currentColor\"/>\n",
       "<rect transform=\"translate(67.9583, 61.1692)\" x=\"0.0000\" y=\"-1.0500\" width=\"0.1900\" height=\"2.1000\" ry=\"0.0000\" fill=\"currentColor\"/>\n",
       "<rect transform=\"translate(67.9583, 16.1692)\" x=\"0.0000\" y=\"-1.0500\" width=\"0.1900\" height=\"2.1000\" ry=\"0.0000\" fill=\"currentColor\"/>\n",
       "<line transform=\"translate(8.5358, 7.1692)\" stroke-linejoin=\"round\" stroke-linecap=\"round\" stroke-width=\"0.1000\" stroke=\"currentColor\" x1=\"0.0500\" y1=\"-0.0000\" x2=\"99.5346\" y2=\"-0.0000\"/>\n",
       "<line transform=\"translate(8.5358, 16.1692)\" stroke-linejoin=\"round\" stroke-linecap=\"round\" stroke-width=\"0.1000\" stroke=\"currentColor\" x1=\"0.0500\" y1=\"-0.0000\" x2=\"99.5346\" y2=\"-0.0000\"/>\n",
       "<line transform=\"translate(8.5358, 25.1692)\" stroke-linejoin=\"round\" stroke-linecap=\"round\" stroke-width=\"0.1000\" stroke=\"currentColor\" x1=\"0.0500\" y1=\"-0.0000\" x2=\"99.5346\" y2=\"-0.0000\"/>\n",
       "<line transform=\"translate(8.5358, 34.1692)\" stroke-linejoin=\"round\" stroke-linecap=\"round\" stroke-width=\"0.1000\" stroke=\"currentColor\" x1=\"0.0500\" y1=\"-0.0000\" x2=\"99.5346\" y2=\"-0.0000\"/>\n",
       "<rect transform=\"translate(67.9583, 79.1692)\" x=\"0.0000\" y=\"-1.0500\" width=\"0.1900\" height=\"2.1000\" ry=\"0.0000\" fill=\"currentColor\"/>\n",
       "<line transform=\"translate(8.5358, 43.1692)\" stroke-linejoin=\"round\" stroke-linecap=\"round\" stroke-width=\"0.1000\" stroke=\"currentColor\" x1=\"0.0500\" y1=\"-0.0000\" x2=\"99.5346\" y2=\"-0.0000\"/>\n",
       "<rect transform=\"translate(67.9583, 34.1692)\" x=\"0.0000\" y=\"-1.0500\" width=\"0.1900\" height=\"2.1000\" ry=\"0.0000\" fill=\"currentColor\"/>\n",
       "<line transform=\"translate(8.5358, 52.1692)\" stroke-linejoin=\"round\" stroke-linecap=\"round\" stroke-width=\"0.1000\" stroke=\"currentColor\" x1=\"0.0500\" y1=\"-0.0000\" x2=\"99.5346\" y2=\"-0.0000\"/>\n",
       "<path transform=\"translate(56.6605, 61.1692) scale(0.0040, -0.0040)\" d=\"M218 136c55 0 108 -28 108 -89c0 -71 -55 -121 -102 -149c-35 -21 -75 -34 -116 -34c-55 0 -108 28 -108 89c0 71 55 121 102 149c35 21 75 34 116 34z\" fill=\"currentColor\"/>\n",
       "<rect transform=\"translate(57.8997, 61.1692)\" x=\"-0.0650\" y=\"-3.5000\" width=\"0.1300\" height=\"3.3139\" ry=\"0.0400\" fill=\"currentColor\"/>\n",
       "<path transform=\"translate(56.8588, 52.1692) scale(0.0040, -0.0040)\" d=\"M218 136c55 0 108 -28 108 -89c0 -71 -55 -121 -102 -149c-35 -21 -75 -34 -116 -34c-55 0 -108 28 -108 89c0 71 55 121 102 149c35 21 75 34 116 34z\" fill=\"currentColor\"/>\n",
       "<rect transform=\"translate(58.0980, 52.1692)\" x=\"-0.0650\" y=\"-3.1900\" width=\"0.1300\" height=\"3.0039\" ry=\"0.0400\" fill=\"currentColor\"/>\n",
       "<rect transform=\"translate(57.7455, 70.1692)\" x=\"-0.0650\" y=\"-3.5000\" width=\"0.1300\" height=\"3.3139\" ry=\"0.0400\" fill=\"currentColor\"/>\n",
       "<rect transform=\"translate(57.7455, 16.1692)\" x=\"-0.0650\" y=\"-3.1900\" width=\"0.1300\" height=\"3.0039\" ry=\"0.0400\" fill=\"currentColor\"/>\n",
       "<path transform=\"translate(56.5063, 70.1692) scale(0.0040, -0.0040)\" d=\"M218 136c55 0 108 -28 108 -89c0 -71 -55 -121 -102 -149c-35 -21 -75 -34 -116 -34c-55 0 -108 28 -108 89c0 71 55 121 102 149c35 21 75 34 116 34z\" fill=\"currentColor\"/>\n",
       "<path transform=\"translate(56.5063, 16.1692) scale(0.0040, -0.0040)\" d=\"M218 136c55 0 108 -28 108 -89c0 -71 -55 -121 -102 -149c-35 -21 -75 -34 -116 -34c-55 0 -108 28 -108 89c0 71 55 121 102 149c35 21 75 34 116 34z\" fill=\"currentColor\"/>\n",
       "<path transform=\"translate(58.9739, 7.1692) scale(0.0040, -0.0040)\" d=\"M218 136c55 0 108 -28 108 -89c0 -71 -55 -121 -102 -149c-35 -21 -75 -34 -116 -34c-55 0 -108 28 -108 89c0 71 55 121 102 149c35 21 75 34 116 34z\" fill=\"currentColor\"/>\n",
       "<path transform=\"translate(58.9739, 16.1692) scale(0.0040, -0.0040)\" d=\"M218 136c55 0 108 -28 108 -89c0 -71 -55 -121 -102 -149c-35 -21 -75 -34 -116 -34c-55 0 -108 28 -108 89c0 71 55 121 102 149c35 21 75 34 116 34z\" fill=\"currentColor\"/>\n",
       "<rect transform=\"translate(60.2132, 7.1692)\" x=\"-0.0650\" y=\"-3.5000\" width=\"0.1300\" height=\"3.3139\" ry=\"0.0400\" fill=\"currentColor\"/>\n",
       "<rect transform=\"translate(60.2132, 16.1692)\" x=\"-0.0650\" y=\"-3.1900\" width=\"0.1300\" height=\"3.0039\" ry=\"0.0400\" fill=\"currentColor\"/>\n",
       "<path transform=\"translate(59.7756, 88.1692) scale(0.0040, -0.0040)\" d=\"M218 136c55 0 108 -28 108 -89c0 -71 -55 -121 -102 -149c-35 -21 -75 -34 -116 -34c-55 0 -108 28 -108 89c0 71 55 121 102 149c35 21 75 34 116 34z\" fill=\"currentColor\"/>\n",
       "<rect transform=\"translate(61.0148, 88.1692)\" x=\"-0.0650\" y=\"-3.5000\" width=\"0.1300\" height=\"3.3139\" ry=\"0.0400\" fill=\"currentColor\"/>\n",
       "<rect transform=\"translate(58.3624, 43.1692)\" x=\"-0.0650\" y=\"-3.1900\" width=\"0.1300\" height=\"3.0039\" ry=\"0.0400\" fill=\"currentColor\"/>\n",
       "<path transform=\"translate(57.4933, 34.1692) scale(0.0040, -0.0040)\" d=\"M218 136c55 0 108 -28 108 -89c0 -71 -55 -121 -102 -149c-35 -21 -75 -34 -116 -34c-55 0 -108 28 -108 89c0 71 55 121 102 149c35 21 75 34 116 34z\" fill=\"currentColor\"/>\n",
       "<rect transform=\"translate(58.7325, 34.1692)\" x=\"-0.0650\" y=\"-3.1900\" width=\"0.1300\" height=\"3.0039\" ry=\"0.0400\" fill=\"currentColor\"/>\n",
       "<path transform=\"translate(57.1232, 43.1692) scale(0.0040, -0.0040)\" d=\"M218 136c55 0 108 -28 108 -89c0 -71 -55 -121 -102 -149c-35 -21 -75 -34 -116 -34c-55 0 -108 28 -108 89c0 71 55 121 102 149c35 21 75 34 116 34z\" fill=\"currentColor\"/>\n",
       "<path transform=\"translate(58.0486, 25.1692) scale(0.0040, -0.0040)\" d=\"M218 136c55 0 108 -28 108 -89c0 -71 -55 -121 -102 -149c-35 -21 -75 -34 -116 -34c-55 0 -108 28 -108 89c0 71 55 121 102 149c35 21 75 34 116 34z\" fill=\"currentColor\"/>\n",
       "<rect transform=\"translate(59.2878, 25.1692)\" x=\"-0.0650\" y=\"-3.1900\" width=\"0.1300\" height=\"3.0039\" ry=\"0.0400\" fill=\"currentColor\"/>\n",
       "<rect transform=\"translate(54.8598, 61.1692)\" x=\"-0.0650\" y=\"-3.5000\" width=\"0.1300\" height=\"3.3139\" ry=\"0.0400\" fill=\"currentColor\"/>\n",
       "<path transform=\"translate(53.6206, 61.1692) scale(0.0040, -0.0040)\" d=\"M218 136c55 0 108 -28 108 -89c0 -71 -55 -121 -102 -149c-35 -21 -75 -34 -116 -34c-55 0 -108 28 -108 89c0 71 55 121 102 149c35 21 75 34 116 34z\" fill=\"currentColor\"/>\n",
       "<rect transform=\"translate(54.6148, 70.1692)\" x=\"-0.0650\" y=\"-3.5000\" width=\"0.1300\" height=\"3.3139\" ry=\"0.0400\" fill=\"currentColor\"/>\n",
       "<path transform=\"translate(53.3756, 70.1692) scale(0.0040, -0.0040)\" d=\"M218 136c55 0 108 -28 108 -89c0 -71 -55 -121 -102 -149c-35 -21 -75 -34 -116 -34c-55 0 -108 28 -108 89c0 71 55 121 102 149c35 21 75 34 116 34z\" fill=\"currentColor\"/>\n",
       "<path transform=\"translate(53.9114, 52.1692) scale(0.0040, -0.0040)\" d=\"M218 136c55 0 108 -28 108 -89c0 -71 -55 -121 -102 -149c-35 -21 -75 -34 -116 -34c-55 0 -108 28 -108 89c0 71 55 121 102 149c35 21 75 34 116 34z\" fill=\"currentColor\"/>\n",
       "<rect transform=\"translate(54.4052, 79.1692)\" x=\"-0.0650\" y=\"-3.5000\" width=\"0.1300\" height=\"3.3139\" ry=\"0.0400\" fill=\"currentColor\"/>\n",
       "<path transform=\"translate(53.1659, 79.1692) scale(0.0040, -0.0040)\" d=\"M218 136c55 0 108 -28 108 -89c0 -71 -55 -121 -102 -149c-35 -21 -75 -34 -116 -34c-55 0 -108 28 -108 89c0 71 55 121 102 149c35 21 75 34 116 34z\" fill=\"currentColor\"/>\n",
       "<rect transform=\"translate(54.2233, 88.1692)\" x=\"-0.0650\" y=\"-3.5000\" width=\"0.1300\" height=\"3.3139\" ry=\"0.0400\" fill=\"currentColor\"/>\n",
       "<path transform=\"translate(52.9841, 88.1692) scale(0.0040, -0.0040)\" d=\"M218 136c55 0 108 -28 108 -89c0 -71 -55 -121 -102 -149c-35 -21 -75 -34 -116 -34c-55 0 -108 28 -108 89c0 71 55 121 102 149c35 21 75 34 116 34z\" fill=\"currentColor\"/>\n",
       "<rect transform=\"translate(52.2057, 88.1692)\" x=\"-0.0650\" y=\"-3.5000\" width=\"0.1300\" height=\"3.3139\" ry=\"0.0400\" fill=\"currentColor\"/>\n",
       "<path transform=\"translate(68.8596, 25.1692) scale(0.0040, -0.0040)\" d=\"M218 136c55 0 108 -28 108 -89c0 -71 -55 -121 -102 -149c-35 -21 -75 -34 -116 -34c-55 0 -108 28 -108 89c0 71 55 121 102 149c35 21 75 34 116 34z\" fill=\"currentColor\"/>\n",
       "<path transform=\"translate(56.3918, 79.1692) scale(0.0040, -0.0040)\" d=\"M218 136c55 0 108 -28 108 -89c0 -71 -55 -121 -102 -149c-35 -21 -75 -34 -116 -34c-55 0 -108 28 -108 89c0 71 55 121 102 149c35 21 75 34 116 34z\" fill=\"currentColor\"/>\n",
       "<rect transform=\"translate(57.5373, 88.1692)\" x=\"-0.0650\" y=\"-3.5000\" width=\"0.1300\" height=\"3.3139\" ry=\"0.0400\" fill=\"currentColor\"/>\n",
       "<path transform=\"translate(56.2981, 88.1692) scale(0.0040, -0.0040)\" d=\"M218 136c55 0 108 -28 108 -89c0 -71 -55 -121 -102 -149c-35 -21 -75 -34 -116 -34c-55 0 -108 28 -108 89c0 71 55 121 102 149c35 21 75 34 116 34z\" fill=\"currentColor\"/>\n",
       "<rect transform=\"translate(56.6008, 25.1692)\" x=\"-0.0650\" y=\"-3.1900\" width=\"0.1300\" height=\"3.0039\" ry=\"0.0400\" fill=\"currentColor\"/>\n",
       "<path transform=\"translate(55.3616, 25.1692) scale(0.0040, -0.0040)\" d=\"M218 136c55 0 108 -28 108 -89c0 -71 -55 -121 -102 -149c-35 -21 -75 -34 -116 -34c-55 0 -108 28 -108 89c0 71 55 121 102 149c35 21 75 34 116 34z\" fill=\"currentColor\"/>\n",
       "<rect transform=\"translate(57.6310, 79.1692)\" x=\"-0.0650\" y=\"-3.5000\" width=\"0.1300\" height=\"3.3139\" ry=\"0.0400\" fill=\"currentColor\"/>\n",
       "<rect transform=\"translate(55.9422, 34.1692)\" x=\"-0.0650\" y=\"-3.1900\" width=\"0.1300\" height=\"3.0039\" ry=\"0.0400\" fill=\"currentColor\"/>\n",
       "<path transform=\"translate(54.7030, 34.1692) scale(0.0040, -0.0040)\" d=\"M218 136c55 0 108 -28 108 -89c0 -71 -55 -121 -102 -149c-35 -21 -75 -34 -116 -34c-55 0 -108 28 -108 89c0 71 55 121 102 149c35 21 75 34 116 34z\" fill=\"currentColor\"/>\n",
       "<rect transform=\"translate(55.5032, 43.1692)\" x=\"-0.0650\" y=\"-3.1900\" width=\"0.1300\" height=\"3.0039\" ry=\"0.0400\" fill=\"currentColor\"/>\n",
       "<path transform=\"translate(54.2640, 43.1692) scale(0.0040, -0.0040)\" d=\"M218 136c55 0 108 -28 108 -89c0 -71 -55 -121 -102 -149c-35 -21 -75 -34 -116 -34c-55 0 -108 28 -108 89c0 71 55 121 102 149c35 21 75 34 116 34z\" fill=\"currentColor\"/>\n",
       "<rect transform=\"translate(55.1506, 52.1692)\" x=\"-0.0650\" y=\"-3.1900\" width=\"0.1300\" height=\"3.0039\" ry=\"0.0400\" fill=\"currentColor\"/>\n",
       "<rect transform=\"translate(65.3573, 43.1692)\" x=\"-0.0650\" y=\"-3.1900\" width=\"0.1300\" height=\"3.0039\" ry=\"0.0400\" fill=\"currentColor\"/>\n",
       "<path transform=\"translate(64.1181, 43.1692) scale(0.0040, -0.0040)\" d=\"M218 136c55 0 108 -28 108 -89c0 -71 -55 -121 -102 -149c-35 -21 -75 -34 -116 -34c-55 0 -108 28 -108 89c0 71 55 121 102 149c35 21 75 34 116 34z\" fill=\"currentColor\"/>\n",
       "<rect transform=\"translate(65.2523, 52.1692)\" x=\"-0.0650\" y=\"-3.1900\" width=\"0.1300\" height=\"3.0039\" ry=\"0.0400\" fill=\"currentColor\"/>\n",
       "<path transform=\"translate(64.0131, 52.1692) scale(0.0040, -0.0040)\" d=\"M218 136c55 0 108 -28 108 -89c0 -71 -55 -121 -102 -149c-35 -21 -75 -34 -116 -34c-55 0 -108 28 -108 89c0 71 55 121 102 149c35 21 75 34 116 34z\" fill=\"currentColor\"/>\n",
       "<rect transform=\"translate(65.1736, 61.1692)\" x=\"-0.0650\" y=\"-3.5000\" width=\"0.1300\" height=\"3.3139\" ry=\"0.0400\" fill=\"currentColor\"/>\n",
       "<path transform=\"translate(63.9343, 61.1692) scale(0.0040, -0.0040)\" d=\"M218 136c55 0 108 -28 108 -89c0 -71 -55 -121 -102 -149c-35 -21 -75 -34 -116 -34c-55 0 -108 28 -108 89c0 71 55 121 102 149c35 21 75 34 116 34z\" fill=\"currentColor\"/>\n",
       "<rect transform=\"translate(65.1123, 70.1692)\" x=\"-0.0650\" y=\"-3.5000\" width=\"0.1300\" height=\"3.3139\" ry=\"0.0400\" fill=\"currentColor\"/>\n",
       "<path transform=\"translate(63.8731, 70.1692) scale(0.0040, -0.0040)\" d=\"M218 136c55 0 108 -28 108 -89c0 -71 -55 -121 -102 -149c-35 -21 -75 -34 -116 -34c-55 0 -108 28 -108 89c0 71 55 121 102 149c35 21 75 34 116 34z\" fill=\"currentColor\"/>\n",
       "<rect transform=\"translate(65.0633, 79.1692)\" x=\"-0.0650\" y=\"-3.5000\" width=\"0.1300\" height=\"3.3139\" ry=\"0.0400\" fill=\"currentColor\"/>\n",
       "<path transform=\"translate(63.8241, 79.1692) scale(0.0040, -0.0040)\" d=\"M218 136c55 0 108 -28 108 -89c0 -71 -55 -121 -102 -149c-35 -21 -75 -34 -116 -34c-55 0 -108 28 -108 89c0 71 55 121 102 149c35 21 75 34 116 34z\" fill=\"currentColor\"/>\n",
       "<rect transform=\"translate(65.0232, 88.1692)\" x=\"-0.0650\" y=\"-3.5000\" width=\"0.1300\" height=\"3.3139\" ry=\"0.0400\" fill=\"currentColor\"/>\n",
       "<path transform=\"translate(68.8596, 16.1692) scale(0.0040, -0.0040)\" d=\"M218 136c55 0 108 -28 108 -89c0 -71 -55 -121 -102 -149c-35 -21 -75 -34 -116 -34c-55 0 -108 28 -108 89c0 71 55 121 102 149c35 21 75 34 116 34z\" fill=\"currentColor\"/>\n",
       "<path transform=\"translate(68.8596, 7.1692) scale(0.0040, -0.0040)\" d=\"M218 136c55 0 108 -28 108 -89c0 -71 -55 -121 -102 -149c-35 -21 -75 -34 -116 -34c-55 0 -108 28 -108 89c0 71 55 121 102 149c35 21 75 34 116 34z\" fill=\"currentColor\"/>\n",
       "<rect transform=\"translate(66.8270, 7.1692)\" x=\"-0.0650\" y=\"-3.5000\" width=\"0.1300\" height=\"3.3139\" ry=\"0.0400\" fill=\"currentColor\"/>\n",
       "<path transform=\"translate(65.5878, 7.1692) scale(0.0040, -0.0040)\" d=\"M218 136c55 0 108 -28 108 -89c0 -71 -55 -121 -102 -149c-35 -21 -75 -34 -116 -34c-55 0 -108 28 -108 89c0 71 55 121 102 149c35 21 75 34 116 34z\" fill=\"currentColor\"/>\n",
       "<rect transform=\"translate(66.0921, 16.1692)\" x=\"-0.0650\" y=\"-3.1900\" width=\"0.1300\" height=\"3.0039\" ry=\"0.0400\" fill=\"currentColor\"/>\n",
       "<path transform=\"translate(64.8529, 16.1692) scale(0.0040, -0.0040)\" d=\"M218 136c55 0 108 -28 108 -89c0 -71 -55 -121 -102 -149c-35 -21 -75 -34 -116 -34c-55 0 -108 28 -108 89c0 71 55 121 102 149c35 21 75 34 116 34z\" fill=\"currentColor\"/>\n",
       "<path transform=\"translate(63.7840, 88.1692) scale(0.0040, -0.0040)\" d=\"M218 136c55 0 108 -28 108 -89c0 -71 -55 -121 -102 -149c-35 -21 -75 -34 -116 -34c-55 0 -108 28 -108 89c0 71 55 121 102 149c35 21 75 34 116 34z\" fill=\"currentColor\"/>\n",
       "<rect transform=\"translate(65.7247, 25.1692)\" x=\"-0.0650\" y=\"-3.1900\" width=\"0.1300\" height=\"3.0039\" ry=\"0.0400\" fill=\"currentColor\"/>\n",
       "<path transform=\"translate(64.4855, 25.1692) scale(0.0040, -0.0040)\" d=\"M218 136c55 0 108 -28 108 -89c0 -71 -55 -121 -102 -149c-35 -21 -75 -34 -116 -34c-55 0 -108 28 -108 89c0 71 55 121 102 149c35 21 75 34 116 34z\" fill=\"currentColor\"/>\n",
       "<rect transform=\"translate(65.5042, 34.1692)\" x=\"-0.0650\" y=\"-3.1900\" width=\"0.1300\" height=\"3.0039\" ry=\"0.0400\" fill=\"currentColor\"/>\n",
       "<path transform=\"translate(64.2650, 34.1692) scale(0.0040, -0.0040)\" d=\"M218 136c55 0 108 -28 108 -89c0 -71 -55 -121 -102 -149c-35 -21 -75 -34 -116 -34c-55 0 -108 28 -108 89c0 71 55 121 102 149c35 21 75 34 116 34z\" fill=\"currentColor\"/>\n",
       "<rect transform=\"translate(61.3155, 61.1692)\" x=\"-0.0650\" y=\"-3.5000\" width=\"0.1300\" height=\"3.3139\" ry=\"0.0400\" fill=\"currentColor\"/>\n",
       "<rect transform=\"translate(61.6829, 43.1692)\" x=\"-0.0650\" y=\"-3.1900\" width=\"0.1300\" height=\"3.0039\" ry=\"0.0400\" fill=\"currentColor\"/>\n",
       "<path transform=\"translate(60.4437, 43.1692) scale(0.0040, -0.0040)\" d=\"M218 136c55 0 108 -28 108 -89c0 -71 -55 -121 -102 -149c-35 -21 -75 -34 -116 -34c-55 0 -108 28 -108 89c0 71 55 121 102 149c35 21 75 34 116 34z\" fill=\"currentColor\"/>\n",
       "<rect transform=\"translate(61.4729, 52.1692)\" x=\"-0.0650\" y=\"-3.1900\" width=\"0.1300\" height=\"3.0039\" ry=\"0.0400\" fill=\"currentColor\"/>\n",
       "<path transform=\"translate(60.2337, 52.1692) scale(0.0040, -0.0040)\" d=\"M218 136c55 0 108 -28 108 -89c0 -71 -55 -121 -102 -149c-35 -21 -75 -34 -116 -34c-55 0 -108 28 -108 89c0 71 55 121 102 149c35 21 75 34 116 34z\" fill=\"currentColor\"/>\n",
       "<path transform=\"translate(60.0763, 61.1692) scale(0.0040, -0.0040)\" d=\"M218 136c55 0 108 -28 108 -89c0 -71 -55 -121 -102 -149c-35 -21 -75 -34 -116 -34c-55 0 -108 28 -108 89c0 71 55 121 102 149c35 21 75 34 116 34z\" fill=\"currentColor\"/>\n",
       "<rect transform=\"translate(61.1930, 70.1692)\" x=\"-0.0650\" y=\"-3.5000\" width=\"0.1300\" height=\"3.3139\" ry=\"0.0400\" fill=\"currentColor\"/>\n",
       "<path transform=\"translate(59.9538, 70.1692) scale(0.0040, -0.0040)\" d=\"M218 136c55 0 108 -28 108 -89c0 -71 -55 -121 -102 -149c-35 -21 -75 -34 -116 -34c-55 0 -108 28 -108 89c0 71 55 121 102 149c35 21 75 34 116 34z\" fill=\"currentColor\"/>\n",
       "<rect transform=\"translate(61.0950, 79.1692)\" x=\"-0.0650\" y=\"-3.5000\" width=\"0.1300\" height=\"3.3139\" ry=\"0.0400\" fill=\"currentColor\"/>\n",
       "<path transform=\"translate(59.8558, 79.1692) scale(0.0040, -0.0040)\" d=\"M218 136c55 0 108 -28 108 -89c0 -71 -55 -121 -102 -149c-35 -21 -75 -34 -116 -34c-55 0 -108 28 -108 89c0 71 55 121 102 149c35 21 75 34 116 34z\" fill=\"currentColor\"/>\n",
       "<rect transform=\"translate(64.6224, 7.1692)\" x=\"-0.0650\" y=\"-3.5000\" width=\"0.1300\" height=\"3.3139\" ry=\"0.0400\" fill=\"currentColor\"/>\n",
       "<path transform=\"translate(63.3832, 7.1692) scale(0.0040, -0.0040)\" d=\"M218 136c55 0 108 -28 108 -89c0 -71 -55 -121 -102 -149c-35 -21 -75 -34 -116 -34c-55 0 -108 28 -108 89c0 71 55 121 102 149c35 21 75 34 116 34z\" fill=\"currentColor\"/>\n",
       "<rect transform=\"translate(63.1527, 16.1692)\" x=\"-0.0650\" y=\"-3.1900\" width=\"0.1300\" height=\"3.0039\" ry=\"0.0400\" fill=\"currentColor\"/>\n",
       "<path transform=\"translate(61.9134, 16.1692) scale(0.0040, -0.0040)\" d=\"M218 136c55 0 108 -28 108 -89c0 -71 -55 -121 -102 -149c-35 -21 -75 -34 -116 -34c-55 0 -108 28 -108 89c0 71 55 121 102 149c35 21 75 34 116 34z\" fill=\"currentColor\"/>\n",
       "<rect transform=\"translate(62.4178, 25.1692)\" x=\"-0.0650\" y=\"-3.1900\" width=\"0.1300\" height=\"3.0039\" ry=\"0.0400\" fill=\"currentColor\"/>\n",
       "<rect transform=\"translate(62.4178, 7.1692)\" x=\"-0.0650\" y=\"-3.5000\" width=\"0.1300\" height=\"3.3139\" ry=\"0.0400\" fill=\"currentColor\"/>\n",
       "<path transform=\"translate(61.1786, 25.1692) scale(0.0040, -0.0040)\" d=\"M218 136c55 0 108 -28 108 -89c0 -71 -55 -121 -102 -149c-35 -21 -75 -34 -116 -34c-55 0 -108 28 -108 89c0 71 55 121 102 149c35 21 75 34 116 34z\" fill=\"currentColor\"/>\n",
       "<path transform=\"translate(61.1786, 7.1692) scale(0.0040, -0.0040)\" d=\"M218 136c55 0 108 -28 108 -89c0 -71 -55 -121 -102 -149c-35 -21 -75 -34 -116 -34c-55 0 -108 28 -108 89c0 71 55 121 102 149c35 21 75 34 116 34z\" fill=\"currentColor\"/>\n",
       "<rect transform=\"translate(61.9769, 34.1692)\" x=\"-0.0650\" y=\"-3.1900\" width=\"0.1300\" height=\"3.0039\" ry=\"0.0400\" fill=\"currentColor\"/>\n",
       "<path transform=\"translate(60.7376, 34.1692) scale(0.0040, -0.0040)\" d=\"M218 136c55 0 108 -28 108 -89c0 -71 -55 -121 -102 -149c-35 -21 -75 -34 -116 -34c-55 0 -108 28 -108 89c0 71 55 121 102 149c35 21 75 34 116 34z\" fill=\"currentColor\"/>\n",
       "<rect transform=\"translate(43.4695, 79.1692)\" x=\"-0.0650\" y=\"-3.5000\" width=\"0.1300\" height=\"3.3139\" ry=\"0.0400\" fill=\"currentColor\"/>\n",
       "<path transform=\"translate(42.1558, 88.1692) scale(0.0040, -0.0040)\" d=\"M218 136c55 0 108 -28 108 -89c0 -71 -55 -121 -102 -149c-35 -21 -75 -34 -116 -34c-55 0 -108 28 -108 89c0 71 55 121 102 149c35 21 75 34 116 34z\" fill=\"currentColor\"/>\n",
       "<rect transform=\"translate(43.3950, 88.1692)\" x=\"-0.0650\" y=\"-3.5000\" width=\"0.1300\" height=\"3.3139\" ry=\"0.0400\" fill=\"currentColor\"/>\n",
       "<path transform=\"translate(42.2303, 79.1692) scale(0.0040, -0.0040)\" d=\"M218 136c55 0 108 -28 108 -89c0 -71 -55 -121 -102 -149c-35 -21 -75 -34 -116 -34c-55 0 -108 28 -108 89c0 71 55 121 102 149c35 21 75 34 116 34z\" fill=\"currentColor\"/>\n",
       "<path transform=\"translate(42.3213, 70.1692) scale(0.0040, -0.0040)\" d=\"M218 136c55 0 108 -28 108 -89c0 -71 -55 -121 -102 -149c-35 -21 -75 -34 -116 -34c-55 0 -108 28 -108 89c0 71 55 121 102 149c35 21 75 34 116 34z\" fill=\"currentColor\"/>\n",
       "<rect transform=\"translate(43.5605, 70.1692)\" x=\"-0.0650\" y=\"-3.5000\" width=\"0.1300\" height=\"3.3139\" ry=\"0.0400\" fill=\"currentColor\"/>\n",
       "<rect transform=\"translate(42.6503, 16.1692)\" x=\"-0.0650\" y=\"-3.0000\" width=\"0.1300\" height=\"2.8139\" ry=\"0.0400\" fill=\"currentColor\"/>\n",
       "<path transform=\"translate(41.4111, 16.1692) scale(0.0040, -0.0040)\" d=\"M218 136c55 0 108 -28 108 -89c0 -71 -55 -121 -102 -149c-35 -21 -75 -34 -116 -34c-55 0 -108 28 -108 89c0 71 55 121 102 149c35 21 75 34 116 34z\" fill=\"currentColor\"/>\n",
       "<rect transform=\"translate(41.7041, 25.1692)\" x=\"-0.0650\" y=\"-3.1900\" width=\"0.1300\" height=\"3.0039\" ry=\"0.0400\" fill=\"currentColor\"/>\n",
       "<path transform=\"translate(40.4649, 25.1692) scale(0.0040, -0.0040)\" d=\"M218 136c55 0 108 -28 108 -89c0 -71 -55 -121 -102 -149c-35 -21 -75 -34 -116 -34c-55 0 -108 28 -108 89c0 71 55 121 102 149c35 21 75 34 116 34z\" fill=\"currentColor\"/>\n",
       "<rect transform=\"translate(41.1364, 34.1692)\" x=\"-0.0650\" y=\"-3.1900\" width=\"0.1300\" height=\"3.0039\" ry=\"0.0400\" fill=\"currentColor\"/>\n",
       "<rect transform=\"translate(44.0157, 43.1692)\" x=\"-0.0650\" y=\"-3.1900\" width=\"0.1300\" height=\"3.0039\" ry=\"0.0400\" fill=\"currentColor\"/>\n",
       "<rect transform=\"translate(44.6984, 7.1692)\" x=\"-0.0650\" y=\"-3.1900\" width=\"0.1300\" height=\"3.0039\" ry=\"0.0400\" fill=\"currentColor\"/>\n",
       "<path transform=\"translate(43.4592, 25.1692) scale(0.0040, -0.0040)\" d=\"M218 136c55 0 108 -28 108 -89c0 -71 -55 -121 -102 -149c-35 -21 -75 -34 -116 -34c-55 0 -108 28 -108 89c0 71 55 121 102 149c35 21 75 34 116 34z\" fill=\"currentColor\"/>\n",
       "<path transform=\"translate(43.4592, 7.1692) scale(0.0040, -0.0040)\" d=\"M218 136c55 0 108 -28 108 -89c0 -71 -55 -121 -102 -149c-35 -21 -75 -34 -116 -34c-55 0 -108 28 -108 89c0 71 55 121 102 149c35 21 75 34 116 34z\" fill=\"currentColor\"/>\n",
       "<rect transform=\"translate(44.2888, 34.1692)\" x=\"-0.0650\" y=\"-3.1900\" width=\"0.1300\" height=\"3.0039\" ry=\"0.0400\" fill=\"currentColor\"/>\n",
       "<path transform=\"translate(43.0495, 34.1692) scale(0.0040, -0.0040)\" d=\"M218 136c55 0 108 -28 108 -89c0 -71 -55 -121 -102 -149c-35 -21 -75 -34 -116 -34c-55 0 -108 28 -108 89c0 71 55 121 102 149c35 21 75 34 116 34z\" fill=\"currentColor\"/>\n",
       "<path transform=\"translate(39.8972, 34.1692) scale(0.0040, -0.0040)\" d=\"M218 136c55 0 108 -28 108 -89c0 -71 -55 -121 -102 -149c-35 -21 -75 -34 -116 -34c-55 0 -108 28 -108 89c0 71 55 121 102 149c35 21 75 34 116 34z\" fill=\"currentColor\"/>\n",
       "<path transform=\"translate(42.7765, 43.1692) scale(0.0040, -0.0040)\" d=\"M218 136c55 0 108 -28 108 -89c0 -71 -55 -121 -102 -149c-35 -21 -75 -34 -116 -34c-55 0 -108 28 -108 89c0 71 55 121 102 149c35 21 75 34 116 34z\" fill=\"currentColor\"/>\n",
       "<rect transform=\"translate(43.8206, 52.1692)\" x=\"-0.0650\" y=\"-3.1900\" width=\"0.1300\" height=\"3.0039\" ry=\"0.0400\" fill=\"currentColor\"/>\n",
       "<path transform=\"translate(42.5814, 52.1692) scale(0.0040, -0.0040)\" d=\"M218 136c55 0 108 -28 108 -89c0 -71 -55 -121 -102 -149c-35 -21 -75 -34 -116 -34c-55 0 -108 28 -108 89c0 71 55 121 102 149c35 21 75 34 116 34z\" fill=\"currentColor\"/>\n",
       "<rect transform=\"translate(43.6743, 61.1692)\" x=\"-0.0650\" y=\"-3.5000\" width=\"0.1300\" height=\"3.3139\" ry=\"0.0400\" fill=\"currentColor\"/>\n",
       "<path transform=\"translate(42.4351, 61.1692) scale(0.0040, -0.0040)\" d=\"M218 136c55 0 108 -28 108 -89c0 -71 -55 -121 -102 -149c-35 -21 -75 -34 -116 -34c-55 0 -108 28 -108 89c0 71 55 121 102 149c35 21 75 34 116 34z\" fill=\"currentColor\"/>\n",
       "<rect transform=\"translate(37.3999, 79.1692)\" x=\"-0.0650\" y=\"-3.5000\" width=\"0.1300\" height=\"3.3139\" ry=\"0.0400\" fill=\"currentColor\"/>\n",
       "<rect transform=\"translate(37.3999, 88.1692)\" x=\"-0.0650\" y=\"-3.5000\" width=\"0.1300\" height=\"3.3139\" ry=\"0.0400\" fill=\"currentColor\"/>\n",
       "<path transform=\"translate(38.1783, 88.1692) scale(0.0040, -0.0040)\" d=\"M218 136c55 0 108 -28 108 -89c0 -71 -55 -121 -102 -149c-35 -21 -75 -34 -116 -34c-55 0 -108 28 -108 89c0 71 55 121 102 149c35 21 75 34 116 34z\" fill=\"currentColor\"/>\n",
       "<rect transform=\"translate(39.4175, 88.1692)\" x=\"-0.0650\" y=\"-3.5000\" width=\"0.1300\" height=\"3.3139\" ry=\"0.0400\" fill=\"currentColor\"/>\n",
       "<rect transform=\"translate(37.3999, 70.1692)\" x=\"-0.0650\" y=\"-3.5000\" width=\"0.1300\" height=\"3.3139\" ry=\"0.0400\" fill=\"currentColor\"/>\n",
       "<rect transform=\"translate(37.3999, 61.1692)\" x=\"-0.0650\" y=\"-3.5000\" width=\"0.1300\" height=\"3.3139\" ry=\"0.0400\" fill=\"currentColor\"/>\n",
       "<rect transform=\"translate(37.3999, 52.1692)\" x=\"-0.0650\" y=\"-3.1900\" width=\"0.1300\" height=\"3.0039\" ry=\"0.0400\" fill=\"currentColor\"/>\n",
       "<rect transform=\"translate(40.6974, 43.1692)\" x=\"-0.0650\" y=\"-3.1900\" width=\"0.1300\" height=\"3.0039\" ry=\"0.0400\" fill=\"currentColor\"/>\n",
       "<path transform=\"translate(39.4582, 43.1692) scale(0.0040, -0.0040)\" d=\"M218 136c55 0 108 -28 108 -89c0 -71 -55 -121 -102 -149c-35 -21 -75 -34 -116 -34c-55 0 -108 28 -108 89c0 71 55 121 102 149c35 21 75 34 116 34z\" fill=\"currentColor\"/>\n",
       "<rect transform=\"translate(40.3448, 52.1692)\" x=\"-0.0650\" y=\"-3.1900\" width=\"0.1300\" height=\"3.0039\" ry=\"0.0400\" fill=\"currentColor\"/>\n",
       "<path transform=\"translate(39.1056, 52.1692) scale(0.0040, -0.0040)\" d=\"M218 136c55 0 108 -28 108 -89c0 -71 -55 -121 -102 -149c-35 -21 -75 -34 -116 -34c-55 0 -108 28 -108 89c0 71 55 121 102 149c35 21 75 34 116 34z\" fill=\"currentColor\"/>\n",
       "<rect transform=\"translate(40.0540, 61.1692)\" x=\"-0.0650\" y=\"-3.5000\" width=\"0.1300\" height=\"3.3139\" ry=\"0.0400\" fill=\"currentColor\"/>\n",
       "<path transform=\"translate(38.8148, 61.1692) scale(0.0040, -0.0040)\" d=\"M218 136c55 0 108 -28 108 -89c0 -71 -55 -121 -102 -149c-35 -21 -75 -34 -116 -34c-55 0 -108 28 -108 89c0 71 55 121 102 149c35 21 75 34 116 34z\" fill=\"currentColor\"/>\n",
       "<rect transform=\"translate(39.8091, 70.1692)\" x=\"-0.0650\" y=\"-3.5000\" width=\"0.1300\" height=\"3.3139\" ry=\"0.0400\" fill=\"currentColor\"/>\n",
       "<path transform=\"translate(38.5698, 70.1692) scale(0.0040, -0.0040)\" d=\"M218 136c55 0 108 -28 108 -89c0 -71 -55 -121 -102 -149c-35 -21 -75 -34 -116 -34c-55 0 -108 28 -108 89c0 71 55 121 102 149c35 21 75 34 116 34z\" fill=\"currentColor\"/>\n",
       "<rect transform=\"translate(39.5994, 79.1692)\" x=\"-0.0650\" y=\"-3.5000\" width=\"0.1300\" height=\"3.3139\" ry=\"0.0400\" fill=\"currentColor\"/>\n",
       "<path transform=\"translate(38.3601, 79.1692) scale(0.0040, -0.0040)\" d=\"M218 136c55 0 108 -28 108 -89c0 -71 -55 -121 -102 -149c-35 -21 -75 -34 -116 -34c-55 0 -108 28 -108 89c0 71 55 121 102 149c35 21 75 34 116 34z\" fill=\"currentColor\"/>\n",
       "<path transform=\"translate(50.9664, 43.1692) scale(0.0040, -0.0040)\" d=\"M218 136c55 0 108 -28 108 -89c0 -71 -55 -121 -102 -149c-35 -21 -75 -34 -116 -34c-55 0 -108 28 -108 89c0 71 55 121 102 149c35 21 75 34 116 34z\" fill=\"currentColor\"/>\n",
       "<path transform=\"translate(50.9664, 52.1692) scale(0.0040, -0.0040)\" d=\"M218 136c55 0 108 -28 108 -89c0 -71 -55 -121 -102 -149c-35 -21 -75 -34 -116 -34c-55 0 -108 28 -108 89c0 71 55 121 102 149c35 21 75 34 116 34z\" fill=\"currentColor\"/>\n",
       "<path transform=\"translate(50.9664, 61.1692) scale(0.0040, -0.0040)\" d=\"M218 136c55 0 108 -28 108 -89c0 -71 -55 -121 -102 -149c-35 -21 -75 -34 -116 -34c-55 0 -108 28 -108 89c0 71 55 121 102 149c35 21 75 34 116 34z\" fill=\"currentColor\"/>\n",
       "<path transform=\"translate(50.9664, 70.1692) scale(0.0040, -0.0040)\" d=\"M218 136c55 0 108 -28 108 -89c0 -71 -55 -121 -102 -149c-35 -21 -75 -34 -116 -34c-55 0 -108 28 -108 89c0 71 55 121 102 149c35 21 75 34 116 34z\" fill=\"currentColor\"/>\n",
       "<path transform=\"translate(50.9664, 79.1692) scale(0.0040, -0.0040)\" d=\"M218 136c55 0 108 -28 108 -89c0 -71 -55 -121 -102 -149c-35 -21 -75 -34 -116 -34c-55 0 -108 28 -108 89c0 71 55 121 102 149c35 21 75 34 116 34z\" fill=\"currentColor\"/>\n",
       "<path transform=\"translate(50.9664, 88.1692) scale(0.0040, -0.0040)\" d=\"M218 136c55 0 108 -28 108 -89c0 -71 -55 -121 -102 -149c-35 -21 -75 -34 -116 -34c-55 0 -108 28 -108 89c0 71 55 121 102 149c35 21 75 34 116 34z\" fill=\"currentColor\"/>\n",
       "<rect transform=\"translate(52.2057, 7.1692)\" x=\"-0.0650\" y=\"-3.5000\" width=\"0.1300\" height=\"3.3139\" ry=\"0.0400\" fill=\"currentColor\"/>\n",
       "<path transform=\"translate(50.9664, 34.1692) scale(0.0040, -0.0040)\" d=\"M218 136c55 0 108 -28 108 -89c0 -71 -55 -121 -102 -149c-35 -21 -75 -34 -116 -34c-55 0 -108 28 -108 89c0 71 55 121 102 149c35 21 75 34 116 34z\" fill=\"currentColor\"/>\n",
       "<rect transform=\"translate(52.2057, 16.1692)\" x=\"-0.0650\" y=\"-3.1900\" width=\"0.1300\" height=\"3.0039\" ry=\"0.0400\" fill=\"currentColor\"/>\n",
       "<rect transform=\"translate(52.2057, 25.1692)\" x=\"-0.0650\" y=\"-3.1900\" width=\"0.1300\" height=\"3.0039\" ry=\"0.0400\" fill=\"currentColor\"/>\n",
       "<path transform=\"translate(50.9664, 25.1692) scale(0.0040, -0.0040)\" d=\"M218 136c55 0 108 -28 108 -89c0 -71 -55 -121 -102 -149c-35 -21 -75 -34 -116 -34c-55 0 -108 28 -108 89c0 71 55 121 102 149c35 21 75 34 116 34z\" fill=\"currentColor\"/>\n",
       "<path transform=\"translate(50.9664, 16.1692) scale(0.0040, -0.0040)\" d=\"M218 136c55 0 108 -28 108 -89c0 -71 -55 -121 -102 -149c-35 -21 -75 -34 -116 -34c-55 0 -108 28 -108 89c0 71 55 121 102 149c35 21 75 34 116 34z\" fill=\"currentColor\"/>\n",
       "<path transform=\"translate(50.9664, 7.1692) scale(0.0040, -0.0040)\" d=\"M218 136c55 0 108 -28 108 -89c0 -71 -55 -121 -102 -149c-35 -21 -75 -34 -116 -34c-55 0 -108 28 -108 89c0 71 55 121 102 149c35 21 75 34 116 34z\" fill=\"currentColor\"/>\n",
       "<rect transform=\"translate(49.6338, 7.1692)\" x=\"-0.0650\" y=\"-3.1900\" width=\"0.1300\" height=\"3.0039\" ry=\"0.0400\" fill=\"currentColor\"/>\n",
       "<path transform=\"translate(48.3945, 7.1692) scale(0.0040, -0.0040)\" d=\"M218 136c55 0 108 -28 108 -89c0 -71 -55 -121 -102 -149c-35 -21 -75 -34 -116 -34c-55 0 -108 28 -108 89c0 71 55 121 102 149c35 21 75 34 116 34z\" fill=\"currentColor\"/>\n",
       "<rect transform=\"translate(48.8112, 16.1692)\" x=\"-0.0650\" y=\"-3.0000\" width=\"0.1300\" height=\"2.8139\" ry=\"0.0400\" fill=\"currentColor\"/>\n",
       "<path transform=\"translate(47.5720, 16.1692) scale(0.0040, -0.0040)\" d=\"M218 136c55 0 108 -28 108 -89c0 -71 -55 -121 -102 -149c-35 -21 -75 -34 -116 -34c-55 0 -108 28 -108 89c0 71 55 121 102 149c35 21 75 34 116 34z\" fill=\"currentColor\"/>\n",
       "<rect transform=\"translate(52.2057, 79.1692)\" x=\"-0.0650\" y=\"-3.5000\" width=\"0.1300\" height=\"3.3139\" ry=\"0.0400\" fill=\"currentColor\"/>\n",
       "<rect transform=\"translate(52.2057, 70.1692)\" x=\"-0.0650\" y=\"-3.5000\" width=\"0.1300\" height=\"3.3139\" ry=\"0.0400\" fill=\"currentColor\"/>\n",
       "<rect transform=\"translate(52.2057, 61.1692)\" x=\"-0.0650\" y=\"-3.5000\" width=\"0.1300\" height=\"3.3139\" ry=\"0.0400\" fill=\"currentColor\"/>\n",
       "<rect transform=\"translate(52.2057, 52.1692)\" x=\"-0.0650\" y=\"-3.1900\" width=\"0.1300\" height=\"3.0039\" ry=\"0.0400\" fill=\"currentColor\"/>\n",
       "<rect transform=\"translate(52.2057, 43.1692)\" x=\"-0.0650\" y=\"-3.1900\" width=\"0.1300\" height=\"3.0039\" ry=\"0.0400\" fill=\"currentColor\"/>\n",
       "<rect transform=\"translate(52.2057, 34.1692)\" x=\"-0.0650\" y=\"-3.1900\" width=\"0.1300\" height=\"3.0039\" ry=\"0.0400\" fill=\"currentColor\"/>\n",
       "<path transform=\"translate(46.4204, 79.1692) scale(0.0040, -0.0040)\" d=\"M218 136c55 0 108 -28 108 -89c0 -71 -55 -121 -102 -149c-35 -21 -75 -34 -116 -34c-55 0 -108 28 -108 89c0 71 55 121 102 149c35 21 75 34 116 34z\" fill=\"currentColor\"/>\n",
       "<path transform=\"translate(46.3755, 88.1692) scale(0.0040, -0.0040)\" d=\"M218 136c55 0 108 -28 108 -89c0 -71 -55 -121 -102 -149c-35 -21 -75 -34 -116 -34c-55 0 -108 28 -108 89c0 71 55 121 102 149c35 21 75 34 116 34z\" fill=\"currentColor\"/>\n",
       "<rect transform=\"translate(47.6147, 88.1692)\" x=\"-0.0650\" y=\"-3.5000\" width=\"0.1300\" height=\"3.3139\" ry=\"0.0400\" fill=\"currentColor\"/>\n",
       "<rect transform=\"translate(47.6596, 79.1692)\" x=\"-0.0650\" y=\"-3.5000\" width=\"0.1300\" height=\"3.3139\" ry=\"0.0400\" fill=\"currentColor\"/>\n",
       "<path transform=\"translate(46.4752, 70.1692) scale(0.0040, -0.0040)\" d=\"M218 136c55 0 108 -28 108 -89c0 -71 -55 -121 -102 -149c-35 -21 -75 -34 -116 -34c-55 0 -108 28 -108 89c0 71 55 121 102 149c35 21 75 34 116 34z\" fill=\"currentColor\"/>\n",
       "<rect transform=\"translate(47.7144, 70.1692)\" x=\"-0.0650\" y=\"-3.5000\" width=\"0.1300\" height=\"3.3139\" ry=\"0.0400\" fill=\"currentColor\"/>\n",
       "<rect transform=\"translate(47.1661, 7.1692)\" x=\"-0.0650\" y=\"-3.1900\" width=\"0.1300\" height=\"3.0039\" ry=\"0.0400\" fill=\"currentColor\"/>\n",
       "<path transform=\"translate(45.9268, 7.1692) scale(0.0040, -0.0040)\" d=\"M218 136c55 0 108 -28 108 -89c0 -71 -55 -121 -102 -149c-35 -21 -75 -34 -116 -34c-55 0 -108 28 -108 89c0 71 55 121 102 149c35 21 75 34 116 34z\" fill=\"currentColor\"/>\n",
       "<rect transform=\"translate(45.5209, 16.1692)\" x=\"-0.0650\" y=\"-3.0000\" width=\"0.1300\" height=\"2.8139\" ry=\"0.0400\" fill=\"currentColor\"/>\n",
       "<path transform=\"translate(44.2817, 16.1692) scale(0.0040, -0.0040)\" d=\"M218 136c55 0 108 -28 108 -89c0 -71 -55 -121 -102 -149c-35 -21 -75 -34 -116 -34c-55 0 -108 28 -108 89c0 71 55 121 102 149c35 21 75 34 116 34z\" fill=\"currentColor\"/>\n",
       "<rect transform=\"translate(44.6984, 25.1692)\" x=\"-0.0650\" y=\"-3.1900\" width=\"0.1300\" height=\"3.0039\" ry=\"0.0400\" fill=\"currentColor\"/>\n",
       "<path transform=\"translate(46.7494, 43.1692) scale(0.0040, -0.0040)\" d=\"M218 136c55 0 108 -28 108 -89c0 -71 -55 -121 -102 -149c-35 -21 -75 -34 -116 -34c-55 0 -108 28 -108 89c0 71 55 121 102 149c35 21 75 34 116 34z\" fill=\"currentColor\"/>\n",
       "<rect transform=\"translate(48.3999, 25.1692)\" x=\"-0.0650\" y=\"-3.1900\" width=\"0.1300\" height=\"3.0039\" ry=\"0.0400\" fill=\"currentColor\"/>\n",
       "<path transform=\"translate(47.1607, 25.1692) scale(0.0040, -0.0040)\" d=\"M218 136c55 0 108 -28 108 -89c0 -71 -55 -121 -102 -149c-35 -21 -75 -34 -116 -34c-55 0 -108 28 -108 89c0 71 55 121 102 149c35 21 75 34 116 34z\" fill=\"currentColor\"/>\n",
       "<rect transform=\"translate(48.1531, 34.1692)\" x=\"-0.0650\" y=\"-3.1900\" width=\"0.1300\" height=\"3.0039\" ry=\"0.0400\" fill=\"currentColor\"/>\n",
       "<path transform=\"translate(46.9139, 34.1692) scale(0.0040, -0.0040)\" d=\"M218 136c55 0 108 -28 108 -89c0 -71 -55 -121 -102 -149c-35 -21 -75 -34 -116 -34c-55 0 -108 28 -108 89c0 71 55 121 102 149c35 21 75 34 116 34z\" fill=\"currentColor\"/>\n",
       "<rect transform=\"translate(47.9886, 43.1692)\" x=\"-0.0650\" y=\"-3.1900\" width=\"0.1300\" height=\"3.0039\" ry=\"0.0400\" fill=\"currentColor\"/>\n",
       "<rect transform=\"translate(47.8711, 52.1692)\" x=\"-0.0650\" y=\"-3.1900\" width=\"0.1300\" height=\"3.0039\" ry=\"0.0400\" fill=\"currentColor\"/>\n",
       "<path transform=\"translate(46.6319, 52.1692) scale(0.0040, -0.0040)\" d=\"M218 136c55 0 108 -28 108 -89c0 -71 -55 -121 -102 -149c-35 -21 -75 -34 -116 -34c-55 0 -108 28 -108 89c0 71 55 121 102 149c35 21 75 34 116 34z\" fill=\"currentColor\"/>\n",
       "<rect transform=\"translate(47.7830, 61.1692)\" x=\"-0.0650\" y=\"-3.5000\" width=\"0.1300\" height=\"3.3139\" ry=\"0.0400\" fill=\"currentColor\"/>\n",
       "<path transform=\"translate(46.5438, 61.1692) scale(0.0040, -0.0040)\" d=\"M218 136c55 0 108 -28 108 -89c0 -71 -55 -121 -102 -149c-35 -21 -75 -34 -116 -34c-55 0 -108 28 -108 89c0 71 55 121 102 149c35 21 75 34 116 34z\" fill=\"currentColor\"/>\n",
       "<line transform=\"translate(60.1482, 2.3292)\" stroke-linejoin=\"round\" stroke-linecap=\"round\" stroke-width=\"0.1600\" stroke=\"currentColor\" x1=\"6.9439\" y1=\"-0.0000\" x2=\"6.9439\" y2=\"0.7000\"/>\n",
       "<line transform=\"translate(60.1482, 2.3292)\" stroke-linejoin=\"round\" stroke-linecap=\"round\" stroke-width=\"0.1600\" stroke=\"currentColor\" x1=\"-0.2000\" y1=\"-0.0000\" x2=\"-0.2000\" y2=\"0.7000\"/>\n",
       "<line transform=\"translate(60.1482, 2.3292)\" stroke-linejoin=\"round\" stroke-linecap=\"round\" stroke-width=\"0.1600\" stroke=\"currentColor\" x1=\"6.9439\" y1=\"-0.0000\" x2=\"5.1499\" y2=\"-0.0000\"/>\n",
       "<line transform=\"translate(60.1482, 2.3292)\" stroke-linejoin=\"round\" stroke-linecap=\"round\" stroke-width=\"0.1600\" stroke=\"currentColor\" x1=\"-0.2000\" y1=\"-0.0000\" x2=\"1.7940\" y2=\"-0.0000\"/>\n",
       "<text transform=\"translate(58.1124, 74.9267)\" font-family=\"serif\" font-style=\"italic\" font-size=\"1.7461\" text-anchor=\"start\" fill=\"currentColor\">\n",
       "<tspan>16:9</tspan>\n",
       "</text>\n",
       "<line transform=\"translate(54.5498, 65.3292)\" stroke-linejoin=\"round\" stroke-linecap=\"round\" stroke-width=\"0.1600\" stroke=\"currentColor\" x1=\"10.8275\" y1=\"-0.0000\" x2=\"10.8275\" y2=\"0.7000\"/>\n",
       "<line transform=\"translate(54.5498, 65.3292)\" stroke-linejoin=\"round\" stroke-linecap=\"round\" stroke-width=\"0.1600\" stroke=\"currentColor\" x1=\"-0.2000\" y1=\"-0.0000\" x2=\"-0.2000\" y2=\"0.7000\"/>\n",
       "<line transform=\"translate(54.5498, 65.3292)\" stroke-linejoin=\"round\" stroke-linecap=\"round\" stroke-width=\"0.1600\" stroke=\"currentColor\" x1=\"10.8275\" y1=\"-0.0000\" x2=\"7.0917\" y2=\"-0.0000\"/>\n",
       "<line transform=\"translate(54.5498, 65.3292)\" stroke-linejoin=\"round\" stroke-linecap=\"round\" stroke-width=\"0.1600\" stroke=\"currentColor\" x1=\"-0.2000\" y1=\"-0.0000\" x2=\"3.7358\" y2=\"-0.0000\"/>\n",
       "<text transform=\"translate(58.6856, 65.9096)\" font-family=\"serif\" font-style=\"italic\" font-size=\"1.7461\" text-anchor=\"start\" fill=\"currentColor\">\n",
       "<tspan>1:1</tspan>\n",
       "</text>\n",
       "<line transform=\"translate(54.7948, 56.3292)\" stroke-linejoin=\"round\" stroke-linecap=\"round\" stroke-width=\"0.1600\" stroke=\"currentColor\" x1=\"10.6438\" y1=\"-0.0000\" x2=\"10.6438\" y2=\"0.7000\"/>\n",
       "<line transform=\"translate(54.7948, 56.3292)\" stroke-linejoin=\"round\" stroke-linecap=\"round\" stroke-width=\"0.1600\" stroke=\"currentColor\" x1=\"-0.2000\" y1=\"-0.0000\" x2=\"-0.2000\" y2=\"0.7000\"/>\n",
       "<line transform=\"translate(54.7948, 56.3292)\" stroke-linejoin=\"round\" stroke-linecap=\"round\" stroke-width=\"0.1600\" stroke=\"currentColor\" x1=\"10.6438\" y1=\"-0.0000\" x2=\"6.9998\" y2=\"-0.0000\"/>\n",
       "<line transform=\"translate(54.7948, 56.3292)\" stroke-linejoin=\"round\" stroke-linecap=\"round\" stroke-width=\"0.1600\" stroke=\"currentColor\" x1=\"-0.2000\" y1=\"-0.0000\" x2=\"3.6439\" y2=\"-0.0000\"/>\n",
       "<text transform=\"translate(58.8387, 56.9096)\" font-family=\"serif\" font-style=\"italic\" font-size=\"1.7461\" text-anchor=\"start\" fill=\"currentColor\">\n",
       "<tspan>8:7</tspan>\n",
       "</text>\n",
       "<line transform=\"translate(55.0856, 47.6392)\" stroke-linejoin=\"round\" stroke-linecap=\"round\" stroke-width=\"0.1600\" stroke=\"currentColor\" x1=\"10.4316\" y1=\"-0.0000\" x2=\"10.4316\" y2=\"0.7000\"/>\n",
       "<line transform=\"translate(55.0856, 47.6392)\" stroke-linejoin=\"round\" stroke-linecap=\"round\" stroke-width=\"0.1600\" stroke=\"currentColor\" x1=\"-0.2000\" y1=\"-0.0000\" x2=\"-0.2000\" y2=\"0.7000\"/>\n",
       "<line transform=\"translate(55.0856, 47.6392)\" stroke-linejoin=\"round\" stroke-linecap=\"round\" stroke-width=\"0.1600\" stroke=\"currentColor\" x1=\"10.4316\" y1=\"-0.0000\" x2=\"6.8938\" y2=\"-0.0000\"/>\n",
       "<line transform=\"translate(55.0856, 47.6392)\" stroke-linejoin=\"round\" stroke-linecap=\"round\" stroke-width=\"0.1600\" stroke=\"currentColor\" x1=\"-0.2000\" y1=\"-0.0000\" x2=\"3.5379\" y2=\"-0.0000\"/>\n",
       "<text transform=\"translate(59.0235, 48.2196)\" font-family=\"serif\" font-style=\"italic\" font-size=\"1.7461\" text-anchor=\"start\" fill=\"currentColor\">\n",
       "<tspan>4:3</tspan>\n",
       "</text>\n",
       "<line transform=\"translate(55.4382, 38.6392)\" stroke-linejoin=\"round\" stroke-linecap=\"round\" stroke-width=\"0.1600\" stroke=\"currentColor\" x1=\"10.1841\" y1=\"0.0000\" x2=\"10.1841\" y2=\"0.7000\"/>\n",
       "<line transform=\"translate(55.4382, 38.6392)\" stroke-linejoin=\"round\" stroke-linecap=\"round\" stroke-width=\"0.1600\" stroke=\"currentColor\" x1=\"-0.2000\" y1=\"-0.0000\" x2=\"-0.2000\" y2=\"0.7000\"/>\n",
       "<line transform=\"translate(55.4382, 38.6392)\" stroke-linejoin=\"round\" stroke-linecap=\"round\" stroke-width=\"0.1600\" stroke=\"currentColor\" x1=\"10.1841\" y1=\"0.0000\" x2=\"6.7700\" y2=\"0.0000\"/>\n",
       "<line transform=\"translate(55.4382, 38.6392)\" stroke-linejoin=\"round\" stroke-linecap=\"round\" stroke-width=\"0.1600\" stroke=\"currentColor\" x1=\"-0.2000\" y1=\"-0.0000\" x2=\"3.4141\" y2=\"0.0000\"/>\n",
       "<text transform=\"translate(59.2523, 39.2367)\" font-family=\"serif\" font-style=\"italic\" font-size=\"1.7461\" text-anchor=\"start\" fill=\"currentColor\">\n",
       "<tspan>8:5</tspan>\n",
       "</text>\n",
       "<line transform=\"translate(55.8772, 29.6392)\" stroke-linejoin=\"round\" stroke-linecap=\"round\" stroke-width=\"0.1600\" stroke=\"currentColor\" x1=\"9.8920\" y1=\"-0.0000\" x2=\"9.8920\" y2=\"0.7000\"/>\n",
       "<line transform=\"translate(55.8772, 29.6392)\" stroke-linejoin=\"round\" stroke-linecap=\"round\" stroke-width=\"0.1600\" stroke=\"currentColor\" x1=\"-0.2000\" y1=\"-0.0000\" x2=\"-0.2000\" y2=\"0.7000\"/>\n",
       "<line transform=\"translate(55.8772, 29.6392)\" stroke-linejoin=\"round\" stroke-linecap=\"round\" stroke-width=\"0.1600\" stroke=\"currentColor\" x1=\"9.8920\" y1=\"-0.0000\" x2=\"6.6239\" y2=\"-0.0000\"/>\n",
       "<line transform=\"translate(55.8772, 29.6392)\" stroke-linejoin=\"round\" stroke-linecap=\"round\" stroke-width=\"0.1600\" stroke=\"currentColor\" x1=\"-0.2000\" y1=\"-0.0000\" x2=\"3.2681\" y2=\"-0.0000\"/>\n",
       "<text transform=\"translate(59.5453, 30.2196)\" font-family=\"serif\" font-style=\"italic\" font-size=\"1.7461\" text-anchor=\"start\" fill=\"currentColor\">\n",
       "<tspan>1:1</tspan>\n",
       "</text>\n",
       "<line transform=\"translate(56.5358, 20.6392)\" stroke-linejoin=\"round\" stroke-linecap=\"round\" stroke-width=\"0.1600\" stroke=\"currentColor\" x1=\"9.4539\" y1=\"0.0000\" x2=\"9.4539\" y2=\"0.7000\"/>\n",
       "<line transform=\"translate(56.5358, 20.6392)\" stroke-linejoin=\"round\" stroke-linecap=\"round\" stroke-width=\"0.1600\" stroke=\"currentColor\" x1=\"-0.2000\" y1=\"-0.0000\" x2=\"-0.2000\" y2=\"0.7000\"/>\n",
       "<line transform=\"translate(56.5358, 20.6392)\" stroke-linejoin=\"round\" stroke-linecap=\"round\" stroke-width=\"0.1600\" stroke=\"currentColor\" x1=\"9.4539\" y1=\"0.0000\" x2=\"6.4049\" y2=\"0.0000\"/>\n",
       "<line transform=\"translate(56.5358, 20.6392)\" stroke-linejoin=\"round\" stroke-linecap=\"round\" stroke-width=\"0.1600\" stroke=\"currentColor\" x1=\"-0.2000\" y1=\"-0.0000\" x2=\"3.0490\" y2=\"0.0000\"/>\n",
       "<text transform=\"translate(59.9848, 21.2196)\" font-family=\"serif\" font-style=\"italic\" font-size=\"1.7461\" text-anchor=\"start\" fill=\"currentColor\">\n",
       "<tspan>4:3</tspan>\n",
       "</text>\n",
       "<line transform=\"translate(57.6805, 11.6392)\" stroke-linejoin=\"round\" stroke-linecap=\"round\" stroke-width=\"0.1600\" stroke=\"currentColor\" x1=\"8.6767\" y1=\"-0.0000\" x2=\"8.6767\" y2=\"0.7000\"/>\n",
       "<line transform=\"translate(57.6805, 11.6392)\" stroke-linejoin=\"round\" stroke-linecap=\"round\" stroke-width=\"0.1600\" stroke=\"currentColor\" x1=\"-0.2000\" y1=\"-0.0000\" x2=\"-0.2000\" y2=\"0.7000\"/>\n",
       "<line transform=\"translate(57.6805, 11.6392)\" stroke-linejoin=\"round\" stroke-linecap=\"round\" stroke-width=\"0.1600\" stroke=\"currentColor\" x1=\"8.6767\" y1=\"-0.0000\" x2=\"6.0163\" y2=\"-0.0000\"/>\n",
       "<line transform=\"translate(57.6805, 11.6392)\" stroke-linejoin=\"round\" stroke-linecap=\"round\" stroke-width=\"0.1600\" stroke=\"currentColor\" x1=\"-0.2000\" y1=\"-0.0000\" x2=\"2.6604\" y2=\"-0.0000\"/>\n",
       "<text transform=\"translate(60.7409, 12.2196)\" font-family=\"serif\" font-style=\"italic\" font-size=\"1.7461\" text-anchor=\"start\" fill=\"currentColor\">\n",
       "<tspan>1:1</tspan>\n",
       "</text>\n",
       "<line transform=\"translate(54.3402, 74.3292)\" stroke-linejoin=\"round\" stroke-linecap=\"round\" stroke-width=\"0.1600\" stroke=\"currentColor\" x1=\"10.9882\" y1=\"-0.0000\" x2=\"10.9882\" y2=\"0.7000\"/>\n",
       "<line transform=\"translate(54.3402, 74.3292)\" stroke-linejoin=\"round\" stroke-linecap=\"round\" stroke-width=\"0.1600\" stroke=\"currentColor\" x1=\"-0.2000\" y1=\"-0.0000\" x2=\"-0.2000\" y2=\"0.7000\"/>\n",
       "<line transform=\"translate(54.3402, 74.3292)\" stroke-linejoin=\"round\" stroke-linecap=\"round\" stroke-width=\"0.1600\" stroke=\"currentColor\" x1=\"10.9882\" y1=\"-0.0000\" x2=\"7.6159\" y2=\"-0.0000\"/>\n",
       "<line transform=\"translate(54.3402, 74.3292)\" stroke-linejoin=\"round\" stroke-linecap=\"round\" stroke-width=\"0.1600\" stroke=\"currentColor\" x1=\"-0.2000\" y1=\"-0.0000\" x2=\"3.3723\" y2=\"-0.0000\"/>\n",
       "<text transform=\"translate(62.3421, 2.9096)\" font-family=\"serif\" font-style=\"italic\" font-size=\"1.7461\" text-anchor=\"start\" fill=\"currentColor\">\n",
       "<tspan>1:1</tspan>\n",
       "</text>\n",
       "<polygon transform=\"translate(52.1407, 3.6692)\" stroke-linejoin=\"round\" stroke-linecap=\"round\" stroke-width=\"0.0800\" fill=\"currentColor\" stroke=\"currentColor\" points=\"14.7114 -0.2000 14.7114 0.2000 0.0400 0.2000 0.0400 -0.2000\"/>\n",
       "<polygon transform=\"translate(60.1482, 4.4792)\" stroke-linejoin=\"round\" stroke-linecap=\"round\" stroke-width=\"0.0800\" fill=\"currentColor\" stroke=\"currentColor\" points=\"6.7039 -0.2000 6.7039 0.2000 0.0400 0.2000 0.0400 -0.2000\"/>\n",
       "<polygon transform=\"translate(60.1482, 5.2892)\" stroke-linejoin=\"round\" stroke-linecap=\"round\" stroke-width=\"0.0800\" fill=\"currentColor\" stroke=\"currentColor\" points=\"6.7039 -0.2000 6.7039 0.2000 0.0400 0.2000 0.0400 -0.2000\"/>\n",
       "<text transform=\"translate(77.2708, 1.2121)\" font-family=\"serif\" font-style=\"italic\" font-size=\"1.7461\" text-anchor=\"start\" fill=\"currentColor\">\n",
       "<tspan>1:1</tspan>\n",
       "</text>\n",
       "<polygon transform=\"translate(52.1407, 12.9792)\" stroke-linejoin=\"round\" stroke-linecap=\"round\" stroke-width=\"0.0800\" fill=\"currentColor\" stroke=\"currentColor\" points=\"13.9765 -0.2000 13.9765 0.2000 0.0400 0.2000 0.0400 -0.2000\"/>\n",
       "<polygon transform=\"translate(57.6805, 13.7892)\" stroke-linejoin=\"round\" stroke-linecap=\"round\" stroke-width=\"0.0800\" fill=\"currentColor\" stroke=\"currentColor\" points=\"8.4367 -0.2000 8.4367 0.2000 0.0400 0.2000 0.0400 -0.2000\"/>\n",
       "<text transform=\"translate(77.6714, 10.5221)\" font-family=\"serif\" font-style=\"italic\" font-size=\"1.7461\" text-anchor=\"start\" fill=\"currentColor\">\n",
       "<tspan>3</tspan>\n",
       "</text>\n",
       "<polygon transform=\"translate(52.1407, 21.9792)\" stroke-linejoin=\"round\" stroke-linecap=\"round\" stroke-width=\"0.0800\" fill=\"currentColor\" stroke=\"currentColor\" points=\"13.6091 -0.2000 13.6091 0.2000 0.0400 0.2000 0.0400 -0.2000\"/>\n",
       "<polygon transform=\"translate(52.1407, 22.7892)\" stroke-linejoin=\"round\" stroke-linecap=\"round\" stroke-width=\"0.0800\" fill=\"currentColor\" stroke=\"currentColor\" points=\"13.6091 -0.2000 13.6091 0.2000 0.0400 0.2000 0.0400 -0.2000\"/>\n",
       "<text transform=\"translate(76.7706, 19.5050)\" font-family=\"serif\" font-style=\"italic\" font-size=\"1.7461\" text-anchor=\"start\" fill=\"currentColor\">\n",
       "<tspan>1:1</tspan>\n",
       "</text>\n",
       "<polygon transform=\"translate(52.1407, 30.9792)\" stroke-linejoin=\"round\" stroke-linecap=\"round\" stroke-width=\"0.0800\" fill=\"currentColor\" stroke=\"currentColor\" points=\"13.3886 -0.2000 13.3886 0.2000 0.0400 0.2000 0.0400 -0.2000\"/>\n",
       "<polygon transform=\"translate(52.1407, 31.7892)\" stroke-linejoin=\"round\" stroke-linecap=\"round\" stroke-width=\"0.0800\" fill=\"currentColor\" stroke=\"currentColor\" points=\"13.3886 -0.2000 13.3886 0.2000 0.0400 0.2000 0.0400 -0.2000\"/>\n",
       "<text transform=\"translate(77.4047, 28.5050)\" font-family=\"serif\" font-style=\"italic\" font-size=\"1.7461\" text-anchor=\"start\" fill=\"currentColor\">\n",
       "<tspan>5</tspan>\n",
       "</text>\n",
       "<polygon transform=\"translate(52.1407, 39.9792)\" stroke-linejoin=\"round\" stroke-linecap=\"round\" stroke-width=\"0.0800\" fill=\"currentColor\" stroke=\"currentColor\" points=\"13.2416 -0.2000 13.2416 0.2000 0.0400 0.2000 0.0400 -0.2000\"/>\n",
       "<polygon transform=\"translate(52.1407, 40.7892)\" stroke-linejoin=\"round\" stroke-linecap=\"round\" stroke-width=\"0.0800\" fill=\"currentColor\" stroke=\"currentColor\" points=\"1.1250 -0.2000 1.1250 0.2000 0.0400 0.2000 0.0400 -0.2000\"/>\n",
       "<text transform=\"translate(58.3384, 1.1950)\" font-family=\"serif\" font-style=\"italic\" font-size=\"1.7461\" text-anchor=\"start\" fill=\"currentColor\">\n",
       "<tspan>1:1</tspan>\n",
       "</text>\n",
       "<text transform=\"translate(58.7050, 10.5050)\" font-family=\"serif\" font-style=\"italic\" font-size=\"1.7461\" text-anchor=\"start\" fill=\"currentColor\">\n",
       "<tspan>3</tspan>\n",
       "</text>\n",
       "<text transform=\"translate(57.7872, 19.5050)\" font-family=\"serif\" font-style=\"italic\" font-size=\"1.7461\" text-anchor=\"start\" fill=\"currentColor\">\n",
       "<tspan>1:1</tspan>\n",
       "</text>\n",
       "<text transform=\"translate(58.4111, 28.4879)\" font-family=\"serif\" font-style=\"italic\" font-size=\"1.7461\" text-anchor=\"start\" fill=\"currentColor\">\n",
       "<tspan>5</tspan>\n",
       "</text>\n",
       "<text transform=\"translate(58.3376, 37.4879)\" font-family=\"serif\" font-style=\"italic\" font-size=\"1.7461\" text-anchor=\"start\" fill=\"currentColor\">\n",
       "<tspan>3</tspan>\n",
       "</text>\n",
       "<text transform=\"translate(58.2851, 46.4709)\" font-family=\"serif\" font-style=\"italic\" font-size=\"1.7461\" text-anchor=\"start\" fill=\"currentColor\">\n",
       "<tspan>7</tspan>\n",
       "</text>\n",
       "<text transform=\"translate(57.5117, 55.1609)\" font-family=\"serif\" font-style=\"italic\" font-size=\"1.7461\" text-anchor=\"start\" fill=\"currentColor\">\n",
       "<tspan>1:1</tspan>\n",
       "</text>\n",
       "<text transform=\"translate(58.2151, 64.2121)\" font-family=\"serif\" font-style=\"italic\" font-size=\"1.7461\" text-anchor=\"start\" fill=\"currentColor\">\n",
       "<tspan>9</tspan>\n",
       "</text>\n",
       "<text transform=\"translate(77.3380, 37.5050)\" font-family=\"serif\" font-style=\"italic\" font-size=\"1.7461\" text-anchor=\"start\" fill=\"currentColor\">\n",
       "<tspan>3</tspan>\n",
       "</text>\n",
       "<text transform=\"translate(58.1906, 73.1609)\" font-family=\"serif\" font-style=\"italic\" font-size=\"1.7461\" text-anchor=\"start\" fill=\"currentColor\">\n",
       "<tspan>5</tspan>\n",
       "</text>\n",
       "<text transform=\"translate(57.7950, 82.1950)\" font-family=\"serif\" font-style=\"italic\" font-size=\"1.7461\" text-anchor=\"start\" fill=\"currentColor\">\n",
       "<tspan>11</tspan>\n",
       "</text>\n",
       "<polygon transform=\"translate(37.3349, 3.9792)\" stroke-linejoin=\"round\" stroke-linecap=\"round\" stroke-width=\"0.0800\" fill=\"currentColor\" stroke=\"currentColor\" points=\"12.3239 -0.2000 12.3239 0.2000 0.0400 0.2000 0.0400 -0.2000\"/>\n",
       "<polygon transform=\"translate(44.6334, 4.7892)\" stroke-linejoin=\"round\" stroke-linecap=\"round\" stroke-width=\"0.0800\" fill=\"currentColor\" stroke=\"currentColor\" points=\"5.0254 -0.2000 5.0254 0.2000 0.0400 0.2000 0.0400 -0.2000\"/>\n",
       "<polygon transform=\"translate(37.3349, 13.1692)\" stroke-linejoin=\"round\" stroke-linecap=\"round\" stroke-width=\"0.0800\" fill=\"currentColor\" stroke=\"currentColor\" points=\"11.5013 -0.2000 11.5013 0.2000 0.0400 0.2000 0.0400 -0.2000\"/>\n",
       "<polygon transform=\"translate(37.3349, 21.9792)\" stroke-linejoin=\"round\" stroke-linecap=\"round\" stroke-width=\"0.0800\" fill=\"currentColor\" stroke=\"currentColor\" points=\"11.0900 -0.2000 11.0900 0.2000 0.0400 0.2000 0.0400 -0.2000\"/>\n",
       "<polygon transform=\"translate(37.3349, 22.7892)\" stroke-linejoin=\"round\" stroke-linecap=\"round\" stroke-width=\"0.0800\" fill=\"currentColor\" stroke=\"currentColor\" points=\"11.0900 -0.2000 11.0900 0.2000 0.0400 0.2000 0.0400 -0.2000\"/>\n",
       "<polygon transform=\"translate(37.3349, 30.9792)\" stroke-linejoin=\"round\" stroke-linecap=\"round\" stroke-width=\"0.0800\" fill=\"currentColor\" stroke=\"currentColor\" points=\"10.8433 -0.2000 10.8433 0.2000 0.0400 0.2000 0.0400 -0.2000\"/>\n",
       "<polygon transform=\"translate(37.3349, 31.7892)\" stroke-linejoin=\"round\" stroke-linecap=\"round\" stroke-width=\"0.0800\" fill=\"currentColor\" stroke=\"currentColor\" points=\"1.1250 -0.2000 1.1250 0.2000 0.0400 0.2000 0.0400 -0.2000\"/>\n",
       "<polygon transform=\"translate(37.3349, 39.9792)\" stroke-linejoin=\"round\" stroke-linecap=\"round\" stroke-width=\"0.0800\" fill=\"currentColor\" stroke=\"currentColor\" points=\"10.6788 -0.2000 10.6788 0.2000 0.0400 0.2000 0.0400 -0.2000\"/>\n",
       "<polygon transform=\"translate(37.3349, 40.7892)\" stroke-linejoin=\"round\" stroke-linecap=\"round\" stroke-width=\"0.0800\" fill=\"currentColor\" stroke=\"currentColor\" points=\"1.1250 -0.2000 1.1250 0.2000 0.0400 0.2000 0.0400 -0.2000\"/>\n",
       "<polygon transform=\"translate(37.3349, 48.9792)\" stroke-linejoin=\"round\" stroke-linecap=\"round\" stroke-width=\"0.0800\" fill=\"currentColor\" stroke=\"currentColor\" points=\"10.5612 -0.2000 10.5612 0.2000 0.0400 0.2000 0.0400 -0.2000\"/>\n",
       "<polygon transform=\"translate(37.3349, 49.7892)\" stroke-linejoin=\"round\" stroke-linecap=\"round\" stroke-width=\"0.0800\" fill=\"currentColor\" stroke=\"currentColor\" points=\"1.1250 -0.2000 1.1250 0.2000 0.0400 0.2000 0.0400 -0.2000\"/>\n",
       "<polygon transform=\"translate(37.3349, 57.6692)\" stroke-linejoin=\"round\" stroke-linecap=\"round\" stroke-width=\"0.0800\" fill=\"currentColor\" stroke=\"currentColor\" points=\"10.4731 -0.2000 10.4731 0.2000 0.0400 0.2000 0.0400 -0.2000\"/>\n",
       "<polygon transform=\"translate(37.3349, 58.4792)\" stroke-linejoin=\"round\" stroke-linecap=\"round\" stroke-width=\"0.0800\" fill=\"currentColor\" stroke=\"currentColor\" points=\"1.1250 -0.2000 1.1250 0.2000 0.0400 0.2000 0.0400 -0.2000\"/>\n",
       "<polygon transform=\"translate(37.3349, 59.2892)\" stroke-linejoin=\"round\" stroke-linecap=\"round\" stroke-width=\"0.0800\" fill=\"currentColor\" stroke=\"currentColor\" points=\"1.1250 -0.2000 1.1250 0.2000 0.0400 0.2000 0.0400 -0.2000\"/>\n",
       "<polygon transform=\"translate(37.3349, 66.6692)\" stroke-linejoin=\"round\" stroke-linecap=\"round\" stroke-width=\"0.0800\" fill=\"currentColor\" stroke=\"currentColor\" points=\"10.4046 -0.2000 10.4046 0.2000 0.0400 0.2000 0.0400 -0.2000\"/>\n",
       "<polygon transform=\"translate(37.3349, 67.4792)\" stroke-linejoin=\"round\" stroke-linecap=\"round\" stroke-width=\"0.0800\" fill=\"currentColor\" stroke=\"currentColor\" points=\"1.1250 -0.2000 1.1250 0.2000 0.0400 0.2000 0.0400 -0.2000\"/>\n",
       "<polygon transform=\"translate(37.3349, 68.2892)\" stroke-linejoin=\"round\" stroke-linecap=\"round\" stroke-width=\"0.0800\" fill=\"currentColor\" stroke=\"currentColor\" points=\"1.1250 -0.2000 1.1250 0.2000 0.0400 0.2000 0.0400 -0.2000\"/>\n",
       "<polygon transform=\"translate(37.3349, 75.6692)\" stroke-linejoin=\"round\" stroke-linecap=\"round\" stroke-width=\"0.0800\" fill=\"currentColor\" stroke=\"currentColor\" points=\"10.3497 -0.2000 10.3497 0.2000 0.0400 0.2000 0.0400 -0.2000\"/>\n",
       "<polygon transform=\"translate(37.3349, 76.4792)\" stroke-linejoin=\"round\" stroke-linecap=\"round\" stroke-width=\"0.0800\" fill=\"currentColor\" stroke=\"currentColor\" points=\"1.1250 -0.2000 1.1250 0.2000 0.0400 0.2000 0.0400 -0.2000\"/>\n",
       "<polygon transform=\"translate(37.3349, 77.2892)\" stroke-linejoin=\"round\" stroke-linecap=\"round\" stroke-width=\"0.0800\" fill=\"currentColor\" stroke=\"currentColor\" points=\"1.1250 -0.2000 1.1250 0.2000 0.0400 0.2000 0.0400 -0.2000\"/>\n",
       "<polygon transform=\"translate(37.3349, 84.6692)\" stroke-linejoin=\"round\" stroke-linecap=\"round\" stroke-width=\"0.0800\" fill=\"currentColor\" stroke=\"currentColor\" points=\"10.3049 -0.2000 10.3049 0.2000 0.0400 0.2000 0.0400 -0.2000\"/>\n",
       "<polygon transform=\"translate(37.3349, 85.4792)\" stroke-linejoin=\"round\" stroke-linecap=\"round\" stroke-width=\"0.0800\" fill=\"currentColor\" stroke=\"currentColor\" points=\"1.1250 -0.2000 1.1250 0.2000 0.0400 0.2000 0.0400 -0.2000\"/>\n",
       "<polygon transform=\"translate(37.3349, 86.2892)\" stroke-linejoin=\"round\" stroke-linecap=\"round\" stroke-width=\"0.0800\" fill=\"currentColor\" stroke=\"currentColor\" points=\"1.1250 -0.2000 1.1250 0.2000 0.0400 0.2000 0.0400 -0.2000\"/>\n",
       "<line transform=\"translate(54.1583, 83.3292)\" stroke-linejoin=\"round\" stroke-linecap=\"round\" stroke-width=\"0.1600\" stroke=\"currentColor\" x1=\"11.1300\" y1=\"-0.0000\" x2=\"11.1300\" y2=\"0.7000\"/>\n",
       "<line transform=\"translate(54.1583, 83.3292)\" stroke-linejoin=\"round\" stroke-linecap=\"round\" stroke-width=\"0.1600\" stroke=\"currentColor\" x1=\"-0.2000\" y1=\"-0.0000\" x2=\"-0.2000\" y2=\"0.7000\"/>\n",
       "<line transform=\"translate(54.1583, 83.3292)\" stroke-linejoin=\"round\" stroke-linecap=\"round\" stroke-width=\"0.1600\" stroke=\"currentColor\" x1=\"11.1300\" y1=\"-0.0000\" x2=\"7.2429\" y2=\"-0.0000\"/>\n",
       "<line transform=\"translate(54.1583, 83.3292)\" stroke-linejoin=\"round\" stroke-linecap=\"round\" stroke-width=\"0.1600\" stroke=\"currentColor\" x1=\"-0.2000\" y1=\"-0.0000\" x2=\"3.8870\" y2=\"-0.0000\"/>\n",
       "<text transform=\"translate(58.4453, 83.9267)\" font-family=\"serif\" font-style=\"italic\" font-size=\"1.7461\" text-anchor=\"start\" fill=\"currentColor\">\n",
       "<tspan>8:5</tspan>\n",
       "</text>\n",
       "<text transform=\"translate(80.6054, 12.2025)\" font-family=\"serif\" font-style=\"italic\" font-size=\"1.7461\" text-anchor=\"start\" fill=\"currentColor\">\n",
       "<tspan>5</tspan>\n",
       "</text>\n",
       "<line transform=\"translate(78.7313, 2.3292)\" stroke-linejoin=\"round\" stroke-linecap=\"round\" stroke-width=\"0.1600\" stroke=\"currentColor\" x1=\"8.3323\" y1=\"-0.0000\" x2=\"8.3323\" y2=\"0.7000\"/>\n",
       "<line transform=\"translate(78.7313, 2.3292)\" stroke-linejoin=\"round\" stroke-linecap=\"round\" stroke-width=\"0.1600\" stroke=\"currentColor\" x1=\"-0.2000\" y1=\"-0.0000\" x2=\"-0.2000\" y2=\"0.7000\"/>\n",
       "<line transform=\"translate(78.7313, 2.3292)\" stroke-linejoin=\"round\" stroke-linecap=\"round\" stroke-width=\"0.1600\" stroke=\"currentColor\" x1=\"8.3323\" y1=\"-0.0000\" x2=\"5.1100\" y2=\"-0.0000\"/>\n",
       "<line transform=\"translate(78.7313, 2.3292)\" stroke-linejoin=\"round\" stroke-linecap=\"round\" stroke-width=\"0.1600\" stroke=\"currentColor\" x1=\"-0.2000\" y1=\"-0.0000\" x2=\"3.2223\" y2=\"-0.0000\"/>\n",
       "<text transform=\"translate(82.3536, 2.8925)\" font-family=\"serif\" font-style=\"italic\" font-size=\"1.7461\" text-anchor=\"start\" fill=\"currentColor\">\n",
       "<tspan>5</tspan>\n",
       "</text>\n",
       "<text transform=\"translate(96.9846, 1.1950)\" font-family=\"serif\" font-style=\"italic\" font-size=\"1.7461\" text-anchor=\"start\" fill=\"currentColor\">\n",
       "<tspan>1:1</tspan>\n",
       "</text>\n",
       "<text transform=\"translate(97.4130, 10.5050)\" font-family=\"serif\" font-style=\"italic\" font-size=\"1.7461\" text-anchor=\"start\" fill=\"currentColor\">\n",
       "<tspan>3</tspan>\n",
       "</text>\n",
       "<text transform=\"translate(96.5261, 19.1950)\" font-family=\"serif\" font-style=\"italic\" font-size=\"1.7461\" text-anchor=\"start\" fill=\"currentColor\">\n",
       "<tspan>1:1</tspan>\n",
       "</text>\n",
       "<text transform=\"translate(97.1685, 28.4879)\" font-family=\"serif\" font-style=\"italic\" font-size=\"1.7461\" text-anchor=\"start\" fill=\"currentColor\">\n",
       "<tspan>5</tspan>\n",
       "</text>\n",
       "<text transform=\"translate(97.1074, 37.4879)\" font-family=\"serif\" font-style=\"italic\" font-size=\"1.7461\" text-anchor=\"start\" fill=\"currentColor\">\n",
       "<tspan>3</tspan>\n",
       "</text>\n",
       "<text transform=\"translate(97.0637, 46.4709)\" font-family=\"serif\" font-style=\"italic\" font-size=\"1.7461\" text-anchor=\"start\" fill=\"currentColor\">\n",
       "<tspan>7</tspan>\n",
       "</text>\n",
       "<line transform=\"translate(75.9018, 11.6392)\" stroke-linejoin=\"round\" stroke-linecap=\"round\" stroke-width=\"0.1600\" stroke=\"currentColor\" x1=\"10.4950\" y1=\"-0.0000\" x2=\"10.4950\" y2=\"0.7000\"/>\n",
       "<line transform=\"translate(75.9018, 11.6392)\" stroke-linejoin=\"round\" stroke-linecap=\"round\" stroke-width=\"0.1600\" stroke=\"currentColor\" x1=\"-0.2000\" y1=\"-0.0000\" x2=\"-0.2000\" y2=\"0.7000\"/>\n",
       "<line transform=\"translate(75.9018, 11.6392)\" stroke-linejoin=\"round\" stroke-linecap=\"round\" stroke-width=\"0.1600\" stroke=\"currentColor\" x1=\"10.4950\" y1=\"-0.0000\" x2=\"6.1913\" y2=\"-0.0000\"/>\n",
       "<line transform=\"translate(75.9018, 11.6392)\" stroke-linejoin=\"round\" stroke-linecap=\"round\" stroke-width=\"0.1600\" stroke=\"currentColor\" x1=\"-0.2000\" y1=\"-0.0000\" x2=\"4.3036\" y2=\"-0.0000\"/>\n",
       "<text transform=\"translate(96.2969, 55.1779)\" font-family=\"serif\" font-style=\"italic\" font-size=\"1.7461\" text-anchor=\"start\" fill=\"currentColor\">\n",
       "<tspan>1:1</tspan>\n",
       "</text>\n",
       "<text transform=\"translate(97.0055, 64.2121)\" font-family=\"serif\" font-style=\"italic\" font-size=\"1.7461\" text-anchor=\"start\" fill=\"currentColor\">\n",
       "<tspan>9</tspan>\n",
       "</text>\n",
       "<text transform=\"translate(96.9851, 73.1779)\" font-family=\"serif\" font-style=\"italic\" font-size=\"1.7461\" text-anchor=\"start\" fill=\"currentColor\">\n",
       "<tspan>5</tspan>\n",
       "</text>\n",
       "<text transform=\"translate(96.5929, 82.1950)\" font-family=\"serif\" font-style=\"italic\" font-size=\"1.7461\" text-anchor=\"start\" fill=\"currentColor\">\n",
       "<tspan>11</tspan>\n",
       "</text>\n",
       "<polygon transform=\"translate(70.0338, 3.6692)\" stroke-linejoin=\"round\" stroke-linecap=\"round\" stroke-width=\"0.0800\" fill=\"currentColor\" stroke=\"currentColor\" points=\"16.7898 -0.2000 16.7898 0.2000 0.0400 0.2000 0.0400 -0.2000\"/>\n",
       "<polygon transform=\"translate(78.7313, 4.4792)\" stroke-linejoin=\"round\" stroke-linecap=\"round\" stroke-width=\"0.0800\" fill=\"currentColor\" stroke=\"currentColor\" points=\"8.0923 -0.2000 8.0923 0.2000 0.0400 0.2000 0.0400 -0.2000\"/>\n",
       "<polygon transform=\"translate(78.7313, 5.2892)\" stroke-linejoin=\"round\" stroke-linecap=\"round\" stroke-width=\"0.0800\" fill=\"currentColor\" stroke=\"currentColor\" points=\"8.0923 -0.2000 8.0923 0.2000 0.0400 0.2000 0.0400 -0.2000\"/>\n",
       "<polygon transform=\"translate(70.0338, 12.9792)\" stroke-linejoin=\"round\" stroke-linecap=\"round\" stroke-width=\"0.0800\" fill=\"currentColor\" stroke=\"currentColor\" points=\"16.1229 -0.2000 16.1229 0.2000 0.0400 0.2000 0.0400 -0.2000\"/>\n",
       "<polygon transform=\"translate(75.9018, 13.7892)\" stroke-linejoin=\"round\" stroke-linecap=\"round\" stroke-width=\"0.0800\" fill=\"currentColor\" stroke=\"currentColor\" points=\"10.2550 -0.2000 10.2550 0.2000 0.0400 0.2000 0.0400 -0.2000\"/>\n",
       "<polygon transform=\"translate(70.0338, 21.9792)\" stroke-linejoin=\"round\" stroke-linecap=\"round\" stroke-width=\"0.0800\" fill=\"currentColor\" stroke=\"currentColor\" points=\"15.7895 -0.2000 15.7895 0.2000 0.0400 0.2000 0.0400 -0.2000\"/>\n",
       "<polygon transform=\"translate(70.0338, 22.7892)\" stroke-linejoin=\"round\" stroke-linecap=\"round\" stroke-width=\"0.0800\" fill=\"currentColor\" stroke=\"currentColor\" points=\"15.7895 -0.2000 15.7895 0.2000 0.0400 0.2000 0.0400 -0.2000\"/>\n",
       "<polygon transform=\"translate(70.0338, 30.9792)\" stroke-linejoin=\"round\" stroke-linecap=\"round\" stroke-width=\"0.0800\" fill=\"currentColor\" stroke=\"currentColor\" points=\"15.5894 -0.2000 15.5894 0.2000 0.0400 0.2000 0.0400 -0.2000\"/>\n",
       "<polygon transform=\"translate(70.0338, 31.7892)\" stroke-linejoin=\"round\" stroke-linecap=\"round\" stroke-width=\"0.0800\" fill=\"currentColor\" stroke=\"currentColor\" points=\"15.5894 -0.2000 15.5894 0.2000 0.0400 0.2000 0.0400 -0.2000\"/>\n",
       "<polygon transform=\"translate(70.0338, 39.9792)\" stroke-linejoin=\"round\" stroke-linecap=\"round\" stroke-width=\"0.0800\" fill=\"currentColor\" stroke=\"currentColor\" points=\"15.4561 -0.2000 15.4561 0.2000 0.0400 0.2000 0.0400 -0.2000\"/>\n",
       "<polygon transform=\"translate(70.0338, 40.7892)\" stroke-linejoin=\"round\" stroke-linecap=\"round\" stroke-width=\"0.0800\" fill=\"currentColor\" stroke=\"currentColor\" points=\"15.4561 -0.2000 15.4561 0.2000 0.0400 0.2000 0.0400 -0.2000\"/>\n",
       "<polygon transform=\"translate(70.0338, 48.9792)\" stroke-linejoin=\"round\" stroke-linecap=\"round\" stroke-width=\"0.0800\" fill=\"currentColor\" stroke=\"currentColor\" points=\"15.3608 -0.2000 15.3608 0.2000 0.0400 0.2000 0.0400 -0.2000\"/>\n",
       "<polygon transform=\"translate(70.0338, 49.7892)\" stroke-linejoin=\"round\" stroke-linecap=\"round\" stroke-width=\"0.0800\" fill=\"currentColor\" stroke=\"currentColor\" points=\"1.1250 -0.2000 1.1250 0.2000 0.0400 0.2000 0.0400 -0.2000\"/>\n",
       "<polygon transform=\"translate(70.0338, 57.6692)\" stroke-linejoin=\"round\" stroke-linecap=\"round\" stroke-width=\"0.0800\" fill=\"currentColor\" stroke=\"currentColor\" points=\"15.2894 -0.2000 15.2894 0.2000 0.0400 0.2000 0.0400 -0.2000\"/>\n",
       "<polygon transform=\"translate(70.0338, 58.4792)\" stroke-linejoin=\"round\" stroke-linecap=\"round\" stroke-width=\"0.0800\" fill=\"currentColor\" stroke=\"currentColor\" points=\"15.2894 -0.2000 15.2894 0.2000 0.0400 0.2000 0.0400 -0.2000\"/>\n",
       "<polygon transform=\"translate(70.0338, 59.2892)\" stroke-linejoin=\"round\" stroke-linecap=\"round\" stroke-width=\"0.0800\" fill=\"currentColor\" stroke=\"currentColor\" points=\"1.1250 -0.2000 1.1250 0.2000 0.0400 0.2000 0.0400 -0.2000\"/>\n",
       "<polygon transform=\"translate(70.0338, 66.6692)\" stroke-linejoin=\"round\" stroke-linecap=\"round\" stroke-width=\"0.0800\" fill=\"currentColor\" stroke=\"currentColor\" points=\"15.2338 -0.2000 15.2338 0.2000 0.0400 0.2000 0.0400 -0.2000\"/>\n",
       "<polygon transform=\"translate(70.0338, 67.4792)\" stroke-linejoin=\"round\" stroke-linecap=\"round\" stroke-width=\"0.0800\" fill=\"currentColor\" stroke=\"currentColor\" points=\"15.2338 -0.2000 15.2338 0.2000 0.0400 0.2000 0.0400 -0.2000\"/>\n",
       "<polygon transform=\"translate(70.0338, 68.2892)\" stroke-linejoin=\"round\" stroke-linecap=\"round\" stroke-width=\"0.0800\" fill=\"currentColor\" stroke=\"currentColor\" points=\"1.1250 -0.2000 1.1250 0.2000 0.0400 0.2000 0.0400 -0.2000\"/>\n",
       "<line transform=\"translate(72.0515, 83.3292)\" stroke-linejoin=\"round\" stroke-linecap=\"round\" stroke-width=\"0.1600\" stroke=\"currentColor\" x1=\"13.3753\" y1=\"-0.0000\" x2=\"13.3753\" y2=\"0.7000\"/>\n",
       "<line transform=\"translate(72.0515, 83.3292)\" stroke-linejoin=\"round\" stroke-linecap=\"round\" stroke-width=\"0.1600\" stroke=\"currentColor\" x1=\"-0.2000\" y1=\"-0.0000\" x2=\"-0.2000\" y2=\"0.7000\"/>\n",
       "<line transform=\"translate(72.0515, 83.3292)\" stroke-linejoin=\"round\" stroke-linecap=\"round\" stroke-width=\"0.1600\" stroke=\"currentColor\" x1=\"13.3753\" y1=\"-0.0000\" x2=\"8.3656\" y2=\"-0.0000\"/>\n",
       "<line transform=\"translate(72.0515, 83.3292)\" stroke-linejoin=\"round\" stroke-linecap=\"round\" stroke-width=\"0.1600\" stroke=\"currentColor\" x1=\"-0.2000\" y1=\"-0.0000\" x2=\"5.0097\" y2=\"-0.0000\"/>\n",
       "<polygon transform=\"translate(52.1407, 48.9792)\" stroke-linejoin=\"round\" stroke-linecap=\"round\" stroke-width=\"0.0800\" fill=\"currentColor\" stroke=\"currentColor\" points=\"13.1366 -0.2000 13.1366 0.2000 0.0400 0.2000 0.0400 -0.2000\"/>\n",
       "<polygon transform=\"translate(52.1407, 49.7892)\" stroke-linejoin=\"round\" stroke-linecap=\"round\" stroke-width=\"0.0800\" fill=\"currentColor\" stroke=\"currentColor\" points=\"1.1250 -0.2000 1.1250 0.2000 0.0400 0.2000 0.0400 -0.2000\"/>\n",
       "<text transform=\"translate(77.2904, 46.4709)\" font-family=\"serif\" font-style=\"italic\" font-size=\"1.7461\" text-anchor=\"start\" fill=\"currentColor\">\n",
       "<tspan>7</tspan>\n",
       "</text>\n",
       "<polygon transform=\"translate(52.1407, 57.6692)\" stroke-linejoin=\"round\" stroke-linecap=\"round\" stroke-width=\"0.0800\" fill=\"currentColor\" stroke=\"currentColor\" points=\"13.0579 -0.2000 13.0579 0.2000 0.0400 0.2000 0.0400 -0.2000\"/>\n",
       "<polygon transform=\"translate(52.1407, 58.4792)\" stroke-linejoin=\"round\" stroke-linecap=\"round\" stroke-width=\"0.0800\" fill=\"currentColor\" stroke=\"currentColor\" points=\"13.0579 -0.2000 13.0579 0.2000 0.0400 0.2000 0.0400 -0.2000\"/>\n",
       "<polygon transform=\"translate(52.1407, 59.2892)\" stroke-linejoin=\"round\" stroke-linecap=\"round\" stroke-width=\"0.0800\" fill=\"currentColor\" stroke=\"currentColor\" points=\"1.1250 -0.2000 1.1250 0.2000 0.0400 0.2000 0.0400 -0.2000\"/>\n",
       "<text transform=\"translate(76.5206, 55.1609)\" font-family=\"serif\" font-style=\"italic\" font-size=\"1.7461\" text-anchor=\"start\" fill=\"currentColor\">\n",
       "<tspan>1:1</tspan>\n",
       "</text>\n",
       "<polygon transform=\"translate(52.1407, 66.6692)\" stroke-linejoin=\"round\" stroke-linecap=\"round\" stroke-width=\"0.0800\" fill=\"currentColor\" stroke=\"currentColor\" points=\"12.9967 -0.2000 12.9967 0.2000 0.0400 0.2000 0.0400 -0.2000\"/>\n",
       "<polygon transform=\"translate(52.1407, 67.4792)\" stroke-linejoin=\"round\" stroke-linecap=\"round\" stroke-width=\"0.0800\" fill=\"currentColor\" stroke=\"currentColor\" points=\"12.9967 -0.2000 12.9967 0.2000 0.0400 0.2000 0.0400 -0.2000\"/>\n",
       "<polygon transform=\"translate(52.1407, 68.2892)\" stroke-linejoin=\"round\" stroke-linecap=\"round\" stroke-width=\"0.0800\" fill=\"currentColor\" stroke=\"currentColor\" points=\"1.1250 -0.2000 1.1250 0.2000 0.0400 0.2000 0.0400 -0.2000\"/>\n",
       "<text transform=\"translate(77.2269, 64.2292)\" font-family=\"serif\" font-style=\"italic\" font-size=\"1.7461\" text-anchor=\"start\" fill=\"currentColor\">\n",
       "<tspan>9</tspan>\n",
       "</text>\n",
       "<polygon transform=\"translate(52.1407, 75.6692)\" stroke-linejoin=\"round\" stroke-linecap=\"round\" stroke-width=\"0.0800\" fill=\"currentColor\" stroke=\"currentColor\" points=\"12.9477 -0.2000 12.9477 0.2000 0.0400 0.2000 0.0400 -0.2000\"/>\n",
       "<polygon transform=\"translate(52.1407, 76.4792)\" stroke-linejoin=\"round\" stroke-linecap=\"round\" stroke-width=\"0.0800\" fill=\"currentColor\" stroke=\"currentColor\" points=\"1.1250 -0.2000 1.1250 0.2000 0.0400 0.2000 0.0400 -0.2000\"/>\n",
       "<polygon transform=\"translate(52.1407, 77.2892)\" stroke-linejoin=\"round\" stroke-linecap=\"round\" stroke-width=\"0.0800\" fill=\"currentColor\" stroke=\"currentColor\" points=\"1.1250 -0.2000 1.1250 0.2000 0.0400 0.2000 0.0400 -0.2000\"/>\n",
       "<text transform=\"translate(77.2046, 73.1609)\" font-family=\"serif\" font-style=\"italic\" font-size=\"1.7461\" text-anchor=\"start\" fill=\"currentColor\">\n",
       "<tspan>5</tspan>\n",
       "</text>\n",
       "<polygon transform=\"translate(52.1407, 84.6692)\" stroke-linejoin=\"round\" stroke-linecap=\"round\" stroke-width=\"0.0800\" fill=\"currentColor\" stroke=\"currentColor\" points=\"12.9076 -0.2000 12.9076 0.2000 0.0400 0.2000 0.0400 -0.2000\"/>\n",
       "<polygon transform=\"translate(52.1407, 85.4792)\" stroke-linejoin=\"round\" stroke-linecap=\"round\" stroke-width=\"0.0800\" fill=\"currentColor\" stroke=\"currentColor\" points=\"1.1250 -0.2000 1.1250 0.2000 0.0400 0.2000 0.0400 -0.2000\"/>\n",
       "<polygon transform=\"translate(52.1407, 86.2892)\" stroke-linejoin=\"round\" stroke-linecap=\"round\" stroke-width=\"0.0800\" fill=\"currentColor\" stroke=\"currentColor\" points=\"1.1250 -0.2000 1.1250 0.2000 0.0400 0.2000 0.0400 -0.2000\"/>\n",
       "<text transform=\"translate(76.8109, 82.2121)\" font-family=\"serif\" font-style=\"italic\" font-size=\"1.7461\" text-anchor=\"start\" fill=\"currentColor\">\n",
       "<tspan>11</tspan>\n",
       "</text>\n",
       "<text transform=\"translate(77.4612, 83.9096)\" font-family=\"serif\" font-style=\"italic\" font-size=\"1.7461\" text-anchor=\"start\" fill=\"currentColor\">\n",
       "<tspan>1:1</tspan>\n",
       "</text>\n",
       "<line transform=\"translate(72.2333, 74.3292)\" stroke-linejoin=\"round\" stroke-linecap=\"round\" stroke-width=\"0.1600\" stroke=\"currentColor\" x1=\"13.2298\" y1=\"-0.0000\" x2=\"13.2298\" y2=\"0.7000\"/>\n",
       "<line transform=\"translate(72.2333, 74.3292)\" stroke-linejoin=\"round\" stroke-linecap=\"round\" stroke-width=\"0.1600\" stroke=\"currentColor\" x1=\"-0.2000\" y1=\"-0.0000\" x2=\"-0.2000\" y2=\"0.7000\"/>\n",
       "<line transform=\"translate(72.2333, 74.3292)\" stroke-linejoin=\"round\" stroke-linecap=\"round\" stroke-width=\"0.1600\" stroke=\"currentColor\" x1=\"13.2298\" y1=\"-0.0000\" x2=\"8.7367\" y2=\"-0.0000\"/>\n",
       "<line transform=\"translate(72.2333, 74.3292)\" stroke-linejoin=\"round\" stroke-linecap=\"round\" stroke-width=\"0.1600\" stroke=\"currentColor\" x1=\"-0.2000\" y1=\"-0.0000\" x2=\"4.4931\" y2=\"-0.0000\"/>\n",
       "<text transform=\"translate(77.1264, 74.9267)\" font-family=\"serif\" font-style=\"italic\" font-size=\"1.7461\" text-anchor=\"start\" fill=\"currentColor\">\n",
       "<tspan>10:9</tspan>\n",
       "</text>\n",
       "<line transform=\"translate(72.4430, 65.3292)\" stroke-linejoin=\"round\" stroke-linecap=\"round\" stroke-width=\"0.1600\" stroke=\"currentColor\" x1=\"13.0646\" y1=\"-0.0000\" x2=\"13.0646\" y2=\"0.7000\"/>\n",
       "<line transform=\"translate(72.4430, 65.3292)\" stroke-linejoin=\"round\" stroke-linecap=\"round\" stroke-width=\"0.1600\" stroke=\"currentColor\" x1=\"-0.2000\" y1=\"-0.0000\" x2=\"-0.2000\" y2=\"0.7000\"/>\n",
       "<line transform=\"translate(72.4430, 65.3292)\" stroke-linejoin=\"round\" stroke-linecap=\"round\" stroke-width=\"0.1600\" stroke=\"currentColor\" x1=\"13.0646\" y1=\"-0.0000\" x2=\"7.4762\" y2=\"-0.0000\"/>\n",
       "<line transform=\"translate(72.4430, 65.3292)\" stroke-linejoin=\"round\" stroke-linecap=\"round\" stroke-width=\"0.1600\" stroke=\"currentColor\" x1=\"-0.2000\" y1=\"-0.0000\" x2=\"5.5884\" y2=\"-0.0000\"/>\n",
       "<text transform=\"translate(78.4315, 65.8925)\" font-family=\"serif\" font-style=\"italic\" font-size=\"1.7461\" text-anchor=\"start\" fill=\"currentColor\">\n",
       "<tspan>5</tspan>\n",
       "</text>\n",
       "<line transform=\"translate(72.6880, 56.3292)\" stroke-linejoin=\"round\" stroke-linecap=\"round\" stroke-width=\"0.1600\" stroke=\"currentColor\" x1=\"12.8752\" y1=\"-0.0000\" x2=\"12.8752\" y2=\"0.7000\"/>\n",
       "<line transform=\"translate(72.6880, 56.3292)\" stroke-linejoin=\"round\" stroke-linecap=\"round\" stroke-width=\"0.1600\" stroke=\"currentColor\" x1=\"-0.2000\" y1=\"-0.0000\" x2=\"-0.2000\" y2=\"0.7000\"/>\n",
       "<line transform=\"translate(72.6880, 56.3292)\" stroke-linejoin=\"round\" stroke-linecap=\"round\" stroke-width=\"0.1600\" stroke=\"currentColor\" x1=\"12.8752\" y1=\"-0.0000\" x2=\"8.5594\" y2=\"-0.0000\"/>\n",
       "<line transform=\"translate(72.6880, 56.3292)\" stroke-linejoin=\"round\" stroke-linecap=\"round\" stroke-width=\"0.1600\" stroke=\"currentColor\" x1=\"-0.2000\" y1=\"-0.0000\" x2=\"4.3158\" y2=\"-0.0000\"/>\n",
       "<text transform=\"translate(77.4038, 56.9096)\" font-family=\"serif\" font-style=\"italic\" font-size=\"1.7461\" text-anchor=\"start\" fill=\"currentColor\">\n",
       "<tspan>10:7</tspan>\n",
       "</text>\n",
       "<line transform=\"translate(72.9788, 47.6392)\" stroke-linejoin=\"round\" stroke-linecap=\"round\" stroke-width=\"0.1600\" stroke=\"currentColor\" x1=\"12.6558\" y1=\"-0.0000\" x2=\"12.6558\" y2=\"0.7000\"/>\n",
       "<line transform=\"translate(72.9788, 47.6392)\" stroke-linejoin=\"round\" stroke-linecap=\"round\" stroke-width=\"0.1600\" stroke=\"currentColor\" x1=\"-0.2000\" y1=\"-0.0000\" x2=\"-0.2000\" y2=\"0.7000\"/>\n",
       "<line transform=\"translate(72.9788, 47.6392)\" stroke-linejoin=\"round\" stroke-linecap=\"round\" stroke-width=\"0.1600\" stroke=\"currentColor\" x1=\"12.6558\" y1=\"-0.0000\" x2=\"8.0059\" y2=\"-0.0000\"/>\n",
       "<line transform=\"translate(72.9788, 47.6392)\" stroke-linejoin=\"round\" stroke-linecap=\"round\" stroke-width=\"0.1600\" stroke=\"currentColor\" x1=\"-0.2000\" y1=\"-0.0000\" x2=\"4.6500\" y2=\"-0.0000\"/>\n",
       "<text transform=\"translate(78.0288, 48.2196)\" font-family=\"serif\" font-style=\"italic\" font-size=\"1.7461\" text-anchor=\"start\" fill=\"currentColor\">\n",
       "<tspan>5:3</tspan>\n",
       "</text>\n",
       "<line transform=\"translate(73.3314, 38.6392)\" stroke-linejoin=\"round\" stroke-linecap=\"round\" stroke-width=\"0.1600\" stroke=\"currentColor\" x1=\"12.3986\" y1=\"-0.0000\" x2=\"12.3986\" y2=\"0.7000\"/>\n",
       "<line transform=\"translate(73.3314, 38.6392)\" stroke-linejoin=\"round\" stroke-linecap=\"round\" stroke-width=\"0.1600\" stroke=\"currentColor\" x1=\"-0.2000\" y1=\"-0.0000\" x2=\"-0.2000\" y2=\"0.7000\"/>\n",
       "<line transform=\"translate(73.3314, 38.6392)\" stroke-linejoin=\"round\" stroke-linecap=\"round\" stroke-width=\"0.1600\" stroke=\"currentColor\" x1=\"12.3986\" y1=\"-0.0000\" x2=\"7.8772\" y2=\"-0.0000\"/>\n",
       "<line transform=\"translate(73.3314, 38.6392)\" stroke-linejoin=\"round\" stroke-linecap=\"round\" stroke-width=\"0.1600\" stroke=\"currentColor\" x1=\"-0.2000\" y1=\"-0.0000\" x2=\"4.5213\" y2=\"-0.0000\"/>\n",
       "<text transform=\"translate(78.2527, 39.2196)\" font-family=\"serif\" font-style=\"italic\" font-size=\"1.7461\" text-anchor=\"start\" fill=\"currentColor\">\n",
       "<tspan>1:1</tspan>\n",
       "</text>\n",
       "<line transform=\"translate(73.8249, 29.6392)\" stroke-linejoin=\"round\" stroke-linecap=\"round\" stroke-width=\"0.1600\" stroke=\"currentColor\" x1=\"12.0384\" y1=\"-0.0000\" x2=\"12.0384\" y2=\"0.7000\"/>\n",
       "<line transform=\"translate(73.8249, 29.6392)\" stroke-linejoin=\"round\" stroke-linecap=\"round\" stroke-width=\"0.1600\" stroke=\"currentColor\" x1=\"-0.2000\" y1=\"-0.0000\" x2=\"-0.2000\" y2=\"0.7000\"/>\n",
       "<line transform=\"translate(73.8249, 29.6392)\" stroke-linejoin=\"round\" stroke-linecap=\"round\" stroke-width=\"0.1600\" stroke=\"currentColor\" x1=\"12.0384\" y1=\"-0.0000\" x2=\"6.9631\" y2=\"-0.0000\"/>\n",
       "<line transform=\"translate(73.8249, 29.6392)\" stroke-linejoin=\"round\" stroke-linecap=\"round\" stroke-width=\"0.1600\" stroke=\"currentColor\" x1=\"-0.2000\" y1=\"-0.0000\" x2=\"5.0753\" y2=\"-0.0000\"/>\n",
       "<text transform=\"translate(79.3002, 30.2025)\" font-family=\"serif\" font-style=\"italic\" font-size=\"1.7461\" text-anchor=\"start\" fill=\"currentColor\">\n",
       "<tspan>5</tspan>\n",
       "</text>\n",
       "<line transform=\"translate(74.5844, 20.6392)\" stroke-linejoin=\"round\" stroke-linecap=\"round\" stroke-width=\"0.1600\" stroke=\"currentColor\" x1=\"11.4790\" y1=\"0.0000\" x2=\"11.4790\" y2=\"0.7000\"/>\n",
       "<line transform=\"translate(74.5844, 20.6392)\" stroke-linejoin=\"round\" stroke-linecap=\"round\" stroke-width=\"0.1600\" stroke=\"currentColor\" x1=\"-0.2000\" y1=\"-0.0000\" x2=\"-0.2000\" y2=\"0.7000\"/>\n",
       "<line transform=\"translate(74.5844, 20.6392)\" stroke-linejoin=\"round\" stroke-linecap=\"round\" stroke-width=\"0.1600\" stroke=\"currentColor\" x1=\"11.4790\" y1=\"0.0000\" x2=\"7.4174\" y2=\"0.0000\"/>\n",
       "<line transform=\"translate(74.5844, 20.6392)\" stroke-linejoin=\"round\" stroke-linecap=\"round\" stroke-width=\"0.1600\" stroke=\"currentColor\" x1=\"-0.2000\" y1=\"-0.0000\" x2=\"4.0615\" y2=\"0.0000\"/>\n",
       "<text transform=\"translate(79.0459, 21.2196)\" font-family=\"serif\" font-style=\"italic\" font-size=\"1.7461\" text-anchor=\"start\" fill=\"currentColor\">\n",
       "<tspan>5:3</tspan>\n",
       "</text>\n",
       "<line transform=\"translate(24.5735, 37.0042)\" stroke-linejoin=\"round\" stroke-linecap=\"round\" stroke-width=\"0.1600\" stroke=\"currentColor\" x1=\"8.2564\" y1=\"-0.0000\" x2=\"8.2564\" y2=\"0.7000\"/>\n",
       "<line transform=\"translate(24.5735, 37.0042)\" stroke-linejoin=\"round\" stroke-linecap=\"round\" stroke-width=\"0.1600\" stroke=\"currentColor\" x1=\"-0.2000\" y1=\"-0.0000\" x2=\"-0.2000\" y2=\"0.7000\"/>\n",
       "<line transform=\"translate(24.5735, 37.0042)\" stroke-linejoin=\"round\" stroke-linecap=\"round\" stroke-width=\"0.1600\" stroke=\"currentColor\" x1=\"8.2564\" y1=\"-0.0000\" x2=\"5.0721\" y2=\"-0.0000\"/>\n",
       "<line transform=\"translate(24.5735, 37.0042)\" stroke-linejoin=\"round\" stroke-linecap=\"round\" stroke-width=\"0.1600\" stroke=\"currentColor\" x1=\"-0.2000\" y1=\"-0.0000\" x2=\"3.1843\" y2=\"-0.0000\"/>\n",
       "<text transform=\"translate(17.3835, 30.3163)\" font-family=\"serif\" font-style=\"italic\" font-size=\"1.7461\" text-anchor=\"start\" fill=\"currentColor\">\n",
       "<tspan>1:1</tspan>\n",
       "</text>\n",
       "<text transform=\"translate(17.9512, 21.3163)\" font-family=\"serif\" font-style=\"italic\" font-size=\"1.7461\" text-anchor=\"start\" fill=\"currentColor\">\n",
       "<tspan>4:3</tspan>\n",
       "</text>\n",
       "<text transform=\"translate(18.7266, 12.3163)\" font-family=\"serif\" font-style=\"italic\" font-size=\"1.7461\" text-anchor=\"start\" fill=\"currentColor\">\n",
       "<tspan>1:1</tspan>\n",
       "</text>\n",
       "<text transform=\"translate(19.8840, 3.4096)\" font-family=\"serif\" font-style=\"italic\" font-size=\"1.7461\" text-anchor=\"start\" fill=\"currentColor\">\n",
       "<tspan>1:1</tspan>\n",
       "</text>\n",
       "<text transform=\"translate(28.3699, 1.5050)\" font-family=\"serif\" font-style=\"italic\" font-size=\"1.7461\" text-anchor=\"start\" fill=\"currentColor\">\n",
       "<tspan>1:1</tspan>\n",
       "</text>\n",
       "<text transform=\"translate(28.6309, 10.6950)\" font-family=\"serif\" font-style=\"italic\" font-size=\"1.7461\" text-anchor=\"start\" fill=\"currentColor\">\n",
       "<tspan>3</tspan>\n",
       "</text>\n",
       "<text transform=\"translate(27.6603, 19.5050)\" font-family=\"serif\" font-style=\"italic\" font-size=\"1.7461\" text-anchor=\"start\" fill=\"currentColor\">\n",
       "<tspan>1:1</tspan>\n",
       "</text>\n",
       "<text transform=\"translate(28.2524, 28.4879)\" font-family=\"serif\" font-style=\"italic\" font-size=\"1.7461\" text-anchor=\"start\" fill=\"currentColor\">\n",
       "<tspan>5</tspan>\n",
       "</text>\n",
       "<text transform=\"translate(28.1578, 37.5846)\" font-family=\"serif\" font-style=\"italic\" font-size=\"1.7461\" text-anchor=\"start\" fill=\"currentColor\">\n",
       "<tspan>3</tspan>\n",
       "</text>\n",
       "<line transform=\"translate(24.5735, 46.0212)\" stroke-linejoin=\"round\" stroke-linecap=\"round\" stroke-width=\"0.1600\" stroke=\"currentColor\" x1=\"8.1212\" y1=\"-0.0000\" x2=\"8.1212\" y2=\"0.7000\"/>\n",
       "<line transform=\"translate(24.5735, 46.0212)\" stroke-linejoin=\"round\" stroke-linecap=\"round\" stroke-width=\"0.1600\" stroke=\"currentColor\" x1=\"-0.2000\" y1=\"-0.0000\" x2=\"-0.2000\" y2=\"0.7000\"/>\n",
       "<line transform=\"translate(24.5735, 46.0212)\" stroke-linejoin=\"round\" stroke-linecap=\"round\" stroke-width=\"0.1600\" stroke=\"currentColor\" x1=\"8.1212\" y1=\"-0.0000\" x2=\"5.0045\" y2=\"-0.0000\"/>\n",
       "<line transform=\"translate(24.5735, 46.0212)\" stroke-linejoin=\"round\" stroke-linecap=\"round\" stroke-width=\"0.1600\" stroke=\"currentColor\" x1=\"-0.2000\" y1=\"-0.0000\" x2=\"3.1168\" y2=\"-0.0000\"/>\n",
       "<text transform=\"translate(28.0902, 46.5675)\" font-family=\"serif\" font-style=\"italic\" font-size=\"1.7461\" text-anchor=\"start\" fill=\"currentColor\">\n",
       "<tspan>7</tspan>\n",
       "</text>\n",
       "<text transform=\"translate(27.3055, 55.1609)\" font-family=\"serif\" font-style=\"italic\" font-size=\"1.7461\" text-anchor=\"start\" fill=\"currentColor\">\n",
       "<tspan>1:1</tspan>\n",
       "</text>\n",
       "<text transform=\"translate(28.0001, 64.2121)\" font-family=\"serif\" font-style=\"italic\" font-size=\"1.7461\" text-anchor=\"start\" fill=\"currentColor\">\n",
       "<tspan>9</tspan>\n",
       "</text>\n",
       "<line transform=\"translate(24.5735, 73.0042)\" stroke-linejoin=\"round\" stroke-linecap=\"round\" stroke-width=\"0.1600\" stroke=\"currentColor\" x1=\"7.8779\" y1=\"-0.0000\" x2=\"7.8779\" y2=\"0.7000\"/>\n",
       "<line transform=\"translate(24.5735, 73.0042)\" stroke-linejoin=\"round\" stroke-linecap=\"round\" stroke-width=\"0.1600\" stroke=\"currentColor\" x1=\"-0.2000\" y1=\"-0.0000\" x2=\"-0.2000\" y2=\"0.7000\"/>\n",
       "<line transform=\"translate(24.5735, 73.0042)\" stroke-linejoin=\"round\" stroke-linecap=\"round\" stroke-width=\"0.1600\" stroke=\"currentColor\" x1=\"7.8779\" y1=\"-0.0000\" x2=\"4.8828\" y2=\"-0.0000\"/>\n",
       "<line transform=\"translate(24.5735, 73.0042)\" stroke-linejoin=\"round\" stroke-linecap=\"round\" stroke-width=\"0.1600\" stroke=\"currentColor\" x1=\"-0.2000\" y1=\"-0.0000\" x2=\"2.9951\" y2=\"-0.0000\"/>\n",
       "<text transform=\"translate(27.9686, 73.5675)\" font-family=\"serif\" font-style=\"italic\" font-size=\"1.7461\" text-anchor=\"start\" fill=\"currentColor\">\n",
       "<tspan>5</tspan>\n",
       "</text>\n",
       "<line transform=\"translate(24.5735, 82.0042)\" stroke-linejoin=\"round\" stroke-linecap=\"round\" stroke-width=\"0.1600\" stroke=\"currentColor\" x1=\"7.8263\" y1=\"-0.0000\" x2=\"7.8263\" y2=\"0.7000\"/>\n",
       "<line transform=\"translate(24.5735, 82.0042)\" stroke-linejoin=\"round\" stroke-linecap=\"round\" stroke-width=\"0.1600\" stroke=\"currentColor\" x1=\"-0.2000\" y1=\"-0.0000\" x2=\"-0.2000\" y2=\"0.7000\"/>\n",
       "<line transform=\"translate(24.5735, 82.0042)\" stroke-linejoin=\"round\" stroke-linecap=\"round\" stroke-width=\"0.1600\" stroke=\"currentColor\" x1=\"7.8263\" y1=\"-0.0000\" x2=\"5.2326\" y2=\"-0.0000\"/>\n",
       "<line transform=\"translate(24.5735, 82.0042)\" stroke-linejoin=\"round\" stroke-linecap=\"round\" stroke-width=\"0.1600\" stroke=\"currentColor\" x1=\"-0.2000\" y1=\"-0.0000\" x2=\"2.5937\" y2=\"-0.0000\"/>\n",
       "<text transform=\"translate(27.5672, 82.6017)\" font-family=\"serif\" font-style=\"italic\" font-size=\"1.7461\" text-anchor=\"start\" fill=\"currentColor\">\n",
       "<tspan>11</tspan>\n",
       "</text>\n",
       "<line transform=\"translate(26.9409, 83.7358)\" stroke-linejoin=\"round\" stroke-linecap=\"round\" stroke-width=\"0.1600\" stroke=\"currentColor\" x1=\"5.4589\" y1=\"-0.0000\" x2=\"5.4589\" y2=\"0.7000\"/>\n",
       "<line transform=\"translate(26.9409, 83.7358)\" stroke-linejoin=\"round\" stroke-linecap=\"round\" stroke-width=\"0.1600\" stroke=\"currentColor\" x1=\"-0.2000\" y1=\"-0.0000\" x2=\"-0.2000\" y2=\"0.7000\"/>\n",
       "<line transform=\"translate(26.9409, 83.7358)\" stroke-linejoin=\"round\" stroke-linecap=\"round\" stroke-width=\"0.1600\" stroke=\"currentColor\" x1=\"5.4589\" y1=\"-0.0000\" x2=\"4.4074\" y2=\"-0.0000\"/>\n",
       "<line transform=\"translate(26.9409, 83.7358)\" stroke-linejoin=\"round\" stroke-linecap=\"round\" stroke-width=\"0.1600\" stroke=\"currentColor\" x1=\"-0.2000\" y1=\"-0.0000\" x2=\"1.0515\" y2=\"-0.0000\"/>\n",
       "<text transform=\"translate(28.3924, 84.3333)\" font-family=\"serif\" font-style=\"italic\" font-size=\"1.7461\" text-anchor=\"start\" fill=\"currentColor\">\n",
       "<tspan>8:5</tspan>\n",
       "</text>\n",
       "<line transform=\"translate(27.1228, 74.7358)\" stroke-linejoin=\"round\" stroke-linecap=\"round\" stroke-width=\"0.1600\" stroke=\"currentColor\" x1=\"5.3286\" y1=\"-0.0000\" x2=\"5.3286\" y2=\"0.7000\"/>\n",
       "<line transform=\"translate(27.1228, 74.7358)\" stroke-linejoin=\"round\" stroke-linecap=\"round\" stroke-width=\"0.1600\" stroke=\"currentColor\" x1=\"-0.2000\" y1=\"-0.0000\" x2=\"-0.2000\" y2=\"0.7000\"/>\n",
       "<line transform=\"translate(27.1228, 74.7358)\" stroke-linejoin=\"round\" stroke-linecap=\"round\" stroke-width=\"0.1600\" stroke=\"currentColor\" x1=\"5.3286\" y1=\"-0.0000\" x2=\"4.7861\" y2=\"-0.0000\"/>\n",
       "<line transform=\"translate(27.1228, 74.7358)\" stroke-linejoin=\"round\" stroke-linecap=\"round\" stroke-width=\"0.1600\" stroke=\"currentColor\" x1=\"-0.2000\" y1=\"-0.0000\" x2=\"0.5425\" y2=\"-0.0000\"/>\n",
       "<text transform=\"translate(28.0653, 75.3333)\" font-family=\"serif\" font-style=\"italic\" font-size=\"1.7461\" text-anchor=\"start\" fill=\"currentColor\">\n",
       "<tspan>16:9</tspan>\n",
       "</text>\n",
       "<line transform=\"translate(14.4100, 73.0042)\" stroke-linejoin=\"round\" stroke-linecap=\"round\" stroke-width=\"0.1600\" stroke=\"currentColor\" x1=\"2.9524\" y1=\"-0.0000\" x2=\"2.9524\" y2=\"0.7000\"/>\n",
       "<line transform=\"translate(14.4100, 73.0042)\" stroke-linejoin=\"round\" stroke-linecap=\"round\" stroke-width=\"0.1600\" stroke=\"currentColor\" x1=\"-0.2000\" y1=\"-0.0000\" x2=\"-0.2000\" y2=\"0.7000\"/>\n",
       "<line transform=\"translate(14.4100, 73.0042)\" stroke-linejoin=\"round\" stroke-linecap=\"round\" stroke-width=\"0.1600\" stroke=\"currentColor\" x1=\"2.9524\" y1=\"-0.0000\" x2=\"2.4201\" y2=\"-0.0000\"/>\n",
       "<line transform=\"translate(14.4100, 73.0042)\" stroke-linejoin=\"round\" stroke-linecap=\"round\" stroke-width=\"0.1600\" stroke=\"currentColor\" x1=\"-0.2000\" y1=\"-0.0000\" x2=\"0.5324\" y2=\"-0.0000\"/>\n",
       "<text transform=\"translate(16.5905, 1.6950)\" font-family=\"serif\" font-style=\"italic\" font-size=\"1.7461\" text-anchor=\"start\" fill=\"currentColor\">\n",
       "<tspan>1:1</tspan>\n",
       "</text>\n",
       "<line transform=\"translate(14.4100, 10.0212)\" stroke-linejoin=\"round\" stroke-linecap=\"round\" stroke-width=\"0.1600\" stroke=\"currentColor\" x1=\"5.7595\" y1=\"-0.0000\" x2=\"5.7595\" y2=\"0.7000\"/>\n",
       "<line transform=\"translate(14.4100, 10.0212)\" stroke-linejoin=\"round\" stroke-linecap=\"round\" stroke-width=\"0.1600\" stroke=\"currentColor\" x1=\"-0.2000\" y1=\"-0.0000\" x2=\"-0.2000\" y2=\"0.7000\"/>\n",
       "<line transform=\"translate(14.4100, 10.0212)\" stroke-linejoin=\"round\" stroke-linecap=\"round\" stroke-width=\"0.1600\" stroke=\"currentColor\" x1=\"5.7595\" y1=\"-0.0000\" x2=\"3.8236\" y2=\"-0.0000\"/>\n",
       "<line transform=\"translate(14.4100, 10.0212)\" stroke-linejoin=\"round\" stroke-linecap=\"round\" stroke-width=\"0.1600\" stroke=\"currentColor\" x1=\"-0.2000\" y1=\"-0.0000\" x2=\"1.9359\" y2=\"-0.0000\"/>\n",
       "<text transform=\"translate(16.7459, 10.6017)\" font-family=\"serif\" font-style=\"italic\" font-size=\"1.7461\" text-anchor=\"start\" fill=\"currentColor\">\n",
       "<tspan>3</tspan>\n",
       "</text>\n",
       "<line transform=\"translate(14.4100, 19.0212)\" stroke-linejoin=\"round\" stroke-linecap=\"round\" stroke-width=\"0.1600\" stroke=\"currentColor\" x1=\"4.9841\" y1=\"-0.0000\" x2=\"4.9841\" y2=\"0.7000\"/>\n",
       "<line transform=\"translate(14.4100, 19.0212)\" stroke-linejoin=\"round\" stroke-linecap=\"round\" stroke-width=\"0.1600\" stroke=\"currentColor\" x1=\"-0.2000\" y1=\"-0.0000\" x2=\"-0.2000\" y2=\"0.7000\"/>\n",
       "<line transform=\"translate(14.4100, 19.0212)\" stroke-linejoin=\"round\" stroke-linecap=\"round\" stroke-width=\"0.1600\" stroke=\"currentColor\" x1=\"4.9841\" y1=\"-0.0000\" x2=\"4.1700\" y2=\"-0.0000\"/>\n",
       "<line transform=\"translate(14.4100, 19.0212)\" stroke-linejoin=\"round\" stroke-linecap=\"round\" stroke-width=\"0.1600\" stroke=\"currentColor\" x1=\"-0.2000\" y1=\"-0.0000\" x2=\"0.8141\" y2=\"-0.0000\"/>\n",
       "<text transform=\"translate(15.6241, 19.6017)\" font-family=\"serif\" font-style=\"italic\" font-size=\"1.7461\" text-anchor=\"start\" fill=\"currentColor\">\n",
       "<tspan>1:1</tspan>\n",
       "</text>\n",
       "<line transform=\"translate(14.4100, 28.0212)\" stroke-linejoin=\"round\" stroke-linecap=\"round\" stroke-width=\"0.1600\" stroke=\"currentColor\" x1=\"4.4164\" y1=\"-0.0000\" x2=\"4.4164\" y2=\"0.7000\"/>\n",
       "<line transform=\"translate(14.4100, 28.0212)\" stroke-linejoin=\"round\" stroke-linecap=\"round\" stroke-width=\"0.1600\" stroke=\"currentColor\" x1=\"-0.2000\" y1=\"-0.0000\" x2=\"-0.2000\" y2=\"0.7000\"/>\n",
       "<line transform=\"translate(14.4100, 28.0212)\" stroke-linejoin=\"round\" stroke-linecap=\"round\" stroke-width=\"0.1600\" stroke=\"currentColor\" x1=\"4.4164\" y1=\"-0.0000\" x2=\"3.1521\" y2=\"-0.0000\"/>\n",
       "<line transform=\"translate(14.4100, 28.0212)\" stroke-linejoin=\"round\" stroke-linecap=\"round\" stroke-width=\"0.1600\" stroke=\"currentColor\" x1=\"-0.2000\" y1=\"-0.0000\" x2=\"1.2643\" y2=\"-0.0000\"/>\n",
       "<text transform=\"translate(16.0744, 28.5846)\" font-family=\"serif\" font-style=\"italic\" font-size=\"1.7461\" text-anchor=\"start\" fill=\"currentColor\">\n",
       "<tspan>5</tspan>\n",
       "</text>\n",
       "<line transform=\"translate(14.4100, 37.0042)\" stroke-linejoin=\"round\" stroke-linecap=\"round\" stroke-width=\"0.1600\" stroke=\"currentColor\" x1=\"4.0505\" y1=\"-0.0000\" x2=\"4.0505\" y2=\"0.7000\"/>\n",
       "<line transform=\"translate(14.4100, 37.0042)\" stroke-linejoin=\"round\" stroke-linecap=\"round\" stroke-width=\"0.1600\" stroke=\"currentColor\" x1=\"-0.2000\" y1=\"-0.0000\" x2=\"-0.2000\" y2=\"0.7000\"/>\n",
       "<line transform=\"translate(14.4100, 37.0042)\" stroke-linejoin=\"round\" stroke-linecap=\"round\" stroke-width=\"0.1600\" stroke=\"currentColor\" x1=\"4.0505\" y1=\"-0.0000\" x2=\"2.9691\" y2=\"-0.0000\"/>\n",
       "<line transform=\"translate(14.4100, 37.0042)\" stroke-linejoin=\"round\" stroke-linecap=\"round\" stroke-width=\"0.1600\" stroke=\"currentColor\" x1=\"-0.2000\" y1=\"-0.0000\" x2=\"1.0814\" y2=\"-0.0000\"/>\n",
       "<text transform=\"translate(15.8914, 37.5846)\" font-family=\"serif\" font-style=\"italic\" font-size=\"1.7461\" text-anchor=\"start\" fill=\"currentColor\">\n",
       "<tspan>3</tspan>\n",
       "</text>\n",
       "<line transform=\"translate(14.4100, 46.0212)\" stroke-linejoin=\"round\" stroke-linecap=\"round\" stroke-width=\"0.1600\" stroke=\"currentColor\" x1=\"3.6979\" y1=\"-0.0000\" x2=\"3.6979\" y2=\"0.7000\"/>\n",
       "<line transform=\"translate(14.4100, 46.0212)\" stroke-linejoin=\"round\" stroke-linecap=\"round\" stroke-width=\"0.1600\" stroke=\"currentColor\" x1=\"-0.2000\" y1=\"-0.0000\" x2=\"-0.2000\" y2=\"0.7000\"/>\n",
       "<line transform=\"translate(14.4100, 46.0212)\" stroke-linejoin=\"round\" stroke-linecap=\"round\" stroke-width=\"0.1600\" stroke=\"currentColor\" x1=\"3.6979\" y1=\"-0.0000\" x2=\"2.7928\" y2=\"-0.0000\"/>\n",
       "<line transform=\"translate(14.4100, 46.0212)\" stroke-linejoin=\"round\" stroke-linecap=\"round\" stroke-width=\"0.1600\" stroke=\"currentColor\" x1=\"-0.2000\" y1=\"-0.0000\" x2=\"0.9051\" y2=\"-0.0000\"/>\n",
       "<text transform=\"translate(15.7151, 46.5675)\" font-family=\"serif\" font-style=\"italic\" font-size=\"1.7461\" text-anchor=\"start\" fill=\"currentColor\">\n",
       "<tspan>7</tspan>\n",
       "</text>\n",
       "<line transform=\"translate(14.4100, 54.9871)\" stroke-linejoin=\"round\" stroke-linecap=\"round\" stroke-width=\"0.1600\" stroke=\"currentColor\" x1=\"3.3340\" y1=\"-0.0000\" x2=\"3.3340\" y2=\"0.7000\"/>\n",
       "<line transform=\"translate(14.4100, 54.9871)\" stroke-linejoin=\"round\" stroke-linecap=\"round\" stroke-width=\"0.1600\" stroke=\"currentColor\" x1=\"-0.2000\" y1=\"-0.0000\" x2=\"-0.2000\" y2=\"0.7000\"/>\n",
       "<line transform=\"translate(14.4100, 54.9871)\" stroke-linejoin=\"round\" stroke-linecap=\"round\" stroke-width=\"0.1600\" stroke=\"currentColor\" x1=\"3.3340\" y1=\"-0.0000\" x2=\"3.3449\" y2=\"-0.0000\"/>\n",
       "<line transform=\"translate(14.4100, 54.9871)\" stroke-linejoin=\"round\" stroke-linecap=\"round\" stroke-width=\"0.1600\" stroke=\"currentColor\" x1=\"-0.2000\" y1=\"-0.0000\" x2=\"-0.0110\" y2=\"-0.0000\"/>\n",
       "<text transform=\"translate(14.7991, 55.5675)\" font-family=\"serif\" font-style=\"italic\" font-size=\"1.7461\" text-anchor=\"start\" fill=\"currentColor\">\n",
       "<tspan>1:1</tspan>\n",
       "</text>\n",
       "<line transform=\"translate(14.4100, 64.0212)\" stroke-linejoin=\"round\" stroke-linecap=\"round\" stroke-width=\"0.1600\" stroke=\"currentColor\" x1=\"3.0890\" y1=\"-0.0000\" x2=\"3.0890\" y2=\"0.7000\"/>\n",
       "<line transform=\"translate(14.4100, 64.0212)\" stroke-linejoin=\"round\" stroke-linecap=\"round\" stroke-width=\"0.1600\" stroke=\"currentColor\" x1=\"-0.2000\" y1=\"-0.0000\" x2=\"-0.2000\" y2=\"0.7000\"/>\n",
       "<line transform=\"translate(14.4100, 64.0212)\" stroke-linejoin=\"round\" stroke-linecap=\"round\" stroke-width=\"0.1600\" stroke=\"currentColor\" x1=\"3.0890\" y1=\"-0.0000\" x2=\"2.4884\" y2=\"-0.0000\"/>\n",
       "<line transform=\"translate(14.4100, 64.0212)\" stroke-linejoin=\"round\" stroke-linecap=\"round\" stroke-width=\"0.1600\" stroke=\"currentColor\" x1=\"-0.2000\" y1=\"-0.0000\" x2=\"0.6006\" y2=\"-0.0000\"/>\n",
       "<text transform=\"translate(15.4107, 64.6188)\" font-family=\"serif\" font-style=\"italic\" font-size=\"1.7461\" text-anchor=\"start\" fill=\"currentColor\">\n",
       "<tspan>9</tspan>\n",
       "</text>\n",
       "<line transform=\"translate(27.3325, 65.3292)\" stroke-linejoin=\"round\" stroke-linecap=\"round\" stroke-width=\"0.1600\" stroke=\"currentColor\" x1=\"5.1820\" y1=\"-0.0000\" x2=\"5.1820\" y2=\"0.7000\"/>\n",
       "<line transform=\"translate(27.3325, 65.3292)\" stroke-linejoin=\"round\" stroke-linecap=\"round\" stroke-width=\"0.1600\" stroke=\"currentColor\" x1=\"-0.2000\" y1=\"-0.0000\" x2=\"-0.2000\" y2=\"0.7000\"/>\n",
       "<line transform=\"translate(27.3325, 65.3292)\" stroke-linejoin=\"round\" stroke-linecap=\"round\" stroke-width=\"0.1600\" stroke=\"currentColor\" x1=\"5.1820\" y1=\"-0.0000\" x2=\"4.2690\" y2=\"-0.0000\"/>\n",
       "<line transform=\"translate(27.3325, 65.3292)\" stroke-linejoin=\"round\" stroke-linecap=\"round\" stroke-width=\"0.1600\" stroke=\"currentColor\" x1=\"-0.2000\" y1=\"-0.0000\" x2=\"0.9131\" y2=\"-0.0000\"/>\n",
       "<text transform=\"translate(15.3424, 73.5675)\" font-family=\"serif\" font-style=\"italic\" font-size=\"1.7461\" text-anchor=\"start\" fill=\"currentColor\">\n",
       "<tspan>5</tspan>\n",
       "</text>\n",
       "<line transform=\"translate(14.4100, 82.0042)\" stroke-linejoin=\"round\" stroke-linecap=\"round\" stroke-width=\"0.1600\" stroke=\"currentColor\" x1=\"2.7706\" y1=\"-0.0000\" x2=\"2.7706\" y2=\"0.7000\"/>\n",
       "<line transform=\"translate(14.4100, 82.0042)\" stroke-linejoin=\"round\" stroke-linecap=\"round\" stroke-width=\"0.1600\" stroke=\"currentColor\" x1=\"-0.2000\" y1=\"-0.0000\" x2=\"-0.2000\" y2=\"0.7000\"/>\n",
       "<line transform=\"translate(14.4100, 82.0042)\" stroke-linejoin=\"round\" stroke-linecap=\"round\" stroke-width=\"0.1600\" stroke=\"currentColor\" x1=\"2.7706\" y1=\"-0.0000\" x2=\"2.7047\" y2=\"-0.0000\"/>\n",
       "<line transform=\"translate(14.4100, 82.0042)\" stroke-linejoin=\"round\" stroke-linecap=\"round\" stroke-width=\"0.1600\" stroke=\"currentColor\" x1=\"-0.2000\" y1=\"-0.0000\" x2=\"0.0658\" y2=\"-0.0000\"/>\n",
       "<text transform=\"translate(14.8759, 82.6017)\" font-family=\"serif\" font-style=\"italic\" font-size=\"1.7461\" text-anchor=\"start\" fill=\"currentColor\">\n",
       "<tspan>11</tspan>\n",
       "</text>\n",
       "<text transform=\"translate(15.7377, 84.3333)\" font-family=\"serif\" font-style=\"italic\" font-size=\"1.7461\" text-anchor=\"start\" fill=\"currentColor\">\n",
       "<tspan>8:5</tspan>\n",
       "</text>\n",
       "<text transform=\"translate(15.4757, 75.3333)\" font-family=\"serif\" font-style=\"italic\" font-size=\"1.7461\" text-anchor=\"start\" fill=\"currentColor\">\n",
       "<tspan>16:9</tspan>\n",
       "</text>\n",
       "<text transform=\"translate(16.0561, 66.3163)\" font-family=\"serif\" font-style=\"italic\" font-size=\"1.7461\" text-anchor=\"start\" fill=\"currentColor\">\n",
       "<tspan>1:1</tspan>\n",
       "</text>\n",
       "<text transform=\"translate(16.3010, 57.3163)\" font-family=\"serif\" font-style=\"italic\" font-size=\"1.7461\" text-anchor=\"start\" fill=\"currentColor\">\n",
       "<tspan>8:7</tspan>\n",
       "</text>\n",
       "<text transform=\"translate(16.6650, 48.3163)\" font-family=\"serif\" font-style=\"italic\" font-size=\"1.7461\" text-anchor=\"start\" fill=\"currentColor\">\n",
       "<tspan>4:3</tspan>\n",
       "</text>\n",
       "<text transform=\"translate(17.0176, 39.3333)\" font-family=\"serif\" font-style=\"italic\" font-size=\"1.7461\" text-anchor=\"start\" fill=\"currentColor\">\n",
       "<tspan>8:5</tspan>\n",
       "</text>\n",
       "<line transform=\"translate(39.7441, 65.3292)\" stroke-linejoin=\"round\" stroke-linecap=\"round\" stroke-width=\"0.1600\" stroke=\"currentColor\" x1=\"8.2354\" y1=\"-0.0000\" x2=\"8.2354\" y2=\"0.7000\"/>\n",
       "<line transform=\"translate(39.7441, 65.3292)\" stroke-linejoin=\"round\" stroke-linecap=\"round\" stroke-width=\"0.1600\" stroke=\"currentColor\" x1=\"-0.2000\" y1=\"-0.0000\" x2=\"-0.2000\" y2=\"0.7000\"/>\n",
       "<line transform=\"translate(39.7441, 65.3292)\" stroke-linejoin=\"round\" stroke-linecap=\"round\" stroke-width=\"0.1600\" stroke=\"currentColor\" x1=\"8.2354\" y1=\"-0.0000\" x2=\"5.0616\" y2=\"-0.0000\"/>\n",
       "<line transform=\"translate(39.7441, 65.3292)\" stroke-linejoin=\"round\" stroke-linecap=\"round\" stroke-width=\"0.1600\" stroke=\"currentColor\" x1=\"-0.2000\" y1=\"-0.0000\" x2=\"3.1738\" y2=\"-0.0000\"/>\n",
       "<text transform=\"translate(42.1133, 64.2121)\" font-family=\"serif\" font-style=\"italic\" font-size=\"1.7461\" text-anchor=\"start\" fill=\"currentColor\">\n",
       "<tspan>9</tspan>\n",
       "</text>\n",
       "<text transform=\"translate(42.0859, 73.1779)\" font-family=\"serif\" font-style=\"italic\" font-size=\"1.7461\" text-anchor=\"start\" fill=\"currentColor\">\n",
       "<tspan>5</tspan>\n",
       "</text>\n",
       "<text transform=\"translate(41.6879, 82.1950)\" font-family=\"serif\" font-style=\"italic\" font-size=\"1.7461\" text-anchor=\"start\" fill=\"currentColor\">\n",
       "<tspan>11</tspan>\n",
       "</text>\n",
       "<polygon transform=\"translate(24.5735, 3.9792)\" stroke-linejoin=\"round\" stroke-linecap=\"round\" stroke-width=\"0.0800\" fill=\"currentColor\" stroke=\"currentColor\" points=\"9.9087 -0.2000 9.9087 0.2000 0.0400 0.2000 0.0400 -0.2000\"/>\n",
       "<polygon transform=\"translate(31.5537, 4.7892)\" stroke-linejoin=\"round\" stroke-linecap=\"round\" stroke-width=\"0.0800\" fill=\"currentColor\" stroke=\"currentColor\" points=\"2.9285 -0.2000 2.9285 0.2000 0.0400 0.2000 0.0400 -0.2000\"/>\n",
       "<polygon transform=\"translate(24.5735, 13.1692)\" stroke-linejoin=\"round\" stroke-linecap=\"round\" stroke-width=\"0.0800\" fill=\"currentColor\" stroke=\"currentColor\" points=\"8.9626 -0.2000 8.9626 0.2000 0.0400 0.2000 0.0400 -0.2000\"/>\n",
       "<polygon transform=\"translate(24.5735, 21.9792)\" stroke-linejoin=\"round\" stroke-linecap=\"round\" stroke-width=\"0.0800\" fill=\"currentColor\" stroke=\"currentColor\" points=\"8.4895 -0.2000 8.4895 0.2000 0.0400 0.2000 0.0400 -0.2000\"/>\n",
       "<polygon transform=\"translate(24.5735, 22.7892)\" stroke-linejoin=\"round\" stroke-linecap=\"round\" stroke-width=\"0.0800\" fill=\"currentColor\" stroke=\"currentColor\" points=\"1.1250 -0.2000 1.1250 0.2000 0.0400 0.2000 0.0400 -0.2000\"/>\n",
       "<polygon transform=\"translate(24.5735, 30.9792)\" stroke-linejoin=\"round\" stroke-linecap=\"round\" stroke-width=\"0.0800\" fill=\"currentColor\" stroke=\"currentColor\" points=\"8.2056 -0.2000 8.2056 0.2000 0.0400 0.2000 0.0400 -0.2000\"/>\n",
       "<polygon transform=\"translate(24.5735, 31.7892)\" stroke-linejoin=\"round\" stroke-linecap=\"round\" stroke-width=\"0.0800\" fill=\"currentColor\" stroke=\"currentColor\" points=\"1.1250 -0.2000 1.1250 0.2000 0.0400 0.2000 0.0400 -0.2000\"/>\n",
       "<polygon transform=\"translate(24.5735, 57.6692)\" stroke-linejoin=\"round\" stroke-linecap=\"round\" stroke-width=\"0.0800\" fill=\"currentColor\" stroke=\"currentColor\" points=\"7.7799 -0.2000 7.7799 0.2000 0.0400 0.2000 0.0400 -0.2000\"/>\n",
       "<polygon transform=\"translate(24.5735, 58.4792)\" stroke-linejoin=\"round\" stroke-linecap=\"round\" stroke-width=\"0.0800\" fill=\"currentColor\" stroke=\"currentColor\" points=\"1.1250 -0.2000 1.1250 0.2000 0.0400 0.2000 0.0400 -0.2000\"/>\n",
       "<polygon transform=\"translate(24.5735, 59.2892)\" stroke-linejoin=\"round\" stroke-linecap=\"round\" stroke-width=\"0.0800\" fill=\"currentColor\" stroke=\"currentColor\" points=\"1.1250 -0.2000 1.1250 0.2000 0.0400 0.2000 0.0400 -0.2000\"/>\n",
       "<polygon transform=\"translate(24.5735, 66.6692)\" stroke-linejoin=\"round\" stroke-linecap=\"round\" stroke-width=\"0.0800\" fill=\"currentColor\" stroke=\"currentColor\" points=\"7.7010 -0.2000 7.7010 0.2000 0.0400 0.2000 0.0400 -0.2000\"/>\n",
       "<polygon transform=\"translate(24.5735, 67.4792)\" stroke-linejoin=\"round\" stroke-linecap=\"round\" stroke-width=\"0.0800\" fill=\"currentColor\" stroke=\"currentColor\" points=\"1.1250 -0.2000 1.1250 0.2000 0.0400 0.2000 0.0400 -0.2000\"/>\n",
       "<polygon transform=\"translate(24.5735, 68.2892)\" stroke-linejoin=\"round\" stroke-linecap=\"round\" stroke-width=\"0.0800\" fill=\"currentColor\" stroke=\"currentColor\" points=\"1.1250 -0.2000 1.1250 0.2000 0.0400 0.2000 0.0400 -0.2000\"/>\n",
       "<line transform=\"translate(39.3525, 83.3292)\" stroke-linejoin=\"round\" stroke-linecap=\"round\" stroke-width=\"0.1600\" stroke=\"currentColor\" x1=\"8.5272\" y1=\"-0.0000\" x2=\"8.5272\" y2=\"0.7000\"/>\n",
       "<line transform=\"translate(39.3525, 83.3292)\" stroke-linejoin=\"round\" stroke-linecap=\"round\" stroke-width=\"0.1600\" stroke=\"currentColor\" x1=\"-0.2000\" y1=\"-0.0000\" x2=\"-0.2000\" y2=\"0.7000\"/>\n",
       "<line transform=\"translate(39.3525, 83.3292)\" stroke-linejoin=\"round\" stroke-linecap=\"round\" stroke-width=\"0.1600\" stroke=\"currentColor\" x1=\"8.5272\" y1=\"-0.0000\" x2=\"5.9416\" y2=\"-0.0000\"/>\n",
       "<line transform=\"translate(39.3525, 83.3292)\" stroke-linejoin=\"round\" stroke-linecap=\"round\" stroke-width=\"0.1600\" stroke=\"currentColor\" x1=\"-0.2000\" y1=\"-0.0000\" x2=\"2.5857\" y2=\"-0.0000\"/>\n",
       "<text transform=\"translate(42.3382, 83.9267)\" font-family=\"serif\" font-style=\"italic\" font-size=\"1.7461\" text-anchor=\"start\" fill=\"currentColor\">\n",
       "<tspan>6:5</tspan>\n",
       "</text>\n",
       "<line transform=\"translate(39.5344, 74.3292)\" stroke-linejoin=\"round\" stroke-linecap=\"round\" stroke-width=\"0.1600\" stroke=\"currentColor\" x1=\"8.3902\" y1=\"-0.0000\" x2=\"8.3902\" y2=\"0.7000\"/>\n",
       "<line transform=\"translate(39.5344, 74.3292)\" stroke-linejoin=\"round\" stroke-linecap=\"round\" stroke-width=\"0.1600\" stroke=\"currentColor\" x1=\"-0.2000\" y1=\"-0.0000\" x2=\"-0.2000\" y2=\"0.7000\"/>\n",
       "<line transform=\"translate(39.5344, 74.3292)\" stroke-linejoin=\"round\" stroke-linecap=\"round\" stroke-width=\"0.1600\" stroke=\"currentColor\" x1=\"8.3902\" y1=\"-0.0000\" x2=\"5.8731\" y2=\"-0.0000\"/>\n",
       "<line transform=\"translate(39.5344, 74.3292)\" stroke-linejoin=\"round\" stroke-linecap=\"round\" stroke-width=\"0.1600\" stroke=\"currentColor\" x1=\"-0.2000\" y1=\"-0.0000\" x2=\"2.5172\" y2=\"-0.0000\"/>\n",
       "<text transform=\"translate(42.4515, 74.9096)\" font-family=\"serif\" font-style=\"italic\" font-size=\"1.7461\" text-anchor=\"start\" fill=\"currentColor\">\n",
       "<tspan>4:3</tspan>\n",
       "</text>\n",
       "<text transform=\"translate(43.3179, 65.9096)\" font-family=\"serif\" font-style=\"italic\" font-size=\"1.7461\" text-anchor=\"start\" fill=\"currentColor\">\n",
       "<tspan>3</tspan>\n",
       "</text>\n",
       "<line transform=\"translate(39.9890, 56.3292)\" stroke-linejoin=\"round\" stroke-linecap=\"round\" stroke-width=\"0.1600\" stroke=\"currentColor\" x1=\"8.0590\" y1=\"-0.0000\" x2=\"8.0590\" y2=\"0.7000\"/>\n",
       "<line transform=\"translate(39.9890, 56.3292)\" stroke-linejoin=\"round\" stroke-linecap=\"round\" stroke-width=\"0.1600\" stroke=\"currentColor\" x1=\"-0.2000\" y1=\"-0.0000\" x2=\"-0.2000\" y2=\"0.7000\"/>\n",
       "<line transform=\"translate(39.9890, 56.3292)\" stroke-linejoin=\"round\" stroke-linecap=\"round\" stroke-width=\"0.1600\" stroke=\"currentColor\" x1=\"8.0590\" y1=\"-0.0000\" x2=\"6.1513\" y2=\"-0.0000\"/>\n",
       "<line transform=\"translate(39.9890, 56.3292)\" stroke-linejoin=\"round\" stroke-linecap=\"round\" stroke-width=\"0.1600\" stroke=\"currentColor\" x1=\"-0.2000\" y1=\"-0.0000\" x2=\"1.9077\" y2=\"-0.0000\"/>\n",
       "<text transform=\"translate(42.2967, 56.8925)\" font-family=\"serif\" font-style=\"italic\" font-size=\"1.7461\" text-anchor=\"start\" fill=\"currentColor\">\n",
       "<tspan>12:7</tspan>\n",
       "</text>\n",
       "<line transform=\"translate(40.2798, 47.6392)\" stroke-linejoin=\"round\" stroke-linecap=\"round\" stroke-width=\"0.1600\" stroke=\"currentColor\" x1=\"7.8563\" y1=\"-0.0000\" x2=\"7.8563\" y2=\"0.7000\"/>\n",
       "<line transform=\"translate(40.2798, 47.6392)\" stroke-linejoin=\"round\" stroke-linecap=\"round\" stroke-width=\"0.1600\" stroke=\"currentColor\" x1=\"-0.2000\" y1=\"-0.0000\" x2=\"-0.2000\" y2=\"0.7000\"/>\n",
       "<line transform=\"translate(40.2798, 47.6392)\" stroke-linejoin=\"round\" stroke-linecap=\"round\" stroke-width=\"0.1600\" stroke=\"currentColor\" x1=\"7.8563\" y1=\"-0.0000\" x2=\"5.6061\" y2=\"-0.0000\"/>\n",
       "<line transform=\"translate(40.2798, 47.6392)\" stroke-linejoin=\"round\" stroke-linecap=\"round\" stroke-width=\"0.1600\" stroke=\"currentColor\" x1=\"-0.2000\" y1=\"-0.0000\" x2=\"2.2502\" y2=\"-0.0000\"/>\n",
       "<text transform=\"translate(42.9300, 48.2196)\" font-family=\"serif\" font-style=\"italic\" font-size=\"1.7461\" text-anchor=\"start\" fill=\"currentColor\">\n",
       "<tspan>1:1</tspan>\n",
       "</text>\n",
       "<line transform=\"translate(40.6324, 38.6392)\" stroke-linejoin=\"round\" stroke-linecap=\"round\" stroke-width=\"0.1600\" stroke=\"currentColor\" x1=\"7.6212\" y1=\"-0.0000\" x2=\"7.6212\" y2=\"0.7000\"/>\n",
       "<line transform=\"translate(40.6324, 38.6392)\" stroke-linejoin=\"round\" stroke-linecap=\"round\" stroke-width=\"0.1600\" stroke=\"currentColor\" x1=\"-0.2000\" y1=\"-0.0000\" x2=\"-0.2000\" y2=\"0.7000\"/>\n",
       "<line transform=\"translate(40.6324, 38.6392)\" stroke-linejoin=\"round\" stroke-linecap=\"round\" stroke-width=\"0.1600\" stroke=\"currentColor\" x1=\"7.6212\" y1=\"-0.0000\" x2=\"5.4886\" y2=\"-0.0000\"/>\n",
       "<line transform=\"translate(40.6324, 38.6392)\" stroke-linejoin=\"round\" stroke-linecap=\"round\" stroke-width=\"0.1600\" stroke=\"currentColor\" x1=\"-0.2000\" y1=\"-0.0000\" x2=\"2.1327\" y2=\"-0.0000\"/>\n",
       "<text transform=\"translate(43.1651, 39.2367)\" font-family=\"serif\" font-style=\"italic\" font-size=\"1.7461\" text-anchor=\"start\" fill=\"currentColor\">\n",
       "<tspan>6:5</tspan>\n",
       "</text>\n",
       "<line transform=\"translate(41.0714, 29.6392)\" stroke-linejoin=\"round\" stroke-linecap=\"round\" stroke-width=\"0.1600\" stroke=\"currentColor\" x1=\"7.3467\" y1=\"-0.0000\" x2=\"7.3467\" y2=\"0.7000\"/>\n",
       "<line transform=\"translate(41.0714, 29.6392)\" stroke-linejoin=\"round\" stroke-linecap=\"round\" stroke-width=\"0.1600\" stroke=\"currentColor\" x1=\"-0.2000\" y1=\"-0.0000\" x2=\"-0.2000\" y2=\"0.7000\"/>\n",
       "<line transform=\"translate(41.0714, 29.6392)\" stroke-linejoin=\"round\" stroke-linecap=\"round\" stroke-width=\"0.1600\" stroke=\"currentColor\" x1=\"7.3467\" y1=\"-0.0000\" x2=\"4.6172\" y2=\"-0.0000\"/>\n",
       "<line transform=\"translate(41.0714, 29.6392)\" stroke-linejoin=\"round\" stroke-linecap=\"round\" stroke-width=\"0.1600\" stroke=\"currentColor\" x1=\"-0.2000\" y1=\"-0.0000\" x2=\"2.7295\" y2=\"-0.0000\"/>\n",
       "<text transform=\"translate(44.2009, 30.2196)\" font-family=\"serif\" font-style=\"italic\" font-size=\"1.7461\" text-anchor=\"start\" fill=\"currentColor\">\n",
       "<tspan>3</tspan>\n",
       "</text>\n",
       "<line transform=\"translate(41.6391, 20.6392)\" stroke-linejoin=\"round\" stroke-linecap=\"round\" stroke-width=\"0.1600\" stroke=\"currentColor\" x1=\"7.0258\" y1=\"0.0000\" x2=\"7.0258\" y2=\"0.7000\"/>\n",
       "<line transform=\"translate(41.6391, 20.6392)\" stroke-linejoin=\"round\" stroke-linecap=\"round\" stroke-width=\"0.1600\" stroke=\"currentColor\" x1=\"-0.2000\" y1=\"-0.0000\" x2=\"-0.2000\" y2=\"0.7000\"/>\n",
       "<line transform=\"translate(41.6391, 20.6392)\" stroke-linejoin=\"round\" stroke-linecap=\"round\" stroke-width=\"0.1600\" stroke=\"currentColor\" x1=\"7.0258\" y1=\"0.0000\" x2=\"5.1908\" y2=\"0.0000\"/>\n",
       "<line transform=\"translate(41.6391, 20.6392)\" stroke-linejoin=\"round\" stroke-linecap=\"round\" stroke-width=\"0.1600\" stroke=\"currentColor\" x1=\"-0.2000\" y1=\"-0.0000\" x2=\"1.8349\" y2=\"0.0000\"/>\n",
       "<text transform=\"translate(43.8741, 21.2196)\" font-family=\"serif\" font-style=\"italic\" font-size=\"1.7461\" text-anchor=\"start\" fill=\"currentColor\">\n",
       "<tspan>1:1</tspan>\n",
       "</text>\n",
       "<line transform=\"translate(42.5853, 11.8292)\" stroke-linejoin=\"round\" stroke-linecap=\"round\" stroke-width=\"0.1600\" stroke=\"currentColor\" x1=\"6.4909\" y1=\"-0.0000\" x2=\"6.4909\" y2=\"0.7000\"/>\n",
       "<line transform=\"translate(42.5853, 11.8292)\" stroke-linejoin=\"round\" stroke-linecap=\"round\" stroke-width=\"0.1600\" stroke=\"currentColor\" x1=\"-0.2000\" y1=\"-0.0000\" x2=\"-0.2000\" y2=\"0.7000\"/>\n",
       "<line transform=\"translate(42.5853, 11.8292)\" stroke-linejoin=\"round\" stroke-linecap=\"round\" stroke-width=\"0.1600\" stroke=\"currentColor\" x1=\"6.4909\" y1=\"-0.0000\" x2=\"4.1893\" y2=\"-0.0000\"/>\n",
       "<line transform=\"translate(42.5853, 11.8292)\" stroke-linejoin=\"round\" stroke-linecap=\"round\" stroke-width=\"0.1600\" stroke=\"currentColor\" x1=\"-0.2000\" y1=\"-0.0000\" x2=\"2.3016\" y2=\"-0.0000\"/>\n",
       "<text transform=\"translate(45.2869, 12.4096)\" font-family=\"serif\" font-style=\"italic\" font-size=\"1.7461\" text-anchor=\"start\" fill=\"currentColor\">\n",
       "<tspan>3</tspan>\n",
       "</text>\n",
       "<line transform=\"translate(44.6334, 2.6392)\" stroke-linejoin=\"round\" stroke-linecap=\"round\" stroke-width=\"0.1600\" stroke=\"currentColor\" x1=\"5.2654\" y1=\"-0.0000\" x2=\"5.2654\" y2=\"0.7000\"/>\n",
       "<line transform=\"translate(44.6334, 2.6392)\" stroke-linejoin=\"round\" stroke-linecap=\"round\" stroke-width=\"0.1600\" stroke=\"currentColor\" x1=\"-0.2000\" y1=\"-0.0000\" x2=\"-0.2000\" y2=\"0.7000\"/>\n",
       "<line transform=\"translate(44.6334, 2.6392)\" stroke-linejoin=\"round\" stroke-linecap=\"round\" stroke-width=\"0.1600\" stroke=\"currentColor\" x1=\"5.2654\" y1=\"-0.0000\" x2=\"3.5766\" y2=\"-0.0000\"/>\n",
       "<line transform=\"translate(44.6334, 2.6392)\" stroke-linejoin=\"round\" stroke-linecap=\"round\" stroke-width=\"0.1600\" stroke=\"currentColor\" x1=\"-0.2000\" y1=\"-0.0000\" x2=\"1.6888\" y2=\"-0.0000\"/>\n",
       "<text transform=\"translate(46.7222, 3.2196)\" font-family=\"serif\" font-style=\"italic\" font-size=\"1.7461\" text-anchor=\"start\" fill=\"currentColor\">\n",
       "<tspan>3</tspan>\n",
       "</text>\n",
       "<polygon transform=\"translate(14.4100, 4.1692)\" stroke-linejoin=\"round\" stroke-linecap=\"round\" stroke-width=\"0.0800\" fill=\"currentColor\" stroke=\"currentColor\" points=\"6.6769 -0.2000 6.6769 0.2000 0.0400 0.2000 0.0400 -0.2000\"/>\n",
       "<text transform=\"translate(28.6455, 65.9096)\" font-family=\"serif\" font-style=\"italic\" font-size=\"1.7461\" text-anchor=\"start\" fill=\"currentColor\">\n",
       "<tspan>1:1</tspan>\n",
       "</text>\n",
       "<line transform=\"translate(27.5774, 56.3292)\" stroke-linejoin=\"round\" stroke-linecap=\"round\" stroke-width=\"0.1600\" stroke=\"currentColor\" x1=\"5.0159\" y1=\"-0.0000\" x2=\"5.0159\" y2=\"0.7000\"/>\n",
       "<line transform=\"translate(27.5774, 56.3292)\" stroke-linejoin=\"round\" stroke-linecap=\"round\" stroke-width=\"0.1600\" stroke=\"currentColor\" x1=\"-0.2000\" y1=\"-0.0000\" x2=\"-0.2000\" y2=\"0.7000\"/>\n",
       "<line transform=\"translate(27.5774, 56.3292)\" stroke-linejoin=\"round\" stroke-linecap=\"round\" stroke-width=\"0.1600\" stroke=\"currentColor\" x1=\"5.0159\" y1=\"-0.0000\" x2=\"4.1859\" y2=\"-0.0000\"/>\n",
       "<line transform=\"translate(27.5774, 56.3292)\" stroke-linejoin=\"round\" stroke-linecap=\"round\" stroke-width=\"0.1600\" stroke=\"currentColor\" x1=\"-0.2000\" y1=\"-0.0000\" x2=\"0.8300\" y2=\"-0.0000\"/>\n",
       "<text transform=\"translate(28.8074, 56.9096)\" font-family=\"serif\" font-style=\"italic\" font-size=\"1.7461\" text-anchor=\"start\" fill=\"currentColor\">\n",
       "<tspan>8:7</tspan>\n",
       "</text>\n",
       "<line transform=\"translate(27.8683, 47.7358)\" stroke-linejoin=\"round\" stroke-linecap=\"round\" stroke-width=\"0.1600\" stroke=\"currentColor\" x1=\"4.8264\" y1=\"-0.0000\" x2=\"4.8264\" y2=\"0.7000\"/>\n",
       "<line transform=\"translate(27.8683, 47.7358)\" stroke-linejoin=\"round\" stroke-linecap=\"round\" stroke-width=\"0.1600\" stroke=\"currentColor\" x1=\"-0.2000\" y1=\"-0.0000\" x2=\"-0.2000\" y2=\"0.7000\"/>\n",
       "<line transform=\"translate(27.8683, 47.7358)\" stroke-linejoin=\"round\" stroke-linecap=\"round\" stroke-width=\"0.1600\" stroke=\"currentColor\" x1=\"4.8264\" y1=\"-0.0000\" x2=\"4.0912\" y2=\"-0.0000\"/>\n",
       "<line transform=\"translate(27.8683, 47.7358)\" stroke-linejoin=\"round\" stroke-linecap=\"round\" stroke-width=\"0.1600\" stroke=\"currentColor\" x1=\"-0.2000\" y1=\"-0.0000\" x2=\"0.7353\" y2=\"-0.0000\"/>\n",
       "<text transform=\"translate(29.0035, 48.3163)\" font-family=\"serif\" font-style=\"italic\" font-size=\"1.7461\" text-anchor=\"start\" fill=\"currentColor\">\n",
       "<tspan>4:3</tspan>\n",
       "</text>\n",
       "<line transform=\"translate(28.2208, 38.7358)\" stroke-linejoin=\"round\" stroke-linecap=\"round\" stroke-width=\"0.1600\" stroke=\"currentColor\" x1=\"4.6091\" y1=\"-0.0000\" x2=\"4.6091\" y2=\"0.7000\"/>\n",
       "<line transform=\"translate(28.2208, 38.7358)\" stroke-linejoin=\"round\" stroke-linecap=\"round\" stroke-width=\"0.1600\" stroke=\"currentColor\" x1=\"-0.2000\" y1=\"-0.0000\" x2=\"-0.2000\" y2=\"0.7000\"/>\n",
       "<line transform=\"translate(28.2208, 38.7358)\" stroke-linejoin=\"round\" stroke-linecap=\"round\" stroke-width=\"0.1600\" stroke=\"currentColor\" x1=\"4.6091\" y1=\"-0.0000\" x2=\"3.9825\" y2=\"-0.0000\"/>\n",
       "<line transform=\"translate(28.2208, 38.7358)\" stroke-linejoin=\"round\" stroke-linecap=\"round\" stroke-width=\"0.1600\" stroke=\"currentColor\" x1=\"-0.2000\" y1=\"-0.0000\" x2=\"0.6266\" y2=\"-0.0000\"/>\n",
       "<text transform=\"translate(29.2474, 39.3333)\" font-family=\"serif\" font-style=\"italic\" font-size=\"1.7461\" text-anchor=\"start\" fill=\"currentColor\">\n",
       "<tspan>8:5</tspan>\n",
       "</text>\n",
       "<line transform=\"translate(28.6599, 29.6392)\" stroke-linejoin=\"round\" stroke-linecap=\"round\" stroke-width=\"0.1600\" stroke=\"currentColor\" x1=\"4.3592\" y1=\"-0.0000\" x2=\"4.3592\" y2=\"0.7000\"/>\n",
       "<line transform=\"translate(28.6599, 29.6392)\" stroke-linejoin=\"round\" stroke-linecap=\"round\" stroke-width=\"0.1600\" stroke=\"currentColor\" x1=\"-0.2000\" y1=\"-0.0000\" x2=\"-0.2000\" y2=\"0.7000\"/>\n",
       "<line transform=\"translate(28.6599, 29.6392)\" stroke-linejoin=\"round\" stroke-linecap=\"round\" stroke-width=\"0.1600\" stroke=\"currentColor\" x1=\"4.3592\" y1=\"-0.0000\" x2=\"3.8576\" y2=\"-0.0000\"/>\n",
       "<line transform=\"translate(28.6599, 29.6392)\" stroke-linejoin=\"round\" stroke-linecap=\"round\" stroke-width=\"0.1600\" stroke=\"currentColor\" x1=\"-0.2000\" y1=\"-0.0000\" x2=\"0.5017\" y2=\"-0.0000\"/>\n",
       "<text transform=\"translate(29.5615, 30.2196)\" font-family=\"serif\" font-style=\"italic\" font-size=\"1.7461\" text-anchor=\"start\" fill=\"currentColor\">\n",
       "<tspan>1:1</tspan>\n",
       "</text>\n",
       "<line transform=\"translate(29.2276, 20.6392)\" stroke-linejoin=\"round\" stroke-linecap=\"round\" stroke-width=\"0.1600\" stroke=\"currentColor\" x1=\"4.0754\" y1=\"-0.0000\" x2=\"4.0754\" y2=\"0.7000\"/>\n",
       "<line transform=\"translate(29.2276, 20.6392)\" stroke-linejoin=\"round\" stroke-linecap=\"round\" stroke-width=\"0.1600\" stroke=\"currentColor\" x1=\"-0.2000\" y1=\"-0.0000\" x2=\"-0.2000\" y2=\"0.7000\"/>\n",
       "<line transform=\"translate(29.2276, 20.6392)\" stroke-linejoin=\"round\" stroke-linecap=\"round\" stroke-width=\"0.1600\" stroke=\"currentColor\" x1=\"4.0754\" y1=\"-0.0000\" x2=\"3.7156\" y2=\"-0.0000\"/>\n",
       "<line transform=\"translate(29.2276, 20.6392)\" stroke-linejoin=\"round\" stroke-linecap=\"round\" stroke-width=\"0.1600\" stroke=\"currentColor\" x1=\"-0.2000\" y1=\"-0.0000\" x2=\"0.3597\" y2=\"-0.0000\"/>\n",
       "<text transform=\"translate(29.9873, 21.2196)\" font-family=\"serif\" font-style=\"italic\" font-size=\"1.7461\" text-anchor=\"start\" fill=\"currentColor\">\n",
       "<tspan>4:3</tspan>\n",
       "</text>\n",
       "<line transform=\"translate(30.0029, 11.8292)\" stroke-linejoin=\"round\" stroke-linecap=\"round\" stroke-width=\"0.1600\" stroke=\"currentColor\" x1=\"3.7731\" y1=\"-0.0000\" x2=\"3.7731\" y2=\"0.7000\"/>\n",
       "<line transform=\"translate(30.0029, 11.8292)\" stroke-linejoin=\"round\" stroke-linecap=\"round\" stroke-width=\"0.1600\" stroke=\"currentColor\" x1=\"-0.2000\" y1=\"-0.0000\" x2=\"-0.2000\" y2=\"0.7000\"/>\n",
       "<line transform=\"translate(30.0029, 11.8292)\" stroke-linejoin=\"round\" stroke-linecap=\"round\" stroke-width=\"0.1600\" stroke=\"currentColor\" x1=\"3.7731\" y1=\"-0.0000\" x2=\"3.5645\" y2=\"-0.0000\"/>\n",
       "<line transform=\"translate(30.0029, 11.8292)\" stroke-linejoin=\"round\" stroke-linecap=\"round\" stroke-width=\"0.1600\" stroke=\"currentColor\" x1=\"-0.2000\" y1=\"-0.0000\" x2=\"0.2086\" y2=\"-0.0000\"/>\n",
       "<text transform=\"translate(30.6115, 12.4096)\" font-family=\"serif\" font-style=\"italic\" font-size=\"1.7461\" text-anchor=\"start\" fill=\"currentColor\">\n",
       "<tspan>1:1</tspan>\n",
       "</text>\n",
       "<line transform=\"translate(31.5537, 2.6392)\" stroke-linejoin=\"round\" stroke-linecap=\"round\" stroke-width=\"0.1600\" stroke=\"currentColor\" x1=\"3.1685\" y1=\"-0.0000\" x2=\"3.1685\" y2=\"0.7000\"/>\n",
       "<line transform=\"translate(31.5537, 2.6392)\" stroke-linejoin=\"round\" stroke-linecap=\"round\" stroke-width=\"0.1600\" stroke=\"currentColor\" x1=\"-0.2000\" y1=\"-0.0000\" x2=\"-0.2000\" y2=\"0.7000\"/>\n",
       "<line transform=\"translate(31.5537, 2.6392)\" stroke-linejoin=\"round\" stroke-linecap=\"round\" stroke-width=\"0.1600\" stroke=\"currentColor\" x1=\"3.1685\" y1=\"-0.0000\" x2=\"3.2622\" y2=\"-0.0000\"/>\n",
       "<line transform=\"translate(31.5537, 2.6392)\" stroke-linejoin=\"round\" stroke-linecap=\"round\" stroke-width=\"0.1600\" stroke=\"currentColor\" x1=\"-0.2000\" y1=\"-0.0000\" x2=\"-0.0937\" y2=\"-0.0000\"/>\n",
       "<text transform=\"translate(31.8600, 3.2196)\" font-family=\"serif\" font-style=\"italic\" font-size=\"1.7461\" text-anchor=\"start\" fill=\"currentColor\">\n",
       "<tspan>1:1</tspan>\n",
       "</text>\n",
       "<polygon transform=\"translate(70.0338, 75.6692)\" stroke-linejoin=\"round\" stroke-linecap=\"round\" stroke-width=\"0.0800\" fill=\"currentColor\" stroke=\"currentColor\" points=\"15.1893 -0.2000 15.1893 0.2000 0.0400 0.2000 0.0400 -0.2000\"/>\n",
       "<polygon transform=\"translate(70.0338, 76.4792)\" stroke-linejoin=\"round\" stroke-linecap=\"round\" stroke-width=\"0.0800\" fill=\"currentColor\" stroke=\"currentColor\" points=\"15.1893 -0.2000 15.1893 0.2000 0.0400 0.2000 0.0400 -0.2000\"/>\n",
       "<polygon transform=\"translate(70.0338, 77.2892)\" stroke-linejoin=\"round\" stroke-linecap=\"round\" stroke-width=\"0.0800\" fill=\"currentColor\" stroke=\"currentColor\" points=\"1.1250 -0.2000 1.1250 0.2000 0.0400 0.2000 0.0400 -0.2000\"/>\n",
       "<text transform=\"translate(42.3389, 1.5050)\" font-family=\"serif\" font-style=\"italic\" font-size=\"1.7461\" text-anchor=\"start\" fill=\"currentColor\">\n",
       "<tspan>1:1</tspan>\n",
       "</text>\n",
       "<text transform=\"translate(42.6617, 10.6950)\" font-family=\"serif\" font-style=\"italic\" font-size=\"1.7461\" text-anchor=\"start\" fill=\"currentColor\">\n",
       "<tspan>3</tspan>\n",
       "</text>\n",
       "<text transform=\"translate(41.7219, 19.5050)\" font-family=\"serif\" font-style=\"italic\" font-size=\"1.7461\" text-anchor=\"start\" fill=\"currentColor\">\n",
       "<tspan>1:1</tspan>\n",
       "</text>\n",
       "<text transform=\"translate(42.3326, 28.4879)\" font-family=\"serif\" font-style=\"italic\" font-size=\"1.7461\" text-anchor=\"start\" fill=\"currentColor\">\n",
       "<tspan>5</tspan>\n",
       "</text>\n",
       "<text transform=\"translate(42.2504, 37.4879)\" font-family=\"serif\" font-style=\"italic\" font-size=\"1.7461\" text-anchor=\"start\" fill=\"currentColor\">\n",
       "<tspan>3</tspan>\n",
       "</text>\n",
       "<text transform=\"translate(42.1916, 46.4709)\" font-family=\"serif\" font-style=\"italic\" font-size=\"1.7461\" text-anchor=\"start\" fill=\"currentColor\">\n",
       "<tspan>7</tspan>\n",
       "</text>\n",
       "<text transform=\"translate(41.4135, 55.1779)\" font-family=\"serif\" font-style=\"italic\" font-size=\"1.7461\" text-anchor=\"start\" fill=\"currentColor\">\n",
       "<tspan>1:1</tspan>\n",
       "</text>\n",
       "<rect transform=\"translate(72.7530, 61.1692)\" x=\"-0.0650\" y=\"-3.5000\" width=\"0.1300\" height=\"3.3139\" ry=\"0.0400\" fill=\"currentColor\"/>\n",
       "<path transform=\"translate(71.5138, 61.1692) scale(0.0040, -0.0040)\" d=\"M218 136c55 0 108 -28 108 -89c0 -71 -55 -121 -102 -149c-35 -21 -75 -34 -116 -34c-55 0 -108 28 -108 89c0 71 55 121 102 149c35 21 75 34 116 34z\" fill=\"currentColor\"/>\n",
       "<rect transform=\"translate(72.5080, 70.1692)\" x=\"-0.0650\" y=\"-3.5000\" width=\"0.1300\" height=\"3.3139\" ry=\"0.0400\" fill=\"currentColor\"/>\n",
       "<path transform=\"translate(71.2688, 70.1692) scale(0.0040, -0.0040)\" d=\"M218 136c55 0 108 -28 108 -89c0 -71 -55 -121 -102 -149c-35 -21 -75 -34 -116 -34c-55 0 -108 28 -108 89c0 71 55 121 102 149c35 21 75 34 116 34z\" fill=\"currentColor\"/>\n",
       "<path transform=\"translate(71.8046, 52.1692) scale(0.0040, -0.0040)\" d=\"M218 136c55 0 108 -28 108 -89c0 -71 -55 -121 -102 -149c-35 -21 -75 -34 -116 -34c-55 0 -108 28 -108 89c0 71 55 121 102 149c35 21 75 34 116 34z\" fill=\"currentColor\"/>\n",
       "<rect transform=\"translate(72.2983, 79.1692)\" x=\"-0.0650\" y=\"-3.5000\" width=\"0.1300\" height=\"3.3139\" ry=\"0.0400\" fill=\"currentColor\"/>\n",
       "<path transform=\"translate(71.0591, 79.1692) scale(0.0040, -0.0040)\" d=\"M218 136c55 0 108 -28 108 -89c0 -71 -55 -121 -102 -149c-35 -21 -75 -34 -116 -34c-55 0 -108 28 -108 89c0 71 55 121 102 149c35 21 75 34 116 34z\" fill=\"currentColor\"/>\n",
       "<rect transform=\"translate(72.1165, 88.1692)\" x=\"-0.0650\" y=\"-3.5000\" width=\"0.1300\" height=\"3.3139\" ry=\"0.0400\" fill=\"currentColor\"/>\n",
       "<path transform=\"translate(70.8773, 88.1692) scale(0.0040, -0.0040)\" d=\"M218 136c55 0 108 -28 108 -89c0 -71 -55 -121 -102 -149c-35 -21 -75 -34 -116 -34c-55 0 -108 28 -108 89c0 71 55 121 102 149c35 21 75 34 116 34z\" fill=\"currentColor\"/>\n",
       "<rect transform=\"translate(75.1237, 79.1692)\" x=\"-0.0650\" y=\"-3.5000\" width=\"0.1300\" height=\"3.3139\" ry=\"0.0400\" fill=\"currentColor\"/>\n",
       "<path transform=\"translate(73.8844, 79.1692) scale(0.0040, -0.0040)\" d=\"M218 136c55 0 108 -28 108 -89c0 -71 -55 -121 -102 -149c-35 -21 -75 -34 -116 -34c-55 0 -108 28 -108 89c0 71 55 121 102 149c35 21 75 34 116 34z\" fill=\"currentColor\"/>\n",
       "<rect transform=\"translate(75.0087, 88.1692)\" x=\"-0.0650\" y=\"-3.5000\" width=\"0.1300\" height=\"3.3139\" ry=\"0.0400\" fill=\"currentColor\"/>\n",
       "<path transform=\"translate(73.7695, 88.1692) scale(0.0040, -0.0040)\" d=\"M218 136c55 0 108 -28 108 -89c0 -71 -55 -121 -102 -149c-35 -21 -75 -34 -116 -34c-55 0 -108 28 -108 89c0 71 55 121 102 149c35 21 75 34 116 34z\" fill=\"currentColor\"/>\n",
       "<rect transform=\"translate(74.6494, 25.1692)\" x=\"-0.0650\" y=\"-3.1900\" width=\"0.1300\" height=\"3.0039\" ry=\"0.0400\" fill=\"currentColor\"/>\n",
       "<path transform=\"translate(73.4102, 25.1692) scale(0.0040, -0.0040)\" d=\"M218 136c55 0 108 -28 108 -89c0 -71 -55 -121 -102 -149c-35 -21 -75 -34 -116 -34c-55 0 -108 28 -108 89c0 71 55 121 102 149c35 21 75 34 116 34z\" fill=\"currentColor\"/>\n",
       "<rect transform=\"translate(73.8899, 34.1692)\" x=\"-0.0650\" y=\"-3.1900\" width=\"0.1300\" height=\"3.0039\" ry=\"0.0400\" fill=\"currentColor\"/>\n",
       "<path transform=\"translate(72.6507, 34.1692) scale(0.0040, -0.0040)\" d=\"M218 136c55 0 108 -28 108 -89c0 -71 -55 -121 -102 -149c-35 -21 -75 -34 -116 -34c-55 0 -108 28 -108 89c0 71 55 121 102 149c35 21 75 34 116 34z\" fill=\"currentColor\"/>\n",
       "<rect transform=\"translate(73.3964, 43.1692)\" x=\"-0.0650\" y=\"-3.1900\" width=\"0.1300\" height=\"3.0039\" ry=\"0.0400\" fill=\"currentColor\"/>\n",
       "<path transform=\"translate(72.1571, 43.1692) scale(0.0040, -0.0040)\" d=\"M218 136c55 0 108 -28 108 -89c0 -71 -55 -121 -102 -149c-35 -21 -75 -34 -116 -34c-55 0 -108 28 -108 89c0 71 55 121 102 149c35 21 75 34 116 34z\" fill=\"currentColor\"/>\n",
       "<rect transform=\"translate(73.0438, 52.1692)\" x=\"-0.0650\" y=\"-3.1900\" width=\"0.1300\" height=\"3.0039\" ry=\"0.0400\" fill=\"currentColor\"/>\n",
       "<rect transform=\"translate(70.0988, 34.1692)\" x=\"-0.0650\" y=\"-3.1900\" width=\"0.1300\" height=\"3.0039\" ry=\"0.0400\" fill=\"currentColor\"/>\n",
       "<rect transform=\"translate(70.0988, 25.1692)\" x=\"-0.0650\" y=\"-3.1900\" width=\"0.1300\" height=\"3.0039\" ry=\"0.0400\" fill=\"currentColor\"/>\n",
       "<rect transform=\"translate(70.0988, 43.1692)\" x=\"-0.0650\" y=\"-3.1900\" width=\"0.1300\" height=\"3.0039\" ry=\"0.0400\" fill=\"currentColor\"/>\n",
       "<rect transform=\"translate(70.0988, 16.1692)\" x=\"-0.0650\" y=\"-3.1900\" width=\"0.1300\" height=\"3.0039\" ry=\"0.0400\" fill=\"currentColor\"/>\n",
       "<rect transform=\"translate(70.0988, 7.1692)\" x=\"-0.0650\" y=\"-3.5000\" width=\"0.1300\" height=\"3.3139\" ry=\"0.0400\" fill=\"currentColor\"/>\n",
       "<path transform=\"translate(68.8596, 88.1692) scale(0.0040, -0.0040)\" d=\"M218 136c55 0 108 -28 108 -89c0 -71 -55 -121 -102 -149c-35 -21 -75 -34 -116 -34c-55 0 -108 28 -108 89c0 71 55 121 102 149c35 21 75 34 116 34z\" fill=\"currentColor\"/>\n",
       "<path transform=\"translate(68.8596, 79.1692) scale(0.0040, -0.0040)\" d=\"M218 136c55 0 108 -28 108 -89c0 -71 -55 -121 -102 -149c-35 -21 -75 -34 -116 -34c-55 0 -108 28 -108 89c0 71 55 121 102 149c35 21 75 34 116 34z\" fill=\"currentColor\"/>\n",
       "<path transform=\"translate(68.8596, 70.1692) scale(0.0040, -0.0040)\" d=\"M218 136c55 0 108 -28 108 -89c0 -71 -55 -121 -102 -149c-35 -21 -75 -34 -116 -34c-55 0 -108 28 -108 89c0 71 55 121 102 149c35 21 75 34 116 34z\" fill=\"currentColor\"/>\n",
       "<path transform=\"translate(68.8596, 61.1692) scale(0.0040, -0.0040)\" d=\"M218 136c55 0 108 -28 108 -89c0 -71 -55 -121 -102 -149c-35 -21 -75 -34 -116 -34c-55 0 -108 28 -108 89c0 71 55 121 102 149c35 21 75 34 116 34z\" fill=\"currentColor\"/>\n",
       "<path transform=\"translate(68.8596, 52.1692) scale(0.0040, -0.0040)\" d=\"M218 136c55 0 108 -28 108 -89c0 -71 -55 -121 -102 -149c-35 -21 -75 -34 -116 -34c-55 0 -108 28 -108 89c0 71 55 121 102 149c35 21 75 34 116 34z\" fill=\"currentColor\"/>\n",
       "<path transform=\"translate(68.8596, 43.1692) scale(0.0040, -0.0040)\" d=\"M218 136c55 0 108 -28 108 -89c0 -71 -55 -121 -102 -149c-35 -21 -75 -34 -116 -34c-55 0 -108 28 -108 89c0 71 55 121 102 149c35 21 75 34 116 34z\" fill=\"currentColor\"/>\n",
       "<rect transform=\"translate(70.0988, 88.1692)\" x=\"-0.0650\" y=\"-3.5000\" width=\"0.1300\" height=\"3.3139\" ry=\"0.0400\" fill=\"currentColor\"/>\n",
       "<rect transform=\"translate(70.0988, 79.1692)\" x=\"-0.0650\" y=\"-3.5000\" width=\"0.1300\" height=\"3.3139\" ry=\"0.0400\" fill=\"currentColor\"/>\n",
       "<rect transform=\"translate(70.0988, 70.1692)\" x=\"-0.0650\" y=\"-3.5000\" width=\"0.1300\" height=\"3.3139\" ry=\"0.0400\" fill=\"currentColor\"/>\n",
       "<rect transform=\"translate(70.0988, 61.1692)\" x=\"-0.0650\" y=\"-3.5000\" width=\"0.1300\" height=\"3.3139\" ry=\"0.0400\" fill=\"currentColor\"/>\n",
       "<rect transform=\"translate(70.0988, 52.1692)\" x=\"-0.0650\" y=\"-3.1900\" width=\"0.1300\" height=\"3.0039\" ry=\"0.0400\" fill=\"currentColor\"/>\n",
       "<path transform=\"translate(77.9572, 34.1692) scale(0.0040, -0.0040)\" d=\"M218 136c55 0 108 -28 108 -89c0 -71 -55 -121 -102 -149c-35 -21 -75 -34 -116 -34c-55 0 -108 28 -108 89c0 71 55 121 102 149c35 21 75 34 116 34z\" fill=\"currentColor\"/>\n",
       "<rect transform=\"translate(78.7963, 43.1692)\" x=\"-0.0650\" y=\"-3.1900\" width=\"0.1300\" height=\"3.0039\" ry=\"0.0400\" fill=\"currentColor\"/>\n",
       "<rect transform=\"translate(78.7963, 7.1692)\" x=\"-0.0650\" y=\"-3.5000\" width=\"0.1300\" height=\"3.3139\" ry=\"0.0400\" fill=\"currentColor\"/>\n",
       "<path transform=\"translate(77.5571, 43.1692) scale(0.0040, -0.0040)\" d=\"M218 136c55 0 108 -28 108 -89c0 -71 -55 -121 -102 -149c-35 -21 -75 -34 -116 -34c-55 0 -108 28 -108 89c0 71 55 121 102 149c35 21 75 34 116 34z\" fill=\"currentColor\"/>\n",
       "<path transform=\"translate(77.5571, 7.1692) scale(0.0040, -0.0040)\" d=\"M218 136c55 0 108 -28 108 -89c0 -71 -55 -121 -102 -149c-35 -21 -75 -34 -116 -34c-55 0 -108 28 -108 89c0 71 55 121 102 149c35 21 75 34 116 34z\" fill=\"currentColor\"/>\n",
       "<rect transform=\"translate(79.1965, 34.1692)\" x=\"-0.0650\" y=\"-3.1900\" width=\"0.1300\" height=\"3.0039\" ry=\"0.0400\" fill=\"currentColor\"/>\n",
       "<rect transform=\"translate(78.5538, 52.1692)\" x=\"-0.0650\" y=\"-3.1900\" width=\"0.1300\" height=\"3.0039\" ry=\"0.0400\" fill=\"currentColor\"/>\n",
       "<path transform=\"translate(77.3146, 52.1692) scale(0.0040, -0.0040)\" d=\"M218 136c55 0 108 -28 108 -89c0 -71 -55 -121 -102 -149c-35 -21 -75 -34 -116 -34c-55 0 -108 28 -108 89c0 71 55 121 102 149c35 21 75 34 116 34z\" fill=\"currentColor\"/>\n",
       "<rect transform=\"translate(78.3719, 61.1692)\" x=\"-0.0650\" y=\"-3.5000\" width=\"0.1300\" height=\"3.3139\" ry=\"0.0400\" fill=\"currentColor\"/>\n",
       "<path transform=\"translate(77.1327, 61.1692) scale(0.0040, -0.0040)\" d=\"M218 136c55 0 108 -28 108 -89c0 -71 -55 -121 -102 -149c-35 -21 -75 -34 -116 -34c-55 0 -108 28 -108 89c0 71 55 121 102 149c35 21 75 34 116 34z\" fill=\"currentColor\"/>\n",
       "<rect transform=\"translate(78.2304, 70.1692)\" x=\"-0.0650\" y=\"-3.5000\" width=\"0.1300\" height=\"3.3139\" ry=\"0.0400\" fill=\"currentColor\"/>\n",
       "<line transform=\"translate(93.5723, 20.3292)\" stroke-linejoin=\"round\" stroke-linecap=\"round\" stroke-width=\"0.1600\" stroke=\"currentColor\" x1=\"13.1974\" y1=\"-0.0000\" x2=\"13.1974\" y2=\"0.7000\"/>\n",
       "<line transform=\"translate(93.5723, 20.3292)\" stroke-linejoin=\"round\" stroke-linecap=\"round\" stroke-width=\"0.1600\" stroke=\"currentColor\" x1=\"-0.2000\" y1=\"-0.0000\" x2=\"-0.2000\" y2=\"0.7000\"/>\n",
       "<line transform=\"translate(93.5723, 20.3292)\" stroke-linejoin=\"round\" stroke-linecap=\"round\" stroke-width=\"0.1600\" stroke=\"currentColor\" x1=\"13.1974\" y1=\"-0.0000\" x2=\"8.2767\" y2=\"-0.0000\"/>\n",
       "<line transform=\"translate(93.5723, 20.3292)\" stroke-linejoin=\"round\" stroke-linecap=\"round\" stroke-width=\"0.1600\" stroke=\"currentColor\" x1=\"-0.2000\" y1=\"-0.0000\" x2=\"4.9208\" y2=\"-0.0000\"/>\n",
       "<polygon transform=\"translate(70.0338, 84.6692)\" stroke-linejoin=\"round\" stroke-linecap=\"round\" stroke-width=\"0.0800\" fill=\"currentColor\" stroke=\"currentColor\" points=\"15.1530 -0.2000 15.1530 0.2000 0.0400 0.2000 0.0400 -0.2000\"/>\n",
       "<polygon transform=\"translate(70.0338, 85.4792)\" stroke-linejoin=\"round\" stroke-linecap=\"round\" stroke-width=\"0.0800\" fill=\"currentColor\" stroke=\"currentColor\" points=\"15.1530 -0.2000 15.1530 0.2000 0.0400 0.2000 0.0400 -0.2000\"/>\n",
       "<polygon transform=\"translate(70.0338, 86.2892)\" stroke-linejoin=\"round\" stroke-linecap=\"round\" stroke-width=\"0.0800\" fill=\"currentColor\" stroke=\"currentColor\" points=\"1.1250 -0.2000 1.1250 0.2000 0.0400 0.2000 0.0400 -0.2000\"/>\n",
       "<line transform=\"translate(90.8560, 83.3292)\" stroke-linejoin=\"round\" stroke-linecap=\"round\" stroke-width=\"0.1600\" stroke=\"currentColor\" x1=\"15.3302\" y1=\"-0.0000\" x2=\"15.3302\" y2=\"0.7000\"/>\n",
       "<line transform=\"translate(90.8560, 83.3292)\" stroke-linejoin=\"round\" stroke-linecap=\"round\" stroke-width=\"0.1600\" stroke=\"currentColor\" x1=\"-0.2000\" y1=\"-0.0000\" x2=\"-0.2000\" y2=\"0.7000\"/>\n",
       "<line transform=\"translate(90.8560, 83.3292)\" stroke-linejoin=\"round\" stroke-linecap=\"round\" stroke-width=\"0.1600\" stroke=\"currentColor\" x1=\"15.3302\" y1=\"-0.0000\" x2=\"9.3430\" y2=\"-0.0000\"/>\n",
       "<line transform=\"translate(90.8560, 83.3292)\" stroke-linejoin=\"round\" stroke-linecap=\"round\" stroke-width=\"0.1600\" stroke=\"currentColor\" x1=\"-0.2000\" y1=\"-0.0000\" x2=\"5.9871\" y2=\"-0.0000\"/>\n",
       "<text transform=\"translate(97.2432, 83.9267)\" font-family=\"serif\" font-style=\"italic\" font-size=\"1.7461\" text-anchor=\"start\" fill=\"currentColor\">\n",
       "<tspan>6:5</tspan>\n",
       "</text>\n",
       "<line transform=\"translate(91.0379, 74.3292)\" stroke-linejoin=\"round\" stroke-linecap=\"round\" stroke-width=\"0.1600\" stroke=\"currentColor\" x1=\"15.1817\" y1=\"-0.0000\" x2=\"15.1817\" y2=\"0.7000\"/>\n",
       "<line transform=\"translate(91.0379, 74.3292)\" stroke-linejoin=\"round\" stroke-linecap=\"round\" stroke-width=\"0.1600\" stroke=\"currentColor\" x1=\"-0.2000\" y1=\"-0.0000\" x2=\"-0.2000\" y2=\"0.7000\"/>\n",
       "<line transform=\"translate(91.0379, 74.3292)\" stroke-linejoin=\"round\" stroke-linecap=\"round\" stroke-width=\"0.1600\" stroke=\"currentColor\" x1=\"15.1817\" y1=\"-0.0000\" x2=\"9.2688\" y2=\"-0.0000\"/>\n",
       "<line transform=\"translate(91.0379, 74.3292)\" stroke-linejoin=\"round\" stroke-linecap=\"round\" stroke-width=\"0.1600\" stroke=\"currentColor\" x1=\"-0.2000\" y1=\"-0.0000\" x2=\"5.9129\" y2=\"-0.0000\"/>\n",
       "<text transform=\"translate(97.3508, 74.9096)\" font-family=\"serif\" font-style=\"italic\" font-size=\"1.7461\" text-anchor=\"start\" fill=\"currentColor\">\n",
       "<tspan>4:3</tspan>\n",
       "</text>\n",
       "<line transform=\"translate(91.2476, 65.3292)\" stroke-linejoin=\"round\" stroke-linecap=\"round\" stroke-width=\"0.1600\" stroke=\"currentColor\" x1=\"15.0127\" y1=\"-0.0000\" x2=\"15.0127\" y2=\"0.7000\"/>\n",
       "<line transform=\"translate(91.2476, 65.3292)\" stroke-linejoin=\"round\" stroke-linecap=\"round\" stroke-width=\"0.1600\" stroke=\"currentColor\" x1=\"-0.2000\" y1=\"-0.0000\" x2=\"-0.2000\" y2=\"0.7000\"/>\n",
       "<line transform=\"translate(91.2476, 65.3292)\" stroke-linejoin=\"round\" stroke-linecap=\"round\" stroke-width=\"0.1600\" stroke=\"currentColor\" x1=\"15.0127\" y1=\"-0.0000\" x2=\"8.4502\" y2=\"-0.0000\"/>\n",
       "<line transform=\"translate(91.2476, 65.3292)\" stroke-linejoin=\"round\" stroke-linecap=\"round\" stroke-width=\"0.1600\" stroke=\"currentColor\" x1=\"-0.2000\" y1=\"-0.0000\" x2=\"6.5625\" y2=\"-0.0000\"/>\n",
       "<text transform=\"translate(98.2101, 65.9096)\" font-family=\"serif\" font-style=\"italic\" font-size=\"1.7461\" text-anchor=\"start\" fill=\"currentColor\">\n",
       "<tspan>3</tspan>\n",
       "</text>\n",
       "<line transform=\"translate(91.4925, 56.3292)\" stroke-linejoin=\"round\" stroke-linecap=\"round\" stroke-width=\"0.1600\" stroke=\"currentColor\" x1=\"14.8187\" y1=\"-0.0000\" x2=\"14.8187\" y2=\"0.7000\"/>\n",
       "<line transform=\"translate(91.4925, 56.3292)\" stroke-linejoin=\"round\" stroke-linecap=\"round\" stroke-width=\"0.1600\" stroke=\"currentColor\" x1=\"-0.2000\" y1=\"-0.0000\" x2=\"-0.2000\" y2=\"0.7000\"/>\n",
       "<line transform=\"translate(91.4925, 56.3292)\" stroke-linejoin=\"round\" stroke-linecap=\"round\" stroke-width=\"0.1600\" stroke=\"currentColor\" x1=\"14.8187\" y1=\"-0.0000\" x2=\"9.5312\" y2=\"-0.0000\"/>\n",
       "<line transform=\"translate(91.4925, 56.3292)\" stroke-linejoin=\"round\" stroke-linecap=\"round\" stroke-width=\"0.1600\" stroke=\"currentColor\" x1=\"-0.2000\" y1=\"-0.0000\" x2=\"5.2875\" y2=\"-0.0000\"/>\n",
       "<text transform=\"translate(97.1801, 56.8925)\" font-family=\"serif\" font-style=\"italic\" font-size=\"1.7461\" text-anchor=\"start\" fill=\"currentColor\">\n",
       "<tspan>12:7</tspan>\n",
       "</text>\n",
       "<line transform=\"translate(91.7834, 47.6392)\" stroke-linejoin=\"round\" stroke-linecap=\"round\" stroke-width=\"0.1600\" stroke=\"currentColor\" x1=\"14.5933\" y1=\"0.0000\" x2=\"14.5933\" y2=\"0.7000\"/>\n",
       "<line transform=\"translate(91.7834, 47.6392)\" stroke-linejoin=\"round\" stroke-linecap=\"round\" stroke-width=\"0.1600\" stroke=\"currentColor\" x1=\"-0.2000\" y1=\"-0.0000\" x2=\"-0.2000\" y2=\"0.7000\"/>\n",
       "<line transform=\"translate(91.7834, 47.6392)\" stroke-linejoin=\"round\" stroke-linecap=\"round\" stroke-width=\"0.1600\" stroke=\"currentColor\" x1=\"14.5933\" y1=\"0.0000\" x2=\"8.9746\" y2=\"0.0000\"/>\n",
       "<line transform=\"translate(91.7834, 47.6392)\" stroke-linejoin=\"round\" stroke-linecap=\"round\" stroke-width=\"0.1600\" stroke=\"currentColor\" x1=\"-0.2000\" y1=\"-0.0000\" x2=\"5.6187\" y2=\"0.0000\"/>\n",
       "<text transform=\"translate(97.8021, 48.2196)\" font-family=\"serif\" font-style=\"italic\" font-size=\"1.7461\" text-anchor=\"start\" fill=\"currentColor\">\n",
       "<tspan>1:1</tspan>\n",
       "</text>\n",
       "<line transform=\"translate(92.1712, 38.6392)\" stroke-linejoin=\"round\" stroke-linecap=\"round\" stroke-width=\"0.1600\" stroke=\"currentColor\" x1=\"14.2929\" y1=\"-0.0000\" x2=\"14.2929\" y2=\"0.7000\"/>\n",
       "<line transform=\"translate(92.1712, 38.6392)\" stroke-linejoin=\"round\" stroke-linecap=\"round\" stroke-width=\"0.1600\" stroke=\"currentColor\" x1=\"-0.2000\" y1=\"-0.0000\" x2=\"-0.2000\" y2=\"0.7000\"/>\n",
       "<line transform=\"translate(92.1712, 38.6392)\" stroke-linejoin=\"round\" stroke-linecap=\"round\" stroke-width=\"0.1600\" stroke=\"currentColor\" x1=\"14.2929\" y1=\"-0.0000\" x2=\"8.8244\" y2=\"-0.0000\"/>\n",
       "<line transform=\"translate(92.1712, 38.6392)\" stroke-linejoin=\"round\" stroke-linecap=\"round\" stroke-width=\"0.1600\" stroke=\"currentColor\" x1=\"-0.2000\" y1=\"-0.0000\" x2=\"5.4685\" y2=\"-0.0000\"/>\n",
       "<text transform=\"translate(98.0397, 39.2367)\" font-family=\"serif\" font-style=\"italic\" font-size=\"1.7461\" text-anchor=\"start\" fill=\"currentColor\">\n",
       "<tspan>6:5</tspan>\n",
       "</text>\n",
       "<line transform=\"translate(92.7234, 29.6392)\" stroke-linejoin=\"round\" stroke-linecap=\"round\" stroke-width=\"0.1600\" stroke=\"currentColor\" x1=\"13.8629\" y1=\"-0.0000\" x2=\"13.8629\" y2=\"0.7000\"/>\n",
       "<line transform=\"translate(92.7234, 29.6392)\" stroke-linejoin=\"round\" stroke-linecap=\"round\" stroke-width=\"0.1600\" stroke=\"currentColor\" x1=\"-0.2000\" y1=\"-0.0000\" x2=\"-0.2000\" y2=\"0.7000\"/>\n",
       "<line transform=\"translate(92.7234, 29.6392)\" stroke-linejoin=\"round\" stroke-linecap=\"round\" stroke-width=\"0.1600\" stroke=\"currentColor\" x1=\"13.8629\" y1=\"-0.0000\" x2=\"7.8753\" y2=\"-0.0000\"/>\n",
       "<line transform=\"translate(92.7234, 29.6392)\" stroke-linejoin=\"round\" stroke-linecap=\"round\" stroke-width=\"0.1600\" stroke=\"currentColor\" x1=\"-0.2000\" y1=\"-0.0000\" x2=\"5.9876\" y2=\"-0.0000\"/>\n",
       "<text transform=\"translate(99.1110, 30.2196)\" font-family=\"serif\" font-style=\"italic\" font-size=\"1.7461\" text-anchor=\"start\" fill=\"currentColor\">\n",
       "<tspan>3</tspan>\n",
       "</text>\n",
       "<text transform=\"translate(98.8930, 20.9096)\" font-family=\"serif\" font-style=\"italic\" font-size=\"1.7461\" text-anchor=\"start\" fill=\"currentColor\">\n",
       "<tspan>1:1</tspan>\n",
       "</text>\n",
       "<line transform=\"translate(95.0420, 11.6392)\" stroke-linejoin=\"round\" stroke-linecap=\"round\" stroke-width=\"0.1600\" stroke=\"currentColor\" x1=\"12.0333\" y1=\"-0.0000\" x2=\"12.0333\" y2=\"0.7000\"/>\n",
       "<line transform=\"translate(95.0420, 11.6392)\" stroke-linejoin=\"round\" stroke-linecap=\"round\" stroke-width=\"0.1600\" stroke=\"currentColor\" x1=\"-0.2000\" y1=\"-0.0000\" x2=\"-0.2000\" y2=\"0.7000\"/>\n",
       "<line transform=\"translate(95.0420, 11.6392)\" stroke-linejoin=\"round\" stroke-linecap=\"round\" stroke-width=\"0.1600\" stroke=\"currentColor\" x1=\"12.0333\" y1=\"-0.0000\" x2=\"6.9605\" y2=\"-0.0000\"/>\n",
       "<line transform=\"translate(95.0420, 11.6392)\" stroke-linejoin=\"round\" stroke-linecap=\"round\" stroke-width=\"0.1600\" stroke=\"currentColor\" x1=\"-0.2000\" y1=\"-0.0000\" x2=\"5.0728\" y2=\"-0.0000\"/>\n",
       "<text transform=\"translate(100.5148, 12.2196)\" font-family=\"serif\" font-style=\"italic\" font-size=\"1.7461\" text-anchor=\"start\" fill=\"currentColor\">\n",
       "<tspan>3</tspan>\n",
       "</text>\n",
       "<line transform=\"translate(98.1874, 2.3292)\" stroke-linejoin=\"round\" stroke-linecap=\"round\" stroke-width=\"0.1600\" stroke=\"currentColor\" x1=\"9.4992\" y1=\"-0.0000\" x2=\"9.4992\" y2=\"0.7000\"/>\n",
       "<line transform=\"translate(98.1874, 2.3292)\" stroke-linejoin=\"round\" stroke-linecap=\"round\" stroke-width=\"0.1600\" stroke=\"currentColor\" x1=\"-0.2000\" y1=\"-0.0000\" x2=\"-0.2000\" y2=\"0.7000\"/>\n",
       "<line transform=\"translate(98.1874, 2.3292)\" stroke-linejoin=\"round\" stroke-linecap=\"round\" stroke-width=\"0.1600\" stroke=\"currentColor\" x1=\"9.4992\" y1=\"-0.0000\" x2=\"5.6935\" y2=\"-0.0000\"/>\n",
       "<line transform=\"translate(98.1874, 2.3292)\" stroke-linejoin=\"round\" stroke-linecap=\"round\" stroke-width=\"0.1600\" stroke=\"currentColor\" x1=\"-0.2000\" y1=\"-0.0000\" x2=\"3.8058\" y2=\"-0.0000\"/>\n",
       "<text transform=\"translate(102.3931, 2.9096)\" font-family=\"serif\" font-style=\"italic\" font-size=\"1.7461\" text-anchor=\"start\" fill=\"currentColor\">\n",
       "<tspan>3</tspan>\n",
       "</text>\n",
       "<polygon transform=\"translate(88.8384, 3.6692)\" stroke-linejoin=\"round\" stroke-linecap=\"round\" stroke-width=\"0.0800\" fill=\"currentColor\" stroke=\"currentColor\" points=\"18.6082 -0.2000 18.6082 0.2000 0.0400 0.2000 0.0400 -0.2000\"/>\n",
       "<polygon transform=\"translate(98.1874, 4.4792)\" stroke-linejoin=\"round\" stroke-linecap=\"round\" stroke-width=\"0.0800\" fill=\"currentColor\" stroke=\"currentColor\" points=\"9.2592 -0.2000 9.2592 0.2000 0.0400 0.2000 0.0400 -0.2000\"/>\n",
       "<polygon transform=\"translate(98.1874, 5.2892)\" stroke-linejoin=\"round\" stroke-linecap=\"round\" stroke-width=\"0.0800\" fill=\"currentColor\" stroke=\"currentColor\" points=\"9.2592 -0.2000 9.2592 0.2000 0.0400 0.2000 0.0400 -0.2000\"/>\n",
       "<polygon transform=\"translate(88.8384, 12.9792)\" stroke-linejoin=\"round\" stroke-linecap=\"round\" stroke-width=\"0.0800\" fill=\"currentColor\" stroke=\"currentColor\" points=\"17.9969 -0.2000 17.9969 0.2000 0.0400 0.2000 0.0400 -0.2000\"/>\n",
       "<polygon transform=\"translate(95.0420, 13.7892)\" stroke-linejoin=\"round\" stroke-linecap=\"round\" stroke-width=\"0.0800\" fill=\"currentColor\" stroke=\"currentColor\" points=\"11.7933 -0.2000 11.7933 0.2000 0.0400 0.2000 0.0400 -0.2000\"/>\n",
       "<polygon transform=\"translate(88.8384, 21.6692)\" stroke-linejoin=\"round\" stroke-linecap=\"round\" stroke-width=\"0.0800\" fill=\"currentColor\" stroke=\"currentColor\" points=\"17.6913 -0.2000 17.6913 0.2000 0.0400 0.2000 0.0400 -0.2000\"/>\n",
       "<polygon transform=\"translate(88.8384, 22.4792)\" stroke-linejoin=\"round\" stroke-linecap=\"round\" stroke-width=\"0.0800\" fill=\"currentColor\" stroke=\"currentColor\" points=\"17.6913 -0.2000 17.6913 0.2000 0.0400 0.2000 0.0400 -0.2000\"/>\n",
       "<polygon transform=\"translate(93.5723, 23.2892)\" stroke-linejoin=\"round\" stroke-linecap=\"round\" stroke-width=\"0.0800\" fill=\"currentColor\" stroke=\"currentColor\" points=\"12.9574 -0.2000 12.9574 0.2000 0.0400 0.2000 0.0400 -0.2000\"/>\n",
       "<polygon transform=\"translate(88.8384, 30.9792)\" stroke-linejoin=\"round\" stroke-linecap=\"round\" stroke-width=\"0.0800\" fill=\"currentColor\" stroke=\"currentColor\" points=\"17.5079 -0.2000 17.5079 0.2000 0.0400 0.2000 0.0400 -0.2000\"/>\n",
       "<polygon transform=\"translate(88.8384, 31.7892)\" stroke-linejoin=\"round\" stroke-linecap=\"round\" stroke-width=\"0.0800\" fill=\"currentColor\" stroke=\"currentColor\" points=\"17.5079 -0.2000 17.5079 0.2000 0.0400 0.2000 0.0400 -0.2000\"/>\n",
       "<polygon transform=\"translate(88.8384, 39.9792)\" stroke-linejoin=\"round\" stroke-linecap=\"round\" stroke-width=\"0.0800\" fill=\"currentColor\" stroke=\"currentColor\" points=\"17.3857 -0.2000 17.3857 0.2000 0.0400 0.2000 0.0400 -0.2000\"/>\n",
       "<polygon transform=\"translate(88.8384, 40.7892)\" stroke-linejoin=\"round\" stroke-linecap=\"round\" stroke-width=\"0.0800\" fill=\"currentColor\" stroke=\"currentColor\" points=\"17.3857 -0.2000 17.3857 0.2000 0.0400 0.2000 0.0400 -0.2000\"/>\n",
       "<polygon transform=\"translate(88.8384, 48.9792)\" stroke-linejoin=\"round\" stroke-linecap=\"round\" stroke-width=\"0.0800\" fill=\"currentColor\" stroke=\"currentColor\" points=\"17.2983 -0.2000 17.2983 0.2000 0.0400 0.2000 0.0400 -0.2000\"/>\n",
       "<polygon transform=\"translate(88.8384, 49.7892)\" stroke-linejoin=\"round\" stroke-linecap=\"round\" stroke-width=\"0.0800\" fill=\"currentColor\" stroke=\"currentColor\" points=\"17.2983 -0.2000 17.2983 0.2000 0.0400 0.2000 0.0400 -0.2000\"/>\n",
       "<polygon transform=\"translate(88.8384, 57.6692)\" stroke-linejoin=\"round\" stroke-linecap=\"round\" stroke-width=\"0.0800\" fill=\"currentColor\" stroke=\"currentColor\" points=\"17.2328 -0.2000 17.2328 0.2000 0.0400 0.2000 0.0400 -0.2000\"/>\n",
       "<polygon transform=\"translate(88.8384, 58.4792)\" stroke-linejoin=\"round\" stroke-linecap=\"round\" stroke-width=\"0.0800\" fill=\"currentColor\" stroke=\"currentColor\" points=\"17.2328 -0.2000 17.2328 0.2000 0.0400 0.2000 0.0400 -0.2000\"/>\n",
       "<polygon transform=\"translate(88.8384, 59.2892)\" stroke-linejoin=\"round\" stroke-linecap=\"round\" stroke-width=\"0.0800\" fill=\"currentColor\" stroke=\"currentColor\" points=\"1.1250 -0.2000 1.1250 0.2000 0.0400 0.2000 0.0400 -0.2000\"/>\n",
       "<polygon transform=\"translate(88.8384, 66.6692)\" stroke-linejoin=\"round\" stroke-linecap=\"round\" stroke-width=\"0.0800\" fill=\"currentColor\" stroke=\"currentColor\" points=\"17.1819 -0.2000 17.1819 0.2000 0.0400 0.2000 0.0400 -0.2000\"/>\n",
       "<polygon transform=\"translate(88.8384, 67.4792)\" stroke-linejoin=\"round\" stroke-linecap=\"round\" stroke-width=\"0.0800\" fill=\"currentColor\" stroke=\"currentColor\" points=\"17.1819 -0.2000 17.1819 0.2000 0.0400 0.2000 0.0400 -0.2000\"/>\n",
       "<polygon transform=\"translate(88.8384, 68.2892)\" stroke-linejoin=\"round\" stroke-linecap=\"round\" stroke-width=\"0.0800\" fill=\"currentColor\" stroke=\"currentColor\" points=\"1.1250 -0.2000 1.1250 0.2000 0.0400 0.2000 0.0400 -0.2000\"/>\n",
       "<polygon transform=\"translate(88.8384, 75.6692)\" stroke-linejoin=\"round\" stroke-linecap=\"round\" stroke-width=\"0.0800\" fill=\"currentColor\" stroke=\"currentColor\" points=\"17.1411 -0.2000 17.1411 0.2000 0.0400 0.2000 0.0400 -0.2000\"/>\n",
       "<polygon transform=\"translate(88.8384, 76.4792)\" stroke-linejoin=\"round\" stroke-linecap=\"round\" stroke-width=\"0.0800\" fill=\"currentColor\" stroke=\"currentColor\" points=\"17.1411 -0.2000 17.1411 0.2000 0.0400 0.2000 0.0400 -0.2000\"/>\n",
       "<polygon transform=\"translate(88.8384, 77.2892)\" stroke-linejoin=\"round\" stroke-linecap=\"round\" stroke-width=\"0.0800\" fill=\"currentColor\" stroke=\"currentColor\" points=\"1.1250 -0.2000 1.1250 0.2000 0.0400 0.2000 0.0400 -0.2000\"/>\n",
       "<polygon transform=\"translate(88.8384, 84.6692)\" stroke-linejoin=\"round\" stroke-linecap=\"round\" stroke-width=\"0.0800\" fill=\"currentColor\" stroke=\"currentColor\" points=\"17.1078 -0.2000 17.1078 0.2000 0.0400 0.2000 0.0400 -0.2000\"/>\n",
       "<polygon transform=\"translate(88.8384, 85.4792)\" stroke-linejoin=\"round\" stroke-linecap=\"round\" stroke-width=\"0.0800\" fill=\"currentColor\" stroke=\"currentColor\" points=\"17.1078 -0.2000 17.1078 0.2000 0.0400 0.2000 0.0400 -0.2000\"/>\n",
       "<polygon transform=\"translate(88.8384, 86.2892)\" stroke-linejoin=\"round\" stroke-linecap=\"round\" stroke-width=\"0.0800\" fill=\"currentColor\" stroke=\"currentColor\" points=\"1.1250 -0.2000 1.1250 0.2000 0.0400 0.2000 0.0400 -0.2000\"/>\n",
       "<path transform=\"translate(74.4265, 52.1692) scale(0.0040, -0.0040)\" d=\"M218 136c55 0 108 -28 108 -89c0 -71 -55 -121 -102 -149c-35 -21 -75 -34 -116 -34c-55 0 -108 28 -108 89c0 71 55 121 102 149c35 21 75 34 116 34z\" fill=\"currentColor\"/>\n",
       "<rect transform=\"translate(75.9668, 43.1692)\" x=\"-0.0650\" y=\"-3.1900\" width=\"0.1300\" height=\"3.0039\" ry=\"0.0400\" fill=\"currentColor\"/>\n",
       "<rect transform=\"translate(75.9668, 16.1692)\" x=\"-0.0650\" y=\"-3.1900\" width=\"0.1300\" height=\"3.0039\" ry=\"0.0400\" fill=\"currentColor\"/>\n",
       "<path transform=\"translate(74.7276, 43.1692) scale(0.0040, -0.0040)\" d=\"M218 136c55 0 108 -28 108 -89c0 -71 -55 -121 -102 -149c-35 -21 -75 -34 -116 -34c-55 0 -108 28 -108 89c0 71 55 121 102 149c35 21 75 34 116 34z\" fill=\"currentColor\"/>\n",
       "<path transform=\"translate(74.7276, 16.1692) scale(0.0040, -0.0040)\" d=\"M218 136c55 0 108 -28 108 -89c0 -71 -55 -121 -102 -149c-35 -21 -75 -34 -116 -34c-55 0 -108 28 -108 89c0 71 55 121 102 149c35 21 75 34 116 34z\" fill=\"currentColor\"/>\n",
       "<rect transform=\"translate(75.6657, 52.1692)\" x=\"-0.0650\" y=\"-3.1900\" width=\"0.1300\" height=\"3.0039\" ry=\"0.0400\" fill=\"currentColor\"/>\n",
       "<rect transform=\"translate(75.4398, 61.1692)\" x=\"-0.0650\" y=\"-3.5000\" width=\"0.1300\" height=\"3.3139\" ry=\"0.0400\" fill=\"currentColor\"/>\n",
       "<path transform=\"translate(74.2006, 61.1692) scale(0.0040, -0.0040)\" d=\"M218 136c55 0 108 -28 108 -89c0 -71 -55 -121 -102 -149c-35 -21 -75 -34 -116 -34c-55 0 -108 28 -108 89c0 71 55 121 102 149c35 21 75 34 116 34z\" fill=\"currentColor\"/>\n",
       "<rect transform=\"translate(75.2642, 70.1692)\" x=\"-0.0650\" y=\"-3.5000\" width=\"0.1300\" height=\"3.3139\" ry=\"0.0400\" fill=\"currentColor\"/>\n",
       "<path transform=\"translate(74.0250, 70.1692) scale(0.0040, -0.0040)\" d=\"M218 136c55 0 108 -28 108 -89c0 -71 -55 -121 -102 -149c-35 -21 -75 -34 -116 -34c-55 0 -108 28 -108 89c0 71 55 121 102 149c35 21 75 34 116 34z\" fill=\"currentColor\"/>\n",
       "<rect transform=\"translate(78.0247, 88.1692)\" x=\"-0.0650\" y=\"-3.5000\" width=\"0.1300\" height=\"3.3139\" ry=\"0.0400\" fill=\"currentColor\"/>\n",
       "<rect transform=\"translate(78.2304, 16.1692)\" x=\"-0.0650\" y=\"-3.1900\" width=\"0.1300\" height=\"3.0039\" ry=\"0.0400\" fill=\"currentColor\"/>\n",
       "<path transform=\"translate(76.9912, 70.1692) scale(0.0040, -0.0040)\" d=\"M218 136c55 0 108 -28 108 -89c0 -71 -55 -121 -102 -149c-35 -21 -75 -34 -116 -34c-55 0 -108 28 -108 89c0 71 55 121 102 149c35 21 75 34 116 34z\" fill=\"currentColor\"/>\n",
       "<path transform=\"translate(76.9912, 16.1692) scale(0.0040, -0.0040)\" d=\"M218 136c55 0 108 -28 108 -89c0 -71 -55 -121 -102 -149c-35 -21 -75 -34 -116 -34c-55 0 -108 28 -108 89c0 71 55 121 102 149c35 21 75 34 116 34z\" fill=\"currentColor\"/>\n",
       "<rect transform=\"translate(78.1173, 79.1692)\" x=\"-0.0650\" y=\"-3.5000\" width=\"0.1300\" height=\"3.3139\" ry=\"0.0400\" fill=\"currentColor\"/>\n",
       "<path transform=\"translate(76.8780, 79.1692) scale(0.0040, -0.0040)\" d=\"M218 136c55 0 108 -28 108 -89c0 -71 -55 -121 -102 -149c-35 -21 -75 -34 -116 -34c-55 0 -108 28 -108 89c0 71 55 121 102 149c35 21 75 34 116 34z\" fill=\"currentColor\"/>\n",
       "<path transform=\"translate(68.8596, 34.1692) scale(0.0040, -0.0040)\" d=\"M218 136c55 0 108 -28 108 -89c0 -71 -55 -121 -102 -149c-35 -21 -75 -34 -116 -34c-55 0 -108 28 -108 89c0 71 55 121 102 149c35 21 75 34 116 34z\" fill=\"currentColor\"/>\n",
       "<path transform=\"translate(76.7854, 88.1692) scale(0.0040, -0.0040)\" d=\"M218 136c55 0 108 -28 108 -89c0 -71 -55 -121 -102 -149c-35 -21 -75 -34 -116 -34c-55 0 -108 28 -108 89c0 71 55 121 102 149c35 21 75 34 116 34z\" fill=\"currentColor\"/>\n",
       "<rect transform=\"translate(77.0986, 25.1692)\" x=\"-0.0650\" y=\"-3.1900\" width=\"0.1300\" height=\"3.0039\" ry=\"0.0400\" fill=\"currentColor\"/>\n",
       "<path transform=\"translate(75.8594, 25.1692) scale(0.0040, -0.0040)\" d=\"M218 136c55 0 108 -28 108 -89c0 -71 -55 -121 -102 -149c-35 -21 -75 -34 -116 -34c-55 0 -108 28 -108 89c0 71 55 121 102 149c35 21 75 34 116 34z\" fill=\"currentColor\"/>\n",
       "<rect transform=\"translate(76.4195, 34.1692)\" x=\"-0.0650\" y=\"-3.1900\" width=\"0.1300\" height=\"3.0039\" ry=\"0.0400\" fill=\"currentColor\"/>\n",
       "<path transform=\"translate(75.1803, 34.1692) scale(0.0040, -0.0040)\" d=\"M218 136c55 0 108 -28 108 -89c0 -71 -55 -121 -102 -149c-35 -21 -75 -34 -116 -34c-55 0 -108 28 -108 89c0 71 55 121 102 149c35 21 75 34 116 34z\" fill=\"currentColor\"/>\n",
       "<path transform=\"translate(92.2694, 88.1692) scale(0.0040, -0.0040)\" d=\"M218 136c55 0 108 -28 108 -89c0 -71 -55 -121 -102 -149c-35 -21 -75 -34 -116 -34c-55 0 -108 28 -108 89c0 71 55 121 102 149c35 21 75 34 116 34z\" fill=\"currentColor\"/>\n",
       "<path transform=\"translate(91.5492, 34.1692) scale(0.0040, -0.0040)\" d=\"M218 136c55 0 108 -28 108 -89c0 -71 -55 -121 -102 -149c-35 -21 -75 -34 -116 -34c-55 0 -108 28 -108 89c0 71 55 121 102 149c35 21 75 34 116 34z\" fill=\"currentColor\"/>\n",
       "<rect transform=\"translate(92.7884, 34.1692)\" x=\"-0.0650\" y=\"-3.1900\" width=\"0.1300\" height=\"3.0039\" ry=\"0.0400\" fill=\"currentColor\"/>\n",
       "<rect transform=\"translate(93.5087, 88.1692)\" x=\"-0.0650\" y=\"-3.5000\" width=\"0.1300\" height=\"3.3139\" ry=\"0.0400\" fill=\"currentColor\"/>\n",
       "<path transform=\"translate(92.3981, 25.1692) scale(0.0040, -0.0040)\" d=\"M218 136c55 0 108 -28 108 -89c0 -71 -55 -121 -102 -149c-35 -21 -75 -34 -116 -34c-55 0 -108 28 -108 89c0 71 55 121 102 149c35 21 75 34 116 34z\" fill=\"currentColor\"/>\n",
       "<path transform=\"translate(92.3981, 79.1692) scale(0.0040, -0.0040)\" d=\"M218 136c55 0 108 -28 108 -89c0 -71 -55 -121 -102 -149c-35 -21 -75 -34 -116 -34c-55 0 -108 28 -108 89c0 71 55 121 102 149c35 21 75 34 116 34z\" fill=\"currentColor\"/>\n",
       "<rect transform=\"translate(93.6373, 25.1692)\" x=\"-0.0650\" y=\"-3.5000\" width=\"0.1300\" height=\"3.3139\" ry=\"0.0400\" fill=\"currentColor\"/>\n",
       "<rect transform=\"translate(92.2362, 43.1692)\" x=\"-0.0650\" y=\"-3.1900\" width=\"0.1300\" height=\"3.0039\" ry=\"0.0400\" fill=\"currentColor\"/>\n",
       "<path transform=\"translate(90.9970, 43.1692) scale(0.0040, -0.0040)\" d=\"M218 136c55 0 108 -28 108 -89c0 -71 -55 -121 -102 -149c-35 -21 -75 -34 -116 -34c-55 0 -108 28 -108 89c0 71 55 121 102 149c35 21 75 34 116 34z\" fill=\"currentColor\"/>\n",
       "<rect transform=\"translate(91.8484, 52.1692)\" x=\"-0.0650\" y=\"-3.1900\" width=\"0.1300\" height=\"3.0039\" ry=\"0.0400\" fill=\"currentColor\"/>\n",
       "<path transform=\"translate(90.6092, 52.1692) scale(0.0040, -0.0040)\" d=\"M218 136c55 0 108 -28 108 -89c0 -71 -55 -121 -102 -149c-35 -21 -75 -34 -116 -34c-55 0 -108 28 -108 89c0 71 55 121 102 149c35 21 75 34 116 34z\" fill=\"currentColor\"/>\n",
       "<rect transform=\"translate(91.5575, 61.1692)\" x=\"-0.0650\" y=\"-3.5000\" width=\"0.1300\" height=\"3.3139\" ry=\"0.0400\" fill=\"currentColor\"/>\n",
       "<path transform=\"translate(90.3183, 61.1692) scale(0.0040, -0.0040)\" d=\"M218 136c55 0 108 -28 108 -89c0 -71 -55 -121 -102 -149c-35 -21 -75 -34 -116 -34c-55 0 -108 28 -108 89c0 71 55 121 102 149c35 21 75 34 116 34z\" fill=\"currentColor\"/>\n",
       "<path transform=\"translate(92.7655, 61.1692) scale(0.0040, -0.0040)\" d=\"M218 136c55 0 108 -28 108 -89c0 -71 -55 -121 -102 -149c-35 -21 -75 -34 -116 -34c-55 0 -108 28 -108 89c0 71 55 121 102 149c35 21 75 34 116 34z\" fill=\"currentColor\"/>\n",
       "<rect transform=\"translate(94.6171, 43.1692)\" x=\"-0.0650\" y=\"-3.1900\" width=\"0.1300\" height=\"3.0039\" ry=\"0.0400\" fill=\"currentColor\"/>\n",
       "<path transform=\"translate(93.3779, 43.1692) scale(0.0040, -0.0040)\" d=\"M218 136c55 0 108 -28 108 -89c0 -71 -55 -121 -102 -149c-35 -21 -75 -34 -116 -34c-55 0 -108 28 -108 89c0 71 55 121 102 149c35 21 75 34 116 34z\" fill=\"currentColor\"/>\n",
       "<rect transform=\"translate(94.2672, 52.1692)\" x=\"-0.0650\" y=\"-3.1900\" width=\"0.1300\" height=\"3.0039\" ry=\"0.0400\" fill=\"currentColor\"/>\n",
       "<path transform=\"translate(93.0280, 52.1692) scale(0.0040, -0.0040)\" d=\"M218 136c55 0 108 -28 108 -89c0 -71 -55 -121 -102 -149c-35 -21 -75 -34 -116 -34c-55 0 -108 28 -108 89c0 71 55 121 102 149c35 21 75 34 116 34z\" fill=\"currentColor\"/>\n",
       "<rect transform=\"translate(94.0047, 61.1692)\" x=\"-0.0650\" y=\"-3.5000\" width=\"0.1300\" height=\"3.3139\" ry=\"0.0400\" fill=\"currentColor\"/>\n",
       "<rect transform=\"translate(93.8006, 70.1692)\" x=\"-0.0650\" y=\"-3.5000\" width=\"0.1300\" height=\"3.3139\" ry=\"0.0400\" fill=\"currentColor\"/>\n",
       "<path transform=\"translate(92.5614, 70.1692) scale(0.0040, -0.0040)\" d=\"M218 136c55 0 108 -28 108 -89c0 -71 -55 -121 -102 -149c-35 -21 -75 -34 -116 -34c-55 0 -108 28 -108 89c0 71 55 121 102 149c35 21 75 34 116 34z\" fill=\"currentColor\"/>\n",
       "<rect transform=\"translate(93.6373, 79.1692)\" x=\"-0.0650\" y=\"-3.5000\" width=\"0.1300\" height=\"3.3139\" ry=\"0.0400\" fill=\"currentColor\"/>\n",
       "<rect transform=\"translate(88.9034, 43.1692)\" x=\"-0.0650\" y=\"-3.1900\" width=\"0.1300\" height=\"3.0039\" ry=\"0.0400\" fill=\"currentColor\"/>\n",
       "<rect transform=\"translate(88.9034, 52.1692)\" x=\"-0.0650\" y=\"-3.1900\" width=\"0.1300\" height=\"3.0039\" ry=\"0.0400\" fill=\"currentColor\"/>\n",
       "<rect transform=\"translate(88.9034, 61.1692)\" x=\"-0.0650\" y=\"-3.5000\" width=\"0.1300\" height=\"3.3139\" ry=\"0.0400\" fill=\"currentColor\"/>\n",
       "<rect transform=\"translate(88.9034, 70.1692)\" x=\"-0.0650\" y=\"-3.5000\" width=\"0.1300\" height=\"3.3139\" ry=\"0.0400\" fill=\"currentColor\"/>\n",
       "<rect transform=\"translate(88.9034, 34.1692)\" x=\"-0.0650\" y=\"-3.1900\" width=\"0.1300\" height=\"3.0039\" ry=\"0.0400\" fill=\"currentColor\"/>\n",
       "<rect transform=\"translate(88.9034, 25.1692)\" x=\"-0.0650\" y=\"-3.5000\" width=\"0.1300\" height=\"3.3139\" ry=\"0.0400\" fill=\"currentColor\"/>\n",
       "<rect transform=\"translate(88.9034, 16.1692)\" x=\"-0.0650\" y=\"-3.1900\" width=\"0.1300\" height=\"3.0039\" ry=\"0.0400\" fill=\"currentColor\"/>\n",
       "<rect transform=\"translate(90.9210, 88.1692)\" x=\"-0.0650\" y=\"-3.5000\" width=\"0.1300\" height=\"3.3139\" ry=\"0.0400\" fill=\"currentColor\"/>\n",
       "<rect transform=\"translate(91.3126, 70.1692)\" x=\"-0.0650\" y=\"-3.5000\" width=\"0.1300\" height=\"3.3139\" ry=\"0.0400\" fill=\"currentColor\"/>\n",
       "<path transform=\"translate(90.0734, 70.1692) scale(0.0040, -0.0040)\" d=\"M218 136c55 0 108 -28 108 -89c0 -71 -55 -121 -102 -149c-35 -21 -75 -34 -116 -34c-55 0 -108 28 -108 89c0 71 55 121 102 149c35 21 75 34 116 34z\" fill=\"currentColor\"/>\n",
       "<rect transform=\"translate(91.1029, 79.1692)\" x=\"-0.0650\" y=\"-3.5000\" width=\"0.1300\" height=\"3.3139\" ry=\"0.0400\" fill=\"currentColor\"/>\n",
       "<path transform=\"translate(89.8637, 79.1692) scale(0.0040, -0.0040)\" d=\"M218 136c55 0 108 -28 108 -89c0 -71 -55 -121 -102 -149c-35 -21 -75 -34 -116 -34c-55 0 -108 28 -108 89c0 71 55 121 102 149c35 21 75 34 116 34z\" fill=\"currentColor\"/>\n",
       "<path transform=\"translate(89.6818, 88.1692) scale(0.0040, -0.0040)\" d=\"M218 136c55 0 108 -28 108 -89c0 -71 -55 -121 -102 -149c-35 -21 -75 -34 -116 -34c-55 0 -108 28 -108 89c0 71 55 121 102 149c35 21 75 34 116 34z\" fill=\"currentColor\"/>\n",
       "<rect transform=\"translate(88.9034, 88.1692)\" x=\"-0.0650\" y=\"-3.5000\" width=\"0.1300\" height=\"3.3139\" ry=\"0.0400\" fill=\"currentColor\"/>\n",
       "<rect transform=\"translate(88.9034, 79.1692)\" x=\"-0.0650\" y=\"-3.5000\" width=\"0.1300\" height=\"3.3139\" ry=\"0.0400\" fill=\"currentColor\"/>\n",
       "<path transform=\"translate(98.1135, 79.1692) scale(0.0040, -0.0040)\" d=\"M218 136c55 0 108 -28 108 -89c0 -71 -55 -121 -102 -149c-35 -21 -75 -34 -116 -34c-55 0 -108 28 -108 89c0 71 55 121 102 149c35 21 75 34 116 34z\" fill=\"currentColor\"/>\n",
       "<rect transform=\"translate(99.3527, 79.1692)\" x=\"-0.0650\" y=\"-3.5000\" width=\"0.1300\" height=\"3.3139\" ry=\"0.0400\" fill=\"currentColor\"/>\n",
       "<rect transform=\"translate(99.2527, 88.1692)\" x=\"-0.0650\" y=\"-3.5000\" width=\"0.1300\" height=\"3.3139\" ry=\"0.0400\" fill=\"currentColor\"/>\n",
       "<path transform=\"translate(98.2357, 16.1692) scale(0.0040, -0.0040)\" d=\"M218 136c55 0 108 -28 108 -89c0 -71 -55 -121 -102 -149c-35 -21 -75 -34 -116 -34c-55 0 -108 28 -108 89c0 71 55 121 102 149c35 21 75 34 116 34z\" fill=\"currentColor\"/>\n",
       "<path transform=\"translate(98.2357, 70.1692) scale(0.0040, -0.0040)\" d=\"M218 136c55 0 108 -28 108 -89c0 -71 -55 -121 -102 -149c-35 -21 -75 -34 -116 -34c-55 0 -108 28 -108 89c0 71 55 121 102 149c35 21 75 34 116 34z\" fill=\"currentColor\"/>\n",
       "<rect transform=\"translate(99.4750, 16.1692)\" x=\"-0.0650\" y=\"-3.1900\" width=\"0.1300\" height=\"3.0039\" ry=\"0.0400\" fill=\"currentColor\"/>\n",
       "<path transform=\"translate(98.0135, 88.1692) scale(0.0040, -0.0040)\" d=\"M218 136c55 0 108 -28 108 -89c0 -71 -55 -121 -102 -149c-35 -21 -75 -34 -116 -34c-55 0 -108 28 -108 89c0 71 55 121 102 149c35 21 75 34 116 34z\" fill=\"currentColor\"/>\n",
       "<rect transform=\"translate(98.2524, 25.1692)\" x=\"-0.0650\" y=\"-3.5000\" width=\"0.1300\" height=\"3.3139\" ry=\"0.0400\" fill=\"currentColor\"/>\n",
       "<rect transform=\"translate(98.2524, 7.1692)\" x=\"-0.0650\" y=\"-3.5000\" width=\"0.1300\" height=\"3.3139\" ry=\"0.0400\" fill=\"currentColor\"/>\n",
       "<path transform=\"translate(97.0132, 25.1692) scale(0.0040, -0.0040)\" d=\"M218 136c55 0 108 -28 108 -89c0 -71 -55 -121 -102 -149c-35 -21 -75 -34 -116 -34c-55 0 -108 28 -108 89c0 71 55 121 102 149c35 21 75 34 116 34z\" fill=\"currentColor\"/>\n",
       "<path transform=\"translate(97.0132, 7.1692) scale(0.0040, -0.0040)\" d=\"M218 136c55 0 108 -28 108 -89c0 -71 -55 -121 -102 -149c-35 -21 -75 -34 -116 -34c-55 0 -108 28 -108 89c0 71 55 121 102 149c35 21 75 34 116 34z\" fill=\"currentColor\"/>\n",
       "<rect transform=\"translate(100.4530, 34.1692)\" x=\"-0.0650\" y=\"-3.1900\" width=\"0.1300\" height=\"3.0039\" ry=\"0.0400\" fill=\"currentColor\"/>\n",
       "<path transform=\"translate(99.2138, 34.1692) scale(0.0040, -0.0040)\" d=\"M218 136c55 0 108 -28 108 -89c0 -71 -55 -121 -102 -149c-35 -21 -75 -34 -116 -34c-55 0 -108 28 -108 89c0 71 55 121 102 149c35 21 75 34 116 34z\" fill=\"currentColor\"/>\n",
       "<rect transform=\"translate(100.0862, 43.1692)\" x=\"-0.0650\" y=\"-3.1900\" width=\"0.1300\" height=\"3.0039\" ry=\"0.0400\" fill=\"currentColor\"/>\n",
       "<rect transform=\"translate(100.0862, 7.1692)\" x=\"-0.0650\" y=\"-3.5000\" width=\"0.1300\" height=\"3.3139\" ry=\"0.0400\" fill=\"currentColor\"/>\n",
       "<path transform=\"translate(98.8470, 43.1692) scale(0.0040, -0.0040)\" d=\"M218 136c55 0 108 -28 108 -89c0 -71 -55 -121 -102 -149c-35 -21 -75 -34 -116 -34c-55 0 -108 28 -108 89c0 71 55 121 102 149c35 21 75 34 116 34z\" fill=\"currentColor\"/>\n",
       "<path transform=\"translate(98.8470, 7.1692) scale(0.0040, -0.0040)\" d=\"M218 136c55 0 108 -28 108 -89c0 -71 -55 -121 -102 -149c-35 -21 -75 -34 -116 -34c-55 0 -108 28 -108 89c0 71 55 121 102 149c35 21 75 34 116 34z\" fill=\"currentColor\"/>\n",
       "<rect transform=\"translate(99.8243, 52.1692)\" x=\"-0.0650\" y=\"-3.1900\" width=\"0.1300\" height=\"3.0039\" ry=\"0.0400\" fill=\"currentColor\"/>\n",
       "<path transform=\"translate(98.5851, 52.1692) scale(0.0040, -0.0040)\" d=\"M218 136c55 0 108 -28 108 -89c0 -71 -55 -121 -102 -149c-35 -21 -75 -34 -116 -34c-55 0 -108 28 -108 89c0 71 55 121 102 149c35 21 75 34 116 34z\" fill=\"currentColor\"/>\n",
       "<rect transform=\"translate(99.6278, 61.1692)\" x=\"-0.0650\" y=\"-3.5000\" width=\"0.1300\" height=\"3.3139\" ry=\"0.0400\" fill=\"currentColor\"/>\n",
       "<path transform=\"translate(98.3886, 61.1692) scale(0.0040, -0.0040)\" d=\"M218 136c55 0 108 -28 108 -89c0 -71 -55 -121 -102 -149c-35 -21 -75 -34 -116 -34c-55 0 -108 28 -108 89c0 71 55 121 102 149c35 21 75 34 116 34z\" fill=\"currentColor\"/>\n",
       "<rect transform=\"translate(99.4750, 70.1692)\" x=\"-0.0650\" y=\"-3.5000\" width=\"0.1300\" height=\"3.3139\" ry=\"0.0400\" fill=\"currentColor\"/>\n",
       "<path transform=\"translate(95.0116, 88.1692) scale(0.0040, -0.0040)\" d=\"M218 136c55 0 108 -28 108 -89c0 -71 -55 -121 -102 -149c-35 -21 -75 -34 -116 -34c-55 0 -108 28 -108 89c0 71 55 121 102 149c35 21 75 34 116 34z\" fill=\"currentColor\"/>\n",
       "<rect transform=\"translate(96.2508, 88.1692)\" x=\"-0.0650\" y=\"-3.5000\" width=\"0.1300\" height=\"3.3139\" ry=\"0.0400\" fill=\"currentColor\"/>\n",
       "<path transform=\"translate(95.1260, 79.1692) scale(0.0040, -0.0040)\" d=\"M218 136c55 0 108 -28 108 -89c0 -71 -55 -121 -102 -149c-35 -21 -75 -34 -116 -34c-55 0 -108 28 -108 89c0 71 55 121 102 149c35 21 75 34 116 34z\" fill=\"currentColor\"/>\n",
       "<rect transform=\"translate(96.3652, 79.1692)\" x=\"-0.0650\" y=\"-3.5000\" width=\"0.1300\" height=\"3.3139\" ry=\"0.0400\" fill=\"currentColor\"/>\n",
       "<path transform=\"translate(95.2658, 70.1692) scale(0.0040, -0.0040)\" d=\"M218 136c55 0 108 -28 108 -89c0 -71 -55 -121 -102 -149c-35 -21 -75 -34 -116 -34c-55 0 -108 28 -108 89c0 71 55 121 102 149c35 21 75 34 116 34z\" fill=\"currentColor\"/>\n",
       "<rect transform=\"translate(96.5050, 70.1692)\" x=\"-0.0650\" y=\"-3.5000\" width=\"0.1300\" height=\"3.3139\" ry=\"0.0400\" fill=\"currentColor\"/>\n",
       "<rect transform=\"translate(95.8934, 25.1692)\" x=\"-0.0650\" y=\"-3.5000\" width=\"0.1300\" height=\"3.3139\" ry=\"0.0400\" fill=\"currentColor\"/>\n",
       "<path transform=\"translate(94.6542, 25.1692) scale(0.0040, -0.0040)\" d=\"M218 136c55 0 108 -28 108 -89c0 -71 -55 -121 -102 -149c-35 -21 -75 -34 -116 -34c-55 0 -108 28 -108 89c0 71 55 121 102 149c35 21 75 34 116 34z\" fill=\"currentColor\"/>\n",
       "<rect transform=\"translate(95.1070, 34.1692)\" x=\"-0.0650\" y=\"-3.1900\" width=\"0.1300\" height=\"3.0039\" ry=\"0.0400\" fill=\"currentColor\"/>\n",
       "<rect transform=\"translate(95.1070, 16.1692)\" x=\"-0.0650\" y=\"-3.1900\" width=\"0.1300\" height=\"3.0039\" ry=\"0.0400\" fill=\"currentColor\"/>\n",
       "<path transform=\"translate(93.8678, 34.1692) scale(0.0040, -0.0040)\" d=\"M218 136c55 0 108 -28 108 -89c0 -71 -55 -121 -102 -149c-35 -21 -75 -34 -116 -34c-55 0 -108 28 -108 89c0 71 55 121 102 149c35 21 75 34 116 34z\" fill=\"currentColor\"/>\n",
       "<path transform=\"translate(93.8678, 16.1692) scale(0.0040, -0.0040)\" d=\"M218 136c55 0 108 -28 108 -89c0 -71 -55 -121 -102 -149c-35 -21 -75 -34 -116 -34c-55 0 -108 28 -108 89c0 71 55 121 102 149c35 21 75 34 116 34z\" fill=\"currentColor\"/>\n",
       "<rect transform=\"translate(97.6233, 34.1692)\" x=\"-0.0650\" y=\"-3.1900\" width=\"0.1300\" height=\"3.0039\" ry=\"0.0400\" fill=\"currentColor\"/>\n",
       "<path transform=\"translate(96.3841, 34.1692) scale(0.0040, -0.0040)\" d=\"M218 136c55 0 108 -28 108 -89c0 -71 -55 -121 -102 -149c-35 -21 -75 -34 -116 -34c-55 0 -108 28 -108 89c0 71 55 121 102 149c35 21 75 34 116 34z\" fill=\"currentColor\"/>\n",
       "<rect transform=\"translate(97.2039, 43.1692)\" x=\"-0.0650\" y=\"-3.1900\" width=\"0.1300\" height=\"3.0039\" ry=\"0.0400\" fill=\"currentColor\"/>\n",
       "<rect transform=\"translate(97.2039, 16.1692)\" x=\"-0.0650\" y=\"-3.1900\" width=\"0.1300\" height=\"3.0039\" ry=\"0.0400\" fill=\"currentColor\"/>\n",
       "<path transform=\"translate(95.9647, 43.1692) scale(0.0040, -0.0040)\" d=\"M218 136c55 0 108 -28 108 -89c0 -71 -55 -121 -102 -149c-35 -21 -75 -34 -116 -34c-55 0 -108 28 -108 89c0 71 55 121 102 149c35 21 75 34 116 34z\" fill=\"currentColor\"/>\n",
       "<path transform=\"translate(95.9647, 16.1692) scale(0.0040, -0.0040)\" d=\"M218 136c55 0 108 -28 108 -89c0 -71 -55 -121 -102 -149c-35 -21 -75 -34 -116 -34c-55 0 -108 28 -108 89c0 71 55 121 102 149c35 21 75 34 116 34z\" fill=\"currentColor\"/>\n",
       "<rect transform=\"translate(96.9044, 52.1692)\" x=\"-0.0650\" y=\"-3.1900\" width=\"0.1300\" height=\"3.0039\" ry=\"0.0400\" fill=\"currentColor\"/>\n",
       "<path transform=\"translate(95.6652, 52.1692) scale(0.0040, -0.0040)\" d=\"M218 136c55 0 108 -28 108 -89c0 -71 -55 -121 -102 -149c-35 -21 -75 -34 -116 -34c-55 0 -108 28 -108 89c0 71 55 121 102 149c35 21 75 34 116 34z\" fill=\"currentColor\"/>\n",
       "<rect transform=\"translate(96.6797, 61.1692)\" x=\"-0.0650\" y=\"-3.5000\" width=\"0.1300\" height=\"3.3139\" ry=\"0.0400\" fill=\"currentColor\"/>\n",
       "<path transform=\"translate(95.4405, 61.1692) scale(0.0040, -0.0040)\" d=\"M218 136c55 0 108 -28 108 -89c0 -71 -55 -121 -102 -149c-35 -21 -75 -34 -116 -34c-55 0 -108 28 -108 89c0 71 55 121 102 149c35 21 75 34 116 34z\" fill=\"currentColor\"/>\n",
       "<rect transform=\"translate(14.4750, 79.1692)\" x=\"-0.0650\" y=\"-4.1250\" width=\"0.1300\" height=\"3.9389\" ry=\"0.0400\" fill=\"currentColor\"/>\n",
       "<path transform=\"translate(14.5400, 75.0842) scale(0.0040, -0.0040)\" d=\"M0 -212v-5c0 -110 85 -194 144 -285c3 11 5 23 5 35c0 93 -85 187 -149 255zM0 0c0 -175 191 -292 191 -467c0 -29 -8 -57 -19 -84c17 -35 29 -71 29 -111c0 -36 -8 -72 -23 -105c18 -35 29 -72 29 -113c0 -60 -15 -119 -41 -173c-5 -8 -13 -11 -20 -11\n",
       "c-13 0 -26 11 -23 27c26 49 42 102 42 157c0 91 -94 175 -165 233v-103h-16v750h16zM0 -430v-5c0 -112 88 -194 149 -285c6 19 10 38 10 58c0 90 -91 173 -159 232z\" fill=\"currentColor\"/>\n",
       "<rect transform=\"translate(14.4750, 88.1692)\" x=\"-0.0650\" y=\"-4.1250\" width=\"0.1300\" height=\"3.9389\" ry=\"0.0400\" fill=\"currentColor\"/>\n",
       "<path transform=\"translate(14.5400, 84.0842) scale(0.0040, -0.0040)\" d=\"M0 -212v-5c0 -110 85 -194 144 -285c3 11 5 23 5 35c0 93 -85 187 -149 255zM0 0c0 -175 191 -292 191 -467c0 -29 -8 -57 -19 -84c17 -35 29 -71 29 -111c0 -36 -8 -72 -23 -105c18 -35 29 -72 29 -113c0 -60 -15 -119 -41 -173c-5 -8 -13 -11 -20 -11\n",
       "c-13 0 -26 11 -23 27c26 49 42 102 42 157c0 91 -94 175 -165 233v-103h-16v750h16zM0 -430v-5c0 -112 88 -194 149 -285c6 19 10 38 10 58c0 90 -91 173 -159 232z\" fill=\"currentColor\"/>\n",
       "<path transform=\"translate(14.5400, 66.0842) scale(0.0040, -0.0040)\" d=\"M0 -212v-5c0 -110 85 -194 144 -285c3 11 5 23 5 35c0 93 -85 187 -149 255zM0 0c0 -175 191 -292 191 -467c0 -29 -8 -57 -19 -84c17 -35 29 -71 29 -111c0 -36 -8 -72 -23 -105c18 -35 29 -72 29 -113c0 -60 -15 -119 -41 -173c-5 -8 -13 -11 -20 -11\n",
       "c-13 0 -26 11 -23 27c26 49 42 102 42 157c0 91 -94 175 -165 233v-103h-16v750h16zM0 -430v-5c0 -112 88 -194 149 -285c6 19 10 38 10 58c0 90 -91 173 -159 232z\" fill=\"currentColor\"/>\n",
       "<rect transform=\"translate(14.4750, 70.1692)\" x=\"-0.0650\" y=\"-4.1250\" width=\"0.1300\" height=\"3.9389\" ry=\"0.0400\" fill=\"currentColor\"/>\n",
       "<path transform=\"translate(14.5400, 57.0842) scale(0.0040, -0.0040)\" d=\"M0 -212v-5c0 -110 85 -194 144 -285c3 11 5 23 5 35c0 93 -85 187 -149 255zM0 0c0 -175 191 -292 191 -467c0 -29 -8 -57 -19 -84c17 -35 29 -71 29 -111c0 -36 -8 -72 -23 -105c18 -35 29 -72 29 -113c0 -60 -15 -119 -41 -173c-5 -8 -13 -11 -20 -11\n",
       "c-13 0 -26 11 -23 27c26 49 42 102 42 157c0 91 -94 175 -165 233v-103h-16v750h16zM0 -430v-5c0 -112 88 -194 149 -285c6 19 10 38 10 58c0 90 -91 173 -159 232z\" fill=\"currentColor\"/>\n",
       "<rect transform=\"translate(14.4750, 61.1692)\" x=\"-0.0650\" y=\"-4.1250\" width=\"0.1300\" height=\"3.9389\" ry=\"0.0400\" fill=\"currentColor\"/>\n",
       "<path transform=\"translate(14.5400, 48.8342) scale(0.0040, -0.0040)\" d=\"M0 0c0 -177 201 -293 201 -470c0 -33 -9 -65 -23 -95c18 -37 29 -75 29 -117c0 -63 -15 -125 -41 -183c-5 -8 -13 -12 -20 -12c-13 0 -26 11 -23 27c26 52 42 110 42 168c0 97 -94 190 -165 257v-75h-16v500h16zM151 -517c5 15 8 31 8 47c0 96 -91 190 -159 257\n",
       "c0 -118 90 -206 151 -304z\" fill=\"currentColor\"/>\n",
       "<rect transform=\"translate(81.5971, 79.1692)\" x=\"-0.0650\" y=\"-3.5000\" width=\"0.1300\" height=\"3.3139\" ry=\"0.0400\" fill=\"currentColor\"/>\n",
       "<path transform=\"translate(80.3579, 79.1692) scale(0.0040, -0.0040)\" d=\"M218 136c55 0 108 -28 108 -89c0 -71 -55 -121 -102 -149c-35 -21 -75 -34 -116 -34c-55 0 -108 28 -108 89c0 71 55 121 102 149c35 21 75 34 116 34z\" fill=\"currentColor\"/>\n",
       "<rect transform=\"translate(81.5244, 88.1692)\" x=\"-0.0650\" y=\"-3.5000\" width=\"0.1300\" height=\"3.3139\" ry=\"0.0400\" fill=\"currentColor\"/>\n",
       "<path transform=\"translate(80.2852, 88.1692) scale(0.0040, -0.0040)\" d=\"M218 136c55 0 108 -28 108 -89c0 -71 -55 -121 -102 -149c-35 -21 -75 -34 -116 -34c-55 0 -108 28 -108 89c0 71 55 121 102 149c35 21 75 34 116 34z\" fill=\"currentColor\"/>\n",
       "<rect transform=\"translate(80.7969, 16.1692)\" x=\"-0.0650\" y=\"-3.1900\" width=\"0.1300\" height=\"3.0039\" ry=\"0.0400\" fill=\"currentColor\"/>\n",
       "<rect transform=\"translate(14.4750, 52.1692)\" x=\"-0.0650\" y=\"-3.3750\" width=\"0.1300\" height=\"3.1889\" ry=\"0.0400\" fill=\"currentColor\"/>\n",
       "<rect transform=\"translate(80.7969, 7.1692)\" x=\"-0.0650\" y=\"-3.5000\" width=\"0.1300\" height=\"3.3139\" ry=\"0.0400\" fill=\"currentColor\"/>\n",
       "<path transform=\"translate(79.5577, 16.1692) scale(0.0040, -0.0040)\" d=\"M218 136c55 0 108 -28 108 -89c0 -71 -55 -121 -102 -149c-35 -21 -75 -34 -116 -34c-55 0 -108 28 -108 89c0 71 55 121 102 149c35 21 75 34 116 34z\" fill=\"currentColor\"/>\n",
       "<path transform=\"translate(79.5577, 7.1692) scale(0.0040, -0.0040)\" d=\"M218 136c55 0 108 -28 108 -89c0 -71 -55 -121 -102 -149c-35 -21 -75 -34 -116 -34c-55 0 -108 28 -108 89c0 71 55 121 102 149c35 21 75 34 116 34z\" fill=\"currentColor\"/>\n",
       "<rect transform=\"translate(79.7966, 25.1692)\" x=\"-0.0650\" y=\"-3.1900\" width=\"0.1300\" height=\"3.0039\" ry=\"0.0400\" fill=\"currentColor\"/>\n",
       "<path transform=\"translate(78.5574, 25.1692) scale(0.0040, -0.0040)\" d=\"M218 136c55 0 108 -28 108 -89c0 -71 -55 -121 -102 -149c-35 -21 -75 -34 -116 -34c-55 0 -108 28 -108 89c0 71 55 121 102 149c35 21 75 34 116 34z\" fill=\"currentColor\"/>\n",
       "<path transform=\"translate(13.2358, 52.1692) scale(0.0040, -0.0040)\" d=\"M218 136c55 0 108 -28 108 -89c0 -71 -55 -121 -102 -149c-35 -21 -75 -34 -116 -34c-55 0 -108 28 -108 89c0 71 55 121 102 149c35 21 75 34 116 34z\" fill=\"currentColor\"/>\n",
       "<path transform=\"translate(13.2358, 16.1692) scale(0.0040, -0.0040)\" d=\"M218 136c55 0 108 -28 108 -89c0 -71 -55 -121 -102 -149c-35 -21 -75 -34 -116 -34c-55 0 -108 28 -108 89c0 71 55 121 102 149c35 21 75 34 116 34z\" fill=\"currentColor\"/>\n",
       "<path transform=\"translate(9.5358, 16.1692) scale(0.0040, -0.0040)\" d=\"M359 27c-49 0 -75 42 -75 75c0 38 27 77 72 77c4 0 9 0 14 -1c-28 37 -72 59 -120 59c-106 0 -113 -73 -113 -186v-51v-51c0 -113 7 -187 113 -187c80 0 139 70 158 151c2 7 7 10 12 10c6 0 13 -4 13 -12c0 -94 -105 -174 -183 -174c-68 0 -137 21 -184 70\n",
       "c-49 51 -66 122 -66 193s17 142 66 193c47 49 116 69 184 69c87 0 160 -64 175 -150c1 -5 1 -9 1 -13c0 -40 -30 -72 -67 -72z\" fill=\"currentColor\"/>\n",
       "<path transform=\"translate(13.2358, 25.1692) scale(0.0040, -0.0040)\" d=\"M218 136c55 0 108 -28 108 -89c0 -71 -55 -121 -102 -149c-35 -21 -75 -34 -116 -34c-55 0 -108 28 -108 89c0 71 55 121 102 149c35 21 75 34 116 34z\" fill=\"currentColor\"/>\n",
       "<path transform=\"translate(9.5358, 25.1692) scale(0.0040, -0.0040)\" d=\"M359 27c-49 0 -75 42 -75 75c0 38 27 77 72 77c4 0 9 0 14 -1c-28 37 -72 59 -120 59c-106 0 -113 -73 -113 -186v-51v-51c0 -113 7 -187 113 -187c80 0 139 70 158 151c2 7 7 10 12 10c6 0 13 -4 13 -12c0 -94 -105 -174 -183 -174c-68 0 -137 21 -184 70\n",
       "c-49 51 -66 122 -66 193s17 142 66 193c47 49 116 69 184 69c87 0 160 -64 175 -150c1 -5 1 -9 1 -13c0 -40 -30 -72 -67 -72z\" fill=\"currentColor\"/>\n",
       "<path transform=\"translate(13.2358, 34.1692) scale(0.0040, -0.0040)\" d=\"M218 136c55 0 108 -28 108 -89c0 -71 -55 -121 -102 -149c-35 -21 -75 -34 -116 -34c-55 0 -108 28 -108 89c0 71 55 121 102 149c35 21 75 34 116 34z\" fill=\"currentColor\"/>\n",
       "<path transform=\"translate(9.5358, 34.1692) scale(0.0040, -0.0040)\" d=\"M359 27c-49 0 -75 42 -75 75c0 38 27 77 72 77c4 0 9 0 14 -1c-28 37 -72 59 -120 59c-106 0 -113 -73 -113 -186v-51v-51c0 -113 7 -187 113 -187c80 0 139 70 158 151c2 7 7 10 12 10c6 0 13 -4 13 -12c0 -94 -105 -174 -183 -174c-68 0 -137 21 -184 70\n",
       "c-49 51 -66 122 -66 193s17 142 66 193c47 49 116 69 184 69c87 0 160 -64 175 -150c1 -5 1 -9 1 -13c0 -40 -30 -72 -67 -72z\" fill=\"currentColor\"/>\n",
       "<path transform=\"translate(13.2358, 43.1692) scale(0.0040, -0.0040)\" d=\"M218 136c55 0 108 -28 108 -89c0 -71 -55 -121 -102 -149c-35 -21 -75 -34 -116 -34c-55 0 -108 28 -108 89c0 71 55 121 102 149c35 21 75 34 116 34z\" fill=\"currentColor\"/>\n",
       "<path transform=\"translate(9.5358, 43.1692) scale(0.0040, -0.0040)\" d=\"M359 27c-49 0 -75 42 -75 75c0 38 27 77 72 77c4 0 9 0 14 -1c-28 37 -72 59 -120 59c-106 0 -113 -73 -113 -186v-51v-51c0 -113 7 -187 113 -187c80 0 139 70 158 151c2 7 7 10 12 10c6 0 13 -4 13 -12c0 -94 -105 -174 -183 -174c-68 0 -137 21 -184 70\n",
       "c-49 51 -66 122 -66 193s17 142 66 193c47 49 116 69 184 69c87 0 160 -64 175 -150c1 -5 1 -9 1 -13c0 -40 -30 -72 -67 -72z\" fill=\"currentColor\"/>\n",
       "<path transform=\"translate(9.5358, 7.1692) scale(0.0040, -0.0040)\" d=\"M359 27c-49 0 -75 42 -75 75c0 38 27 77 72 77c4 0 9 0 14 -1c-28 37 -72 59 -120 59c-106 0 -113 -73 -113 -186v-51v-51c0 -113 7 -187 113 -187c80 0 139 70 158 151c2 7 7 10 12 10c6 0 13 -4 13 -12c0 -94 -105 -174 -183 -174c-68 0 -137 21 -184 70\n",
       "c-49 51 -66 122 -66 193s17 142 66 193c47 49 116 69 184 69c87 0 160 -64 175 -150c1 -5 1 -9 1 -13c0 -40 -30 -72 -67 -72z\" fill=\"currentColor\"/>\n",
       "<path transform=\"translate(9.5358, 52.1692) scale(0.0040, -0.0040)\" d=\"M359 27c-49 0 -75 42 -75 75c0 38 27 77 72 77c4 0 9 0 14 -1c-28 37 -72 59 -120 59c-106 0 -113 -73 -113 -186v-51v-51c0 -113 7 -187 113 -187c80 0 139 70 158 151c2 7 7 10 12 10c6 0 13 -4 13 -12c0 -94 -105 -174 -183 -174c-68 0 -137 21 -184 70\n",
       "c-49 51 -66 122 -66 193s17 142 66 193c47 49 116 69 184 69c87 0 160 -64 175 -150c1 -5 1 -9 1 -13c0 -40 -30 -72 -67 -72z\" fill=\"currentColor\"/>\n",
       "<path transform=\"translate(13.2358, 61.1692) scale(0.0040, -0.0040)\" d=\"M218 136c55 0 108 -28 108 -89c0 -71 -55 -121 -102 -149c-35 -21 -75 -34 -116 -34c-55 0 -108 28 -108 89c0 71 55 121 102 149c35 21 75 34 116 34z\" fill=\"currentColor\"/>\n",
       "<path transform=\"translate(9.5358, 61.1692) scale(0.0040, -0.0040)\" d=\"M359 27c-49 0 -75 42 -75 75c0 38 27 77 72 77c4 0 9 0 14 -1c-28 37 -72 59 -120 59c-106 0 -113 -73 -113 -186v-51v-51c0 -113 7 -187 113 -187c80 0 139 70 158 151c2 7 7 10 12 10c6 0 13 -4 13 -12c0 -94 -105 -174 -183 -174c-68 0 -137 21 -184 70\n",
       "c-49 51 -66 122 -66 193s17 142 66 193c47 49 116 69 184 69c87 0 160 -64 175 -150c1 -5 1 -9 1 -13c0 -40 -30 -72 -67 -72z\" fill=\"currentColor\"/>\n",
       "<path transform=\"translate(13.2358, 70.1692) scale(0.0040, -0.0040)\" d=\"M218 136c55 0 108 -28 108 -89c0 -71 -55 -121 -102 -149c-35 -21 -75 -34 -116 -34c-55 0 -108 28 -108 89c0 71 55 121 102 149c35 21 75 34 116 34z\" fill=\"currentColor\"/>\n",
       "<path transform=\"translate(9.5358, 70.1692) scale(0.0040, -0.0040)\" d=\"M359 27c-49 0 -75 42 -75 75c0 38 27 77 72 77c4 0 9 0 14 -1c-28 37 -72 59 -120 59c-106 0 -113 -73 -113 -186v-51v-51c0 -113 7 -187 113 -187c80 0 139 70 158 151c2 7 7 10 12 10c6 0 13 -4 13 -12c0 -94 -105 -174 -183 -174c-68 0 -137 21 -184 70\n",
       "c-49 51 -66 122 -66 193s17 142 66 193c47 49 116 69 184 69c87 0 160 -64 175 -150c1 -5 1 -9 1 -13c0 -40 -30 -72 -67 -72z\" fill=\"currentColor\"/>\n",
       "<path transform=\"translate(13.2358, 79.1692) scale(0.0040, -0.0040)\" d=\"M218 136c55 0 108 -28 108 -89c0 -71 -55 -121 -102 -149c-35 -21 -75 -34 -116 -34c-55 0 -108 28 -108 89c0 71 55 121 102 149c35 21 75 34 116 34z\" fill=\"currentColor\"/>\n",
       "<path transform=\"translate(9.5358, 79.1692) scale(0.0040, -0.0040)\" d=\"M359 27c-49 0 -75 42 -75 75c0 38 27 77 72 77c4 0 9 0 14 -1c-28 37 -72 59 -120 59c-106 0 -113 -73 -113 -186v-51v-51c0 -113 7 -187 113 -187c80 0 139 70 158 151c2 7 7 10 12 10c6 0 13 -4 13 -12c0 -94 -105 -174 -183 -174c-68 0 -137 21 -184 70\n",
       "c-49 51 -66 122 -66 193s17 142 66 193c47 49 116 69 184 69c87 0 160 -64 175 -150c1 -5 1 -9 1 -13c0 -40 -30 -72 -67 -72z\" fill=\"currentColor\"/>\n",
       "<path transform=\"translate(13.2358, 88.1692) scale(0.0040, -0.0040)\" d=\"M218 136c55 0 108 -28 108 -89c0 -71 -55 -121 -102 -149c-35 -21 -75 -34 -116 -34c-55 0 -108 28 -108 89c0 71 55 121 102 149c35 21 75 34 116 34z\" fill=\"currentColor\"/>\n",
       "<path transform=\"translate(13.2358, 7.1692) scale(0.0040, -0.0040)\" d=\"M218 136c55 0 108 -28 108 -89c0 -71 -55 -121 -102 -149c-35 -21 -75 -34 -116 -34c-55 0 -108 28 -108 89c0 71 55 121 102 149c35 21 75 34 116 34z\" fill=\"currentColor\"/>\n",
       "<rect transform=\"translate(8.4758, 47.6692)\" x=\"0.0000\" y=\"-40.5500\" width=\"0.1600\" height=\"81.1000\" ry=\"0.0500\" fill=\"currentColor\"/>\n",
       "<path transform=\"translate(14.5400, 21.8342) scale(0.0040, -0.0040)\" d=\"M0 0c0 -177 201 -293 201 -470c0 -33 -9 -65 -23 -95c18 -37 29 -75 29 -117c0 -63 -15 -125 -41 -183c-5 -8 -13 -12 -20 -12c-13 0 -26 11 -23 27c26 52 42 110 42 168c0 97 -94 190 -165 257v-75h-16v500h16zM151 -517c5 15 8 31 8 47c0 96 -91 190 -159 257\n",
       "c0 -118 90 -206 151 -304z\" fill=\"currentColor\"/>\n",
       "<path transform=\"translate(14.5400, 39.8342) scale(0.0040, -0.0040)\" d=\"M0 0c0 -177 201 -293 201 -470c0 -33 -9 -65 -23 -95c18 -37 29 -75 29 -117c0 -63 -15 -125 -41 -183c-5 -8 -13 -12 -20 -12c-13 0 -26 11 -23 27c26 52 42 110 42 168c0 97 -94 190 -165 257v-75h-16v500h16zM151 -517c5 15 8 31 8 47c0 96 -91 190 -159 257\n",
       "c0 -118 90 -206 151 -304z\" fill=\"currentColor\"/>\n",
       "<rect transform=\"translate(14.4750, 43.1692)\" x=\"-0.0650\" y=\"-3.3750\" width=\"0.1300\" height=\"3.1889\" ry=\"0.0400\" fill=\"currentColor\"/>\n",
       "<path transform=\"translate(14.5400, 30.8342) scale(0.0040, -0.0040)\" d=\"M0 0c0 -177 201 -293 201 -470c0 -33 -9 -65 -23 -95c18 -37 29 -75 29 -117c0 -63 -15 -125 -41 -183c-5 -8 -13 -12 -20 -12c-13 0 -26 11 -23 27c26 52 42 110 42 168c0 97 -94 190 -165 257v-75h-16v500h16zM151 -517c5 15 8 31 8 47c0 96 -91 190 -159 257\n",
       "c0 -118 90 -206 151 -304z\" fill=\"currentColor\"/>\n",
       "<rect transform=\"translate(14.4750, 34.1692)\" x=\"-0.0650\" y=\"-3.3750\" width=\"0.1300\" height=\"3.1889\" ry=\"0.0400\" fill=\"currentColor\"/>\n",
       "<rect transform=\"translate(14.4750, 25.1692)\" x=\"-0.0650\" y=\"-3.3750\" width=\"0.1300\" height=\"3.1889\" ry=\"0.0400\" fill=\"currentColor\"/>\n",
       "<path transform=\"translate(14.5400, 12.8342) scale(0.0040, -0.0040)\" d=\"M0 0c0 -197 207 -336 207 -533c0 -71 -15 -141 -41 -207c-5 -8 -13 -12 -20 -12c-13 0 -26 11 -23 27c26 61 42 126 42 192c0 103 -94 208 -165 283h-16v250h16z\" fill=\"currentColor\"/>\n",
       "<rect transform=\"translate(14.4750, 16.1692)\" x=\"-0.0650\" y=\"-3.3750\" width=\"0.1300\" height=\"3.1889\" ry=\"0.0400\" fill=\"currentColor\"/>\n",
       "<rect transform=\"translate(14.4750, 7.1692)\" x=\"-0.0650\" y=\"-3.0000\" width=\"0.1300\" height=\"2.8139\" ry=\"0.0400\" fill=\"currentColor\"/>\n",
       "<path transform=\"translate(9.5358, 88.1692) scale(0.0040, -0.0040)\" d=\"M359 27c-49 0 -75 42 -75 75c0 38 27 77 72 77c4 0 9 0 14 -1c-28 37 -72 59 -120 59c-106 0 -113 -73 -113 -186v-51v-51c0 -113 7 -187 113 -187c80 0 139 70 158 151c2 7 7 10 12 10c6 0 13 -4 13 -12c0 -94 -105 -174 -183 -174c-68 0 -137 21 -184 70\n",
       "c-49 51 -66 122 -66 193s17 142 66 193c47 49 116 69 184 69c87 0 160 -64 175 -150c1 -5 1 -9 1 -13c0 -40 -30 -72 -67 -72z\" fill=\"currentColor\"/>\n",
       "<path transform=\"translate(84.1304, 52.1692) scale(0.0040, -0.0040)\" d=\"M218 136c55 0 108 -28 108 -89c0 -71 -55 -121 -102 -149c-35 -21 -75 -34 -116 -34c-55 0 -108 28 -108 89c0 71 55 121 102 149c35 21 75 34 116 34z\" fill=\"currentColor\"/>\n",
       "<rect transform=\"translate(85.3696, 52.1692)\" x=\"-0.0650\" y=\"-3.1900\" width=\"0.1300\" height=\"3.0039\" ry=\"0.0400\" fill=\"currentColor\"/>\n",
       "<path transform=\"translate(84.2257, 43.1692) scale(0.0040, -0.0040)\" d=\"M218 136c55 0 108 -28 108 -89c0 -71 -55 -121 -102 -149c-35 -21 -75 -34 -116 -34c-55 0 -108 28 -108 89c0 71 55 121 102 149c35 21 75 34 116 34z\" fill=\"currentColor\"/>\n",
       "<rect transform=\"translate(85.4649, 43.1692)\" x=\"-0.0650\" y=\"-3.1900\" width=\"0.1300\" height=\"3.0039\" ry=\"0.0400\" fill=\"currentColor\"/>\n",
       "<path transform=\"translate(84.3591, 34.1692) scale(0.0040, -0.0040)\" d=\"M218 136c55 0 108 -28 108 -89c0 -71 -55 -121 -102 -149c-35 -21 -75 -34 -116 -34c-55 0 -108 28 -108 89c0 71 55 121 102 149c35 21 75 34 116 34z\" fill=\"currentColor\"/>\n",
       "<rect transform=\"translate(85.5983, 34.1692)\" x=\"-0.0650\" y=\"-3.1900\" width=\"0.1300\" height=\"3.0039\" ry=\"0.0400\" fill=\"currentColor\"/>\n",
       "<rect transform=\"translate(85.2982, 61.1692)\" x=\"-0.0650\" y=\"-3.5000\" width=\"0.1300\" height=\"3.3139\" ry=\"0.0400\" fill=\"currentColor\"/>\n",
       "<path transform=\"translate(84.0590, 61.1692) scale(0.0040, -0.0040)\" d=\"M218 136c55 0 108 -28 108 -89c0 -71 -55 -121 -102 -149c-35 -21 -75 -34 -116 -34c-55 0 -108 28 -108 89c0 71 55 121 102 149c35 21 75 34 116 34z\" fill=\"currentColor\"/>\n",
       "<rect transform=\"translate(85.2426, 70.1692)\" x=\"-0.0650\" y=\"-3.5000\" width=\"0.1300\" height=\"3.3139\" ry=\"0.0400\" fill=\"currentColor\"/>\n",
       "<path transform=\"translate(84.0034, 70.1692) scale(0.0040, -0.0040)\" d=\"M218 136c55 0 108 -28 108 -89c0 -71 -55 -121 -102 -149c-35 -21 -75 -34 -116 -34c-55 0 -108 28 -108 89c0 71 55 121 102 149c35 21 75 34 116 34z\" fill=\"currentColor\"/>\n",
       "<rect transform=\"translate(88.9034, 7.1692)\" x=\"-0.0650\" y=\"-3.5000\" width=\"0.1300\" height=\"3.3139\" ry=\"0.0400\" fill=\"currentColor\"/>\n",
       "<path transform=\"translate(87.6642, 88.1692) scale(0.0040, -0.0040)\" d=\"M218 136c55 0 108 -28 108 -89c0 -71 -55 -121 -102 -149c-35 -21 -75 -34 -116 -34c-55 0 -108 28 -108 89c0 71 55 121 102 149c35 21 75 34 116 34z\" fill=\"currentColor\"/>\n",
       "<path transform=\"translate(87.6642, 79.1692) scale(0.0040, -0.0040)\" d=\"M218 136c55 0 108 -28 108 -89c0 -71 -55 -121 -102 -149c-35 -21 -75 -34 -116 -34c-55 0 -108 28 -108 89c0 71 55 121 102 149c35 21 75 34 116 34z\" fill=\"currentColor\"/>\n",
       "<path transform=\"translate(87.6642, 70.1692) scale(0.0040, -0.0040)\" d=\"M218 136c55 0 108 -28 108 -89c0 -71 -55 -121 -102 -149c-35 -21 -75 -34 -116 -34c-55 0 -108 28 -108 89c0 71 55 121 102 149c35 21 75 34 116 34z\" fill=\"currentColor\"/>\n",
       "<path transform=\"translate(87.6642, 61.1692) scale(0.0040, -0.0040)\" d=\"M218 136c55 0 108 -28 108 -89c0 -71 -55 -121 -102 -149c-35 -21 -75 -34 -116 -34c-55 0 -108 28 -108 89c0 71 55 121 102 149c35 21 75 34 116 34z\" fill=\"currentColor\"/>\n",
       "<path transform=\"translate(87.6642, 52.1692) scale(0.0040, -0.0040)\" d=\"M218 136c55 0 108 -28 108 -89c0 -71 -55 -121 -102 -149c-35 -21 -75 -34 -116 -34c-55 0 -108 28 -108 89c0 71 55 121 102 149c35 21 75 34 116 34z\" fill=\"currentColor\"/>\n",
       "<path transform=\"translate(87.6642, 43.1692) scale(0.0040, -0.0040)\" d=\"M218 136c55 0 108 -28 108 -89c0 -71 -55 -121 -102 -149c-35 -21 -75 -34 -116 -34c-55 0 -108 28 -108 89c0 71 55 121 102 149c35 21 75 34 116 34z\" fill=\"currentColor\"/>\n",
       "<path transform=\"translate(87.6642, 34.1692) scale(0.0040, -0.0040)\" d=\"M218 136c55 0 108 -28 108 -89c0 -71 -55 -121 -102 -149c-35 -21 -75 -34 -116 -34c-55 0 -108 28 -108 89c0 71 55 121 102 149c35 21 75 34 116 34z\" fill=\"currentColor\"/>\n",
       "<path transform=\"translate(87.6642, 25.1692) scale(0.0040, -0.0040)\" d=\"M218 136c55 0 108 -28 108 -89c0 -71 -55 -121 -102 -149c-35 -21 -75 -34 -116 -34c-55 0 -108 28 -108 89c0 71 55 121 102 149c35 21 75 34 116 34z\" fill=\"currentColor\"/>\n",
       "<path transform=\"translate(87.6642, 16.1692) scale(0.0040, -0.0040)\" d=\"M218 136c55 0 108 -28 108 -89c0 -71 -55 -121 -102 -149c-35 -21 -75 -34 -116 -34c-55 0 -108 28 -108 89c0 71 55 121 102 149c35 21 75 34 116 34z\" fill=\"currentColor\"/>\n",
       "<path transform=\"translate(87.6642, 7.1692) scale(0.0040, -0.0040)\" d=\"M218 136c55 0 108 -28 108 -89c0 -71 -55 -121 -102 -149c-35 -21 -75 -34 -116 -34c-55 0 -108 28 -108 89c0 71 55 121 102 149c35 21 75 34 116 34z\" fill=\"currentColor\"/>\n",
       "<rect transform=\"translate(85.1982, 79.1692)\" x=\"-0.0650\" y=\"-3.5000\" width=\"0.1300\" height=\"3.3139\" ry=\"0.0400\" fill=\"currentColor\"/>\n",
       "<rect transform=\"translate(86.7986, 7.1692)\" x=\"-0.0650\" y=\"-3.5000\" width=\"0.1300\" height=\"3.3139\" ry=\"0.0400\" fill=\"currentColor\"/>\n",
       "<path transform=\"translate(85.5594, 7.1692) scale(0.0040, -0.0040)\" d=\"M218 136c55 0 108 -28 108 -89c0 -71 -55 -121 -102 -149c-35 -21 -75 -34 -116 -34c-55 0 -108 28 -108 89c0 71 55 121 102 149c35 21 75 34 116 34z\" fill=\"currentColor\"/>\n",
       "<rect transform=\"translate(86.1318, 16.1692)\" x=\"-0.0650\" y=\"-3.1900\" width=\"0.1300\" height=\"3.0039\" ry=\"0.0400\" fill=\"currentColor\"/>\n",
       "<path transform=\"translate(84.8926, 16.1692) scale(0.0040, -0.0040)\" d=\"M218 136c55 0 108 -28 108 -89c0 -71 -55 -121 -102 -149c-35 -21 -75 -34 -116 -34c-55 0 -108 28 -108 89c0 71 55 121 102 149c35 21 75 34 116 34z\" fill=\"currentColor\"/>\n",
       "<rect transform=\"translate(85.7983, 25.1692)\" x=\"-0.0650\" y=\"-3.1900\" width=\"0.1300\" height=\"3.0039\" ry=\"0.0400\" fill=\"currentColor\"/>\n",
       "<path transform=\"translate(84.5591, 25.1692) scale(0.0040, -0.0040)\" d=\"M218 136c55 0 108 -28 108 -89c0 -71 -55 -121 -102 -149c-35 -21 -75 -34 -116 -34c-55 0 -108 28 -108 89c0 71 55 121 102 149c35 21 75 34 116 34z\" fill=\"currentColor\"/>\n",
       "<rect transform=\"translate(81.9401, 52.1692)\" x=\"-0.0650\" y=\"-3.1900\" width=\"0.1300\" height=\"3.0039\" ry=\"0.0400\" fill=\"currentColor\"/>\n",
       "<rect transform=\"translate(82.3974, 34.1692)\" x=\"-0.0650\" y=\"-3.1900\" width=\"0.1300\" height=\"3.0039\" ry=\"0.0400\" fill=\"currentColor\"/>\n",
       "<path transform=\"translate(81.1582, 34.1692) scale(0.0040, -0.0040)\" d=\"M218 136c55 0 108 -28 108 -89c0 -71 -55 -121 -102 -149c-35 -21 -75 -34 -116 -34c-55 0 -108 28 -108 89c0 71 55 121 102 149c35 21 75 34 116 34z\" fill=\"currentColor\"/>\n",
       "<rect transform=\"translate(82.1306, 43.1692)\" x=\"-0.0650\" y=\"-3.1900\" width=\"0.1300\" height=\"3.0039\" ry=\"0.0400\" fill=\"currentColor\"/>\n",
       "<path transform=\"translate(80.8914, 43.1692) scale(0.0040, -0.0040)\" d=\"M218 136c55 0 108 -28 108 -89c0 -71 -55 -121 -102 -149c-35 -21 -75 -34 -116 -34c-55 0 -108 28 -108 89c0 71 55 121 102 149c35 21 75 34 116 34z\" fill=\"currentColor\"/>\n",
       "<path transform=\"translate(80.7009, 52.1692) scale(0.0040, -0.0040)\" d=\"M218 136c55 0 108 -28 108 -89c0 -71 -55 -121 -102 -149c-35 -21 -75 -34 -116 -34c-55 0 -108 28 -108 89c0 71 55 121 102 149c35 21 75 34 116 34z\" fill=\"currentColor\"/>\n",
       "<rect transform=\"translate(81.7972, 61.1692)\" x=\"-0.0650\" y=\"-3.5000\" width=\"0.1300\" height=\"3.3139\" ry=\"0.0400\" fill=\"currentColor\"/>\n",
       "<path transform=\"translate(80.5580, 61.1692) scale(0.0040, -0.0040)\" d=\"M218 136c55 0 108 -28 108 -89c0 -71 -55 -121 -102 -149c-35 -21 -75 -34 -116 -34c-55 0 -108 28 -108 89c0 71 55 121 102 149c35 21 75 34 116 34z\" fill=\"currentColor\"/>\n",
       "<rect transform=\"translate(81.6861, 70.1692)\" x=\"-0.0650\" y=\"-3.5000\" width=\"0.1300\" height=\"3.3139\" ry=\"0.0400\" fill=\"currentColor\"/>\n",
       "<path transform=\"translate(80.4468, 70.1692) scale(0.0040, -0.0040)\" d=\"M218 136c55 0 108 -28 108 -89c0 -71 -55 -121 -102 -149c-35 -21 -75 -34 -116 -34c-55 0 -108 28 -108 89c0 71 55 121 102 149c35 21 75 34 116 34z\" fill=\"currentColor\"/>\n",
       "<path transform=\"translate(83.9590, 79.1692) scale(0.0040, -0.0040)\" d=\"M218 136c55 0 108 -28 108 -89c0 -71 -55 -121 -102 -149c-35 -21 -75 -34 -116 -34c-55 0 -108 28 -108 89c0 71 55 121 102 149c35 21 75 34 116 34z\" fill=\"currentColor\"/>\n",
       "<rect transform=\"translate(85.1618, 88.1692)\" x=\"-0.0650\" y=\"-3.5000\" width=\"0.1300\" height=\"3.3139\" ry=\"0.0400\" fill=\"currentColor\"/>\n",
       "<path transform=\"translate(83.9226, 88.1692) scale(0.0040, -0.0040)\" d=\"M218 136c55 0 108 -28 108 -89c0 -71 -55 -121 -102 -149c-35 -21 -75 -34 -116 -34c-55 0 -108 28 -108 89c0 71 55 121 102 149c35 21 75 34 116 34z\" fill=\"currentColor\"/>\n",
       "<rect transform=\"translate(84.7981, 7.1692)\" x=\"-0.0650\" y=\"-3.5000\" width=\"0.1300\" height=\"3.3139\" ry=\"0.0400\" fill=\"currentColor\"/>\n",
       "<path transform=\"translate(83.5588, 7.1692) scale(0.0040, -0.0040)\" d=\"M218 136c55 0 108 -28 108 -89c0 -71 -55 -121 -102 -149c-35 -21 -75 -34 -116 -34c-55 0 -108 28 -108 89c0 71 55 121 102 149c35 21 75 34 116 34z\" fill=\"currentColor\"/>\n",
       "<rect transform=\"translate(83.4643, 16.1692)\" x=\"-0.0650\" y=\"-3.1900\" width=\"0.1300\" height=\"3.0039\" ry=\"0.0400\" fill=\"currentColor\"/>\n",
       "<path transform=\"translate(82.2251, 16.1692) scale(0.0040, -0.0040)\" d=\"M218 136c55 0 108 -28 108 -89c0 -71 -55 -121 -102 -149c-35 -21 -75 -34 -116 -34c-55 0 -108 28 -108 89c0 71 55 121 102 149c35 21 75 34 116 34z\" fill=\"currentColor\"/>\n",
       "<rect transform=\"translate(82.7975, 25.1692)\" x=\"-0.0650\" y=\"-3.1900\" width=\"0.1300\" height=\"3.0039\" ry=\"0.0400\" fill=\"currentColor\"/>\n",
       "<rect transform=\"translate(82.7975, 7.1692)\" x=\"-0.0650\" y=\"-3.5000\" width=\"0.1300\" height=\"3.3139\" ry=\"0.0400\" fill=\"currentColor\"/>\n",
       "<path transform=\"translate(81.5583, 25.1692) scale(0.0040, -0.0040)\" d=\"M218 136c55 0 108 -28 108 -89c0 -71 -55 -121 -102 -149c-35 -21 -75 -34 -116 -34c-55 0 -108 28 -108 89c0 71 55 121 102 149c35 21 75 34 116 34z\" fill=\"currentColor\"/>\n",
       "<path transform=\"translate(81.5583, 7.1692) scale(0.0040, -0.0040)\" d=\"M218 136c55 0 108 -28 108 -89c0 -71 -55 -121 -102 -149c-35 -21 -75 -34 -116 -34c-55 0 -108 28 -108 89c0 71 55 121 102 149c35 21 75 34 116 34z\" fill=\"currentColor\"/>\n",
       "<rect transform=\"translate(24.6385, 61.1692)\" x=\"-0.0650\" y=\"-3.5000\" width=\"0.1300\" height=\"3.3139\" ry=\"0.0400\" fill=\"currentColor\"/>\n",
       "<path transform=\"translate(24.7035, 48.8342) scale(0.0040, -0.0040)\" d=\"M0 0c0 -177 201 -293 201 -470c0 -33 -9 -65 -23 -95c18 -37 29 -75 29 -117c0 -63 -15 -125 -41 -183c-5 -8 -13 -12 -20 -12c-13 0 -26 11 -23 27c26 52 42 110 42 168c0 97 -94 190 -165 257v-75h-16v500h16zM151 -517c5 15 8 31 8 47c0 96 -91 190 -159 257\n",
       "c0 -118 90 -206 151 -304z\" fill=\"currentColor\"/>\n",
       "<rect transform=\"translate(24.6385, 52.1692)\" x=\"-0.0650\" y=\"-3.3750\" width=\"0.1300\" height=\"3.1889\" ry=\"0.0400\" fill=\"currentColor\"/>\n",
       "<path transform=\"translate(24.7035, 39.8342) scale(0.0040, -0.0040)\" d=\"M0 0c0 -177 201 -293 201 -470c0 -33 -9 -65 -23 -95c18 -37 29 -75 29 -117c0 -63 -15 -125 -41 -183c-5 -8 -13 -12 -20 -12c-13 0 -26 11 -23 27c26 52 42 110 42 168c0 97 -94 190 -165 257v-75h-16v500h16zM151 -517c5 15 8 31 8 47c0 96 -91 190 -159 257\n",
       "c0 -118 90 -206 151 -304z\" fill=\"currentColor\"/>\n",
       "<rect transform=\"translate(24.6385, 43.1692)\" x=\"-0.0650\" y=\"-3.3750\" width=\"0.1300\" height=\"3.1889\" ry=\"0.0400\" fill=\"currentColor\"/>\n",
       "<rect transform=\"translate(24.6385, 70.1692)\" x=\"-0.0650\" y=\"-3.5000\" width=\"0.1300\" height=\"3.3139\" ry=\"0.0400\" fill=\"currentColor\"/>\n",
       "<rect transform=\"translate(24.6385, 34.1692)\" x=\"-0.0650\" y=\"-3.1900\" width=\"0.1300\" height=\"3.0039\" ry=\"0.0400\" fill=\"currentColor\"/>\n",
       "<rect transform=\"translate(24.6385, 25.1692)\" x=\"-0.0650\" y=\"-3.1900\" width=\"0.1300\" height=\"3.0039\" ry=\"0.0400\" fill=\"currentColor\"/>\n",
       "<rect transform=\"translate(24.6385, 16.1692)\" x=\"-0.0650\" y=\"-3.0000\" width=\"0.1300\" height=\"2.8139\" ry=\"0.0400\" fill=\"currentColor\"/>\n",
       "<rect transform=\"translate(27.0059, 88.1692)\" x=\"-0.0650\" y=\"-3.3333\" width=\"0.1300\" height=\"3.1472\" ry=\"0.0400\" fill=\"currentColor\"/>\n",
       "<path transform=\"translate(26.4032, 61.1692) scale(0.0040, -0.0040)\" d=\"M218 136c55 0 108 -28 108 -89c0 -71 -55 -121 -102 -149c-35 -21 -75 -34 -116 -34c-55 0 -108 28 -108 89c0 71 55 121 102 149c35 21 75 34 116 34z\" fill=\"currentColor\"/>\n",
       "<rect transform=\"translate(27.3975, 70.1692)\" x=\"-0.0650\" y=\"-3.5000\" width=\"0.1300\" height=\"3.3139\" ry=\"0.0400\" fill=\"currentColor\"/>\n",
       "<path transform=\"translate(26.1583, 70.1692) scale(0.0040, -0.0040)\" d=\"M218 136c55 0 108 -28 108 -89c0 -71 -55 -121 -102 -149c-35 -21 -75 -34 -116 -34c-55 0 -108 28 -108 89c0 71 55 121 102 149c35 21 75 34 116 34z\" fill=\"currentColor\"/>\n",
       "<rect transform=\"translate(27.1878, 79.1692)\" x=\"-0.0650\" y=\"-3.3333\" width=\"0.1300\" height=\"3.1472\" ry=\"0.0400\" fill=\"currentColor\"/>\n",
       "<path transform=\"translate(25.9486, 79.1692) scale(0.0040, -0.0040)\" d=\"M218 136c55 0 108 -28 108 -89c0 -71 -55 -121 -102 -149c-35 -21 -75 -34 -116 -34c-55 0 -108 28 -108 89c0 71 55 121 102 149c35 21 75 34 116 34z\" fill=\"currentColor\"/>\n",
       "<path transform=\"translate(25.7667, 88.1692) scale(0.0040, -0.0040)\" d=\"M218 136c55 0 108 -28 108 -89c0 -71 -55 -121 -102 -149c-35 -21 -75 -34 -116 -34c-55 0 -108 28 -108 89c0 71 55 121 102 149c35 21 75 34 116 34z\" fill=\"currentColor\"/>\n",
       "<path transform=\"translate(24.7035, 84.0842) scale(0.0040, -0.0040)\" d=\"M0 -212v-5c0 -110 85 -194 144 -285c3 11 5 23 5 35c0 93 -85 187 -149 255zM0 0c0 -175 191 -292 191 -467c0 -29 -8 -57 -19 -84c17 -35 29 -71 29 -111c0 -36 -8 -72 -23 -105c18 -35 29 -72 29 -113c0 -60 -15 -119 -41 -173c-5 -8 -13 -11 -20 -11\n",
       "c-13 0 -26 11 -23 27c26 49 42 102 42 157c0 91 -94 175 -165 233v-103h-16v750h16zM0 -430v-5c0 -112 88 -194 149 -285c6 19 10 38 10 58c0 90 -91 173 -159 232z\" fill=\"currentColor\"/>\n",
       "<rect transform=\"translate(24.6385, 88.1692)\" x=\"-0.0650\" y=\"-4.1250\" width=\"0.1300\" height=\"3.9389\" ry=\"0.0400\" fill=\"currentColor\"/>\n",
       "<path transform=\"translate(24.7035, 75.0842) scale(0.0040, -0.0040)\" d=\"M0 -212v-5c0 -110 85 -194 144 -285c3 11 5 23 5 35c0 93 -85 187 -149 255zM0 0c0 -175 191 -292 191 -467c0 -29 -8 -57 -19 -84c17 -35 29 -71 29 -111c0 -36 -8 -72 -23 -105c18 -35 29 -72 29 -113c0 -60 -15 -119 -41 -173c-5 -8 -13 -11 -20 -11\n",
       "c-13 0 -26 11 -23 27c26 49 42 102 42 157c0 91 -94 175 -165 233v-103h-16v750h16zM0 -430v-5c0 -112 88 -194 149 -285c6 19 10 38 10 58c0 90 -91 173 -159 232z\" fill=\"currentColor\"/>\n",
       "<rect transform=\"translate(24.6385, 79.1692)\" x=\"-0.0650\" y=\"-4.1250\" width=\"0.1300\" height=\"3.9389\" ry=\"0.0400\" fill=\"currentColor\"/>\n",
       "<rect transform=\"translate(17.4790, 61.1692)\" x=\"-0.0650\" y=\"-3.3333\" width=\"0.1300\" height=\"3.1472\" ry=\"0.0400\" fill=\"currentColor\"/>\n",
       "<rect transform=\"translate(18.5614, 34.1692)\" x=\"-0.0650\" y=\"-3.3333\" width=\"0.1300\" height=\"3.1472\" ry=\"0.0400\" fill=\"currentColor\"/>\n",
       "<path transform=\"translate(17.3222, 34.1692) scale(0.0040, -0.0040)\" d=\"M218 136c55 0 108 -28 108 -89c0 -71 -55 -121 -102 -149c-35 -21 -75 -34 -116 -34c-55 0 -108 28 -108 89c0 71 55 121 102 149c35 21 75 34 116 34z\" fill=\"currentColor\"/>\n",
       "<rect transform=\"translate(18.1955, 43.1692)\" x=\"-0.0650\" y=\"-3.3333\" width=\"0.1300\" height=\"3.0743\" ry=\"0.0400\" fill=\"currentColor\"/>\n",
       "<path transform=\"translate(16.8831, 43.1692) scale(0.0040, -0.0040)\" d=\"M314 65c0 24 -21 41 -42 41c-4 0 -8 0 -12 -1c-31 -9 -78 -40 -115 -64s-84 -53 -104 -78c-7 -8 -10 -18 -10 -28c0 -24 21 -41 42 -41c4 0 8 0 12 1c31 9 77 40 114 64s84 53 104 78c7 8 11 18 11 28zM262 136c46 0 82 -21 82 -71c0 -19 -4 -39 -10 -57\n",
       "c-12 -37 -32 -72 -64 -94c-53 -36 -113 -50 -187 -50c-46 0 -83 21 -83 71c0 19 5 39 11 57c12 37 31 72 63 94c53 36 114 50 188 50z\" fill=\"currentColor\"/>\n",
       "<rect transform=\"translate(17.8430, 52.1692)\" x=\"-0.0650\" y=\"-3.3333\" width=\"0.1300\" height=\"3.0743\" ry=\"0.0400\" fill=\"currentColor\"/>\n",
       "<path transform=\"translate(16.5306, 52.1692) scale(0.0040, -0.0040)\" d=\"M314 65c0 24 -21 41 -42 41c-4 0 -8 0 -12 -1c-31 -9 -78 -40 -115 -64s-84 -53 -104 -78c-7 -8 -10 -18 -10 -28c0 -24 21 -41 42 -41c4 0 8 0 12 1c31 9 77 40 114 64s84 53 104 78c7 8 11 18 11 28zM262 136c46 0 82 -21 82 -71c0 -19 -4 -39 -10 -57\n",
       "c-12 -37 -32 -72 -64 -94c-53 -36 -113 -50 -187 -50c-46 0 -83 21 -83 71c0 19 5 39 11 57c12 37 31 72 63 94c53 36 114 50 188 50z\" fill=\"currentColor\"/>\n",
       "<path transform=\"translate(16.2398, 61.1692) scale(0.0040, -0.0040)\" d=\"M218 136c55 0 108 -28 108 -89c0 -71 -55 -121 -102 -149c-35 -21 -75 -34 -116 -34c-55 0 -108 28 -108 89c0 71 55 121 102 149c35 21 75 34 116 34z\" fill=\"currentColor\"/>\n",
       "<rect transform=\"translate(17.2340, 70.1692)\" x=\"-0.0650\" y=\"-3.3333\" width=\"0.1300\" height=\"3.1472\" ry=\"0.0400\" fill=\"currentColor\"/>\n",
       "<path transform=\"translate(15.9948, 70.1692) scale(0.0040, -0.0040)\" d=\"M218 136c55 0 108 -28 108 -89c0 -71 -55 -121 -102 -149c-35 -21 -75 -34 -116 -34c-55 0 -108 28 -108 89c0 71 55 121 102 149c35 21 75 34 116 34z\" fill=\"currentColor\"/>\n",
       "<rect transform=\"translate(17.0975, 79.1692)\" x=\"-0.0650\" y=\"-3.3333\" width=\"0.1300\" height=\"3.0743\" ry=\"0.0400\" fill=\"currentColor\"/>\n",
       "<path transform=\"translate(15.7851, 79.1692) scale(0.0040, -0.0040)\" d=\"M314 65c0 24 -21 41 -42 41c-4 0 -8 0 -12 -1c-31 -9 -78 -40 -115 -64s-84 -53 -104 -78c-7 -8 -10 -18 -10 -28c0 -24 21 -41 42 -41c4 0 8 0 12 1c31 9 77 40 114 64s84 53 104 78c7 8 11 18 11 28zM262 136c46 0 82 -21 82 -71c0 -19 -4 -39 -10 -57\n",
       "c-12 -37 -32 -72 -64 -94c-53 -36 -113 -50 -187 -50c-46 0 -83 21 -83 71c0 19 5 39 11 57c12 37 31 72 63 94c53 36 114 50 188 50z\" fill=\"currentColor\"/>\n",
       "<rect transform=\"translate(16.9156, 88.1692)\" x=\"-0.0650\" y=\"-3.3333\" width=\"0.1300\" height=\"3.0743\" ry=\"0.0400\" fill=\"currentColor\"/>\n",
       "<rect transform=\"translate(24.6385, 7.1692)\" x=\"-0.0650\" y=\"-3.1900\" width=\"0.1300\" height=\"3.0039\" ry=\"0.0400\" fill=\"currentColor\"/>\n",
       "<path transform=\"translate(23.3993, 88.1692) scale(0.0040, -0.0040)\" d=\"M218 136c55 0 108 -28 108 -89c0 -71 -55 -121 -102 -149c-35 -21 -75 -34 -116 -34c-55 0 -108 28 -108 89c0 71 55 121 102 149c35 21 75 34 116 34z\" fill=\"currentColor\"/>\n",
       "<path transform=\"translate(23.3993, 79.1692) scale(0.0040, -0.0040)\" d=\"M218 136c55 0 108 -28 108 -89c0 -71 -55 -121 -102 -149c-35 -21 -75 -34 -116 -34c-55 0 -108 28 -108 89c0 71 55 121 102 149c35 21 75 34 116 34z\" fill=\"currentColor\"/>\n",
       "<path transform=\"translate(23.3993, 70.1692) scale(0.0040, -0.0040)\" d=\"M218 136c55 0 108 -28 108 -89c0 -71 -55 -121 -102 -149c-35 -21 -75 -34 -116 -34c-55 0 -108 28 -108 89c0 71 55 121 102 149c35 21 75 34 116 34z\" fill=\"currentColor\"/>\n",
       "<path transform=\"translate(23.3993, 61.1692) scale(0.0040, -0.0040)\" d=\"M218 136c55 0 108 -28 108 -89c0 -71 -55 -121 -102 -149c-35 -21 -75 -34 -116 -34c-55 0 -108 28 -108 89c0 71 55 121 102 149c35 21 75 34 116 34z\" fill=\"currentColor\"/>\n",
       "<path transform=\"translate(23.3993, 52.1692) scale(0.0040, -0.0040)\" d=\"M218 136c55 0 108 -28 108 -89c0 -71 -55 -121 -102 -149c-35 -21 -75 -34 -116 -34c-55 0 -108 28 -108 89c0 71 55 121 102 149c35 21 75 34 116 34z\" fill=\"currentColor\"/>\n",
       "<path transform=\"translate(23.3993, 43.1692) scale(0.0040, -0.0040)\" d=\"M218 136c55 0 108 -28 108 -89c0 -71 -55 -121 -102 -149c-35 -21 -75 -34 -116 -34c-55 0 -108 28 -108 89c0 71 55 121 102 149c35 21 75 34 116 34z\" fill=\"currentColor\"/>\n",
       "<path transform=\"translate(23.3993, 34.1692) scale(0.0040, -0.0040)\" d=\"M218 136c55 0 108 -28 108 -89c0 -71 -55 -121 -102 -149c-35 -21 -75 -34 -116 -34c-55 0 -108 28 -108 89c0 71 55 121 102 149c35 21 75 34 116 34z\" fill=\"currentColor\"/>\n",
       "<path transform=\"translate(23.3993, 25.1692) scale(0.0040, -0.0040)\" d=\"M218 136c55 0 108 -28 108 -89c0 -71 -55 -121 -102 -149c-35 -21 -75 -34 -116 -34c-55 0 -108 28 -108 89c0 71 55 121 102 149c35 21 75 34 116 34z\" fill=\"currentColor\"/>\n",
       "<path transform=\"translate(23.3993, 16.1692) scale(0.0040, -0.0040)\" d=\"M218 136c55 0 108 -28 108 -89c0 -71 -55 -121 -102 -149c-35 -21 -75 -34 -116 -34c-55 0 -108 28 -108 89c0 71 55 121 102 149c35 21 75 34 116 34z\" fill=\"currentColor\"/>\n",
       "<path transform=\"translate(23.3993, 7.1692) scale(0.0040, -0.0040)\" d=\"M218 136c55 0 108 -28 108 -89c0 -71 -55 -121 -102 -149c-35 -21 -75 -34 -116 -34c-55 0 -108 28 -108 89c0 71 55 121 102 149c35 21 75 34 116 34z\" fill=\"currentColor\"/>\n",
       "<rect transform=\"translate(27.6424, 61.1692)\" x=\"-0.0650\" y=\"-3.5000\" width=\"0.1300\" height=\"3.3139\" ry=\"0.0400\" fill=\"currentColor\"/>\n",
       "<rect transform=\"translate(21.0619, 7.1692)\" x=\"-0.0650\" y=\"-3.0000\" width=\"0.1300\" height=\"2.8139\" ry=\"0.0400\" fill=\"currentColor\"/>\n",
       "<path transform=\"translate(19.8227, 7.1692) scale(0.0040, -0.0040)\" d=\"M218 136c55 0 108 -28 108 -89c0 -71 -55 -121 -102 -149c-35 -21 -75 -34 -116 -34c-55 0 -108 28 -108 89c0 71 55 121 102 149c35 21 75 34 116 34z\" fill=\"currentColor\"/>\n",
       "<rect transform=\"translate(19.9045, 16.1692)\" x=\"-0.0650\" y=\"-3.3333\" width=\"0.1300\" height=\"3.1472\" ry=\"0.0400\" fill=\"currentColor\"/>\n",
       "<path transform=\"translate(18.6653, 16.1692) scale(0.0040, -0.0040)\" d=\"M218 136c55 0 108 -28 108 -89c0 -71 -55 -121 -102 -149c-35 -21 -75 -34 -116 -34c-55 0 -108 28 -108 89c0 71 55 121 102 149c35 21 75 34 116 34z\" fill=\"currentColor\"/>\n",
       "<rect transform=\"translate(19.1291, 25.1692)\" x=\"-0.0650\" y=\"-3.3333\" width=\"0.1300\" height=\"3.1472\" ry=\"0.0400\" fill=\"currentColor\"/>\n",
       "<path transform=\"translate(17.8899, 25.1692) scale(0.0040, -0.0040)\" d=\"M218 136c55 0 108 -28 108 -89c0 -71 -55 -121 -102 -149c-35 -21 -75 -34 -116 -34c-55 0 -108 28 -108 89c0 71 55 121 102 149c35 21 75 34 116 34z\" fill=\"currentColor\"/>\n",
       "<rect transform=\"translate(34.4572, 7.1692)\" x=\"-0.0650\" y=\"-3.1900\" width=\"0.1300\" height=\"3.0039\" ry=\"0.0400\" fill=\"currentColor\"/>\n",
       "<path transform=\"translate(33.2180, 7.1692) scale(0.0040, -0.0040)\" d=\"M218 136c55 0 108 -28 108 -89c0 -71 -55 -121 -102 -149c-35 -21 -75 -34 -116 -34c-55 0 -108 28 -108 89c0 71 55 121 102 149c35 21 75 34 116 34z\" fill=\"currentColor\"/>\n",
       "<rect transform=\"translate(33.5110, 16.1692)\" x=\"-0.0650\" y=\"-3.0000\" width=\"0.1300\" height=\"2.8139\" ry=\"0.0400\" fill=\"currentColor\"/>\n",
       "<path transform=\"translate(32.2718, 16.1692) scale(0.0040, -0.0040)\" d=\"M218 136c55 0 108 -28 108 -89c0 -71 -55 -121 -102 -149c-35 -21 -75 -34 -116 -34c-55 0 -108 28 -108 89c0 71 55 121 102 149c35 21 75 34 116 34z\" fill=\"currentColor\"/>\n",
       "<path transform=\"translate(36.1607, 7.1692) scale(0.0040, -0.0040)\" d=\"M218 136c55 0 108 -28 108 -89c0 -71 -55 -121 -102 -149c-35 -21 -75 -34 -116 -34c-55 0 -108 28 -108 89c0 71 55 121 102 149c35 21 75 34 116 34z\" fill=\"currentColor\"/>\n",
       "<rect transform=\"translate(33.0380, 25.1692)\" x=\"-0.0650\" y=\"-3.1900\" width=\"0.1300\" height=\"3.0039\" ry=\"0.0400\" fill=\"currentColor\"/>\n",
       "<path transform=\"translate(31.7987, 25.1692) scale(0.0040, -0.0040)\" d=\"M218 136c55 0 108 -28 108 -89c0 -71 -55 -121 -102 -149c-35 -21 -75 -34 -116 -34c-55 0 -108 28 -108 89c0 71 55 121 102 149c35 21 75 34 116 34z\" fill=\"currentColor\"/>\n",
       "<rect transform=\"translate(32.7541, 34.1692)\" x=\"-0.0650\" y=\"-3.1900\" width=\"0.1300\" height=\"3.0039\" ry=\"0.0400\" fill=\"currentColor\"/>\n",
       "<path transform=\"translate(31.5149, 34.1692) scale(0.0040, -0.0040)\" d=\"M218 136c55 0 108 -28 108 -89c0 -71 -55 -121 -102 -149c-35 -21 -75 -34 -116 -34c-55 0 -108 28 -108 89c0 71 55 121 102 149c35 21 75 34 116 34z\" fill=\"currentColor\"/>\n",
       "<rect transform=\"translate(32.5649, 43.1692)\" x=\"-0.0650\" y=\"-3.3333\" width=\"0.1300\" height=\"3.1472\" ry=\"0.0400\" fill=\"currentColor\"/>\n",
       "<path transform=\"translate(31.3257, 43.1692) scale(0.0040, -0.0040)\" d=\"M218 136c55 0 108 -28 108 -89c0 -71 -55 -121 -102 -149c-35 -21 -75 -34 -116 -34c-55 0 -108 28 -108 89c0 71 55 121 102 149c35 21 75 34 116 34z\" fill=\"currentColor\"/>\n",
       "<rect transform=\"translate(37.3999, 16.1692)\" x=\"-0.0650\" y=\"-3.0000\" width=\"0.1300\" height=\"2.8139\" ry=\"0.0400\" fill=\"currentColor\"/>\n",
       "<rect transform=\"translate(37.3999, 43.1692)\" x=\"-0.0650\" y=\"-3.1900\" width=\"0.1300\" height=\"3.0039\" ry=\"0.0400\" fill=\"currentColor\"/>\n",
       "<rect transform=\"translate(37.3999, 34.1692)\" x=\"-0.0650\" y=\"-3.1900\" width=\"0.1300\" height=\"3.0039\" ry=\"0.0400\" fill=\"currentColor\"/>\n",
       "<rect transform=\"translate(37.3999, 25.1692)\" x=\"-0.0650\" y=\"-3.1900\" width=\"0.1300\" height=\"3.0039\" ry=\"0.0400\" fill=\"currentColor\"/>\n",
       "<rect transform=\"translate(37.3999, 7.1692)\" x=\"-0.0650\" y=\"-3.1900\" width=\"0.1300\" height=\"3.0039\" ry=\"0.0400\" fill=\"currentColor\"/>\n",
       "<path transform=\"translate(36.1607, 88.1692) scale(0.0040, -0.0040)\" d=\"M218 136c55 0 108 -28 108 -89c0 -71 -55 -121 -102 -149c-35 -21 -75 -34 -116 -34c-55 0 -108 28 -108 89c0 71 55 121 102 149c35 21 75 34 116 34z\" fill=\"currentColor\"/>\n",
       "<path transform=\"translate(36.1607, 79.1692) scale(0.0040, -0.0040)\" d=\"M218 136c55 0 108 -28 108 -89c0 -71 -55 -121 -102 -149c-35 -21 -75 -34 -116 -34c-55 0 -108 28 -108 89c0 71 55 121 102 149c35 21 75 34 116 34z\" fill=\"currentColor\"/>\n",
       "<path transform=\"translate(36.1607, 70.1692) scale(0.0040, -0.0040)\" d=\"M218 136c55 0 108 -28 108 -89c0 -71 -55 -121 -102 -149c-35 -21 -75 -34 -116 -34c-55 0 -108 28 -108 89c0 71 55 121 102 149c35 21 75 34 116 34z\" fill=\"currentColor\"/>\n",
       "<path transform=\"translate(36.1607, 61.1692) scale(0.0040, -0.0040)\" d=\"M218 136c55 0 108 -28 108 -89c0 -71 -55 -121 -102 -149c-35 -21 -75 -34 -116 -34c-55 0 -108 28 -108 89c0 71 55 121 102 149c35 21 75 34 116 34z\" fill=\"currentColor\"/>\n",
       "<path transform=\"translate(36.1607, 52.1692) scale(0.0040, -0.0040)\" d=\"M218 136c55 0 108 -28 108 -89c0 -71 -55 -121 -102 -149c-35 -21 -75 -34 -116 -34c-55 0 -108 28 -108 89c0 71 55 121 102 149c35 21 75 34 116 34z\" fill=\"currentColor\"/>\n",
       "<path transform=\"translate(36.1607, 43.1692) scale(0.0040, -0.0040)\" d=\"M218 136c55 0 108 -28 108 -89c0 -71 -55 -121 -102 -149c-35 -21 -75 -34 -116 -34c-55 0 -108 28 -108 89c0 71 55 121 102 149c35 21 75 34 116 34z\" fill=\"currentColor\"/>\n",
       "<path transform=\"translate(36.1607, 34.1692) scale(0.0040, -0.0040)\" d=\"M218 136c55 0 108 -28 108 -89c0 -71 -55 -121 -102 -149c-35 -21 -75 -34 -116 -34c-55 0 -108 28 -108 89c0 71 55 121 102 149c35 21 75 34 116 34z\" fill=\"currentColor\"/>\n",
       "<path transform=\"translate(36.1607, 25.1692) scale(0.0040, -0.0040)\" d=\"M218 136c55 0 108 -28 108 -89c0 -71 -55 -121 -102 -149c-35 -21 -75 -34 -116 -34c-55 0 -108 28 -108 89c0 71 55 121 102 149c35 21 75 34 116 34z\" fill=\"currentColor\"/>\n",
       "<path transform=\"translate(36.1607, 16.1692) scale(0.0040, -0.0040)\" d=\"M218 136c55 0 108 -28 108 -89c0 -71 -55 -121 -102 -149c-35 -21 -75 -34 -116 -34c-55 0 -108 28 -108 89c0 71 55 121 102 149c35 21 75 34 116 34z\" fill=\"currentColor\"/>\n",
       "<rect transform=\"translate(28.7249, 34.1692)\" x=\"-0.0650\" y=\"-3.1900\" width=\"0.1300\" height=\"3.0039\" ry=\"0.0400\" fill=\"currentColor\"/>\n",
       "<rect transform=\"translate(30.0679, 16.1692)\" x=\"-0.0650\" y=\"-3.0000\" width=\"0.1300\" height=\"2.8139\" ry=\"0.0400\" fill=\"currentColor\"/>\n",
       "<path transform=\"translate(28.8287, 16.1692) scale(0.0040, -0.0040)\" d=\"M218 136c55 0 108 -28 108 -89c0 -71 -55 -121 -102 -149c-35 -21 -75 -34 -116 -34c-55 0 -108 28 -108 89c0 71 55 121 102 149c35 21 75 34 116 34z\" fill=\"currentColor\"/>\n",
       "<rect transform=\"translate(29.2926, 25.1692)\" x=\"-0.0650\" y=\"-3.1900\" width=\"0.1300\" height=\"3.0039\" ry=\"0.0400\" fill=\"currentColor\"/>\n",
       "<path transform=\"translate(28.0534, 25.1692) scale(0.0040, -0.0040)\" d=\"M218 136c55 0 108 -28 108 -89c0 -71 -55 -121 -102 -149c-35 -21 -75 -34 -116 -34c-55 0 -108 28 -108 89c0 71 55 121 102 149c35 21 75 34 116 34z\" fill=\"currentColor\"/>\n",
       "<path transform=\"translate(27.4857, 34.1692) scale(0.0040, -0.0040)\" d=\"M218 136c55 0 108 -28 108 -89c0 -71 -55 -121 -102 -149c-35 -21 -75 -34 -116 -34c-55 0 -108 28 -108 89c0 71 55 121 102 149c35 21 75 34 116 34z\" fill=\"currentColor\"/>\n",
       "<rect transform=\"translate(28.2858, 43.1692)\" x=\"-0.0650\" y=\"-3.3333\" width=\"0.1300\" height=\"3.1472\" ry=\"0.0400\" fill=\"currentColor\"/>\n",
       "<path transform=\"translate(27.0466, 43.1692) scale(0.0040, -0.0040)\" d=\"M218 136c55 0 108 -28 108 -89c0 -71 -55 -121 -102 -149c-35 -21 -75 -34 -116 -34c-55 0 -108 28 -108 89c0 71 55 121 102 149c35 21 75 34 116 34z\" fill=\"currentColor\"/>\n",
       "<rect transform=\"translate(27.9333, 52.1692)\" x=\"-0.0650\" y=\"-3.3333\" width=\"0.1300\" height=\"3.1472\" ry=\"0.0400\" fill=\"currentColor\"/>\n",
       "<path transform=\"translate(26.6941, 52.1692) scale(0.0040, -0.0040)\" d=\"M218 136c55 0 108 -28 108 -89c0 -71 -55 -121 -102 -149c-35 -21 -75 -34 -116 -34c-55 0 -108 28 -108 89c0 71 55 121 102 149c35 21 75 34 116 34z\" fill=\"currentColor\"/>\n",
       "<rect transform=\"translate(32.4297, 52.1692)\" x=\"-0.0650\" y=\"-3.3333\" width=\"0.1300\" height=\"3.1472\" ry=\"0.0400\" fill=\"currentColor\"/>\n",
       "<path transform=\"translate(31.1905, 52.1692) scale(0.0040, -0.0040)\" d=\"M218 136c55 0 108 -28 108 -89c0 -71 -55 -121 -102 -149c-35 -21 -75 -34 -116 -34c-55 0 -108 28 -108 89c0 71 55 121 102 149c35 21 75 34 116 34z\" fill=\"currentColor\"/>\n",
       "<rect transform=\"translate(32.3283, 61.1692)\" x=\"-0.0650\" y=\"-3.5000\" width=\"0.1300\" height=\"3.3139\" ry=\"0.0400\" fill=\"currentColor\"/>\n",
       "<path transform=\"translate(31.0891, 61.1692) scale(0.0040, -0.0040)\" d=\"M218 136c55 0 108 -28 108 -89c0 -71 -55 -121 -102 -149c-35 -21 -75 -34 -116 -34c-55 0 -108 28 -108 89c0 71 55 121 102 149c35 21 75 34 116 34z\" fill=\"currentColor\"/>\n",
       "<rect transform=\"translate(32.2495, 70.1692)\" x=\"-0.0650\" y=\"-3.5000\" width=\"0.1300\" height=\"3.3139\" ry=\"0.0400\" fill=\"currentColor\"/>\n",
       "<path transform=\"translate(31.0103, 70.1692) scale(0.0040, -0.0040)\" d=\"M218 136c55 0 108 -28 108 -89c0 -71 -55 -121 -102 -149c-35 -21 -75 -34 -116 -34c-55 0 -108 28 -108 89c0 71 55 121 102 149c35 21 75 34 116 34z\" fill=\"currentColor\"/>\n",
       "<rect transform=\"translate(32.1864, 79.1692)\" x=\"-0.0650\" y=\"-3.3333\" width=\"0.1300\" height=\"3.1472\" ry=\"0.0400\" fill=\"currentColor\"/>\n",
       "<path transform=\"translate(30.9472, 79.1692) scale(0.0040, -0.0040)\" d=\"M218 136c55 0 108 -28 108 -89c0 -71 -55 -121 -102 -149c-35 -21 -75 -34 -116 -34c-55 0 -108 28 -108 89c0 71 55 121 102 149c35 21 75 34 116 34z\" fill=\"currentColor\"/>\n",
       "<rect transform=\"translate(32.1348, 88.1692)\" x=\"-0.0650\" y=\"-3.3333\" width=\"0.1300\" height=\"3.1472\" ry=\"0.0400\" fill=\"currentColor\"/>\n",
       "<path transform=\"translate(30.8956, 88.1692) scale(0.0040, -0.0040)\" d=\"M218 136c55 0 108 -28 108 -89c0 -71 -55 -121 -102 -149c-35 -21 -75 -34 -116 -34c-55 0 -108 28 -108 89c0 71 55 121 102 149c35 21 75 34 116 34z\" fill=\"currentColor\"/>\n",
       "<rect transform=\"translate(31.6187, 7.1692)\" x=\"-0.0650\" y=\"-3.1900\" width=\"0.1300\" height=\"3.0039\" ry=\"0.0400\" fill=\"currentColor\"/>\n",
       "<path transform=\"translate(30.3795, 7.1692) scale(0.0040, -0.0040)\" d=\"M218 136c55 0 108 -28 108 -89c0 -71 -55 -121 -102 -149c-35 -21 -75 -34 -116 -34c-55 0 -108 28 -108 89c0 71 55 121 102 149c35 21 75 34 116 34z\" fill=\"currentColor\"/>\n",
       "<path transform=\"translate(102.5147, 25.1692) scale(0.0040, -0.0040)\" d=\"M218 136c55 0 108 -28 108 -89c0 -71 -55 -121 -102 -149c-35 -21 -75 -34 -116 -34c-55 0 -108 28 -108 89c0 71 55 121 102 149c35 21 75 34 116 34z\" fill=\"currentColor\"/>\n",
       "<rect transform=\"translate(104.3652, 16.1692)\" x=\"-0.0650\" y=\"-3.1900\" width=\"0.1300\" height=\"3.0039\" ry=\"0.0400\" fill=\"currentColor\"/>\n",
       "<path transform=\"translate(103.1260, 16.1692) scale(0.0040, -0.0040)\" d=\"M218 136c55 0 108 -28 108 -89c0 -71 -55 -121 -102 -149c-35 -21 -75 -34 -116 -34c-55 0 -108 28 -108 89c0 71 55 121 102 149c35 21 75 34 116 34z\" fill=\"currentColor\"/>\n",
       "<rect transform=\"translate(103.7539, 25.1692)\" x=\"-0.0650\" y=\"-3.5000\" width=\"0.1300\" height=\"3.3139\" ry=\"0.0400\" fill=\"currentColor\"/>\n",
       "<rect transform=\"translate(103.7539, 7.1692)\" x=\"-0.0650\" y=\"-3.5000\" width=\"0.1300\" height=\"3.3139\" ry=\"0.0400\" fill=\"currentColor\"/>\n",
       "<path transform=\"translate(102.5147, 7.1692) scale(0.0040, -0.0040)\" d=\"M218 136c55 0 108 -28 108 -89c0 -71 -55 -121 -102 -149c-35 -21 -75 -34 -116 -34c-55 0 -108 28 -108 89c0 71 55 121 102 149c35 21 75 34 116 34z\" fill=\"currentColor\"/>\n",
       "<rect transform=\"translate(103.3872, 34.1692)\" x=\"-0.0650\" y=\"-3.1900\" width=\"0.1300\" height=\"3.0039\" ry=\"0.0400\" fill=\"currentColor\"/>\n",
       "<path transform=\"translate(102.1480, 34.1692) scale(0.0040, -0.0040)\" d=\"M218 136c55 0 108 -28 108 -89c0 -71 -55 -121 -102 -149c-35 -21 -75 -34 -116 -34c-55 0 -108 28 -108 89c0 71 55 121 102 149c35 21 75 34 116 34z\" fill=\"currentColor\"/>\n",
       "<rect transform=\"translate(103.1427, 43.1692)\" x=\"-0.0650\" y=\"-3.1900\" width=\"0.1300\" height=\"3.0039\" ry=\"0.0400\" fill=\"currentColor\"/>\n",
       "<path transform=\"translate(104.8070, 61.1692) scale(0.0040, -0.0040)\" d=\"M218 136c55 0 108 -28 108 -89c0 -71 -55 -121 -102 -149c-35 -21 -75 -34 -116 -34c-55 0 -108 28 -108 89c0 71 55 121 102 149c35 21 75 34 116 34z\" fill=\"currentColor\"/>\n",
       "<rect transform=\"translate(105.9953, 70.1692)\" x=\"-0.0650\" y=\"-3.5000\" width=\"0.1300\" height=\"3.3139\" ry=\"0.0400\" fill=\"currentColor\"/>\n",
       "<path transform=\"translate(104.7561, 70.1692) scale(0.0040, -0.0040)\" d=\"M218 136c55 0 108 -28 108 -89c0 -71 -55 -121 -102 -149c-35 -21 -75 -34 -116 -34c-55 0 -108 28 -108 89c0 71 55 121 102 149c35 21 75 34 116 34z\" fill=\"currentColor\"/>\n",
       "<rect transform=\"translate(105.9545, 79.1692)\" x=\"-0.0650\" y=\"-3.5000\" width=\"0.1300\" height=\"3.3139\" ry=\"0.0400\" fill=\"currentColor\"/>\n",
       "<path transform=\"translate(104.7153, 79.1692) scale(0.0040, -0.0040)\" d=\"M218 136c55 0 108 -28 108 -89c0 -71 -55 -121 -102 -149c-35 -21 -75 -34 -116 -34c-55 0 -108 28 -108 89c0 71 55 121 102 149c35 21 75 34 116 34z\" fill=\"currentColor\"/>\n",
       "<path transform=\"translate(101.9034, 43.1692) scale(0.0040, -0.0040)\" d=\"M218 136c55 0 108 -28 108 -89c0 -71 -55 -121 -102 -149c-35 -21 -75 -34 -116 -34c-55 0 -108 28 -108 89c0 71 55 121 102 149c35 21 75 34 116 34z\" fill=\"currentColor\"/>\n",
       "<rect transform=\"translate(105.9212, 88.1692)\" x=\"-0.0650\" y=\"-3.5000\" width=\"0.1300\" height=\"3.3139\" ry=\"0.0400\" fill=\"currentColor\"/>\n",
       "<path transform=\"translate(104.6820, 88.1692) scale(0.0040, -0.0040)\" d=\"M218 136c55 0 108 -28 108 -89c0 -71 -55 -121 -102 -149c-35 -21 -75 -34 -116 -34c-55 0 -108 28 -108 89c0 71 55 121 102 149c35 21 75 34 116 34z\" fill=\"currentColor\"/>\n",
       "<rect transform=\"translate(105.5878, 7.1692)\" x=\"-0.0650\" y=\"-3.5000\" width=\"0.1300\" height=\"3.3139\" ry=\"0.0400\" fill=\"currentColor\"/>\n",
       "<path transform=\"translate(104.3486, 7.1692) scale(0.0040, -0.0040)\" d=\"M218 136c55 0 108 -28 108 -89c0 -71 -55 -121 -102 -149c-35 -21 -75 -34 -116 -34c-55 0 -108 28 -108 89c0 71 55 121 102 149c35 21 75 34 116 34z\" fill=\"currentColor\"/>\n",
       "<rect transform=\"translate(101.9201, 7.1692)\" x=\"-0.0650\" y=\"-3.5000\" width=\"0.1300\" height=\"3.3139\" ry=\"0.0400\" fill=\"currentColor\"/>\n",
       "<rect transform=\"translate(102.5869, 88.1692)\" x=\"-0.0650\" y=\"-3.5000\" width=\"0.1300\" height=\"3.3139\" ry=\"0.0400\" fill=\"currentColor\"/>\n",
       "<path transform=\"translate(101.3477, 88.1692) scale(0.0040, -0.0040)\" d=\"M218 136c55 0 108 -28 108 -89c0 -71 -55 -121 -102 -149c-35 -21 -75 -34 -116 -34c-55 0 -108 28 -108 89c0 71 55 121 102 149c35 21 75 34 116 34z\" fill=\"currentColor\"/>\n",
       "<rect transform=\"translate(101.9201, 16.1692)\" x=\"-0.0650\" y=\"-3.1900\" width=\"0.1300\" height=\"3.0039\" ry=\"0.0400\" fill=\"currentColor\"/>\n",
       "<path transform=\"translate(100.6809, 16.1692) scale(0.0040, -0.0040)\" d=\"M218 136c55 0 108 -28 108 -89c0 -71 -55 -121 -102 -149c-35 -21 -75 -34 -116 -34c-55 0 -108 28 -108 89c0 71 55 121 102 149c35 21 75 34 116 34z\" fill=\"currentColor\"/>\n",
       "<path transform=\"translate(100.6809, 7.1692) scale(0.0040, -0.0040)\" d=\"M218 136c55 0 108 -28 108 -89c0 -71 -55 -121 -102 -149c-35 -21 -75 -34 -116 -34c-55 0 -108 28 -108 89c0 71 55 121 102 149c35 21 75 34 116 34z\" fill=\"currentColor\"/>\n",
       "<rect transform=\"translate(101.0032, 25.1692)\" x=\"-0.0650\" y=\"-3.5000\" width=\"0.1300\" height=\"3.3139\" ry=\"0.0400\" fill=\"currentColor\"/>\n",
       "<path transform=\"translate(99.7640, 25.1692) scale(0.0040, -0.0040)\" d=\"M218 136c55 0 108 -28 108 -89c0 -71 -55 -121 -102 -149c-35 -21 -75 -34 -116 -34c-55 0 -108 28 -108 89c0 71 55 121 102 149c35 21 75 34 116 34z\" fill=\"currentColor\"/>\n",
       "<rect transform=\"translate(102.9680, 52.1692)\" x=\"-0.0650\" y=\"-3.1900\" width=\"0.1300\" height=\"3.0039\" ry=\"0.0400\" fill=\"currentColor\"/>\n",
       "<path transform=\"translate(101.7288, 52.1692) scale(0.0040, -0.0040)\" d=\"M218 136c55 0 108 -28 108 -89c0 -71 -55 -121 -102 -149c-35 -21 -75 -34 -116 -34c-55 0 -108 28 -108 89c0 71 55 121 102 149c35 21 75 34 116 34z\" fill=\"currentColor\"/>\n",
       "<rect transform=\"translate(102.8370, 61.1692)\" x=\"-0.0650\" y=\"-3.5000\" width=\"0.1300\" height=\"3.3139\" ry=\"0.0400\" fill=\"currentColor\"/>\n",
       "<path transform=\"translate(101.5978, 61.1692) scale(0.0040, -0.0040)\" d=\"M218 136c55 0 108 -28 108 -89c0 -71 -55 -121 -102 -149c-35 -21 -75 -34 -116 -34c-55 0 -108 28 -108 89c0 71 55 121 102 149c35 21 75 34 116 34z\" fill=\"currentColor\"/>\n",
       "<rect transform=\"translate(102.7351, 70.1692)\" x=\"-0.0650\" y=\"-3.5000\" width=\"0.1300\" height=\"3.3139\" ry=\"0.0400\" fill=\"currentColor\"/>\n",
       "<path transform=\"translate(101.4959, 70.1692) scale(0.0040, -0.0040)\" d=\"M218 136c55 0 108 -28 108 -89c0 -71 -55 -121 -102 -149c-35 -21 -75 -34 -116 -34c-55 0 -108 28 -108 89c0 71 55 121 102 149c35 21 75 34 116 34z\" fill=\"currentColor\"/>\n",
       "<rect transform=\"translate(102.6536, 79.1692)\" x=\"-0.0650\" y=\"-3.5000\" width=\"0.1300\" height=\"3.3139\" ry=\"0.0400\" fill=\"currentColor\"/>\n",
       "<path transform=\"translate(101.4144, 79.1692) scale(0.0040, -0.0040)\" d=\"M218 136c55 0 108 -28 108 -89c0 -71 -55 -121 -102 -149c-35 -21 -75 -34 -116 -34c-55 0 -108 28 -108 89c0 71 55 121 102 149c35 21 75 34 116 34z\" fill=\"currentColor\"/>\n",
       "<path transform=\"translate(106.1824, 7.1692) scale(0.0040, -0.0040)\" d=\"M218 136c55 0 108 -28 108 -89c0 -71 -55 -121 -102 -149c-35 -21 -75 -34 -116 -34c-55 0 -108 28 -108 89c0 71 55 121 102 149c35 21 75 34 116 34z\" fill=\"currentColor\"/>\n",
       "<rect transform=\"translate(106.1991, 43.1692)\" x=\"-0.0650\" y=\"-3.1900\" width=\"0.1300\" height=\"3.0039\" ry=\"0.0400\" fill=\"currentColor\"/>\n",
       "<path transform=\"translate(104.9599, 43.1692) scale(0.0040, -0.0040)\" d=\"M218 136c55 0 108 -28 108 -89c0 -71 -55 -121 -102 -149c-35 -21 -75 -34 -116 -34c-55 0 -108 28 -108 89c0 71 55 121 102 149c35 21 75 34 116 34z\" fill=\"currentColor\"/>\n",
       "<rect transform=\"translate(107.4216, 7.1692)\" x=\"-0.0650\" y=\"-3.5000\" width=\"0.1300\" height=\"3.3139\" ry=\"0.0400\" fill=\"currentColor\"/>\n",
       "<path transform=\"translate(105.0821, 34.1692) scale(0.0040, -0.0040)\" d=\"M218 136c55 0 108 -28 108 -89c0 -71 -55 -121 -102 -149c-35 -21 -75 -34 -116 -34c-55 0 -108 28 -108 89c0 71 55 121 102 149c35 21 75 34 116 34z\" fill=\"currentColor\"/>\n",
       "<rect transform=\"translate(106.8103, 16.1692)\" x=\"-0.0650\" y=\"-3.1900\" width=\"0.1300\" height=\"3.0039\" ry=\"0.0400\" fill=\"currentColor\"/>\n",
       "<rect transform=\"translate(106.3213, 34.1692)\" x=\"-0.0650\" y=\"-3.1900\" width=\"0.1300\" height=\"3.0039\" ry=\"0.0400\" fill=\"currentColor\"/>\n",
       "<path transform=\"translate(105.5711, 16.1692) scale(0.0040, -0.0040)\" d=\"M218 136c55 0 108 -28 108 -89c0 -71 -55 -121 -102 -149c-35 -21 -75 -34 -116 -34c-55 0 -108 28 -108 89c0 71 55 121 102 149c35 21 75 34 116 34z\" fill=\"currentColor\"/>\n",
       "<path transform=\"translate(105.2655, 25.1692) scale(0.0040, -0.0040)\" d=\"M218 136c55 0 108 -28 108 -89c0 -71 -55 -121 -102 -149c-35 -21 -75 -34 -116 -34c-55 0 -108 28 -108 89c0 71 55 121 102 149c35 21 75 34 116 34z\" fill=\"currentColor\"/>\n",
       "<rect transform=\"translate(106.5047, 25.1692)\" x=\"-0.0650\" y=\"-3.5000\" width=\"0.1300\" height=\"3.3139\" ry=\"0.0400\" fill=\"currentColor\"/>\n",
       "<path transform=\"translate(15.6033, 88.1692) scale(0.0040, -0.0040)\" d=\"M314 65c0 24 -21 41 -42 41c-4 0 -8 0 -12 -1c-31 -9 -78 -40 -115 -64s-84 -53 -104 -78c-7 -8 -10 -18 -10 -28c0 -24 21 -41 42 -41c4 0 8 0 12 1c31 9 77 40 114 64s84 53 104 78c7 8 11 18 11 28zM262 136c46 0 82 -21 82 -71c0 -19 -4 -39 -10 -57\n",
       "c-12 -37 -32 -72 -64 -94c-53 -36 -113 -50 -187 -50c-46 0 -83 21 -83 71c0 19 5 39 11 57c12 37 31 72 63 94c53 36 114 50 188 50z\" fill=\"currentColor\"/>\n",
       "<path transform=\"translate(104.8725, 52.1692) scale(0.0040, -0.0040)\" d=\"M218 136c55 0 108 -28 108 -89c0 -71 -55 -121 -102 -149c-35 -21 -75 -34 -116 -34c-55 0 -108 28 -108 89c0 71 55 121 102 149c35 21 75 34 116 34z\" fill=\"currentColor\"/>\n",
       "<rect transform=\"translate(106.1117, 52.1692)\" x=\"-0.0650\" y=\"-3.1900\" width=\"0.1300\" height=\"3.0039\" ry=\"0.0400\" fill=\"currentColor\"/>\n",
       "<rect transform=\"translate(106.0462, 61.1692)\" x=\"-0.0650\" y=\"-3.5000\" width=\"0.1300\" height=\"3.3139\" ry=\"0.0400\" fill=\"currentColor\"/>\n",
       "</svg>\n"
      ]
     },
     "metadata": {},
     "output_type": "display_data"
    }
   ],
   "source": [
    "abjad.show(score)"
   ]
  },
  {
   "cell_type": "markdown",
   "metadata": {},
   "source": [
    "This example illustrates how simpler bottom-up rhythmic construction might be abstracted to explore the potential of a bottom-up rhythmic idea."
   ]
  },
  {
   "cell_type": "markdown",
   "metadata": {},
   "source": [
    "# Meter"
   ]
  },
  {
   "cell_type": "code",
   "execution_count": 68,
   "metadata": {},
   "outputs": [],
   "source": [
    "### Chopping Durations with Durations"
   ]
  },
  {
   "cell_type": "markdown",
   "metadata": {},
   "source": [
    "It's easy to make durations that don't neatly fit into a particular time signature:"
   ]
  },
  {
   "cell_type": "code",
   "execution_count": 69,
   "metadata": {},
   "outputs": [
    {
     "name": "stdout",
     "output_type": "stream",
     "text": [
      "\\new Staff\n",
      "{\n",
      "    c'4.\n",
      "    c'4.\n",
      "    c'4.\n",
      "    c'4.\n",
      "    c'4.\n",
      "    c'4.\n",
      "    c'4.\n",
      "    c'4.\n",
      "}\n"
     ]
    }
   ],
   "source": [
    "staff = abjad.Staff(\"c'4. c'4. c'4. c'4. c'4. c'4. c'4. c'4.\")\n",
    "abjad.f(staff)"
   ]
  },
  {
   "cell_type": "markdown",
   "metadata": {},
   "source": [
    "Let's make this metrically legible by chopping the leaves every whole note using `mutate().split()`. \n",
    "\n",
    "Note that this function returns selections full of the kind of component you split: if you want to split leaves in place, pass in `staff[:]`, and if you want to return `Selection`s containing new `Staff`s, pass in `staff`.\n",
    "\n",
    "To keep splitting by the same duration until we get through all of the leaves, set the keyword argument cyclic equal to `True`."
   ]
  },
  {
   "cell_type": "code",
   "execution_count": 70,
   "metadata": {},
   "outputs": [
    {
     "name": "stdout",
     "output_type": "stream",
     "text": [
      "\\new Staff\n",
      "{\n",
      "    c'4.\n",
      "    c'4.\n",
      "    c'4\n",
      "    ~\n",
      "    c'8\n",
      "    c'4.\n",
      "    c'4.\n",
      "    c'8\n",
      "    ~\n",
      "    c'4\n",
      "    c'4.\n",
      "    c'4.\n",
      "}\n"
     ]
    }
   ],
   "source": [
    "abjad.mutate(staff[:]).split([abjad.Duration(4,4)], cyclic=True)\n",
    "abjad.f(staff)"
   ]
  },
  {
   "cell_type": "markdown",
   "metadata": {},
   "source": [
    "This is better -- the music now plays nice with LilyPond's barlines and isn't incorrectly notated -- but in Python, we still don't have any `Measure` objects, and our staff still iterates through leaves:"
   ]
  },
  {
   "cell_type": "code",
   "execution_count": 71,
   "metadata": {},
   "outputs": [
    {
     "name": "stdout",
     "output_type": "stream",
     "text": [
      "c'4.\n",
      "c'4.\n",
      "c'4\n",
      "c'8\n",
      "c'4.\n"
     ]
    }
   ],
   "source": [
    "for leaf in staff[:5]:\n",
    "    print(leaf)"
   ]
  },
  {
   "cell_type": "markdown",
   "metadata": {},
   "source": [
    "What should we do if we want to iterate through our music measure by measure?"
   ]
  },
  {
   "cell_type": "markdown",
   "metadata": {},
   "source": [
    "### Wrapping Leaves in Measures"
   ]
  },
  {
   "cell_type": "markdown",
   "metadata": {},
   "source": [
    "We can create `Measure` objects by wrapping each split `Selection` in a `Container`:"
   ]
  },
  {
   "cell_type": "code",
   "execution_count": 72,
   "metadata": {},
   "outputs": [
    {
     "name": "stdout",
     "output_type": "stream",
     "text": [
      "\\new Staff\n",
      "{\n",
      "    {\n",
      "        c'4.\n",
      "        c'4.\n",
      "        c'4\n",
      "        ~\n",
      "    }\n",
      "    {\n",
      "        c'8\n",
      "        c'4.\n",
      "        c'4.\n",
      "        c'8\n",
      "        ~\n",
      "    }\n",
      "    {\n",
      "        c'4\n",
      "        c'4.\n",
      "        c'4.\n",
      "    }\n",
      "}\n"
     ]
    },
    {
     "data": {
      "image/svg+xml": [
       "<svg xmlns=\"http://www.w3.org/2000/svg\" xmlns:xlink=\"http://www.w3.org/1999/xlink\" version=\"1.2\" width=\"78.71mm\" height=\"14.35mm\" viewBox=\"8.5358 -0.0240 44.7918 8.1660\">\n",
       "<style text=\"style/css\">\n",
       "<![CDATA[\n",
       "tspan { white-space: pre; }\n",
       "]]>\n",
       "</style>\n",
       "<line transform=\"translate(8.5358, 5.7760)\" stroke-linejoin=\"round\" stroke-linecap=\"round\" stroke-width=\"0.1000\" stroke=\"currentColor\" x1=\"0.0500\" y1=\"-0.0000\" x2=\"44.7418\" y2=\"-0.0000\"/>\n",
       "<line transform=\"translate(8.5358, 4.7760)\" stroke-linejoin=\"round\" stroke-linecap=\"round\" stroke-width=\"0.1000\" stroke=\"currentColor\" x1=\"0.0500\" y1=\"-0.0000\" x2=\"44.7418\" y2=\"-0.0000\"/>\n",
       "<line transform=\"translate(8.5358, 3.7760)\" stroke-linejoin=\"round\" stroke-linecap=\"round\" stroke-width=\"0.1000\" stroke=\"currentColor\" x1=\"0.0500\" y1=\"-0.0000\" x2=\"44.7418\" y2=\"-0.0000\"/>\n",
       "<line transform=\"translate(8.5358, 2.7760)\" stroke-linejoin=\"round\" stroke-linecap=\"round\" stroke-width=\"0.1000\" stroke=\"currentColor\" x1=\"0.0500\" y1=\"-0.0000\" x2=\"44.7418\" y2=\"-0.0000\"/>\n",
       "<line transform=\"translate(8.5358, 1.7760)\" stroke-linejoin=\"round\" stroke-linecap=\"round\" stroke-width=\"0.1000\" stroke=\"currentColor\" x1=\"0.0500\" y1=\"-0.0000\" x2=\"44.7418\" y2=\"-0.0000\"/>\n",
       "<rect transform=\"translate(27.8251, 3.7760)\" x=\"0.0000\" y=\"-2.0000\" width=\"0.1900\" height=\"4.0000\" ry=\"0.0000\" fill=\"currentColor\"/>\n",
       "<rect transform=\"translate(41.4584, 3.7760)\" x=\"0.0000\" y=\"-2.0000\" width=\"0.1900\" height=\"4.0000\" ry=\"0.0000\" fill=\"currentColor\"/>\n",
       "<rect transform=\"translate(53.1376, 3.7760)\" x=\"0.0000\" y=\"-2.0000\" width=\"0.1900\" height=\"4.0000\" ry=\"0.0000\" fill=\"currentColor\"/>\n",
       "<rect transform=\"translate(0.0000, 6.7760)\" x=\"48.9288\" y=\"-0.1000\" width=\"1.9563\" height=\"0.2000\" ry=\"0.1000\" fill=\"currentColor\"/>\n",
       "<rect transform=\"translate(0.0000, 6.7760)\" x=\"45.2246\" y=\"-0.1000\" width=\"1.9563\" height=\"0.2000\" ry=\"0.1000\" fill=\"currentColor\"/>\n",
       "<rect transform=\"translate(0.0000, 6.7760)\" x=\"42.2223\" y=\"-0.1000\" width=\"1.9563\" height=\"0.2000\" ry=\"0.1000\" fill=\"currentColor\"/>\n",
       "<rect transform=\"translate(0.0000, 6.7760)\" x=\"38.5649\" y=\"-0.1000\" width=\"1.9563\" height=\"0.2000\" ry=\"0.1000\" fill=\"currentColor\"/>\n",
       "<rect transform=\"translate(0.0000, 6.7760)\" x=\"34.8607\" y=\"-0.1000\" width=\"1.9563\" height=\"0.2000\" ry=\"0.1000\" fill=\"currentColor\"/>\n",
       "<rect transform=\"translate(0.0000, 6.7760)\" x=\"31.1565\" y=\"-0.1000\" width=\"1.9563\" height=\"0.2000\" ry=\"0.1000\" fill=\"currentColor\"/>\n",
       "<rect transform=\"translate(0.0000, 6.7760)\" x=\"28.5890\" y=\"-0.1000\" width=\"1.9563\" height=\"0.2000\" ry=\"0.1000\" fill=\"currentColor\"/>\n",
       "<rect transform=\"translate(0.0000, 6.7760)\" x=\"24.3182\" y=\"-0.1000\" width=\"1.9563\" height=\"0.2000\" ry=\"0.1000\" fill=\"currentColor\"/>\n",
       "<rect transform=\"translate(0.0000, 6.7760)\" x=\"20.6140\" y=\"-0.1000\" width=\"1.9563\" height=\"0.2000\" ry=\"0.1000\" fill=\"currentColor\"/>\n",
       "<rect transform=\"translate(0.0000, 6.7760)\" x=\"16.9098\" y=\"-0.1000\" width=\"1.9563\" height=\"0.2000\" ry=\"0.1000\" fill=\"currentColor\"/>\n",
       "<path transform=\"translate(38.8909, 6.7760) scale(0.0040, -0.0040)\" d=\"M218 136c55 0 108 -28 108 -89c0 -71 -55 -121 -102 -149c-35 -21 -75 -34 -116 -34c-55 0 -108 28 -108 89c0 71 55 121 102 149c35 21 75 34 116 34z\" fill=\"currentColor\"/>\n",
       "<rect transform=\"translate(40.1301, 3.7760)\" x=\"-0.0650\" y=\"-0.5000\" width=\"0.1300\" height=\"3.3139\" ry=\"0.0400\" fill=\"currentColor\"/>\n",
       "<rect transform=\"translate(43.7876, 3.7760)\" x=\"-0.0650\" y=\"-0.5000\" width=\"0.1300\" height=\"3.3139\" ry=\"0.0400\" fill=\"currentColor\"/>\n",
       "<path transform=\"translate(24.6442, 3.7760)\" stroke-width=\"0.0800\" stroke-linejoin=\"round\" stroke-linecap=\"round\" stroke=\"currentColor\" fill=\"currentColor\" d=\"M0.8521 3.7500C1.6208 4.5180 3.9542 4.5180 4.7229 3.7500L4.7229 3.7500C3.9542 4.3980 1.6208 4.3980 0.8521 3.7500z\"/>\n",
       "<path transform=\"translate(42.5484, 6.7760) scale(0.0040, -0.0040)\" d=\"M218 136c55 0 108 -28 108 -89c0 -71 -55 -121 -102 -149c-35 -21 -75 -34 -116 -34c-55 0 -108 28 -108 89c0 71 55 121 102 149c35 21 75 34 116 34z\" fill=\"currentColor\"/>\n",
       "<path transform=\"translate(40.1951, 3.3160) scale(0.0040, -0.0040)\" d=\"M0 0c0 -197 207 -336 207 -533c0 -71 -15 -141 -41 -207c-5 -8 -13 -12 -20 -12c-13 0 -26 11 -23 27c26 61 42 126 42 192c0 103 -94 208 -165 283h-16v250h16z\" fill=\"currentColor\"/>\n",
       "<rect transform=\"translate(50.4941, 3.7760)\" x=\"-0.0650\" y=\"-0.5000\" width=\"0.1300\" height=\"3.3139\" ry=\"0.0400\" fill=\"currentColor\"/>\n",
       "<path transform=\"translate(38.8909, 3.7760)\" stroke-width=\"0.0800\" stroke-linejoin=\"round\" stroke-linecap=\"round\" stroke=\"currentColor\" fill=\"currentColor\" d=\"M0.8521 3.7500C1.5410 4.4721 3.4207 4.4721 4.1095 3.7500L4.1095 3.7500C3.4207 4.3521 1.5410 4.3521 0.8521 3.7500z\"/>\n",
       "<path transform=\"translate(51.0091, 6.2760) scale(0.0040, -0.0040)\" d=\"M0 0c0 31 25 56 56 56s56 -25 56 -56s-25 -56 -56 -56s-56 25 -56 56z\" fill=\"currentColor\"/>\n",
       "<path transform=\"translate(49.2548, 6.7760) scale(0.0040, -0.0040)\" d=\"M218 136c55 0 108 -28 108 -89c0 -71 -55 -121 -102 -149c-35 -21 -75 -34 -116 -34c-55 0 -108 28 -108 89c0 71 55 121 102 149c35 21 75 34 116 34z\" fill=\"currentColor\"/>\n",
       "<rect transform=\"translate(46.7898, 3.7760)\" x=\"-0.0650\" y=\"-0.5000\" width=\"0.1300\" height=\"3.3139\" ry=\"0.0400\" fill=\"currentColor\"/>\n",
       "<path transform=\"translate(47.3048, 6.2760) scale(0.0040, -0.0040)\" d=\"M0 0c0 31 25 56 56 56s56 -25 56 -56s-25 -56 -56 -56s-56 25 -56 56z\" fill=\"currentColor\"/>\n",
       "<path transform=\"translate(45.5506, 6.7760) scale(0.0040, -0.0040)\" d=\"M218 136c55 0 108 -28 108 -89c0 -71 -55 -121 -102 -149c-35 -21 -75 -34 -116 -34c-55 0 -108 28 -108 89c0 71 55 121 102 149c35 21 75 34 116 34z\" fill=\"currentColor\"/>\n",
       "<rect transform=\"translate(18.4750, 3.7760)\" x=\"-0.0650\" y=\"-0.5000\" width=\"0.1300\" height=\"3.3139\" ry=\"0.0400\" fill=\"currentColor\"/>\n",
       "<path transform=\"translate(17.2358, 6.7760) scale(0.0040, -0.0040)\" d=\"M218 136c55 0 108 -28 108 -89c0 -71 -55 -121 -102 -149c-35 -21 -75 -34 -116 -34c-55 0 -108 28 -108 89c0 71 55 121 102 149c35 21 75 34 116 34z\" fill=\"currentColor\"/>\n",
       "<path transform=\"translate(30.2193, 3.3160) scale(0.0040, -0.0040)\" d=\"M0 0c0 -197 207 -336 207 -533c0 -71 -15 -141 -41 -207c-5 -8 -13 -12 -20 -12c-13 0 -26 11 -23 27c26 61 42 126 42 192c0 103 -94 208 -165 283h-16v250h16z\" fill=\"currentColor\"/>\n",
       "<rect transform=\"translate(30.1543, 3.7760)\" x=\"-0.0650\" y=\"-0.5000\" width=\"0.1300\" height=\"3.3139\" ry=\"0.0400\" fill=\"currentColor\"/>\n",
       "<path transform=\"translate(28.9151, 6.7760) scale(0.0040, -0.0040)\" d=\"M218 136c55 0 108 -28 108 -89c0 -71 -55 -121 -102 -149c-35 -21 -75 -34 -116 -34c-55 0 -108 28 -108 89c0 71 55 121 102 149c35 21 75 34 116 34z\" fill=\"currentColor\"/>\n",
       "<rect transform=\"translate(25.8835, 3.7760)\" x=\"-0.0650\" y=\"-0.5000\" width=\"0.1300\" height=\"3.3139\" ry=\"0.0400\" fill=\"currentColor\"/>\n",
       "<path transform=\"translate(24.6442, 6.7760) scale(0.0040, -0.0040)\" d=\"M218 136c55 0 108 -28 108 -89c0 -71 -55 -121 -102 -149c-35 -21 -75 -34 -116 -34c-55 0 -108 28 -108 89c0 71 55 121 102 149c35 21 75 34 116 34z\" fill=\"currentColor\"/>\n",
       "<rect transform=\"translate(22.1792, 3.7760)\" x=\"-0.0650\" y=\"-0.5000\" width=\"0.1300\" height=\"3.3139\" ry=\"0.0400\" fill=\"currentColor\"/>\n",
       "<path transform=\"translate(22.6942, 6.2760) scale(0.0040, -0.0040)\" d=\"M0 0c0 31 25 56 56 56s56 -25 56 -56s-25 -56 -56 -56s-56 25 -56 56z\" fill=\"currentColor\"/>\n",
       "<path transform=\"translate(20.9400, 6.7760) scale(0.0040, -0.0040)\" d=\"M218 136c55 0 108 -28 108 -89c0 -71 -55 -121 -102 -149c-35 -21 -75 -34 -116 -34c-55 0 -108 28 -108 89c0 71 55 121 102 149c35 21 75 34 116 34z\" fill=\"currentColor\"/>\n",
       "<path transform=\"translate(18.9900, 6.2760) scale(0.0040, -0.0040)\" d=\"M0 0c0 31 25 56 56 56s56 -25 56 -56s-25 -56 -56 -56s-56 25 -56 56z\" fill=\"currentColor\"/>\n",
       "<rect transform=\"translate(36.4259, 3.7760)\" x=\"-0.0650\" y=\"-0.5000\" width=\"0.1300\" height=\"3.3139\" ry=\"0.0400\" fill=\"currentColor\"/>\n",
       "<path transform=\"translate(36.9409, 6.2760) scale(0.0040, -0.0040)\" d=\"M0 0c0 31 25 56 56 56s56 -25 56 -56s-25 -56 -56 -56s-56 25 -56 56z\" fill=\"currentColor\"/>\n",
       "<path transform=\"translate(35.1867, 6.7760) scale(0.0040, -0.0040)\" d=\"M218 136c55 0 108 -28 108 -89c0 -71 -55 -121 -102 -149c-35 -21 -75 -34 -116 -34c-55 0 -108 28 -108 89c0 71 55 121 102 149c35 21 75 34 116 34z\" fill=\"currentColor\"/>\n",
       "<path transform=\"translate(13.5358, 3.7760) scale(0.0040, -0.0040)\" d=\"M359 27c-49 0 -75 42 -75 75c0 38 27 77 72 77c4 0 9 0 14 -1c-28 37 -72 59 -120 59c-106 0 -113 -73 -113 -186v-51v-51c0 -113 7 -187 113 -187c80 0 139 70 158 151c2 7 7 10 12 10c6 0 13 -4 13 -12c0 -94 -105 -174 -183 -174c-68 0 -137 21 -184 70\n",
       "c-49 51 -66 122 -66 193s17 142 66 193c47 49 116 69 184 69c87 0 160 -64 175 -150c1 -5 1 -9 1 -13c0 -40 -30 -72 -67 -72z\" fill=\"currentColor\"/>\n",
       "<rect transform=\"translate(32.7217, 3.7760)\" x=\"-0.0650\" y=\"-0.5000\" width=\"0.1300\" height=\"3.3139\" ry=\"0.0400\" fill=\"currentColor\"/>\n",
       "<path transform=\"translate(33.2367, 6.2760) scale(0.0040, -0.0040)\" d=\"M0 0c0 31 25 56 56 56s56 -25 56 -56s-25 -56 -56 -56s-56 25 -56 56z\" fill=\"currentColor\"/>\n",
       "<path transform=\"translate(9.3358, 4.7760) scale(0.0040, -0.0040)\" d=\"M376 262c4 0 9 1 13 1c155 0 256 -128 256 -261c0 -76 -33 -154 -107 -210c-22 -17 -47 -28 -73 -36c3 -35 5 -70 5 -105c0 -19 -1 -39 -2 -58c-7 -120 -90 -228 -208 -228c-108 0 -195 88 -195 197c0 58 53 103 112 103c54 0 95 -47 95 -103c0 -52 -43 -95 -95 -95\n",
       "c-11 0 -21 2 -31 6c26 -39 68 -65 117 -65c96 0 157 92 163 191c1 18 2 37 2 55c0 31 -1 61 -4 92c-29 -5 -58 -8 -89 -8c-188 0 -333 172 -333 374c0 177 131 306 248 441c-19 62 -37 125 -45 190c-6 52 -7 104 -7 156c0 115 55 224 149 292c3 2 7 3 10 3c4 0 7 0 10 -3\n",
       "c71 -84 133 -245 133 -358c0 -143 -86 -255 -180 -364c21 -68 39 -138 56 -207zM461 -203c68 24 113 95 113 164c0 90 -66 179 -173 190c24 -116 46 -231 60 -354zM74 28c0 -135 129 -247 264 -247c28 0 55 2 82 6c-14 127 -37 245 -63 364c-79 -8 -124 -61 -124 -119\n",
       "c0 -44 25 -91 81 -123c5 -5 7 -10 7 -15c0 -11 -10 -22 -22 -22c-3 0 -6 1 -9 2c-80 43 -117 115 -117 185c0 88 58 174 160 197c-14 58 -29 117 -46 175c-107 -121 -213 -243 -213 -403zM408 1045c-99 -48 -162 -149 -162 -259c0 -74 18 -133 36 -194\n",
       "c80 97 146 198 146 324c0 55 -4 79 -20 129z\" fill=\"currentColor\"/>\n",
       "<path transform=\"translate(31.4825, 6.7760) scale(0.0040, -0.0040)\" d=\"M218 136c55 0 108 -28 108 -89c0 -71 -55 -121 -102 -149c-35 -21 -75 -34 -116 -34c-55 0 -108 28 -108 89c0 71 55 121 102 149c35 21 75 34 116 34z\" fill=\"currentColor\"/>\n",
       "</svg>\n"
      ]
     },
     "metadata": {},
     "output_type": "display_data"
    }
   ],
   "source": [
    "duration = abjad.Duration(4,4)\n",
    "for shard in abjad.mutate(staff[:]).split([duration] , cyclic=True):\n",
    "    abjad.mutate(shard).wrap(abjad.Container())\n",
    "abjad.f(staff)\n",
    "abjad.show(staff)"
   ]
  },
  {
   "cell_type": "markdown",
   "metadata": {},
   "source": [
    "Now we have measures in our score tree, and our staff will iterate through measures by default."
   ]
  },
  {
   "cell_type": "code",
   "execution_count": 73,
   "metadata": {},
   "outputs": [
    {
     "name": "stdout",
     "output_type": "stream",
     "text": [
      "Container(\"c'4. c'4. c'4 ~\")\n",
      "Container(\"c'8 c'4. c'4. c'8 ~\")\n",
      "Container(\"c'4 c'4. c'4.\")\n"
     ]
    }
   ],
   "source": [
    "for measure in staff:\n",
    "    print(measure)"
   ]
  },
  {
   "cell_type": "markdown",
   "metadata": {},
   "source": [
    "If we want to iterate by leaves, now we need to use `abjad.iterate()`."
   ]
  },
  {
   "cell_type": "code",
   "execution_count": 74,
   "metadata": {},
   "outputs": [
    {
     "name": "stdout",
     "output_type": "stream",
     "text": [
      "c'4.\n",
      "c'4.\n",
      "c'4\n",
      "c'8\n",
      "c'4.\n",
      "c'4.\n",
      "c'8\n",
      "c'4\n",
      "c'4.\n",
      "c'4.\n"
     ]
    }
   ],
   "source": [
    "for leaf in abjad.iterate(staff).leaves():\n",
    "    print(leaf)"
   ]
  },
  {
   "cell_type": "markdown",
   "metadata": {},
   "source": [
    "### Rewriting Rhythms with Metric Hierarchies"
   ]
  },
  {
   "cell_type": "markdown",
   "metadata": {},
   "source": [
    "This is looking better, but the internal rhythms of our music still fail to comport with conventions of notation that dictate that we should always show beat three in a measure of (4,4). To do this, we need to impose a hierarchical model of meter onto our music, measure by measure."
   ]
  },
  {
   "cell_type": "code",
   "execution_count": 75,
   "metadata": {},
   "outputs": [
    {
     "name": "stdout",
     "output_type": "stream",
     "text": [
      "\\new Staff\n",
      "{\n",
      "    {\n",
      "        c'4.\n",
      "        c'4.\n",
      "        c'4\n",
      "        ~\n",
      "    }\n",
      "    {\n",
      "        c'8\n",
      "        c'4.\n",
      "        c'4.\n",
      "        c'8\n",
      "        ~\n",
      "    }\n",
      "    {\n",
      "        c'4\n",
      "        c'4.\n",
      "        c'4.\n",
      "    }\n",
      "}\n"
     ]
    }
   ],
   "source": [
    "four = abjad.Meter()\n",
    "for measure in staff:\n",
    "    abjad.mutate(measure).rewrite_meter(four)\n",
    "abjad.f(staff)"
   ]
  },
  {
   "cell_type": "markdown",
   "metadata": {},
   "source": [
    "This didn't change anything, because Abjad's default (4,4) hierarchy is just four quarter notes:"
   ]
  },
  {
   "cell_type": "code",
   "execution_count": 76,
   "metadata": {},
   "outputs": [
    {
     "data": {
      "image/svg+xml": [
       "<?xml version=\"1.0\" encoding=\"UTF-8\" standalone=\"no\"?>\n",
       "<!DOCTYPE svg PUBLIC \"-//W3C//DTD SVG 1.1//EN\"\n",
       " \"http://www.w3.org/Graphics/SVG/1.1/DTD/svg11.dtd\">\n",
       "<!-- Generated by graphviz version 2.40.1 (20161225.0304)\n",
       " -->\n",
       "<!-- Title: G Pages: 1 -->\n",
       "<svg width=\"382pt\" height=\"220pt\"\n",
       " viewBox=\"0.00 0.00 382.00 220.20\" xmlns=\"http://www.w3.org/2000/svg\" xmlns:xlink=\"http://www.w3.org/1999/xlink\">\n",
       "<g id=\"graph0\" class=\"graph\" transform=\"scale(1 1) rotate(0) translate(4 216.1953)\">\n",
       "<title>G</title>\n",
       "<g id=\"clust1\" class=\"cluster\">\n",
       "<title>cluster_offsets</title>\n",
       "<path fill=\"transparent\" stroke=\"#000000\" stroke-width=\"2\" d=\"M20,-8C20,-8 354,-8 354,-8 360,-8 366,-14 366,-20 366,-20 366,-56.5977 366,-56.5977 366,-62.5977 360,-68.5977 354,-68.5977 354,-68.5977 20,-68.5977 20,-68.5977 14,-68.5977 8,-62.5977 8,-56.5977 8,-56.5977 8,-20 8,-20 8,-14 14,-8 20,-8\"/>\n",
       "</g>\n",
       "<!-- node_0 -->\n",
       "<g id=\"node1\" class=\"node\">\n",
       "<title>node_0</title>\n",
       "<polygon fill=\"none\" stroke=\"#000000\" stroke-width=\"2\" points=\"187,-211.996 145.8675,-179.5967 228.1325,-179.5967 187,-211.996\"/>\n",
       "<text text-anchor=\"middle\" x=\"187\" y=\"-187.6959\" font-family=\"Arial\" font-size=\"12.00\" fill=\"#000000\">4/4</text>\n",
       "</g>\n",
       "<!-- node_1 -->\n",
       "<g id=\"node2\" class=\"node\">\n",
       "<title>node_1</title>\n",
       "<polygon fill=\"none\" stroke=\"#000000\" stroke-width=\"2\" points=\"106,-132.5977 52,-132.5977 52,-96.5977 106,-96.5977 106,-132.5977\"/>\n",
       "<text text-anchor=\"middle\" x=\"79\" y=\"-111.8971\" font-family=\"Arial\" font-size=\"12.00\" fill=\"#000000\">1/4</text>\n",
       "</g>\n",
       "<!-- node_0&#45;&gt;node_1 -->\n",
       "<g id=\"edge1\" class=\"edge\">\n",
       "<title>node_0&#45;&gt;node_1</title>\n",
       "<path fill=\"none\" stroke=\"#000000\" stroke-width=\"2\" d=\"M171.5262,-179.5364C156.3856,-168.91 132.8136,-152.3662 113.2515,-138.6368\"/>\n",
       "<polygon fill=\"#000000\" stroke=\"#000000\" stroke-width=\"2\" points=\"115.0668,-135.6348 104.8708,-132.7549 111.0454,-141.3645 115.0668,-135.6348\"/>\n",
       "</g>\n",
       "<!-- node_2 -->\n",
       "<g id=\"node3\" class=\"node\">\n",
       "<title>node_2</title>\n",
       "<polygon fill=\"none\" stroke=\"#000000\" stroke-width=\"2\" points=\"178,-132.5977 124,-132.5977 124,-96.5977 178,-96.5977 178,-132.5977\"/>\n",
       "<text text-anchor=\"middle\" x=\"151\" y=\"-111.8971\" font-family=\"Arial\" font-size=\"12.00\" fill=\"#000000\">1/4</text>\n",
       "</g>\n",
       "<!-- node_0&#45;&gt;node_2 -->\n",
       "<g id=\"edge2\" class=\"edge\">\n",
       "<title>node_0&#45;&gt;node_2</title>\n",
       "<path fill=\"none\" stroke=\"#000000\" stroke-width=\"2\" d=\"M181.8421,-179.5364C177.1799,-169.7201 170.1195,-154.8542 163.9299,-141.8219\"/>\n",
       "<polygon fill=\"#000000\" stroke=\"#000000\" stroke-width=\"2\" points=\"167.0754,-140.2863 159.6236,-132.7549 160.7523,-143.2894 167.0754,-140.2863\"/>\n",
       "</g>\n",
       "<!-- node_3 -->\n",
       "<g id=\"node4\" class=\"node\">\n",
       "<title>node_3</title>\n",
       "<polygon fill=\"none\" stroke=\"#000000\" stroke-width=\"2\" points=\"250,-132.5977 196,-132.5977 196,-96.5977 250,-96.5977 250,-132.5977\"/>\n",
       "<text text-anchor=\"middle\" x=\"223\" y=\"-111.8971\" font-family=\"Arial\" font-size=\"12.00\" fill=\"#000000\">1/4</text>\n",
       "</g>\n",
       "<!-- node_0&#45;&gt;node_3 -->\n",
       "<g id=\"edge3\" class=\"edge\">\n",
       "<title>node_0&#45;&gt;node_3</title>\n",
       "<path fill=\"none\" stroke=\"#000000\" stroke-width=\"2\" d=\"M192.1579,-179.5364C196.8201,-169.7201 203.8805,-154.8542 210.0701,-141.8219\"/>\n",
       "<polygon fill=\"#000000\" stroke=\"#000000\" stroke-width=\"2\" points=\"213.2477,-143.2894 214.3764,-132.7549 206.9246,-140.2863 213.2477,-143.2894\"/>\n",
       "</g>\n",
       "<!-- node_4 -->\n",
       "<g id=\"node5\" class=\"node\">\n",
       "<title>node_4</title>\n",
       "<polygon fill=\"none\" stroke=\"#000000\" stroke-width=\"2\" points=\"322,-132.5977 268,-132.5977 268,-96.5977 322,-96.5977 322,-132.5977\"/>\n",
       "<text text-anchor=\"middle\" x=\"295\" y=\"-111.8971\" font-family=\"Arial\" font-size=\"12.00\" fill=\"#000000\">1/4</text>\n",
       "</g>\n",
       "<!-- node_0&#45;&gt;node_4 -->\n",
       "<g id=\"edge4\" class=\"edge\">\n",
       "<title>node_0&#45;&gt;node_4</title>\n",
       "<path fill=\"none\" stroke=\"#000000\" stroke-width=\"2\" d=\"M202.4738,-179.5364C217.6144,-168.91 241.1864,-152.3662 260.7485,-138.6368\"/>\n",
       "<polygon fill=\"#000000\" stroke=\"#000000\" stroke-width=\"2\" points=\"262.9546,-141.3645 269.1292,-132.7549 258.9332,-135.6348 262.9546,-141.3645\"/>\n",
       "</g>\n",
       "<!-- node_5_0 -->\n",
       "<g id=\"node6\" class=\"node\">\n",
       "<title>node_5_0</title>\n",
       "<path fill=\"#000000\" stroke=\"#ffffff\" stroke-width=\"2\" d=\"M28,-16.5C28,-16.5 58,-16.5 58,-16.5 64,-16.5 70,-22.5 70,-28.5 70,-28.5 70,-48.0977 70,-48.0977 70,-54.0977 64,-60.0977 58,-60.0977 58,-60.0977 28,-60.0977 28,-60.0977 22,-60.0977 16,-54.0977 16,-48.0977 16,-48.0977 16,-28.5 16,-28.5 16,-22.5 22,-16.5 28,-16.5\"/>\n",
       "<text text-anchor=\"middle\" x=\"42.5078\" y=\"-46.4977\" font-family=\"Arial bold\" font-size=\"12.00\" fill=\"#ffffff\">0</text>\n",
       "<polyline fill=\"none\" stroke=\"#ffffff\" stroke-width=\"2\" points=\"16,-38.2988 69.0156,-38.2988 \"/>\n",
       "<text text-anchor=\"middle\" x=\"42.5078\" y=\"-24.6988\" font-family=\"Arial bold\" font-size=\"12.00\" fill=\"#ffffff\">++</text>\n",
       "</g>\n",
       "<!-- node_1&#45;&gt;node_5_0 -->\n",
       "<g id=\"edge5\" class=\"edge\">\n",
       "<title>node_1&#45;&gt;node_5_0</title>\n",
       "<path fill=\"none\" stroke=\"#000000\" stroke-width=\"2\" stroke-dasharray=\"1,5\" d=\"M70.4685,-96.5159C66.6723,-88.4701 62.0905,-78.7596 57.7663,-69.5946\"/>\n",
       "<polygon fill=\"#000000\" stroke=\"#000000\" stroke-width=\"2\" points=\"60.8294,-67.8844 53.3968,-60.334 54.4987,-70.8714 60.8294,-67.8844\"/>\n",
       "</g>\n",
       "<!-- node_5_1 -->\n",
       "<g id=\"node7\" class=\"node\">\n",
       "<title>node_5_1</title>\n",
       "<path fill=\"#000000\" stroke=\"#ffffff\" stroke-width=\"2\" d=\"M100,-16.5C100,-16.5 130,-16.5 130,-16.5 136,-16.5 142,-22.5 142,-28.5 142,-28.5 142,-48.0977 142,-48.0977 142,-54.0977 136,-60.0977 130,-60.0977 130,-60.0977 100,-60.0977 100,-60.0977 94,-60.0977 88,-54.0977 88,-48.0977 88,-48.0977 88,-28.5 88,-28.5 88,-22.5 94,-16.5 100,-16.5\"/>\n",
       "<text text-anchor=\"middle\" x=\"114.8408\" y=\"-46.4977\" font-family=\"Arial bold\" font-size=\"12.00\" fill=\"#ffffff\">1/4</text>\n",
       "<polyline fill=\"none\" stroke=\"#ffffff\" stroke-width=\"2\" points=\"88,-38.2988 141.6816,-38.2988 \"/>\n",
       "<text text-anchor=\"middle\" x=\"114.8408\" y=\"-24.6988\" font-family=\"Arial bold\" font-size=\"12.00\" fill=\"#ffffff\">+</text>\n",
       "</g>\n",
       "<!-- node_1&#45;&gt;node_5_1 -->\n",
       "<g id=\"edge6\" class=\"edge\">\n",
       "<title>node_1&#45;&gt;node_5_1</title>\n",
       "<path fill=\"none\" stroke=\"#000000\" stroke-width=\"2\" stroke-dasharray=\"1,5\" d=\"M87.5315,-96.5159C91.3277,-88.4701 95.9095,-78.7596 100.2337,-69.5946\"/>\n",
       "<polygon fill=\"#000000\" stroke=\"#000000\" stroke-width=\"2\" points=\"103.5013,-70.8714 104.6032,-60.334 97.1706,-67.8844 103.5013,-70.8714\"/>\n",
       "</g>\n",
       "<!-- node_2&#45;&gt;node_5_1 -->\n",
       "<g id=\"edge7\" class=\"edge\">\n",
       "<title>node_2&#45;&gt;node_5_1</title>\n",
       "<path fill=\"none\" stroke=\"#000000\" stroke-width=\"2\" stroke-dasharray=\"1,5\" d=\"M142.4685,-96.5159C138.6723,-88.4701 134.0905,-78.7596 129.7663,-69.5946\"/>\n",
       "<polygon fill=\"#000000\" stroke=\"#000000\" stroke-width=\"2\" points=\"132.8294,-67.8844 125.3968,-60.334 126.4987,-70.8714 132.8294,-67.8844\"/>\n",
       "</g>\n",
       "<!-- node_5_2 -->\n",
       "<g id=\"node8\" class=\"node\">\n",
       "<title>node_5_2</title>\n",
       "<path fill=\"#000000\" stroke=\"#ffffff\" stroke-width=\"2\" d=\"M172,-16.5C172,-16.5 202,-16.5 202,-16.5 208,-16.5 214,-22.5 214,-28.5 214,-28.5 214,-48.0977 214,-48.0977 214,-54.0977 208,-60.0977 202,-60.0977 202,-60.0977 172,-60.0977 172,-60.0977 166,-60.0977 160,-54.0977 160,-48.0977 160,-48.0977 160,-28.5 160,-28.5 160,-22.5 166,-16.5 172,-16.5\"/>\n",
       "<text text-anchor=\"middle\" x=\"186.8408\" y=\"-46.4977\" font-family=\"Arial bold\" font-size=\"12.00\" fill=\"#ffffff\">1/2</text>\n",
       "<polyline fill=\"none\" stroke=\"#ffffff\" stroke-width=\"2\" points=\"160,-38.2988 213.6816,-38.2988 \"/>\n",
       "<text text-anchor=\"middle\" x=\"186.8408\" y=\"-24.6988\" font-family=\"Arial bold\" font-size=\"12.00\" fill=\"#ffffff\">+</text>\n",
       "</g>\n",
       "<!-- node_2&#45;&gt;node_5_2 -->\n",
       "<g id=\"edge8\" class=\"edge\">\n",
       "<title>node_2&#45;&gt;node_5_2</title>\n",
       "<path fill=\"none\" stroke=\"#000000\" stroke-width=\"2\" stroke-dasharray=\"1,5\" d=\"M159.5315,-96.5159C163.3277,-88.4701 167.9095,-78.7596 172.2337,-69.5946\"/>\n",
       "<polygon fill=\"#000000\" stroke=\"#000000\" stroke-width=\"2\" points=\"175.5013,-70.8714 176.6032,-60.334 169.1706,-67.8844 175.5013,-70.8714\"/>\n",
       "</g>\n",
       "<!-- node_3&#45;&gt;node_5_2 -->\n",
       "<g id=\"edge9\" class=\"edge\">\n",
       "<title>node_3&#45;&gt;node_5_2</title>\n",
       "<path fill=\"none\" stroke=\"#000000\" stroke-width=\"2\" stroke-dasharray=\"1,5\" d=\"M214.4685,-96.5159C210.6723,-88.4701 206.0905,-78.7596 201.7663,-69.5946\"/>\n",
       "<polygon fill=\"#000000\" stroke=\"#000000\" stroke-width=\"2\" points=\"204.8294,-67.8844 197.3968,-60.334 198.4987,-70.8714 204.8294,-67.8844\"/>\n",
       "</g>\n",
       "<!-- node_5_3 -->\n",
       "<g id=\"node9\" class=\"node\">\n",
       "<title>node_5_3</title>\n",
       "<path fill=\"#000000\" stroke=\"#ffffff\" stroke-width=\"2\" d=\"M244,-16.5C244,-16.5 274,-16.5 274,-16.5 280,-16.5 286,-22.5 286,-28.5 286,-28.5 286,-48.0977 286,-48.0977 286,-54.0977 280,-60.0977 274,-60.0977 274,-60.0977 244,-60.0977 244,-60.0977 238,-60.0977 232,-54.0977 232,-48.0977 232,-48.0977 232,-28.5 232,-28.5 232,-22.5 238,-16.5 244,-16.5\"/>\n",
       "<text text-anchor=\"middle\" x=\"258.8408\" y=\"-46.4977\" font-family=\"Arial bold\" font-size=\"12.00\" fill=\"#ffffff\">3/4</text>\n",
       "<polyline fill=\"none\" stroke=\"#ffffff\" stroke-width=\"2\" points=\"232,-38.2988 285.6816,-38.2988 \"/>\n",
       "<text text-anchor=\"middle\" x=\"258.8408\" y=\"-24.6988\" font-family=\"Arial bold\" font-size=\"12.00\" fill=\"#ffffff\">+</text>\n",
       "</g>\n",
       "<!-- node_3&#45;&gt;node_5_3 -->\n",
       "<g id=\"edge10\" class=\"edge\">\n",
       "<title>node_3&#45;&gt;node_5_3</title>\n",
       "<path fill=\"none\" stroke=\"#000000\" stroke-width=\"2\" stroke-dasharray=\"1,5\" d=\"M231.5315,-96.5159C235.3277,-88.4701 239.9095,-78.7596 244.2337,-69.5946\"/>\n",
       "<polygon fill=\"#000000\" stroke=\"#000000\" stroke-width=\"2\" points=\"247.5013,-70.8714 248.6032,-60.334 241.1706,-67.8844 247.5013,-70.8714\"/>\n",
       "</g>\n",
       "<!-- node_4&#45;&gt;node_5_3 -->\n",
       "<g id=\"edge11\" class=\"edge\">\n",
       "<title>node_4&#45;&gt;node_5_3</title>\n",
       "<path fill=\"none\" stroke=\"#000000\" stroke-width=\"2\" stroke-dasharray=\"1,5\" d=\"M286.4685,-96.5159C282.6723,-88.4701 278.0905,-78.7596 273.7663,-69.5946\"/>\n",
       "<polygon fill=\"#000000\" stroke=\"#000000\" stroke-width=\"2\" points=\"276.8294,-67.8844 269.3968,-60.334 270.4987,-70.8714 276.8294,-67.8844\"/>\n",
       "</g>\n",
       "<!-- node_5_4 -->\n",
       "<g id=\"node10\" class=\"node\">\n",
       "<title>node_5_4</title>\n",
       "<path fill=\"none\" stroke=\"#000000\" stroke-width=\"2\" d=\"M316,-16.5C316,-16.5 346,-16.5 346,-16.5 352,-16.5 358,-22.5 358,-28.5 358,-28.5 358,-48.0977 358,-48.0977 358,-54.0977 352,-60.0977 346,-60.0977 346,-60.0977 316,-60.0977 316,-60.0977 310,-60.0977 304,-54.0977 304,-48.0977 304,-48.0977 304,-28.5 304,-28.5 304,-22.5 310,-16.5 316,-16.5\"/>\n",
       "<text text-anchor=\"middle\" x=\"330.5078\" y=\"-46.4977\" font-family=\"Arial\" font-size=\"12.00\" fill=\"#000000\">1</text>\n",
       "<polyline fill=\"none\" stroke=\"#000000\" stroke-width=\"2\" points=\"304,-38.2988 357.0156,-38.2988 \"/>\n",
       "<text text-anchor=\"middle\" x=\"330.5078\" y=\"-24.6988\" font-family=\"Arial\" font-size=\"12.00\" fill=\"#000000\">++</text>\n",
       "</g>\n",
       "<!-- node_4&#45;&gt;node_5_4 -->\n",
       "<g id=\"edge12\" class=\"edge\">\n",
       "<title>node_4&#45;&gt;node_5_4</title>\n",
       "<path fill=\"none\" stroke=\"#000000\" stroke-width=\"2\" stroke-dasharray=\"1,5\" d=\"M303.5315,-96.5159C307.3277,-88.4701 311.9095,-78.7596 316.2337,-69.5946\"/>\n",
       "<polygon fill=\"#000000\" stroke=\"#000000\" stroke-width=\"2\" points=\"319.5013,-70.8714 320.6032,-60.334 313.1706,-67.8844 319.5013,-70.8714\"/>\n",
       "</g>\n",
       "</g>\n",
       "</svg>\n"
      ]
     },
     "metadata": {},
     "output_type": "display_data"
    }
   ],
   "source": [
    "abjad.graph(four)"
   ]
  },
  {
   "cell_type": "markdown",
   "metadata": {},
   "source": [
    "We need to define a custom meter that includes another level of metric hierarchy and rewrite according to that. To do this, we'll use IRCAM's rhythm tree syntax:"
   ]
  },
  {
   "cell_type": "code",
   "execution_count": 77,
   "metadata": {},
   "outputs": [
    {
     "name": "stdout",
     "output_type": "stream",
     "text": [
      "\\new Staff\n",
      "{\n",
      "    {\n",
      "        c'4.\n",
      "        c'8\n",
      "        ~\n",
      "        c'4\n",
      "        c'4\n",
      "        ~\n",
      "    }\n",
      "    {\n",
      "        c'8\n",
      "        c'4.\n",
      "        c'4.\n",
      "        c'8\n",
      "        ~\n",
      "    }\n",
      "    {\n",
      "        c'4\n",
      "        c'4\n",
      "        ~\n",
      "        c'8\n",
      "        c'4.\n",
      "    }\n",
      "}\n"
     ]
    }
   ],
   "source": [
    "other_four = abjad.Meter('(4/4 ((2/4 (1/4 1/4)) (2/4 (1/4 1/4)) ))')\n",
    "for measure in staff:\n",
    "    abjad.mutate(measure).rewrite_meter(other_four)\n",
    "abjad.f(staff)"
   ]
  },
  {
   "cell_type": "markdown",
   "metadata": {},
   "source": [
    "This works, because our new meter contains a second level of metric hierarchy."
   ]
  },
  {
   "cell_type": "code",
   "execution_count": 78,
   "metadata": {},
   "outputs": [
    {
     "data": {
      "image/svg+xml": [
       "<?xml version=\"1.0\" encoding=\"UTF-8\" standalone=\"no\"?>\n",
       "<!DOCTYPE svg PUBLIC \"-//W3C//DTD SVG 1.1//EN\"\n",
       " \"http://www.w3.org/Graphics/SVG/1.1/DTD/svg11.dtd\">\n",
       "<!-- Generated by graphviz version 2.40.1 (20161225.0304)\n",
       " -->\n",
       "<!-- Title: G Pages: 1 -->\n",
       "<svg width=\"382pt\" height=\"300pt\"\n",
       " viewBox=\"0.00 0.00 382.00 299.79\" xmlns=\"http://www.w3.org/2000/svg\" xmlns:xlink=\"http://www.w3.org/1999/xlink\">\n",
       "<g id=\"graph0\" class=\"graph\" transform=\"scale(1 1) rotate(0) translate(4 295.793)\">\n",
       "<title>G</title>\n",
       "<g id=\"clust1\" class=\"cluster\">\n",
       "<title>cluster_offsets</title>\n",
       "<path fill=\"transparent\" stroke=\"#000000\" stroke-width=\"2\" d=\"M20,-8C20,-8 354,-8 354,-8 360,-8 366,-14 366,-20 366,-20 366,-56.5977 366,-56.5977 366,-62.5977 360,-68.5977 354,-68.5977 354,-68.5977 20,-68.5977 20,-68.5977 14,-68.5977 8,-62.5977 8,-56.5977 8,-56.5977 8,-20 8,-20 8,-14 14,-8 20,-8\"/>\n",
       "</g>\n",
       "<!-- node_0 -->\n",
       "<g id=\"node1\" class=\"node\">\n",
       "<title>node_0</title>\n",
       "<polygon fill=\"none\" stroke=\"#000000\" stroke-width=\"2\" points=\"187,-291.5936 145.8675,-259.1944 228.1325,-259.1944 187,-291.5936\"/>\n",
       "<text text-anchor=\"middle\" x=\"187\" y=\"-267.2936\" font-family=\"Arial\" font-size=\"12.00\" fill=\"#000000\">4/4</text>\n",
       "</g>\n",
       "<!-- node_1 -->\n",
       "<g id=\"node2\" class=\"node\">\n",
       "<title>node_1</title>\n",
       "<polygon fill=\"none\" stroke=\"#000000\" stroke-width=\"2\" points=\"137,-211.996 95.8675,-179.5967 178.1325,-179.5967 137,-211.996\"/>\n",
       "<text text-anchor=\"middle\" x=\"137\" y=\"-187.6959\" font-family=\"Arial\" font-size=\"12.00\" fill=\"#000000\">2/4</text>\n",
       "</g>\n",
       "<!-- node_0&#45;&gt;node_1 -->\n",
       "<g id=\"edge1\" class=\"edge\">\n",
       "<title>node_0&#45;&gt;node_1</title>\n",
       "<path fill=\"none\" stroke=\"#000000\" stroke-width=\"2\" d=\"M180.0477,-258.9264C172.7147,-247.2526 160.9458,-228.517 151.5654,-213.5839\"/>\n",
       "<polygon fill=\"#000000\" stroke=\"#000000\" stroke-width=\"2\" points=\"154.3775,-211.4807 146.0945,-204.8745 148.45,-215.2042 154.3775,-211.4807\"/>\n",
       "</g>\n",
       "<!-- node_4 -->\n",
       "<g id=\"node5\" class=\"node\">\n",
       "<title>node_4</title>\n",
       "<polygon fill=\"none\" stroke=\"#000000\" stroke-width=\"2\" points=\"237,-211.996 195.8675,-179.5967 278.1325,-179.5967 237,-211.996\"/>\n",
       "<text text-anchor=\"middle\" x=\"237\" y=\"-187.6959\" font-family=\"Arial\" font-size=\"12.00\" fill=\"#000000\">2/4</text>\n",
       "</g>\n",
       "<!-- node_0&#45;&gt;node_4 -->\n",
       "<g id=\"edge2\" class=\"edge\">\n",
       "<title>node_0&#45;&gt;node_4</title>\n",
       "<path fill=\"none\" stroke=\"#000000\" stroke-width=\"2\" d=\"M193.9523,-258.9264C201.2853,-247.2526 213.0542,-228.517 222.4346,-213.5839\"/>\n",
       "<polygon fill=\"#000000\" stroke=\"#000000\" stroke-width=\"2\" points=\"225.55,-215.2042 227.9055,-204.8745 219.6225,-211.4807 225.55,-215.2042\"/>\n",
       "</g>\n",
       "<!-- node_2 -->\n",
       "<g id=\"node3\" class=\"node\">\n",
       "<title>node_2</title>\n",
       "<polygon fill=\"none\" stroke=\"#000000\" stroke-width=\"2\" points=\"106,-132.5977 52,-132.5977 52,-96.5977 106,-96.5977 106,-132.5977\"/>\n",
       "<text text-anchor=\"middle\" x=\"79\" y=\"-111.8971\" font-family=\"Arial\" font-size=\"12.00\" fill=\"#000000\">1/4</text>\n",
       "</g>\n",
       "<!-- node_1&#45;&gt;node_2 -->\n",
       "<g id=\"edge3\" class=\"edge\">\n",
       "<title>node_1&#45;&gt;node_2</title>\n",
       "<path fill=\"none\" stroke=\"#000000\" stroke-width=\"2\" d=\"M128.69,-179.5364C121.0329,-169.5295 109.3604,-154.275 99.2523,-141.0649\"/>\n",
       "<polygon fill=\"#000000\" stroke=\"#000000\" stroke-width=\"2\" points=\"101.7501,-138.5697 92.8936,-132.7549 96.1909,-142.8236 101.7501,-138.5697\"/>\n",
       "</g>\n",
       "<!-- node_3 -->\n",
       "<g id=\"node4\" class=\"node\">\n",
       "<title>node_3</title>\n",
       "<polygon fill=\"none\" stroke=\"#000000\" stroke-width=\"2\" points=\"178,-132.5977 124,-132.5977 124,-96.5977 178,-96.5977 178,-132.5977\"/>\n",
       "<text text-anchor=\"middle\" x=\"151\" y=\"-111.8971\" font-family=\"Arial\" font-size=\"12.00\" fill=\"#000000\">1/4</text>\n",
       "</g>\n",
       "<!-- node_1&#45;&gt;node_3 -->\n",
       "<g id=\"edge4\" class=\"edge\">\n",
       "<title>node_1&#45;&gt;node_3</title>\n",
       "<path fill=\"none\" stroke=\"#000000\" stroke-width=\"2\" d=\"M139.0059,-179.5364C140.7661,-170.006 143.4055,-155.7159 145.7605,-142.9651\"/>\n",
       "<polygon fill=\"#000000\" stroke=\"#000000\" stroke-width=\"2\" points=\"149.2718,-143.2243 147.6464,-132.7549 142.3882,-141.9528 149.2718,-143.2243\"/>\n",
       "</g>\n",
       "<!-- node_7_0 -->\n",
       "<g id=\"node8\" class=\"node\">\n",
       "<title>node_7_0</title>\n",
       "<path fill=\"#000000\" stroke=\"#ffffff\" stroke-width=\"2\" d=\"M28,-16.5C28,-16.5 58,-16.5 58,-16.5 64,-16.5 70,-22.5 70,-28.5 70,-28.5 70,-48.0977 70,-48.0977 70,-54.0977 64,-60.0977 58,-60.0977 58,-60.0977 28,-60.0977 28,-60.0977 22,-60.0977 16,-54.0977 16,-48.0977 16,-48.0977 16,-28.5 16,-28.5 16,-22.5 22,-16.5 28,-16.5\"/>\n",
       "<text text-anchor=\"middle\" x=\"42.5117\" y=\"-46.4977\" font-family=\"Arial bold\" font-size=\"12.00\" fill=\"#ffffff\">0</text>\n",
       "<polyline fill=\"none\" stroke=\"#ffffff\" stroke-width=\"2\" points=\"16,-38.2988 69.0234,-38.2988 \"/>\n",
       "<text text-anchor=\"middle\" x=\"42.5117\" y=\"-24.6988\" font-family=\"Arial bold\" font-size=\"12.00\" fill=\"#ffffff\">+++</text>\n",
       "</g>\n",
       "<!-- node_2&#45;&gt;node_7_0 -->\n",
       "<g id=\"edge5\" class=\"edge\">\n",
       "<title>node_2&#45;&gt;node_7_0</title>\n",
       "<path fill=\"none\" stroke=\"#000000\" stroke-width=\"2\" stroke-dasharray=\"1,5\" d=\"M70.4685,-96.5159C66.6723,-88.4701 62.0905,-78.7596 57.7663,-69.5946\"/>\n",
       "<polygon fill=\"#000000\" stroke=\"#000000\" stroke-width=\"2\" points=\"60.8294,-67.8844 53.3968,-60.334 54.4987,-70.8714 60.8294,-67.8844\"/>\n",
       "</g>\n",
       "<!-- node_7_1 -->\n",
       "<g id=\"node9\" class=\"node\">\n",
       "<title>node_7_1</title>\n",
       "<path fill=\"#000000\" stroke=\"#ffffff\" stroke-width=\"2\" d=\"M100,-16.5C100,-16.5 130,-16.5 130,-16.5 136,-16.5 142,-22.5 142,-28.5 142,-28.5 142,-48.0977 142,-48.0977 142,-54.0977 136,-60.0977 130,-60.0977 130,-60.0977 100,-60.0977 100,-60.0977 94,-60.0977 88,-54.0977 88,-48.0977 88,-48.0977 88,-28.5 88,-28.5 88,-22.5 94,-16.5 100,-16.5\"/>\n",
       "<text text-anchor=\"middle\" x=\"114.8408\" y=\"-46.4977\" font-family=\"Arial bold\" font-size=\"12.00\" fill=\"#ffffff\">1/4</text>\n",
       "<polyline fill=\"none\" stroke=\"#ffffff\" stroke-width=\"2\" points=\"88,-38.2988 141.6816,-38.2988 \"/>\n",
       "<text text-anchor=\"middle\" x=\"114.8408\" y=\"-24.6988\" font-family=\"Arial bold\" font-size=\"12.00\" fill=\"#ffffff\">+</text>\n",
       "</g>\n",
       "<!-- node_2&#45;&gt;node_7_1 -->\n",
       "<g id=\"edge6\" class=\"edge\">\n",
       "<title>node_2&#45;&gt;node_7_1</title>\n",
       "<path fill=\"none\" stroke=\"#000000\" stroke-width=\"2\" stroke-dasharray=\"1,5\" d=\"M87.5315,-96.5159C91.3277,-88.4701 95.9095,-78.7596 100.2337,-69.5946\"/>\n",
       "<polygon fill=\"#000000\" stroke=\"#000000\" stroke-width=\"2\" points=\"103.5013,-70.8714 104.6032,-60.334 97.1706,-67.8844 103.5013,-70.8714\"/>\n",
       "</g>\n",
       "<!-- node_3&#45;&gt;node_7_1 -->\n",
       "<g id=\"edge7\" class=\"edge\">\n",
       "<title>node_3&#45;&gt;node_7_1</title>\n",
       "<path fill=\"none\" stroke=\"#000000\" stroke-width=\"2\" stroke-dasharray=\"1,5\" d=\"M142.4685,-96.5159C138.6723,-88.4701 134.0905,-78.7596 129.7663,-69.5946\"/>\n",
       "<polygon fill=\"#000000\" stroke=\"#000000\" stroke-width=\"2\" points=\"132.8294,-67.8844 125.3968,-60.334 126.4987,-70.8714 132.8294,-67.8844\"/>\n",
       "</g>\n",
       "<!-- node_7_2 -->\n",
       "<g id=\"node10\" class=\"node\">\n",
       "<title>node_7_2</title>\n",
       "<path fill=\"#000000\" stroke=\"#ffffff\" stroke-width=\"2\" d=\"M172,-16.5C172,-16.5 202,-16.5 202,-16.5 208,-16.5 214,-22.5 214,-28.5 214,-28.5 214,-48.0977 214,-48.0977 214,-54.0977 208,-60.0977 202,-60.0977 202,-60.0977 172,-60.0977 172,-60.0977 166,-60.0977 160,-54.0977 160,-48.0977 160,-48.0977 160,-28.5 160,-28.5 160,-22.5 166,-16.5 172,-16.5\"/>\n",
       "<text text-anchor=\"middle\" x=\"186.8408\" y=\"-46.4977\" font-family=\"Arial bold\" font-size=\"12.00\" fill=\"#ffffff\">1/2</text>\n",
       "<polyline fill=\"none\" stroke=\"#ffffff\" stroke-width=\"2\" points=\"160,-38.2988 213.6816,-38.2988 \"/>\n",
       "<text text-anchor=\"middle\" x=\"186.8408\" y=\"-24.6988\" font-family=\"Arial bold\" font-size=\"12.00\" fill=\"#ffffff\">++</text>\n",
       "</g>\n",
       "<!-- node_3&#45;&gt;node_7_2 -->\n",
       "<g id=\"edge8\" class=\"edge\">\n",
       "<title>node_3&#45;&gt;node_7_2</title>\n",
       "<path fill=\"none\" stroke=\"#000000\" stroke-width=\"2\" stroke-dasharray=\"1,5\" d=\"M159.5315,-96.5159C163.3277,-88.4701 167.9095,-78.7596 172.2337,-69.5946\"/>\n",
       "<polygon fill=\"#000000\" stroke=\"#000000\" stroke-width=\"2\" points=\"175.5013,-70.8714 176.6032,-60.334 169.1706,-67.8844 175.5013,-70.8714\"/>\n",
       "</g>\n",
       "<!-- node_5 -->\n",
       "<g id=\"node6\" class=\"node\">\n",
       "<title>node_5</title>\n",
       "<polygon fill=\"none\" stroke=\"#000000\" stroke-width=\"2\" points=\"250,-132.5977 196,-132.5977 196,-96.5977 250,-96.5977 250,-132.5977\"/>\n",
       "<text text-anchor=\"middle\" x=\"223\" y=\"-111.8971\" font-family=\"Arial\" font-size=\"12.00\" fill=\"#000000\">1/4</text>\n",
       "</g>\n",
       "<!-- node_4&#45;&gt;node_5 -->\n",
       "<g id=\"edge9\" class=\"edge\">\n",
       "<title>node_4&#45;&gt;node_5</title>\n",
       "<path fill=\"none\" stroke=\"#000000\" stroke-width=\"2\" d=\"M234.9941,-179.5364C233.2339,-170.006 230.5945,-155.7159 228.2395,-142.9651\"/>\n",
       "<polygon fill=\"#000000\" stroke=\"#000000\" stroke-width=\"2\" points=\"231.6118,-141.9528 226.3536,-132.7549 224.7282,-143.2243 231.6118,-141.9528\"/>\n",
       "</g>\n",
       "<!-- node_6 -->\n",
       "<g id=\"node7\" class=\"node\">\n",
       "<title>node_6</title>\n",
       "<polygon fill=\"none\" stroke=\"#000000\" stroke-width=\"2\" points=\"322,-132.5977 268,-132.5977 268,-96.5977 322,-96.5977 322,-132.5977\"/>\n",
       "<text text-anchor=\"middle\" x=\"295\" y=\"-111.8971\" font-family=\"Arial\" font-size=\"12.00\" fill=\"#000000\">1/4</text>\n",
       "</g>\n",
       "<!-- node_4&#45;&gt;node_6 -->\n",
       "<g id=\"edge10\" class=\"edge\">\n",
       "<title>node_4&#45;&gt;node_6</title>\n",
       "<path fill=\"none\" stroke=\"#000000\" stroke-width=\"2\" d=\"M245.31,-179.5364C252.9671,-169.5295 264.6396,-154.275 274.7477,-141.0649\"/>\n",
       "<polygon fill=\"#000000\" stroke=\"#000000\" stroke-width=\"2\" points=\"277.8091,-142.8236 281.1064,-132.7549 272.2499,-138.5697 277.8091,-142.8236\"/>\n",
       "</g>\n",
       "<!-- node_5&#45;&gt;node_7_2 -->\n",
       "<g id=\"edge11\" class=\"edge\">\n",
       "<title>node_5&#45;&gt;node_7_2</title>\n",
       "<path fill=\"none\" stroke=\"#000000\" stroke-width=\"2\" stroke-dasharray=\"1,5\" d=\"M214.4685,-96.5159C210.6723,-88.4701 206.0905,-78.7596 201.7663,-69.5946\"/>\n",
       "<polygon fill=\"#000000\" stroke=\"#000000\" stroke-width=\"2\" points=\"204.8294,-67.8844 197.3968,-60.334 198.4987,-70.8714 204.8294,-67.8844\"/>\n",
       "</g>\n",
       "<!-- node_7_3 -->\n",
       "<g id=\"node11\" class=\"node\">\n",
       "<title>node_7_3</title>\n",
       "<path fill=\"#000000\" stroke=\"#ffffff\" stroke-width=\"2\" d=\"M244,-16.5C244,-16.5 274,-16.5 274,-16.5 280,-16.5 286,-22.5 286,-28.5 286,-28.5 286,-48.0977 286,-48.0977 286,-54.0977 280,-60.0977 274,-60.0977 274,-60.0977 244,-60.0977 244,-60.0977 238,-60.0977 232,-54.0977 232,-48.0977 232,-48.0977 232,-28.5 232,-28.5 232,-22.5 238,-16.5 244,-16.5\"/>\n",
       "<text text-anchor=\"middle\" x=\"258.8408\" y=\"-46.4977\" font-family=\"Arial bold\" font-size=\"12.00\" fill=\"#ffffff\">3/4</text>\n",
       "<polyline fill=\"none\" stroke=\"#ffffff\" stroke-width=\"2\" points=\"232,-38.2988 285.6816,-38.2988 \"/>\n",
       "<text text-anchor=\"middle\" x=\"258.8408\" y=\"-24.6988\" font-family=\"Arial bold\" font-size=\"12.00\" fill=\"#ffffff\">+</text>\n",
       "</g>\n",
       "<!-- node_5&#45;&gt;node_7_3 -->\n",
       "<g id=\"edge12\" class=\"edge\">\n",
       "<title>node_5&#45;&gt;node_7_3</title>\n",
       "<path fill=\"none\" stroke=\"#000000\" stroke-width=\"2\" stroke-dasharray=\"1,5\" d=\"M231.5315,-96.5159C235.3277,-88.4701 239.9095,-78.7596 244.2337,-69.5946\"/>\n",
       "<polygon fill=\"#000000\" stroke=\"#000000\" stroke-width=\"2\" points=\"247.5013,-70.8714 248.6032,-60.334 241.1706,-67.8844 247.5013,-70.8714\"/>\n",
       "</g>\n",
       "<!-- node_6&#45;&gt;node_7_3 -->\n",
       "<g id=\"edge13\" class=\"edge\">\n",
       "<title>node_6&#45;&gt;node_7_3</title>\n",
       "<path fill=\"none\" stroke=\"#000000\" stroke-width=\"2\" stroke-dasharray=\"1,5\" d=\"M286.4685,-96.5159C282.6723,-88.4701 278.0905,-78.7596 273.7663,-69.5946\"/>\n",
       "<polygon fill=\"#000000\" stroke=\"#000000\" stroke-width=\"2\" points=\"276.8294,-67.8844 269.3968,-60.334 270.4987,-70.8714 276.8294,-67.8844\"/>\n",
       "</g>\n",
       "<!-- node_7_4 -->\n",
       "<g id=\"node12\" class=\"node\">\n",
       "<title>node_7_4</title>\n",
       "<path fill=\"none\" stroke=\"#000000\" stroke-width=\"2\" d=\"M316,-16.5C316,-16.5 346,-16.5 346,-16.5 352,-16.5 358,-22.5 358,-28.5 358,-28.5 358,-48.0977 358,-48.0977 358,-54.0977 352,-60.0977 346,-60.0977 346,-60.0977 316,-60.0977 316,-60.0977 310,-60.0977 304,-54.0977 304,-48.0977 304,-48.0977 304,-28.5 304,-28.5 304,-22.5 310,-16.5 316,-16.5\"/>\n",
       "<text text-anchor=\"middle\" x=\"330.5117\" y=\"-46.4977\" font-family=\"Arial\" font-size=\"12.00\" fill=\"#000000\">1</text>\n",
       "<polyline fill=\"none\" stroke=\"#000000\" stroke-width=\"2\" points=\"304,-38.2988 357.0234,-38.2988 \"/>\n",
       "<text text-anchor=\"middle\" x=\"330.5117\" y=\"-24.6988\" font-family=\"Arial\" font-size=\"12.00\" fill=\"#000000\">+++</text>\n",
       "</g>\n",
       "<!-- node_6&#45;&gt;node_7_4 -->\n",
       "<g id=\"edge14\" class=\"edge\">\n",
       "<title>node_6&#45;&gt;node_7_4</title>\n",
       "<path fill=\"none\" stroke=\"#000000\" stroke-width=\"2\" stroke-dasharray=\"1,5\" d=\"M303.5315,-96.5159C307.3277,-88.4701 311.9095,-78.7596 316.2337,-69.5946\"/>\n",
       "<polygon fill=\"#000000\" stroke=\"#000000\" stroke-width=\"2\" points=\"319.5013,-70.8714 320.6032,-60.334 313.1706,-67.8844 319.5013,-70.8714\"/>\n",
       "</g>\n",
       "</g>\n",
       "</svg>\n"
      ]
     },
     "metadata": {},
     "output_type": "display_data"
    }
   ],
   "source": [
    "abjad.graph(other_four)"
   ]
  },
  {
   "cell_type": "markdown",
   "metadata": {},
   "source": [
    "Now you can start to model your metric habits. For further useful customizations, including dot-count, see [`MutationAgent.rewrite_meter()`](http://abjad.mbrsi.org/api/tools/agenttools/MutationAgent.html#abjad.tools.agenttools.MutationAgent.MutationAgent.rewrite_meter)."
   ]
  },
  {
   "cell_type": "code",
   "execution_count": null,
   "metadata": {},
   "outputs": [],
   "source": []
  }
 ],
 "metadata": {
  "kernelspec": {
   "display_name": "Python 3",
   "language": "python",
   "name": "python3"
  },
  "language_info": {
   "codemirror_mode": {
    "name": "ipython",
    "version": 3
   },
   "file_extension": ".py",
   "mimetype": "text/x-python",
   "name": "python",
   "nbconvert_exporter": "python",
   "pygments_lexer": "ipython3",
   "version": "3.7.3"
  }
 },
 "nbformat": 4,
 "nbformat_minor": 1
}
