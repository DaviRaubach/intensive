{
 "cells": [
  {
   "cell_type": "code",
   "execution_count": 2,
   "metadata": {},
   "outputs": [
    {
     "ename": "ModuleNotFoundError",
     "evalue": "No module named 'abjad.ext.ipython'",
     "output_type": "error",
     "traceback": [
      "\u001b[0;31m---------------------------------------------------------------------------\u001b[0m",
      "\u001b[0;31mModuleNotFoundError\u001b[0m                       Traceback (most recent call last)",
      "\u001b[0;32m<ipython-input-2-f65af6e5b6b1>\u001b[0m in \u001b[0;36m<module>\u001b[0;34m\u001b[0m\n\u001b[0;32m----> 1\u001b[0;31m \u001b[0mget_ipython\u001b[0m\u001b[0;34m(\u001b[0m\u001b[0;34m)\u001b[0m\u001b[0;34m.\u001b[0m\u001b[0mrun_line_magic\u001b[0m\u001b[0;34m(\u001b[0m\u001b[0;34m'load_ext'\u001b[0m\u001b[0;34m,\u001b[0m \u001b[0;34m'abjad.ext.ipython'\u001b[0m\u001b[0;34m)\u001b[0m\u001b[0;34m\u001b[0m\u001b[0;34m\u001b[0m\u001b[0m\n\u001b[0m\u001b[1;32m      2\u001b[0m \u001b[0;32mimport\u001b[0m \u001b[0mabjad\u001b[0m\u001b[0;34m\u001b[0m\u001b[0;34m\u001b[0m\u001b[0m\n",
      "\u001b[0;32m/Library/Frameworks/Python.framework/Versions/3.7/lib/python3.7/site-packages/IPython/core/interactiveshell.py\u001b[0m in \u001b[0;36mrun_line_magic\u001b[0;34m(self, magic_name, line, _stack_depth)\u001b[0m\n\u001b[1;32m   2305\u001b[0m                 \u001b[0mkwargs\u001b[0m\u001b[0;34m[\u001b[0m\u001b[0;34m'local_ns'\u001b[0m\u001b[0;34m]\u001b[0m \u001b[0;34m=\u001b[0m \u001b[0msys\u001b[0m\u001b[0;34m.\u001b[0m\u001b[0m_getframe\u001b[0m\u001b[0;34m(\u001b[0m\u001b[0mstack_depth\u001b[0m\u001b[0;34m)\u001b[0m\u001b[0;34m.\u001b[0m\u001b[0mf_locals\u001b[0m\u001b[0;34m\u001b[0m\u001b[0;34m\u001b[0m\u001b[0m\n\u001b[1;32m   2306\u001b[0m             \u001b[0;32mwith\u001b[0m \u001b[0mself\u001b[0m\u001b[0;34m.\u001b[0m\u001b[0mbuiltin_trap\u001b[0m\u001b[0;34m:\u001b[0m\u001b[0;34m\u001b[0m\u001b[0;34m\u001b[0m\u001b[0m\n\u001b[0;32m-> 2307\u001b[0;31m                 \u001b[0mresult\u001b[0m \u001b[0;34m=\u001b[0m \u001b[0mfn\u001b[0m\u001b[0;34m(\u001b[0m\u001b[0;34m*\u001b[0m\u001b[0margs\u001b[0m\u001b[0;34m,\u001b[0m \u001b[0;34m**\u001b[0m\u001b[0mkwargs\u001b[0m\u001b[0;34m)\u001b[0m\u001b[0;34m\u001b[0m\u001b[0;34m\u001b[0m\u001b[0m\n\u001b[0m\u001b[1;32m   2308\u001b[0m             \u001b[0;32mreturn\u001b[0m \u001b[0mresult\u001b[0m\u001b[0;34m\u001b[0m\u001b[0;34m\u001b[0m\u001b[0m\n\u001b[1;32m   2309\u001b[0m \u001b[0;34m\u001b[0m\u001b[0m\n",
      "\u001b[0;32m</Library/Frameworks/Python.framework/Versions/3.7/lib/python3.7/site-packages/decorator.py:decorator-gen-64>\u001b[0m in \u001b[0;36mload_ext\u001b[0;34m(self, module_str)\u001b[0m\n",
      "\u001b[0;32m/Library/Frameworks/Python.framework/Versions/3.7/lib/python3.7/site-packages/IPython/core/magic.py\u001b[0m in \u001b[0;36m<lambda>\u001b[0;34m(f, *a, **k)\u001b[0m\n\u001b[1;32m    185\u001b[0m     \u001b[0;31m# but it's overkill for just that one bit of state.\u001b[0m\u001b[0;34m\u001b[0m\u001b[0;34m\u001b[0m\u001b[0;34m\u001b[0m\u001b[0m\n\u001b[1;32m    186\u001b[0m     \u001b[0;32mdef\u001b[0m \u001b[0mmagic_deco\u001b[0m\u001b[0;34m(\u001b[0m\u001b[0marg\u001b[0m\u001b[0;34m)\u001b[0m\u001b[0;34m:\u001b[0m\u001b[0;34m\u001b[0m\u001b[0;34m\u001b[0m\u001b[0m\n\u001b[0;32m--> 187\u001b[0;31m         \u001b[0mcall\u001b[0m \u001b[0;34m=\u001b[0m \u001b[0;32mlambda\u001b[0m \u001b[0mf\u001b[0m\u001b[0;34m,\u001b[0m \u001b[0;34m*\u001b[0m\u001b[0ma\u001b[0m\u001b[0;34m,\u001b[0m \u001b[0;34m**\u001b[0m\u001b[0mk\u001b[0m\u001b[0;34m:\u001b[0m \u001b[0mf\u001b[0m\u001b[0;34m(\u001b[0m\u001b[0;34m*\u001b[0m\u001b[0ma\u001b[0m\u001b[0;34m,\u001b[0m \u001b[0;34m**\u001b[0m\u001b[0mk\u001b[0m\u001b[0;34m)\u001b[0m\u001b[0;34m\u001b[0m\u001b[0;34m\u001b[0m\u001b[0m\n\u001b[0m\u001b[1;32m    188\u001b[0m \u001b[0;34m\u001b[0m\u001b[0m\n\u001b[1;32m    189\u001b[0m         \u001b[0;32mif\u001b[0m \u001b[0mcallable\u001b[0m\u001b[0;34m(\u001b[0m\u001b[0marg\u001b[0m\u001b[0;34m)\u001b[0m\u001b[0;34m:\u001b[0m\u001b[0;34m\u001b[0m\u001b[0;34m\u001b[0m\u001b[0m\n",
      "\u001b[0;32m/Library/Frameworks/Python.framework/Versions/3.7/lib/python3.7/site-packages/IPython/core/magics/extension.py\u001b[0m in \u001b[0;36mload_ext\u001b[0;34m(self, module_str)\u001b[0m\n\u001b[1;32m     31\u001b[0m         \u001b[0;32mif\u001b[0m \u001b[0;32mnot\u001b[0m \u001b[0mmodule_str\u001b[0m\u001b[0;34m:\u001b[0m\u001b[0;34m\u001b[0m\u001b[0;34m\u001b[0m\u001b[0m\n\u001b[1;32m     32\u001b[0m             \u001b[0;32mraise\u001b[0m \u001b[0mUsageError\u001b[0m\u001b[0;34m(\u001b[0m\u001b[0;34m'Missing module name.'\u001b[0m\u001b[0;34m)\u001b[0m\u001b[0;34m\u001b[0m\u001b[0;34m\u001b[0m\u001b[0m\n\u001b[0;32m---> 33\u001b[0;31m         \u001b[0mres\u001b[0m \u001b[0;34m=\u001b[0m \u001b[0mself\u001b[0m\u001b[0;34m.\u001b[0m\u001b[0mshell\u001b[0m\u001b[0;34m.\u001b[0m\u001b[0mextension_manager\u001b[0m\u001b[0;34m.\u001b[0m\u001b[0mload_extension\u001b[0m\u001b[0;34m(\u001b[0m\u001b[0mmodule_str\u001b[0m\u001b[0;34m)\u001b[0m\u001b[0;34m\u001b[0m\u001b[0;34m\u001b[0m\u001b[0m\n\u001b[0m\u001b[1;32m     34\u001b[0m \u001b[0;34m\u001b[0m\u001b[0m\n\u001b[1;32m     35\u001b[0m         \u001b[0;32mif\u001b[0m \u001b[0mres\u001b[0m \u001b[0;34m==\u001b[0m \u001b[0;34m'already loaded'\u001b[0m\u001b[0;34m:\u001b[0m\u001b[0;34m\u001b[0m\u001b[0;34m\u001b[0m\u001b[0m\n",
      "\u001b[0;32m/Library/Frameworks/Python.framework/Versions/3.7/lib/python3.7/site-packages/IPython/core/extensions.py\u001b[0m in \u001b[0;36mload_extension\u001b[0;34m(self, module_str)\u001b[0m\n\u001b[1;32m     78\u001b[0m             \u001b[0;32mif\u001b[0m \u001b[0mmodule_str\u001b[0m \u001b[0;32mnot\u001b[0m \u001b[0;32min\u001b[0m \u001b[0msys\u001b[0m\u001b[0;34m.\u001b[0m\u001b[0mmodules\u001b[0m\u001b[0;34m:\u001b[0m\u001b[0;34m\u001b[0m\u001b[0;34m\u001b[0m\u001b[0m\n\u001b[1;32m     79\u001b[0m                 \u001b[0;32mwith\u001b[0m \u001b[0mprepended_to_syspath\u001b[0m\u001b[0;34m(\u001b[0m\u001b[0mself\u001b[0m\u001b[0;34m.\u001b[0m\u001b[0mipython_extension_dir\u001b[0m\u001b[0;34m)\u001b[0m\u001b[0;34m:\u001b[0m\u001b[0;34m\u001b[0m\u001b[0;34m\u001b[0m\u001b[0m\n\u001b[0;32m---> 80\u001b[0;31m                     \u001b[0mmod\u001b[0m \u001b[0;34m=\u001b[0m \u001b[0mimport_module\u001b[0m\u001b[0;34m(\u001b[0m\u001b[0mmodule_str\u001b[0m\u001b[0;34m)\u001b[0m\u001b[0;34m\u001b[0m\u001b[0;34m\u001b[0m\u001b[0m\n\u001b[0m\u001b[1;32m     81\u001b[0m                     \u001b[0;32mif\u001b[0m \u001b[0mmod\u001b[0m\u001b[0;34m.\u001b[0m\u001b[0m__file__\u001b[0m\u001b[0;34m.\u001b[0m\u001b[0mstartswith\u001b[0m\u001b[0;34m(\u001b[0m\u001b[0mself\u001b[0m\u001b[0;34m.\u001b[0m\u001b[0mipython_extension_dir\u001b[0m\u001b[0;34m)\u001b[0m\u001b[0;34m:\u001b[0m\u001b[0;34m\u001b[0m\u001b[0;34m\u001b[0m\u001b[0m\n\u001b[1;32m     82\u001b[0m                         print((\"Loading extensions from {dir} is deprecated. \"\n",
      "\u001b[0;32m/Library/Frameworks/Python.framework/Versions/3.7/lib/python3.7/importlib/__init__.py\u001b[0m in \u001b[0;36mimport_module\u001b[0;34m(name, package)\u001b[0m\n\u001b[1;32m    125\u001b[0m                 \u001b[0;32mbreak\u001b[0m\u001b[0;34m\u001b[0m\u001b[0;34m\u001b[0m\u001b[0m\n\u001b[1;32m    126\u001b[0m             \u001b[0mlevel\u001b[0m \u001b[0;34m+=\u001b[0m \u001b[0;36m1\u001b[0m\u001b[0;34m\u001b[0m\u001b[0;34m\u001b[0m\u001b[0m\n\u001b[0;32m--> 127\u001b[0;31m     \u001b[0;32mreturn\u001b[0m \u001b[0m_bootstrap\u001b[0m\u001b[0;34m.\u001b[0m\u001b[0m_gcd_import\u001b[0m\u001b[0;34m(\u001b[0m\u001b[0mname\u001b[0m\u001b[0;34m[\u001b[0m\u001b[0mlevel\u001b[0m\u001b[0;34m:\u001b[0m\u001b[0;34m]\u001b[0m\u001b[0;34m,\u001b[0m \u001b[0mpackage\u001b[0m\u001b[0;34m,\u001b[0m \u001b[0mlevel\u001b[0m\u001b[0;34m)\u001b[0m\u001b[0;34m\u001b[0m\u001b[0;34m\u001b[0m\u001b[0m\n\u001b[0m\u001b[1;32m    128\u001b[0m \u001b[0;34m\u001b[0m\u001b[0m\n\u001b[1;32m    129\u001b[0m \u001b[0;34m\u001b[0m\u001b[0m\n",
      "\u001b[0;32m/Library/Frameworks/Python.framework/Versions/3.7/lib/python3.7/importlib/_bootstrap.py\u001b[0m in \u001b[0;36m_gcd_import\u001b[0;34m(name, package, level)\u001b[0m\n",
      "\u001b[0;32m/Library/Frameworks/Python.framework/Versions/3.7/lib/python3.7/importlib/_bootstrap.py\u001b[0m in \u001b[0;36m_find_and_load\u001b[0;34m(name, import_)\u001b[0m\n",
      "\u001b[0;32m/Library/Frameworks/Python.framework/Versions/3.7/lib/python3.7/importlib/_bootstrap.py\u001b[0m in \u001b[0;36m_find_and_load_unlocked\u001b[0;34m(name, import_)\u001b[0m\n",
      "\u001b[0;31mModuleNotFoundError\u001b[0m: No module named 'abjad.ext.ipython'"
     ]
    }
   ],
   "source": [
    "%load_ext abjad.ext.ipython\n",
    "import abjad"
   ]
  },
  {
   "cell_type": "markdown",
   "metadata": {},
   "source": [
    "# Installing Abjad and friends"
   ]
  },
  {
   "cell_type": "markdown",
   "metadata": {},
   "source": [
    "**Note:** This tutorial assumes you are working in a _Unix-like_ environment (which, without splitting hairs, OSX and Linux are). Whenever possible, we'll provide information about how working in a Windows environment differs."
   ]
  },
  {
   "cell_type": "markdown",
   "metadata": {},
   "source": [
    "## Getting comfortable with your terminal\n",
    "\n",
    "We're going to do a lot of work in _the terminal_. Editing files, executing scripts, etc. That includes installing and working with Abjad and its dependencies.\n",
    "\n",
    "#### Hold on, what's a terminal?\n",
    "\n",
    "A _terminal_, or _terminal emulator_, gives you access to the textual or _command-line_ interface to your computer. By typing commands in text you can start and stop programs, inspect the state of your machine, move files around and so forth. The terminal is very powerful and potentially intimidating, but we won't be doing anything too complicated.\n",
    "\n",
    "#### Turning it on\n",
    "\n",
    "- OSX: Look for `Terminal.app` in `/Applications/Utilities`\n",
    "- Debian: It depends.\n",
    "- Windows: Look for `Command Prompt`\n",
    "\n",
    "#### Useful commands (Bash)\n",
    "\n",
    "- `cd`: change directory\n",
    "- `pwd`: print the current directory\n",
    "- `ls`: list the contents of the current directory\n",
    "- `echo`: print something\n",
    "- `cat`: print the contents of a fail\n",
    "- `head`/`tail`: show the first or last few lines of a file\n",
    "- `mkdir`: make a new directory\n",
    "- `rm`: remove a file or directory\n",
    "- `which`: find the location of an _executable_\n",
    "\n",
    "Also:\n",
    "\n",
    "- tab completion\n",
    "- wildcard expansion\n",
    "- pipes and redirection\n",
    "- `..` and directory separators\n",
    "\n",
    "For example, here are some terminal commands (not counting the `!` which is special to the IPython Notebook):"
   ]
  },
  {
   "cell_type": "code",
   "execution_count": 2,
   "metadata": {},
   "outputs": [
    {
     "name": "stdout",
     "output_type": "stream",
     "text": [
      "/Users/simjeff/Documents/abjad/intensive/day-1\r\n"
     ]
    }
   ],
   "source": [
    "!pwd"
   ]
  },
  {
   "cell_type": "code",
   "execution_count": 3,
   "metadata": {},
   "outputs": [
    {
     "name": "stdout",
     "output_type": "stream",
     "text": [
      "total 576\r\n",
      "-rw-r--r--  1 simjeff  staff  136915 Jun  3 15:28 1-installation.ipynb\r\n",
      "-rw-r--r--  1 simjeff  staff  148991 Jun  3 15:28 2-leaves.ipynb\r\n",
      "-rw-r--r--  1 simjeff  staff    1932 Jun  3 15:28 presentation.py\r\n"
     ]
    }
   ],
   "source": [
    "!ls -l"
   ]
  },
  {
   "cell_type": "markdown",
   "metadata": {},
   "source": [
    "## LilyPond: http://lilypond.org/development.html\n",
    "\n",
    "Now that we've dipped our toes into the terminal, let's start collecting the bits and pieces we need to start working with Abjad. Starting with LilyPond!\n",
    "\n",
    "#### What is it?\n",
    "\n",
    "> LilyPond is a music engraving program, devoted to producing the highest-quality sheet music possible. It brings the aesthetics of traditionally engraved music to computer printouts.\n",
    "\n",
    "> ...\n",
    "\n",
    "> LilyPond is a compiled system: it is run on a text file describing the music. The resulting output is viewed on-screen or printed. In some ways, LilyPond is more similar to a programming language than graphical score editing software.\n",
    "\n",
    "> ...\n",
    "\n",
    "> You do not write music by dragging notes from a graphical toolbar and placing them on a dynamically refreshing score; you write music by typing text. This text is interpreted (or “compiled”) by LilyPond, which produces beautifully engraved sheet music.\n",
    "\n",
    "#### What does Abjad use it for?\n",
    "\n",
    "LilyPond is Abjad's musical typesetting engine. Abjad generates LilyPond input files (`.ly`) and then runs LilyPond against those files, creating PDFs.\n",
    "\n",
    "#### How do I install it?\n",
    "\n",
    "Always, always install LilyPond from LilyPond's website: http://lilypond.org.\n",
    "\n",
    "While package managers (more on that soon) often provide versions of LilyPond, their always old. Use a recent development version instead.\n",
    "\n",
    "- Windows: Consult http://lilypond.org/windows.html for how to setup your PATH.\n",
    "- OSX: Consult http://lilypond.org/macos-x.html for how to setup your PATH.\n",
    "\n",
    "#### How do I know it works?"
   ]
  },
  {
   "cell_type": "code",
   "execution_count": 4,
   "metadata": {},
   "outputs": [
    {
     "name": "stdout",
     "output_type": "stream",
     "text": [
      "GNU LilyPond 2.18.2\r\n",
      "\r\n",
      "Copyright (c) 1996--2012 by\r\n",
      "  Han-Wen Nienhuys <hanwen@xs4all.nl>\r\n",
      "  Jan Nieuwenhuizen <janneke@gnu.org>\r\n",
      "  and others.\r\n",
      "\r\n",
      "This program is free software.  It is covered by the GNU General Public\r\n",
      "License and you are welcome to change it and/or distribute copies of it\r\n",
      "under certain conditions.  Invoke as `lilypond --warranty' for more\r\n",
      "information.\r\n",
      "\r\n"
     ]
    }
   ],
   "source": [
    "!lilypond --version"
   ]
  },
  {
   "cell_type": "markdown",
   "metadata": {},
   "source": [
    "## Python: https://python.org\n",
    "\n",
    "#### What is it?\n",
    "\n",
    "From Wikipedia:\n",
    "\n",
    "> Python is a widely used high-level, general-purpose, interpreted, dynamic programming language.[24][25] Its design philosophy emphasizes code readability, and its syntax allows programmers to express concepts in fewer lines of code than possible in languages such as C++ or Java.[26][27] The language provides constructs intended to enable clear programs on both a small and large scale.[28]\n",
    "\n",
    "> Python supports multiple programming paradigms, including object-oriented, imperative and functional programming or procedural styles. It features a dynamic type system and automatic memory management and has a large and comprehensive standard library.[29]\n",
    "\n",
    "> Python interpreters are available for many operating systems, allowing Python code to run on a wide variety of systems. Using third-party tools, such as Py2exe or Pyinstaller,[30] Python code can be packaged into stand-alone executable programs for some of the most popular operating systems, so Python-based software can be distributed to, and used on, those environments with no need to install a Python interpreter.\n",
    "\n",
    "> CPython, the reference implementation of Python, is free and open-source software and has a community-based development model, as do nearly all of its variant implementations. CPython is managed by the non-profit Python Software Foundation.\n",
    "\n",
    "#### How do I install it?\n",
    "\n",
    "If you're on OSX or a \\*nix system like Debian, Arch, Ubuntu etc. then you almost certainly have some version of Python installed. Abjad works with both Python 2.7 and 3.3+, but for the sake of modernity, let's try to work in Python 3.5.\n",
    "\n",
    "- On \\*nix, use your package manager (`apt`, `yum`) to get the newest Python version.\n",
    "- To upgrade Python on OSX, visit https://www.python.org/downloads/.\n",
    "- Because Windows doesn't ship with Python installed, also visit https://www.python.org/downloads/, download the newest Python 3.5.x version and install it.\n",
    "\n",
    "Installing a new version of Python won't erase your old versions, so no harm done.\n",
    "\n",
    "#### What does Abjad use it for?\n",
    "\n",
    "Abjad is _written in_ Python!\n",
    "\n",
    "We chose Python for many of the reasons listed in the description above. It has a clean, simple syntax that (generally) encourages clearly-written code. It works on all modern operating systems. It's used extensively by many different people and organizations all over the world (scientific computing, financial computing, systems operations) which in turn means that it has a huge ecosystem of libraries we can tap into, and tens of thousands of programmers and users looking into its every aspect. And because Python is _interpreted_ and not _compiled_, the cycle of development - writing code, trying it out, revising - is fast.\n",
    "\n",
    "#### How do I know it works?"
   ]
  },
  {
   "cell_type": "code",
   "execution_count": 5,
   "metadata": {},
   "outputs": [
    {
     "name": "stdout",
     "output_type": "stream",
     "text": [
      "Python 3.6.2\r\n"
     ]
    }
   ],
   "source": [
    "!python --version"
   ]
  },
  {
   "cell_type": "markdown",
   "metadata": {},
   "source": [
    "#### Some Python tips\n",
    "\n",
    "Running a command:\n",
    "\n",
    "     python -c \"print('i am printing this')\"\n",
    "\n",
    "Executing a file:\n",
    "\n",
    "     python my-python-file.py\n",
    " \n",
    "Executing a file but keeping the interpreter alive:\n",
    "\n",
    "     python -i my-python-file.py\n",
    "     \n",
    "Quitting the interpreter:\n",
    "\n",
    "     quit()"
   ]
  },
  {
   "cell_type": "markdown",
   "metadata": {},
   "source": [
    "## Package managers\n",
    "\n",
    "For OSX and \\*nix users, many dependencies are best installed via a _package manager_: a program that knows how to find and install other programs and whatever programs those programs depend upon.\n",
    "\n",
    "\\*nix systems come with package managers installed, like `yum` or `apt`. OSX users will have to install manually. Luckily, `HomeBrew` (http://brew.sh) is really easy to get. Just run the following command in your terminal:\n",
    "\n",
    "    ```\n",
    "    /usr/bin/ruby -e \"$(curl -fsSL https://raw.githubusercontent.com/Homebrew/install/master/install)\"\n",
    "    ```\n",
    "    \n",
    "Once HomeBrew is installed you can verify it works like this:"
   ]
  },
  {
   "cell_type": "code",
   "execution_count": 6,
   "metadata": {},
   "outputs": [
    {
     "name": "stdout",
     "output_type": "stream",
     "text": [
      "Homebrew 1.5.2\n",
      "Homebrew/homebrew-core (git revision 47553; last commit 2018-02-04)\n"
     ]
    }
   ],
   "source": [
    "!brew --version"
   ]
  },
  {
   "cell_type": "markdown",
   "metadata": {},
   "source": [
    "## Command-line dependencies\n",
    "\n",
    "Abjad relies on a number of command-line tools and libraries to get work done. These include image-processing libraries like _ImageMagick_, image-generation libraries like _Graphviz_ and _LilyPond_, and typesetting tools like _LaTeX_."
   ]
  },
  {
   "cell_type": "markdown",
   "metadata": {},
   "source": [
    "### Git: https://git-scm.com/\n",
    "\n",
    "#### What is it?\n",
    "\n",
    "> _Git is a free and open source distributed version control system designed to handle     everything from small to very large projects with speed and efficiency._\n",
    "\n",
    "#### What does Abjad use it for?\n",
    "\n",
    "Abjad uses git as its source control.\n",
    "\n",
    "#### How do I install it?\n",
    "\n",
    "If you're on OSX, there's a good chance your machine already has Git installed. Likewise under \\*nix.\n",
    "\n",
    "- OSX: `brew install git`\n",
    "- Debian: `apt-get install git`\n",
    "- Windows: visit https://git-scm.com/download/win and download the appropriate installer.\n",
    "\n",
    "#### How do I know it works?"
   ]
  },
  {
   "cell_type": "code",
   "execution_count": 7,
   "metadata": {},
   "outputs": [
    {
     "name": "stdout",
     "output_type": "stream",
     "text": [
      "git version 2.7.4 (Apple Git-66)\r\n"
     ]
    }
   ],
   "source": [
    "!git --version"
   ]
  },
  {
   "cell_type": "markdown",
   "metadata": {},
   "source": [
    "### ImageMagick: http://www.imagemagick.org/script/index.php\n",
    "\n",
    "#### What is it?\n",
    "\n",
    "> ImageMagick® is a software suite to create, edit, compose, or convert bitmap images. It can read and write images in a variety of formats (over 200) including PNG, JPEG, JPEG-2000, GIF, TIFF, DPX, EXR, WebP, Postscript, PDF, and SVG. Use ImageMagick to resize, flip, mirror, rotate, distort, shear and transform images, adjust image colors, apply various special effects, or draw text, lines, polygons, ellipses and Bézier curves.\n",
    "\n",
    "> The functionality of ImageMagick is typically utilized from the command-line or you can use the features from programs written in your favorite language.\n",
    "\n",
    "#### What does Abjad use it for?\n",
    "\n",
    "Abjad uses ImageMagick's `convert` tool to crop images when building its documentation, and when inserting images into IPython notebooks like this one.\n",
    "\n",
    "#### How do I install it?\n",
    "\n",
    "- OSX: `brew install imagemagick`\n",
    "- Debian: `apt-get install imagemagick`\n",
    "- Windows: Visit http://www.imagemagick.org/script/binary-releases.php#windows and download the appropriate installer.\n",
    "\n",
    "#### How do I know it works?"
   ]
  },
  {
   "cell_type": "code",
   "execution_count": 8,
   "metadata": {},
   "outputs": [
    {
     "name": "stdout",
     "output_type": "stream",
     "text": [
      "Version: ImageMagick 6.7.6-9 2012-05-12 Q16 http://www.imagemagick.org\r\n",
      "Copyright: Copyright (C) 1999-2012 ImageMagick Studio LLC\r\n",
      "Features:     \r\n",
      "\r\n"
     ]
    }
   ],
   "source": [
    "!convert --version"
   ]
  },
  {
   "cell_type": "markdown",
   "metadata": {},
   "source": [
    "### TiMIDIty: http://timidity.sourceforge.net/\n",
    "\n",
    "#### What is it?\n",
    "\n",
    "> TiMidity++ is a software synthesizer. It can play MIDI files by converting them into PCM waveform data; give it a MIDI data along with digital instrument data files, then it synthesizes them in real-time, and plays. It can not only play sounds, but also can save the generated waveforms into hard disks as various audio file formats.\n",
    "\n",
    "#### What does Abjad use it for?\n",
    "\n",
    "Abjad uses `timidity` to convert MIDI files into audio for embedding in IPython notebooks.\n",
    "\n",
    "For example, we can create a staff in Abjad and call the function `play()` on it to create some audio:"
   ]
  },
  {
   "cell_type": "code",
   "execution_count": 3,
   "metadata": {},
   "outputs": [
    {
     "ename": "NameError",
     "evalue": "name 'abjad' is not defined",
     "output_type": "error",
     "traceback": [
      "\u001b[0;31m---------------------------------------------------------------------------\u001b[0m",
      "\u001b[0;31mNameError\u001b[0m                                 Traceback (most recent call last)",
      "\u001b[0;32m<ipython-input-3-5ec91ac5ee2a>\u001b[0m in \u001b[0;36m<module>\u001b[0;34m\u001b[0m\n\u001b[0;32m----> 1\u001b[0;31m \u001b[0mstaff\u001b[0m \u001b[0;34m=\u001b[0m \u001b[0mabjad\u001b[0m\u001b[0;34m.\u001b[0m\u001b[0mStaff\u001b[0m\u001b[0;34m(\u001b[0m\u001b[0;34mr\"c'4 \\times 2/3 { d'8 e'8 f'8 } g'4\"\u001b[0m\u001b[0;34m)\u001b[0m\u001b[0;34m\u001b[0m\u001b[0;34m\u001b[0m\u001b[0m\n\u001b[0m\u001b[1;32m      2\u001b[0m \u001b[0mabjad\u001b[0m\u001b[0;34m.\u001b[0m\u001b[0mplay\u001b[0m\u001b[0;34m(\u001b[0m\u001b[0mstaff\u001b[0m\u001b[0;34m)\u001b[0m\u001b[0;34m\u001b[0m\u001b[0;34m\u001b[0m\u001b[0m\n",
      "\u001b[0;31mNameError\u001b[0m: name 'abjad' is not defined"
     ]
    }
   ],
   "source": [
    "staff = abjad.Staff(r\"c'4 \\times 2/3 { d'8 e'8 f'8 } g'4\")\n",
    "abjad.play(staff)"
   ]
  },
  {
   "cell_type": "markdown",
   "metadata": {},
   "source": [
    "#### How do I install it?\n",
    "\n",
    "- OSX: `brew install timidity`\n",
    "- Debian: `apt-get install timidity`\n",
    "\n",
    "#### How do I know it works?"
   ]
  },
  {
   "cell_type": "code",
   "execution_count": 12,
   "metadata": {},
   "outputs": [
    {
     "name": "stdout",
     "output_type": "stream",
     "text": [
      "TiMidity++ version 2.13.2\r\n",
      "\r\n",
      "Copyright (C) 1999-2004 Masanao Izumo <iz@onicos.co.jp>\r\n",
      "Copyright (C) 1995 Tuukka Toivonen <tt@cgs.fi>\r\n",
      "\r\n",
      "This program is distributed in the hope that it will be useful,\r\n",
      "but WITHOUT ANY WARRANTY; without even the implied warranty of\r\n",
      "MERCHANTABILITY or FITNESS FOR A PARTICULAR PURPOSE.  See the\r\n",
      "GNU General Public License for more details.\r\n"
     ]
    }
   ],
   "source": [
    "!timidity --version"
   ]
  },
  {
   "cell_type": "markdown",
   "metadata": {},
   "source": [
    "### Graphviz: http://graphviz.org/\n",
    "\n",
    "#### What is it?\n",
    "\n",
    "> Graphviz is open source graph visualization software. Graph visualization is a way of representing structural information as diagrams of abstract graphs and networks. It has important applications in networking, bioinformatics,  software engineering, database and web design, machine learning, and in visual interfaces for other technical domains.\n",
    "\n",
    "#### What does Abjad use it for?\n",
    "\n",
    "Abjad uses Graphviz's `dot` tool for creating inheritance graphs in its documentation, and to graph various kinds of musical score structures."
   ]
  },
  {
   "cell_type": "code",
   "execution_count": 19,
   "metadata": {},
   "outputs": [
    {
     "data": {
      "image/png": "[encoded data removed]"
     },
     "metadata": {},
     "output_type": "display_data"
    }
   ],
   "source": [
    "staff = abjad.Staff(\"c'4 d' e'\")\n",
    "abjad.graph(staff)"
   ]
  },
  {
   "cell_type": "markdown",
   "metadata": {},
   "source": [
    "#### How do I install it?\n",
    "\n",
    "- OSX: `brew install graphviz`\n",
    "- Debian: `apt-get install graphviz`\n",
    "\n",
    "#### How do I know it works?"
   ]
  },
  {
   "cell_type": "code",
   "execution_count": 20,
   "metadata": {},
   "outputs": [
    {
     "name": "stdout",
     "output_type": "stream",
     "text": [
      "dot - graphviz version 2.34.0 (20130907.0228)\r\n"
     ]
    }
   ],
   "source": [
    "!dot -V"
   ]
  },
  {
   "cell_type": "markdown",
   "metadata": {},
   "source": [
    "### LaTeX / TeX Live: https://www.tug.org/texlive/ (optional)\n",
    "\n",
    "#### What is it?\n",
    "\n",
    "TeX:\n",
    "\n",
    "> TeX is a typesetting language. Instead of visually formatting your text, you enter your manuscript text intertwined with TeX commands in a plain text file. You then run TeX to produce formatted output, such as a PDF file. Thus, in contrast to standard word processors, your document is a separate file that does not pretend to be a representation of the final typeset output, and so can be easily edited and manipulated.\n",
    "\n",
    "TeX Live:\n",
    "\n",
    "> TeX Live is an easy way to get up and running with the TeX document production system. It provides a comprehensive TeX system with binaries for most flavors of Unix, including GNU/Linux, and also Windows. It includes all the major TeX-related programs, macro packages, and fonts that are free software, including support for many languages around the world.\n",
    "\n",
    "#### What does Abjad use it for?\n",
    "\n",
    "Abjad's `abjad-book` tool pre-processes LaTeX files, allowing you to embed notation as well as arbitrary interpreted Python code alongside professionally-typeset text.\n",
    "\n",
    "We often use LaTeX when creating the front and back covers as well as performance notes to scores generated with Abjad.\n",
    "\n",
    "#### How do I install it?\n",
    "\n",
    "- OSX: https://tug.org/mactex/\n",
    "- Debian: `apt-get install texlive-full`\n",
    "\n",
    "#### How do I know it works?"
   ]
  },
  {
   "cell_type": "code",
   "execution_count": 21,
   "metadata": {},
   "outputs": [
    {
     "name": "stdout",
     "output_type": "stream",
     "text": [
      "XeTeX 3.14159265-2.6-0.99992 (TeX Live 2015)\r\n",
      "kpathsea version 6.2.1\r\n",
      "Copyright 2015 SIL International, Jonathan Kew and Khaled Hosny.\r\n",
      "There is NO warranty.  Redistribution of this software is\r\n",
      "covered by the terms of both the XeTeX copyright and\r\n",
      "the Lesser GNU General Public License.\r\n",
      "For more information about these matters, see the file\r\n",
      "named COPYING and the XeTeX source.\r\n",
      "Primary author of XeTeX: Jonathan Kew.\r\n",
      "Compiled with ICU version 55.1; using 55.1\r\n",
      "Compiled with zlib version 1.2.8; using 1.2.8\r\n",
      "Compiled with FreeType2 version 2.5.5; using 2.5.5\r\n",
      "Compiled with Graphite2 version 1.2.4; using 1.2.4\r\n",
      "Compiled with HarfBuzz version 0.9.40; using 0.9.40\r\n",
      "Compiled with libpng version 1.6.17; using 1.6.17\r\n",
      "Compiled with poppler version 0.32.0\r\n",
      "Using Mac OS X Core Text and Cocoa frameworks\r\n"
     ]
    }
   ],
   "source": [
    "!xetex --version"
   ]
  },
  {
   "cell_type": "markdown",
   "metadata": {},
   "source": [
    "## Choose a text editor\n",
    "\n",
    "To work with Abjad, LilyPond and LaTeX, you're going to need a text editor. Most people new to working at the command-line will want to use a _graphical text editor_. Obviously there are text editors available from _within_ the command-line, but they often have a steep learning curve. Go with what's comfortable for you.\n",
    "\n",
    "#### Command-line text editors\n",
    "\n",
    "- nano (easy mode)\n",
    "- vim (hard mode)\n",
    "\n",
    "#### Graphical text editors\n",
    "\n",
    "- TextMate\n",
    "- SublimeText\n",
    "- etc."
   ]
  },
  {
   "cell_type": "markdown",
   "metadata": {},
   "source": [
    "## Virtual environments (optional)\n",
    "\n",
    "Virtual environments (virtualenvs) allow you to isolate Python installations, including their installed 3rd-party libraries, from one another. We strongly recommend working in a virtual environment, as it will prevent you from installing packages globally which can have unintended or undesirable consequences.\n",
    "\n",
    "This lets you work with different versions of Python, different versions of Abjad, whatever you like. In any case, it's cleaner!\n",
    "\n",
    "- `sudo pip install virtualenvwrapper`\n",
    "- `pip install virtualenvwrapper-win` (on Windows)\n",
    "\n",
    "Once you have the appropriate package installed:\n",
    "\n",
    "- `mkvirtualenv myvirtualenv` will create and activate the `myvirtualenv` environment.\n",
    "- `workon` will list virtualenvs.\n",
    "- `workon myvirtualenv` will activate `myvirtualenv`.\n",
    "- `deactivate` will exit the current virtual environment."
   ]
  },
  {
   "cell_type": "markdown",
   "metadata": {},
   "source": [
    "## Install Abjad\n",
    "\n",
    "Now that all of the dependencies are installed, let's get Abjad.\n",
    "\n",
    "#### Installing Abjad from source\n",
    "\n",
    "To install from `source`, you need to `clone` Abjad from its _repository_ on GitHub, navigate into the resulting folder and then run Python's `pip` command to install it:\n",
    "\n",
    "    git clone https://github.com/Abjad/abjad.git\n",
    "    cd abjad\n",
    "    pip install -e .[development,ipython]\n",
    "\n",
    "\n",
    "#### Installing Abjad from PyPI\n",
    "\n",
    "Alternatively, you can install the latest published version from the Python Package Index:\n",
    "\n",
    "    pip install abjad[development,ipython]\n",
    "    \n",
    "Installing Abjad this way will make it hard to inspect the source code of the project, so for our purposes we'll install from source instead."
   ]
  },
  {
   "cell_type": "markdown",
   "metadata": {},
   "source": [
    "## Hello world!\n",
    "\n",
    "Now that Abjad is installed, let's verify that it's working as expected.\n",
    "\n",
    "Start by launching your Python interpreter:\n",
    "\n",
    "    python\n",
    "    \n",
    "Once the interpreter is active, run the following lines, one by one:\n",
    "\n",
    "    from abjad import *\n",
    "    note = Note()\n",
    "    show(note)\n",
    "\n",
    "After running the last line, a PDF should appear!\n",
    "\n",
    "If that worked, go ahead and quit Python:\n",
    "\n",
    "    exit()"
   ]
  },
  {
   "cell_type": "markdown",
   "metadata": {},
   "source": [
    "## That's it!\n",
    "\n",
    "If you want to keep digging in to more advanced topics (which we'll get to later in the course as well), keep reading."
   ]
  },
  {
   "cell_type": "markdown",
   "metadata": {},
   "source": [
    "## Checking for Abjad's command-line tools\n",
    "\n",
    "Abjad comes with its own tools for use on the command-line outside of Python. Let's check that they're available:"
   ]
  },
  {
   "cell_type": "code",
   "execution_count": 25,
   "metadata": {},
   "outputs": [
    {
     "name": "stdout",
     "output_type": "stream",
     "text": [
      "usage: abj-dev [-h] [--version]\r\n",
      "               {help,list,api,book,build,check-class-sections,clean,doctest,material,replace,score,segment,stats}\r\n",
      "               ...\r\n",
      "\r\n",
      "Entry-point to Abjad developer scripts catalog.\r\n",
      "\r\n",
      "optional arguments:\r\n",
      "  -h, --help            show this help message and exit\r\n",
      "  --version             show program's version number and exit\r\n",
      "\r\n",
      "subcommands:\r\n",
      "  {help,list,api,book,build,check-class-sections,clean,doctest,material,replace,score,segment,stats}\r\n",
      "    help                print subcommand help\r\n",
      "    list                list subcommands\r\n",
      "    api                 Build the Abjad APIs.\r\n",
      "    book                Preprocess LaTeX files with Abjad.\r\n",
      "    build               Manage score package build targets.\r\n",
      "    check-class-sections\r\n",
      "                        Check the order and contents of class sections in a\r\n",
      "                        path or file.\r\n",
      "    clean               Clean *.pyc, *.swp, .cache, __pycache__ and tmp* files\r\n",
      "                        and folders from PATH.\r\n",
      "    doctest             Run doctests on all modules in current path.\r\n",
      "    material            Manage score package materials.\r\n",
      "    replace             Replace text.\r\n",
      "    score               Manage score packages.\r\n",
      "    segment             Manage score package segments.\r\n",
      "    stats               Build statistics about Python modules in PATH.\r\n"
     ]
    }
   ],
   "source": [
    "!ajv --help"
   ]
  },
  {
   "cell_type": "markdown",
   "metadata": {},
   "source": [
    "## Running Abjad's test suite\n",
    "\n",
    "To run Abjad's test suite, navigate into wherever you installed Abjad, then run `py.test` and/or `ajv doctest`:\n",
    "\n",
    "    cd ~/Abjad/abjad\n",
    "    py.test -rf\n",
    "    ajv doctest"
   ]
  },
  {
   "cell_type": "markdown",
   "metadata": {
    "collapsed": true
   },
   "source": [
    "## Building Abjad's documentation\n",
    "\n",
    "To build Abjad's documentation, run the following command:\n",
    "\n",
    "    ajv api -M\n",
    "    \n",
    "This will take a long time (~1 hour), so only if you really want to.\n",
    "\n",
    "You can see what the documentation looks like here: http://abjad.mbrsi.org/"
   ]
  },
  {
   "cell_type": "code",
   "execution_count": null,
   "metadata": {
    "collapsed": true
   },
   "outputs": [],
   "source": []
  }
 ],
 "metadata": {
  "kernelspec": {
   "display_name": "Python 3",
   "language": "python",
   "name": "python3"
  },
  "language_info": {
   "codemirror_mode": {
    "name": "ipython",
    "version": 3
   },
   "file_extension": ".py",
   "mimetype": "text/x-python",
   "name": "python",
   "nbconvert_exporter": "python",
   "pygments_lexer": "ipython3",
   "version": "3.7.3"
  }
 },
 "nbformat": 4,
 "nbformat_minor": 1
}
