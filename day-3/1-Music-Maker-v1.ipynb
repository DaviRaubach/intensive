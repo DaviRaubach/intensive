{
 "cells": [
  {
   "cell_type": "code",
   "execution_count": 78,
   "metadata": {},
   "outputs": [
    {
     "name": "stdout",
     "output_type": "stream",
     "text": [
      "The abjad.ext.ipython extension is already loaded. To reload it, use:\n",
      "  %reload_ext abjad.ext.ipython\n"
     ]
    }
   ],
   "source": [
    "import abjad\n",
    "%load_ext abjad.ext.ipython"
   ]
  },
  {
   "cell_type": "markdown",
   "metadata": {},
   "source": [
    "## Toward a Music-Generating Class -- Isorhythm"
   ]
  },
  {
   "cell_type": "markdown",
   "metadata": {},
   "source": [
    "The rhythmmaker classes we saw yesterday are a good example of top-down music generation. Today, we'll learn to write new classes that generate music in a similar top-down fashion.\n",
    "\n",
    "To begin with, we're going to model the process of generation in a completely procedural way; later, we'll get into basics of object-oriented programming and turn this procedural code into a reusable class."
   ]
  },
  {
   "cell_type": "markdown",
   "metadata": {},
   "source": [
    "First, we'll just use an instance of the `Talea()` class to generate some leaves; this is basically what an instance of the `TaleaRhythmmaker()` class is doing. Then we'll paint a cycle of pitches (a *color*) onto the generated leaves."
   ]
  },
  {
   "cell_type": "code",
   "execution_count": 79,
   "metadata": {},
   "outputs": [],
   "source": [
    "time_signature_pairs = [(4, 4), (3, 4), (7, 16), (6, 8)]\n",
    "total_duration = sum(abjad.Duration(pair) for pair in time_signature_pairs)\n",
    "counts = [1, 2, -3, 4]\n",
    "denominator = 16\n",
    "talea = abjad.rhythmmakertools.Talea(counts=counts, denominator=denominator)\n",
    "talea_index = 0"
   ]
  },
  {
   "cell_type": "markdown",
   "metadata": {},
   "source": [
    "The talea generates a cycle of fractions by pairing each count with its denominator. Negative numerators indicate rests."
   ]
  },
  {
   "cell_type": "code",
   "execution_count": 80,
   "metadata": {},
   "outputs": [
    {
     "data": {
      "text/plain": [
       "[NonreducedFraction(1, 16),\n",
       " NonreducedFraction(2, 16),\n",
       " NonreducedFraction(-3, 16),\n",
       " NonreducedFraction(4, 16),\n",
       " NonreducedFraction(1, 16),\n",
       " NonreducedFraction(2, 16),\n",
       " NonreducedFraction(-3, 16),\n",
       " NonreducedFraction(4, 16),\n",
       " NonreducedFraction(1, 16),\n",
       " NonreducedFraction(2, 16)]"
      ]
     },
     "execution_count": 80,
     "metadata": {},
     "output_type": "execute_result"
    }
   ],
   "source": [
    "talea[:10]"
   ]
  },
  {
   "cell_type": "markdown",
   "metadata": {},
   "source": [
    "### 1. Generate the Rhythms\n",
    "Let's use the talea to generate a series of middle Cs that add up to the total duration of the time signature series defined above."
   ]
  },
  {
   "cell_type": "code",
   "execution_count": 81,
   "metadata": {},
   "outputs": [],
   "source": [
    "all_leaves = [] # create an empty list for generated leaves\n",
    "current_duration = abjad.Duration(0) # keep track of the total duration as we generate each new leaf\n",
    "while current_duration < total_duration: # generate leaves until they add up to the total duration\n",
    "    leaf_duration = talea[talea_index] # get a fraction from the talea\n",
    "    if leaf_duration > 0: \n",
    "        pitch = abjad.NamedPitch(\"c'\") # assign the leaf a pitch of middle C\n",
    "    else:\n",
    "        pitch = None # if the leaf is a rest, don't assign a pitch\n",
    "    leaf_duration = abs(leaf_duration) # cancel the minus sign on the duration\n",
    "    if (leaf_duration + current_duration) > total_duration:\n",
    "        leaf_duration = total_duration - current_duration # catch any end condition by truncating the last duration\n",
    "    current_leaves = abjad.LeafMaker()([pitch], [leaf_duration])   # make the leaves\n",
    "    all_leaves.extend(current_leaves) # add the new leaves to the list of leaves\n",
    "    current_duration += leaf_duration # advance the total duration\n",
    "    talea_index += 1 # advance the talea index to the next fraction"
   ]
  },
  {
   "cell_type": "code",
   "execution_count": 82,
   "metadata": {},
   "outputs": [],
   "source": [
    "music = abjad.Container(all_leaves) # put the leaves into a container for ease of further use"
   ]
  },
  {
   "cell_type": "markdown",
   "metadata": {},
   "source": [
    "Now we need to split the generated leaves at measure boundaries so that they fit into the time signatures we specified."
   ]
  },
  {
   "cell_type": "code",
   "execution_count": 83,
   "metadata": {},
   "outputs": [],
   "source": [
    "shards = abjad.mutate(music[:]).split(time_signature_pairs)\n",
    "for i, shard in enumerate(shards):\n",
    "    abjad.mutate(shard[:]).wrap(abjad.Measure(abjad.TimeSignature(time_signature_pairs[i])))\n",
    "    "
   ]
  },
  {
   "cell_type": "markdown",
   "metadata": {},
   "source": [
    "Let's also put each measure into a `Measure()` instance for ease of further access."
   ]
  },
  {
   "cell_type": "code",
   "execution_count": 84,
   "metadata": {},
   "outputs": [],
   "source": [
    "shards = abjad.mutate(music[:]).split(time_signature_pairs)\n",
    "for i, shard in enumerate(shards):\n",
    "    measure = abjad.Measure(time_signature_pairs[i])"
   ]
  },
  {
   "cell_type": "markdown",
   "metadata": {},
   "source": [
    "Have a look at the resulting LilyPond output to confirm that we now have both measures -- interior curly braces -- and also time signatures for each measure."
   ]
  },
  {
   "cell_type": "code",
   "execution_count": 85,
   "metadata": {},
   "outputs": [
    {
     "name": "stdout",
     "output_type": "stream",
     "text": [
      "{\n",
      "    {\n",
      "        \\time 4/4\n",
      "        c'16\n",
      "        c'8\n",
      "        r8.\n",
      "        c'4\n",
      "        c'16\n",
      "        c'8\n",
      "        r8.\n",
      "    }\n",
      "    {\n",
      "        \\time 3/4\n",
      "        c'4\n",
      "        c'16\n",
      "        c'8\n",
      "        r8.\n",
      "        c'8 ~\n",
      "    }\n",
      "    {\n",
      "        \\time 7/16\n",
      "        c'8\n",
      "        c'16\n",
      "        c'8\n",
      "        r8\n",
      "    }\n",
      "    {\n",
      "        \\time 6/8\n",
      "        r16\n",
      "        c'4\n",
      "        c'16\n",
      "        c'8\n",
      "        r8.\n",
      "        c'16\n",
      "    }\n",
      "}\n"
     ]
    }
   ],
   "source": [
    "abjad.f(music)"
   ]
  },
  {
   "cell_type": "markdown",
   "metadata": {},
   "source": [
    "### 2. Paint on the Pitches\n",
    "And now we can paint a cycle of pitches onto the generated rhythms however we like. First, we define a cycle of pitches:"
   ]
  },
  {
   "cell_type": "code",
   "execution_count": 86,
   "metadata": {},
   "outputs": [],
   "source": [
    "#pitches = abjad.CyclicTuple([\"d'\", \"a''\", \"gs'\", \"fs'\"])\n",
    "#pitches = abjad.CyclicTuple([\"c'\", \"c''\"])\n",
    "#pitches = abjad.CyclicTuple([0, 2, 4, 5, 7, 9, 11, 12])\n",
    "pitches = abjad.CyclicTuple([0, 3, 7, 12, 7, 3])"
   ]
  },
  {
   "cell_type": "markdown",
   "metadata": {},
   "source": [
    "And then we apply the pitches to our previously generated durations:"
   ]
  },
  {
   "cell_type": "code",
   "execution_count": 87,
   "metadata": {},
   "outputs": [],
   "source": [
    "logical_ties = abjad.iterate(music).by_logical_tie(pitched=True)\n",
    "for i, logical_tie in enumerate(logical_ties):\n",
    "    pitch = pitches[i]\n",
    "    for note in logical_tie:\n",
    "        note.written_pitch = pitch"
   ]
  },
  {
   "cell_type": "markdown",
   "metadata": {},
   "source": [
    "And now we have both pitches and rhythms:"
   ]
  },
  {
   "cell_type": "code",
   "execution_count": 88,
   "metadata": {},
   "outputs": [
    {
     "data": {
      "image/png": "[encoded data removed]"
     },
     "metadata": {},
     "output_type": "display_data"
    }
   ],
   "source": [
    "abjad.show(music)"
   ]
  },
  {
   "cell_type": "markdown",
   "metadata": {},
   "source": [
    "### 3. Compositional Detailing"
   ]
  },
  {
   "cell_type": "markdown",
   "metadata": {},
   "source": [
    "Finally, we can iterate through runs of leaves to further detail each gesture with articulations, dynamics, and technical indications."
   ]
  },
  {
   "cell_type": "code",
   "execution_count": 55,
   "metadata": {},
   "outputs": [],
   "source": [
    "for run in abjad.select(music).by_leaf().by_run((abjad.Note, abjad.Chord)):\n",
    "    abjad.attach(abjad.Articulation('accent'), run[0])\n",
    "    if 1 < len(run):\n",
    "        abjad.attach(abjad.Hairpin('p < f'), run)\n",
    "    else:\n",
    "        abjad.attach(abjad.Dynamic('ppp'), run[0])"
   ]
  },
  {
   "cell_type": "code",
   "execution_count": 56,
   "metadata": {},
   "outputs": [
    {
     "data": {
      "image/png": "[encoded data removed]"
     },
     "metadata": {},
     "output_type": "display_data"
    }
   ],
   "source": [
    "abjad.show(music)"
   ]
  },
  {
   "cell_type": "markdown",
   "metadata": {},
   "source": [
    "### 4. Metric Legibility\n",
    "But you still wouldn't want to have to read the music we generated. To obey conventions of metric notation, we impose a metric hierarchy on each of the measures, according to each meter's default divisions. See Day Two's notebooks for how to impose a metric hierarchy on notation.)"
   ]
  },
  {
   "cell_type": "markdown",
   "metadata": {},
   "source": [
    "## Conclusion\n",
    "This is a completely procedural view on the creation code that generates pitches and rhythms. Next, we'll take an object-oriented view of the same kind of music generator."
   ]
  },
  {
   "cell_type": "code",
   "execution_count": null,
   "metadata": {},
   "outputs": [],
   "source": []
  }
 ],
 "metadata": {
  "kernelspec": {
   "display_name": "Python 3",
   "language": "python",
   "name": "python3"
  },
  "language_info": {
   "codemirror_mode": {
    "name": "ipython",
    "version": 3
   },
   "file_extension": ".py",
   "mimetype": "text/x-python",
   "name": "python",
   "nbconvert_exporter": "python",
   "pygments_lexer": "ipython3",
   "version": "3.6.5"
  }
 },
 "nbformat": 4,
 "nbformat_minor": 2
}
