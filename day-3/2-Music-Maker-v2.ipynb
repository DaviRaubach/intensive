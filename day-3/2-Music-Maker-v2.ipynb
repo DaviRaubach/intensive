{
 "cells": [
  {
   "cell_type": "code",
   "execution_count": 1,
   "metadata": {},
   "outputs": [],
   "source": [
    "import abjad\n",
    "%load_ext abjad.ext.ipython"
   ]
  },
  {
   "cell_type": "markdown",
   "metadata": {},
   "source": [
    "## Abstraction and Encapsulation\n",
    "The last notebook gave us a series of steps that together generate music, but they clearly divide up into several different code blocks that each accomplish a different specific task. Wouldn't it be nice to reuse these blocks if useful? In this notebook, we will clean up our procedural code and encapsulate it into several reusable functions."
   ]
  },
  {
   "cell_type": "markdown",
   "metadata": {},
   "source": [
    "### 1. Global Configuration\n",
    "Even if you encapsulate your code into reusable functions, you'll often find that you need to start with some important high-level variables that you've composed, as inputs to your functions later:"
   ]
  },
  {
   "cell_type": "code",
   "execution_count": 2,
   "metadata": {},
   "outputs": [],
   "source": [
    "# THIS IS THE INPUT TO MY MUSICAL IDEA\n",
    "time_signature_pairs = [(4, 4), (3, 4), (7, 16), (6, 8)]\n",
    "counts = [1, 2, -3, 4]\n",
    "denominator = 16\n",
    "pitches = abjad.CyclicTuple([0, 3, 7, 12, 7, 3])"
   ]
  },
  {
   "cell_type": "markdown",
   "metadata": {},
   "source": [
    "### 2. Leaf-Generating Function\n",
    "You'll recall that a large first block of code generated durated leaves. Let's pack that code into its own function."
   ]
  },
  {
   "cell_type": "code",
   "execution_count": 9,
   "metadata": {},
   "outputs": [],
   "source": [
    "def make_basic_rhythm(time_signature_pairs, counts, denominator):\n",
    "    # THIS IS HOW WE MAKE THE BASIC RHYTHM\n",
    "    total_duration = sum(abjad.Duration(pair) for pair in time_signature_pairs)\n",
    "    talea = abjad.rhythmmakertools.Talea(counts=counts, denominator=denominator)\n",
    "    talea_index = 0\n",
    "    all_leaves = []\n",
    "    current_duration = abjad.Duration(0)\n",
    "    while current_duration < total_duration:\n",
    "        leaf_duration = talea[talea_index]\n",
    "        if leaf_duration > 0:\n",
    "            pitch = abjad.NamedPitch(\"c'\")\n",
    "        else:\n",
    "            pitch = None\n",
    "        leaf_duration = abs(leaf_duration)\n",
    "        if (leaf_duration + current_duration) > total_duration:\n",
    "            leaf_duration = total_duration - current_duration\n",
    "        current_leaves = abjad.LeafMaker()([pitch], [leaf_duration])  \n",
    "        all_leaves.extend(current_leaves)\n",
    "        current_duration += leaf_duration\n",
    "        talea_index += 1\n",
    "    music = abjad.Container(all_leaves) \n",
    "    return music"
   ]
  },
  {
   "cell_type": "markdown",
   "metadata": {},
   "source": [
    "### 3. Leaf-Chopping and Measure-Wrapping Function\n",
    "Another block of code chopped the generated leaves as measure boundaries. Let's wrap that in its own function."
   ]
  },
  {
   "cell_type": "code",
   "execution_count": 10,
   "metadata": {},
   "outputs": [],
   "source": [
    "def clean_up_rhythm(music, time_signature_pairs):\n",
    "    # THIS IS HOW WE CLEAN UP THE RHYTHM\n",
    "    shards = abjad.mutate(music[:]).split(time_signature_pairs)\n",
    "    for i, shard in enumerate(shards):\n",
    "        measure = abjad.Measure(time_signature_pairs[i])\n",
    "        abjad.mutate(shard).wrap(measure)\n",
    "    return music"
   ]
  },
  {
   "cell_type": "markdown",
   "metadata": {},
   "source": [
    "### 4. Leaf-Pitching Function\n",
    "The next block of code iterated through the music's tie chains and pitched each one according to our cycle of pitches. It can be a function, too:"
   ]
  },
  {
   "cell_type": "code",
   "execution_count": 11,
   "metadata": {},
   "outputs": [],
   "source": [
    "def add_pitches(music, pitches):\n",
    "    # THIS IS HOW WE ADD PITCHES\n",
    "    pitches = abjad.CyclicTuple(pitches)\n",
    "    logical_ties = abjad.iterate(music).by_logical_tie(pitched=True)\n",
    "    for i, logical_tie in enumerate(logical_ties):\n",
    "        pitch = pitches[i]\n",
    "        for note in logical_tie:\n",
    "            note.written_pitch = pitch\n",
    "    return music\n"
   ]
  },
  {
   "cell_type": "markdown",
   "metadata": {},
   "source": [
    "### 5. Compositional-Detailing Function\n",
    "Finally, we iterated through runs of leaves and added compositional detailing:"
   ]
  },
  {
   "cell_type": "code",
   "execution_count": 12,
   "metadata": {},
   "outputs": [],
   "source": [
    "def add_attachments(music):\n",
    "    # THIS IS HOW WE ADD DYNAMICS AND ACCENTS\n",
    "    for run in abjad.select(music).by_leaf().by_run((abjad.Note, abjad.Chord)):\n",
    "        abjad.attach(abjad.Articulation('accent'), run[0])\n",
    "        if 1 < len(run):\n",
    "            abjad.attach(abjad.Hairpin('p < f'), run)\n",
    "        else:\n",
    "            abjad.attach(abjad.Dynamic('ppp'), run[0])\n",
    "    return music"
   ]
  },
  {
   "cell_type": "markdown",
   "metadata": {},
   "source": [
    "### 6. The Music-Making Function\n",
    "What do we gain from encapsulation like this? We can now create a single function that reuses each of these functions:"
   ]
  },
  {
   "cell_type": "code",
   "execution_count": 13,
   "metadata": {},
   "outputs": [],
   "source": [
    "def make_music(time_signature_pairs, counts, denominator, pitches):\n",
    "    music = make_basic_rhythm(time_signature_pairs, counts, denominator)\n",
    "    music = clean_up_rhythm(music, time_signature_pairs)\n",
    "    music = add_pitches(music, pitches)\n",
    "    music = add_attachments(music)\n",
    "    return music"
   ]
  },
  {
   "cell_type": "markdown",
   "metadata": {},
   "source": [
    "And we can call the function once to get music:"
   ]
  },
  {
   "cell_type": "code",
   "execution_count": 14,
   "metadata": {},
   "outputs": [
    {
     "data": {
      "image/png": "[encoded data removed]"
     },
     "metadata": {},
     "output_type": "display_data"
    }
   ],
   "source": [
    "music = make_music(time_signature_pairs, counts, denominator, pitches)\n",
    "abjad.show(music)"
   ]
  },
  {
   "cell_type": "markdown",
   "metadata": {},
   "source": [
    "## Conclusion\n",
    "We've now converted our procedural code into reusable functions. You might notice that we're passing the same variables into these functions, over and over. This is usually a good hint that it might be a good idea to refactor the code with an object-oriented frame of mind. In our next notebook, these reusable functions will become the methods of a music-making class."
   ]
  }
 ],
 "metadata": {
  "kernelspec": {
   "display_name": "Python 3",
   "language": "python",
   "name": "python3"
  },
  "language_info": {
   "codemirror_mode": {
    "name": "ipython",
    "version": 3
   },
   "file_extension": ".py",
   "mimetype": "text/x-python",
   "name": "python",
   "nbconvert_exporter": "python",
   "pygments_lexer": "ipython3",
   "version": "3.6.5"
  }
 },
 "nbformat": 4,
 "nbformat_minor": 2
}
