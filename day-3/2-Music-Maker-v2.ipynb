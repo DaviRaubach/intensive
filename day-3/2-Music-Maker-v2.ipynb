{
 "cells": [
  {
   "cell_type": "code",
   "execution_count": 35,
   "metadata": {},
   "outputs": [],
   "source": [
    "import abjad\n",
    "%reload_ext abjadext.ipython\n",
    "import abjadext.rmakers"
   ]
  },
  {
   "cell_type": "markdown",
   "metadata": {},
   "source": [
    "## Abstraction and Encapsulation\n",
    "The last notebook gave us a series of steps that together generate music, but they clearly divide up into several different code blocks that each accomplish a different specific task. Wouldn't it be nice to reuse these blocks if useful? In this notebook, we will clean up our procedural code and encapsulate it into several reusable functions."
   ]
  },
  {
   "cell_type": "markdown",
   "metadata": {},
   "source": [
    "### 1. Global Configuration\n",
    "Even if you encapsulate your code into reusable functions, you'll often find that you need to start with some important high-level variables that you've composed, as inputs to your functions later:"
   ]
  },
  {
   "cell_type": "code",
   "execution_count": 36,
   "metadata": {},
   "outputs": [],
   "source": [
    "# THIS IS THE INPUT TO MY MUSICAL IDEA\n",
    "time_signature_pairs = [(4, 4), (3, 4), (7, 16), (6, 8)]\n",
    "counts = [1, 2, -3, 4]\n",
    "denominator = 16\n",
    "pitches = abjad.CyclicTuple([0, 3, 7, 12, 7, 3])"
   ]
  },
  {
   "cell_type": "markdown",
   "metadata": {},
   "source": [
    "### 2. Leaf-Generating Function\n",
    "You'll recall that a large first block of code generated durated leaves. Let's pack that code into its own function."
   ]
  },
  {
   "cell_type": "code",
   "execution_count": 37,
   "metadata": {},
   "outputs": [],
   "source": [
    "def make_basic_rhythm(time_signature_pairs, counts, denominator):\n",
    "    # THIS IS HOW WE MAKE THE BASIC RHYTHM\n",
    "    total_duration = sum(abjad.Duration(pair) for pair in time_signature_pairs)\n",
    "    talea = abjadext.rmakers.Talea(counts=counts, denominator=denominator)\n",
    "    talea_index = 0\n",
    "    all_leaves = [] # create an empty list for generated leaves\n",
    "    current_duration = abjad.Duration(0) # keep track of the total duration as we generate each new leaf\n",
    "    while current_duration < total_duration: # generate leaves until they add up to the total duration\n",
    "        leaf_duration = talea[talea_index] # get a fraction from the talea\n",
    "        if leaf_duration > 0: \n",
    "            pitch = abjad.NamedPitch(\"c'\") # assign the leaf a pitch of middle C\n",
    "        else:\n",
    "            pitch = None # if the leaf is a rest, don't assign a pitch\n",
    "        leaf_duration = abs(leaf_duration) # cancel the minus sign on the duration\n",
    "        if (leaf_duration + current_duration) > total_duration:\n",
    "            leaf_duration = total_duration - current_duration # catch any end condition by truncating the last duration\n",
    "        current_leaves = abjad.LeafMaker()([pitch], [leaf_duration])   # make the leaves\n",
    "        all_leaves.extend(current_leaves) # add the new leaves to the list of leaves\n",
    "        current_duration += leaf_duration # advance the total duration\n",
    "        talea_index += 1 # advance the talea index to the next fraction\n",
    "    music = abjad.Container(all_leaves) \n",
    "    return music"
   ]
  },
  {
   "cell_type": "markdown",
   "metadata": {},
   "source": [
    "### 3. Leaf-Chopping and Measure-Wrapping Function\n",
    "Another block of code chopped the generated leaves as measure boundaries. Let's wrap that in its own function."
   ]
  },
  {
   "cell_type": "code",
   "execution_count": 38,
   "metadata": {},
   "outputs": [],
   "source": [
    "def clean_up_rhythm(music, time_signature_pairs):\n",
    "    # THIS IS HOW WE CLEAN UP THE RHYTHM\n",
    "    time_signatures = []\n",
    "    for item in time_signature_pairs:\n",
    "        time_signatures.append(abjad.TimeSignature(item))\n",
    "\n",
    "    splits = abjad.mutate(music[:]).split(time_signature_pairs, cyclic=True)\n",
    "    for time, measure in zip(time_signatures, splits):\n",
    "        abjad.attach(time, measure[0])\n",
    "    \n",
    "    selector = abjad.select(music).leaves()\n",
    "    measures = selector.group_by_measure()\n",
    "    for time, measure in zip(time_signatures, measures):\n",
    "        abjad.mutate(measure).rewrite_meter(time)\n",
    "    \n",
    "    return music"
   ]
  },
  {
   "cell_type": "markdown",
   "metadata": {},
   "source": [
    "### 4. Leaf-Pitching Function\n",
    "The next block of code iterated through the music's tie chains and pitched each one according to our cycle of pitches. It can be a function, too:"
   ]
  },
  {
   "cell_type": "code",
   "execution_count": 39,
   "metadata": {},
   "outputs": [],
   "source": [
    "def add_pitches(music, pitches):\n",
    "    # THIS IS HOW WE ADD PITCHES\n",
    "    pitches = abjad.CyclicTuple(pitches)\n",
    "    logical_ties = abjad.iterate(music).logical_ties(pitched=True)\n",
    "    for i, logical_tie in enumerate(logical_ties):\n",
    "        pitch = pitches[i]\n",
    "        for note in logical_tie:\n",
    "            note.written_pitch = pitch\n",
    "    return music"
   ]
  },
  {
   "cell_type": "markdown",
   "metadata": {},
   "source": [
    "### 5. Compositional-Detailing Function\n",
    "Finally, we iterated through runs of leaves and added compositional detailing:"
   ]
  },
  {
   "cell_type": "code",
   "execution_count": 40,
   "metadata": {},
   "outputs": [],
   "source": [
    "def add_attachments(music):\n",
    "    # THIS IS HOW WE ADD DYNAMICS AND ACCENTS\n",
    "    for run in abjad.select(music).runs():\n",
    "        abjad.attach(abjad.Articulation('accent'), run[0])\n",
    "        if 1 < len(run):\n",
    "            abjad.hairpin('p < f', run)\n",
    "            abjad.override(run[0]).dynamic_line_spanner.staff_padding = 3\n",
    "        else:\n",
    "            abjad.attach(abjad.Dynamic('ppp'), run[0])\n",
    "    return music"
   ]
  },
  {
   "cell_type": "markdown",
   "metadata": {},
   "source": [
    "### 6. The Music-Making Function\n",
    "What do we gain from encapsulation like this? We can now create a single function that reuses each of these functions:"
   ]
  },
  {
   "cell_type": "code",
   "execution_count": 45,
   "metadata": {},
   "outputs": [],
   "source": [
    "def make_music(time_signature_pairs, counts, denominator, pitches):\n",
    "    music = make_basic_rhythm(time_signature_pairs, counts, denominator)\n",
    "    music = clean_up_rhythm(music, time_signature_pairs)\n",
    "    music = add_pitches(music, pitches)\n",
    "    music = add_attachments(music)\n",
    "    return music"
   ]
  },
  {
   "cell_type": "markdown",
   "metadata": {},
   "source": [
    "And we can call the function once to get music:"
   ]
  },
  {
   "cell_type": "code",
   "execution_count": 46,
   "metadata": {},
   "outputs": [
    {
     "data": {
      "image/svg+xml": [
       "<svg xmlns=\"http://www.w3.org/2000/svg\" xmlns:xlink=\"http://www.w3.org/1999/xlink\" version=\"1.2\" width=\"175.00mm\" height=\"19.16mm\" viewBox=\"8.5358 -0.0240 99.5846 10.9037\">\n",
       "<style text=\"style/css\">\n",
       "<![CDATA[\n",
       "tspan { white-space: pre; }\n",
       "]]>\n",
       "</style>\n",
       "<rect transform=\"translate(79.9929, 3.7760)\" x=\"0.0000\" y=\"-2.0000\" width=\"0.1900\" height=\"4.0000\" ry=\"0.0000\" fill=\"currentColor\"/>\n",
       "<rect transform=\"translate(48.9765, 3.7760)\" x=\"0.0000\" y=\"-2.0000\" width=\"0.1900\" height=\"4.0000\" ry=\"0.0000\" fill=\"currentColor\"/>\n",
       "<line transform=\"translate(8.5358, 5.7760)\" stroke-linejoin=\"round\" stroke-linecap=\"round\" stroke-width=\"0.1000\" stroke=\"currentColor\" x1=\"0.0500\" y1=\"-0.0000\" x2=\"99.5346\" y2=\"-0.0000\"/>\n",
       "<line transform=\"translate(8.5358, 4.7760)\" stroke-linejoin=\"round\" stroke-linecap=\"round\" stroke-width=\"0.1000\" stroke=\"currentColor\" x1=\"0.0500\" y1=\"-0.0000\" x2=\"99.5346\" y2=\"-0.0000\"/>\n",
       "<line transform=\"translate(8.5358, 3.7760)\" stroke-linejoin=\"round\" stroke-linecap=\"round\" stroke-width=\"0.1000\" stroke=\"currentColor\" x1=\"0.0500\" y1=\"-0.0000\" x2=\"99.5346\" y2=\"-0.0000\"/>\n",
       "<line transform=\"translate(8.5358, 2.7760)\" stroke-linejoin=\"round\" stroke-linecap=\"round\" stroke-width=\"0.1000\" stroke=\"currentColor\" x1=\"0.0500\" y1=\"-0.0000\" x2=\"99.5346\" y2=\"-0.0000\"/>\n",
       "<line transform=\"translate(8.5358, 1.7760)\" stroke-linejoin=\"round\" stroke-linecap=\"round\" stroke-width=\"0.1000\" stroke=\"currentColor\" x1=\"0.0500\" y1=\"-0.0000\" x2=\"99.5346\" y2=\"-0.0000\"/>\n",
       "<rect transform=\"translate(0.0000, 6.7760)\" x=\"94.8556\" y=\"-0.1000\" width=\"1.9563\" height=\"0.2000\" ry=\"0.1000\" fill=\"currentColor\"/>\n",
       "<rect transform=\"translate(0.0000, 6.7760)\" x=\"55.1091\" y=\"-0.1000\" width=\"1.9563\" height=\"0.2000\" ry=\"0.1000\" fill=\"currentColor\"/>\n",
       "<rect transform=\"translate(0.0000, 6.7760)\" x=\"16.9098\" y=\"-0.1000\" width=\"1.9563\" height=\"0.2000\" ry=\"0.1000\" fill=\"currentColor\"/>\n",
       "<path transform=\"translate(32.0114, 1.3160) scale(0.0040, -0.0040)\" d=\"M0 0c0 -197 207 -336 207 -533c0 -71 -15 -141 -41 -207c-5 -8 -13 -12 -20 -12c-13 0 -26 11 -23 27c26 61 42 126 42 192c0 103 -94 208 -165 283h-16v250h16z\" fill=\"currentColor\"/>\n",
       "<rect transform=\"translate(35.4801, 3.7760)\" x=\"-0.0650\" y=\"-2.8100\" width=\"0.1300\" height=\"3.6239\" ry=\"0.0400\" fill=\"currentColor\"/>\n",
       "<path transform=\"translate(34.2409, 4.7760) scale(0.0040, -0.0040)\" d=\"M218 136c55 0 108 -28 108 -89c0 -71 -55 -121 -102 -149c-35 -21 -75 -34 -116 -34c-55 0 -108 28 -108 89c0 71 55 121 102 149c35 21 75 34 116 34z\" fill=\"currentColor\"/>\n",
       "<rect transform=\"translate(31.9464, 3.7760)\" x=\"-0.0650\" y=\"-2.5000\" width=\"0.1300\" height=\"3.3139\" ry=\"0.0400\" fill=\"currentColor\"/>\n",
       "<path transform=\"translate(31.3592, 6.5260) scale(0.0040, -0.0040)\" d=\"M-211 88c-8 2 -14 9 -14 18c0 10 9 19 19 19c2 0 3 -1 4 -1l408 -105c13 0 19 -6 19 -19s-6 -19 -19 -19l-408 -105c-1 0 -2 -1 -4 -1c-10 0 -19 9 -19 19c0 9 6 16 14 18l251 65l140 23l-140 23z\" fill=\"currentColor\"/>\n",
       "<path transform=\"translate(30.6252, 9.4260) scale(0.0040, -0.0040)\" d=\"M233 243c-56 0 -102 -107 -102 -173c0 -22 8 -38 30 -38c64 0 97 126 97 178c0 18 -7 33 -25 33zM112 -146c-38 0 -78 5 -116 5c-39 0 -78 -5 -115 -5c-9 0 -14 7 -14 14c0 18 31 15 48 16c22 1 47 5 54 25l102 300c2 7 4 14 4 20c0 8 -2 14 -11 14\n",
       "c-33 0 -63 -60 -79 -97c-5 -12 -15 -17 -24 -17c-8 0 -14 4 -14 12c0 2 1 5 2 8c30 68 72 143 132 143c35 0 59 -21 66 -52c29 31 67 52 103 52c69 0 107 -49 107 -114c0 -21 -4 -44 -12 -67c-20 -58 -91 -119 -147 -119c-27 0 -52 5 -73 17c-4 2 -7 3 -11 3\n",
       "c-7 0 -14 -3 -16 -9l-29 -86c-1 -2 -1 -5 -1 -7c0 -20 21 -26 44 -28c9 -1 13 -8 13 -14c0 -7 -4 -14 -13 -14z\" fill=\"currentColor\"/>\n",
       "<path transform=\"translate(30.7071, 4.7760) scale(0.0040, -0.0040)\" d=\"M218 136c55 0 108 -28 108 -89c0 -71 -55 -121 -102 -149c-35 -21 -75 -34 -116 -34c-55 0 -108 28 -108 89c0 71 55 121 102 149c35 21 75 34 116 34z\" fill=\"currentColor\"/>\n",
       "<rect transform=\"translate(41.4329, 3.7760)\" x=\"-0.0650\" y=\"-2.8100\" width=\"0.1300\" height=\"3.6239\" ry=\"0.0400\" fill=\"currentColor\"/>\n",
       "<rect transform=\"translate(43.8519, 3.7760)\" x=\"-0.0650\" y=\"-2.5000\" width=\"0.1300\" height=\"3.3139\" ry=\"0.0400\" fill=\"currentColor\"/>\n",
       "<path transform=\"translate(42.6331, 9.4260) scale(0.0040, -0.0040)\" d=\"M253 245l-50 -163c-30 -99 -121 -255 -218 -255c-45 0 -87 27 -87 69c0 39 17 77 52 77c24 0 44 -20 44 -44c0 -30 -38 -24 -38 -54c0 -10 11 -11 23 -11h6c48 0 61 58 73 108l68 273h-49c-11 0 -19 8 -19 19s8 19 19 19h60c32 96 118 191 213 191c45 0 87 -27 87 -69\n",
       "c0 -39 -17 -77 -52 -77c-24 0 -44 19 -44 43c0 30 38 25 38 55c0 10 -10 11 -22 11h-7c-62 0 -70 -88 -86 -154h55c11 0 19 -8 19 -19s-8 -19 -19 -19h-66z\" fill=\"currentColor\"/>\n",
       "<path transform=\"translate(42.6127, 4.7760) scale(0.0040, -0.0040)\" d=\"M218 136c55 0 108 -28 108 -89c0 -71 -55 -121 -102 -149c-35 -21 -75 -34 -116 -34c-55 0 -108 28 -108 89c0 71 55 121 102 149c35 21 75 34 116 34z\" fill=\"currentColor\"/>\n",
       "<path transform=\"translate(40.1937, 4.7760) scale(0.0040, -0.0040)\" d=\"M218 136c55 0 108 -28 108 -89c0 -71 -55 -121 -102 -149c-35 -21 -75 -34 -116 -34c-55 0 -108 28 -108 89c0 71 55 121 102 149c35 21 75 34 116 34z\" fill=\"currentColor\"/>\n",
       "<rect transform=\"translate(39.2639, 3.7760)\" x=\"-0.0650\" y=\"-2.8100\" width=\"0.1300\" height=\"2.1239\" ry=\"0.0400\" fill=\"currentColor\"/>\n",
       "<path transform=\"translate(38.0247, 3.2760) scale(0.0040, -0.0040)\" d=\"M218 136c55 0 108 -28 108 -89c0 -71 -55 -121 -102 -149c-35 -21 -75 -34 -116 -34c-55 0 -108 28 -108 89c0 71 55 121 102 149c35 21 75 34 116 34z\" fill=\"currentColor\"/>\n",
       "<rect transform=\"translate(21.5640, 3.7760)\" x=\"-0.0650\" y=\"-1.7797\" width=\"0.1300\" height=\"3.5936\" ry=\"0.0400\" fill=\"currentColor\"/>\n",
       "<path transform=\"translate(20.3248, 5.7760) scale(0.0040, -0.0040)\" d=\"M218 136c55 0 108 -28 108 -89c0 -71 -55 -121 -102 -149c-35 -21 -75 -34 -116 -34c-55 0 -108 28 -108 89c0 71 55 121 102 149c35 21 75 34 116 34z\" fill=\"currentColor\"/>\n",
       "<path transform=\"translate(106.5703, 1.3160) scale(0.0040, -0.0040)\" d=\"M0 0c0 -177 201 -293 201 -470c0 -33 -9 -65 -23 -95c18 -37 29 -75 29 -117c0 -63 -15 -125 -41 -183c-5 -8 -13 -12 -20 -12c-13 0 -26 11 -23 27c26 52 42 110 42 168c0 97 -94 190 -165 257v-75h-16v500h16zM151 -517c5 15 8 31 8 47c0 96 -91 190 -159 257\n",
       "c0 -118 90 -206 151 -304z\" fill=\"currentColor\"/>\n",
       "<rect transform=\"translate(106.5053, 3.7760)\" x=\"-0.0650\" y=\"-2.5000\" width=\"0.1300\" height=\"3.3139\" ry=\"0.0400\" fill=\"currentColor\"/>\n",
       "<path transform=\"translate(105.9182, 6.5260) scale(0.0040, -0.0040)\" d=\"M-211 88c-8 2 -14 9 -14 18c0 10 9 19 19 19c2 0 3 -1 4 -1l408 -105c13 0 19 -6 19 -19s-6 -19 -19 -19l-408 -105c-1 0 -2 -1 -4 -1c-10 0 -19 9 -19 19c0 9 6 16 14 18l251 65l140 23l-140 23z\" fill=\"currentColor\"/>\n",
       "<g transform=\"translate(103.7160, 8.6717)\" >\n",
       "<path transform=\"scale(0.0040, -0.0040)\" d=\"M233 243c-56 0 -102 -107 -102 -173c0 -22 8 -38 30 -38c64 0 97 126 97 178c0 18 -7 33 -25 33zM112 -146c-38 0 -78 5 -116 5c-39 0 -78 -5 -115 -5c-9 0 -14 7 -14 14c0 18 31 15 48 16c22 1 47 5 54 25l102 300c2 7 4 14 4 20c0 8 -2 14 -11 14\n",
       "c-33 0 -63 -60 -79 -97c-5 -12 -15 -17 -24 -17c-8 0 -14 4 -14 12c0 2 1 5 2 8c30 68 72 143 132 143c35 0 59 -21 66 -52c29 31 67 52 103 52c69 0 107 -49 107 -114c0 -21 -4 -44 -12 -67c-20 -58 -91 -119 -147 -119c-27 0 -52 5 -73 17c-4 2 -7 3 -11 3\n",
       "c-7 0 -14 -3 -16 -9l-29 -86c-1 -2 -1 -5 -1 -7c0 -20 21 -26 44 -28c9 -1 13 -8 13 -14c0 -7 -4 -14 -13 -14z\" fill=\"currentColor\"/>\n",
       "\n",
       "<path transform=\"translate(1.4682, 0.0000) scale(0.0040, -0.0040)\" d=\"M233 243c-56 0 -102 -107 -102 -173c0 -22 8 -38 30 -38c64 0 97 126 97 178c0 18 -7 33 -25 33zM112 -146c-38 0 -78 5 -116 5c-39 0 -78 -5 -115 -5c-9 0 -14 7 -14 14c0 18 31 15 48 16c22 1 47 5 54 25l102 300c2 7 4 14 4 20c0 8 -2 14 -11 14\n",
       "c-33 0 -63 -60 -79 -97c-5 -12 -15 -17 -24 -17c-8 0 -14 4 -14 12c0 2 1 5 2 8c30 68 72 143 132 143c35 0 59 -21 66 -52c29 31 67 52 103 52c69 0 107 -49 107 -114c0 -21 -4 -44 -12 -67c-20 -58 -91 -119 -147 -119c-27 0 -52 5 -73 17c-4 2 -7 3 -11 3\n",
       "c-7 0 -14 -3 -16 -9l-29 -86c-1 -2 -1 -5 -1 -7c0 -20 21 -26 44 -28c9 -1 13 -8 13 -14c0 -7 -4 -14 -13 -14z\" fill=\"currentColor\"/>\n",
       "\n",
       "<path transform=\"translate(2.9363, 0.0000) scale(0.0040, -0.0040)\" d=\"M233 243c-56 0 -102 -107 -102 -173c0 -22 8 -38 30 -38c64 0 97 126 97 178c0 18 -7 33 -25 33zM112 -146c-38 0 -78 5 -116 5c-39 0 -78 -5 -115 -5c-9 0 -14 7 -14 14c0 18 31 15 48 16c22 1 47 5 54 25l102 300c2 7 4 14 4 20c0 8 -2 14 -11 14\n",
       "c-33 0 -63 -60 -79 -97c-5 -12 -15 -17 -24 -17c-8 0 -14 4 -14 12c0 2 1 5 2 8c30 68 72 143 132 143c35 0 59 -21 66 -52c29 31 67 52 103 52c69 0 107 -49 107 -114c0 -21 -4 -44 -12 -67c-20 -58 -91 -119 -147 -119c-27 0 -52 5 -73 17c-4 2 -7 3 -11 3\n",
       "c-7 0 -14 -3 -16 -9l-29 -86c-1 -2 -1 -5 -1 -7c0 -20 21 -26 44 -28c9 -1 13 -8 13 -14c0 -7 -4 -14 -13 -14z\" fill=\"currentColor\"/>\n",
       "</g>\n",
       "<path transform=\"translate(105.2661, 4.7760) scale(0.0040, -0.0040)\" d=\"M218 136c55 0 108 -28 108 -89c0 -71 -55 -121 -102 -149c-35 -21 -75 -34 -116 -34c-55 0 -108 28 -108 89c0 71 55 121 102 149c35 21 75 34 116 34z\" fill=\"currentColor\"/>\n",
       "<line transform=\"translate(19.6220, 9.5627)\" stroke-linejoin=\"round\" stroke-linecap=\"round\" stroke-width=\"0.1000\" stroke=\"currentColor\" x1=\"0.0000\" y1=\"0.0000\" x2=\"2.1423\" y2=\"0.6666\"/>\n",
       "<line transform=\"translate(19.6220, 9.5627)\" stroke-linejoin=\"round\" stroke-linecap=\"round\" stroke-width=\"0.1000\" stroke=\"currentColor\" x1=\"0.0000\" y1=\"-0.0000\" x2=\"2.1423\" y2=\"-0.6666\"/>\n",
       "<path transform=\"translate(27.4776, 3.7760) scale(0.0040, -0.0040)\" d=\"M72 -250l117 326c-34 -12 -69 -22 -105 -22c-46 0 -87 33 -87 79c0 40 33 72 73 72c25 0 48 -15 56 -39c10 -28 6 -59 35 -59c16 0 54 48 61 63c6 12 23 12 28 0l-123 -420c-8 -7 -17 -10 -27 -10s-20 3 -28 10z\" fill=\"currentColor\"/>\n",
       "<path transform=\"translate(25.1628, 3.7760) scale(0.0040, -0.0040)\" d=\"M66 -500l101 327c-34 -12 -70 -23 -106 -23c-46 0 -87 33 -87 79c0 40 32 72 72 72c25 0 49 -15 57 -39c10 -28 5 -59 34 -59c16 0 55 51 60 68l46 151c-34 -12 -68 -22 -104 -22c-46 0 -87 33 -87 79c0 40 33 72 73 72c25 0 48 -15 56 -39c10 -28 5 -59 34 -59\n",
       "c15 0 50 49 57 63c6 12 23 12 28 0l-179 -670c-8 -7 -17 -10 -27 -10s-20 3 -28 10z\" fill=\"currentColor\"/>\n",
       "<rect transform=\"translate(23.9830, 3.7760)\" x=\"-0.0650\" y=\"-1.9942\" width=\"0.1300\" height=\"3.8081\" ry=\"0.0400\" fill=\"currentColor\"/>\n",
       "<path transform=\"translate(22.7643, 10.1627) scale(0.0040, -0.0040)\" d=\"M253 245l-50 -163c-30 -99 -121 -255 -218 -255c-45 0 -87 27 -87 69c0 39 17 77 52 77c24 0 44 -20 44 -44c0 -30 -38 -24 -38 -54c0 -10 11 -11 23 -11h6c48 0 61 58 73 108l68 273h-49c-11 0 -19 8 -19 19s8 19 19 19h60c32 96 118 191 213 191c45 0 87 -27 87 -69\n",
       "c0 -39 -17 -77 -52 -77c-24 0 -44 19 -44 43c0 30 38 25 38 55c0 10 -10 11 -22 11h-7c-62 0 -70 -88 -86 -154h55c11 0 19 -8 19 -19s-8 -19 -19 -19h-66z\" fill=\"currentColor\"/>\n",
       "<path transform=\"translate(22.7438, 5.7760) scale(0.0040, -0.0040)\" d=\"M218 136c55 0 108 -28 108 -89c0 -71 -55 -121 -102 -149c-35 -21 -75 -34 -116 -34c-55 0 -108 28 -108 89c0 71 55 121 102 149c35 21 75 34 116 34z\" fill=\"currentColor\"/>\n",
       "<path transform=\"translate(19.1748, 5.7760) scale(0.0040, -0.0040)\" d=\"M27 41l-1 -66v-11c0 -22 1 -44 4 -66c45 38 93 80 93 139c0 33 -14 67 -43 67c-31 0 -52 -30 -53 -63zM-15 -138l-12 595c8 5 18 8 27 8s19 -3 27 -8l-7 -345c25 21 58 34 91 34c52 0 89 -48 89 -102c0 -80 -86 -117 -147 -169c-15 -13 -24 -38 -45 -38\n",
       "c-13 0 -23 11 -23 25z\" fill=\"currentColor\"/>\n",
       "<polygon transform=\"translate(90.0010, 2.7760)\" stroke-linejoin=\"round\" stroke-linecap=\"round\" stroke-width=\"0.0800\" fill=\"currentColor\" stroke=\"currentColor\" points=\"2.5090 -0.2000 2.5090 0.2000 0.0400 0.2000 0.0400 -0.2000\"/>\n",
       "<polygon transform=\"translate(90.0010, 3.5860)\" stroke-linejoin=\"round\" stroke-linecap=\"round\" stroke-width=\"0.0800\" fill=\"currentColor\" stroke=\"currentColor\" points=\"1.1250 -0.2000 1.1250 0.2000 0.0400 0.2000 0.0400 -0.2000\"/>\n",
       "<path transform=\"translate(68.4864, 3.7760)\" stroke-width=\"0.0800\" stroke-linejoin=\"round\" stroke-linecap=\"round\" stroke=\"currentColor\" fill=\"currentColor\" d=\"M1.5042 1.2434C1.9599 1.7894 2.8781 1.7894 3.3338 1.2434L3.3338 1.2434C2.8781 1.6694 1.9599 1.6694 1.5042 1.2434z\"/>\n",
       "<polygon transform=\"translate(73.1944, 0.9660)\" stroke-linejoin=\"round\" stroke-linecap=\"round\" stroke-width=\"0.0800\" fill=\"currentColor\" stroke=\"currentColor\" points=\"6.0428 -0.2000 6.0428 0.2000 0.0400 0.2000 0.0400 -0.2000\"/>\n",
       "<polygon transform=\"translate(76.9782, 1.7760)\" stroke-linejoin=\"round\" stroke-linecap=\"round\" stroke-width=\"0.0800\" fill=\"currentColor\" stroke=\"currentColor\" points=\"1.1250 -0.2000 1.1250 0.2000 0.0400 0.2000 0.0400 -0.2000\"/>\n",
       "<line transform=\"translate(91.2130, 8.9194)\" stroke-linejoin=\"round\" stroke-linecap=\"round\" stroke-width=\"0.1000\" stroke=\"currentColor\" x1=\"0.0000\" y1=\"0.0000\" x2=\"5.6581\" y2=\"0.6666\"/>\n",
       "<line transform=\"translate(91.2130, 8.9194)\" stroke-linejoin=\"round\" stroke-linecap=\"round\" stroke-width=\"0.1000\" stroke=\"currentColor\" x1=\"0.0000\" y1=\"-0.0000\" x2=\"5.6581\" y2=\"-0.6666\"/>\n",
       "<path transform=\"translate(88.8268, 3.7760)\" stroke-width=\"0.0800\" stroke-linejoin=\"round\" stroke-linecap=\"round\" stroke=\"currentColor\" fill=\"currentColor\" d=\"M0.8521 2.7500C1.3434 3.3274 2.3798 3.3274 2.8711 2.7500L2.8711 2.7500C2.3798 3.2074 1.3434 3.2074 0.8521 2.7500z\"/>\n",
       "<line transform=\"translate(70.8726, 8.8260)\" stroke-linejoin=\"round\" stroke-linecap=\"round\" stroke-width=\"0.1000\" stroke=\"currentColor\" x1=\"0.0000\" y1=\"0.0000\" x2=\"6.1208\" y2=\"0.6666\"/>\n",
       "<line transform=\"translate(70.8726, 8.8260)\" stroke-linejoin=\"round\" stroke-linecap=\"round\" stroke-width=\"0.1000\" stroke=\"currentColor\" x1=\"0.0000\" y1=\"-0.0000\" x2=\"6.1208\" y2=\"-0.6666\"/>\n",
       "<polygon transform=\"translate(96.3559, 2.9660)\" stroke-linejoin=\"round\" stroke-linecap=\"round\" stroke-width=\"0.0800\" fill=\"currentColor\" stroke=\"currentColor\" points=\"2.7590 -0.5800 2.7590 -0.1800 0.0400 0.2000 0.0400 -0.2000\"/>\n",
       "<polygon transform=\"translate(96.3559, 3.7760)\" stroke-linejoin=\"round\" stroke-linecap=\"round\" stroke-width=\"0.0800\" fill=\"currentColor\" stroke=\"currentColor\" points=\"1.1250 -0.3582 1.1250 0.0418 0.0400 0.2000 0.0400 -0.2000\"/>\n",
       "<rect transform=\"translate(59.3433, 3.7760)\" x=\"-0.0650\" y=\"-1.2620\" width=\"0.1300\" height=\"3.0759\" ry=\"0.0400\" fill=\"currentColor\"/>\n",
       "<path transform=\"translate(58.1041, 5.7760) scale(0.0040, -0.0040)\" d=\"M218 136c55 0 108 -28 108 -89c0 -71 -55 -121 -102 -149c-35 -21 -75 -34 -116 -34c-55 0 -108 28 -108 89c0 71 55 121 102 149c35 21 75 34 116 34z\" fill=\"currentColor\"/>\n",
       "<path transform=\"translate(40.1937, 3.7760)\" stroke-width=\"0.0800\" stroke-linejoin=\"round\" stroke-linecap=\"round\" stroke=\"currentColor\" fill=\"currentColor\" d=\"M0.8521 2.0000C1.3434 2.5774 2.3798 2.5774 2.8711 2.0000L2.8711 2.0000C2.3798 2.4574 1.3434 2.4574 0.8521 2.0000z\"/>\n",
       "<path transform=\"translate(20.3248, 3.7760)\" stroke-width=\"0.0800\" stroke-linejoin=\"round\" stroke-linecap=\"round\" stroke=\"currentColor\" fill=\"currentColor\" d=\"M0.8521 2.7500C1.3434 3.3274 2.3798 3.3274 2.8711 2.7500L2.8711 2.7500C2.3798 3.2074 1.3434 3.2074 0.8521 2.7500z\"/>\n",
       "<polygon transform=\"translate(18.4100, 2.2760)\" stroke-linejoin=\"round\" stroke-linecap=\"round\" stroke-width=\"0.0800\" fill=\"currentColor\" stroke=\"currentColor\" points=\"5.5980 -0.7000 5.5980 -0.3000 0.0400 0.2000 0.0400 -0.2000\"/>\n",
       "<polygon transform=\"translate(18.4100, 3.0860)\" stroke-linejoin=\"round\" stroke-linecap=\"round\" stroke-width=\"0.0800\" fill=\"currentColor\" stroke=\"currentColor\" points=\"5.5980 -0.7000 5.5980 -0.3000 0.0400 0.2000 0.0400 -0.2000\"/>\n",
       "<line transform=\"translate(33.0933, 8.8260)\" stroke-linejoin=\"round\" stroke-linecap=\"round\" stroke-width=\"0.1000\" stroke=\"currentColor\" x1=\"0.0000\" y1=\"0.0000\" x2=\"8.5398\" y2=\"0.6666\"/>\n",
       "<line transform=\"translate(33.0933, 8.8260)\" stroke-linejoin=\"round\" stroke-linecap=\"round\" stroke-width=\"0.1000\" stroke=\"currentColor\" x1=\"0.0000\" y1=\"-0.0000\" x2=\"8.5398\" y2=\"-0.6666\"/>\n",
       "<path transform=\"translate(30.7071, 3.7760)\" stroke-width=\"0.0800\" stroke-linejoin=\"round\" stroke-linecap=\"round\" stroke=\"currentColor\" fill=\"currentColor\" d=\"M1.5042 1.2434C1.9599 1.7894 2.8781 1.7894 3.3338 1.2434L3.3338 1.2434C2.8781 1.6694 1.9599 1.6694 1.5042 1.2434z\"/>\n",
       "<polygon transform=\"translate(35.4151, 0.9660)\" stroke-linejoin=\"round\" stroke-linecap=\"round\" stroke-width=\"0.0800\" fill=\"currentColor\" stroke=\"currentColor\" points=\"6.0428 -0.2000 6.0428 0.2000 0.0400 0.2000 0.0400 -0.2000\"/>\n",
       "<polygon transform=\"translate(39.1989, 1.7760)\" stroke-linejoin=\"round\" stroke-linecap=\"round\" stroke-width=\"0.0800\" fill=\"currentColor\" stroke=\"currentColor\" points=\"2.2590 -0.2000 2.2590 0.2000 0.0400 0.2000 0.0400 -0.2000\"/>\n",
       "<line transform=\"translate(53.4227, 8.8260)\" stroke-linejoin=\"round\" stroke-linecap=\"round\" stroke-width=\"0.1000\" stroke=\"currentColor\" x1=\"0.0000\" y1=\"0.0000\" x2=\"6.1208\" y2=\"0.6666\"/>\n",
       "<line transform=\"translate(53.4227, 8.8260)\" stroke-linejoin=\"round\" stroke-linecap=\"round\" stroke-width=\"0.1000\" stroke=\"currentColor\" x1=\"0.0000\" y1=\"-0.0000\" x2=\"6.1208\" y2=\"-0.6666\"/>\n",
       "<path transform=\"translate(58.1041, 3.7760)\" stroke-width=\"0.0800\" stroke-linejoin=\"round\" stroke-linecap=\"round\" stroke=\"currentColor\" fill=\"currentColor\" d=\"M0.8521 2.7500C1.3434 3.3274 2.3798 3.3274 2.8711 2.7500L2.8711 2.7500C2.3798 3.2074 1.3434 3.2074 0.8521 2.7500z\"/>\n",
       "<polygon transform=\"translate(56.6093, 2.7760)\" stroke-linejoin=\"round\" stroke-linecap=\"round\" stroke-width=\"0.0800\" fill=\"currentColor\" stroke=\"currentColor\" points=\"5.1780 -0.7000 5.1780 -0.3000 0.0400 0.2000 0.0400 -0.2000\"/>\n",
       "<polygon transform=\"translate(56.6093, 3.5860)\" stroke-linejoin=\"round\" stroke-linecap=\"round\" stroke-width=\"0.0800\" fill=\"currentColor\" stroke=\"currentColor\" points=\"5.1780 -0.7000 5.1780 -0.3000 0.0400 0.2000 0.0400 -0.2000\"/>\n",
       "<rect transform=\"translate(52.2758, 3.7760)\" x=\"-0.0650\" y=\"-1.5000\" width=\"0.1300\" height=\"3.3139\" ry=\"0.0400\" fill=\"currentColor\"/>\n",
       "<path transform=\"translate(51.6887, 7.0170) scale(0.0040, -0.0040)\" d=\"M-211 88c-8 2 -14 9 -14 18c0 10 9 19 19 19c2 0 3 -1 4 -1l408 -105c13 0 19 -6 19 -19s-6 -19 -19 -19l-408 -105c-1 0 -2 -1 -4 -1c-10 0 -19 9 -19 19c0 9 6 16 14 18l251 65l140 23l-140 23z\" fill=\"currentColor\"/>\n",
       "<path transform=\"translate(50.9546, 9.4260) scale(0.0040, -0.0040)\" d=\"M233 243c-56 0 -102 -107 -102 -173c0 -22 8 -38 30 -38c64 0 97 126 97 178c0 18 -7 33 -25 33zM112 -146c-38 0 -78 5 -116 5c-39 0 -78 -5 -115 -5c-9 0 -14 7 -14 14c0 18 31 15 48 16c22 1 47 5 54 25l102 300c2 7 4 14 4 20c0 8 -2 14 -11 14\n",
       "c-33 0 -63 -60 -79 -97c-5 -12 -15 -17 -24 -17c-8 0 -14 4 -14 12c0 2 1 5 2 8c30 68 72 143 132 143c35 0 59 -21 66 -52c29 31 67 52 103 52c69 0 107 -49 107 -114c0 -21 -4 -44 -12 -67c-20 -58 -91 -119 -147 -119c-27 0 -52 5 -73 17c-4 2 -7 3 -11 3\n",
       "c-7 0 -14 -3 -16 -9l-29 -86c-1 -2 -1 -5 -1 -7c0 -20 21 -26 44 -28c9 -1 13 -8 13 -14c0 -7 -4 -14 -13 -14z\" fill=\"currentColor\"/>\n",
       "<path transform=\"translate(51.0366, 5.7760) scale(0.0040, -0.0040)\" d=\"M218 136c55 0 108 -28 108 -89c0 -71 -55 -121 -102 -149c-35 -21 -75 -34 -116 -34c-55 0 -108 28 -108 89c0 71 55 121 102 149c35 21 75 34 116 34z\" fill=\"currentColor\"/>\n",
       "<path transform=\"translate(46.5449, 3.2760) scale(0.0040, -0.0040)\" d=\"M0 0c0 31 25 56 56 56s56 -25 56 -56s-25 -56 -56 -56s-56 25 -56 56z\" fill=\"currentColor\"/>\n",
       "<path transform=\"translate(45.0949, 3.7760) scale(0.0040, -0.0040)\" d=\"M72 -250l117 326c-34 -12 -69 -22 -105 -22c-46 0 -87 33 -87 79c0 40 33 72 73 72c25 0 48 -15 56 -39c10 -28 6 -59 35 -59c16 0 54 48 61 63c6 12 23 12 28 0l-123 -420c-8 -7 -17 -10 -27 -10s-20 3 -28 10z\" fill=\"currentColor\"/>\n",
       "<rect transform=\"translate(56.6743, 3.7760)\" x=\"-0.0650\" y=\"-1.0062\" width=\"0.1300\" height=\"3.8201\" ry=\"0.0400\" fill=\"currentColor\"/>\n",
       "<path transform=\"translate(55.4351, 6.7760) scale(0.0040, -0.0040)\" d=\"M218 136c55 0 108 -28 108 -89c0 -71 -55 -121 -102 -149c-35 -21 -75 -34 -116 -34c-55 0 -108 28 -108 89c0 71 55 121 102 149c35 21 75 34 116 34z\" fill=\"currentColor\"/>\n",
       "<path transform=\"translate(43.9169, 1.3160) scale(0.0040, -0.0040)\" d=\"M0 0c0 -177 201 -293 201 -470c0 -33 -9 -65 -23 -95c18 -37 29 -75 29 -117c0 -63 -15 -125 -41 -183c-5 -8 -13 -12 -20 -12c-13 0 -26 11 -23 27c26 52 42 110 42 168c0 97 -94 190 -165 257v-75h-16v500h16zM151 -517c5 15 8 31 8 47c0 96 -91 190 -159 257\n",
       "c0 -118 90 -206 151 -304z\" fill=\"currentColor\"/>\n",
       "<path transform=\"translate(49.8866, 5.7760) scale(0.0040, -0.0040)\" d=\"M27 41l-1 -66v-11c0 -22 1 -44 4 -66c45 38 93 80 93 139c0 33 -14 67 -43 67c-31 0 -52 -30 -53 -63zM-15 -138l-12 595c8 5 18 8 27 8s19 -3 27 -8l-7 -345c25 21 58 34 91 34c52 0 89 -48 89 -102c0 -80 -86 -117 -147 -169c-15 -13 -24 -38 -45 -38\n",
       "c-13 0 -23 11 -23 25z\" fill=\"currentColor\"/>\n",
       "<rect transform=\"translate(69.7256, 3.7760)\" x=\"-0.0650\" y=\"-2.5000\" width=\"0.1300\" height=\"3.3139\" ry=\"0.0400\" fill=\"currentColor\"/>\n",
       "<rect transform=\"translate(73.2594, 3.7760)\" x=\"-0.0650\" y=\"-2.8100\" width=\"0.1300\" height=\"3.6239\" ry=\"0.0400\" fill=\"currentColor\"/>\n",
       "<path transform=\"translate(72.0202, 4.7760) scale(0.0040, -0.0040)\" d=\"M218 136c55 0 108 -28 108 -89c0 -71 -55 -121 -102 -149c-35 -21 -75 -34 -116 -34c-55 0 -108 28 -108 89c0 71 55 121 102 149c35 21 75 34 116 34z\" fill=\"currentColor\"/>\n",
       "<path transform=\"translate(69.7906, 1.3160) scale(0.0040, -0.0040)\" d=\"M0 0c0 -197 207 -336 207 -533c0 -71 -15 -141 -41 -207c-5 -8 -13 -12 -20 -12c-13 0 -26 11 -23 27c26 61 42 126 42 192c0 103 -94 208 -165 283h-16v250h16z\" fill=\"currentColor\"/>\n",
       "<path transform=\"translate(69.1385, 6.5260) scale(0.0040, -0.0040)\" d=\"M-211 88c-8 2 -14 9 -14 18c0 10 9 19 19 19c2 0 3 -1 4 -1l408 -105c13 0 19 -6 19 -19s-6 -19 -19 -19l-408 -105c-1 0 -2 -1 -4 -1c-10 0 -19 9 -19 19c0 9 6 16 14 18l251 65l140 23l-140 23z\" fill=\"currentColor\"/>\n",
       "<path transform=\"translate(68.4044, 9.4260) scale(0.0040, -0.0040)\" d=\"M233 243c-56 0 -102 -107 -102 -173c0 -22 8 -38 30 -38c64 0 97 126 97 178c0 18 -7 33 -25 33zM112 -146c-38 0 -78 5 -116 5c-39 0 -78 -5 -115 -5c-9 0 -14 7 -14 14c0 18 31 15 48 16c22 1 47 5 54 25l102 300c2 7 4 14 4 20c0 8 -2 14 -11 14\n",
       "c-33 0 -63 -60 -79 -97c-5 -12 -15 -17 -24 -17c-8 0 -14 4 -14 12c0 2 1 5 2 8c30 68 72 143 132 143c35 0 59 -21 66 -52c29 31 67 52 103 52c69 0 107 -49 107 -114c0 -21 -4 -44 -12 -67c-20 -58 -91 -119 -147 -119c-27 0 -52 5 -73 17c-4 2 -7 3 -11 3\n",
       "c-7 0 -14 -3 -16 -9l-29 -86c-1 -2 -1 -5 -1 -7c0 -20 21 -26 44 -28c9 -1 13 -8 13 -14c0 -7 -4 -14 -13 -14z\" fill=\"currentColor\"/>\n",
       "<path transform=\"translate(68.4864, 4.7760) scale(0.0040, -0.0040)\" d=\"M218 136c55 0 108 -28 108 -89c0 -71 -55 -121 -102 -149c-35 -21 -75 -34 -116 -34c-55 0 -108 28 -108 89c0 71 55 121 102 149c35 21 75 34 116 34z\" fill=\"currentColor\"/>\n",
       "<path transform=\"translate(65.2569, 3.7760) scale(0.0040, -0.0040)\" d=\"M72 -250l117 326c-34 -12 -69 -22 -105 -22c-46 0 -87 33 -87 79c0 40 33 72 73 72c25 0 48 -15 56 -39c10 -28 6 -59 35 -59c16 0 54 48 61 63c6 12 23 12 28 0l-123 -420c-8 -7 -17 -10 -27 -10s-20 3 -28 10z\" fill=\"currentColor\"/>\n",
       "<path transform=\"translate(77.9729, 4.7760) scale(0.0040, -0.0040)\" d=\"M218 136c55 0 108 -28 108 -89c0 -71 -55 -121 -102 -149c-35 -21 -75 -34 -116 -34c-55 0 -108 28 -108 89c0 71 55 121 102 149c35 21 75 34 116 34z\" fill=\"currentColor\"/>\n",
       "<rect transform=\"translate(79.2122, 3.7760)\" x=\"-0.0650\" y=\"-2.8100\" width=\"0.1300\" height=\"3.6239\" ry=\"0.0400\" fill=\"currentColor\"/>\n",
       "<path transform=\"translate(77.9934, 9.4260) scale(0.0040, -0.0040)\" d=\"M253 245l-50 -163c-30 -99 -121 -255 -218 -255c-45 0 -87 27 -87 69c0 39 17 77 52 77c24 0 44 -20 44 -44c0 -30 -38 -24 -38 -54c0 -10 11 -11 23 -11h6c48 0 61 58 73 108l68 273h-49c-11 0 -19 8 -19 19s8 19 19 19h60c32 96 118 191 213 191c45 0 87 -27 87 -69\n",
       "c0 -39 -17 -77 -52 -77c-24 0 -44 19 -44 43c0 30 38 25 38 55c0 10 -10 11 -22 11h-7c-62 0 -70 -88 -86 -154h55c11 0 19 -8 19 -19s-8 -19 -19 -19h-66z\" fill=\"currentColor\"/>\n",
       "<rect transform=\"translate(77.0432, 3.7760)\" x=\"-0.0650\" y=\"-2.8100\" width=\"0.1300\" height=\"2.1239\" ry=\"0.0400\" fill=\"currentColor\"/>\n",
       "<path transform=\"translate(75.8040, 3.2760) scale(0.0040, -0.0040)\" d=\"M218 136c55 0 108 -28 108 -89c0 -71 -55 -121 -102 -149c-35 -21 -75 -34 -116 -34c-55 0 -108 28 -108 89c0 71 55 121 102 149c35 21 75 34 116 34z\" fill=\"currentColor\"/>\n",
       "<path transform=\"translate(9.3358, 4.7760) scale(0.0040, -0.0040)\" d=\"M376 262c4 0 9 1 13 1c155 0 256 -128 256 -261c0 -76 -33 -154 -107 -210c-22 -17 -47 -28 -73 -36c3 -35 5 -70 5 -105c0 -19 -1 -39 -2 -58c-7 -120 -90 -228 -208 -228c-108 0 -195 88 -195 197c0 58 53 103 112 103c54 0 95 -47 95 -103c0 -52 -43 -95 -95 -95\n",
       "c-11 0 -21 2 -31 6c26 -39 68 -65 117 -65c96 0 157 92 163 191c1 18 2 37 2 55c0 31 -1 61 -4 92c-29 -5 -58 -8 -89 -8c-188 0 -333 172 -333 374c0 177 131 306 248 441c-19 62 -37 125 -45 190c-6 52 -7 104 -7 156c0 115 55 224 149 292c3 2 7 3 10 3c4 0 7 0 10 -3\n",
       "c71 -84 133 -245 133 -358c0 -143 -86 -255 -180 -364c21 -68 39 -138 56 -207zM461 -203c68 24 113 95 113 164c0 90 -66 179 -173 190c24 -116 46 -231 60 -354zM74 28c0 -135 129 -247 264 -247c28 0 55 2 82 6c-14 127 -37 245 -63 364c-79 -8 -124 -61 -124 -119\n",
       "c0 -44 25 -91 81 -123c5 -5 7 -10 7 -15c0 -11 -10 -22 -22 -22c-3 0 -6 1 -9 2c-80 43 -117 115 -117 185c0 88 58 174 160 197c-14 58 -29 117 -46 175c-107 -121 -213 -243 -213 -403zM408 1045c-99 -48 -162 -149 -162 -259c0 -74 18 -133 36 -194\n",
       "c80 97 146 198 146 324c0 55 -4 79 -20 129z\" fill=\"currentColor\"/>\n",
       "<rect transform=\"translate(18.4750, 3.7760)\" x=\"-0.0650\" y=\"-1.5058\" width=\"0.1300\" height=\"4.3197\" ry=\"0.0400\" fill=\"currentColor\"/>\n",
       "<path transform=\"translate(13.5358, 3.7760) scale(0.0040, -0.0040)\" d=\"M359 27c-49 0 -75 42 -75 75c0 38 27 77 72 77c4 0 9 0 14 -1c-28 37 -72 59 -120 59c-106 0 -113 -73 -113 -186v-51v-51c0 -113 7 -187 113 -187c80 0 139 70 158 151c2 7 7 10 12 10c6 0 13 -4 13 -12c0 -94 -105 -174 -183 -174c-68 0 -137 21 -184 70\n",
       "c-49 51 -66 122 -66 193s17 142 66 193c47 49 116 69 184 69c87 0 160 -64 175 -150c1 -5 1 -9 1 -13c0 -40 -30 -72 -67 -72z\" fill=\"currentColor\"/>\n",
       "<path transform=\"translate(17.8879, 8.0170) scale(0.0040, -0.0040)\" d=\"M-211 88c-8 2 -14 9 -14 18c0 10 9 19 19 19c2 0 3 -1 4 -1l408 -105c13 0 19 -6 19 -19s-6 -19 -19 -19l-408 -105c-1 0 -2 -1 -4 -1c-10 0 -19 9 -19 19c0 9 6 16 14 18l251 65l140 23l-140 23z\" fill=\"currentColor\"/>\n",
       "<path transform=\"translate(17.1538, 10.1627) scale(0.0040, -0.0040)\" d=\"M233 243c-56 0 -102 -107 -102 -173c0 -22 8 -38 30 -38c64 0 97 126 97 178c0 18 -7 33 -25 33zM112 -146c-38 0 -78 5 -116 5c-39 0 -78 -5 -115 -5c-9 0 -14 7 -14 14c0 18 31 15 48 16c22 1 47 5 54 25l102 300c2 7 4 14 4 20c0 8 -2 14 -11 14\n",
       "c-33 0 -63 -60 -79 -97c-5 -12 -15 -17 -24 -17c-8 0 -14 4 -14 12c0 2 1 5 2 8c30 68 72 143 132 143c35 0 59 -21 66 -52c29 31 67 52 103 52c69 0 107 -49 107 -114c0 -21 -4 -44 -12 -67c-20 -58 -91 -119 -147 -119c-27 0 -52 5 -73 17c-4 2 -7 3 -11 3\n",
       "c-7 0 -14 -3 -16 -9l-29 -86c-1 -2 -1 -5 -1 -7c0 -20 21 -26 44 -28c9 -1 13 -8 13 -14c0 -7 -4 -14 -13 -14z\" fill=\"currentColor\"/>\n",
       "<path transform=\"translate(17.2358, 6.7760) scale(0.0040, -0.0040)\" d=\"M218 136c55 0 108 -28 108 -89c0 -71 -55 -121 -102 -149c-35 -21 -75 -34 -116 -34c-55 0 -108 28 -108 89c0 71 55 121 102 149c35 21 75 34 116 34z\" fill=\"currentColor\"/>\n",
       "<rect transform=\"translate(61.7623, 3.7760)\" x=\"-0.0650\" y=\"-1.4938\" width=\"0.1300\" height=\"3.3077\" ry=\"0.0400\" fill=\"currentColor\"/>\n",
       "<path transform=\"translate(62.9421, 3.7760) scale(0.0040, -0.0040)\" d=\"M66 -500l101 327c-34 -12 -70 -23 -106 -23c-46 0 -87 33 -87 79c0 40 32 72 72 72c25 0 49 -15 57 -39c10 -28 5 -59 34 -59c16 0 55 51 60 68l46 151c-34 -12 -68 -22 -104 -22c-46 0 -87 33 -87 79c0 40 33 72 73 72c25 0 48 -15 56 -39c10 -28 5 -59 34 -59\n",
       "c15 0 50 49 57 63c6 12 23 12 28 0l-179 -670c-8 -7 -17 -10 -27 -10s-20 3 -28 10z\" fill=\"currentColor\"/>\n",
       "<path transform=\"translate(60.5435, 9.4260) scale(0.0040, -0.0040)\" d=\"M253 245l-50 -163c-30 -99 -121 -255 -218 -255c-45 0 -87 27 -87 69c0 39 17 77 52 77c24 0 44 -20 44 -44c0 -30 -38 -24 -38 -54c0 -10 11 -11 23 -11h6c48 0 61 58 73 108l68 273h-49c-11 0 -19 8 -19 19s8 19 19 19h60c32 96 118 191 213 191c45 0 87 -27 87 -69\n",
       "c0 -39 -17 -77 -52 -77c-24 0 -44 19 -44 43c0 30 38 25 38 55c0 10 -10 11 -22 11h-7c-62 0 -70 -88 -86 -154h55c11 0 19 -8 19 -19s-8 -19 -19 -19h-66z\" fill=\"currentColor\"/>\n",
       "<path transform=\"translate(60.5231, 5.7760) scale(0.0040, -0.0040)\" d=\"M218 136c55 0 108 -28 108 -89c0 -71 -55 -121 -102 -149c-35 -21 -75 -34 -116 -34c-55 0 -108 28 -108 89c0 71 55 121 102 149c35 21 75 34 116 34z\" fill=\"currentColor\"/>\n",
       "<path transform=\"translate(87.6768, 5.7760) scale(0.0040, -0.0040)\" d=\"M27 41l-1 -66v-11c0 -22 1 -44 4 -66c45 38 93 80 93 139c0 33 -14 67 -43 67c-31 0 -52 -30 -53 -63zM-15 -138l-12 595c8 5 18 8 27 8s19 -3 27 -8l-7 -345c25 21 58 34 91 34c52 0 89 -48 89 -102c0 -80 -86 -117 -147 -169c-15 -13 -24 -38 -45 -38\n",
       "c-13 0 -23 11 -23 25z\" fill=\"currentColor\"/>\n",
       "<rect transform=\"translate(92.4850, 3.7760)\" x=\"-0.0650\" y=\"-1.0000\" width=\"0.1300\" height=\"2.8139\" ry=\"0.0400\" fill=\"currentColor\"/>\n",
       "<path transform=\"translate(93.0000, 5.2760) scale(0.0040, -0.0040)\" d=\"M0 0c0 31 25 56 56 56s56 -25 56 -56s-25 -56 -56 -56s-56 25 -56 56z\" fill=\"currentColor\"/>\n",
       "<path transform=\"translate(91.2458, 5.7760) scale(0.0040, -0.0040)\" d=\"M218 136c55 0 108 -28 108 -89c0 -71 -55 -121 -102 -149c-35 -21 -75 -34 -116 -34c-55 0 -108 28 -108 89c0 71 55 121 102 149c35 21 75 34 116 34z\" fill=\"currentColor\"/>\n",
       "<rect transform=\"translate(90.0660, 3.7760)\" x=\"-0.0650\" y=\"-1.0000\" width=\"0.1300\" height=\"2.8139\" ry=\"0.0400\" fill=\"currentColor\"/>\n",
       "<path transform=\"translate(89.4789, 7.3737) scale(0.0040, -0.0040)\" d=\"M-211 88c-8 2 -14 9 -14 18c0 10 9 19 19 19c2 0 3 -1 4 -1l408 -105c13 0 19 -6 19 -19s-6 -19 -19 -19l-408 -105c-1 0 -2 -1 -4 -1c-10 0 -19 9 -19 19c0 9 6 16 14 18l251 65l140 23l-140 23z\" fill=\"currentColor\"/>\n",
       "<path transform=\"translate(88.7449, 9.5194) scale(0.0040, -0.0040)\" d=\"M233 243c-56 0 -102 -107 -102 -173c0 -22 8 -38 30 -38c64 0 97 126 97 178c0 18 -7 33 -25 33zM112 -146c-38 0 -78 5 -116 5c-39 0 -78 -5 -115 -5c-9 0 -14 7 -14 14c0 18 31 15 48 16c22 1 47 5 54 25l102 300c2 7 4 14 4 20c0 8 -2 14 -11 14\n",
       "c-33 0 -63 -60 -79 -97c-5 -12 -15 -17 -24 -17c-8 0 -14 4 -14 12c0 2 1 5 2 8c30 68 72 143 132 143c35 0 59 -21 66 -52c29 31 67 52 103 52c69 0 107 -49 107 -114c0 -21 -4 -44 -12 -67c-20 -58 -91 -119 -147 -119c-27 0 -52 5 -73 17c-4 2 -7 3 -11 3\n",
       "c-7 0 -14 -3 -16 -9l-29 -86c-1 -2 -1 -5 -1 -7c0 -20 21 -26 44 -28c9 -1 13 -8 13 -14c0 -7 -4 -14 -13 -14z\" fill=\"currentColor\"/>\n",
       "<path transform=\"translate(97.8507, 5.7760) scale(0.0040, -0.0040)\" d=\"M218 136c55 0 108 -28 108 -89c0 -71 -55 -121 -102 -149c-35 -21 -75 -34 -116 -34c-55 0 -108 28 -108 89c0 71 55 121 102 149c35 21 75 34 116 34z\" fill=\"currentColor\"/>\n",
       "<path transform=\"translate(102.8345, 3.2760) scale(0.0040, -0.0040)\" d=\"M0 0c0 31 25 56 56 56s56 -25 56 -56s-25 -56 -56 -56s-56 25 -56 56z\" fill=\"currentColor\"/>\n",
       "<path transform=\"translate(101.3845, 3.7760) scale(0.0040, -0.0040)\" d=\"M72 -250l117 326c-34 -12 -69 -22 -105 -22c-46 0 -87 33 -87 79c0 40 33 72 73 72c25 0 48 -15 56 -39c10 -28 6 -59 35 -59c16 0 54 48 61 63c6 12 23 12 28 0l-123 -420c-8 -7 -17 -10 -27 -10s-20 3 -28 10z\" fill=\"currentColor\"/>\n",
       "<rect transform=\"translate(99.0899, 3.7760)\" x=\"-0.0650\" y=\"-1.1812\" width=\"0.1300\" height=\"2.9951\" ry=\"0.0400\" fill=\"currentColor\"/>\n",
       "<path transform=\"translate(97.8711, 9.5194) scale(0.0040, -0.0040)\" d=\"M253 245l-50 -163c-30 -99 -121 -255 -218 -255c-45 0 -87 27 -87 69c0 39 17 77 52 77c24 0 44 -20 44 -44c0 -30 -38 -24 -38 -54c0 -10 11 -11 23 -11h6c48 0 61 58 73 108l68 273h-49c-11 0 -19 8 -19 19s8 19 19 19h60c32 96 118 191 213 191c45 0 87 -27 87 -69\n",
       "c0 -39 -17 -77 -52 -77c-24 0 -44 19 -44 43c0 30 38 25 38 55c0 10 -10 11 -22 11h-7c-62 0 -70 -88 -86 -154h55c11 0 19 -8 19 -19s-8 -19 -19 -19h-66z\" fill=\"currentColor\"/>\n",
       "<rect transform=\"translate(96.4209, 3.7760)\" x=\"-0.0650\" y=\"-0.8188\" width=\"0.1300\" height=\"3.6327\" ry=\"0.0400\" fill=\"currentColor\"/>\n",
       "<path transform=\"translate(95.1817, 6.7760) scale(0.0040, -0.0040)\" d=\"M218 136c55 0 108 -28 108 -89c0 -71 -55 -121 -102 -149c-35 -21 -75 -34 -116 -34c-55 0 -108 28 -108 89c0 71 55 121 102 149c35 21 75 34 116 34z\" fill=\"currentColor\"/>\n",
       "<path transform=\"translate(82.6125, 3.7760) scale(0.0040, -0.0040)\" d=\"M72 -250l117 326c-34 -12 -69 -22 -105 -22c-46 0 -87 33 -87 79c0 40 33 72 73 72c25 0 48 -15 56 -39c10 -28 6 -59 35 -59c16 0 54 48 61 63c6 12 23 12 28 0l-123 -420c-8 -7 -17 -10 -27 -10s-20 3 -28 10z\" fill=\"currentColor\"/>\n",
       "<path transform=\"translate(88.8268, 5.7760) scale(0.0040, -0.0040)\" d=\"M218 136c55 0 108 -28 108 -89c0 -71 -55 -121 -102 -149c-35 -21 -75 -34 -116 -34c-55 0 -108 28 -108 89c0 71 55 121 102 149c35 21 75 34 116 34z\" fill=\"currentColor\"/>\n",
       "<path transform=\"translate(85.8420, 3.7760) scale(0.0040, -0.0040)\" d=\"M66 -500l101 327c-34 -12 -70 -23 -106 -23c-46 0 -87 33 -87 79c0 40 32 72 72 72c25 0 49 -15 57 -39c10 -28 5 -59 34 -59c16 0 55 51 60 68l46 151c-34 -12 -68 -22 -104 -22c-46 0 -87 33 -87 79c0 40 33 72 73 72c25 0 48 -15 56 -39c10 -28 5 -59 34 -59\n",
       "c15 0 50 49 57 63c6 12 23 12 28 0l-179 -670c-8 -7 -17 -10 -27 -10s-20 3 -28 10z\" fill=\"currentColor\"/>\n",
       "</svg>\n"
      ]
     },
     "metadata": {},
     "output_type": "display_data"
    }
   ],
   "source": [
    "music = make_music(time_signature_pairs, counts, denominator, pitches)\n",
    "abjad.show(music)"
   ]
  },
  {
   "cell_type": "markdown",
   "metadata": {},
   "source": [
    "## Conclusion\n",
    "We've now converted our procedural code into reusable functions. You might notice that we're passing the same variables into these functions, over and over. This is usually a good hint that it might be a good idea to refactor the code with an object-oriented frame of mind. In our next notebook, these reusable functions will become the methods of a music-making class."
   ]
  }
 ],
 "metadata": {
  "kernelspec": {
   "display_name": "Python 3",
   "language": "python",
   "name": "python3"
  },
  "language_info": {
   "codemirror_mode": {
    "name": "ipython",
    "version": 3
   },
   "file_extension": ".py",
   "mimetype": "text/x-python",
   "name": "python",
   "nbconvert_exporter": "python",
   "pygments_lexer": "ipython3",
   "version": "3.7.3"
  }
 },
 "nbformat": 4,
 "nbformat_minor": 2
}
